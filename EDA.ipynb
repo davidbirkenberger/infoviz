{
 "cells": [
  {
   "cell_type": "markdown",
   "metadata": {},
   "source": [
    "# Exploratory Data Analysis"
   ]
  },
  {
   "cell_type": "code",
   "execution_count": 1,
   "metadata": {},
   "outputs": [],
   "source": [
    "import pandas as pd\n",
    "from matplotlib import pyplot as plt\n",
    "import numpy as np\n",
    "import seaborn as sns"
   ]
  },
  {
   "cell_type": "markdown",
   "metadata": {},
   "source": [
    "## Import Data"
   ]
  },
  {
   "cell_type": "code",
   "execution_count": 9,
   "metadata": {},
   "outputs": [
    {
     "data": {
      "text/html": [
       "<div>\n",
       "<style scoped>\n",
       "    .dataframe tbody tr th:only-of-type {\n",
       "        vertical-align: middle;\n",
       "    }\n",
       "\n",
       "    .dataframe tbody tr th {\n",
       "        vertical-align: top;\n",
       "    }\n",
       "\n",
       "    .dataframe thead th {\n",
       "        text-align: right;\n",
       "    }\n",
       "</style>\n",
       "<table border=\"1\" class=\"dataframe\">\n",
       "  <thead>\n",
       "    <tr style=\"text-align: right;\">\n",
       "      <th></th>\n",
       "      <th>Variable</th>\n",
       "      <th>Category</th>\n",
       "      <th>Bachelor Agrarwissenschaften</th>\n",
       "      <th>Bachelor Ernährungswissenschaften</th>\n",
       "      <th>Bachelor Ökotrophologie</th>\n",
       "      <th>Bachelor Umwelt und globaler Wandel</th>\n",
       "      <th>Master Ernährungswissenschaften</th>\n",
       "      <th>Master  Ernährungsökonomie*</th>\n",
       "      <th>Master Nutztierwissenschaften</th>\n",
       "      <th>Master Pflanzenproduktion</th>\n",
       "      <th>Master Oenologie/Weinwirtschaft*</th>\n",
       "      <th>Master Getränketechnologi</th>\n",
       "    </tr>\n",
       "  </thead>\n",
       "  <tbody>\n",
       "    <tr>\n",
       "      <th>0</th>\n",
       "      <td>Geschlecht</td>\n",
       "      <td>Männlich (%)</td>\n",
       "      <td>36.0</td>\n",
       "      <td>10.0</td>\n",
       "      <td>9.0</td>\n",
       "      <td>39.0</td>\n",
       "      <td>5.0</td>\n",
       "      <td>15.0</td>\n",
       "      <td>11.0</td>\n",
       "      <td>40.0</td>\n",
       "      <td>27.0</td>\n",
       "      <td>38.0</td>\n",
       "    </tr>\n",
       "    <tr>\n",
       "      <th>1</th>\n",
       "      <td>Geschlecht</td>\n",
       "      <td>Weiblich (%)</td>\n",
       "      <td>64.0</td>\n",
       "      <td>90.0</td>\n",
       "      <td>91.0</td>\n",
       "      <td>61.0</td>\n",
       "      <td>95.0</td>\n",
       "      <td>85.0</td>\n",
       "      <td>89.0</td>\n",
       "      <td>60.0</td>\n",
       "      <td>73.0</td>\n",
       "      <td>63.0</td>\n",
       "    </tr>\n",
       "    <tr>\n",
       "      <th>2</th>\n",
       "      <td>Geschlecht</td>\n",
       "      <td>Gesamt (%)</td>\n",
       "      <td>100.0</td>\n",
       "      <td>100.0</td>\n",
       "      <td>100.0</td>\n",
       "      <td>100.0</td>\n",
       "      <td>100.0</td>\n",
       "      <td>100.0</td>\n",
       "      <td>100.0</td>\n",
       "      <td>100.0</td>\n",
       "      <td>100.0</td>\n",
       "      <td>100.0</td>\n",
       "    </tr>\n",
       "    <tr>\n",
       "      <th>3</th>\n",
       "      <td>Geschlecht</td>\n",
       "      <td>Anzahl</td>\n",
       "      <td>55.0</td>\n",
       "      <td>71.0</td>\n",
       "      <td>117.0</td>\n",
       "      <td>64.0</td>\n",
       "      <td>57.0</td>\n",
       "      <td>26.0</td>\n",
       "      <td>9.0</td>\n",
       "      <td>5.0</td>\n",
       "      <td>11.0</td>\n",
       "      <td>8.0</td>\n",
       "    </tr>\n",
       "    <tr>\n",
       "      <th>4</th>\n",
       "      <td>Alter</td>\n",
       "      <td>unter 18 Jahre (%)</td>\n",
       "      <td>NaN</td>\n",
       "      <td>NaN</td>\n",
       "      <td>NaN</td>\n",
       "      <td>NaN</td>\n",
       "      <td>NaN</td>\n",
       "      <td>NaN</td>\n",
       "      <td>NaN</td>\n",
       "      <td>NaN</td>\n",
       "      <td>NaN</td>\n",
       "      <td>NaN</td>\n",
       "    </tr>\n",
       "  </tbody>\n",
       "</table>\n",
       "</div>"
      ],
      "text/plain": [
       "     Variable            Category  Bachelor Agrarwissenschaften  \\\n",
       "0  Geschlecht        Männlich (%)                          36.0   \n",
       "1  Geschlecht        Weiblich (%)                          64.0   \n",
       "2  Geschlecht          Gesamt (%)                         100.0   \n",
       "3  Geschlecht              Anzahl                          55.0   \n",
       "4       Alter  unter 18 Jahre (%)                           NaN   \n",
       "\n",
       "   Bachelor Ernährungswissenschaften  Bachelor Ökotrophologie  \\\n",
       "0                               10.0                      9.0   \n",
       "1                               90.0                     91.0   \n",
       "2                              100.0                    100.0   \n",
       "3                               71.0                    117.0   \n",
       "4                                NaN                      NaN   \n",
       "\n",
       "   Bachelor Umwelt und globaler Wandel  Master Ernährungswissenschaften   \\\n",
       "0                                 39.0                               5.0   \n",
       "1                                 61.0                              95.0   \n",
       "2                                100.0                             100.0   \n",
       "3                                 64.0                              57.0   \n",
       "4                                  NaN                               NaN   \n",
       "\n",
       "   Master  Ernährungsökonomie*  Master Nutztierwissenschaften  \\\n",
       "0                         15.0                           11.0   \n",
       "1                         85.0                           89.0   \n",
       "2                        100.0                          100.0   \n",
       "3                         26.0                            9.0   \n",
       "4                          NaN                            NaN   \n",
       "\n",
       "   Master Pflanzenproduktion  Master Oenologie/Weinwirtschaft*  \\\n",
       "0                       40.0                              27.0   \n",
       "1                       60.0                              73.0   \n",
       "2                      100.0                             100.0   \n",
       "3                        5.0                              11.0   \n",
       "4                        NaN                               NaN   \n",
       "\n",
       "   Master Getränketechnologi  \n",
       "0                       38.0  \n",
       "1                       63.0  \n",
       "2                      100.0  \n",
       "3                        8.0  \n",
       "4                        NaN  "
      ]
     },
     "execution_count": 9,
     "metadata": {},
     "output_type": "execute_result"
    }
   ],
   "source": [
    "df = pd.read_excel(\"data.xlsx\", sheet_name=\"2015\")\n",
    "df.head()"
   ]
  },
  {
   "cell_type": "code",
   "execution_count": 11,
   "metadata": {},
   "outputs": [
    {
     "data": {
      "text/plain": [
       "array(['Geschlecht', 'Alter', 'Staatsangehörigkeit',\n",
       "       'Migrationshintergrund', 'Fachsemester', 'Zufriedenheit',\n",
       "       'Subjektive Leistungseinschätzung', 'Studienbeeinträchtigungen',\n",
       "       'Rücklaufquote '], dtype=object)"
      ]
     },
     "execution_count": 11,
     "metadata": {},
     "output_type": "execute_result"
    }
   ],
   "source": [
    "df[\"Variable\"].unique()"
   ]
  },
  {
   "cell_type": "code",
   "execution_count": null,
   "metadata": {},
   "outputs": [],
   "source": [
    "df"
   ]
  }
 ],
 "metadata": {
  "kernelspec": {
   "display_name": ".venv",
   "language": "python",
   "name": "python3"
  },
  "language_info": {
   "codemirror_mode": {
    "name": "ipython",
    "version": 3
   },
   "file_extension": ".py",
   "mimetype": "text/x-python",
   "name": "python",
   "nbconvert_exporter": "python",
   "pygments_lexer": "ipython3",
   "version": "3.12.4"
  }
 },
 "nbformat": 4,
 "nbformat_minor": 2
}
