{
 "cells": [
  {
   "cell_type": "markdown",
   "metadata": {},
   "source": [
    "# Alter\n",
    "\n"
   ]
  },
  {
   "cell_type": "code",
   "execution_count": 45,
   "metadata": {},
   "outputs": [],
   "source": [
    "import plotly.io as pio\n",
    "\n",
    "# Template\n",
    "infoviz_template = dict(\n",
    "    layout=dict(\n",
    "        template=\"plotly_white\",\n",
    "        title=dict(\n",
    "            font=dict(size=20, family=\"Arial\", weight=\"bold\", color=\"black\"),\n",
    "            xanchor=\"left\",  \n",
    "            xref=\"paper\",\n",
    "            x=0,\n",
    "            subtitle=dict(\n",
    "                text=\"\",\n",
    "                font=dict(color=\"gray\", size=13),\n",
    "            ),\n",
    "        ),\n",
    "        xaxis=dict(\n",
    "            showgrid=False,\n",
    "            zerolinecolor=\"lightgrey\",\n",
    "            tickfont=dict(color=\"grey\", size=12),\n",
    "            title_font=dict(color=\"grey\", weight=\"bold\", size=13),\n",
    "            title_standoff=15,\n",
    "            ticklabelstandoff=10,\n",
    "            ticklabelposition=\"outside bottom\"\n",
    "        ),\n",
    "        yaxis=dict(\n",
    "            showgrid=True, gridcolor=\"lightgrey\",\n",
    "            zerolinecolor=\"lightgrey\",\n",
    "            tickfont=dict(color=\"grey\", size=12),\n",
    "            title_font=dict(color=\"grey\", weight=\"bold\", size=13),\n",
    "            title_standoff=15,\n",
    "            ticklabelstandoff=10,\n",
    "            ticklabelposition=\"outside left\"\n",
    "        ),\n",
    "    )\n",
    ")\n",
    "pio.templates[\"infoviz\"] = infoviz_template"
   ]
  },
  {
   "cell_type": "markdown",
   "metadata": {},
   "source": [
    "## Import Data"
   ]
  },
  {
   "cell_type": "code",
   "execution_count": 46,
   "metadata": {},
   "outputs": [
    {
     "data": {
      "text/html": [
       "<div>\n",
       "<style scoped>\n",
       "    .dataframe tbody tr th:only-of-type {\n",
       "        vertical-align: middle;\n",
       "    }\n",
       "\n",
       "    .dataframe tbody tr th {\n",
       "        vertical-align: top;\n",
       "    }\n",
       "\n",
       "    .dataframe thead th {\n",
       "        text-align: right;\n",
       "    }\n",
       "</style>\n",
       "<table border=\"1\" class=\"dataframe\">\n",
       "  <thead>\n",
       "    <tr style=\"text-align: right;\">\n",
       "      <th></th>\n",
       "      <th>Altersgruppe</th>\n",
       "      <th>Bachelor (%)</th>\n",
       "      <th>Master (%)</th>\n",
       "    </tr>\n",
       "  </thead>\n",
       "  <tbody>\n",
       "    <tr>\n",
       "      <th>1</th>\n",
       "      <td>18 bis 20 Jahre (%)</td>\n",
       "      <td>-24.010204</td>\n",
       "      <td>0.000000</td>\n",
       "    </tr>\n",
       "    <tr>\n",
       "      <th>2</th>\n",
       "      <td>21 bis 23 Jahre (%)</td>\n",
       "      <td>-42.586735</td>\n",
       "      <td>17.827815</td>\n",
       "    </tr>\n",
       "    <tr>\n",
       "      <th>3</th>\n",
       "      <td>24 bis 26 Jahre (%)</td>\n",
       "      <td>-20.551020</td>\n",
       "      <td>39.874172</td>\n",
       "    </tr>\n",
       "    <tr>\n",
       "      <th>4</th>\n",
       "      <td>27 bis 29 Jahre (%)</td>\n",
       "      <td>-4.704082</td>\n",
       "      <td>25.112583</td>\n",
       "    </tr>\n",
       "    <tr>\n",
       "      <th>5</th>\n",
       "      <td>30 bis 32 Jahre (%)</td>\n",
       "      <td>-4.183673</td>\n",
       "      <td>5.357616</td>\n",
       "    </tr>\n",
       "    <tr>\n",
       "      <th>6</th>\n",
       "      <td>33 bis 35 Jahre (%)</td>\n",
       "      <td>-1.724490</td>\n",
       "      <td>3.463576</td>\n",
       "    </tr>\n",
       "    <tr>\n",
       "      <th>0</th>\n",
       "      <td>unter 18 Jahre (%)</td>\n",
       "      <td>-0.000000</td>\n",
       "      <td>0.000000</td>\n",
       "    </tr>\n",
       "    <tr>\n",
       "      <th>7</th>\n",
       "      <td>älter als 35 Jahre (%)</td>\n",
       "      <td>-2.627551</td>\n",
       "      <td>6.754967</td>\n",
       "    </tr>\n",
       "  </tbody>\n",
       "</table>\n",
       "</div>"
      ],
      "text/plain": [
       "             Altersgruppe  Bachelor (%)  Master (%)\n",
       "1     18 bis 20 Jahre (%)    -24.010204    0.000000\n",
       "2     21 bis 23 Jahre (%)    -42.586735   17.827815\n",
       "3     24 bis 26 Jahre (%)    -20.551020   39.874172\n",
       "4     27 bis 29 Jahre (%)     -4.704082   25.112583\n",
       "5     30 bis 32 Jahre (%)     -4.183673    5.357616\n",
       "6     33 bis 35 Jahre (%)     -1.724490    3.463576\n",
       "0      unter 18 Jahre (%)     -0.000000    0.000000\n",
       "7  älter als 35 Jahre (%)     -2.627551    6.754967"
      ]
     },
     "execution_count": 46,
     "metadata": {},
     "output_type": "execute_result"
    }
   ],
   "source": [
    "import pandas as pd\n",
    "\n",
    "# Datei einlesen\n",
    "file_path = \"data.xlsx\"\n",
    "sheets = pd.read_excel(file_path, sheet_name=None, engine=\"openpyxl\")\n",
    "sheets.pop(next(iter(sheets)))  # Erstes Blatt entfernen\n",
    "\n",
    "# Altersgruppen definieren\n",
    "altersgruppen = [\n",
    "    \"unter 18 Jahre (%)\",\n",
    "    \"18 bis 20 Jahre (%)\",\n",
    "    \"21 bis 23 Jahre (%)\",\n",
    "    \"24 bis 26 Jahre (%)\",\n",
    "    \"27 bis 29 Jahre (%)\",\n",
    "    \"30 bis 32 Jahre (%)\",\n",
    "    \"33 bis 35 Jahre (%)\",\n",
    "    \"älter als 35 Jahre (%)\"\n",
    "]\n",
    "\n",
    "# Jahr wählen\n",
    "jahr = \"2024\"  \n",
    "df = sheets[jahr]\n",
    "\n",
    "# Bachelor- und Master-Spalten erkennen\n",
    "bachelor_studiengaenge = df.filter(like=\"Bachelor\").columns\n",
    "master_studiengaenge = df.filter(like=\"Master\").columns\n",
    "\n",
    "# Absoluten Wert für jede Altersgruppe berechnen\n",
    "pyramiden_data = {\"Altersgruppe\": [], \"Bachelor (%)\": [], \"Master (%)\": []}\n",
    "\n",
    "for category in altersgruppen:\n",
    "    row = df[(df[\"Variable\"] == \"Alter\") & (df[\"Category\"].str.contains(category, na=False, regex=False))]\n",
    "    \n",
    "    if not row.empty:\n",
    "        # Berechnung der gewichteten Altersverteilung\n",
    "        abs_bachelor = (row[bachelor_studiengaenge] / 100) * df[(df[\"Variable\"] == \"Alter\") & (df[\"Category\"] == \"Anzahl\")][bachelor_studiengaenge].iloc[0]\n",
    "        abs_master = (row[master_studiengaenge] / 100) * df[(df[\"Variable\"] == \"Alter\") & (df[\"Category\"] == \"Anzahl\")][master_studiengaenge].iloc[0]\n",
    "\n",
    "        total_abs_bachelor = abs_bachelor.sum().sum()\n",
    "        total_abs_master = abs_master.sum().sum()\n",
    "\n",
    "        total_bachelor_students = df[(df[\"Variable\"] == \"Alter\") & (df[\"Category\"] == \"Anzahl\")][bachelor_studiengaenge].sum().sum()\n",
    "        total_master_students = df[(df[\"Variable\"] == \"Alter\") & (df[\"Category\"] == \"Anzahl\")][master_studiengaenge].sum().sum()\n",
    "\n",
    "        weighted_bachelor = (total_abs_bachelor / total_bachelor_students) * 100 if total_bachelor_students > 0 else 0\n",
    "        weighted_master = (total_abs_master / total_master_students) * 100 if total_master_students > 0 else 0\n",
    "\n",
    "        pyramiden_data[\"Altersgruppe\"].append(category)\n",
    "        pyramiden_data[\"Bachelor (%)\"].append(-weighted_bachelor)  # Negativ für linke Darstellung\n",
    "        pyramiden_data[\"Master (%)\"].append(weighted_master)  # Positiv für rechte Darstellung\n",
    "\n",
    "# DataFrame erstellen\n",
    "df_pyramide = pd.DataFrame(pyramiden_data)\n",
    "df_pyramide = df_pyramide.sort_values(by=\"Altersgruppe\", ascending=True)  # Richtige Reihenfolge\n",
    "\n",
    "df_pyramide"
   ]
  },
  {
   "cell_type": "markdown",
   "metadata": {},
   "source": [
    "# Altersverteilung"
   ]
  },
  {
   "cell_type": "code",
   "execution_count": 63,
   "metadata": {},
   "outputs": [
    {
     "data": {
      "application/vnd.plotly.v1+json": {
       "config": {
        "plotlyServerURL": "https://plot.ly"
       },
       "data": [
        {
         "hovertemplate": "variable=Bachelor (%)<br>value=%{x}<br>Altersgruppe=%{y}<extra></extra>",
         "legendgroup": "Bachelor (%)",
         "marker": {
          "color": "rgb(136, 204, 238)",
          "pattern": {
           "shape": ""
          }
         },
         "name": "Bachelor (%)",
         "orientation": "h",
         "showlegend": true,
         "textposition": "auto",
         "type": "bar",
         "x": {
          "bdata": "4OUUvJwCOMD60FgfGktFwGN9aKwPjTTANNaHxvrQEsAup+DlFLwQwOUUvJyCl/u/AAAAAAAAAIDCyyl4OQUFwA==",
          "dtype": "f8"
         },
         "xaxis": "x",
         "y": [
          "18 bis 20 Jahre (%)",
          "21 bis 23 Jahre (%)",
          "24 bis 26 Jahre (%)",
          "27 bis 29 Jahre (%)",
          "30 bis 32 Jahre (%)",
          "33 bis 35 Jahre (%)",
          "unter 18 Jahre (%)",
          "älter als 35 Jahre (%)"
         ],
         "yaxis": "y"
        },
        {
         "hovertemplate": "variable=Master (%)<br>value=%{x}<br>Altersgruppe=%{y}<extra></extra>",
         "legendgroup": "Master (%)",
         "marker": {
          "color": "rgb(204, 102, 119)",
          "pattern": {
           "shape": ""
          }
         },
         "name": "Master (%)",
         "orientation": "h",
         "showlegend": true,
         "textposition": "auto",
         "type": "bar",
         "x": {
          "bdata": "AAAAAAAAAACvT9en69MxQJO/yd/k70NASHOkOdIcOUDLuGXcMm4VQJ/VzmpntQtAAAAAAAAAAABYFCwKFgUbQA==",
          "dtype": "f8"
         },
         "xaxis": "x",
         "y": [
          "18 bis 20 Jahre (%)",
          "21 bis 23 Jahre (%)",
          "24 bis 26 Jahre (%)",
          "27 bis 29 Jahre (%)",
          "30 bis 32 Jahre (%)",
          "33 bis 35 Jahre (%)",
          "unter 18 Jahre (%)",
          "älter als 35 Jahre (%)"
         ],
         "yaxis": "y"
        }
       ],
       "layout": {
        "barmode": "relative",
        "legend": {
         "title": {
          "text": "variable"
         },
         "tracegroupgap": 0
        },
        "margin": {
         "l": 180
        },
        "showlegend": false,
        "template": {
         "layout": {
          "template": {
           "data": {
            "bar": [
             {
              "error_x": {
               "color": "#2a3f5f"
              },
              "error_y": {
               "color": "#2a3f5f"
              },
              "marker": {
               "line": {
                "color": "white",
                "width": 0.5
               },
               "pattern": {
                "fillmode": "overlay",
                "size": 10,
                "solidity": 0.2
               }
              },
              "type": "bar"
             }
            ],
            "barpolar": [
             {
              "marker": {
               "line": {
                "color": "white",
                "width": 0.5
               },
               "pattern": {
                "fillmode": "overlay",
                "size": 10,
                "solidity": 0.2
               }
              },
              "type": "barpolar"
             }
            ],
            "carpet": [
             {
              "aaxis": {
               "endlinecolor": "#2a3f5f",
               "gridcolor": "#C8D4E3",
               "linecolor": "#C8D4E3",
               "minorgridcolor": "#C8D4E3",
               "startlinecolor": "#2a3f5f"
              },
              "baxis": {
               "endlinecolor": "#2a3f5f",
               "gridcolor": "#C8D4E3",
               "linecolor": "#C8D4E3",
               "minorgridcolor": "#C8D4E3",
               "startlinecolor": "#2a3f5f"
              },
              "type": "carpet"
             }
            ],
            "choropleth": [
             {
              "colorbar": {
               "outlinewidth": 0,
               "ticks": ""
              },
              "type": "choropleth"
             }
            ],
            "contour": [
             {
              "colorbar": {
               "outlinewidth": 0,
               "ticks": ""
              },
              "colorscale": [
               [
                0,
                "#0d0887"
               ],
               [
                0.1111111111111111,
                "#46039f"
               ],
               [
                0.2222222222222222,
                "#7201a8"
               ],
               [
                0.3333333333333333,
                "#9c179e"
               ],
               [
                0.4444444444444444,
                "#bd3786"
               ],
               [
                0.5555555555555556,
                "#d8576b"
               ],
               [
                0.6666666666666666,
                "#ed7953"
               ],
               [
                0.7777777777777778,
                "#fb9f3a"
               ],
               [
                0.8888888888888888,
                "#fdca26"
               ],
               [
                1,
                "#f0f921"
               ]
              ],
              "type": "contour"
             }
            ],
            "contourcarpet": [
             {
              "colorbar": {
               "outlinewidth": 0,
               "ticks": ""
              },
              "type": "contourcarpet"
             }
            ],
            "heatmap": [
             {
              "colorbar": {
               "outlinewidth": 0,
               "ticks": ""
              },
              "colorscale": [
               [
                0,
                "#0d0887"
               ],
               [
                0.1111111111111111,
                "#46039f"
               ],
               [
                0.2222222222222222,
                "#7201a8"
               ],
               [
                0.3333333333333333,
                "#9c179e"
               ],
               [
                0.4444444444444444,
                "#bd3786"
               ],
               [
                0.5555555555555556,
                "#d8576b"
               ],
               [
                0.6666666666666666,
                "#ed7953"
               ],
               [
                0.7777777777777778,
                "#fb9f3a"
               ],
               [
                0.8888888888888888,
                "#fdca26"
               ],
               [
                1,
                "#f0f921"
               ]
              ],
              "type": "heatmap"
             }
            ],
            "histogram": [
             {
              "marker": {
               "pattern": {
                "fillmode": "overlay",
                "size": 10,
                "solidity": 0.2
               }
              },
              "type": "histogram"
             }
            ],
            "histogram2d": [
             {
              "colorbar": {
               "outlinewidth": 0,
               "ticks": ""
              },
              "colorscale": [
               [
                0,
                "#0d0887"
               ],
               [
                0.1111111111111111,
                "#46039f"
               ],
               [
                0.2222222222222222,
                "#7201a8"
               ],
               [
                0.3333333333333333,
                "#9c179e"
               ],
               [
                0.4444444444444444,
                "#bd3786"
               ],
               [
                0.5555555555555556,
                "#d8576b"
               ],
               [
                0.6666666666666666,
                "#ed7953"
               ],
               [
                0.7777777777777778,
                "#fb9f3a"
               ],
               [
                0.8888888888888888,
                "#fdca26"
               ],
               [
                1,
                "#f0f921"
               ]
              ],
              "type": "histogram2d"
             }
            ],
            "histogram2dcontour": [
             {
              "colorbar": {
               "outlinewidth": 0,
               "ticks": ""
              },
              "colorscale": [
               [
                0,
                "#0d0887"
               ],
               [
                0.1111111111111111,
                "#46039f"
               ],
               [
                0.2222222222222222,
                "#7201a8"
               ],
               [
                0.3333333333333333,
                "#9c179e"
               ],
               [
                0.4444444444444444,
                "#bd3786"
               ],
               [
                0.5555555555555556,
                "#d8576b"
               ],
               [
                0.6666666666666666,
                "#ed7953"
               ],
               [
                0.7777777777777778,
                "#fb9f3a"
               ],
               [
                0.8888888888888888,
                "#fdca26"
               ],
               [
                1,
                "#f0f921"
               ]
              ],
              "type": "histogram2dcontour"
             }
            ],
            "mesh3d": [
             {
              "colorbar": {
               "outlinewidth": 0,
               "ticks": ""
              },
              "type": "mesh3d"
             }
            ],
            "parcoords": [
             {
              "line": {
               "colorbar": {
                "outlinewidth": 0,
                "ticks": ""
               }
              },
              "type": "parcoords"
             }
            ],
            "pie": [
             {
              "automargin": true,
              "type": "pie"
             }
            ],
            "scatter": [
             {
              "fillpattern": {
               "fillmode": "overlay",
               "size": 10,
               "solidity": 0.2
              },
              "type": "scatter"
             }
            ],
            "scatter3d": [
             {
              "line": {
               "colorbar": {
                "outlinewidth": 0,
                "ticks": ""
               }
              },
              "marker": {
               "colorbar": {
                "outlinewidth": 0,
                "ticks": ""
               }
              },
              "type": "scatter3d"
             }
            ],
            "scattercarpet": [
             {
              "marker": {
               "colorbar": {
                "outlinewidth": 0,
                "ticks": ""
               }
              },
              "type": "scattercarpet"
             }
            ],
            "scattergeo": [
             {
              "marker": {
               "colorbar": {
                "outlinewidth": 0,
                "ticks": ""
               }
              },
              "type": "scattergeo"
             }
            ],
            "scattergl": [
             {
              "marker": {
               "colorbar": {
                "outlinewidth": 0,
                "ticks": ""
               }
              },
              "type": "scattergl"
             }
            ],
            "scattermap": [
             {
              "marker": {
               "colorbar": {
                "outlinewidth": 0,
                "ticks": ""
               }
              },
              "type": "scattermap"
             }
            ],
            "scattermapbox": [
             {
              "marker": {
               "colorbar": {
                "outlinewidth": 0,
                "ticks": ""
               }
              },
              "type": "scattermapbox"
             }
            ],
            "scatterpolar": [
             {
              "marker": {
               "colorbar": {
                "outlinewidth": 0,
                "ticks": ""
               }
              },
              "type": "scatterpolar"
             }
            ],
            "scatterpolargl": [
             {
              "marker": {
               "colorbar": {
                "outlinewidth": 0,
                "ticks": ""
               }
              },
              "type": "scatterpolargl"
             }
            ],
            "scatterternary": [
             {
              "marker": {
               "colorbar": {
                "outlinewidth": 0,
                "ticks": ""
               }
              },
              "type": "scatterternary"
             }
            ],
            "surface": [
             {
              "colorbar": {
               "outlinewidth": 0,
               "ticks": ""
              },
              "colorscale": [
               [
                0,
                "#0d0887"
               ],
               [
                0.1111111111111111,
                "#46039f"
               ],
               [
                0.2222222222222222,
                "#7201a8"
               ],
               [
                0.3333333333333333,
                "#9c179e"
               ],
               [
                0.4444444444444444,
                "#bd3786"
               ],
               [
                0.5555555555555556,
                "#d8576b"
               ],
               [
                0.6666666666666666,
                "#ed7953"
               ],
               [
                0.7777777777777778,
                "#fb9f3a"
               ],
               [
                0.8888888888888888,
                "#fdca26"
               ],
               [
                1,
                "#f0f921"
               ]
              ],
              "type": "surface"
             }
            ],
            "table": [
             {
              "cells": {
               "fill": {
                "color": "#EBF0F8"
               },
               "line": {
                "color": "white"
               }
              },
              "header": {
               "fill": {
                "color": "#C8D4E3"
               },
               "line": {
                "color": "white"
               }
              },
              "type": "table"
             }
            ]
           },
           "layout": {
            "annotationdefaults": {
             "arrowcolor": "#2a3f5f",
             "arrowhead": 0,
             "arrowwidth": 1
            },
            "autotypenumbers": "strict",
            "coloraxis": {
             "colorbar": {
              "outlinewidth": 0,
              "ticks": ""
             }
            },
            "colorscale": {
             "diverging": [
              [
               0,
               "#8e0152"
              ],
              [
               0.1,
               "#c51b7d"
              ],
              [
               0.2,
               "#de77ae"
              ],
              [
               0.3,
               "#f1b6da"
              ],
              [
               0.4,
               "#fde0ef"
              ],
              [
               0.5,
               "#f7f7f7"
              ],
              [
               0.6,
               "#e6f5d0"
              ],
              [
               0.7,
               "#b8e186"
              ],
              [
               0.8,
               "#7fbc41"
              ],
              [
               0.9,
               "#4d9221"
              ],
              [
               1,
               "#276419"
              ]
             ],
             "sequential": [
              [
               0,
               "#0d0887"
              ],
              [
               0.1111111111111111,
               "#46039f"
              ],
              [
               0.2222222222222222,
               "#7201a8"
              ],
              [
               0.3333333333333333,
               "#9c179e"
              ],
              [
               0.4444444444444444,
               "#bd3786"
              ],
              [
               0.5555555555555556,
               "#d8576b"
              ],
              [
               0.6666666666666666,
               "#ed7953"
              ],
              [
               0.7777777777777778,
               "#fb9f3a"
              ],
              [
               0.8888888888888888,
               "#fdca26"
              ],
              [
               1,
               "#f0f921"
              ]
             ],
             "sequentialminus": [
              [
               0,
               "#0d0887"
              ],
              [
               0.1111111111111111,
               "#46039f"
              ],
              [
               0.2222222222222222,
               "#7201a8"
              ],
              [
               0.3333333333333333,
               "#9c179e"
              ],
              [
               0.4444444444444444,
               "#bd3786"
              ],
              [
               0.5555555555555556,
               "#d8576b"
              ],
              [
               0.6666666666666666,
               "#ed7953"
              ],
              [
               0.7777777777777778,
               "#fb9f3a"
              ],
              [
               0.8888888888888888,
               "#fdca26"
              ],
              [
               1,
               "#f0f921"
              ]
             ]
            },
            "colorway": [
             "#636efa",
             "#EF553B",
             "#00cc96",
             "#ab63fa",
             "#FFA15A",
             "#19d3f3",
             "#FF6692",
             "#B6E880",
             "#FF97FF",
             "#FECB52"
            ],
            "font": {
             "color": "#2a3f5f"
            },
            "geo": {
             "bgcolor": "white",
             "lakecolor": "white",
             "landcolor": "white",
             "showlakes": true,
             "showland": true,
             "subunitcolor": "#C8D4E3"
            },
            "hoverlabel": {
             "align": "left"
            },
            "hovermode": "closest",
            "mapbox": {
             "style": "light"
            },
            "paper_bgcolor": "white",
            "plot_bgcolor": "white",
            "polar": {
             "angularaxis": {
              "gridcolor": "#EBF0F8",
              "linecolor": "#EBF0F8",
              "ticks": ""
             },
             "bgcolor": "white",
             "radialaxis": {
              "gridcolor": "#EBF0F8",
              "linecolor": "#EBF0F8",
              "ticks": ""
             }
            },
            "scene": {
             "xaxis": {
              "backgroundcolor": "white",
              "gridcolor": "#DFE8F3",
              "gridwidth": 2,
              "linecolor": "#EBF0F8",
              "showbackground": true,
              "ticks": "",
              "zerolinecolor": "#EBF0F8"
             },
             "yaxis": {
              "backgroundcolor": "white",
              "gridcolor": "#DFE8F3",
              "gridwidth": 2,
              "linecolor": "#EBF0F8",
              "showbackground": true,
              "ticks": "",
              "zerolinecolor": "#EBF0F8"
             },
             "zaxis": {
              "backgroundcolor": "white",
              "gridcolor": "#DFE8F3",
              "gridwidth": 2,
              "linecolor": "#EBF0F8",
              "showbackground": true,
              "ticks": "",
              "zerolinecolor": "#EBF0F8"
             }
            },
            "shapedefaults": {
             "line": {
              "color": "#2a3f5f"
             }
            },
            "ternary": {
             "aaxis": {
              "gridcolor": "#DFE8F3",
              "linecolor": "#A2B1C6",
              "ticks": ""
             },
             "baxis": {
              "gridcolor": "#DFE8F3",
              "linecolor": "#A2B1C6",
              "ticks": ""
             },
             "bgcolor": "white",
             "caxis": {
              "gridcolor": "#DFE8F3",
              "linecolor": "#A2B1C6",
              "ticks": ""
             }
            },
            "title": {
             "x": 0.05
            },
            "xaxis": {
             "automargin": true,
             "gridcolor": "#EBF0F8",
             "linecolor": "#EBF0F8",
             "ticks": "",
             "title": {
              "standoff": 15
             },
             "zerolinecolor": "#EBF0F8",
             "zerolinewidth": 2
            },
            "yaxis": {
             "automargin": true,
             "gridcolor": "#EBF0F8",
             "linecolor": "#EBF0F8",
             "ticks": "",
             "title": {
              "standoff": 15
             },
             "zerolinecolor": "#EBF0F8",
             "zerolinewidth": 2
            }
           }
          },
          "title": {
           "font": {
            "color": "black",
            "family": "Arial",
            "size": 20,
            "weight": "bold"
           },
           "subtitle": {
            "font": {
             "color": "gray",
             "size": 13
            },
            "text": ""
           },
           "x": 0,
           "xanchor": "left",
           "xref": "paper"
          },
          "xaxis": {
           "showgrid": false,
           "tickfont": {
            "color": "grey",
            "size": 12
           },
           "ticklabelposition": "outside bottom",
           "ticklabelstandoff": 10,
           "title": {
            "font": {
             "color": "grey",
             "size": 13,
             "weight": "bold"
            },
            "standoff": 15
           },
           "zerolinecolor": "lightgrey"
          },
          "yaxis": {
           "gridcolor": "lightgrey",
           "showgrid": true,
           "tickfont": {
            "color": "grey",
            "size": 12
           },
           "ticklabelposition": "outside left",
           "ticklabelstandoff": 10,
           "title": {
            "font": {
             "color": "grey",
             "size": 13,
             "weight": "bold"
            },
            "standoff": 15
           },
           "zerolinecolor": "lightgrey"
          }
         }
        },
        "title": {
         "subtitle": {
          "text": "Ergebnisse der Studierendenbefragung 2024 im FB09"
         },
         "text": "Altersverteilung: <span style='color:#73c6e9'>Bachelorstudierende</span> jünger, <span style='color:#cc5b6e;'>Masterstudierende</span> älter "
        },
        "xaxis": {
         "anchor": "y",
         "domain": [
          0,
          1
         ],
         "tickmode": "array",
         "ticktext": [
          "40%",
          "30%",
          "20%",
          "10%",
          "0%",
          "10%",
          "20%",
          "30%",
          "40%"
         ],
         "tickvals": [
          -40,
          -30,
          -20,
          -10,
          0,
          10,
          20,
          30,
          40
         ],
         "title": {
          "text": "Anteil der Studierenden (Bachelor/Master)"
         }
        },
        "yaxis": {
         "anchor": "x",
         "domain": [
          0,
          1
         ],
         "title": {
          "text": ""
         }
        }
       }
      }
     },
     "metadata": {},
     "output_type": "display_data"
    }
   ],
   "source": [
    "import plotly.express as px\n",
    "\n",
    "fig = px.bar(\n",
    "    df_pyramide, \n",
    "    x=[\"Bachelor (%)\", \"Master (%)\"], \n",
    "    y=\"Altersgruppe\", \n",
    "    orientation=\"h\", \n",
    "    title=\"Altersverteilung: <span style='color:#73c6e9'>Bachelorstudierende</span> jünger, <span style='color:#cc5b6e;'>Masterstudierende</span> älter \",\n",
    "    subtitle=\"Ergebnisse der Studierendenbefragung 2024 im FB09\",\n",
    "    color_discrete_map={\"Bachelor (%)\": px.colors.qualitative.Safe[0], \"Master (%)\": px.colors.qualitative.Safe[1]},\n",
    ")\n",
    "\n",
    "# Layout-Anpassungen\n",
    "fig.update_layout(\n",
    "    margin=dict(l=180),\n",
    "    template=\"infoviz\",\n",
    "    xaxis_title=\"Anteil der Studierenden (Bachelor/Master)\",\n",
    "    yaxis_title=\"\",\n",
    "    xaxis=dict(\n",
    "        tickmode=\"array\",\n",
    "        tickvals=[-40, -30, -20, -10, 0, 10, 20, 30, 40],  # Achse zentrieren\n",
    "        ticktext=[\"40%\", \"30%\",\"20%\", \"10%\", \"0%\", \"10%\", \"20%\", \"30%\", \"40%\"]\n",
    "    ),\n",
    "    showlegend=False\n",
    ")\n",
    "\n",
    "fig.show()"
   ]
  }
 ],
 "metadata": {
  "kernelspec": {
   "display_name": ".venv",
   "language": "python",
   "name": "python3"
  },
  "language_info": {
   "codemirror_mode": {
    "name": "ipython",
    "version": 3
   },
   "file_extension": ".py",
   "mimetype": "text/x-python",
   "name": "python",
   "nbconvert_exporter": "python",
   "pygments_lexer": "ipython3",
   "version": "3.12.4"
  }
 },
 "nbformat": 4,
 "nbformat_minor": 2
}
