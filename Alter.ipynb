{
 "cells": [
  {
   "cell_type": "markdown",
   "metadata": {},
   "source": [
    "# Alter\n",
    "- Linechart mit 3 Alterskohorten pro Bachelor/Master\n",
    "- Stacked Barchart aggregiert über alle Studiengänge über die Jahre\n"
   ]
  },
  {
   "cell_type": "code",
   "execution_count": 24,
   "metadata": {},
   "outputs": [],
   "source": [
    "import pandas as pd\n",
    "import plotly.express as px\n",
    "\n",
    "# Datei einlesen (ersetze 'data.xlsx' durch den tatsächlichen Dateinamen)\n",
    "file_path = \"data.xlsx\"\n",
    "\n",
    "# Alle Sheets einlesen, aber das erste Blatt ignorieren\n",
    "sheets = pd.read_excel(file_path, sheet_name=None, engine=\"openpyxl\")\n",
    "\n",
    "# Erstes Blatt entfernen\n",
    "sheets.pop(next(iter(sheets)))\n",
    "\n",
    "# Dictionary zur Speicherung der Altersgruppen\n",
    "alter_data = {\"Jahr\": []}\n",
    "\n",
    "# Durch alle Jahre iterieren\n",
    "for jahr, df in sheets.items():\n",
    "    df.columns = df.columns.astype(str).str.strip()  # Spaltennamen bereinigen\n",
    "\n",
    "    # Studiengänge für Bachelor & Master automatisch erkennen\n",
    "    bachelor_studiengaenge = df.filter(like=\"Bachelor\").columns\n",
    "    master_studiengaenge = df.filter(like=\"Master\").columns\n",
    "\n",
    "    # Gesamtanzahl der Studierenden pro Jahr für Gewichtung berechnen (nur für Variable \"Alter\")\n",
    "    total_bachelor_students = df[\n",
    "        (df[\"Variable\"] == \"Alter\") & (df[\"Category\"].str.contains(\"Anzahl\", na=False))\n",
    "    ][bachelor_studiengaenge].sum(axis=1).values[0]\n",
    "\n",
    "    total_master_students = df[\n",
    "        (df[\"Variable\"] == \"Alter\") & (df[\"Category\"].str.contains(\"Anzahl\", na=False))\n",
    "    ][master_studiengaenge].sum(axis=1).values[0]\n",
    "\n",
    "    # **Gesamtanzahl aller Studierenden berechnen**\n",
    "    total_students = total_bachelor_students + total_master_students\n",
    "\n",
    "    # Altersgruppen extrahieren\n",
    "    altersgruppen = [\n",
    "        \"unter 18 Jahre (%)\",\n",
    "        \"18 bis 20 Jahre (%)\",\n",
    "        \"21 bis 23 Jahre (%)\",\n",
    "        \"24 bis 26 Jahre (%)\",\n",
    "        \"27 bis 29 Jahre (%)\",\n",
    "        \"30 bis 32 Jahre (%)\",\n",
    "        \"33 bis 35 Jahre (%)\",\n",
    "        \"älter als 35 Jahre (%)\"\n",
    "    ]\n",
    "\n",
    "    if jahr not in alter_data[\"Jahr\"]:\n",
    "        alter_data[\"Jahr\"].append(jahr)\n",
    "\n",
    "    for category in altersgruppen:\n",
    "        row = df[\n",
    "            (df[\"Variable\"] == \"Alter\") & (df[\"Category\"].str.contains(category, na=False, regex=False))\n",
    "        ]\n",
    "        if not row.empty:\n",
    "            # **Absoluten Wert für jede Altersgruppe pro Studiengang berechnen**\n",
    "            abs_bachelor = (row[bachelor_studiengaenge] / 100) * df[\n",
    "                (df[\"Variable\"] == \"Alter\") & (df[\"Category\"].str.contains(\"Anzahl\", na=False))\n",
    "            ][bachelor_studiengaenge].iloc[0]\n",
    "\n",
    "            abs_master = (row[master_studiengaenge] / 100) * df[\n",
    "                (df[\"Variable\"] == \"Alter\") & (df[\"Category\"].str.contains(\"Anzahl\", na=False))\n",
    "            ][master_studiengaenge].iloc[0]\n",
    "\n",
    "            # **Gesamte Anzahl an Studierenden in dieser Altersgruppe berechnen**\n",
    "            total_abs_students = abs_bachelor.sum().sum() + abs_master.sum().sum()\n",
    "\n",
    "            # **Gewichteter relativer Anteil berechnen (im Vergleich zur Gesamtzahl aller Studierenden)**\n",
    "            weighted_total = (total_abs_students / total_students) * 100\n",
    "\n",
    "            # Spaltennamen dynamisch hinzufügen\n",
    "            col_name = f\"{category}\"  # Ohne Bachelor/Master Unterscheidung\n",
    "\n",
    "            if col_name not in alter_data:\n",
    "                alter_data[col_name] = []\n",
    "\n",
    "            alter_data[col_name].append(weighted_total)\n",
    "\n",
    "# Daten als DataFrame formatieren\n",
    "df_alter = pd.DataFrame(alter_data).sort_values(by=\"Jahr\")"
   ]
  },
  {
   "cell_type": "code",
   "execution_count": 68,
   "metadata": {},
   "outputs": [],
   "source": [
    "import pandas as pd\n",
    "import plotly.express as px\n",
    "\n",
    "# Daten für die Alterspyramide umformen\n",
    "df_pyramide = df_alter.melt(id_vars=\"Jahr\", var_name=\"Altersgruppe\", value_name=\"Anteil (%)\")\n",
    "\n",
    "# Bachelor vs. Master identifizieren\n",
    "df_pyramide[\"Studiengang\"] = df_pyramide[\"Altersgruppe\"].apply(lambda x: \"Bachelor\" if \"Bachelor\" in x else \"Master\")\n",
    "\n",
    "# Altersgruppen umbenennen (Bachelor/Master entfernen)\n",
    "df_pyramide[\"Altersgruppe\"] = df_pyramide[\"Altersgruppe\"].str.replace(\"Bachelor \", \"\", regex=False)\n",
    "df_pyramide[\"Altersgruppe\"] = df_pyramide[\"Altersgruppe\"].str.replace(\"Master \", \"\", regex=False)\n",
    "\n",
    "# Bachelor-Werte negativ setzen für visuelle Trennung\n",
    "df_pyramide.loc[df_pyramide[\"Studiengang\"] == \"Bachelor\", \"Anteil (%)\"] *= -1\n",
    "\n",
    "# Neuen DataFrame erstellen mit nur den letzten Jahrgang\n",
    "jahrgang = \"2013\"  # Letztes verfügbares Jahr\n",
    "df_pyramide_latest = df_pyramide[df_pyramide[\"Jahr\"] == jahrgang]"
   ]
  },
  {
   "cell_type": "code",
   "execution_count": 69,
   "metadata": {},
   "outputs": [
    {
     "data": {
      "text/plain": [
       "'2013'"
      ]
     },
     "execution_count": 69,
     "metadata": {},
     "output_type": "execute_result"
    }
   ],
   "source": [
    "jahrgang"
   ]
  },
  {
   "cell_type": "code",
   "execution_count": 70,
   "metadata": {},
   "outputs": [
    {
     "data": {
      "application/vnd.plotly.v1+json": {
       "config": {
        "plotlyServerURL": "https://plot.ly"
       },
       "data": [
        {
         "hovertemplate": "Studiengang=Bachelor<br>Anteil (%)=%{x}<br>Altersgruppe=%{y}<extra></extra>",
         "legendgroup": "Bachelor",
         "marker": {
          "color": "#1f77b4",
          "pattern": {
           "shape": ""
          }
         },
         "name": "Bachelor",
         "orientation": "h",
         "showlegend": true,
         "textposition": "auto",
         "type": "bar",
         "x": {
          "bdata": "AAAAAAAAAIBrypqypqw1wLOmrClrqkvA6Av6gr7gLcAGfUFf0BcMwKesKWvKmgLAjrgj7og74r8qa8qasqbwvw==",
          "dtype": "f8"
         },
         "xaxis": "x",
         "y": [
          "unter 18 Jahre (%)",
          "18 bis 20 Jahre (%)",
          "21 bis 23 Jahre (%)",
          "24 bis 26 Jahre (%)",
          "27 bis 29 Jahre (%)",
          "30 bis 32 Jahre (%)",
          "33 bis 35 Jahre (%)",
          "älter als 35 Jahre (%)"
         ],
         "yaxis": "y"
        },
        {
         "hovertemplate": "Studiengang=Master<br>Anteil (%)=%{x}<br>Altersgruppe=%{y}<extra></extra>",
         "legendgroup": "Master",
         "marker": {
          "color": "#ff7f0e",
          "pattern": {
           "shape": ""
          }
         },
         "name": "Master",
         "orientation": "h",
         "showlegend": true,
         "textposition": "auto",
         "type": "bar",
         "x": {
          "bdata": "AAAAAAAAAAAAAAAAAAAAADUuR+NyNDRAEroXoXuRTEClbE3K1qQqQKF7EboXoSFAmp6F6VmY3j+YnoXpWZjePw==",
          "dtype": "f8"
         },
         "xaxis": "x",
         "y": [
          "unter 18 Jahre (%)",
          "18 bis 20 Jahre (%)",
          "21 bis 23 Jahre (%)",
          "24 bis 26 Jahre (%)",
          "27 bis 29 Jahre (%)",
          "30 bis 32 Jahre (%)",
          "33 bis 35 Jahre (%)",
          "älter als 35 Jahre (%)"
         ],
         "yaxis": "y"
        }
       ],
       "layout": {
        "barmode": "relative",
        "legend": {
         "title": {
          "text": "Studiengang"
         },
         "tracegroupgap": 0
        },
        "template": {
         "data": {
          "bar": [
           {
            "error_x": {
             "color": "#2a3f5f"
            },
            "error_y": {
             "color": "#2a3f5f"
            },
            "marker": {
             "line": {
              "color": "#E5ECF6",
              "width": 0.5
             },
             "pattern": {
              "fillmode": "overlay",
              "size": 10,
              "solidity": 0.2
             }
            },
            "type": "bar"
           }
          ],
          "barpolar": [
           {
            "marker": {
             "line": {
              "color": "#E5ECF6",
              "width": 0.5
             },
             "pattern": {
              "fillmode": "overlay",
              "size": 10,
              "solidity": 0.2
             }
            },
            "type": "barpolar"
           }
          ],
          "carpet": [
           {
            "aaxis": {
             "endlinecolor": "#2a3f5f",
             "gridcolor": "white",
             "linecolor": "white",
             "minorgridcolor": "white",
             "startlinecolor": "#2a3f5f"
            },
            "baxis": {
             "endlinecolor": "#2a3f5f",
             "gridcolor": "white",
             "linecolor": "white",
             "minorgridcolor": "white",
             "startlinecolor": "#2a3f5f"
            },
            "type": "carpet"
           }
          ],
          "choropleth": [
           {
            "colorbar": {
             "outlinewidth": 0,
             "ticks": ""
            },
            "type": "choropleth"
           }
          ],
          "contour": [
           {
            "colorbar": {
             "outlinewidth": 0,
             "ticks": ""
            },
            "colorscale": [
             [
              0,
              "#0d0887"
             ],
             [
              0.1111111111111111,
              "#46039f"
             ],
             [
              0.2222222222222222,
              "#7201a8"
             ],
             [
              0.3333333333333333,
              "#9c179e"
             ],
             [
              0.4444444444444444,
              "#bd3786"
             ],
             [
              0.5555555555555556,
              "#d8576b"
             ],
             [
              0.6666666666666666,
              "#ed7953"
             ],
             [
              0.7777777777777778,
              "#fb9f3a"
             ],
             [
              0.8888888888888888,
              "#fdca26"
             ],
             [
              1,
              "#f0f921"
             ]
            ],
            "type": "contour"
           }
          ],
          "contourcarpet": [
           {
            "colorbar": {
             "outlinewidth": 0,
             "ticks": ""
            },
            "type": "contourcarpet"
           }
          ],
          "heatmap": [
           {
            "colorbar": {
             "outlinewidth": 0,
             "ticks": ""
            },
            "colorscale": [
             [
              0,
              "#0d0887"
             ],
             [
              0.1111111111111111,
              "#46039f"
             ],
             [
              0.2222222222222222,
              "#7201a8"
             ],
             [
              0.3333333333333333,
              "#9c179e"
             ],
             [
              0.4444444444444444,
              "#bd3786"
             ],
             [
              0.5555555555555556,
              "#d8576b"
             ],
             [
              0.6666666666666666,
              "#ed7953"
             ],
             [
              0.7777777777777778,
              "#fb9f3a"
             ],
             [
              0.8888888888888888,
              "#fdca26"
             ],
             [
              1,
              "#f0f921"
             ]
            ],
            "type": "heatmap"
           }
          ],
          "histogram": [
           {
            "marker": {
             "pattern": {
              "fillmode": "overlay",
              "size": 10,
              "solidity": 0.2
             }
            },
            "type": "histogram"
           }
          ],
          "histogram2d": [
           {
            "colorbar": {
             "outlinewidth": 0,
             "ticks": ""
            },
            "colorscale": [
             [
              0,
              "#0d0887"
             ],
             [
              0.1111111111111111,
              "#46039f"
             ],
             [
              0.2222222222222222,
              "#7201a8"
             ],
             [
              0.3333333333333333,
              "#9c179e"
             ],
             [
              0.4444444444444444,
              "#bd3786"
             ],
             [
              0.5555555555555556,
              "#d8576b"
             ],
             [
              0.6666666666666666,
              "#ed7953"
             ],
             [
              0.7777777777777778,
              "#fb9f3a"
             ],
             [
              0.8888888888888888,
              "#fdca26"
             ],
             [
              1,
              "#f0f921"
             ]
            ],
            "type": "histogram2d"
           }
          ],
          "histogram2dcontour": [
           {
            "colorbar": {
             "outlinewidth": 0,
             "ticks": ""
            },
            "colorscale": [
             [
              0,
              "#0d0887"
             ],
             [
              0.1111111111111111,
              "#46039f"
             ],
             [
              0.2222222222222222,
              "#7201a8"
             ],
             [
              0.3333333333333333,
              "#9c179e"
             ],
             [
              0.4444444444444444,
              "#bd3786"
             ],
             [
              0.5555555555555556,
              "#d8576b"
             ],
             [
              0.6666666666666666,
              "#ed7953"
             ],
             [
              0.7777777777777778,
              "#fb9f3a"
             ],
             [
              0.8888888888888888,
              "#fdca26"
             ],
             [
              1,
              "#f0f921"
             ]
            ],
            "type": "histogram2dcontour"
           }
          ],
          "mesh3d": [
           {
            "colorbar": {
             "outlinewidth": 0,
             "ticks": ""
            },
            "type": "mesh3d"
           }
          ],
          "parcoords": [
           {
            "line": {
             "colorbar": {
              "outlinewidth": 0,
              "ticks": ""
             }
            },
            "type": "parcoords"
           }
          ],
          "pie": [
           {
            "automargin": true,
            "type": "pie"
           }
          ],
          "scatter": [
           {
            "fillpattern": {
             "fillmode": "overlay",
             "size": 10,
             "solidity": 0.2
            },
            "type": "scatter"
           }
          ],
          "scatter3d": [
           {
            "line": {
             "colorbar": {
              "outlinewidth": 0,
              "ticks": ""
             }
            },
            "marker": {
             "colorbar": {
              "outlinewidth": 0,
              "ticks": ""
             }
            },
            "type": "scatter3d"
           }
          ],
          "scattercarpet": [
           {
            "marker": {
             "colorbar": {
              "outlinewidth": 0,
              "ticks": ""
             }
            },
            "type": "scattercarpet"
           }
          ],
          "scattergeo": [
           {
            "marker": {
             "colorbar": {
              "outlinewidth": 0,
              "ticks": ""
             }
            },
            "type": "scattergeo"
           }
          ],
          "scattergl": [
           {
            "marker": {
             "colorbar": {
              "outlinewidth": 0,
              "ticks": ""
             }
            },
            "type": "scattergl"
           }
          ],
          "scattermap": [
           {
            "marker": {
             "colorbar": {
              "outlinewidth": 0,
              "ticks": ""
             }
            },
            "type": "scattermap"
           }
          ],
          "scattermapbox": [
           {
            "marker": {
             "colorbar": {
              "outlinewidth": 0,
              "ticks": ""
             }
            },
            "type": "scattermapbox"
           }
          ],
          "scatterpolar": [
           {
            "marker": {
             "colorbar": {
              "outlinewidth": 0,
              "ticks": ""
             }
            },
            "type": "scatterpolar"
           }
          ],
          "scatterpolargl": [
           {
            "marker": {
             "colorbar": {
              "outlinewidth": 0,
              "ticks": ""
             }
            },
            "type": "scatterpolargl"
           }
          ],
          "scatterternary": [
           {
            "marker": {
             "colorbar": {
              "outlinewidth": 0,
              "ticks": ""
             }
            },
            "type": "scatterternary"
           }
          ],
          "surface": [
           {
            "colorbar": {
             "outlinewidth": 0,
             "ticks": ""
            },
            "colorscale": [
             [
              0,
              "#0d0887"
             ],
             [
              0.1111111111111111,
              "#46039f"
             ],
             [
              0.2222222222222222,
              "#7201a8"
             ],
             [
              0.3333333333333333,
              "#9c179e"
             ],
             [
              0.4444444444444444,
              "#bd3786"
             ],
             [
              0.5555555555555556,
              "#d8576b"
             ],
             [
              0.6666666666666666,
              "#ed7953"
             ],
             [
              0.7777777777777778,
              "#fb9f3a"
             ],
             [
              0.8888888888888888,
              "#fdca26"
             ],
             [
              1,
              "#f0f921"
             ]
            ],
            "type": "surface"
           }
          ],
          "table": [
           {
            "cells": {
             "fill": {
              "color": "#EBF0F8"
             },
             "line": {
              "color": "white"
             }
            },
            "header": {
             "fill": {
              "color": "#C8D4E3"
             },
             "line": {
              "color": "white"
             }
            },
            "type": "table"
           }
          ]
         },
         "layout": {
          "annotationdefaults": {
           "arrowcolor": "#2a3f5f",
           "arrowhead": 0,
           "arrowwidth": 1
          },
          "autotypenumbers": "strict",
          "coloraxis": {
           "colorbar": {
            "outlinewidth": 0,
            "ticks": ""
           }
          },
          "colorscale": {
           "diverging": [
            [
             0,
             "#8e0152"
            ],
            [
             0.1,
             "#c51b7d"
            ],
            [
             0.2,
             "#de77ae"
            ],
            [
             0.3,
             "#f1b6da"
            ],
            [
             0.4,
             "#fde0ef"
            ],
            [
             0.5,
             "#f7f7f7"
            ],
            [
             0.6,
             "#e6f5d0"
            ],
            [
             0.7,
             "#b8e186"
            ],
            [
             0.8,
             "#7fbc41"
            ],
            [
             0.9,
             "#4d9221"
            ],
            [
             1,
             "#276419"
            ]
           ],
           "sequential": [
            [
             0,
             "#0d0887"
            ],
            [
             0.1111111111111111,
             "#46039f"
            ],
            [
             0.2222222222222222,
             "#7201a8"
            ],
            [
             0.3333333333333333,
             "#9c179e"
            ],
            [
             0.4444444444444444,
             "#bd3786"
            ],
            [
             0.5555555555555556,
             "#d8576b"
            ],
            [
             0.6666666666666666,
             "#ed7953"
            ],
            [
             0.7777777777777778,
             "#fb9f3a"
            ],
            [
             0.8888888888888888,
             "#fdca26"
            ],
            [
             1,
             "#f0f921"
            ]
           ],
           "sequentialminus": [
            [
             0,
             "#0d0887"
            ],
            [
             0.1111111111111111,
             "#46039f"
            ],
            [
             0.2222222222222222,
             "#7201a8"
            ],
            [
             0.3333333333333333,
             "#9c179e"
            ],
            [
             0.4444444444444444,
             "#bd3786"
            ],
            [
             0.5555555555555556,
             "#d8576b"
            ],
            [
             0.6666666666666666,
             "#ed7953"
            ],
            [
             0.7777777777777778,
             "#fb9f3a"
            ],
            [
             0.8888888888888888,
             "#fdca26"
            ],
            [
             1,
             "#f0f921"
            ]
           ]
          },
          "colorway": [
           "#636efa",
           "#EF553B",
           "#00cc96",
           "#ab63fa",
           "#FFA15A",
           "#19d3f3",
           "#FF6692",
           "#B6E880",
           "#FF97FF",
           "#FECB52"
          ],
          "font": {
           "color": "#2a3f5f"
          },
          "geo": {
           "bgcolor": "white",
           "lakecolor": "white",
           "landcolor": "#E5ECF6",
           "showlakes": true,
           "showland": true,
           "subunitcolor": "white"
          },
          "hoverlabel": {
           "align": "left"
          },
          "hovermode": "closest",
          "mapbox": {
           "style": "light"
          },
          "paper_bgcolor": "white",
          "plot_bgcolor": "#E5ECF6",
          "polar": {
           "angularaxis": {
            "gridcolor": "white",
            "linecolor": "white",
            "ticks": ""
           },
           "bgcolor": "#E5ECF6",
           "radialaxis": {
            "gridcolor": "white",
            "linecolor": "white",
            "ticks": ""
           }
          },
          "scene": {
           "xaxis": {
            "backgroundcolor": "#E5ECF6",
            "gridcolor": "white",
            "gridwidth": 2,
            "linecolor": "white",
            "showbackground": true,
            "ticks": "",
            "zerolinecolor": "white"
           },
           "yaxis": {
            "backgroundcolor": "#E5ECF6",
            "gridcolor": "white",
            "gridwidth": 2,
            "linecolor": "white",
            "showbackground": true,
            "ticks": "",
            "zerolinecolor": "white"
           },
           "zaxis": {
            "backgroundcolor": "#E5ECF6",
            "gridcolor": "white",
            "gridwidth": 2,
            "linecolor": "white",
            "showbackground": true,
            "ticks": "",
            "zerolinecolor": "white"
           }
          },
          "shapedefaults": {
           "line": {
            "color": "#2a3f5f"
           }
          },
          "ternary": {
           "aaxis": {
            "gridcolor": "white",
            "linecolor": "white",
            "ticks": ""
           },
           "baxis": {
            "gridcolor": "white",
            "linecolor": "white",
            "ticks": ""
           },
           "bgcolor": "#E5ECF6",
           "caxis": {
            "gridcolor": "white",
            "linecolor": "white",
            "ticks": ""
           }
          },
          "title": {
           "x": 0.05
          },
          "xaxis": {
           "automargin": true,
           "gridcolor": "white",
           "linecolor": "white",
           "ticks": "",
           "title": {
            "standoff": 15
           },
           "zerolinecolor": "white",
           "zerolinewidth": 2
          },
          "yaxis": {
           "automargin": true,
           "gridcolor": "white",
           "linecolor": "white",
           "ticks": "",
           "title": {
            "standoff": 15
           },
           "zerolinecolor": "white",
           "zerolinewidth": 2
          }
         }
        },
        "title": {
         "text": "Alterspyramide der Studierenden (2013)"
        },
        "xaxis": {
         "anchor": "y",
         "domain": [
          0,
          1
         ],
         "tickmode": "array",
         "ticktext": [
          "20%",
          "10%",
          "0%",
          "10%",
          "20%"
         ],
         "tickvals": [
          -20,
          -10,
          0,
          10,
          20
         ],
         "title": {
          "text": "Anteil der Studierenden (%)"
         }
        },
        "yaxis": {
         "anchor": "x",
         "domain": [
          0,
          1
         ],
         "title": {
          "text": "Altersgruppe"
         }
        }
       }
      }
     },
     "metadata": {},
     "output_type": "display_data"
    }
   ],
   "source": [
    "fig = px.bar(\n",
    "    df_pyramide_latest, \n",
    "    x=\"Anteil (%)\", \n",
    "    y=\"Altersgruppe\", \n",
    "    color=\"Studiengang\", \n",
    "    orientation=\"h\",  # Horizontal\n",
    "    title=f\"Alterspyramide der Studierenden ({jahrgang})\",\n",
    "    color_discrete_map={\"Bachelor\": \"#1f77b4\", \"Master\": \"#ff7f0e\"},  # Blautöne für Bachelor, Orange für Master\n",
    ")\n",
    "\n",
    "# Layout-Anpassungen\n",
    "fig.update_layout(\n",
    "    #template=\"infoviz\",\n",
    "    xaxis_title=\"Anteil der Studierenden (%)\",\n",
    "    yaxis_title=\"Altersgruppe\",\n",
    "    xaxis=dict(\n",
    "        tickmode=\"array\",\n",
    "        tickvals=[-20, -10, 0, 10, 20],  # Achse zentrieren\n",
    "        ticktext=[\"20%\", \"10%\", \"0%\", \"10%\", \"20%\"]\n",
    "    ),\n",
    "    legend_title=\"Studiengang\"\n",
    ")\n",
    "\n",
    "fig.show()"
   ]
  },
  {
   "cell_type": "code",
   "execution_count": 71,
   "metadata": {},
   "outputs": [],
   "source": [
    "# Neuen DataFrame erstellen mit nur den letzten Jahrgang\n",
    "jahrgang = \"2024\"  # Letztes verfügbares Jahr\n",
    "df_pyramide_latest = df_pyramide[df_pyramide[\"Jahr\"] == jahrgang]"
   ]
  },
  {
   "cell_type": "code",
   "execution_count": 72,
   "metadata": {},
   "outputs": [
    {
     "data": {
      "application/vnd.plotly.v1+json": {
       "config": {
        "plotlyServerURL": "https://plot.ly"
       },
       "data": [
        {
         "hovertemplate": "Studiengang=Bachelor<br>Anteil (%)=%{x}<br>Altersgruppe=%{y}<extra></extra>",
         "legendgroup": "Bachelor",
         "marker": {
          "color": "#1f77b4",
          "pattern": {
           "shape": ""
          }
         },
         "name": "Bachelor",
         "orientation": "h",
         "showlegend": true,
         "textposition": "auto",
         "type": "bar",
         "x": {
          "bdata": "AAAAAAAAAIDg5RS8nAI4wPrQWB8aS0XAY31orA+NNMA01ofG+tASwC6n4OUUvBDA5RS8nIKX+7/Cyyl4OQUFwA==",
          "dtype": "f8"
         },
         "xaxis": "x",
         "y": [
          "unter 18 Jahre (%)",
          "18 bis 20 Jahre (%)",
          "21 bis 23 Jahre (%)",
          "24 bis 26 Jahre (%)",
          "27 bis 29 Jahre (%)",
          "30 bis 32 Jahre (%)",
          "33 bis 35 Jahre (%)",
          "älter als 35 Jahre (%)"
         ],
         "yaxis": "y"
        },
        {
         "hovertemplate": "Studiengang=Master<br>Anteil (%)=%{x}<br>Altersgruppe=%{y}<extra></extra>",
         "legendgroup": "Master",
         "marker": {
          "color": "#ff7f0e",
          "pattern": {
           "shape": ""
          }
         },
         "name": "Master",
         "orientation": "h",
         "showlegend": true,
         "textposition": "auto",
         "type": "bar",
         "x": {
          "bdata": "AAAAAAAAAAAAAAAAAAAAAK9P16fr0zFAk7/J3+TvQ0BIc6Q50hw5QMu4ZdwybhVAn9XOame1C0BYFCwKFgUbQA==",
          "dtype": "f8"
         },
         "xaxis": "x",
         "y": [
          "unter 18 Jahre (%)",
          "18 bis 20 Jahre (%)",
          "21 bis 23 Jahre (%)",
          "24 bis 26 Jahre (%)",
          "27 bis 29 Jahre (%)",
          "30 bis 32 Jahre (%)",
          "33 bis 35 Jahre (%)",
          "älter als 35 Jahre (%)"
         ],
         "yaxis": "y"
        }
       ],
       "layout": {
        "barmode": "relative",
        "legend": {
         "title": {
          "text": "Studiengang"
         },
         "tracegroupgap": 0
        },
        "template": {
         "data": {
          "bar": [
           {
            "error_x": {
             "color": "#2a3f5f"
            },
            "error_y": {
             "color": "#2a3f5f"
            },
            "marker": {
             "line": {
              "color": "#E5ECF6",
              "width": 0.5
             },
             "pattern": {
              "fillmode": "overlay",
              "size": 10,
              "solidity": 0.2
             }
            },
            "type": "bar"
           }
          ],
          "barpolar": [
           {
            "marker": {
             "line": {
              "color": "#E5ECF6",
              "width": 0.5
             },
             "pattern": {
              "fillmode": "overlay",
              "size": 10,
              "solidity": 0.2
             }
            },
            "type": "barpolar"
           }
          ],
          "carpet": [
           {
            "aaxis": {
             "endlinecolor": "#2a3f5f",
             "gridcolor": "white",
             "linecolor": "white",
             "minorgridcolor": "white",
             "startlinecolor": "#2a3f5f"
            },
            "baxis": {
             "endlinecolor": "#2a3f5f",
             "gridcolor": "white",
             "linecolor": "white",
             "minorgridcolor": "white",
             "startlinecolor": "#2a3f5f"
            },
            "type": "carpet"
           }
          ],
          "choropleth": [
           {
            "colorbar": {
             "outlinewidth": 0,
             "ticks": ""
            },
            "type": "choropleth"
           }
          ],
          "contour": [
           {
            "colorbar": {
             "outlinewidth": 0,
             "ticks": ""
            },
            "colorscale": [
             [
              0,
              "#0d0887"
             ],
             [
              0.1111111111111111,
              "#46039f"
             ],
             [
              0.2222222222222222,
              "#7201a8"
             ],
             [
              0.3333333333333333,
              "#9c179e"
             ],
             [
              0.4444444444444444,
              "#bd3786"
             ],
             [
              0.5555555555555556,
              "#d8576b"
             ],
             [
              0.6666666666666666,
              "#ed7953"
             ],
             [
              0.7777777777777778,
              "#fb9f3a"
             ],
             [
              0.8888888888888888,
              "#fdca26"
             ],
             [
              1,
              "#f0f921"
             ]
            ],
            "type": "contour"
           }
          ],
          "contourcarpet": [
           {
            "colorbar": {
             "outlinewidth": 0,
             "ticks": ""
            },
            "type": "contourcarpet"
           }
          ],
          "heatmap": [
           {
            "colorbar": {
             "outlinewidth": 0,
             "ticks": ""
            },
            "colorscale": [
             [
              0,
              "#0d0887"
             ],
             [
              0.1111111111111111,
              "#46039f"
             ],
             [
              0.2222222222222222,
              "#7201a8"
             ],
             [
              0.3333333333333333,
              "#9c179e"
             ],
             [
              0.4444444444444444,
              "#bd3786"
             ],
             [
              0.5555555555555556,
              "#d8576b"
             ],
             [
              0.6666666666666666,
              "#ed7953"
             ],
             [
              0.7777777777777778,
              "#fb9f3a"
             ],
             [
              0.8888888888888888,
              "#fdca26"
             ],
             [
              1,
              "#f0f921"
             ]
            ],
            "type": "heatmap"
           }
          ],
          "histogram": [
           {
            "marker": {
             "pattern": {
              "fillmode": "overlay",
              "size": 10,
              "solidity": 0.2
             }
            },
            "type": "histogram"
           }
          ],
          "histogram2d": [
           {
            "colorbar": {
             "outlinewidth": 0,
             "ticks": ""
            },
            "colorscale": [
             [
              0,
              "#0d0887"
             ],
             [
              0.1111111111111111,
              "#46039f"
             ],
             [
              0.2222222222222222,
              "#7201a8"
             ],
             [
              0.3333333333333333,
              "#9c179e"
             ],
             [
              0.4444444444444444,
              "#bd3786"
             ],
             [
              0.5555555555555556,
              "#d8576b"
             ],
             [
              0.6666666666666666,
              "#ed7953"
             ],
             [
              0.7777777777777778,
              "#fb9f3a"
             ],
             [
              0.8888888888888888,
              "#fdca26"
             ],
             [
              1,
              "#f0f921"
             ]
            ],
            "type": "histogram2d"
           }
          ],
          "histogram2dcontour": [
           {
            "colorbar": {
             "outlinewidth": 0,
             "ticks": ""
            },
            "colorscale": [
             [
              0,
              "#0d0887"
             ],
             [
              0.1111111111111111,
              "#46039f"
             ],
             [
              0.2222222222222222,
              "#7201a8"
             ],
             [
              0.3333333333333333,
              "#9c179e"
             ],
             [
              0.4444444444444444,
              "#bd3786"
             ],
             [
              0.5555555555555556,
              "#d8576b"
             ],
             [
              0.6666666666666666,
              "#ed7953"
             ],
             [
              0.7777777777777778,
              "#fb9f3a"
             ],
             [
              0.8888888888888888,
              "#fdca26"
             ],
             [
              1,
              "#f0f921"
             ]
            ],
            "type": "histogram2dcontour"
           }
          ],
          "mesh3d": [
           {
            "colorbar": {
             "outlinewidth": 0,
             "ticks": ""
            },
            "type": "mesh3d"
           }
          ],
          "parcoords": [
           {
            "line": {
             "colorbar": {
              "outlinewidth": 0,
              "ticks": ""
             }
            },
            "type": "parcoords"
           }
          ],
          "pie": [
           {
            "automargin": true,
            "type": "pie"
           }
          ],
          "scatter": [
           {
            "fillpattern": {
             "fillmode": "overlay",
             "size": 10,
             "solidity": 0.2
            },
            "type": "scatter"
           }
          ],
          "scatter3d": [
           {
            "line": {
             "colorbar": {
              "outlinewidth": 0,
              "ticks": ""
             }
            },
            "marker": {
             "colorbar": {
              "outlinewidth": 0,
              "ticks": ""
             }
            },
            "type": "scatter3d"
           }
          ],
          "scattercarpet": [
           {
            "marker": {
             "colorbar": {
              "outlinewidth": 0,
              "ticks": ""
             }
            },
            "type": "scattercarpet"
           }
          ],
          "scattergeo": [
           {
            "marker": {
             "colorbar": {
              "outlinewidth": 0,
              "ticks": ""
             }
            },
            "type": "scattergeo"
           }
          ],
          "scattergl": [
           {
            "marker": {
             "colorbar": {
              "outlinewidth": 0,
              "ticks": ""
             }
            },
            "type": "scattergl"
           }
          ],
          "scattermap": [
           {
            "marker": {
             "colorbar": {
              "outlinewidth": 0,
              "ticks": ""
             }
            },
            "type": "scattermap"
           }
          ],
          "scattermapbox": [
           {
            "marker": {
             "colorbar": {
              "outlinewidth": 0,
              "ticks": ""
             }
            },
            "type": "scattermapbox"
           }
          ],
          "scatterpolar": [
           {
            "marker": {
             "colorbar": {
              "outlinewidth": 0,
              "ticks": ""
             }
            },
            "type": "scatterpolar"
           }
          ],
          "scatterpolargl": [
           {
            "marker": {
             "colorbar": {
              "outlinewidth": 0,
              "ticks": ""
             }
            },
            "type": "scatterpolargl"
           }
          ],
          "scatterternary": [
           {
            "marker": {
             "colorbar": {
              "outlinewidth": 0,
              "ticks": ""
             }
            },
            "type": "scatterternary"
           }
          ],
          "surface": [
           {
            "colorbar": {
             "outlinewidth": 0,
             "ticks": ""
            },
            "colorscale": [
             [
              0,
              "#0d0887"
             ],
             [
              0.1111111111111111,
              "#46039f"
             ],
             [
              0.2222222222222222,
              "#7201a8"
             ],
             [
              0.3333333333333333,
              "#9c179e"
             ],
             [
              0.4444444444444444,
              "#bd3786"
             ],
             [
              0.5555555555555556,
              "#d8576b"
             ],
             [
              0.6666666666666666,
              "#ed7953"
             ],
             [
              0.7777777777777778,
              "#fb9f3a"
             ],
             [
              0.8888888888888888,
              "#fdca26"
             ],
             [
              1,
              "#f0f921"
             ]
            ],
            "type": "surface"
           }
          ],
          "table": [
           {
            "cells": {
             "fill": {
              "color": "#EBF0F8"
             },
             "line": {
              "color": "white"
             }
            },
            "header": {
             "fill": {
              "color": "#C8D4E3"
             },
             "line": {
              "color": "white"
             }
            },
            "type": "table"
           }
          ]
         },
         "layout": {
          "annotationdefaults": {
           "arrowcolor": "#2a3f5f",
           "arrowhead": 0,
           "arrowwidth": 1
          },
          "autotypenumbers": "strict",
          "coloraxis": {
           "colorbar": {
            "outlinewidth": 0,
            "ticks": ""
           }
          },
          "colorscale": {
           "diverging": [
            [
             0,
             "#8e0152"
            ],
            [
             0.1,
             "#c51b7d"
            ],
            [
             0.2,
             "#de77ae"
            ],
            [
             0.3,
             "#f1b6da"
            ],
            [
             0.4,
             "#fde0ef"
            ],
            [
             0.5,
             "#f7f7f7"
            ],
            [
             0.6,
             "#e6f5d0"
            ],
            [
             0.7,
             "#b8e186"
            ],
            [
             0.8,
             "#7fbc41"
            ],
            [
             0.9,
             "#4d9221"
            ],
            [
             1,
             "#276419"
            ]
           ],
           "sequential": [
            [
             0,
             "#0d0887"
            ],
            [
             0.1111111111111111,
             "#46039f"
            ],
            [
             0.2222222222222222,
             "#7201a8"
            ],
            [
             0.3333333333333333,
             "#9c179e"
            ],
            [
             0.4444444444444444,
             "#bd3786"
            ],
            [
             0.5555555555555556,
             "#d8576b"
            ],
            [
             0.6666666666666666,
             "#ed7953"
            ],
            [
             0.7777777777777778,
             "#fb9f3a"
            ],
            [
             0.8888888888888888,
             "#fdca26"
            ],
            [
             1,
             "#f0f921"
            ]
           ],
           "sequentialminus": [
            [
             0,
             "#0d0887"
            ],
            [
             0.1111111111111111,
             "#46039f"
            ],
            [
             0.2222222222222222,
             "#7201a8"
            ],
            [
             0.3333333333333333,
             "#9c179e"
            ],
            [
             0.4444444444444444,
             "#bd3786"
            ],
            [
             0.5555555555555556,
             "#d8576b"
            ],
            [
             0.6666666666666666,
             "#ed7953"
            ],
            [
             0.7777777777777778,
             "#fb9f3a"
            ],
            [
             0.8888888888888888,
             "#fdca26"
            ],
            [
             1,
             "#f0f921"
            ]
           ]
          },
          "colorway": [
           "#636efa",
           "#EF553B",
           "#00cc96",
           "#ab63fa",
           "#FFA15A",
           "#19d3f3",
           "#FF6692",
           "#B6E880",
           "#FF97FF",
           "#FECB52"
          ],
          "font": {
           "color": "#2a3f5f"
          },
          "geo": {
           "bgcolor": "white",
           "lakecolor": "white",
           "landcolor": "#E5ECF6",
           "showlakes": true,
           "showland": true,
           "subunitcolor": "white"
          },
          "hoverlabel": {
           "align": "left"
          },
          "hovermode": "closest",
          "mapbox": {
           "style": "light"
          },
          "paper_bgcolor": "white",
          "plot_bgcolor": "#E5ECF6",
          "polar": {
           "angularaxis": {
            "gridcolor": "white",
            "linecolor": "white",
            "ticks": ""
           },
           "bgcolor": "#E5ECF6",
           "radialaxis": {
            "gridcolor": "white",
            "linecolor": "white",
            "ticks": ""
           }
          },
          "scene": {
           "xaxis": {
            "backgroundcolor": "#E5ECF6",
            "gridcolor": "white",
            "gridwidth": 2,
            "linecolor": "white",
            "showbackground": true,
            "ticks": "",
            "zerolinecolor": "white"
           },
           "yaxis": {
            "backgroundcolor": "#E5ECF6",
            "gridcolor": "white",
            "gridwidth": 2,
            "linecolor": "white",
            "showbackground": true,
            "ticks": "",
            "zerolinecolor": "white"
           },
           "zaxis": {
            "backgroundcolor": "#E5ECF6",
            "gridcolor": "white",
            "gridwidth": 2,
            "linecolor": "white",
            "showbackground": true,
            "ticks": "",
            "zerolinecolor": "white"
           }
          },
          "shapedefaults": {
           "line": {
            "color": "#2a3f5f"
           }
          },
          "ternary": {
           "aaxis": {
            "gridcolor": "white",
            "linecolor": "white",
            "ticks": ""
           },
           "baxis": {
            "gridcolor": "white",
            "linecolor": "white",
            "ticks": ""
           },
           "bgcolor": "#E5ECF6",
           "caxis": {
            "gridcolor": "white",
            "linecolor": "white",
            "ticks": ""
           }
          },
          "title": {
           "x": 0.05
          },
          "xaxis": {
           "automargin": true,
           "gridcolor": "white",
           "linecolor": "white",
           "ticks": "",
           "title": {
            "standoff": 15
           },
           "zerolinecolor": "white",
           "zerolinewidth": 2
          },
          "yaxis": {
           "automargin": true,
           "gridcolor": "white",
           "linecolor": "white",
           "ticks": "",
           "title": {
            "standoff": 15
           },
           "zerolinecolor": "white",
           "zerolinewidth": 2
          }
         }
        },
        "title": {
         "text": "Alterspyramide der Studierenden (2024)"
        },
        "xaxis": {
         "anchor": "y",
         "domain": [
          0,
          1
         ],
         "tickmode": "array",
         "ticktext": [
          "20%",
          "10%",
          "0%",
          "10%",
          "20%"
         ],
         "tickvals": [
          -20,
          -10,
          0,
          10,
          20
         ],
         "title": {
          "text": "Anteil der Studierenden (%)"
         }
        },
        "yaxis": {
         "anchor": "x",
         "domain": [
          0,
          1
         ],
         "title": {
          "text": "Altersgruppe"
         }
        }
       }
      }
     },
     "metadata": {},
     "output_type": "display_data"
    }
   ],
   "source": [
    "fig = px.bar(\n",
    "    df_pyramide_latest, \n",
    "    x=\"Anteil (%)\", \n",
    "    y=\"Altersgruppe\", \n",
    "    color=\"Studiengang\", \n",
    "    orientation=\"h\",  # Horizontal\n",
    "    title=f\"Alterspyramide der Studierenden ({jahrgang})\",\n",
    "    color_discrete_map={\"Bachelor\": \"#1f77b4\", \"Master\": \"#ff7f0e\"},  # Blautöne für Bachelor, Orange für Master\n",
    ")\n",
    "\n",
    "# Layout-Anpassungen\n",
    "fig.update_layout(\n",
    "    #template=\"infoviz\",\n",
    "    xaxis_title=\"Anteil der Studierenden (%)\",\n",
    "    yaxis_title=\"Altersgruppe\",\n",
    "    xaxis=dict(\n",
    "        tickmode=\"array\",\n",
    "        tickvals=[-20, -10, 0, 10, 20],  # Achse zentrieren\n",
    "        ticktext=[\"20%\", \"10%\", \"0%\", \"10%\", \"20%\"]\n",
    "    ),\n",
    "    legend_title=\"Studiengang\"\n",
    ")\n",
    "\n",
    "fig.show()"
   ]
  },
  {
   "cell_type": "code",
   "execution_count": 57,
   "metadata": {},
   "outputs": [
    {
     "data": {
      "application/vnd.plotly.v1+json": {
       "config": {
        "plotlyServerURL": "https://plot.ly"
       },
       "data": [
        {
         "marker": {
          "color": "#1f77b4"
         },
         "name": "Bachelor",
         "orientation": "h",
         "type": "bar",
         "x": {
          "bdata": "AAAAAAAAAIDg5RS8nAI4wPrQWB8aS0XAY31orA+NNMA01ofG+tASwC6n4OUUvBDA5RS8nIKX+7/Cyyl4OQUFwA==",
          "dtype": "f8"
         },
         "xaxis": "x",
         "y": [
          "unter 18 Jahre (%)",
          "18 bis 20 Jahre (%)",
          "21 bis 23 Jahre (%)",
          "24 bis 26 Jahre (%)",
          "27 bis 29 Jahre (%)",
          "30 bis 32 Jahre (%)",
          "33 bis 35 Jahre (%)",
          "älter als 35 Jahre (%)"
         ],
         "yaxis": "y"
        },
        {
         "marker": {
          "color": "#ff7f0e"
         },
         "name": "Master",
         "orientation": "h",
         "type": "bar",
         "x": {
          "bdata": "AAAAAAAAAAAAAAAAAAAAAK9P16fr0zFAk7/J3+TvQ0BIc6Q50hw5QMu4ZdwybhVAn9XOame1C0BYFCwKFgUbQA==",
          "dtype": "f8"
         },
         "xaxis": "x",
         "y": [
          "unter 18 Jahre (%)",
          "18 bis 20 Jahre (%)",
          "21 bis 23 Jahre (%)",
          "24 bis 26 Jahre (%)",
          "27 bis 29 Jahre (%)",
          "30 bis 32 Jahre (%)",
          "33 bis 35 Jahre (%)",
          "älter als 35 Jahre (%)"
         ],
         "yaxis": "y"
        },
        {
         "marker": {
          "color": "#1f77b4"
         },
         "orientation": "h",
         "type": "bar",
         "x": {
          "bdata": "AAAAAAAAAIBwAidwAqc1wHzFV3zF10jAr/iKr/iKMsCcwAmcwAkQwIM6qIM6qAPAkiRJkiRJ4r9g8RVf8RUPwA==",
          "dtype": "f8"
         },
         "xaxis": "x2",
         "y": [
          "unter 18 Jahre (%)",
          "18 bis 20 Jahre (%)",
          "21 bis 23 Jahre (%)",
          "24 bis 26 Jahre (%)",
          "27 bis 29 Jahre (%)",
          "30 bis 32 Jahre (%)",
          "33 bis 35 Jahre (%)",
          "älter als 35 Jahre (%)"
         ],
         "yaxis": "y2"
        },
        {
         "marker": {
          "color": "#ff7f0e"
         },
         "orientation": "h",
         "type": "bar",
         "x": {
          "bdata": "AAAAAAAAAAAAAAAAAAAAAM/zPM/z3DFAe57neZ7XR0C3bdu2bbs0QIdhGIZhmBdAuG3btm3bGUD0PM/zPM/zPw==",
          "dtype": "f8"
         },
         "xaxis": "x2",
         "y": [
          "unter 18 Jahre (%)",
          "18 bis 20 Jahre (%)",
          "21 bis 23 Jahre (%)",
          "24 bis 26 Jahre (%)",
          "27 bis 29 Jahre (%)",
          "30 bis 32 Jahre (%)",
          "33 bis 35 Jahre (%)",
          "älter als 35 Jahre (%)"
         ],
         "yaxis": "y2"
        },
        {
         "marker": {
          "color": "#1f77b4"
         },
         "orientation": "h",
         "type": "bar",
         "x": {
          "bdata": "CdP94idp/79+kvYsAp1IwMeubyarlEDAplpj1zeTIcA9LKN/UDEMwEdePurdjuu/0j+oGJ7m8r+N/kHF8DT3vw==",
          "dtype": "f8"
         },
         "xaxis": "x3",
         "y": [
          "unter 18 Jahre (%)",
          "18 bis 20 Jahre (%)",
          "21 bis 23 Jahre (%)",
          "24 bis 26 Jahre (%)",
          "27 bis 29 Jahre (%)",
          "30 bis 32 Jahre (%)",
          "33 bis 35 Jahre (%)",
          "älter als 35 Jahre (%)"
         ],
         "yaxis": "y3"
        },
        {
         "marker": {
          "color": "#ff7f0e"
         },
         "orientation": "h",
         "type": "bar",
         "x": {
          "bdata": "AAAAAAAAAACYnoXpWZjuP6hdidqVqEZAOxWrU7E6P0BC/A7E70AsQJ2K1alYnQJAJG9D8jYkB0DUrkTtStQGQA==",
          "dtype": "f8"
         },
         "xaxis": "x3",
         "y": [
          "unter 18 Jahre (%)",
          "18 bis 20 Jahre (%)",
          "21 bis 23 Jahre (%)",
          "24 bis 26 Jahre (%)",
          "27 bis 29 Jahre (%)",
          "30 bis 32 Jahre (%)",
          "33 bis 35 Jahre (%)",
          "älter als 35 Jahre (%)"
         ],
         "yaxis": "y3"
        },
        {
         "marker": {
          "color": "#1f77b4"
         },
         "orientation": "h",
         "type": "bar",
         "x": {
          "bdata": "AAAAAAAAAIAhtmnFvRNDwKwxkR6oXETA5GUwCjg0KMAcms/1x8sUwHeSpY4Q2wTAooBD87n+6L9KljpCbNPqvw==",
          "dtype": "f8"
         },
         "xaxis": "x4",
         "y": [
          "unter 18 Jahre (%)",
          "18 bis 20 Jahre (%)",
          "21 bis 23 Jahre (%)",
          "24 bis 26 Jahre (%)",
          "27 bis 29 Jahre (%)",
          "30 bis 32 Jahre (%)",
          "33 bis 35 Jahre (%)",
          "älter als 35 Jahre (%)"
         ],
         "yaxis": "y4"
        },
        {
         "marker": {
          "color": "#ff7f0e"
         },
         "orientation": "h",
         "type": "bar",
         "x": {
          "bdata": "AAAAAAAAAABbFOOU2/3dP4EHl72hJzVATsgLWwU1Q0Bhus6xRiI1QD+LYpxyuyVAQ0+qr2R+DkDJC1sFtRkIQA==",
          "dtype": "f8"
         },
         "xaxis": "x4",
         "y": [
          "unter 18 Jahre (%)",
          "18 bis 20 Jahre (%)",
          "21 bis 23 Jahre (%)",
          "24 bis 26 Jahre (%)",
          "27 bis 29 Jahre (%)",
          "30 bis 32 Jahre (%)",
          "33 bis 35 Jahre (%)",
          "älter als 35 Jahre (%)"
         ],
         "yaxis": "y4"
        },
        {
         "marker": {
          "color": "#1f77b4"
         },
         "orientation": "h",
         "type": "bar",
         "x": {
          "bdata": "AAAAAAAAAICqtFP4JOVAwLRx8w3UMEfA85xRpZ3CLcDMAsQJLiIJwIGpQ9Fs3Oy/l8mRQX7l6b8LECe4iITuvw==",
          "dtype": "f8"
         },
         "xaxis": "x5",
         "y": [
          "unter 18 Jahre (%)",
          "18 bis 20 Jahre (%)",
          "21 bis 23 Jahre (%)",
          "24 bis 26 Jahre (%)",
          "27 bis 29 Jahre (%)",
          "30 bis 32 Jahre (%)",
          "33 bis 35 Jahre (%)",
          "älter als 35 Jahre (%)"
         ],
         "yaxis": "y5"
        },
        {
         "marker": {
          "color": "#ff7f0e"
         },
         "orientation": "h",
         "type": "bar",
         "x": {
          "bdata": "AAAAAAAAAAAAAAAAAAAAAK7sc0hNsDJAoENqgvGWR0Bb2eeQmmAxQJZ9DqkJxiBAFIy3ss8hA0Cu7HNITTAOQA==",
          "dtype": "f8"
         },
         "xaxis": "x5",
         "y": [
          "unter 18 Jahre (%)",
          "18 bis 20 Jahre (%)",
          "21 bis 23 Jahre (%)",
          "24 bis 26 Jahre (%)",
          "27 bis 29 Jahre (%)",
          "30 bis 32 Jahre (%)",
          "33 bis 35 Jahre (%)",
          "älter als 35 Jahre (%)"
         ],
         "yaxis": "y5"
        },
        {
         "marker": {
          "color": "#1f77b4"
         },
         "orientation": "h",
         "type": "bar",
         "x": {
          "bdata": "AAAAAAAAAIDTm970pvdBwEkrkycg+kbAEW6p2bC/KcCGLGQhC1kMwB2Yawfm2vm/AAAAAAAAAIAFROere6TFvw==",
          "dtype": "f8"
         },
         "xaxis": "x6",
         "y": [
          "unter 18 Jahre (%)",
          "18 bis 20 Jahre (%)",
          "21 bis 23 Jahre (%)",
          "24 bis 26 Jahre (%)",
          "27 bis 29 Jahre (%)",
          "30 bis 32 Jahre (%)",
          "33 bis 35 Jahre (%)",
          "älter als 35 Jahre (%)"
         ],
         "yaxis": "y6"
        },
        {
         "marker": {
          "color": "#ff7f0e"
         },
         "orientation": "h",
         "type": "bar",
         "x": {
          "bdata": "AAAAAAAAAAAAAAAAAAAAAN0FfxUnpDNAixNS8ixjSUCj5FlG9IE0QGDFCSl5lhdAJ6TkWUb08T/Vsbc2THPnPw==",
          "dtype": "f8"
         },
         "xaxis": "x6",
         "y": [
          "unter 18 Jahre (%)",
          "18 bis 20 Jahre (%)",
          "21 bis 23 Jahre (%)",
          "24 bis 26 Jahre (%)",
          "27 bis 29 Jahre (%)",
          "30 bis 32 Jahre (%)",
          "33 bis 35 Jahre (%)",
          "älter als 35 Jahre (%)"
         ],
         "yaxis": "y6"
        },
        {
         "marker": {
          "color": "#1f77b4"
         },
         "orientation": "h",
         "type": "bar",
         "x": {
          "bdata": "Z3UYZSqeA8A4Qbgb+x5KwOnlT1toQEHAkMgJwt3YG8CHBizp5U/7v22hAUt6+fO/AAAAAAAAAIBtoQFLevnjvw==",
          "dtype": "f8"
         },
         "xaxis": "x7",
         "y": [
          "unter 18 Jahre (%)",
          "18 bis 20 Jahre (%)",
          "21 bis 23 Jahre (%)",
          "24 bis 26 Jahre (%)",
          "27 bis 29 Jahre (%)",
          "30 bis 32 Jahre (%)",
          "33 bis 35 Jahre (%)",
          "älter als 35 Jahre (%)"
         ],
         "yaxis": "y7"
        },
        {
         "marker": {
          "color": "#ff7f0e"
         },
         "orientation": "h",
         "type": "bar",
         "x": {
          "bdata": "AAAAAAAAAAAAAAAAAAAAAPo9t8SpX0FAlNdQXkN5O0Dr99wSp34lQK+hvIbyGgpAeQ3lNZTX8D8AAAAAAAAAAA==",
          "dtype": "f8"
         },
         "xaxis": "x7",
         "y": [
          "unter 18 Jahre (%)",
          "18 bis 20 Jahre (%)",
          "21 bis 23 Jahre (%)",
          "24 bis 26 Jahre (%)",
          "27 bis 29 Jahre (%)",
          "30 bis 32 Jahre (%)",
          "33 bis 35 Jahre (%)",
          "älter als 35 Jahre (%)"
         ],
         "yaxis": "y7"
        },
        {
         "marker": {
          "color": "#1f77b4"
         },
         "orientation": "h",
         "type": "bar",
         "x": {
          "bdata": "/oK75iVH1b9q3TOy9JA+wAR5SpCnBEnA0cZV/4A+LMD9hDgrPyEGwCTK0MZV//C/Ni85qgB/8b8uOydFmJvGvw==",
          "dtype": "f8"
         },
         "xaxis": "x8",
         "y": [
          "unter 18 Jahre (%)",
          "18 bis 20 Jahre (%)",
          "21 bis 23 Jahre (%)",
          "24 bis 26 Jahre (%)",
          "27 bis 29 Jahre (%)",
          "30 bis 32 Jahre (%)",
          "33 bis 35 Jahre (%)",
          "älter als 35 Jahre (%)"
         ],
         "yaxis": "y8"
        },
        {
         "marker": {
          "color": "#ff7f0e"
         },
         "orientation": "h",
         "type": "bar",
         "x": {
          "bdata": "AAAAAAAAAAAAAAAAAAAAACd2Yid2YjBAxk7sxE48SkDETuzETrw0QAAAAAAAQBlAKHZiJ3ZiAkBkJ3ZiJ3b/Pw==",
          "dtype": "f8"
         },
         "xaxis": "x8",
         "y": [
          "unter 18 Jahre (%)",
          "18 bis 20 Jahre (%)",
          "21 bis 23 Jahre (%)",
          "24 bis 26 Jahre (%)",
          "27 bis 29 Jahre (%)",
          "30 bis 32 Jahre (%)",
          "33 bis 35 Jahre (%)",
          "älter als 35 Jahre (%)"
         ],
         "yaxis": "y8"
        },
        {
         "marker": {
          "color": "#1f77b4"
         },
         "orientation": "h",
         "type": "bar",
         "x": {
          "bdata": "t4HX7pSr/r9hRzg2zWFGwLt2p1x14UHAiTWq6FnpJMDEPU6W8SAQwPYVYCQ/lPi/BjvCsWkO778zHgTS1svbvw==",
          "dtype": "f8"
         },
         "xaxis": "x9",
         "y": [
          "unter 18 Jahre (%)",
          "18 bis 20 Jahre (%)",
          "21 bis 23 Jahre (%)",
          "24 bis 26 Jahre (%)",
          "27 bis 29 Jahre (%)",
          "30 bis 32 Jahre (%)",
          "33 bis 35 Jahre (%)",
          "älter als 35 Jahre (%)"
         ],
         "yaxis": "y9"
        },
        {
         "marker": {
          "color": "#ff7f0e"
         },
         "orientation": "h",
         "type": "bar",
         "x": {
          "bdata": "AAAAAAAAAABIgzRIgzT8P5hv+ZZvuTxAG6RBGqQhRUD0Ld/yLd8xQMu3fMu3fBxABmmQBmmQ/j8AAAAAAAAAAA==",
          "dtype": "f8"
         },
         "xaxis": "x9",
         "y": [
          "unter 18 Jahre (%)",
          "18 bis 20 Jahre (%)",
          "21 bis 23 Jahre (%)",
          "24 bis 26 Jahre (%)",
          "27 bis 29 Jahre (%)",
          "30 bis 32 Jahre (%)",
          "33 bis 35 Jahre (%)",
          "älter als 35 Jahre (%)"
         ],
         "yaxis": "y9"
        },
        {
         "marker": {
          "color": "#1f77b4"
         },
         "orientation": "h",
         "type": "bar",
         "x": {
          "bdata": "AAAAAAAAAIADe8fUwB48wKSLLrroQkjAfcfUwN4xLsCkiy666KINwPkJcVZ+QgTAPyHOyk+I47900UUXXXT1vw==",
          "dtype": "f8"
         },
         "xaxis": "x10",
         "y": [
          "unter 18 Jahre (%)",
          "18 bis 20 Jahre (%)",
          "21 bis 23 Jahre (%)",
          "24 bis 26 Jahre (%)",
          "27 bis 29 Jahre (%)",
          "30 bis 32 Jahre (%)",
          "33 bis 35 Jahre (%)",
          "älter als 35 Jahre (%)"
         ],
         "yaxis": "y10"
        },
        {
         "marker": {
          "color": "#ff7f0e"
         },
         "orientation": "h",
         "type": "bar",
         "x": {
          "bdata": "AAAAAAAAAAAAAAAAAAAAAOh+7ud+7jFAZUqmZEqmT0DxCq/wCq8sQFy+5Vu+5QtAAAAAAAAAAAAM0iAN0iD9Pw==",
          "dtype": "f8"
         },
         "xaxis": "x10",
         "y": [
          "unter 18 Jahre (%)",
          "18 bis 20 Jahre (%)",
          "21 bis 23 Jahre (%)",
          "24 bis 26 Jahre (%)",
          "27 bis 29 Jahre (%)",
          "30 bis 32 Jahre (%)",
          "33 bis 35 Jahre (%)",
          "älter als 35 Jahre (%)"
         ],
         "yaxis": "y10"
        },
        {
         "marker": {
          "color": "#1f77b4"
         },
         "orientation": "h",
         "type": "bar",
         "x": {
          "bdata": "AAAAAAAAAIAODJdz1dsCwK0smej4+UTAEIG6Ec/8Q8AnYd/9itwjwPYEEagb8QTAMtHx82iMAsDUZhcHhsvpvw==",
          "dtype": "f8"
         },
         "xaxis": "x11",
         "y": [
          "unter 18 Jahre (%)",
          "18 bis 20 Jahre (%)",
          "21 bis 23 Jahre (%)",
          "24 bis 26 Jahre (%)",
          "27 bis 29 Jahre (%)",
          "30 bis 32 Jahre (%)",
          "33 bis 35 Jahre (%)",
          "älter als 35 Jahre (%)"
         ],
         "yaxis": "y11"
        },
        {
         "marker": {
          "color": "#ff7f0e"
         },
         "orientation": "h",
         "type": "bar",
         "x": {
          "bdata": "AAAAAAAAAAAAAAAAAAAAABQUFBQUFBRAFRQUFBT0QkAVFBQUFFRFQGppaWlpaSRAJCMjIyMjD0AAAAAAAAAAAA==",
          "dtype": "f8"
         },
         "xaxis": "x11",
         "y": [
          "unter 18 Jahre (%)",
          "18 bis 20 Jahre (%)",
          "21 bis 23 Jahre (%)",
          "24 bis 26 Jahre (%)",
          "27 bis 29 Jahre (%)",
          "30 bis 32 Jahre (%)",
          "33 bis 35 Jahre (%)",
          "älter als 35 Jahre (%)"
         ],
         "yaxis": "y11"
        },
        {
         "marker": {
          "color": "#1f77b4"
         },
         "orientation": "h",
         "type": "bar",
         "x": {
          "bdata": "AAAAAAAAAIBrypqypqw1wLOmrClrqkvA6Av6gr7gLcAGfUFf0BcMwKesKWvKmgLAjrgj7og74r8qa8qasqbwvw==",
          "dtype": "f8"
         },
         "xaxis": "x12",
         "y": [
          "unter 18 Jahre (%)",
          "18 bis 20 Jahre (%)",
          "21 bis 23 Jahre (%)",
          "24 bis 26 Jahre (%)",
          "27 bis 29 Jahre (%)",
          "30 bis 32 Jahre (%)",
          "33 bis 35 Jahre (%)",
          "älter als 35 Jahre (%)"
         ],
         "yaxis": "y12"
        },
        {
         "marker": {
          "color": "#ff7f0e"
         },
         "orientation": "h",
         "type": "bar",
         "x": {
          "bdata": "AAAAAAAAAAAAAAAAAAAAADUuR+NyNDRAEroXoXuRTEClbE3K1qQqQKF7EboXoSFAmp6F6VmY3j+YnoXpWZjePw==",
          "dtype": "f8"
         },
         "xaxis": "x12",
         "y": [
          "unter 18 Jahre (%)",
          "18 bis 20 Jahre (%)",
          "21 bis 23 Jahre (%)",
          "24 bis 26 Jahre (%)",
          "27 bis 29 Jahre (%)",
          "30 bis 32 Jahre (%)",
          "33 bis 35 Jahre (%)",
          "älter als 35 Jahre (%)"
         ],
         "yaxis": "y12"
        }
       ],
       "layout": {
        "annotations": [
         {
          "font": {
           "size": 16
          },
          "showarrow": false,
          "text": "Alterspyramide 2024",
          "x": 0.5,
          "xanchor": "center",
          "xref": "paper",
          "y": 1,
          "yanchor": "bottom",
          "yref": "paper"
         },
         {
          "font": {
           "size": 16
          },
          "showarrow": false,
          "text": "Alterspyramide 2023",
          "x": 0.5,
          "xanchor": "center",
          "xref": "paper",
          "y": 0.9131944444444444,
          "yanchor": "bottom",
          "yref": "paper"
         },
         {
          "font": {
           "size": 16
          },
          "showarrow": false,
          "text": "Alterspyramide 2022",
          "x": 0.5,
          "xanchor": "center",
          "xref": "paper",
          "y": 0.8263888888888888,
          "yanchor": "bottom",
          "yref": "paper"
         },
         {
          "font": {
           "size": 16
          },
          "showarrow": false,
          "text": "Alterspyramide 2021",
          "x": 0.5,
          "xanchor": "center",
          "xref": "paper",
          "y": 0.7395833333333333,
          "yanchor": "bottom",
          "yref": "paper"
         },
         {
          "font": {
           "size": 16
          },
          "showarrow": false,
          "text": "Alterspyramide 2020",
          "x": 0.5,
          "xanchor": "center",
          "xref": "paper",
          "y": 0.6527777777777777,
          "yanchor": "bottom",
          "yref": "paper"
         },
         {
          "font": {
           "size": 16
          },
          "showarrow": false,
          "text": "Alterspyramide 2019",
          "x": 0.5,
          "xanchor": "center",
          "xref": "paper",
          "y": 0.5659722222222223,
          "yanchor": "bottom",
          "yref": "paper"
         },
         {
          "font": {
           "size": 16
          },
          "showarrow": false,
          "text": "Alterspyramide 2018",
          "x": 0.5,
          "xanchor": "center",
          "xref": "paper",
          "y": 0.4791666666666667,
          "yanchor": "bottom",
          "yref": "paper"
         },
         {
          "font": {
           "size": 16
          },
          "showarrow": false,
          "text": "Alterspyramide 2017",
          "x": 0.5,
          "xanchor": "center",
          "xref": "paper",
          "y": 0.3923611111111111,
          "yanchor": "bottom",
          "yref": "paper"
         },
         {
          "font": {
           "size": 16
          },
          "showarrow": false,
          "text": "Alterspyramide 2016",
          "x": 0.5,
          "xanchor": "center",
          "xref": "paper",
          "y": 0.3055555555555556,
          "yanchor": "bottom",
          "yref": "paper"
         },
         {
          "font": {
           "size": 16
          },
          "showarrow": false,
          "text": "Alterspyramide 2015",
          "x": 0.5,
          "xanchor": "center",
          "xref": "paper",
          "y": 0.21875,
          "yanchor": "bottom",
          "yref": "paper"
         },
         {
          "font": {
           "size": 16
          },
          "showarrow": false,
          "text": "Alterspyramide 2014",
          "x": 0.5,
          "xanchor": "center",
          "xref": "paper",
          "y": 0.13194444444444445,
          "yanchor": "bottom",
          "yref": "paper"
         },
         {
          "font": {
           "size": 16
          },
          "showarrow": false,
          "text": "Alterspyramide 2013",
          "x": 0.5,
          "xanchor": "center",
          "xref": "paper",
          "y": 0.045138888888888895,
          "yanchor": "bottom",
          "yref": "paper"
         }
        ],
        "height": 3600,
        "showlegend": true,
        "template": {
         "data": {
          "bar": [
           {
            "error_x": {
             "color": "#2a3f5f"
            },
            "error_y": {
             "color": "#2a3f5f"
            },
            "marker": {
             "line": {
              "color": "#E5ECF6",
              "width": 0.5
             },
             "pattern": {
              "fillmode": "overlay",
              "size": 10,
              "solidity": 0.2
             }
            },
            "type": "bar"
           }
          ],
          "barpolar": [
           {
            "marker": {
             "line": {
              "color": "#E5ECF6",
              "width": 0.5
             },
             "pattern": {
              "fillmode": "overlay",
              "size": 10,
              "solidity": 0.2
             }
            },
            "type": "barpolar"
           }
          ],
          "carpet": [
           {
            "aaxis": {
             "endlinecolor": "#2a3f5f",
             "gridcolor": "white",
             "linecolor": "white",
             "minorgridcolor": "white",
             "startlinecolor": "#2a3f5f"
            },
            "baxis": {
             "endlinecolor": "#2a3f5f",
             "gridcolor": "white",
             "linecolor": "white",
             "minorgridcolor": "white",
             "startlinecolor": "#2a3f5f"
            },
            "type": "carpet"
           }
          ],
          "choropleth": [
           {
            "colorbar": {
             "outlinewidth": 0,
             "ticks": ""
            },
            "type": "choropleth"
           }
          ],
          "contour": [
           {
            "colorbar": {
             "outlinewidth": 0,
             "ticks": ""
            },
            "colorscale": [
             [
              0,
              "#0d0887"
             ],
             [
              0.1111111111111111,
              "#46039f"
             ],
             [
              0.2222222222222222,
              "#7201a8"
             ],
             [
              0.3333333333333333,
              "#9c179e"
             ],
             [
              0.4444444444444444,
              "#bd3786"
             ],
             [
              0.5555555555555556,
              "#d8576b"
             ],
             [
              0.6666666666666666,
              "#ed7953"
             ],
             [
              0.7777777777777778,
              "#fb9f3a"
             ],
             [
              0.8888888888888888,
              "#fdca26"
             ],
             [
              1,
              "#f0f921"
             ]
            ],
            "type": "contour"
           }
          ],
          "contourcarpet": [
           {
            "colorbar": {
             "outlinewidth": 0,
             "ticks": ""
            },
            "type": "contourcarpet"
           }
          ],
          "heatmap": [
           {
            "colorbar": {
             "outlinewidth": 0,
             "ticks": ""
            },
            "colorscale": [
             [
              0,
              "#0d0887"
             ],
             [
              0.1111111111111111,
              "#46039f"
             ],
             [
              0.2222222222222222,
              "#7201a8"
             ],
             [
              0.3333333333333333,
              "#9c179e"
             ],
             [
              0.4444444444444444,
              "#bd3786"
             ],
             [
              0.5555555555555556,
              "#d8576b"
             ],
             [
              0.6666666666666666,
              "#ed7953"
             ],
             [
              0.7777777777777778,
              "#fb9f3a"
             ],
             [
              0.8888888888888888,
              "#fdca26"
             ],
             [
              1,
              "#f0f921"
             ]
            ],
            "type": "heatmap"
           }
          ],
          "histogram": [
           {
            "marker": {
             "pattern": {
              "fillmode": "overlay",
              "size": 10,
              "solidity": 0.2
             }
            },
            "type": "histogram"
           }
          ],
          "histogram2d": [
           {
            "colorbar": {
             "outlinewidth": 0,
             "ticks": ""
            },
            "colorscale": [
             [
              0,
              "#0d0887"
             ],
             [
              0.1111111111111111,
              "#46039f"
             ],
             [
              0.2222222222222222,
              "#7201a8"
             ],
             [
              0.3333333333333333,
              "#9c179e"
             ],
             [
              0.4444444444444444,
              "#bd3786"
             ],
             [
              0.5555555555555556,
              "#d8576b"
             ],
             [
              0.6666666666666666,
              "#ed7953"
             ],
             [
              0.7777777777777778,
              "#fb9f3a"
             ],
             [
              0.8888888888888888,
              "#fdca26"
             ],
             [
              1,
              "#f0f921"
             ]
            ],
            "type": "histogram2d"
           }
          ],
          "histogram2dcontour": [
           {
            "colorbar": {
             "outlinewidth": 0,
             "ticks": ""
            },
            "colorscale": [
             [
              0,
              "#0d0887"
             ],
             [
              0.1111111111111111,
              "#46039f"
             ],
             [
              0.2222222222222222,
              "#7201a8"
             ],
             [
              0.3333333333333333,
              "#9c179e"
             ],
             [
              0.4444444444444444,
              "#bd3786"
             ],
             [
              0.5555555555555556,
              "#d8576b"
             ],
             [
              0.6666666666666666,
              "#ed7953"
             ],
             [
              0.7777777777777778,
              "#fb9f3a"
             ],
             [
              0.8888888888888888,
              "#fdca26"
             ],
             [
              1,
              "#f0f921"
             ]
            ],
            "type": "histogram2dcontour"
           }
          ],
          "mesh3d": [
           {
            "colorbar": {
             "outlinewidth": 0,
             "ticks": ""
            },
            "type": "mesh3d"
           }
          ],
          "parcoords": [
           {
            "line": {
             "colorbar": {
              "outlinewidth": 0,
              "ticks": ""
             }
            },
            "type": "parcoords"
           }
          ],
          "pie": [
           {
            "automargin": true,
            "type": "pie"
           }
          ],
          "scatter": [
           {
            "fillpattern": {
             "fillmode": "overlay",
             "size": 10,
             "solidity": 0.2
            },
            "type": "scatter"
           }
          ],
          "scatter3d": [
           {
            "line": {
             "colorbar": {
              "outlinewidth": 0,
              "ticks": ""
             }
            },
            "marker": {
             "colorbar": {
              "outlinewidth": 0,
              "ticks": ""
             }
            },
            "type": "scatter3d"
           }
          ],
          "scattercarpet": [
           {
            "marker": {
             "colorbar": {
              "outlinewidth": 0,
              "ticks": ""
             }
            },
            "type": "scattercarpet"
           }
          ],
          "scattergeo": [
           {
            "marker": {
             "colorbar": {
              "outlinewidth": 0,
              "ticks": ""
             }
            },
            "type": "scattergeo"
           }
          ],
          "scattergl": [
           {
            "marker": {
             "colorbar": {
              "outlinewidth": 0,
              "ticks": ""
             }
            },
            "type": "scattergl"
           }
          ],
          "scattermap": [
           {
            "marker": {
             "colorbar": {
              "outlinewidth": 0,
              "ticks": ""
             }
            },
            "type": "scattermap"
           }
          ],
          "scattermapbox": [
           {
            "marker": {
             "colorbar": {
              "outlinewidth": 0,
              "ticks": ""
             }
            },
            "type": "scattermapbox"
           }
          ],
          "scatterpolar": [
           {
            "marker": {
             "colorbar": {
              "outlinewidth": 0,
              "ticks": ""
             }
            },
            "type": "scatterpolar"
           }
          ],
          "scatterpolargl": [
           {
            "marker": {
             "colorbar": {
              "outlinewidth": 0,
              "ticks": ""
             }
            },
            "type": "scatterpolargl"
           }
          ],
          "scatterternary": [
           {
            "marker": {
             "colorbar": {
              "outlinewidth": 0,
              "ticks": ""
             }
            },
            "type": "scatterternary"
           }
          ],
          "surface": [
           {
            "colorbar": {
             "outlinewidth": 0,
             "ticks": ""
            },
            "colorscale": [
             [
              0,
              "#0d0887"
             ],
             [
              0.1111111111111111,
              "#46039f"
             ],
             [
              0.2222222222222222,
              "#7201a8"
             ],
             [
              0.3333333333333333,
              "#9c179e"
             ],
             [
              0.4444444444444444,
              "#bd3786"
             ],
             [
              0.5555555555555556,
              "#d8576b"
             ],
             [
              0.6666666666666666,
              "#ed7953"
             ],
             [
              0.7777777777777778,
              "#fb9f3a"
             ],
             [
              0.8888888888888888,
              "#fdca26"
             ],
             [
              1,
              "#f0f921"
             ]
            ],
            "type": "surface"
           }
          ],
          "table": [
           {
            "cells": {
             "fill": {
              "color": "#EBF0F8"
             },
             "line": {
              "color": "white"
             }
            },
            "header": {
             "fill": {
              "color": "#C8D4E3"
             },
             "line": {
              "color": "white"
             }
            },
            "type": "table"
           }
          ]
         },
         "layout": {
          "annotationdefaults": {
           "arrowcolor": "#2a3f5f",
           "arrowhead": 0,
           "arrowwidth": 1
          },
          "autotypenumbers": "strict",
          "coloraxis": {
           "colorbar": {
            "outlinewidth": 0,
            "ticks": ""
           }
          },
          "colorscale": {
           "diverging": [
            [
             0,
             "#8e0152"
            ],
            [
             0.1,
             "#c51b7d"
            ],
            [
             0.2,
             "#de77ae"
            ],
            [
             0.3,
             "#f1b6da"
            ],
            [
             0.4,
             "#fde0ef"
            ],
            [
             0.5,
             "#f7f7f7"
            ],
            [
             0.6,
             "#e6f5d0"
            ],
            [
             0.7,
             "#b8e186"
            ],
            [
             0.8,
             "#7fbc41"
            ],
            [
             0.9,
             "#4d9221"
            ],
            [
             1,
             "#276419"
            ]
           ],
           "sequential": [
            [
             0,
             "#0d0887"
            ],
            [
             0.1111111111111111,
             "#46039f"
            ],
            [
             0.2222222222222222,
             "#7201a8"
            ],
            [
             0.3333333333333333,
             "#9c179e"
            ],
            [
             0.4444444444444444,
             "#bd3786"
            ],
            [
             0.5555555555555556,
             "#d8576b"
            ],
            [
             0.6666666666666666,
             "#ed7953"
            ],
            [
             0.7777777777777778,
             "#fb9f3a"
            ],
            [
             0.8888888888888888,
             "#fdca26"
            ],
            [
             1,
             "#f0f921"
            ]
           ],
           "sequentialminus": [
            [
             0,
             "#0d0887"
            ],
            [
             0.1111111111111111,
             "#46039f"
            ],
            [
             0.2222222222222222,
             "#7201a8"
            ],
            [
             0.3333333333333333,
             "#9c179e"
            ],
            [
             0.4444444444444444,
             "#bd3786"
            ],
            [
             0.5555555555555556,
             "#d8576b"
            ],
            [
             0.6666666666666666,
             "#ed7953"
            ],
            [
             0.7777777777777778,
             "#fb9f3a"
            ],
            [
             0.8888888888888888,
             "#fdca26"
            ],
            [
             1,
             "#f0f921"
            ]
           ]
          },
          "colorway": [
           "#636efa",
           "#EF553B",
           "#00cc96",
           "#ab63fa",
           "#FFA15A",
           "#19d3f3",
           "#FF6692",
           "#B6E880",
           "#FF97FF",
           "#FECB52"
          ],
          "font": {
           "color": "#2a3f5f"
          },
          "geo": {
           "bgcolor": "white",
           "lakecolor": "white",
           "landcolor": "#E5ECF6",
           "showlakes": true,
           "showland": true,
           "subunitcolor": "white"
          },
          "hoverlabel": {
           "align": "left"
          },
          "hovermode": "closest",
          "mapbox": {
           "style": "light"
          },
          "paper_bgcolor": "white",
          "plot_bgcolor": "#E5ECF6",
          "polar": {
           "angularaxis": {
            "gridcolor": "white",
            "linecolor": "white",
            "ticks": ""
           },
           "bgcolor": "#E5ECF6",
           "radialaxis": {
            "gridcolor": "white",
            "linecolor": "white",
            "ticks": ""
           }
          },
          "scene": {
           "xaxis": {
            "backgroundcolor": "#E5ECF6",
            "gridcolor": "white",
            "gridwidth": 2,
            "linecolor": "white",
            "showbackground": true,
            "ticks": "",
            "zerolinecolor": "white"
           },
           "yaxis": {
            "backgroundcolor": "#E5ECF6",
            "gridcolor": "white",
            "gridwidth": 2,
            "linecolor": "white",
            "showbackground": true,
            "ticks": "",
            "zerolinecolor": "white"
           },
           "zaxis": {
            "backgroundcolor": "#E5ECF6",
            "gridcolor": "white",
            "gridwidth": 2,
            "linecolor": "white",
            "showbackground": true,
            "ticks": "",
            "zerolinecolor": "white"
           }
          },
          "shapedefaults": {
           "line": {
            "color": "#2a3f5f"
           }
          },
          "ternary": {
           "aaxis": {
            "gridcolor": "white",
            "linecolor": "white",
            "ticks": ""
           },
           "baxis": {
            "gridcolor": "white",
            "linecolor": "white",
            "ticks": ""
           },
           "bgcolor": "#E5ECF6",
           "caxis": {
            "gridcolor": "white",
            "linecolor": "white",
            "ticks": ""
           }
          },
          "title": {
           "x": 0.05
          },
          "xaxis": {
           "automargin": true,
           "gridcolor": "white",
           "linecolor": "white",
           "ticks": "",
           "title": {
            "standoff": 15
           },
           "zerolinecolor": "white",
           "zerolinewidth": 2
          },
          "yaxis": {
           "automargin": true,
           "gridcolor": "white",
           "linecolor": "white",
           "ticks": "",
           "title": {
            "standoff": 15
           },
           "zerolinecolor": "white",
           "zerolinewidth": 2
          }
         }
        },
        "title": {
         "text": "Alterspyramide der Studierenden über die Jahre"
        },
        "xaxis": {
         "anchor": "y",
         "domain": [
          0,
          1
         ],
         "matches": "x12",
         "showticklabels": false,
         "tickmode": "array",
         "ticktext": [
          "20%",
          "10%",
          "0%",
          "10%",
          "20%"
         ],
         "tickvals": [
          -20,
          -10,
          0,
          10,
          20
         ],
         "title": {
          "text": "Anteil der Studierenden (%)"
         }
        },
        "xaxis10": {
         "anchor": "y10",
         "domain": [
          0,
          1
         ],
         "matches": "x12",
         "showticklabels": false,
         "tickmode": "array",
         "ticktext": [
          "20%",
          "10%",
          "0%",
          "10%",
          "20%"
         ],
         "tickvals": [
          -20,
          -10,
          0,
          10,
          20
         ]
        },
        "xaxis11": {
         "anchor": "y11",
         "domain": [
          0,
          1
         ],
         "matches": "x12",
         "showticklabels": false,
         "tickmode": "array",
         "ticktext": [
          "20%",
          "10%",
          "0%",
          "10%",
          "20%"
         ],
         "tickvals": [
          -20,
          -10,
          0,
          10,
          20
         ]
        },
        "xaxis12": {
         "anchor": "y12",
         "domain": [
          0,
          1
         ],
         "tickmode": "array",
         "ticktext": [
          "20%",
          "10%",
          "0%",
          "10%",
          "20%"
         ],
         "tickvals": [
          -20,
          -10,
          0,
          10,
          20
         ]
        },
        "xaxis2": {
         "anchor": "y2",
         "domain": [
          0,
          1
         ],
         "matches": "x12",
         "showticklabels": false,
         "tickmode": "array",
         "ticktext": [
          "20%",
          "10%",
          "0%",
          "10%",
          "20%"
         ],
         "tickvals": [
          -20,
          -10,
          0,
          10,
          20
         ]
        },
        "xaxis3": {
         "anchor": "y3",
         "domain": [
          0,
          1
         ],
         "matches": "x12",
         "showticklabels": false,
         "tickmode": "array",
         "ticktext": [
          "20%",
          "10%",
          "0%",
          "10%",
          "20%"
         ],
         "tickvals": [
          -20,
          -10,
          0,
          10,
          20
         ]
        },
        "xaxis4": {
         "anchor": "y4",
         "domain": [
          0,
          1
         ],
         "matches": "x12",
         "showticklabels": false,
         "tickmode": "array",
         "ticktext": [
          "20%",
          "10%",
          "0%",
          "10%",
          "20%"
         ],
         "tickvals": [
          -20,
          -10,
          0,
          10,
          20
         ]
        },
        "xaxis5": {
         "anchor": "y5",
         "domain": [
          0,
          1
         ],
         "matches": "x12",
         "showticklabels": false,
         "tickmode": "array",
         "ticktext": [
          "20%",
          "10%",
          "0%",
          "10%",
          "20%"
         ],
         "tickvals": [
          -20,
          -10,
          0,
          10,
          20
         ]
        },
        "xaxis6": {
         "anchor": "y6",
         "domain": [
          0,
          1
         ],
         "matches": "x12",
         "showticklabels": false,
         "tickmode": "array",
         "ticktext": [
          "20%",
          "10%",
          "0%",
          "10%",
          "20%"
         ],
         "tickvals": [
          -20,
          -10,
          0,
          10,
          20
         ]
        },
        "xaxis7": {
         "anchor": "y7",
         "domain": [
          0,
          1
         ],
         "matches": "x12",
         "showticklabels": false,
         "tickmode": "array",
         "ticktext": [
          "20%",
          "10%",
          "0%",
          "10%",
          "20%"
         ],
         "tickvals": [
          -20,
          -10,
          0,
          10,
          20
         ]
        },
        "xaxis8": {
         "anchor": "y8",
         "domain": [
          0,
          1
         ],
         "matches": "x12",
         "showticklabels": false,
         "tickmode": "array",
         "ticktext": [
          "20%",
          "10%",
          "0%",
          "10%",
          "20%"
         ],
         "tickvals": [
          -20,
          -10,
          0,
          10,
          20
         ]
        },
        "xaxis9": {
         "anchor": "y9",
         "domain": [
          0,
          1
         ],
         "matches": "x12",
         "showticklabels": false,
         "tickmode": "array",
         "ticktext": [
          "20%",
          "10%",
          "0%",
          "10%",
          "20%"
         ],
         "tickvals": [
          -20,
          -10,
          0,
          10,
          20
         ]
        },
        "yaxis": {
         "anchor": "x",
         "domain": [
          0.9548611111111112,
          1
         ]
        },
        "yaxis10": {
         "anchor": "x10",
         "domain": [
          0.1736111111111111,
          0.21875
         ]
        },
        "yaxis11": {
         "anchor": "x11",
         "domain": [
          0.08680555555555555,
          0.13194444444444445
         ]
        },
        "yaxis12": {
         "anchor": "x12",
         "domain": [
          0,
          0.045138888888888895
         ]
        },
        "yaxis2": {
         "anchor": "x2",
         "domain": [
          0.8680555555555556,
          0.9131944444444444
         ]
        },
        "yaxis3": {
         "anchor": "x3",
         "domain": [
          0.78125,
          0.8263888888888888
         ]
        },
        "yaxis4": {
         "anchor": "x4",
         "domain": [
          0.6944444444444444,
          0.7395833333333333
         ]
        },
        "yaxis5": {
         "anchor": "x5",
         "domain": [
          0.6076388888888888,
          0.6527777777777777
         ]
        },
        "yaxis6": {
         "anchor": "x6",
         "domain": [
          0.5208333333333334,
          0.5659722222222223
         ]
        },
        "yaxis7": {
         "anchor": "x7",
         "domain": [
          0.4340277777777778,
          0.4791666666666667
         ]
        },
        "yaxis8": {
         "anchor": "x8",
         "domain": [
          0.3472222222222222,
          0.3923611111111111
         ]
        },
        "yaxis9": {
         "anchor": "x9",
         "domain": [
          0.2604166666666667,
          0.3055555555555556
         ]
        }
       }
      }
     },
     "metadata": {},
     "output_type": "display_data"
    }
   ],
   "source": [
    "import pandas as pd\n",
    "import plotly.graph_objects as go\n",
    "from plotly.subplots import make_subplots\n",
    "\n",
    "# Daten für die Alterspyramide umformen\n",
    "df_pyramide = df_alter.melt(id_vars=\"Jahr\", var_name=\"Altersgruppe\", value_name=\"Anteil (%)\")\n",
    "\n",
    "# Bachelor vs. Master identifizieren\n",
    "df_pyramide[\"Studiengang\"] = df_pyramide[\"Altersgruppe\"].apply(lambda x: \"Bachelor\" if \"Bachelor\" in x else \"Master\")\n",
    "\n",
    "# Altersgruppen umbenennen (Bachelor/Master entfernen)\n",
    "df_pyramide[\"Altersgruppe\"] = df_pyramide[\"Altersgruppe\"].str.replace(\"Bachelor \", \"\", regex=False)\n",
    "df_pyramide[\"Altersgruppe\"] = df_pyramide[\"Altersgruppe\"].str.replace(\"Master \", \"\", regex=False)\n",
    "\n",
    "# Bachelor-Werte negativ setzen für visuelle Trennung\n",
    "df_pyramide.loc[df_pyramide[\"Studiengang\"] == \"Bachelor\", \"Anteil (%)\"] *= -1\n",
    "\n",
    "# Einzigartige Jahre für Subplots\n",
    "jahre = sorted(df_pyramide[\"Jahr\"].unique(), reverse=True)\n",
    "num_years = len(jahre)\n",
    "\n",
    "# Subplots erstellen\n",
    "fig = make_subplots(\n",
    "    rows=num_years, cols=1,  # Eine Spalte, eine Zeile pro Jahr\n",
    "    shared_xaxes=True,  # Gleiche X-Achse für bessere Vergleichbarkeit\n",
    "    subplot_titles=[f\"Alterspyramide {jahr}\" for jahr in jahre]\n",
    ")\n",
    "\n",
    "# Farben definieren\n",
    "farben = {\"Bachelor\": \"#1f77b4\", \"Master\": \"#ff7f0e\"}  # Blau für Bachelor, Orange für Master\n",
    "\n",
    "# Daten für jedes Jahr als separaten Subplot hinzufügen\n",
    "for i, jahr in enumerate(jahre, start=1):\n",
    "    df_year = df_pyramide[df_pyramide[\"Jahr\"] == jahr]\n",
    "\n",
    "    for studiengang in [\"Bachelor\", \"Master\"]:\n",
    "        df_group = df_year[df_year[\"Studiengang\"] == studiengang]\n",
    "\n",
    "        fig.add_trace(\n",
    "            go.Bar(\n",
    "                x=df_group[\"Anteil (%)\"],\n",
    "                y=df_group[\"Altersgruppe\"],\n",
    "                orientation=\"h\",\n",
    "                name=studiengang if i == 1 else None,  # Legende nur einmal anzeigen\n",
    "                marker=dict(color=farben[studiengang]),\n",
    "            ),\n",
    "            row=i, col=1\n",
    "        )\n",
    "\n",
    "# Layout anpassen\n",
    "fig.update_layout(\n",
    "    title=\"Alterspyramide der Studierenden über die Jahre\",\n",
    "    #template=\"infoviz\",\n",
    "    xaxis_title=\"Anteil der Studierenden (%)\",\n",
    "    height=300 * num_years,  # Höhe dynamisch anpassen\n",
    "    showlegend=True,\n",
    ")\n",
    "\n",
    "# X-Achse so formatieren, dass negative und positive Werte gleichmäßig verteilt sind\n",
    "fig.update_xaxes(\n",
    "    tickmode=\"array\",\n",
    "    tickvals=[-20, -10, 0, 10, 20],\n",
    "    ticktext=[\"20%\", \"10%\", \"0%\", \"10%\", \"20%\"]\n",
    ")\n",
    "\n",
    "fig.show()"
   ]
  }
 ],
 "metadata": {
  "kernelspec": {
   "display_name": ".venv",
   "language": "python",
   "name": "python3"
  },
  "language_info": {
   "codemirror_mode": {
    "name": "ipython",
    "version": 3
   },
   "file_extension": ".py",
   "mimetype": "text/x-python",
   "name": "python",
   "nbconvert_exporter": "python",
   "pygments_lexer": "ipython3",
   "version": "3.12.4"
  }
 },
 "nbformat": 4,
 "nbformat_minor": 2
}
