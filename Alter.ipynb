{
 "cells": [
  {
   "cell_type": "markdown",
   "metadata": {},
   "source": [
    "# Alter\n",
    "- Linechart mit 3 Alterskohorten pro Bachelor/Master\n",
    "- Stacked Barchart aggregiert über alle Studiengänge über die Jahre\n"
   ]
  },
  {
   "cell_type": "code",
   "execution_count": 55,
   "metadata": {},
   "outputs": [],
   "source": [
    "import pandas as pd\n",
    "import plotly.express as px\n",
    "\n",
    "# Datei einlesen (ersetze 'data.xlsx' durch den tatsächlichen Dateinamen)\n",
    "file_path = \"data.xlsx\"\n",
    "\n",
    "# Alle Sheets einlesen, aber das erste Blatt ignorieren\n",
    "sheets = pd.read_excel(file_path, sheet_name=None, engine=\"openpyxl\")\n",
    "\n",
    "# Erstes Blatt entfernen\n",
    "sheets.pop(next(iter(sheets)))\n",
    "\n",
    "# Dictionary zur Speicherung der Altersgruppen\n",
    "alter_data = {\"Jahr\": []}\n",
    "\n",
    "# Durch alle Jahre iterieren\n",
    "for jahr, df in sheets.items():\n",
    "    df.columns = df.columns.astype(str).str.strip()  # Spaltennamen bereinigen\n",
    "\n",
    "    # Studiengänge für Bachelor & Master automatisch erkennen\n",
    "    bachelor_studiengaenge = df.filter(like=\"Bachelor\").columns\n",
    "    master_studiengaenge = df.filter(like=\"Master\").columns\n",
    "\n",
    "    # Gesamtanzahl der Studierenden pro Jahr für Gewichtung berechnen (nur für Variable \"Alter\")\n",
    "    total_bachelor_students = df[\n",
    "        (df[\"Variable\"] == \"Alter\") & (df[\"Category\"].str.contains(\"Anzahl\", na=False))\n",
    "    ][bachelor_studiengaenge].sum(axis=1).values[0]\n",
    "\n",
    "    total_master_students = df[\n",
    "        (df[\"Variable\"] == \"Alter\") & (df[\"Category\"].str.contains(\"Anzahl\", na=False))\n",
    "    ][master_studiengaenge].sum(axis=1).values[0]\n",
    "\n",
    "    # Altersgruppen extrahieren\n",
    "    altersgruppen = [\n",
    "        \"unter 18 Jahre (%)\",\n",
    "        \"18 bis 20 Jahre (%)\",\n",
    "        \"21 bis 23 Jahre (%)\",\n",
    "        \"24 bis 26 Jahre (%)\",\n",
    "        \"27 bis 29 Jahre (%)\",\n",
    "        \"30 bis 32 Jahre (%)\",\n",
    "        \"33 bis 35 Jahre (%)\",\n",
    "        \"älter als 35 Jahre (%)\"\n",
    "    ]\n",
    "\n",
    "    if jahr not in alter_data[\"Jahr\"]:\n",
    "        alter_data[\"Jahr\"].append(jahr)\n",
    "\n",
    "    for category in altersgruppen:\n",
    "        row = df[\n",
    "            (df[\"Variable\"] == \"Alter\") & (df[\"Category\"].str.contains(category, na=False, regex=False))\n",
    "        ]\n",
    "        if not row.empty:\n",
    "            # **Absoluten Wert für jede Altersgruppe pro Studiengang berechnen**\n",
    "            abs_bachelor = (row[bachelor_studiengaenge] / 100) * df[\n",
    "                (df[\"Variable\"] == \"Alter\") & (df[\"Category\"].str.contains(\"Anzahl\", na=False))\n",
    "            ][bachelor_studiengaenge].iloc[0]\n",
    "\n",
    "            abs_master = (row[master_studiengaenge] / 100) * df[\n",
    "                (df[\"Variable\"] == \"Alter\") & (df[\"Category\"].str.contains(\"Anzahl\", na=False))\n",
    "            ][master_studiengaenge].iloc[0]\n",
    "\n",
    "            # **Gesamte Anzahl an Studierenden in dieser Altersgruppe berechnen**\n",
    "            total_abs_bachelor = abs_bachelor.sum().sum()\n",
    "            total_abs_master = abs_master.sum().sum()\n",
    "\n",
    "            # **Gewichteter relativer Anteil berechnen**\n",
    "            weighted_bachelor = (total_abs_bachelor / total_bachelor_students) * 100\n",
    "            weighted_master = (total_abs_master / total_master_students) * 100\n",
    "\n",
    "            # Spaltennamen dynamisch hinzufügen\n",
    "            bachelor_col = f\"Bachelor {category}\"\n",
    "            master_col = f\"Master {category}\"\n",
    "\n",
    "            if bachelor_col not in alter_data:\n",
    "                alter_data[bachelor_col] = []\n",
    "            if master_col not in alter_data:\n",
    "                alter_data[master_col] = []\n",
    "\n",
    "            alter_data[bachelor_col].append(weighted_bachelor)\n",
    "            alter_data[master_col].append(weighted_master)\n",
    "\n",
    "# Daten als DataFrame formatieren\n",
    "df_alter = pd.DataFrame(alter_data).sort_values(by=\"Jahr\")"
   ]
  },
  {
   "cell_type": "code",
   "execution_count": 17,
   "metadata": {},
   "outputs": [
    {
     "data": {
      "text/html": [
       "<div>\n",
       "<style scoped>\n",
       "    .dataframe tbody tr th:only-of-type {\n",
       "        vertical-align: middle;\n",
       "    }\n",
       "\n",
       "    .dataframe tbody tr th {\n",
       "        vertical-align: top;\n",
       "    }\n",
       "\n",
       "    .dataframe thead th {\n",
       "        text-align: right;\n",
       "    }\n",
       "</style>\n",
       "<table border=\"1\" class=\"dataframe\">\n",
       "  <thead>\n",
       "    <tr style=\"text-align: right;\">\n",
       "      <th></th>\n",
       "      <th>Jahr</th>\n",
       "      <th>Bachelor unter 18 Jahre (%)</th>\n",
       "      <th>Master unter 18 Jahre (%)</th>\n",
       "      <th>Bachelor 18 bis 20 Jahre (%)</th>\n",
       "      <th>Master 18 bis 20 Jahre (%)</th>\n",
       "      <th>Bachelor 21 bis 23 Jahre (%)</th>\n",
       "      <th>Master 21 bis 23 Jahre (%)</th>\n",
       "      <th>Bachelor 24 bis 26 Jahre (%)</th>\n",
       "      <th>Master 24 bis 26 Jahre (%)</th>\n",
       "      <th>Bachelor 27 bis 29 Jahre (%)</th>\n",
       "      <th>Master 27 bis 29 Jahre (%)</th>\n",
       "      <th>Bachelor 30 bis 32 Jahre (%)</th>\n",
       "      <th>Master 30 bis 32 Jahre (%)</th>\n",
       "      <th>Bachelor 33 bis 35 Jahre (%)</th>\n",
       "      <th>Master 33 bis 35 Jahre (%)</th>\n",
       "      <th>Bachelor älter als 35 Jahre (%)</th>\n",
       "      <th>Master älter als 35 Jahre (%)</th>\n",
       "    </tr>\n",
       "  </thead>\n",
       "  <tbody>\n",
       "    <tr>\n",
       "      <th>0</th>\n",
       "      <td>2013</td>\n",
       "      <td>0.000000</td>\n",
       "      <td>0.0</td>\n",
       "      <td>21.674419</td>\n",
       "      <td>0.000000</td>\n",
       "      <td>55.331395</td>\n",
       "      <td>20.204878</td>\n",
       "      <td>14.938953</td>\n",
       "      <td>57.136585</td>\n",
       "      <td>3.511628</td>\n",
       "      <td>13.321951</td>\n",
       "      <td>2.325581</td>\n",
       "      <td>8.814634</td>\n",
       "      <td>0.569767</td>\n",
       "      <td>0.478049</td>\n",
       "      <td>1.040698</td>\n",
       "      <td>0.478049</td>\n",
       "    </tr>\n",
       "    <tr>\n",
       "      <th>1</th>\n",
       "      <td>2014</td>\n",
       "      <td>0.000000</td>\n",
       "      <td>0.0</td>\n",
       "      <td>2.357341</td>\n",
       "      <td>0.000000</td>\n",
       "      <td>41.952909</td>\n",
       "      <td>5.019608</td>\n",
       "      <td>39.975069</td>\n",
       "      <td>37.906863</td>\n",
       "      <td>9.930748</td>\n",
       "      <td>42.656863</td>\n",
       "      <td>2.617729</td>\n",
       "      <td>10.205882</td>\n",
       "      <td>2.318560</td>\n",
       "      <td>3.892157</td>\n",
       "      <td>0.806094</td>\n",
       "      <td>0.000000</td>\n",
       "    </tr>\n",
       "    <tr>\n",
       "      <th>2</th>\n",
       "      <td>2015</td>\n",
       "      <td>0.000000</td>\n",
       "      <td>0.0</td>\n",
       "      <td>28.120130</td>\n",
       "      <td>0.000000</td>\n",
       "      <td>48.522727</td>\n",
       "      <td>17.931624</td>\n",
       "      <td>15.097403</td>\n",
       "      <td>2666.786325</td>\n",
       "      <td>3.704545</td>\n",
       "      <td>14.341880</td>\n",
       "      <td>2.532468</td>\n",
       "      <td>3.487179</td>\n",
       "      <td>0.610390</td>\n",
       "      <td>0.000000</td>\n",
       "      <td>1.340909</td>\n",
       "      <td>1.820513</td>\n",
       "    </tr>\n",
       "    <tr>\n",
       "      <th>3</th>\n",
       "      <td>2016</td>\n",
       "      <td>1.916890</td>\n",
       "      <td>0.0</td>\n",
       "      <td>44.764075</td>\n",
       "      <td>1.762821</td>\n",
       "      <td>35.761394</td>\n",
       "      <td>28.724359</td>\n",
       "      <td>10.455764</td>\n",
       "      <td>42.262821</td>\n",
       "      <td>4.032172</td>\n",
       "      <td>17.871795</td>\n",
       "      <td>1.536193</td>\n",
       "      <td>7.121795</td>\n",
       "      <td>0.970509</td>\n",
       "      <td>1.910256</td>\n",
       "      <td>0.434316</td>\n",
       "      <td>0.000000</td>\n",
       "    </tr>\n",
       "    <tr>\n",
       "      <th>4</th>\n",
       "      <td>2017</td>\n",
       "      <td>0.332468</td>\n",
       "      <td>0.0</td>\n",
       "      <td>30.566234</td>\n",
       "      <td>0.000000</td>\n",
       "      <td>50.036364</td>\n",
       "      <td>16.384615</td>\n",
       "      <td>14.122078</td>\n",
       "      <td>52.471154</td>\n",
       "      <td>2.766234</td>\n",
       "      <td>20.735577</td>\n",
       "      <td>1.062338</td>\n",
       "      <td>6.312500</td>\n",
       "      <td>1.093506</td>\n",
       "      <td>2.298077</td>\n",
       "      <td>0.176623</td>\n",
       "      <td>1.966346</td>\n",
       "    </tr>\n",
       "    <tr>\n",
       "      <th>5</th>\n",
       "      <td>2018</td>\n",
       "      <td>2.452229</td>\n",
       "      <td>0.0</td>\n",
       "      <td>52.242038</td>\n",
       "      <td>0.000000</td>\n",
       "      <td>34.503185</td>\n",
       "      <td>34.747368</td>\n",
       "      <td>6.961783</td>\n",
       "      <td>27.473684</td>\n",
       "      <td>1.707006</td>\n",
       "      <td>10.747368</td>\n",
       "      <td>1.248408</td>\n",
       "      <td>3.263158</td>\n",
       "      <td>0.000000</td>\n",
       "      <td>1.052632</td>\n",
       "      <td>0.624204</td>\n",
       "      <td>0.000000</td>\n",
       "    </tr>\n",
       "    <tr>\n",
       "      <th>6</th>\n",
       "      <td>2019</td>\n",
       "      <td>0.000000</td>\n",
       "      <td>0.0</td>\n",
       "      <td>35.934783</td>\n",
       "      <td>0.000000</td>\n",
       "      <td>45.954106</td>\n",
       "      <td>19.641221</td>\n",
       "      <td>12.874396</td>\n",
       "      <td>50.774809</td>\n",
       "      <td>3.543478</td>\n",
       "      <td>20.507634</td>\n",
       "      <td>1.615942</td>\n",
       "      <td>5.896947</td>\n",
       "      <td>0.000000</td>\n",
       "      <td>1.122137</td>\n",
       "      <td>0.169082</td>\n",
       "      <td>0.732824</td>\n",
       "    </tr>\n",
       "    <tr>\n",
       "      <th>7</th>\n",
       "      <td>2020</td>\n",
       "      <td>0.000000</td>\n",
       "      <td>0.0</td>\n",
       "      <td>33.790191</td>\n",
       "      <td>0.000000</td>\n",
       "      <td>46.381471</td>\n",
       "      <td>18.688679</td>\n",
       "      <td>14.880109</td>\n",
       "      <td>47.179245</td>\n",
       "      <td>3.141689</td>\n",
       "      <td>17.377358</td>\n",
       "      <td>0.901907</td>\n",
       "      <td>8.386792</td>\n",
       "      <td>0.809264</td>\n",
       "      <td>2.391509</td>\n",
       "      <td>0.953678</td>\n",
       "      <td>3.773585</td>\n",
       "    </tr>\n",
       "    <tr>\n",
       "      <th>8</th>\n",
       "      <td>2021</td>\n",
       "      <td>0.000000</td>\n",
       "      <td>0.0</td>\n",
       "      <td>38.154229</td>\n",
       "      <td>0.468619</td>\n",
       "      <td>40.723881</td>\n",
       "      <td>21.154812</td>\n",
       "      <td>12.101990</td>\n",
       "      <td>38.414226</td>\n",
       "      <td>5.199005</td>\n",
       "      <td>21.133891</td>\n",
       "      <td>2.606965</td>\n",
       "      <td>10.866109</td>\n",
       "      <td>0.781095</td>\n",
       "      <td>3.811715</td>\n",
       "      <td>0.838308</td>\n",
       "      <td>3.012552</td>\n",
       "    </tr>\n",
       "    <tr>\n",
       "      <th>9</th>\n",
       "      <td>2022</td>\n",
       "      <td>1.963173</td>\n",
       "      <td>0.0</td>\n",
       "      <td>49.226629</td>\n",
       "      <td>0.956098</td>\n",
       "      <td>33.161473</td>\n",
       "      <td>45.317073</td>\n",
       "      <td>8.787535</td>\n",
       "      <td>31.229268</td>\n",
       "      <td>3.524079</td>\n",
       "      <td>14.126829</td>\n",
       "      <td>0.861190</td>\n",
       "      <td>2.326829</td>\n",
       "      <td>1.181303</td>\n",
       "      <td>2.892683</td>\n",
       "      <td>1.450425</td>\n",
       "      <td>2.853659</td>\n",
       "    </tr>\n",
       "    <tr>\n",
       "      <th>10</th>\n",
       "      <td>2023</td>\n",
       "      <td>0.000000</td>\n",
       "      <td>0.0</td>\n",
       "      <td>21.652381</td>\n",
       "      <td>0.000000</td>\n",
       "      <td>49.685714</td>\n",
       "      <td>17.863095</td>\n",
       "      <td>18.542857</td>\n",
       "      <td>47.684524</td>\n",
       "      <td>4.009524</td>\n",
       "      <td>20.732143</td>\n",
       "      <td>2.457143</td>\n",
       "      <td>5.898810</td>\n",
       "      <td>0.571429</td>\n",
       "      <td>6.464286</td>\n",
       "      <td>3.885714</td>\n",
       "      <td>1.238095</td>\n",
       "    </tr>\n",
       "    <tr>\n",
       "      <th>11</th>\n",
       "      <td>2024</td>\n",
       "      <td>0.000000</td>\n",
       "      <td>0.0</td>\n",
       "      <td>24.010204</td>\n",
       "      <td>0.000000</td>\n",
       "      <td>42.586735</td>\n",
       "      <td>17.827815</td>\n",
       "      <td>20.551020</td>\n",
       "      <td>39.874172</td>\n",
       "      <td>4.704082</td>\n",
       "      <td>25.112583</td>\n",
       "      <td>4.183673</td>\n",
       "      <td>5.357616</td>\n",
       "      <td>1.724490</td>\n",
       "      <td>3.463576</td>\n",
       "      <td>2.627551</td>\n",
       "      <td>6.754967</td>\n",
       "    </tr>\n",
       "  </tbody>\n",
       "</table>\n",
       "</div>"
      ],
      "text/plain": [
       "    Jahr  Bachelor unter 18 Jahre (%)  Master unter 18 Jahre (%)  \\\n",
       "0   2013                     0.000000                        0.0   \n",
       "1   2014                     0.000000                        0.0   \n",
       "2   2015                     0.000000                        0.0   \n",
       "3   2016                     1.916890                        0.0   \n",
       "4   2017                     0.332468                        0.0   \n",
       "5   2018                     2.452229                        0.0   \n",
       "6   2019                     0.000000                        0.0   \n",
       "7   2020                     0.000000                        0.0   \n",
       "8   2021                     0.000000                        0.0   \n",
       "9   2022                     1.963173                        0.0   \n",
       "10  2023                     0.000000                        0.0   \n",
       "11  2024                     0.000000                        0.0   \n",
       "\n",
       "    Bachelor 18 bis 20 Jahre (%)  Master 18 bis 20 Jahre (%)  \\\n",
       "0                      21.674419                    0.000000   \n",
       "1                       2.357341                    0.000000   \n",
       "2                      28.120130                    0.000000   \n",
       "3                      44.764075                    1.762821   \n",
       "4                      30.566234                    0.000000   \n",
       "5                      52.242038                    0.000000   \n",
       "6                      35.934783                    0.000000   \n",
       "7                      33.790191                    0.000000   \n",
       "8                      38.154229                    0.468619   \n",
       "9                      49.226629                    0.956098   \n",
       "10                     21.652381                    0.000000   \n",
       "11                     24.010204                    0.000000   \n",
       "\n",
       "    Bachelor 21 bis 23 Jahre (%)  Master 21 bis 23 Jahre (%)  \\\n",
       "0                      55.331395                   20.204878   \n",
       "1                      41.952909                    5.019608   \n",
       "2                      48.522727                   17.931624   \n",
       "3                      35.761394                   28.724359   \n",
       "4                      50.036364                   16.384615   \n",
       "5                      34.503185                   34.747368   \n",
       "6                      45.954106                   19.641221   \n",
       "7                      46.381471                   18.688679   \n",
       "8                      40.723881                   21.154812   \n",
       "9                      33.161473                   45.317073   \n",
       "10                     49.685714                   17.863095   \n",
       "11                     42.586735                   17.827815   \n",
       "\n",
       "    Bachelor 24 bis 26 Jahre (%)  Master 24 bis 26 Jahre (%)  \\\n",
       "0                      14.938953                   57.136585   \n",
       "1                      39.975069                   37.906863   \n",
       "2                      15.097403                 2666.786325   \n",
       "3                      10.455764                   42.262821   \n",
       "4                      14.122078                   52.471154   \n",
       "5                       6.961783                   27.473684   \n",
       "6                      12.874396                   50.774809   \n",
       "7                      14.880109                   47.179245   \n",
       "8                      12.101990                   38.414226   \n",
       "9                       8.787535                   31.229268   \n",
       "10                     18.542857                   47.684524   \n",
       "11                     20.551020                   39.874172   \n",
       "\n",
       "    Bachelor 27 bis 29 Jahre (%)  Master 27 bis 29 Jahre (%)  \\\n",
       "0                       3.511628                   13.321951   \n",
       "1                       9.930748                   42.656863   \n",
       "2                       3.704545                   14.341880   \n",
       "3                       4.032172                   17.871795   \n",
       "4                       2.766234                   20.735577   \n",
       "5                       1.707006                   10.747368   \n",
       "6                       3.543478                   20.507634   \n",
       "7                       3.141689                   17.377358   \n",
       "8                       5.199005                   21.133891   \n",
       "9                       3.524079                   14.126829   \n",
       "10                      4.009524                   20.732143   \n",
       "11                      4.704082                   25.112583   \n",
       "\n",
       "    Bachelor 30 bis 32 Jahre (%)  Master 30 bis 32 Jahre (%)  \\\n",
       "0                       2.325581                    8.814634   \n",
       "1                       2.617729                   10.205882   \n",
       "2                       2.532468                    3.487179   \n",
       "3                       1.536193                    7.121795   \n",
       "4                       1.062338                    6.312500   \n",
       "5                       1.248408                    3.263158   \n",
       "6                       1.615942                    5.896947   \n",
       "7                       0.901907                    8.386792   \n",
       "8                       2.606965                   10.866109   \n",
       "9                       0.861190                    2.326829   \n",
       "10                      2.457143                    5.898810   \n",
       "11                      4.183673                    5.357616   \n",
       "\n",
       "    Bachelor 33 bis 35 Jahre (%)  Master 33 bis 35 Jahre (%)  \\\n",
       "0                       0.569767                    0.478049   \n",
       "1                       2.318560                    3.892157   \n",
       "2                       0.610390                    0.000000   \n",
       "3                       0.970509                    1.910256   \n",
       "4                       1.093506                    2.298077   \n",
       "5                       0.000000                    1.052632   \n",
       "6                       0.000000                    1.122137   \n",
       "7                       0.809264                    2.391509   \n",
       "8                       0.781095                    3.811715   \n",
       "9                       1.181303                    2.892683   \n",
       "10                      0.571429                    6.464286   \n",
       "11                      1.724490                    3.463576   \n",
       "\n",
       "    Bachelor älter als 35 Jahre (%)  Master älter als 35 Jahre (%)  \n",
       "0                          1.040698                       0.478049  \n",
       "1                          0.806094                       0.000000  \n",
       "2                          1.340909                       1.820513  \n",
       "3                          0.434316                       0.000000  \n",
       "4                          0.176623                       1.966346  \n",
       "5                          0.624204                       0.000000  \n",
       "6                          0.169082                       0.732824  \n",
       "7                          0.953678                       3.773585  \n",
       "8                          0.838308                       3.012552  \n",
       "9                          1.450425                       2.853659  \n",
       "10                         3.885714                       1.238095  \n",
       "11                         2.627551                       6.754967  "
      ]
     },
     "execution_count": 17,
     "metadata": {},
     "output_type": "execute_result"
    }
   ],
   "source": [
    "df_alter"
   ]
  },
  {
   "cell_type": "code",
   "execution_count": 23,
   "metadata": {},
   "outputs": [
    {
     "data": {
      "application/vnd.plotly.v1+json": {
       "config": {
        "plotlyServerURL": "https://plot.ly"
       },
       "data": [
        {
         "hovertemplate": "Altersgruppe=Bachelor unter 18 Jahre (%)<br>Jahr=%{x}<br>Anteil (%)=%{y}<extra></extra>",
         "legendgroup": "Bachelor unter 18 Jahre (%)",
         "line": {
          "color": "rgb(136, 204, 238)",
          "dash": "solid"
         },
         "marker": {
          "symbol": "circle"
         },
         "mode": "lines+markers",
         "name": "Bachelor unter 18 Jahre (%)",
         "orientation": "v",
         "showlegend": true,
         "type": "scatter",
         "x": [
          "2013",
          "2014",
          "2015",
          "2016",
          "2017",
          "2018",
          "2019",
          "2020",
          "2021",
          "2022",
          "2023",
          "2024"
         ],
         "xaxis": "x",
         "y": {
          "bdata": "AAAAAAAAAAAAAAAAAAAAAAAAAAAAAAAAt4HX7pSr/j/+grvmJUfVP2d1GGUqngNAAAAAAAAAAAAAAAAAAAAAAAAAAAAAAAAACdP94idp/z8AAAAAAAAAAAAAAAAAAAAA",
          "dtype": "f8"
         },
         "yaxis": "y"
        },
        {
         "hovertemplate": "Altersgruppe=Master unter 18 Jahre (%)<br>Jahr=%{x}<br>Anteil (%)=%{y}<extra></extra>",
         "legendgroup": "Master unter 18 Jahre (%)",
         "line": {
          "color": "rgb(204, 102, 119)",
          "dash": "solid"
         },
         "marker": {
          "symbol": "circle"
         },
         "mode": "lines+markers",
         "name": "Master unter 18 Jahre (%)",
         "orientation": "v",
         "showlegend": true,
         "type": "scatter",
         "x": [
          "2013",
          "2014",
          "2015",
          "2016",
          "2017",
          "2018",
          "2019",
          "2020",
          "2021",
          "2022",
          "2023",
          "2024"
         ],
         "xaxis": "x",
         "y": {
          "bdata": "AAAAAAAAAAAAAAAAAAAAAAAAAAAAAAAAAAAAAAAAAAAAAAAAAAAAAAAAAAAAAAAAAAAAAAAAAAAAAAAAAAAAAAAAAAAAAAAAAAAAAAAAAAAAAAAAAAAAAAAAAAAAAAAA",
          "dtype": "f8"
         },
         "yaxis": "y"
        },
        {
         "hovertemplate": "Altersgruppe=Bachelor 18 bis 20 Jahre (%)<br>Jahr=%{x}<br>Anteil (%)=%{y}<extra></extra>",
         "legendgroup": "Bachelor 18 bis 20 Jahre (%)",
         "line": {
          "color": "rgb(221, 204, 119)",
          "dash": "solid"
         },
         "marker": {
          "symbol": "circle"
         },
         "mode": "lines+markers",
         "name": "Bachelor 18 bis 20 Jahre (%)",
         "orientation": "v",
         "showlegend": true,
         "type": "scatter",
         "x": [
          "2013",
          "2014",
          "2015",
          "2016",
          "2017",
          "2018",
          "2019",
          "2020",
          "2021",
          "2022",
          "2023",
          "2024"
         ],
         "xaxis": "x",
         "y": {
          "bdata": "a8qasqasNUAODJdz1dsCQAN7x9TAHjxAYUc4Ns1hRkBq3TOy9JA+QDhBuBv7HkpA05ve9Kb3QUCqtFP4JOVAQCG2acW9E0NAfpL2LAKdSEBwAidwAqc1QODlFLycAjhA",
          "dtype": "f8"
         },
         "yaxis": "y"
        },
        {
         "hovertemplate": "Altersgruppe=Master 18 bis 20 Jahre (%)<br>Jahr=%{x}<br>Anteil (%)=%{y}<extra></extra>",
         "legendgroup": "Master 18 bis 20 Jahre (%)",
         "line": {
          "color": "rgb(17, 119, 51)",
          "dash": "solid"
         },
         "marker": {
          "symbol": "circle"
         },
         "mode": "lines+markers",
         "name": "Master 18 bis 20 Jahre (%)",
         "orientation": "v",
         "showlegend": true,
         "type": "scatter",
         "x": [
          "2013",
          "2014",
          "2015",
          "2016",
          "2017",
          "2018",
          "2019",
          "2020",
          "2021",
          "2022",
          "2023",
          "2024"
         ],
         "xaxis": "x",
         "y": {
          "bdata": "AAAAAAAAAAAAAAAAAAAAAAAAAAAAAAAASIM0SIM0/D8AAAAAAAAAAAAAAAAAAAAAAAAAAAAAAAAAAAAAAAAAAFsU45Tb/d0/mJ6F6VmY7j8AAAAAAAAAAAAAAAAAAAAA",
          "dtype": "f8"
         },
         "yaxis": "y"
        },
        {
         "hovertemplate": "Altersgruppe=Bachelor 21 bis 23 Jahre (%)<br>Jahr=%{x}<br>Anteil (%)=%{y}<extra></extra>",
         "legendgroup": "Bachelor 21 bis 23 Jahre (%)",
         "line": {
          "color": "rgb(51, 34, 136)",
          "dash": "solid"
         },
         "marker": {
          "symbol": "circle"
         },
         "mode": "lines+markers",
         "name": "Bachelor 21 bis 23 Jahre (%)",
         "orientation": "v",
         "showlegend": true,
         "type": "scatter",
         "x": [
          "2013",
          "2014",
          "2015",
          "2016",
          "2017",
          "2018",
          "2019",
          "2020",
          "2021",
          "2022",
          "2023",
          "2024"
         ],
         "xaxis": "x",
         "y": {
          "bdata": "s6asKWuqS0CtLJno+PlEQKSLLrroQkhAu3anXHXhQUAEeUqQpwRJQOnlT1toQEFASSuTJyD6RkC0cfMN1DBHQKwxkR6oXERAx65vJquUQEB8xVd8xddIQPrQWB8aS0VA",
          "dtype": "f8"
         },
         "yaxis": "y"
        },
        {
         "hovertemplate": "Altersgruppe=Master 21 bis 23 Jahre (%)<br>Jahr=%{x}<br>Anteil (%)=%{y}<extra></extra>",
         "legendgroup": "Master 21 bis 23 Jahre (%)",
         "line": {
          "color": "rgb(170, 68, 153)",
          "dash": "solid"
         },
         "marker": {
          "symbol": "circle"
         },
         "mode": "lines+markers",
         "name": "Master 21 bis 23 Jahre (%)",
         "orientation": "v",
         "showlegend": true,
         "type": "scatter",
         "x": [
          "2013",
          "2014",
          "2015",
          "2016",
          "2017",
          "2018",
          "2019",
          "2020",
          "2021",
          "2022",
          "2023",
          "2024"
         ],
         "xaxis": "x",
         "y": {
          "bdata": "NS5H43I0NEAUFBQUFBQUQOh+7ud+7jFAmG/5lm+5PEAndmIndmIwQPo9t8SpX0FA3QV/FSekM0Cu7HNITbAyQIEHl72hJzVAqF2J2pWoRkDP8zzP89wxQK9P16fr0zFA",
          "dtype": "f8"
         },
         "yaxis": "y"
        },
        {
         "hovertemplate": "Altersgruppe=Bachelor 24 bis 26 Jahre (%)<br>Jahr=%{x}<br>Anteil (%)=%{y}<extra></extra>",
         "legendgroup": "Bachelor 24 bis 26 Jahre (%)",
         "line": {
          "color": "rgb(68, 170, 153)",
          "dash": "solid"
         },
         "marker": {
          "symbol": "circle"
         },
         "mode": "lines+markers",
         "name": "Bachelor 24 bis 26 Jahre (%)",
         "orientation": "v",
         "showlegend": true,
         "type": "scatter",
         "x": [
          "2013",
          "2014",
          "2015",
          "2016",
          "2017",
          "2018",
          "2019",
          "2020",
          "2021",
          "2022",
          "2023",
          "2024"
         ],
         "xaxis": "x",
         "y": {
          "bdata": "6Av6gr7gLUAQgboRz/xDQH3H1MDeMS5AiTWq6FnpJEDRxlX/gD4sQJDICcLd2BtAEW6p2bC/KUDznFGlncItQORlMAo4NChAplpj1zeTIUCv+Iqv+IoyQGN9aKwPjTRA",
          "dtype": "f8"
         },
         "yaxis": "y"
        },
        {
         "hovertemplate": "Altersgruppe=Master 24 bis 26 Jahre (%)<br>Jahr=%{x}<br>Anteil (%)=%{y}<extra></extra>",
         "legendgroup": "Master 24 bis 26 Jahre (%)",
         "line": {
          "color": "rgb(153, 153, 51)",
          "dash": "solid"
         },
         "marker": {
          "symbol": "circle"
         },
         "mode": "lines+markers",
         "name": "Master 24 bis 26 Jahre (%)",
         "orientation": "v",
         "showlegend": true,
         "type": "scatter",
         "x": [
          "2013",
          "2014",
          "2015",
          "2016",
          "2017",
          "2018",
          "2019",
          "2020",
          "2021",
          "2022",
          "2023",
          "2024"
         ],
         "xaxis": "x",
         "y": {
          "bdata": "EroXoXuRTEAVFBQUFPRCQJmSKZmS1aRAG6RBGqQhRUDGTuzETjxKQJTXUF5DeTtAixNS8ixjSUCgQ2qC8ZZHQE7IC1sFNUNAOxWrU7E6P0B7nud5ntdHQJO/yd/k70NA",
          "dtype": "f8"
         },
         "yaxis": "y"
        },
        {
         "hovertemplate": "Altersgruppe=Bachelor 27 bis 29 Jahre (%)<br>Jahr=%{x}<br>Anteil (%)=%{y}<extra></extra>",
         "legendgroup": "Bachelor 27 bis 29 Jahre (%)",
         "line": {
          "color": "rgb(136, 34, 85)",
          "dash": "solid"
         },
         "marker": {
          "symbol": "circle"
         },
         "mode": "lines+markers",
         "name": "Bachelor 27 bis 29 Jahre (%)",
         "orientation": "v",
         "showlegend": true,
         "type": "scatter",
         "x": [
          "2013",
          "2014",
          "2015",
          "2016",
          "2017",
          "2018",
          "2019",
          "2020",
          "2021",
          "2022",
          "2023",
          "2024"
         ],
         "xaxis": "x",
         "y": {
          "bdata": "Bn1BX9AXDEAnYd/9itwjQKSLLrroog1AxD1OlvEgEED9hDgrPyEGQIcGLOnlT/s/hixkIQtZDEDMAsQJLiIJQByaz/XHyxRAPSyjf1AxDECcwAmcwAkQQDTWh8b60BJA",
          "dtype": "f8"
         },
         "yaxis": "y"
        },
        {
         "hovertemplate": "Altersgruppe=Master 27 bis 29 Jahre (%)<br>Jahr=%{x}<br>Anteil (%)=%{y}<extra></extra>",
         "legendgroup": "Master 27 bis 29 Jahre (%)",
         "line": {
          "color": "rgb(102, 17, 0)",
          "dash": "solid"
         },
         "marker": {
          "symbol": "circle"
         },
         "mode": "lines+markers",
         "name": "Master 27 bis 29 Jahre (%)",
         "orientation": "v",
         "showlegend": true,
         "type": "scatter",
         "x": [
          "2013",
          "2014",
          "2015",
          "2016",
          "2017",
          "2018",
          "2019",
          "2020",
          "2021",
          "2022",
          "2023",
          "2024"
         ],
         "xaxis": "x",
         "y": {
          "bdata": "pWxNytakKkAVFBQUFFRFQPEKr/AKryxA9C3f8i3fMUDETuzETrw0QOv33BKnfiVAo+RZRvSBNEBb2eeQmmAxQGG6zrFGIjVAQvwOxO9ALEC3bdu2bbs0QEhzpDnSHDlA",
          "dtype": "f8"
         },
         "yaxis": "y"
        },
        {
         "hovertemplate": "Altersgruppe=Bachelor 30 bis 32 Jahre (%)<br>Jahr=%{x}<br>Anteil (%)=%{y}<extra></extra>",
         "legendgroup": "Bachelor 30 bis 32 Jahre (%)",
         "line": {
          "color": "rgb(136, 136, 136)",
          "dash": "solid"
         },
         "marker": {
          "symbol": "circle"
         },
         "mode": "lines+markers",
         "name": "Bachelor 30 bis 32 Jahre (%)",
         "orientation": "v",
         "showlegend": true,
         "type": "scatter",
         "x": [
          "2013",
          "2014",
          "2015",
          "2016",
          "2017",
          "2018",
          "2019",
          "2020",
          "2021",
          "2022",
          "2023",
          "2024"
         ],
         "xaxis": "x",
         "y": {
          "bdata": "p6wpa8qaAkD2BBGoG/EEQPkJcVZ+QgRA9hVgJD+U+D8kytDGVf/wP22hAUt6+fM/HZhrB+ba+T+BqUPRbNzsP3eSpY4Q2wRAR14+6t2O6z+DOqiDOqgDQC6n4OUUvBBA",
          "dtype": "f8"
         },
         "yaxis": "y"
        },
        {
         "hovertemplate": "Altersgruppe=Master 30 bis 32 Jahre (%)<br>Jahr=%{x}<br>Anteil (%)=%{y}<extra></extra>",
         "legendgroup": "Master 30 bis 32 Jahre (%)",
         "line": {
          "color": "rgb(136, 204, 238)",
          "dash": "solid"
         },
         "marker": {
          "symbol": "circle"
         },
         "mode": "lines+markers",
         "name": "Master 30 bis 32 Jahre (%)",
         "orientation": "v",
         "showlegend": true,
         "type": "scatter",
         "x": [
          "2013",
          "2014",
          "2015",
          "2016",
          "2017",
          "2018",
          "2019",
          "2020",
          "2021",
          "2022",
          "2023",
          "2024"
         ],
         "xaxis": "x",
         "y": {
          "bdata": "oXsRuhehIUBqaWlpaWkkQFy+5Vu+5QtAy7d8y7d8HEAAAAAAAEAZQK+hvIbyGgpAYMUJKXmWF0CWfQ6pCcYgQD+LYpxyuyVAnYrVqVidAkCHYRiGYZgXQMu4ZdwybhVA",
          "dtype": "f8"
         },
         "yaxis": "y"
        },
        {
         "hovertemplate": "Altersgruppe=Bachelor 33 bis 35 Jahre (%)<br>Jahr=%{x}<br>Anteil (%)=%{y}<extra></extra>",
         "legendgroup": "Bachelor 33 bis 35 Jahre (%)",
         "line": {
          "color": "rgb(204, 102, 119)",
          "dash": "solid"
         },
         "marker": {
          "symbol": "circle"
         },
         "mode": "lines+markers",
         "name": "Bachelor 33 bis 35 Jahre (%)",
         "orientation": "v",
         "showlegend": true,
         "type": "scatter",
         "x": [
          "2013",
          "2014",
          "2015",
          "2016",
          "2017",
          "2018",
          "2019",
          "2020",
          "2021",
          "2022",
          "2023",
          "2024"
         ],
         "xaxis": "x",
         "y": {
          "bdata": "jrgj7og74j8y0fHzaIwCQD8hzspPiOM/BjvCsWkO7z82LzmqAH/xPwAAAAAAAAAAAAAAAAAAAACXyZFBfuXpP6KAQ/O5/ug/0j+oGJ7m8j+SJEmSJEniP+UUvJyCl/s/",
          "dtype": "f8"
         },
         "yaxis": "y"
        },
        {
         "hovertemplate": "Altersgruppe=Master 33 bis 35 Jahre (%)<br>Jahr=%{x}<br>Anteil (%)=%{y}<extra></extra>",
         "legendgroup": "Master 33 bis 35 Jahre (%)",
         "line": {
          "color": "rgb(221, 204, 119)",
          "dash": "solid"
         },
         "marker": {
          "symbol": "circle"
         },
         "mode": "lines+markers",
         "name": "Master 33 bis 35 Jahre (%)",
         "orientation": "v",
         "showlegend": true,
         "type": "scatter",
         "x": [
          "2013",
          "2014",
          "2015",
          "2016",
          "2017",
          "2018",
          "2019",
          "2020",
          "2021",
          "2022",
          "2023",
          "2024"
         ],
         "xaxis": "x",
         "y": {
          "bdata": "mp6F6VmY3j8kIyMjIyMPQAAAAAAAAAAABmmQBmmQ/j8odmIndmICQHkN5TWU1/A/J6TkWUb08T8UjLeyzyEDQENPqq9kfg5AJG9D8jYkB0C4bdu2bdsZQJ/VzmpntQtA",
          "dtype": "f8"
         },
         "yaxis": "y"
        },
        {
         "hovertemplate": "Altersgruppe=Bachelor älter als 35 Jahre (%)<br>Jahr=%{x}<br>Anteil (%)=%{y}<extra></extra>",
         "legendgroup": "Bachelor älter als 35 Jahre (%)",
         "line": {
          "color": "rgb(17, 119, 51)",
          "dash": "solid"
         },
         "marker": {
          "symbol": "circle"
         },
         "mode": "lines+markers",
         "name": "Bachelor älter als 35 Jahre (%)",
         "orientation": "v",
         "showlegend": true,
         "type": "scatter",
         "x": [
          "2013",
          "2014",
          "2015",
          "2016",
          "2017",
          "2018",
          "2019",
          "2020",
          "2021",
          "2022",
          "2023",
          "2024"
         ],
         "xaxis": "x",
         "y": {
          "bdata": "KmvKmrKm8D/UZhcHhsvpP3TRRRdddPU/Mx4E0tbL2z8uOydFmJvGP22hAUt6+eM/BUTnq3ukxT8LECe4iITuP0qWOkJs0+o/jf5BxfA09z9g8RVf8RUPQMLLKXg5BQVA",
          "dtype": "f8"
         },
         "yaxis": "y"
        },
        {
         "hovertemplate": "Altersgruppe=Master älter als 35 Jahre (%)<br>Jahr=%{x}<br>Anteil (%)=%{y}<extra></extra>",
         "legendgroup": "Master älter als 35 Jahre (%)",
         "line": {
          "color": "rgb(51, 34, 136)",
          "dash": "solid"
         },
         "marker": {
          "symbol": "circle"
         },
         "mode": "lines+markers",
         "name": "Master älter als 35 Jahre (%)",
         "orientation": "v",
         "showlegend": true,
         "type": "scatter",
         "x": [
          "2013",
          "2014",
          "2015",
          "2016",
          "2017",
          "2018",
          "2019",
          "2020",
          "2021",
          "2022",
          "2023",
          "2024"
         ],
         "xaxis": "x",
         "y": {
          "bdata": "mJ6F6VmY3j8AAAAAAAAAAAzSIA3SIP0/AAAAAAAAAABkJ3ZiJ3b/PwAAAAAAAAAA1bG3Nkxz5z+u7HNITTAOQMkLWwW1GQhA1K5E7UrUBkD0PM/zPM/zP1gULAoWBRtA",
          "dtype": "f8"
         },
         "yaxis": "y"
        }
       ],
       "layout": {
        "legend": {
         "title": {
          "text": "Altersgruppe"
         },
         "tracegroupgap": 0
        },
        "template": {
         "data": {
          "bar": [
           {
            "error_x": {
             "color": "#2a3f5f"
            },
            "error_y": {
             "color": "#2a3f5f"
            },
            "marker": {
             "line": {
              "color": "#E5ECF6",
              "width": 0.5
             },
             "pattern": {
              "fillmode": "overlay",
              "size": 10,
              "solidity": 0.2
             }
            },
            "type": "bar"
           }
          ],
          "barpolar": [
           {
            "marker": {
             "line": {
              "color": "#E5ECF6",
              "width": 0.5
             },
             "pattern": {
              "fillmode": "overlay",
              "size": 10,
              "solidity": 0.2
             }
            },
            "type": "barpolar"
           }
          ],
          "carpet": [
           {
            "aaxis": {
             "endlinecolor": "#2a3f5f",
             "gridcolor": "white",
             "linecolor": "white",
             "minorgridcolor": "white",
             "startlinecolor": "#2a3f5f"
            },
            "baxis": {
             "endlinecolor": "#2a3f5f",
             "gridcolor": "white",
             "linecolor": "white",
             "minorgridcolor": "white",
             "startlinecolor": "#2a3f5f"
            },
            "type": "carpet"
           }
          ],
          "choropleth": [
           {
            "colorbar": {
             "outlinewidth": 0,
             "ticks": ""
            },
            "type": "choropleth"
           }
          ],
          "contour": [
           {
            "colorbar": {
             "outlinewidth": 0,
             "ticks": ""
            },
            "colorscale": [
             [
              0,
              "#0d0887"
             ],
             [
              0.1111111111111111,
              "#46039f"
             ],
             [
              0.2222222222222222,
              "#7201a8"
             ],
             [
              0.3333333333333333,
              "#9c179e"
             ],
             [
              0.4444444444444444,
              "#bd3786"
             ],
             [
              0.5555555555555556,
              "#d8576b"
             ],
             [
              0.6666666666666666,
              "#ed7953"
             ],
             [
              0.7777777777777778,
              "#fb9f3a"
             ],
             [
              0.8888888888888888,
              "#fdca26"
             ],
             [
              1,
              "#f0f921"
             ]
            ],
            "type": "contour"
           }
          ],
          "contourcarpet": [
           {
            "colorbar": {
             "outlinewidth": 0,
             "ticks": ""
            },
            "type": "contourcarpet"
           }
          ],
          "heatmap": [
           {
            "colorbar": {
             "outlinewidth": 0,
             "ticks": ""
            },
            "colorscale": [
             [
              0,
              "#0d0887"
             ],
             [
              0.1111111111111111,
              "#46039f"
             ],
             [
              0.2222222222222222,
              "#7201a8"
             ],
             [
              0.3333333333333333,
              "#9c179e"
             ],
             [
              0.4444444444444444,
              "#bd3786"
             ],
             [
              0.5555555555555556,
              "#d8576b"
             ],
             [
              0.6666666666666666,
              "#ed7953"
             ],
             [
              0.7777777777777778,
              "#fb9f3a"
             ],
             [
              0.8888888888888888,
              "#fdca26"
             ],
             [
              1,
              "#f0f921"
             ]
            ],
            "type": "heatmap"
           }
          ],
          "histogram": [
           {
            "marker": {
             "pattern": {
              "fillmode": "overlay",
              "size": 10,
              "solidity": 0.2
             }
            },
            "type": "histogram"
           }
          ],
          "histogram2d": [
           {
            "colorbar": {
             "outlinewidth": 0,
             "ticks": ""
            },
            "colorscale": [
             [
              0,
              "#0d0887"
             ],
             [
              0.1111111111111111,
              "#46039f"
             ],
             [
              0.2222222222222222,
              "#7201a8"
             ],
             [
              0.3333333333333333,
              "#9c179e"
             ],
             [
              0.4444444444444444,
              "#bd3786"
             ],
             [
              0.5555555555555556,
              "#d8576b"
             ],
             [
              0.6666666666666666,
              "#ed7953"
             ],
             [
              0.7777777777777778,
              "#fb9f3a"
             ],
             [
              0.8888888888888888,
              "#fdca26"
             ],
             [
              1,
              "#f0f921"
             ]
            ],
            "type": "histogram2d"
           }
          ],
          "histogram2dcontour": [
           {
            "colorbar": {
             "outlinewidth": 0,
             "ticks": ""
            },
            "colorscale": [
             [
              0,
              "#0d0887"
             ],
             [
              0.1111111111111111,
              "#46039f"
             ],
             [
              0.2222222222222222,
              "#7201a8"
             ],
             [
              0.3333333333333333,
              "#9c179e"
             ],
             [
              0.4444444444444444,
              "#bd3786"
             ],
             [
              0.5555555555555556,
              "#d8576b"
             ],
             [
              0.6666666666666666,
              "#ed7953"
             ],
             [
              0.7777777777777778,
              "#fb9f3a"
             ],
             [
              0.8888888888888888,
              "#fdca26"
             ],
             [
              1,
              "#f0f921"
             ]
            ],
            "type": "histogram2dcontour"
           }
          ],
          "mesh3d": [
           {
            "colorbar": {
             "outlinewidth": 0,
             "ticks": ""
            },
            "type": "mesh3d"
           }
          ],
          "parcoords": [
           {
            "line": {
             "colorbar": {
              "outlinewidth": 0,
              "ticks": ""
             }
            },
            "type": "parcoords"
           }
          ],
          "pie": [
           {
            "automargin": true,
            "type": "pie"
           }
          ],
          "scatter": [
           {
            "fillpattern": {
             "fillmode": "overlay",
             "size": 10,
             "solidity": 0.2
            },
            "type": "scatter"
           }
          ],
          "scatter3d": [
           {
            "line": {
             "colorbar": {
              "outlinewidth": 0,
              "ticks": ""
             }
            },
            "marker": {
             "colorbar": {
              "outlinewidth": 0,
              "ticks": ""
             }
            },
            "type": "scatter3d"
           }
          ],
          "scattercarpet": [
           {
            "marker": {
             "colorbar": {
              "outlinewidth": 0,
              "ticks": ""
             }
            },
            "type": "scattercarpet"
           }
          ],
          "scattergeo": [
           {
            "marker": {
             "colorbar": {
              "outlinewidth": 0,
              "ticks": ""
             }
            },
            "type": "scattergeo"
           }
          ],
          "scattergl": [
           {
            "marker": {
             "colorbar": {
              "outlinewidth": 0,
              "ticks": ""
             }
            },
            "type": "scattergl"
           }
          ],
          "scattermap": [
           {
            "marker": {
             "colorbar": {
              "outlinewidth": 0,
              "ticks": ""
             }
            },
            "type": "scattermap"
           }
          ],
          "scattermapbox": [
           {
            "marker": {
             "colorbar": {
              "outlinewidth": 0,
              "ticks": ""
             }
            },
            "type": "scattermapbox"
           }
          ],
          "scatterpolar": [
           {
            "marker": {
             "colorbar": {
              "outlinewidth": 0,
              "ticks": ""
             }
            },
            "type": "scatterpolar"
           }
          ],
          "scatterpolargl": [
           {
            "marker": {
             "colorbar": {
              "outlinewidth": 0,
              "ticks": ""
             }
            },
            "type": "scatterpolargl"
           }
          ],
          "scatterternary": [
           {
            "marker": {
             "colorbar": {
              "outlinewidth": 0,
              "ticks": ""
             }
            },
            "type": "scatterternary"
           }
          ],
          "surface": [
           {
            "colorbar": {
             "outlinewidth": 0,
             "ticks": ""
            },
            "colorscale": [
             [
              0,
              "#0d0887"
             ],
             [
              0.1111111111111111,
              "#46039f"
             ],
             [
              0.2222222222222222,
              "#7201a8"
             ],
             [
              0.3333333333333333,
              "#9c179e"
             ],
             [
              0.4444444444444444,
              "#bd3786"
             ],
             [
              0.5555555555555556,
              "#d8576b"
             ],
             [
              0.6666666666666666,
              "#ed7953"
             ],
             [
              0.7777777777777778,
              "#fb9f3a"
             ],
             [
              0.8888888888888888,
              "#fdca26"
             ],
             [
              1,
              "#f0f921"
             ]
            ],
            "type": "surface"
           }
          ],
          "table": [
           {
            "cells": {
             "fill": {
              "color": "#EBF0F8"
             },
             "line": {
              "color": "white"
             }
            },
            "header": {
             "fill": {
              "color": "#C8D4E3"
             },
             "line": {
              "color": "white"
             }
            },
            "type": "table"
           }
          ]
         },
         "layout": {
          "annotationdefaults": {
           "arrowcolor": "#2a3f5f",
           "arrowhead": 0,
           "arrowwidth": 1
          },
          "autotypenumbers": "strict",
          "coloraxis": {
           "colorbar": {
            "outlinewidth": 0,
            "ticks": ""
           }
          },
          "colorscale": {
           "diverging": [
            [
             0,
             "#8e0152"
            ],
            [
             0.1,
             "#c51b7d"
            ],
            [
             0.2,
             "#de77ae"
            ],
            [
             0.3,
             "#f1b6da"
            ],
            [
             0.4,
             "#fde0ef"
            ],
            [
             0.5,
             "#f7f7f7"
            ],
            [
             0.6,
             "#e6f5d0"
            ],
            [
             0.7,
             "#b8e186"
            ],
            [
             0.8,
             "#7fbc41"
            ],
            [
             0.9,
             "#4d9221"
            ],
            [
             1,
             "#276419"
            ]
           ],
           "sequential": [
            [
             0,
             "#0d0887"
            ],
            [
             0.1111111111111111,
             "#46039f"
            ],
            [
             0.2222222222222222,
             "#7201a8"
            ],
            [
             0.3333333333333333,
             "#9c179e"
            ],
            [
             0.4444444444444444,
             "#bd3786"
            ],
            [
             0.5555555555555556,
             "#d8576b"
            ],
            [
             0.6666666666666666,
             "#ed7953"
            ],
            [
             0.7777777777777778,
             "#fb9f3a"
            ],
            [
             0.8888888888888888,
             "#fdca26"
            ],
            [
             1,
             "#f0f921"
            ]
           ],
           "sequentialminus": [
            [
             0,
             "#0d0887"
            ],
            [
             0.1111111111111111,
             "#46039f"
            ],
            [
             0.2222222222222222,
             "#7201a8"
            ],
            [
             0.3333333333333333,
             "#9c179e"
            ],
            [
             0.4444444444444444,
             "#bd3786"
            ],
            [
             0.5555555555555556,
             "#d8576b"
            ],
            [
             0.6666666666666666,
             "#ed7953"
            ],
            [
             0.7777777777777778,
             "#fb9f3a"
            ],
            [
             0.8888888888888888,
             "#fdca26"
            ],
            [
             1,
             "#f0f921"
            ]
           ]
          },
          "colorway": [
           "#636efa",
           "#EF553B",
           "#00cc96",
           "#ab63fa",
           "#FFA15A",
           "#19d3f3",
           "#FF6692",
           "#B6E880",
           "#FF97FF",
           "#FECB52"
          ],
          "font": {
           "color": "#2a3f5f"
          },
          "geo": {
           "bgcolor": "white",
           "lakecolor": "white",
           "landcolor": "#E5ECF6",
           "showlakes": true,
           "showland": true,
           "subunitcolor": "white"
          },
          "hoverlabel": {
           "align": "left"
          },
          "hovermode": "closest",
          "mapbox": {
           "style": "light"
          },
          "paper_bgcolor": "white",
          "plot_bgcolor": "#E5ECF6",
          "polar": {
           "angularaxis": {
            "gridcolor": "white",
            "linecolor": "white",
            "ticks": ""
           },
           "bgcolor": "#E5ECF6",
           "radialaxis": {
            "gridcolor": "white",
            "linecolor": "white",
            "ticks": ""
           }
          },
          "scene": {
           "xaxis": {
            "backgroundcolor": "#E5ECF6",
            "gridcolor": "white",
            "gridwidth": 2,
            "linecolor": "white",
            "showbackground": true,
            "ticks": "",
            "zerolinecolor": "white"
           },
           "yaxis": {
            "backgroundcolor": "#E5ECF6",
            "gridcolor": "white",
            "gridwidth": 2,
            "linecolor": "white",
            "showbackground": true,
            "ticks": "",
            "zerolinecolor": "white"
           },
           "zaxis": {
            "backgroundcolor": "#E5ECF6",
            "gridcolor": "white",
            "gridwidth": 2,
            "linecolor": "white",
            "showbackground": true,
            "ticks": "",
            "zerolinecolor": "white"
           }
          },
          "shapedefaults": {
           "line": {
            "color": "#2a3f5f"
           }
          },
          "ternary": {
           "aaxis": {
            "gridcolor": "white",
            "linecolor": "white",
            "ticks": ""
           },
           "baxis": {
            "gridcolor": "white",
            "linecolor": "white",
            "ticks": ""
           },
           "bgcolor": "#E5ECF6",
           "caxis": {
            "gridcolor": "white",
            "linecolor": "white",
            "ticks": ""
           }
          },
          "title": {
           "x": 0.05
          },
          "xaxis": {
           "automargin": true,
           "gridcolor": "white",
           "linecolor": "white",
           "ticks": "",
           "title": {
            "standoff": 15
           },
           "zerolinecolor": "white",
           "zerolinewidth": 2
          },
          "yaxis": {
           "automargin": true,
           "gridcolor": "white",
           "linecolor": "white",
           "ticks": "",
           "title": {
            "standoff": 15
           },
           "zerolinecolor": "white",
           "zerolinewidth": 2
          }
         }
        },
        "title": {
         "text": "Altersverteilung von Studierenden nach Kohorten (gewichteter Anteil)"
        },
        "xaxis": {
         "anchor": "y",
         "domain": [
          0,
          1
         ],
         "title": {
          "text": "Jahr"
         }
        },
        "yaxis": {
         "anchor": "x",
         "domain": [
          0,
          1
         ],
         "range": [
          0,
          100
         ],
         "title": {
          "text": "Gewichteter Anteil der Studierenden (%)"
         }
        }
       }
      }
     },
     "metadata": {},
     "output_type": "display_data"
    }
   ],
   "source": [
    "fig = px.line(\n",
    "    df_alter, \n",
    "    x=\"Jahr\", \n",
    "    y=[col for col in df_alter.columns if col != \"Jahr\"],  # Alle Altersgruppen außer \"Jahr\"\n",
    "    markers=True, \n",
    "    title=\"Altersverteilung von Studierenden nach Kohorten (gewichteter Anteil)\",\n",
    "    labels={\"value\": \"Anteil (%)\", \"variable\": \"Altersgruppe\"},\n",
    "    color_discrete_sequence=px.colors.qualitative.Safe  # Farbschema Safe verwenden\n",
    ")\n",
    "\n",
    "fig.update_layout(\n",
    "    #template=\"infoviz\",  # Dein eigenes Plotly-Template\n",
    "    xaxis_title=\"Jahr\",\n",
    "    yaxis_title=\"Gewichteter Anteil der Studierenden (%)\",\n",
    "    yaxis=dict(range=[0, 100]),  # Prozentwerte begrenzen\n",
    "    legend_title=\"Altersgruppe\"\n",
    ")\n",
    "\n",
    "fig.show()"
   ]
  },
  {
   "cell_type": "code",
   "execution_count": 24,
   "metadata": {},
   "outputs": [],
   "source": [
    "import pandas as pd\n",
    "import plotly.express as px\n",
    "\n",
    "# Datei einlesen (ersetze 'data.xlsx' durch den tatsächlichen Dateinamen)\n",
    "file_path = \"data.xlsx\"\n",
    "\n",
    "# Alle Sheets einlesen, aber das erste Blatt ignorieren\n",
    "sheets = pd.read_excel(file_path, sheet_name=None, engine=\"openpyxl\")\n",
    "\n",
    "# Erstes Blatt entfernen\n",
    "sheets.pop(next(iter(sheets)))\n",
    "\n",
    "# Dictionary zur Speicherung der Altersgruppen\n",
    "alter_data = {\"Jahr\": []}\n",
    "\n",
    "# Durch alle Jahre iterieren\n",
    "for jahr, df in sheets.items():\n",
    "    df.columns = df.columns.astype(str).str.strip()  # Spaltennamen bereinigen\n",
    "\n",
    "    # Studiengänge für Bachelor & Master automatisch erkennen\n",
    "    bachelor_studiengaenge = df.filter(like=\"Bachelor\").columns\n",
    "    master_studiengaenge = df.filter(like=\"Master\").columns\n",
    "\n",
    "    # Gesamtanzahl der Studierenden pro Jahr für Gewichtung berechnen (nur für Variable \"Alter\")\n",
    "    total_bachelor_students = df[\n",
    "        (df[\"Variable\"] == \"Alter\") & (df[\"Category\"].str.contains(\"Anzahl\", na=False))\n",
    "    ][bachelor_studiengaenge].sum(axis=1).values[0]\n",
    "\n",
    "    total_master_students = df[\n",
    "        (df[\"Variable\"] == \"Alter\") & (df[\"Category\"].str.contains(\"Anzahl\", na=False))\n",
    "    ][master_studiengaenge].sum(axis=1).values[0]\n",
    "\n",
    "    # **Gesamtanzahl aller Studierenden berechnen**\n",
    "    total_students = total_bachelor_students + total_master_students\n",
    "\n",
    "    # Altersgruppen extrahieren\n",
    "    altersgruppen = [\n",
    "        \"unter 18 Jahre (%)\",\n",
    "        \"18 bis 20 Jahre (%)\",\n",
    "        \"21 bis 23 Jahre (%)\",\n",
    "        \"24 bis 26 Jahre (%)\",\n",
    "        \"27 bis 29 Jahre (%)\",\n",
    "        \"30 bis 32 Jahre (%)\",\n",
    "        \"33 bis 35 Jahre (%)\",\n",
    "        \"älter als 35 Jahre (%)\"\n",
    "    ]\n",
    "\n",
    "    if jahr not in alter_data[\"Jahr\"]:\n",
    "        alter_data[\"Jahr\"].append(jahr)\n",
    "\n",
    "    for category in altersgruppen:\n",
    "        row = df[\n",
    "            (df[\"Variable\"] == \"Alter\") & (df[\"Category\"].str.contains(category, na=False, regex=False))\n",
    "        ]\n",
    "        if not row.empty:\n",
    "            # **Absoluten Wert für jede Altersgruppe pro Studiengang berechnen**\n",
    "            abs_bachelor = (row[bachelor_studiengaenge] / 100) * df[\n",
    "                (df[\"Variable\"] == \"Alter\") & (df[\"Category\"].str.contains(\"Anzahl\", na=False))\n",
    "            ][bachelor_studiengaenge].iloc[0]\n",
    "\n",
    "            abs_master = (row[master_studiengaenge] / 100) * df[\n",
    "                (df[\"Variable\"] == \"Alter\") & (df[\"Category\"].str.contains(\"Anzahl\", na=False))\n",
    "            ][master_studiengaenge].iloc[0]\n",
    "\n",
    "            # **Gesamte Anzahl an Studierenden in dieser Altersgruppe berechnen**\n",
    "            total_abs_students = abs_bachelor.sum().sum() + abs_master.sum().sum()\n",
    "\n",
    "            # **Gewichteter relativer Anteil berechnen (im Vergleich zur Gesamtzahl aller Studierenden)**\n",
    "            weighted_total = (total_abs_students / total_students) * 100\n",
    "\n",
    "            # Spaltennamen dynamisch hinzufügen\n",
    "            col_name = f\"{category}\"  # Ohne Bachelor/Master Unterscheidung\n",
    "\n",
    "            if col_name not in alter_data:\n",
    "                alter_data[col_name] = []\n",
    "\n",
    "            alter_data[col_name].append(weighted_total)\n",
    "\n",
    "# Daten als DataFrame formatieren\n",
    "df_alter = pd.DataFrame(alter_data).sort_values(by=\"Jahr\")"
   ]
  },
  {
   "cell_type": "code",
   "execution_count": 31,
   "metadata": {},
   "outputs": [
    {
     "data": {
      "application/vnd.plotly.v1+json": {
       "config": {
        "plotlyServerURL": "https://plot.ly"
       },
       "data": [
        {
         "hovertemplate": "Altersgruppe=Bachelor unter 18 Jahre (%)<br>Jahr=%{x}<br>Anteil (%)=%{y}<extra></extra>",
         "legendgroup": "Bachelor unter 18 Jahre (%)",
         "line": {
          "color": "rgb(136, 204, 238)",
          "dash": "solid"
         },
         "marker": {
          "symbol": "circle"
         },
         "mode": "lines+markers",
         "name": "Bachelor unter 18 Jahre (%)",
         "orientation": "v",
         "showlegend": true,
         "type": "scatter",
         "x": [
          "2013",
          "2014",
          "2015",
          "2016",
          "2017",
          "2018",
          "2019",
          "2020",
          "2021",
          "2022",
          "2023",
          "2024"
         ],
         "xaxis": "x",
         "y": {
          "bdata": "AAAAAAAAAAAAAAAAAAAAAAAAAAAAAAAAt4HX7pSr/j/+grvmJUfVP2d1GGUqngNAAAAAAAAAAAAAAAAAAAAAAAAAAAAAAAAACdP94idp/z8AAAAAAAAAAAAAAAAAAAAA",
          "dtype": "f8"
         },
         "yaxis": "y"
        },
        {
         "hovertemplate": "Altersgruppe=Bachelor 18 bis 20 Jahre (%)<br>Jahr=%{x}<br>Anteil (%)=%{y}<extra></extra>",
         "legendgroup": "Bachelor 18 bis 20 Jahre (%)",
         "line": {
          "color": "rgb(204, 102, 119)",
          "dash": "solid"
         },
         "marker": {
          "symbol": "circle"
         },
         "mode": "lines+markers",
         "name": "Bachelor 18 bis 20 Jahre (%)",
         "orientation": "v",
         "showlegend": true,
         "type": "scatter",
         "x": [
          "2013",
          "2014",
          "2015",
          "2016",
          "2017",
          "2018",
          "2019",
          "2020",
          "2021",
          "2022",
          "2023",
          "2024"
         ],
         "xaxis": "x",
         "y": {
          "bdata": "a8qasqasNUAODJdz1dsCQAN7x9TAHjxAYUc4Ns1hRkBq3TOy9JA+QDhBuBv7HkpA05ve9Kb3QUCqtFP4JOVAQCG2acW9E0NAfpL2LAKdSEBwAidwAqc1QODlFLycAjhA",
          "dtype": "f8"
         },
         "yaxis": "y"
        },
        {
         "hovertemplate": "Altersgruppe=Bachelor 21 bis 23 Jahre (%)<br>Jahr=%{x}<br>Anteil (%)=%{y}<extra></extra>",
         "legendgroup": "Bachelor 21 bis 23 Jahre (%)",
         "line": {
          "color": "rgb(221, 204, 119)",
          "dash": "solid"
         },
         "marker": {
          "symbol": "circle"
         },
         "mode": "lines+markers",
         "name": "Bachelor 21 bis 23 Jahre (%)",
         "orientation": "v",
         "showlegend": true,
         "type": "scatter",
         "x": [
          "2013",
          "2014",
          "2015",
          "2016",
          "2017",
          "2018",
          "2019",
          "2020",
          "2021",
          "2022",
          "2023",
          "2024"
         ],
         "xaxis": "x",
         "y": {
          "bdata": "s6asKWuqS0CtLJno+PlEQKSLLrroQkhAu3anXHXhQUAEeUqQpwRJQOnlT1toQEFASSuTJyD6RkC0cfMN1DBHQKwxkR6oXERAx65vJquUQEB8xVd8xddIQPrQWB8aS0VA",
          "dtype": "f8"
         },
         "yaxis": "y"
        },
        {
         "hovertemplate": "Altersgruppe=Bachelor 24 bis 26 Jahre (%)<br>Jahr=%{x}<br>Anteil (%)=%{y}<extra></extra>",
         "legendgroup": "Bachelor 24 bis 26 Jahre (%)",
         "line": {
          "color": "rgb(17, 119, 51)",
          "dash": "solid"
         },
         "marker": {
          "symbol": "circle"
         },
         "mode": "lines+markers",
         "name": "Bachelor 24 bis 26 Jahre (%)",
         "orientation": "v",
         "showlegend": true,
         "type": "scatter",
         "x": [
          "2013",
          "2014",
          "2015",
          "2016",
          "2017",
          "2018",
          "2019",
          "2020",
          "2021",
          "2022",
          "2023",
          "2024"
         ],
         "xaxis": "x",
         "y": {
          "bdata": "6Av6gr7gLUAQgboRz/xDQH3H1MDeMS5AiTWq6FnpJEDRxlX/gD4sQJDICcLd2BtAEW6p2bC/KUDznFGlncItQORlMAo4NChAplpj1zeTIUCv+Iqv+IoyQGN9aKwPjTRA",
          "dtype": "f8"
         },
         "yaxis": "y"
        },
        {
         "hovertemplate": "Altersgruppe=Bachelor 27 bis 29 Jahre (%)<br>Jahr=%{x}<br>Anteil (%)=%{y}<extra></extra>",
         "legendgroup": "Bachelor 27 bis 29 Jahre (%)",
         "line": {
          "color": "rgb(51, 34, 136)",
          "dash": "solid"
         },
         "marker": {
          "symbol": "circle"
         },
         "mode": "lines+markers",
         "name": "Bachelor 27 bis 29 Jahre (%)",
         "orientation": "v",
         "showlegend": true,
         "type": "scatter",
         "x": [
          "2013",
          "2014",
          "2015",
          "2016",
          "2017",
          "2018",
          "2019",
          "2020",
          "2021",
          "2022",
          "2023",
          "2024"
         ],
         "xaxis": "x",
         "y": {
          "bdata": "Bn1BX9AXDEAnYd/9itwjQKSLLrroog1AxD1OlvEgEED9hDgrPyEGQIcGLOnlT/s/hixkIQtZDEDMAsQJLiIJQByaz/XHyxRAPSyjf1AxDECcwAmcwAkQQDTWh8b60BJA",
          "dtype": "f8"
         },
         "yaxis": "y"
        },
        {
         "hovertemplate": "Altersgruppe=Bachelor 30 bis 32 Jahre (%)<br>Jahr=%{x}<br>Anteil (%)=%{y}<extra></extra>",
         "legendgroup": "Bachelor 30 bis 32 Jahre (%)",
         "line": {
          "color": "rgb(170, 68, 153)",
          "dash": "solid"
         },
         "marker": {
          "symbol": "circle"
         },
         "mode": "lines+markers",
         "name": "Bachelor 30 bis 32 Jahre (%)",
         "orientation": "v",
         "showlegend": true,
         "type": "scatter",
         "x": [
          "2013",
          "2014",
          "2015",
          "2016",
          "2017",
          "2018",
          "2019",
          "2020",
          "2021",
          "2022",
          "2023",
          "2024"
         ],
         "xaxis": "x",
         "y": {
          "bdata": "p6wpa8qaAkD2BBGoG/EEQPkJcVZ+QgRA9hVgJD+U+D8kytDGVf/wP22hAUt6+fM/HZhrB+ba+T+BqUPRbNzsP3eSpY4Q2wRAR14+6t2O6z+DOqiDOqgDQC6n4OUUvBBA",
          "dtype": "f8"
         },
         "yaxis": "y"
        },
        {
         "hovertemplate": "Altersgruppe=Bachelor 33 bis 35 Jahre (%)<br>Jahr=%{x}<br>Anteil (%)=%{y}<extra></extra>",
         "legendgroup": "Bachelor 33 bis 35 Jahre (%)",
         "line": {
          "color": "rgb(68, 170, 153)",
          "dash": "solid"
         },
         "marker": {
          "symbol": "circle"
         },
         "mode": "lines+markers",
         "name": "Bachelor 33 bis 35 Jahre (%)",
         "orientation": "v",
         "showlegend": true,
         "type": "scatter",
         "x": [
          "2013",
          "2014",
          "2015",
          "2016",
          "2017",
          "2018",
          "2019",
          "2020",
          "2021",
          "2022",
          "2023",
          "2024"
         ],
         "xaxis": "x",
         "y": {
          "bdata": "jrgj7og74j8y0fHzaIwCQD8hzspPiOM/BjvCsWkO7z82LzmqAH/xPwAAAAAAAAAAAAAAAAAAAACXyZFBfuXpP6KAQ/O5/ug/0j+oGJ7m8j+SJEmSJEniP+UUvJyCl/s/",
          "dtype": "f8"
         },
         "yaxis": "y"
        },
        {
         "hovertemplate": "Altersgruppe=Bachelor älter als 35 Jahre (%)<br>Jahr=%{x}<br>Anteil (%)=%{y}<extra></extra>",
         "legendgroup": "Bachelor älter als 35 Jahre (%)",
         "line": {
          "color": "rgb(153, 153, 51)",
          "dash": "solid"
         },
         "marker": {
          "symbol": "circle"
         },
         "mode": "lines+markers",
         "name": "Bachelor älter als 35 Jahre (%)",
         "orientation": "v",
         "showlegend": true,
         "type": "scatter",
         "x": [
          "2013",
          "2014",
          "2015",
          "2016",
          "2017",
          "2018",
          "2019",
          "2020",
          "2021",
          "2022",
          "2023",
          "2024"
         ],
         "xaxis": "x",
         "y": {
          "bdata": "KmvKmrKm8D/UZhcHhsvpP3TRRRdddPU/Mx4E0tbL2z8uOydFmJvGP22hAUt6+eM/BUTnq3ukxT8LECe4iITuP0qWOkJs0+o/jf5BxfA09z9g8RVf8RUPQMLLKXg5BQVA",
          "dtype": "f8"
         },
         "yaxis": "y"
        }
       ],
       "layout": {
        "legend": {
         "title": {
          "text": "Altersgruppe"
         },
         "tracegroupgap": 0
        },
        "template": {
         "data": {
          "bar": [
           {
            "error_x": {
             "color": "#2a3f5f"
            },
            "error_y": {
             "color": "#2a3f5f"
            },
            "marker": {
             "line": {
              "color": "#E5ECF6",
              "width": 0.5
             },
             "pattern": {
              "fillmode": "overlay",
              "size": 10,
              "solidity": 0.2
             }
            },
            "type": "bar"
           }
          ],
          "barpolar": [
           {
            "marker": {
             "line": {
              "color": "#E5ECF6",
              "width": 0.5
             },
             "pattern": {
              "fillmode": "overlay",
              "size": 10,
              "solidity": 0.2
             }
            },
            "type": "barpolar"
           }
          ],
          "carpet": [
           {
            "aaxis": {
             "endlinecolor": "#2a3f5f",
             "gridcolor": "white",
             "linecolor": "white",
             "minorgridcolor": "white",
             "startlinecolor": "#2a3f5f"
            },
            "baxis": {
             "endlinecolor": "#2a3f5f",
             "gridcolor": "white",
             "linecolor": "white",
             "minorgridcolor": "white",
             "startlinecolor": "#2a3f5f"
            },
            "type": "carpet"
           }
          ],
          "choropleth": [
           {
            "colorbar": {
             "outlinewidth": 0,
             "ticks": ""
            },
            "type": "choropleth"
           }
          ],
          "contour": [
           {
            "colorbar": {
             "outlinewidth": 0,
             "ticks": ""
            },
            "colorscale": [
             [
              0,
              "#0d0887"
             ],
             [
              0.1111111111111111,
              "#46039f"
             ],
             [
              0.2222222222222222,
              "#7201a8"
             ],
             [
              0.3333333333333333,
              "#9c179e"
             ],
             [
              0.4444444444444444,
              "#bd3786"
             ],
             [
              0.5555555555555556,
              "#d8576b"
             ],
             [
              0.6666666666666666,
              "#ed7953"
             ],
             [
              0.7777777777777778,
              "#fb9f3a"
             ],
             [
              0.8888888888888888,
              "#fdca26"
             ],
             [
              1,
              "#f0f921"
             ]
            ],
            "type": "contour"
           }
          ],
          "contourcarpet": [
           {
            "colorbar": {
             "outlinewidth": 0,
             "ticks": ""
            },
            "type": "contourcarpet"
           }
          ],
          "heatmap": [
           {
            "colorbar": {
             "outlinewidth": 0,
             "ticks": ""
            },
            "colorscale": [
             [
              0,
              "#0d0887"
             ],
             [
              0.1111111111111111,
              "#46039f"
             ],
             [
              0.2222222222222222,
              "#7201a8"
             ],
             [
              0.3333333333333333,
              "#9c179e"
             ],
             [
              0.4444444444444444,
              "#bd3786"
             ],
             [
              0.5555555555555556,
              "#d8576b"
             ],
             [
              0.6666666666666666,
              "#ed7953"
             ],
             [
              0.7777777777777778,
              "#fb9f3a"
             ],
             [
              0.8888888888888888,
              "#fdca26"
             ],
             [
              1,
              "#f0f921"
             ]
            ],
            "type": "heatmap"
           }
          ],
          "histogram": [
           {
            "marker": {
             "pattern": {
              "fillmode": "overlay",
              "size": 10,
              "solidity": 0.2
             }
            },
            "type": "histogram"
           }
          ],
          "histogram2d": [
           {
            "colorbar": {
             "outlinewidth": 0,
             "ticks": ""
            },
            "colorscale": [
             [
              0,
              "#0d0887"
             ],
             [
              0.1111111111111111,
              "#46039f"
             ],
             [
              0.2222222222222222,
              "#7201a8"
             ],
             [
              0.3333333333333333,
              "#9c179e"
             ],
             [
              0.4444444444444444,
              "#bd3786"
             ],
             [
              0.5555555555555556,
              "#d8576b"
             ],
             [
              0.6666666666666666,
              "#ed7953"
             ],
             [
              0.7777777777777778,
              "#fb9f3a"
             ],
             [
              0.8888888888888888,
              "#fdca26"
             ],
             [
              1,
              "#f0f921"
             ]
            ],
            "type": "histogram2d"
           }
          ],
          "histogram2dcontour": [
           {
            "colorbar": {
             "outlinewidth": 0,
             "ticks": ""
            },
            "colorscale": [
             [
              0,
              "#0d0887"
             ],
             [
              0.1111111111111111,
              "#46039f"
             ],
             [
              0.2222222222222222,
              "#7201a8"
             ],
             [
              0.3333333333333333,
              "#9c179e"
             ],
             [
              0.4444444444444444,
              "#bd3786"
             ],
             [
              0.5555555555555556,
              "#d8576b"
             ],
             [
              0.6666666666666666,
              "#ed7953"
             ],
             [
              0.7777777777777778,
              "#fb9f3a"
             ],
             [
              0.8888888888888888,
              "#fdca26"
             ],
             [
              1,
              "#f0f921"
             ]
            ],
            "type": "histogram2dcontour"
           }
          ],
          "mesh3d": [
           {
            "colorbar": {
             "outlinewidth": 0,
             "ticks": ""
            },
            "type": "mesh3d"
           }
          ],
          "parcoords": [
           {
            "line": {
             "colorbar": {
              "outlinewidth": 0,
              "ticks": ""
             }
            },
            "type": "parcoords"
           }
          ],
          "pie": [
           {
            "automargin": true,
            "type": "pie"
           }
          ],
          "scatter": [
           {
            "fillpattern": {
             "fillmode": "overlay",
             "size": 10,
             "solidity": 0.2
            },
            "type": "scatter"
           }
          ],
          "scatter3d": [
           {
            "line": {
             "colorbar": {
              "outlinewidth": 0,
              "ticks": ""
             }
            },
            "marker": {
             "colorbar": {
              "outlinewidth": 0,
              "ticks": ""
             }
            },
            "type": "scatter3d"
           }
          ],
          "scattercarpet": [
           {
            "marker": {
             "colorbar": {
              "outlinewidth": 0,
              "ticks": ""
             }
            },
            "type": "scattercarpet"
           }
          ],
          "scattergeo": [
           {
            "marker": {
             "colorbar": {
              "outlinewidth": 0,
              "ticks": ""
             }
            },
            "type": "scattergeo"
           }
          ],
          "scattergl": [
           {
            "marker": {
             "colorbar": {
              "outlinewidth": 0,
              "ticks": ""
             }
            },
            "type": "scattergl"
           }
          ],
          "scattermap": [
           {
            "marker": {
             "colorbar": {
              "outlinewidth": 0,
              "ticks": ""
             }
            },
            "type": "scattermap"
           }
          ],
          "scattermapbox": [
           {
            "marker": {
             "colorbar": {
              "outlinewidth": 0,
              "ticks": ""
             }
            },
            "type": "scattermapbox"
           }
          ],
          "scatterpolar": [
           {
            "marker": {
             "colorbar": {
              "outlinewidth": 0,
              "ticks": ""
             }
            },
            "type": "scatterpolar"
           }
          ],
          "scatterpolargl": [
           {
            "marker": {
             "colorbar": {
              "outlinewidth": 0,
              "ticks": ""
             }
            },
            "type": "scatterpolargl"
           }
          ],
          "scatterternary": [
           {
            "marker": {
             "colorbar": {
              "outlinewidth": 0,
              "ticks": ""
             }
            },
            "type": "scatterternary"
           }
          ],
          "surface": [
           {
            "colorbar": {
             "outlinewidth": 0,
             "ticks": ""
            },
            "colorscale": [
             [
              0,
              "#0d0887"
             ],
             [
              0.1111111111111111,
              "#46039f"
             ],
             [
              0.2222222222222222,
              "#7201a8"
             ],
             [
              0.3333333333333333,
              "#9c179e"
             ],
             [
              0.4444444444444444,
              "#bd3786"
             ],
             [
              0.5555555555555556,
              "#d8576b"
             ],
             [
              0.6666666666666666,
              "#ed7953"
             ],
             [
              0.7777777777777778,
              "#fb9f3a"
             ],
             [
              0.8888888888888888,
              "#fdca26"
             ],
             [
              1,
              "#f0f921"
             ]
            ],
            "type": "surface"
           }
          ],
          "table": [
           {
            "cells": {
             "fill": {
              "color": "#EBF0F8"
             },
             "line": {
              "color": "white"
             }
            },
            "header": {
             "fill": {
              "color": "#C8D4E3"
             },
             "line": {
              "color": "white"
             }
            },
            "type": "table"
           }
          ]
         },
         "layout": {
          "annotationdefaults": {
           "arrowcolor": "#2a3f5f",
           "arrowhead": 0,
           "arrowwidth": 1
          },
          "autotypenumbers": "strict",
          "coloraxis": {
           "colorbar": {
            "outlinewidth": 0,
            "ticks": ""
           }
          },
          "colorscale": {
           "diverging": [
            [
             0,
             "#8e0152"
            ],
            [
             0.1,
             "#c51b7d"
            ],
            [
             0.2,
             "#de77ae"
            ],
            [
             0.3,
             "#f1b6da"
            ],
            [
             0.4,
             "#fde0ef"
            ],
            [
             0.5,
             "#f7f7f7"
            ],
            [
             0.6,
             "#e6f5d0"
            ],
            [
             0.7,
             "#b8e186"
            ],
            [
             0.8,
             "#7fbc41"
            ],
            [
             0.9,
             "#4d9221"
            ],
            [
             1,
             "#276419"
            ]
           ],
           "sequential": [
            [
             0,
             "#0d0887"
            ],
            [
             0.1111111111111111,
             "#46039f"
            ],
            [
             0.2222222222222222,
             "#7201a8"
            ],
            [
             0.3333333333333333,
             "#9c179e"
            ],
            [
             0.4444444444444444,
             "#bd3786"
            ],
            [
             0.5555555555555556,
             "#d8576b"
            ],
            [
             0.6666666666666666,
             "#ed7953"
            ],
            [
             0.7777777777777778,
             "#fb9f3a"
            ],
            [
             0.8888888888888888,
             "#fdca26"
            ],
            [
             1,
             "#f0f921"
            ]
           ],
           "sequentialminus": [
            [
             0,
             "#0d0887"
            ],
            [
             0.1111111111111111,
             "#46039f"
            ],
            [
             0.2222222222222222,
             "#7201a8"
            ],
            [
             0.3333333333333333,
             "#9c179e"
            ],
            [
             0.4444444444444444,
             "#bd3786"
            ],
            [
             0.5555555555555556,
             "#d8576b"
            ],
            [
             0.6666666666666666,
             "#ed7953"
            ],
            [
             0.7777777777777778,
             "#fb9f3a"
            ],
            [
             0.8888888888888888,
             "#fdca26"
            ],
            [
             1,
             "#f0f921"
            ]
           ]
          },
          "colorway": [
           "#636efa",
           "#EF553B",
           "#00cc96",
           "#ab63fa",
           "#FFA15A",
           "#19d3f3",
           "#FF6692",
           "#B6E880",
           "#FF97FF",
           "#FECB52"
          ],
          "font": {
           "color": "#2a3f5f"
          },
          "geo": {
           "bgcolor": "white",
           "lakecolor": "white",
           "landcolor": "#E5ECF6",
           "showlakes": true,
           "showland": true,
           "subunitcolor": "white"
          },
          "hoverlabel": {
           "align": "left"
          },
          "hovermode": "closest",
          "mapbox": {
           "style": "light"
          },
          "paper_bgcolor": "white",
          "plot_bgcolor": "#E5ECF6",
          "polar": {
           "angularaxis": {
            "gridcolor": "white",
            "linecolor": "white",
            "ticks": ""
           },
           "bgcolor": "#E5ECF6",
           "radialaxis": {
            "gridcolor": "white",
            "linecolor": "white",
            "ticks": ""
           }
          },
          "scene": {
           "xaxis": {
            "backgroundcolor": "#E5ECF6",
            "gridcolor": "white",
            "gridwidth": 2,
            "linecolor": "white",
            "showbackground": true,
            "ticks": "",
            "zerolinecolor": "white"
           },
           "yaxis": {
            "backgroundcolor": "#E5ECF6",
            "gridcolor": "white",
            "gridwidth": 2,
            "linecolor": "white",
            "showbackground": true,
            "ticks": "",
            "zerolinecolor": "white"
           },
           "zaxis": {
            "backgroundcolor": "#E5ECF6",
            "gridcolor": "white",
            "gridwidth": 2,
            "linecolor": "white",
            "showbackground": true,
            "ticks": "",
            "zerolinecolor": "white"
           }
          },
          "shapedefaults": {
           "line": {
            "color": "#2a3f5f"
           }
          },
          "ternary": {
           "aaxis": {
            "gridcolor": "white",
            "linecolor": "white",
            "ticks": ""
           },
           "baxis": {
            "gridcolor": "white",
            "linecolor": "white",
            "ticks": ""
           },
           "bgcolor": "#E5ECF6",
           "caxis": {
            "gridcolor": "white",
            "linecolor": "white",
            "ticks": ""
           }
          },
          "title": {
           "x": 0.05
          },
          "xaxis": {
           "automargin": true,
           "gridcolor": "white",
           "linecolor": "white",
           "ticks": "",
           "title": {
            "standoff": 15
           },
           "zerolinecolor": "white",
           "zerolinewidth": 2
          },
          "yaxis": {
           "automargin": true,
           "gridcolor": "white",
           "linecolor": "white",
           "ticks": "",
           "title": {
            "standoff": 15
           },
           "zerolinecolor": "white",
           "zerolinewidth": 2
          }
         }
        },
        "title": {
         "text": "Altersverteilung von Studierenden nach Kohorten (gewichteter Anteil)"
        },
        "xaxis": {
         "anchor": "y",
         "domain": [
          0,
          1
         ],
         "title": {
          "text": "Jahr"
         }
        },
        "yaxis": {
         "anchor": "x",
         "domain": [
          0,
          1
         ],
         "range": [
          0,
          50
         ],
         "title": {
          "text": "Gewichteter Anteil der Studierenden (%)"
         }
        }
       }
      }
     },
     "metadata": {},
     "output_type": "display_data"
    }
   ],
   "source": [
    "fig = px.line(\n",
    "    df_alter, \n",
    "    x=\"Jahr\", \n",
    "    y=[col for col in df_alter.columns if col != \"Jahr\" and \"Bachelor\" in col], \n",
    "    markers=True, \n",
    "    title=\"Altersverteilung von Studierenden nach Kohorten (gewichteter Anteil)\",\n",
    "    labels={\"value\": \"Anteil (%)\", \"variable\": \"Altersgruppe\"},\n",
    "    color_discrete_sequence=px.colors.qualitative.Safe  # Farbschema Safe verwenden\n",
    ")\n",
    "\n",
    "fig.update_layout(\n",
    "    #template=\"infoviz\",  # Dein eigenes Plotly-Template\n",
    "    xaxis_title=\"Jahr\",\n",
    "    yaxis_title=\"Gewichteter Anteil der Studierenden (%)\",\n",
    "    yaxis=dict(range=[0, 50]),  # Prozentwerte begrenzen\n",
    "    legend_title=\"Altersgruppe\"\n",
    ")\n",
    "\n",
    "fig.show()"
   ]
  },
  {
   "cell_type": "code",
   "execution_count": 32,
   "metadata": {},
   "outputs": [
    {
     "data": {
      "application/vnd.plotly.v1+json": {
       "config": {
        "plotlyServerURL": "https://plot.ly"
       },
       "data": [
        {
         "hovertemplate": "Altersgruppe=Master unter 18 Jahre (%)<br>Jahr=%{x}<br>Anteil (%)=%{y}<extra></extra>",
         "legendgroup": "Master unter 18 Jahre (%)",
         "line": {
          "color": "rgb(136, 204, 238)",
          "dash": "solid"
         },
         "marker": {
          "symbol": "circle"
         },
         "mode": "lines+markers",
         "name": "Master unter 18 Jahre (%)",
         "orientation": "v",
         "showlegend": true,
         "type": "scatter",
         "x": [
          "2013",
          "2014",
          "2015",
          "2016",
          "2017",
          "2018",
          "2019",
          "2020",
          "2021",
          "2022",
          "2023",
          "2024"
         ],
         "xaxis": "x",
         "y": {
          "bdata": "AAAAAAAAAAAAAAAAAAAAAAAAAAAAAAAAAAAAAAAAAAAAAAAAAAAAAAAAAAAAAAAAAAAAAAAAAAAAAAAAAAAAAAAAAAAAAAAAAAAAAAAAAAAAAAAAAAAAAAAAAAAAAAAA",
          "dtype": "f8"
         },
         "yaxis": "y"
        },
        {
         "hovertemplate": "Altersgruppe=Master 18 bis 20 Jahre (%)<br>Jahr=%{x}<br>Anteil (%)=%{y}<extra></extra>",
         "legendgroup": "Master 18 bis 20 Jahre (%)",
         "line": {
          "color": "rgb(204, 102, 119)",
          "dash": "solid"
         },
         "marker": {
          "symbol": "circle"
         },
         "mode": "lines+markers",
         "name": "Master 18 bis 20 Jahre (%)",
         "orientation": "v",
         "showlegend": true,
         "type": "scatter",
         "x": [
          "2013",
          "2014",
          "2015",
          "2016",
          "2017",
          "2018",
          "2019",
          "2020",
          "2021",
          "2022",
          "2023",
          "2024"
         ],
         "xaxis": "x",
         "y": {
          "bdata": "AAAAAAAAAAAAAAAAAAAAAAAAAAAAAAAASIM0SIM0/D8AAAAAAAAAAAAAAAAAAAAAAAAAAAAAAAAAAAAAAAAAAFsU45Tb/d0/mJ6F6VmY7j8AAAAAAAAAAAAAAAAAAAAA",
          "dtype": "f8"
         },
         "yaxis": "y"
        },
        {
         "hovertemplate": "Altersgruppe=Master 21 bis 23 Jahre (%)<br>Jahr=%{x}<br>Anteil (%)=%{y}<extra></extra>",
         "legendgroup": "Master 21 bis 23 Jahre (%)",
         "line": {
          "color": "rgb(221, 204, 119)",
          "dash": "solid"
         },
         "marker": {
          "symbol": "circle"
         },
         "mode": "lines+markers",
         "name": "Master 21 bis 23 Jahre (%)",
         "orientation": "v",
         "showlegend": true,
         "type": "scatter",
         "x": [
          "2013",
          "2014",
          "2015",
          "2016",
          "2017",
          "2018",
          "2019",
          "2020",
          "2021",
          "2022",
          "2023",
          "2024"
         ],
         "xaxis": "x",
         "y": {
          "bdata": "NS5H43I0NEAUFBQUFBQUQOh+7ud+7jFAmG/5lm+5PEAndmIndmIwQPo9t8SpX0FA3QV/FSekM0Cu7HNITbAyQIEHl72hJzVAqF2J2pWoRkDP8zzP89wxQK9P16fr0zFA",
          "dtype": "f8"
         },
         "yaxis": "y"
        },
        {
         "hovertemplate": "Altersgruppe=Master 24 bis 26 Jahre (%)<br>Jahr=%{x}<br>Anteil (%)=%{y}<extra></extra>",
         "legendgroup": "Master 24 bis 26 Jahre (%)",
         "line": {
          "color": "rgb(17, 119, 51)",
          "dash": "solid"
         },
         "marker": {
          "symbol": "circle"
         },
         "mode": "lines+markers",
         "name": "Master 24 bis 26 Jahre (%)",
         "orientation": "v",
         "showlegend": true,
         "type": "scatter",
         "x": [
          "2013",
          "2014",
          "2015",
          "2016",
          "2017",
          "2018",
          "2019",
          "2020",
          "2021",
          "2022",
          "2023",
          "2024"
         ],
         "xaxis": "x",
         "y": {
          "bdata": "EroXoXuRTEAVFBQUFPRCQJmSKZmS1aRAG6RBGqQhRUDGTuzETjxKQJTXUF5DeTtAixNS8ixjSUCgQ2qC8ZZHQE7IC1sFNUNAOxWrU7E6P0B7nud5ntdHQJO/yd/k70NA",
          "dtype": "f8"
         },
         "yaxis": "y"
        },
        {
         "hovertemplate": "Altersgruppe=Master 27 bis 29 Jahre (%)<br>Jahr=%{x}<br>Anteil (%)=%{y}<extra></extra>",
         "legendgroup": "Master 27 bis 29 Jahre (%)",
         "line": {
          "color": "rgb(51, 34, 136)",
          "dash": "solid"
         },
         "marker": {
          "symbol": "circle"
         },
         "mode": "lines+markers",
         "name": "Master 27 bis 29 Jahre (%)",
         "orientation": "v",
         "showlegend": true,
         "type": "scatter",
         "x": [
          "2013",
          "2014",
          "2015",
          "2016",
          "2017",
          "2018",
          "2019",
          "2020",
          "2021",
          "2022",
          "2023",
          "2024"
         ],
         "xaxis": "x",
         "y": {
          "bdata": "pWxNytakKkAVFBQUFFRFQPEKr/AKryxA9C3f8i3fMUDETuzETrw0QOv33BKnfiVAo+RZRvSBNEBb2eeQmmAxQGG6zrFGIjVAQvwOxO9ALEC3bdu2bbs0QEhzpDnSHDlA",
          "dtype": "f8"
         },
         "yaxis": "y"
        },
        {
         "hovertemplate": "Altersgruppe=Master 30 bis 32 Jahre (%)<br>Jahr=%{x}<br>Anteil (%)=%{y}<extra></extra>",
         "legendgroup": "Master 30 bis 32 Jahre (%)",
         "line": {
          "color": "rgb(170, 68, 153)",
          "dash": "solid"
         },
         "marker": {
          "symbol": "circle"
         },
         "mode": "lines+markers",
         "name": "Master 30 bis 32 Jahre (%)",
         "orientation": "v",
         "showlegend": true,
         "type": "scatter",
         "x": [
          "2013",
          "2014",
          "2015",
          "2016",
          "2017",
          "2018",
          "2019",
          "2020",
          "2021",
          "2022",
          "2023",
          "2024"
         ],
         "xaxis": "x",
         "y": {
          "bdata": "oXsRuhehIUBqaWlpaWkkQFy+5Vu+5QtAy7d8y7d8HEAAAAAAAEAZQK+hvIbyGgpAYMUJKXmWF0CWfQ6pCcYgQD+LYpxyuyVAnYrVqVidAkCHYRiGYZgXQMu4ZdwybhVA",
          "dtype": "f8"
         },
         "yaxis": "y"
        },
        {
         "hovertemplate": "Altersgruppe=Master 33 bis 35 Jahre (%)<br>Jahr=%{x}<br>Anteil (%)=%{y}<extra></extra>",
         "legendgroup": "Master 33 bis 35 Jahre (%)",
         "line": {
          "color": "rgb(68, 170, 153)",
          "dash": "solid"
         },
         "marker": {
          "symbol": "circle"
         },
         "mode": "lines+markers",
         "name": "Master 33 bis 35 Jahre (%)",
         "orientation": "v",
         "showlegend": true,
         "type": "scatter",
         "x": [
          "2013",
          "2014",
          "2015",
          "2016",
          "2017",
          "2018",
          "2019",
          "2020",
          "2021",
          "2022",
          "2023",
          "2024"
         ],
         "xaxis": "x",
         "y": {
          "bdata": "mp6F6VmY3j8kIyMjIyMPQAAAAAAAAAAABmmQBmmQ/j8odmIndmICQHkN5TWU1/A/J6TkWUb08T8UjLeyzyEDQENPqq9kfg5AJG9D8jYkB0C4bdu2bdsZQJ/VzmpntQtA",
          "dtype": "f8"
         },
         "yaxis": "y"
        },
        {
         "hovertemplate": "Altersgruppe=Master älter als 35 Jahre (%)<br>Jahr=%{x}<br>Anteil (%)=%{y}<extra></extra>",
         "legendgroup": "Master älter als 35 Jahre (%)",
         "line": {
          "color": "rgb(153, 153, 51)",
          "dash": "solid"
         },
         "marker": {
          "symbol": "circle"
         },
         "mode": "lines+markers",
         "name": "Master älter als 35 Jahre (%)",
         "orientation": "v",
         "showlegend": true,
         "type": "scatter",
         "x": [
          "2013",
          "2014",
          "2015",
          "2016",
          "2017",
          "2018",
          "2019",
          "2020",
          "2021",
          "2022",
          "2023",
          "2024"
         ],
         "xaxis": "x",
         "y": {
          "bdata": "mJ6F6VmY3j8AAAAAAAAAAAzSIA3SIP0/AAAAAAAAAABkJ3ZiJ3b/PwAAAAAAAAAA1bG3Nkxz5z+u7HNITTAOQMkLWwW1GQhA1K5E7UrUBkD0PM/zPM/zP1gULAoWBRtA",
          "dtype": "f8"
         },
         "yaxis": "y"
        }
       ],
       "layout": {
        "legend": {
         "title": {
          "text": "Altersgruppe"
         },
         "tracegroupgap": 0
        },
        "template": {
         "data": {
          "bar": [
           {
            "error_x": {
             "color": "#2a3f5f"
            },
            "error_y": {
             "color": "#2a3f5f"
            },
            "marker": {
             "line": {
              "color": "#E5ECF6",
              "width": 0.5
             },
             "pattern": {
              "fillmode": "overlay",
              "size": 10,
              "solidity": 0.2
             }
            },
            "type": "bar"
           }
          ],
          "barpolar": [
           {
            "marker": {
             "line": {
              "color": "#E5ECF6",
              "width": 0.5
             },
             "pattern": {
              "fillmode": "overlay",
              "size": 10,
              "solidity": 0.2
             }
            },
            "type": "barpolar"
           }
          ],
          "carpet": [
           {
            "aaxis": {
             "endlinecolor": "#2a3f5f",
             "gridcolor": "white",
             "linecolor": "white",
             "minorgridcolor": "white",
             "startlinecolor": "#2a3f5f"
            },
            "baxis": {
             "endlinecolor": "#2a3f5f",
             "gridcolor": "white",
             "linecolor": "white",
             "minorgridcolor": "white",
             "startlinecolor": "#2a3f5f"
            },
            "type": "carpet"
           }
          ],
          "choropleth": [
           {
            "colorbar": {
             "outlinewidth": 0,
             "ticks": ""
            },
            "type": "choropleth"
           }
          ],
          "contour": [
           {
            "colorbar": {
             "outlinewidth": 0,
             "ticks": ""
            },
            "colorscale": [
             [
              0,
              "#0d0887"
             ],
             [
              0.1111111111111111,
              "#46039f"
             ],
             [
              0.2222222222222222,
              "#7201a8"
             ],
             [
              0.3333333333333333,
              "#9c179e"
             ],
             [
              0.4444444444444444,
              "#bd3786"
             ],
             [
              0.5555555555555556,
              "#d8576b"
             ],
             [
              0.6666666666666666,
              "#ed7953"
             ],
             [
              0.7777777777777778,
              "#fb9f3a"
             ],
             [
              0.8888888888888888,
              "#fdca26"
             ],
             [
              1,
              "#f0f921"
             ]
            ],
            "type": "contour"
           }
          ],
          "contourcarpet": [
           {
            "colorbar": {
             "outlinewidth": 0,
             "ticks": ""
            },
            "type": "contourcarpet"
           }
          ],
          "heatmap": [
           {
            "colorbar": {
             "outlinewidth": 0,
             "ticks": ""
            },
            "colorscale": [
             [
              0,
              "#0d0887"
             ],
             [
              0.1111111111111111,
              "#46039f"
             ],
             [
              0.2222222222222222,
              "#7201a8"
             ],
             [
              0.3333333333333333,
              "#9c179e"
             ],
             [
              0.4444444444444444,
              "#bd3786"
             ],
             [
              0.5555555555555556,
              "#d8576b"
             ],
             [
              0.6666666666666666,
              "#ed7953"
             ],
             [
              0.7777777777777778,
              "#fb9f3a"
             ],
             [
              0.8888888888888888,
              "#fdca26"
             ],
             [
              1,
              "#f0f921"
             ]
            ],
            "type": "heatmap"
           }
          ],
          "histogram": [
           {
            "marker": {
             "pattern": {
              "fillmode": "overlay",
              "size": 10,
              "solidity": 0.2
             }
            },
            "type": "histogram"
           }
          ],
          "histogram2d": [
           {
            "colorbar": {
             "outlinewidth": 0,
             "ticks": ""
            },
            "colorscale": [
             [
              0,
              "#0d0887"
             ],
             [
              0.1111111111111111,
              "#46039f"
             ],
             [
              0.2222222222222222,
              "#7201a8"
             ],
             [
              0.3333333333333333,
              "#9c179e"
             ],
             [
              0.4444444444444444,
              "#bd3786"
             ],
             [
              0.5555555555555556,
              "#d8576b"
             ],
             [
              0.6666666666666666,
              "#ed7953"
             ],
             [
              0.7777777777777778,
              "#fb9f3a"
             ],
             [
              0.8888888888888888,
              "#fdca26"
             ],
             [
              1,
              "#f0f921"
             ]
            ],
            "type": "histogram2d"
           }
          ],
          "histogram2dcontour": [
           {
            "colorbar": {
             "outlinewidth": 0,
             "ticks": ""
            },
            "colorscale": [
             [
              0,
              "#0d0887"
             ],
             [
              0.1111111111111111,
              "#46039f"
             ],
             [
              0.2222222222222222,
              "#7201a8"
             ],
             [
              0.3333333333333333,
              "#9c179e"
             ],
             [
              0.4444444444444444,
              "#bd3786"
             ],
             [
              0.5555555555555556,
              "#d8576b"
             ],
             [
              0.6666666666666666,
              "#ed7953"
             ],
             [
              0.7777777777777778,
              "#fb9f3a"
             ],
             [
              0.8888888888888888,
              "#fdca26"
             ],
             [
              1,
              "#f0f921"
             ]
            ],
            "type": "histogram2dcontour"
           }
          ],
          "mesh3d": [
           {
            "colorbar": {
             "outlinewidth": 0,
             "ticks": ""
            },
            "type": "mesh3d"
           }
          ],
          "parcoords": [
           {
            "line": {
             "colorbar": {
              "outlinewidth": 0,
              "ticks": ""
             }
            },
            "type": "parcoords"
           }
          ],
          "pie": [
           {
            "automargin": true,
            "type": "pie"
           }
          ],
          "scatter": [
           {
            "fillpattern": {
             "fillmode": "overlay",
             "size": 10,
             "solidity": 0.2
            },
            "type": "scatter"
           }
          ],
          "scatter3d": [
           {
            "line": {
             "colorbar": {
              "outlinewidth": 0,
              "ticks": ""
             }
            },
            "marker": {
             "colorbar": {
              "outlinewidth": 0,
              "ticks": ""
             }
            },
            "type": "scatter3d"
           }
          ],
          "scattercarpet": [
           {
            "marker": {
             "colorbar": {
              "outlinewidth": 0,
              "ticks": ""
             }
            },
            "type": "scattercarpet"
           }
          ],
          "scattergeo": [
           {
            "marker": {
             "colorbar": {
              "outlinewidth": 0,
              "ticks": ""
             }
            },
            "type": "scattergeo"
           }
          ],
          "scattergl": [
           {
            "marker": {
             "colorbar": {
              "outlinewidth": 0,
              "ticks": ""
             }
            },
            "type": "scattergl"
           }
          ],
          "scattermap": [
           {
            "marker": {
             "colorbar": {
              "outlinewidth": 0,
              "ticks": ""
             }
            },
            "type": "scattermap"
           }
          ],
          "scattermapbox": [
           {
            "marker": {
             "colorbar": {
              "outlinewidth": 0,
              "ticks": ""
             }
            },
            "type": "scattermapbox"
           }
          ],
          "scatterpolar": [
           {
            "marker": {
             "colorbar": {
              "outlinewidth": 0,
              "ticks": ""
             }
            },
            "type": "scatterpolar"
           }
          ],
          "scatterpolargl": [
           {
            "marker": {
             "colorbar": {
              "outlinewidth": 0,
              "ticks": ""
             }
            },
            "type": "scatterpolargl"
           }
          ],
          "scatterternary": [
           {
            "marker": {
             "colorbar": {
              "outlinewidth": 0,
              "ticks": ""
             }
            },
            "type": "scatterternary"
           }
          ],
          "surface": [
           {
            "colorbar": {
             "outlinewidth": 0,
             "ticks": ""
            },
            "colorscale": [
             [
              0,
              "#0d0887"
             ],
             [
              0.1111111111111111,
              "#46039f"
             ],
             [
              0.2222222222222222,
              "#7201a8"
             ],
             [
              0.3333333333333333,
              "#9c179e"
             ],
             [
              0.4444444444444444,
              "#bd3786"
             ],
             [
              0.5555555555555556,
              "#d8576b"
             ],
             [
              0.6666666666666666,
              "#ed7953"
             ],
             [
              0.7777777777777778,
              "#fb9f3a"
             ],
             [
              0.8888888888888888,
              "#fdca26"
             ],
             [
              1,
              "#f0f921"
             ]
            ],
            "type": "surface"
           }
          ],
          "table": [
           {
            "cells": {
             "fill": {
              "color": "#EBF0F8"
             },
             "line": {
              "color": "white"
             }
            },
            "header": {
             "fill": {
              "color": "#C8D4E3"
             },
             "line": {
              "color": "white"
             }
            },
            "type": "table"
           }
          ]
         },
         "layout": {
          "annotationdefaults": {
           "arrowcolor": "#2a3f5f",
           "arrowhead": 0,
           "arrowwidth": 1
          },
          "autotypenumbers": "strict",
          "coloraxis": {
           "colorbar": {
            "outlinewidth": 0,
            "ticks": ""
           }
          },
          "colorscale": {
           "diverging": [
            [
             0,
             "#8e0152"
            ],
            [
             0.1,
             "#c51b7d"
            ],
            [
             0.2,
             "#de77ae"
            ],
            [
             0.3,
             "#f1b6da"
            ],
            [
             0.4,
             "#fde0ef"
            ],
            [
             0.5,
             "#f7f7f7"
            ],
            [
             0.6,
             "#e6f5d0"
            ],
            [
             0.7,
             "#b8e186"
            ],
            [
             0.8,
             "#7fbc41"
            ],
            [
             0.9,
             "#4d9221"
            ],
            [
             1,
             "#276419"
            ]
           ],
           "sequential": [
            [
             0,
             "#0d0887"
            ],
            [
             0.1111111111111111,
             "#46039f"
            ],
            [
             0.2222222222222222,
             "#7201a8"
            ],
            [
             0.3333333333333333,
             "#9c179e"
            ],
            [
             0.4444444444444444,
             "#bd3786"
            ],
            [
             0.5555555555555556,
             "#d8576b"
            ],
            [
             0.6666666666666666,
             "#ed7953"
            ],
            [
             0.7777777777777778,
             "#fb9f3a"
            ],
            [
             0.8888888888888888,
             "#fdca26"
            ],
            [
             1,
             "#f0f921"
            ]
           ],
           "sequentialminus": [
            [
             0,
             "#0d0887"
            ],
            [
             0.1111111111111111,
             "#46039f"
            ],
            [
             0.2222222222222222,
             "#7201a8"
            ],
            [
             0.3333333333333333,
             "#9c179e"
            ],
            [
             0.4444444444444444,
             "#bd3786"
            ],
            [
             0.5555555555555556,
             "#d8576b"
            ],
            [
             0.6666666666666666,
             "#ed7953"
            ],
            [
             0.7777777777777778,
             "#fb9f3a"
            ],
            [
             0.8888888888888888,
             "#fdca26"
            ],
            [
             1,
             "#f0f921"
            ]
           ]
          },
          "colorway": [
           "#636efa",
           "#EF553B",
           "#00cc96",
           "#ab63fa",
           "#FFA15A",
           "#19d3f3",
           "#FF6692",
           "#B6E880",
           "#FF97FF",
           "#FECB52"
          ],
          "font": {
           "color": "#2a3f5f"
          },
          "geo": {
           "bgcolor": "white",
           "lakecolor": "white",
           "landcolor": "#E5ECF6",
           "showlakes": true,
           "showland": true,
           "subunitcolor": "white"
          },
          "hoverlabel": {
           "align": "left"
          },
          "hovermode": "closest",
          "mapbox": {
           "style": "light"
          },
          "paper_bgcolor": "white",
          "plot_bgcolor": "#E5ECF6",
          "polar": {
           "angularaxis": {
            "gridcolor": "white",
            "linecolor": "white",
            "ticks": ""
           },
           "bgcolor": "#E5ECF6",
           "radialaxis": {
            "gridcolor": "white",
            "linecolor": "white",
            "ticks": ""
           }
          },
          "scene": {
           "xaxis": {
            "backgroundcolor": "#E5ECF6",
            "gridcolor": "white",
            "gridwidth": 2,
            "linecolor": "white",
            "showbackground": true,
            "ticks": "",
            "zerolinecolor": "white"
           },
           "yaxis": {
            "backgroundcolor": "#E5ECF6",
            "gridcolor": "white",
            "gridwidth": 2,
            "linecolor": "white",
            "showbackground": true,
            "ticks": "",
            "zerolinecolor": "white"
           },
           "zaxis": {
            "backgroundcolor": "#E5ECF6",
            "gridcolor": "white",
            "gridwidth": 2,
            "linecolor": "white",
            "showbackground": true,
            "ticks": "",
            "zerolinecolor": "white"
           }
          },
          "shapedefaults": {
           "line": {
            "color": "#2a3f5f"
           }
          },
          "ternary": {
           "aaxis": {
            "gridcolor": "white",
            "linecolor": "white",
            "ticks": ""
           },
           "baxis": {
            "gridcolor": "white",
            "linecolor": "white",
            "ticks": ""
           },
           "bgcolor": "#E5ECF6",
           "caxis": {
            "gridcolor": "white",
            "linecolor": "white",
            "ticks": ""
           }
          },
          "title": {
           "x": 0.05
          },
          "xaxis": {
           "automargin": true,
           "gridcolor": "white",
           "linecolor": "white",
           "ticks": "",
           "title": {
            "standoff": 15
           },
           "zerolinecolor": "white",
           "zerolinewidth": 2
          },
          "yaxis": {
           "automargin": true,
           "gridcolor": "white",
           "linecolor": "white",
           "ticks": "",
           "title": {
            "standoff": 15
           },
           "zerolinecolor": "white",
           "zerolinewidth": 2
          }
         }
        },
        "title": {
         "text": "Altersverteilung von Studierenden nach Kohorten (gewichteter Anteil)"
        },
        "xaxis": {
         "anchor": "y",
         "domain": [
          0,
          1
         ],
         "title": {
          "text": "Jahr"
         }
        },
        "yaxis": {
         "anchor": "x",
         "domain": [
          0,
          1
         ],
         "range": [
          0,
          50
         ],
         "title": {
          "text": "Gewichteter Anteil der Studierenden (%)"
         }
        }
       }
      }
     },
     "metadata": {},
     "output_type": "display_data"
    }
   ],
   "source": [
    "fig = px.line(\n",
    "    df_alter, \n",
    "    x=\"Jahr\", \n",
    "    y=[col for col in df_alter.columns if col != \"Jahr\" and \"Master\" in col], \n",
    "    markers=True, \n",
    "    title=\"Altersverteilung von Studierenden nach Kohorten (gewichteter Anteil)\",\n",
    "    labels={\"value\": \"Anteil (%)\", \"variable\": \"Altersgruppe\"},\n",
    "    color_discrete_sequence=px.colors.qualitative.Safe  # Farbschema Safe verwenden\n",
    ")\n",
    "\n",
    "fig.update_layout(\n",
    "    #template=\"infoviz\",  # Dein eigenes Plotly-Template\n",
    "    xaxis_title=\"Jahr\",\n",
    "    yaxis_title=\"Gewichteter Anteil der Studierenden (%)\",\n",
    "    yaxis=dict(range=[0, 50]),  # Prozentwerte begrenzen\n",
    "    legend_title=\"Altersgruppe\"\n",
    ")\n",
    "\n",
    "fig.show()"
   ]
  },
  {
   "cell_type": "code",
   "execution_count": 68,
   "metadata": {},
   "outputs": [],
   "source": [
    "import pandas as pd\n",
    "import plotly.express as px\n",
    "\n",
    "# Daten für die Alterspyramide umformen\n",
    "df_pyramide = df_alter.melt(id_vars=\"Jahr\", var_name=\"Altersgruppe\", value_name=\"Anteil (%)\")\n",
    "\n",
    "# Bachelor vs. Master identifizieren\n",
    "df_pyramide[\"Studiengang\"] = df_pyramide[\"Altersgruppe\"].apply(lambda x: \"Bachelor\" if \"Bachelor\" in x else \"Master\")\n",
    "\n",
    "# Altersgruppen umbenennen (Bachelor/Master entfernen)\n",
    "df_pyramide[\"Altersgruppe\"] = df_pyramide[\"Altersgruppe\"].str.replace(\"Bachelor \", \"\", regex=False)\n",
    "df_pyramide[\"Altersgruppe\"] = df_pyramide[\"Altersgruppe\"].str.replace(\"Master \", \"\", regex=False)\n",
    "\n",
    "# Bachelor-Werte negativ setzen für visuelle Trennung\n",
    "df_pyramide.loc[df_pyramide[\"Studiengang\"] == \"Bachelor\", \"Anteil (%)\"] *= -1\n",
    "\n",
    "# Neuen DataFrame erstellen mit nur den letzten Jahrgang\n",
    "jahrgang = \"2013\"  # Letztes verfügbares Jahr\n",
    "df_pyramide_latest = df_pyramide[df_pyramide[\"Jahr\"] == jahrgang]"
   ]
  },
  {
   "cell_type": "code",
   "execution_count": 69,
   "metadata": {},
   "outputs": [
    {
     "data": {
      "text/plain": [
       "'2013'"
      ]
     },
     "execution_count": 69,
     "metadata": {},
     "output_type": "execute_result"
    }
   ],
   "source": [
    "jahrgang"
   ]
  },
  {
   "cell_type": "code",
   "execution_count": 70,
   "metadata": {},
   "outputs": [
    {
     "data": {
      "application/vnd.plotly.v1+json": {
       "config": {
        "plotlyServerURL": "https://plot.ly"
       },
       "data": [
        {
         "hovertemplate": "Studiengang=Bachelor<br>Anteil (%)=%{x}<br>Altersgruppe=%{y}<extra></extra>",
         "legendgroup": "Bachelor",
         "marker": {
          "color": "#1f77b4",
          "pattern": {
           "shape": ""
          }
         },
         "name": "Bachelor",
         "orientation": "h",
         "showlegend": true,
         "textposition": "auto",
         "type": "bar",
         "x": {
          "bdata": "AAAAAAAAAIBrypqypqw1wLOmrClrqkvA6Av6gr7gLcAGfUFf0BcMwKesKWvKmgLAjrgj7og74r8qa8qasqbwvw==",
          "dtype": "f8"
         },
         "xaxis": "x",
         "y": [
          "unter 18 Jahre (%)",
          "18 bis 20 Jahre (%)",
          "21 bis 23 Jahre (%)",
          "24 bis 26 Jahre (%)",
          "27 bis 29 Jahre (%)",
          "30 bis 32 Jahre (%)",
          "33 bis 35 Jahre (%)",
          "älter als 35 Jahre (%)"
         ],
         "yaxis": "y"
        },
        {
         "hovertemplate": "Studiengang=Master<br>Anteil (%)=%{x}<br>Altersgruppe=%{y}<extra></extra>",
         "legendgroup": "Master",
         "marker": {
          "color": "#ff7f0e",
          "pattern": {
           "shape": ""
          }
         },
         "name": "Master",
         "orientation": "h",
         "showlegend": true,
         "textposition": "auto",
         "type": "bar",
         "x": {
          "bdata": "AAAAAAAAAAAAAAAAAAAAADUuR+NyNDRAEroXoXuRTEClbE3K1qQqQKF7EboXoSFAmp6F6VmY3j+YnoXpWZjePw==",
          "dtype": "f8"
         },
         "xaxis": "x",
         "y": [
          "unter 18 Jahre (%)",
          "18 bis 20 Jahre (%)",
          "21 bis 23 Jahre (%)",
          "24 bis 26 Jahre (%)",
          "27 bis 29 Jahre (%)",
          "30 bis 32 Jahre (%)",
          "33 bis 35 Jahre (%)",
          "älter als 35 Jahre (%)"
         ],
         "yaxis": "y"
        }
       ],
       "layout": {
        "barmode": "relative",
        "legend": {
         "title": {
          "text": "Studiengang"
         },
         "tracegroupgap": 0
        },
        "template": {
         "data": {
          "bar": [
           {
            "error_x": {
             "color": "#2a3f5f"
            },
            "error_y": {
             "color": "#2a3f5f"
            },
            "marker": {
             "line": {
              "color": "#E5ECF6",
              "width": 0.5
             },
             "pattern": {
              "fillmode": "overlay",
              "size": 10,
              "solidity": 0.2
             }
            },
            "type": "bar"
           }
          ],
          "barpolar": [
           {
            "marker": {
             "line": {
              "color": "#E5ECF6",
              "width": 0.5
             },
             "pattern": {
              "fillmode": "overlay",
              "size": 10,
              "solidity": 0.2
             }
            },
            "type": "barpolar"
           }
          ],
          "carpet": [
           {
            "aaxis": {
             "endlinecolor": "#2a3f5f",
             "gridcolor": "white",
             "linecolor": "white",
             "minorgridcolor": "white",
             "startlinecolor": "#2a3f5f"
            },
            "baxis": {
             "endlinecolor": "#2a3f5f",
             "gridcolor": "white",
             "linecolor": "white",
             "minorgridcolor": "white",
             "startlinecolor": "#2a3f5f"
            },
            "type": "carpet"
           }
          ],
          "choropleth": [
           {
            "colorbar": {
             "outlinewidth": 0,
             "ticks": ""
            },
            "type": "choropleth"
           }
          ],
          "contour": [
           {
            "colorbar": {
             "outlinewidth": 0,
             "ticks": ""
            },
            "colorscale": [
             [
              0,
              "#0d0887"
             ],
             [
              0.1111111111111111,
              "#46039f"
             ],
             [
              0.2222222222222222,
              "#7201a8"
             ],
             [
              0.3333333333333333,
              "#9c179e"
             ],
             [
              0.4444444444444444,
              "#bd3786"
             ],
             [
              0.5555555555555556,
              "#d8576b"
             ],
             [
              0.6666666666666666,
              "#ed7953"
             ],
             [
              0.7777777777777778,
              "#fb9f3a"
             ],
             [
              0.8888888888888888,
              "#fdca26"
             ],
             [
              1,
              "#f0f921"
             ]
            ],
            "type": "contour"
           }
          ],
          "contourcarpet": [
           {
            "colorbar": {
             "outlinewidth": 0,
             "ticks": ""
            },
            "type": "contourcarpet"
           }
          ],
          "heatmap": [
           {
            "colorbar": {
             "outlinewidth": 0,
             "ticks": ""
            },
            "colorscale": [
             [
              0,
              "#0d0887"
             ],
             [
              0.1111111111111111,
              "#46039f"
             ],
             [
              0.2222222222222222,
              "#7201a8"
             ],
             [
              0.3333333333333333,
              "#9c179e"
             ],
             [
              0.4444444444444444,
              "#bd3786"
             ],
             [
              0.5555555555555556,
              "#d8576b"
             ],
             [
              0.6666666666666666,
              "#ed7953"
             ],
             [
              0.7777777777777778,
              "#fb9f3a"
             ],
             [
              0.8888888888888888,
              "#fdca26"
             ],
             [
              1,
              "#f0f921"
             ]
            ],
            "type": "heatmap"
           }
          ],
          "histogram": [
           {
            "marker": {
             "pattern": {
              "fillmode": "overlay",
              "size": 10,
              "solidity": 0.2
             }
            },
            "type": "histogram"
           }
          ],
          "histogram2d": [
           {
            "colorbar": {
             "outlinewidth": 0,
             "ticks": ""
            },
            "colorscale": [
             [
              0,
              "#0d0887"
             ],
             [
              0.1111111111111111,
              "#46039f"
             ],
             [
              0.2222222222222222,
              "#7201a8"
             ],
             [
              0.3333333333333333,
              "#9c179e"
             ],
             [
              0.4444444444444444,
              "#bd3786"
             ],
             [
              0.5555555555555556,
              "#d8576b"
             ],
             [
              0.6666666666666666,
              "#ed7953"
             ],
             [
              0.7777777777777778,
              "#fb9f3a"
             ],
             [
              0.8888888888888888,
              "#fdca26"
             ],
             [
              1,
              "#f0f921"
             ]
            ],
            "type": "histogram2d"
           }
          ],
          "histogram2dcontour": [
           {
            "colorbar": {
             "outlinewidth": 0,
             "ticks": ""
            },
            "colorscale": [
             [
              0,
              "#0d0887"
             ],
             [
              0.1111111111111111,
              "#46039f"
             ],
             [
              0.2222222222222222,
              "#7201a8"
             ],
             [
              0.3333333333333333,
              "#9c179e"
             ],
             [
              0.4444444444444444,
              "#bd3786"
             ],
             [
              0.5555555555555556,
              "#d8576b"
             ],
             [
              0.6666666666666666,
              "#ed7953"
             ],
             [
              0.7777777777777778,
              "#fb9f3a"
             ],
             [
              0.8888888888888888,
              "#fdca26"
             ],
             [
              1,
              "#f0f921"
             ]
            ],
            "type": "histogram2dcontour"
           }
          ],
          "mesh3d": [
           {
            "colorbar": {
             "outlinewidth": 0,
             "ticks": ""
            },
            "type": "mesh3d"
           }
          ],
          "parcoords": [
           {
            "line": {
             "colorbar": {
              "outlinewidth": 0,
              "ticks": ""
             }
            },
            "type": "parcoords"
           }
          ],
          "pie": [
           {
            "automargin": true,
            "type": "pie"
           }
          ],
          "scatter": [
           {
            "fillpattern": {
             "fillmode": "overlay",
             "size": 10,
             "solidity": 0.2
            },
            "type": "scatter"
           }
          ],
          "scatter3d": [
           {
            "line": {
             "colorbar": {
              "outlinewidth": 0,
              "ticks": ""
             }
            },
            "marker": {
             "colorbar": {
              "outlinewidth": 0,
              "ticks": ""
             }
            },
            "type": "scatter3d"
           }
          ],
          "scattercarpet": [
           {
            "marker": {
             "colorbar": {
              "outlinewidth": 0,
              "ticks": ""
             }
            },
            "type": "scattercarpet"
           }
          ],
          "scattergeo": [
           {
            "marker": {
             "colorbar": {
              "outlinewidth": 0,
              "ticks": ""
             }
            },
            "type": "scattergeo"
           }
          ],
          "scattergl": [
           {
            "marker": {
             "colorbar": {
              "outlinewidth": 0,
              "ticks": ""
             }
            },
            "type": "scattergl"
           }
          ],
          "scattermap": [
           {
            "marker": {
             "colorbar": {
              "outlinewidth": 0,
              "ticks": ""
             }
            },
            "type": "scattermap"
           }
          ],
          "scattermapbox": [
           {
            "marker": {
             "colorbar": {
              "outlinewidth": 0,
              "ticks": ""
             }
            },
            "type": "scattermapbox"
           }
          ],
          "scatterpolar": [
           {
            "marker": {
             "colorbar": {
              "outlinewidth": 0,
              "ticks": ""
             }
            },
            "type": "scatterpolar"
           }
          ],
          "scatterpolargl": [
           {
            "marker": {
             "colorbar": {
              "outlinewidth": 0,
              "ticks": ""
             }
            },
            "type": "scatterpolargl"
           }
          ],
          "scatterternary": [
           {
            "marker": {
             "colorbar": {
              "outlinewidth": 0,
              "ticks": ""
             }
            },
            "type": "scatterternary"
           }
          ],
          "surface": [
           {
            "colorbar": {
             "outlinewidth": 0,
             "ticks": ""
            },
            "colorscale": [
             [
              0,
              "#0d0887"
             ],
             [
              0.1111111111111111,
              "#46039f"
             ],
             [
              0.2222222222222222,
              "#7201a8"
             ],
             [
              0.3333333333333333,
              "#9c179e"
             ],
             [
              0.4444444444444444,
              "#bd3786"
             ],
             [
              0.5555555555555556,
              "#d8576b"
             ],
             [
              0.6666666666666666,
              "#ed7953"
             ],
             [
              0.7777777777777778,
              "#fb9f3a"
             ],
             [
              0.8888888888888888,
              "#fdca26"
             ],
             [
              1,
              "#f0f921"
             ]
            ],
            "type": "surface"
           }
          ],
          "table": [
           {
            "cells": {
             "fill": {
              "color": "#EBF0F8"
             },
             "line": {
              "color": "white"
             }
            },
            "header": {
             "fill": {
              "color": "#C8D4E3"
             },
             "line": {
              "color": "white"
             }
            },
            "type": "table"
           }
          ]
         },
         "layout": {
          "annotationdefaults": {
           "arrowcolor": "#2a3f5f",
           "arrowhead": 0,
           "arrowwidth": 1
          },
          "autotypenumbers": "strict",
          "coloraxis": {
           "colorbar": {
            "outlinewidth": 0,
            "ticks": ""
           }
          },
          "colorscale": {
           "diverging": [
            [
             0,
             "#8e0152"
            ],
            [
             0.1,
             "#c51b7d"
            ],
            [
             0.2,
             "#de77ae"
            ],
            [
             0.3,
             "#f1b6da"
            ],
            [
             0.4,
             "#fde0ef"
            ],
            [
             0.5,
             "#f7f7f7"
            ],
            [
             0.6,
             "#e6f5d0"
            ],
            [
             0.7,
             "#b8e186"
            ],
            [
             0.8,
             "#7fbc41"
            ],
            [
             0.9,
             "#4d9221"
            ],
            [
             1,
             "#276419"
            ]
           ],
           "sequential": [
            [
             0,
             "#0d0887"
            ],
            [
             0.1111111111111111,
             "#46039f"
            ],
            [
             0.2222222222222222,
             "#7201a8"
            ],
            [
             0.3333333333333333,
             "#9c179e"
            ],
            [
             0.4444444444444444,
             "#bd3786"
            ],
            [
             0.5555555555555556,
             "#d8576b"
            ],
            [
             0.6666666666666666,
             "#ed7953"
            ],
            [
             0.7777777777777778,
             "#fb9f3a"
            ],
            [
             0.8888888888888888,
             "#fdca26"
            ],
            [
             1,
             "#f0f921"
            ]
           ],
           "sequentialminus": [
            [
             0,
             "#0d0887"
            ],
            [
             0.1111111111111111,
             "#46039f"
            ],
            [
             0.2222222222222222,
             "#7201a8"
            ],
            [
             0.3333333333333333,
             "#9c179e"
            ],
            [
             0.4444444444444444,
             "#bd3786"
            ],
            [
             0.5555555555555556,
             "#d8576b"
            ],
            [
             0.6666666666666666,
             "#ed7953"
            ],
            [
             0.7777777777777778,
             "#fb9f3a"
            ],
            [
             0.8888888888888888,
             "#fdca26"
            ],
            [
             1,
             "#f0f921"
            ]
           ]
          },
          "colorway": [
           "#636efa",
           "#EF553B",
           "#00cc96",
           "#ab63fa",
           "#FFA15A",
           "#19d3f3",
           "#FF6692",
           "#B6E880",
           "#FF97FF",
           "#FECB52"
          ],
          "font": {
           "color": "#2a3f5f"
          },
          "geo": {
           "bgcolor": "white",
           "lakecolor": "white",
           "landcolor": "#E5ECF6",
           "showlakes": true,
           "showland": true,
           "subunitcolor": "white"
          },
          "hoverlabel": {
           "align": "left"
          },
          "hovermode": "closest",
          "mapbox": {
           "style": "light"
          },
          "paper_bgcolor": "white",
          "plot_bgcolor": "#E5ECF6",
          "polar": {
           "angularaxis": {
            "gridcolor": "white",
            "linecolor": "white",
            "ticks": ""
           },
           "bgcolor": "#E5ECF6",
           "radialaxis": {
            "gridcolor": "white",
            "linecolor": "white",
            "ticks": ""
           }
          },
          "scene": {
           "xaxis": {
            "backgroundcolor": "#E5ECF6",
            "gridcolor": "white",
            "gridwidth": 2,
            "linecolor": "white",
            "showbackground": true,
            "ticks": "",
            "zerolinecolor": "white"
           },
           "yaxis": {
            "backgroundcolor": "#E5ECF6",
            "gridcolor": "white",
            "gridwidth": 2,
            "linecolor": "white",
            "showbackground": true,
            "ticks": "",
            "zerolinecolor": "white"
           },
           "zaxis": {
            "backgroundcolor": "#E5ECF6",
            "gridcolor": "white",
            "gridwidth": 2,
            "linecolor": "white",
            "showbackground": true,
            "ticks": "",
            "zerolinecolor": "white"
           }
          },
          "shapedefaults": {
           "line": {
            "color": "#2a3f5f"
           }
          },
          "ternary": {
           "aaxis": {
            "gridcolor": "white",
            "linecolor": "white",
            "ticks": ""
           },
           "baxis": {
            "gridcolor": "white",
            "linecolor": "white",
            "ticks": ""
           },
           "bgcolor": "#E5ECF6",
           "caxis": {
            "gridcolor": "white",
            "linecolor": "white",
            "ticks": ""
           }
          },
          "title": {
           "x": 0.05
          },
          "xaxis": {
           "automargin": true,
           "gridcolor": "white",
           "linecolor": "white",
           "ticks": "",
           "title": {
            "standoff": 15
           },
           "zerolinecolor": "white",
           "zerolinewidth": 2
          },
          "yaxis": {
           "automargin": true,
           "gridcolor": "white",
           "linecolor": "white",
           "ticks": "",
           "title": {
            "standoff": 15
           },
           "zerolinecolor": "white",
           "zerolinewidth": 2
          }
         }
        },
        "title": {
         "text": "Alterspyramide der Studierenden (2013)"
        },
        "xaxis": {
         "anchor": "y",
         "domain": [
          0,
          1
         ],
         "tickmode": "array",
         "ticktext": [
          "20%",
          "10%",
          "0%",
          "10%",
          "20%"
         ],
         "tickvals": [
          -20,
          -10,
          0,
          10,
          20
         ],
         "title": {
          "text": "Anteil der Studierenden (%)"
         }
        },
        "yaxis": {
         "anchor": "x",
         "domain": [
          0,
          1
         ],
         "title": {
          "text": "Altersgruppe"
         }
        }
       }
      }
     },
     "metadata": {},
     "output_type": "display_data"
    }
   ],
   "source": [
    "fig = px.bar(\n",
    "    df_pyramide_latest, \n",
    "    x=\"Anteil (%)\", \n",
    "    y=\"Altersgruppe\", \n",
    "    color=\"Studiengang\", \n",
    "    orientation=\"h\",  # Horizontal\n",
    "    title=f\"Alterspyramide der Studierenden ({jahrgang})\",\n",
    "    color_discrete_map={\"Bachelor\": \"#1f77b4\", \"Master\": \"#ff7f0e\"},  # Blautöne für Bachelor, Orange für Master\n",
    ")\n",
    "\n",
    "# Layout-Anpassungen\n",
    "fig.update_layout(\n",
    "    #template=\"infoviz\",\n",
    "    xaxis_title=\"Anteil der Studierenden (%)\",\n",
    "    yaxis_title=\"Altersgruppe\",\n",
    "    xaxis=dict(\n",
    "        tickmode=\"array\",\n",
    "        tickvals=[-20, -10, 0, 10, 20],  # Achse zentrieren\n",
    "        ticktext=[\"20%\", \"10%\", \"0%\", \"10%\", \"20%\"]\n",
    "    ),\n",
    "    legend_title=\"Studiengang\"\n",
    ")\n",
    "\n",
    "fig.show()"
   ]
  },
  {
   "cell_type": "code",
   "execution_count": 71,
   "metadata": {},
   "outputs": [],
   "source": [
    "# Neuen DataFrame erstellen mit nur den letzten Jahrgang\n",
    "jahrgang = \"2024\"  # Letztes verfügbares Jahr\n",
    "df_pyramide_latest = df_pyramide[df_pyramide[\"Jahr\"] == jahrgang]"
   ]
  },
  {
   "cell_type": "code",
   "execution_count": 72,
   "metadata": {},
   "outputs": [
    {
     "data": {
      "application/vnd.plotly.v1+json": {
       "config": {
        "plotlyServerURL": "https://plot.ly"
       },
       "data": [
        {
         "hovertemplate": "Studiengang=Bachelor<br>Anteil (%)=%{x}<br>Altersgruppe=%{y}<extra></extra>",
         "legendgroup": "Bachelor",
         "marker": {
          "color": "#1f77b4",
          "pattern": {
           "shape": ""
          }
         },
         "name": "Bachelor",
         "orientation": "h",
         "showlegend": true,
         "textposition": "auto",
         "type": "bar",
         "x": {
          "bdata": "AAAAAAAAAIDg5RS8nAI4wPrQWB8aS0XAY31orA+NNMA01ofG+tASwC6n4OUUvBDA5RS8nIKX+7/Cyyl4OQUFwA==",
          "dtype": "f8"
         },
         "xaxis": "x",
         "y": [
          "unter 18 Jahre (%)",
          "18 bis 20 Jahre (%)",
          "21 bis 23 Jahre (%)",
          "24 bis 26 Jahre (%)",
          "27 bis 29 Jahre (%)",
          "30 bis 32 Jahre (%)",
          "33 bis 35 Jahre (%)",
          "älter als 35 Jahre (%)"
         ],
         "yaxis": "y"
        },
        {
         "hovertemplate": "Studiengang=Master<br>Anteil (%)=%{x}<br>Altersgruppe=%{y}<extra></extra>",
         "legendgroup": "Master",
         "marker": {
          "color": "#ff7f0e",
          "pattern": {
           "shape": ""
          }
         },
         "name": "Master",
         "orientation": "h",
         "showlegend": true,
         "textposition": "auto",
         "type": "bar",
         "x": {
          "bdata": "AAAAAAAAAAAAAAAAAAAAAK9P16fr0zFAk7/J3+TvQ0BIc6Q50hw5QMu4ZdwybhVAn9XOame1C0BYFCwKFgUbQA==",
          "dtype": "f8"
         },
         "xaxis": "x",
         "y": [
          "unter 18 Jahre (%)",
          "18 bis 20 Jahre (%)",
          "21 bis 23 Jahre (%)",
          "24 bis 26 Jahre (%)",
          "27 bis 29 Jahre (%)",
          "30 bis 32 Jahre (%)",
          "33 bis 35 Jahre (%)",
          "älter als 35 Jahre (%)"
         ],
         "yaxis": "y"
        }
       ],
       "layout": {
        "barmode": "relative",
        "legend": {
         "title": {
          "text": "Studiengang"
         },
         "tracegroupgap": 0
        },
        "template": {
         "data": {
          "bar": [
           {
            "error_x": {
             "color": "#2a3f5f"
            },
            "error_y": {
             "color": "#2a3f5f"
            },
            "marker": {
             "line": {
              "color": "#E5ECF6",
              "width": 0.5
             },
             "pattern": {
              "fillmode": "overlay",
              "size": 10,
              "solidity": 0.2
             }
            },
            "type": "bar"
           }
          ],
          "barpolar": [
           {
            "marker": {
             "line": {
              "color": "#E5ECF6",
              "width": 0.5
             },
             "pattern": {
              "fillmode": "overlay",
              "size": 10,
              "solidity": 0.2
             }
            },
            "type": "barpolar"
           }
          ],
          "carpet": [
           {
            "aaxis": {
             "endlinecolor": "#2a3f5f",
             "gridcolor": "white",
             "linecolor": "white",
             "minorgridcolor": "white",
             "startlinecolor": "#2a3f5f"
            },
            "baxis": {
             "endlinecolor": "#2a3f5f",
             "gridcolor": "white",
             "linecolor": "white",
             "minorgridcolor": "white",
             "startlinecolor": "#2a3f5f"
            },
            "type": "carpet"
           }
          ],
          "choropleth": [
           {
            "colorbar": {
             "outlinewidth": 0,
             "ticks": ""
            },
            "type": "choropleth"
           }
          ],
          "contour": [
           {
            "colorbar": {
             "outlinewidth": 0,
             "ticks": ""
            },
            "colorscale": [
             [
              0,
              "#0d0887"
             ],
             [
              0.1111111111111111,
              "#46039f"
             ],
             [
              0.2222222222222222,
              "#7201a8"
             ],
             [
              0.3333333333333333,
              "#9c179e"
             ],
             [
              0.4444444444444444,
              "#bd3786"
             ],
             [
              0.5555555555555556,
              "#d8576b"
             ],
             [
              0.6666666666666666,
              "#ed7953"
             ],
             [
              0.7777777777777778,
              "#fb9f3a"
             ],
             [
              0.8888888888888888,
              "#fdca26"
             ],
             [
              1,
              "#f0f921"
             ]
            ],
            "type": "contour"
           }
          ],
          "contourcarpet": [
           {
            "colorbar": {
             "outlinewidth": 0,
             "ticks": ""
            },
            "type": "contourcarpet"
           }
          ],
          "heatmap": [
           {
            "colorbar": {
             "outlinewidth": 0,
             "ticks": ""
            },
            "colorscale": [
             [
              0,
              "#0d0887"
             ],
             [
              0.1111111111111111,
              "#46039f"
             ],
             [
              0.2222222222222222,
              "#7201a8"
             ],
             [
              0.3333333333333333,
              "#9c179e"
             ],
             [
              0.4444444444444444,
              "#bd3786"
             ],
             [
              0.5555555555555556,
              "#d8576b"
             ],
             [
              0.6666666666666666,
              "#ed7953"
             ],
             [
              0.7777777777777778,
              "#fb9f3a"
             ],
             [
              0.8888888888888888,
              "#fdca26"
             ],
             [
              1,
              "#f0f921"
             ]
            ],
            "type": "heatmap"
           }
          ],
          "histogram": [
           {
            "marker": {
             "pattern": {
              "fillmode": "overlay",
              "size": 10,
              "solidity": 0.2
             }
            },
            "type": "histogram"
           }
          ],
          "histogram2d": [
           {
            "colorbar": {
             "outlinewidth": 0,
             "ticks": ""
            },
            "colorscale": [
             [
              0,
              "#0d0887"
             ],
             [
              0.1111111111111111,
              "#46039f"
             ],
             [
              0.2222222222222222,
              "#7201a8"
             ],
             [
              0.3333333333333333,
              "#9c179e"
             ],
             [
              0.4444444444444444,
              "#bd3786"
             ],
             [
              0.5555555555555556,
              "#d8576b"
             ],
             [
              0.6666666666666666,
              "#ed7953"
             ],
             [
              0.7777777777777778,
              "#fb9f3a"
             ],
             [
              0.8888888888888888,
              "#fdca26"
             ],
             [
              1,
              "#f0f921"
             ]
            ],
            "type": "histogram2d"
           }
          ],
          "histogram2dcontour": [
           {
            "colorbar": {
             "outlinewidth": 0,
             "ticks": ""
            },
            "colorscale": [
             [
              0,
              "#0d0887"
             ],
             [
              0.1111111111111111,
              "#46039f"
             ],
             [
              0.2222222222222222,
              "#7201a8"
             ],
             [
              0.3333333333333333,
              "#9c179e"
             ],
             [
              0.4444444444444444,
              "#bd3786"
             ],
             [
              0.5555555555555556,
              "#d8576b"
             ],
             [
              0.6666666666666666,
              "#ed7953"
             ],
             [
              0.7777777777777778,
              "#fb9f3a"
             ],
             [
              0.8888888888888888,
              "#fdca26"
             ],
             [
              1,
              "#f0f921"
             ]
            ],
            "type": "histogram2dcontour"
           }
          ],
          "mesh3d": [
           {
            "colorbar": {
             "outlinewidth": 0,
             "ticks": ""
            },
            "type": "mesh3d"
           }
          ],
          "parcoords": [
           {
            "line": {
             "colorbar": {
              "outlinewidth": 0,
              "ticks": ""
             }
            },
            "type": "parcoords"
           }
          ],
          "pie": [
           {
            "automargin": true,
            "type": "pie"
           }
          ],
          "scatter": [
           {
            "fillpattern": {
             "fillmode": "overlay",
             "size": 10,
             "solidity": 0.2
            },
            "type": "scatter"
           }
          ],
          "scatter3d": [
           {
            "line": {
             "colorbar": {
              "outlinewidth": 0,
              "ticks": ""
             }
            },
            "marker": {
             "colorbar": {
              "outlinewidth": 0,
              "ticks": ""
             }
            },
            "type": "scatter3d"
           }
          ],
          "scattercarpet": [
           {
            "marker": {
             "colorbar": {
              "outlinewidth": 0,
              "ticks": ""
             }
            },
            "type": "scattercarpet"
           }
          ],
          "scattergeo": [
           {
            "marker": {
             "colorbar": {
              "outlinewidth": 0,
              "ticks": ""
             }
            },
            "type": "scattergeo"
           }
          ],
          "scattergl": [
           {
            "marker": {
             "colorbar": {
              "outlinewidth": 0,
              "ticks": ""
             }
            },
            "type": "scattergl"
           }
          ],
          "scattermap": [
           {
            "marker": {
             "colorbar": {
              "outlinewidth": 0,
              "ticks": ""
             }
            },
            "type": "scattermap"
           }
          ],
          "scattermapbox": [
           {
            "marker": {
             "colorbar": {
              "outlinewidth": 0,
              "ticks": ""
             }
            },
            "type": "scattermapbox"
           }
          ],
          "scatterpolar": [
           {
            "marker": {
             "colorbar": {
              "outlinewidth": 0,
              "ticks": ""
             }
            },
            "type": "scatterpolar"
           }
          ],
          "scatterpolargl": [
           {
            "marker": {
             "colorbar": {
              "outlinewidth": 0,
              "ticks": ""
             }
            },
            "type": "scatterpolargl"
           }
          ],
          "scatterternary": [
           {
            "marker": {
             "colorbar": {
              "outlinewidth": 0,
              "ticks": ""
             }
            },
            "type": "scatterternary"
           }
          ],
          "surface": [
           {
            "colorbar": {
             "outlinewidth": 0,
             "ticks": ""
            },
            "colorscale": [
             [
              0,
              "#0d0887"
             ],
             [
              0.1111111111111111,
              "#46039f"
             ],
             [
              0.2222222222222222,
              "#7201a8"
             ],
             [
              0.3333333333333333,
              "#9c179e"
             ],
             [
              0.4444444444444444,
              "#bd3786"
             ],
             [
              0.5555555555555556,
              "#d8576b"
             ],
             [
              0.6666666666666666,
              "#ed7953"
             ],
             [
              0.7777777777777778,
              "#fb9f3a"
             ],
             [
              0.8888888888888888,
              "#fdca26"
             ],
             [
              1,
              "#f0f921"
             ]
            ],
            "type": "surface"
           }
          ],
          "table": [
           {
            "cells": {
             "fill": {
              "color": "#EBF0F8"
             },
             "line": {
              "color": "white"
             }
            },
            "header": {
             "fill": {
              "color": "#C8D4E3"
             },
             "line": {
              "color": "white"
             }
            },
            "type": "table"
           }
          ]
         },
         "layout": {
          "annotationdefaults": {
           "arrowcolor": "#2a3f5f",
           "arrowhead": 0,
           "arrowwidth": 1
          },
          "autotypenumbers": "strict",
          "coloraxis": {
           "colorbar": {
            "outlinewidth": 0,
            "ticks": ""
           }
          },
          "colorscale": {
           "diverging": [
            [
             0,
             "#8e0152"
            ],
            [
             0.1,
             "#c51b7d"
            ],
            [
             0.2,
             "#de77ae"
            ],
            [
             0.3,
             "#f1b6da"
            ],
            [
             0.4,
             "#fde0ef"
            ],
            [
             0.5,
             "#f7f7f7"
            ],
            [
             0.6,
             "#e6f5d0"
            ],
            [
             0.7,
             "#b8e186"
            ],
            [
             0.8,
             "#7fbc41"
            ],
            [
             0.9,
             "#4d9221"
            ],
            [
             1,
             "#276419"
            ]
           ],
           "sequential": [
            [
             0,
             "#0d0887"
            ],
            [
             0.1111111111111111,
             "#46039f"
            ],
            [
             0.2222222222222222,
             "#7201a8"
            ],
            [
             0.3333333333333333,
             "#9c179e"
            ],
            [
             0.4444444444444444,
             "#bd3786"
            ],
            [
             0.5555555555555556,
             "#d8576b"
            ],
            [
             0.6666666666666666,
             "#ed7953"
            ],
            [
             0.7777777777777778,
             "#fb9f3a"
            ],
            [
             0.8888888888888888,
             "#fdca26"
            ],
            [
             1,
             "#f0f921"
            ]
           ],
           "sequentialminus": [
            [
             0,
             "#0d0887"
            ],
            [
             0.1111111111111111,
             "#46039f"
            ],
            [
             0.2222222222222222,
             "#7201a8"
            ],
            [
             0.3333333333333333,
             "#9c179e"
            ],
            [
             0.4444444444444444,
             "#bd3786"
            ],
            [
             0.5555555555555556,
             "#d8576b"
            ],
            [
             0.6666666666666666,
             "#ed7953"
            ],
            [
             0.7777777777777778,
             "#fb9f3a"
            ],
            [
             0.8888888888888888,
             "#fdca26"
            ],
            [
             1,
             "#f0f921"
            ]
           ]
          },
          "colorway": [
           "#636efa",
           "#EF553B",
           "#00cc96",
           "#ab63fa",
           "#FFA15A",
           "#19d3f3",
           "#FF6692",
           "#B6E880",
           "#FF97FF",
           "#FECB52"
          ],
          "font": {
           "color": "#2a3f5f"
          },
          "geo": {
           "bgcolor": "white",
           "lakecolor": "white",
           "landcolor": "#E5ECF6",
           "showlakes": true,
           "showland": true,
           "subunitcolor": "white"
          },
          "hoverlabel": {
           "align": "left"
          },
          "hovermode": "closest",
          "mapbox": {
           "style": "light"
          },
          "paper_bgcolor": "white",
          "plot_bgcolor": "#E5ECF6",
          "polar": {
           "angularaxis": {
            "gridcolor": "white",
            "linecolor": "white",
            "ticks": ""
           },
           "bgcolor": "#E5ECF6",
           "radialaxis": {
            "gridcolor": "white",
            "linecolor": "white",
            "ticks": ""
           }
          },
          "scene": {
           "xaxis": {
            "backgroundcolor": "#E5ECF6",
            "gridcolor": "white",
            "gridwidth": 2,
            "linecolor": "white",
            "showbackground": true,
            "ticks": "",
            "zerolinecolor": "white"
           },
           "yaxis": {
            "backgroundcolor": "#E5ECF6",
            "gridcolor": "white",
            "gridwidth": 2,
            "linecolor": "white",
            "showbackground": true,
            "ticks": "",
            "zerolinecolor": "white"
           },
           "zaxis": {
            "backgroundcolor": "#E5ECF6",
            "gridcolor": "white",
            "gridwidth": 2,
            "linecolor": "white",
            "showbackground": true,
            "ticks": "",
            "zerolinecolor": "white"
           }
          },
          "shapedefaults": {
           "line": {
            "color": "#2a3f5f"
           }
          },
          "ternary": {
           "aaxis": {
            "gridcolor": "white",
            "linecolor": "white",
            "ticks": ""
           },
           "baxis": {
            "gridcolor": "white",
            "linecolor": "white",
            "ticks": ""
           },
           "bgcolor": "#E5ECF6",
           "caxis": {
            "gridcolor": "white",
            "linecolor": "white",
            "ticks": ""
           }
          },
          "title": {
           "x": 0.05
          },
          "xaxis": {
           "automargin": true,
           "gridcolor": "white",
           "linecolor": "white",
           "ticks": "",
           "title": {
            "standoff": 15
           },
           "zerolinecolor": "white",
           "zerolinewidth": 2
          },
          "yaxis": {
           "automargin": true,
           "gridcolor": "white",
           "linecolor": "white",
           "ticks": "",
           "title": {
            "standoff": 15
           },
           "zerolinecolor": "white",
           "zerolinewidth": 2
          }
         }
        },
        "title": {
         "text": "Alterspyramide der Studierenden (2024)"
        },
        "xaxis": {
         "anchor": "y",
         "domain": [
          0,
          1
         ],
         "tickmode": "array",
         "ticktext": [
          "20%",
          "10%",
          "0%",
          "10%",
          "20%"
         ],
         "tickvals": [
          -20,
          -10,
          0,
          10,
          20
         ],
         "title": {
          "text": "Anteil der Studierenden (%)"
         }
        },
        "yaxis": {
         "anchor": "x",
         "domain": [
          0,
          1
         ],
         "title": {
          "text": "Altersgruppe"
         }
        }
       }
      }
     },
     "metadata": {},
     "output_type": "display_data"
    }
   ],
   "source": [
    "fig = px.bar(\n",
    "    df_pyramide_latest, \n",
    "    x=\"Anteil (%)\", \n",
    "    y=\"Altersgruppe\", \n",
    "    color=\"Studiengang\", \n",
    "    orientation=\"h\",  # Horizontal\n",
    "    title=f\"Alterspyramide der Studierenden ({jahrgang})\",\n",
    "    color_discrete_map={\"Bachelor\": \"#1f77b4\", \"Master\": \"#ff7f0e\"},  # Blautöne für Bachelor, Orange für Master\n",
    ")\n",
    "\n",
    "# Layout-Anpassungen\n",
    "fig.update_layout(\n",
    "    #template=\"infoviz\",\n",
    "    xaxis_title=\"Anteil der Studierenden (%)\",\n",
    "    yaxis_title=\"Altersgruppe\",\n",
    "    xaxis=dict(\n",
    "        tickmode=\"array\",\n",
    "        tickvals=[-20, -10, 0, 10, 20],  # Achse zentrieren\n",
    "        ticktext=[\"20%\", \"10%\", \"0%\", \"10%\", \"20%\"]\n",
    "    ),\n",
    "    legend_title=\"Studiengang\"\n",
    ")\n",
    "\n",
    "fig.show()"
   ]
  },
  {
   "cell_type": "code",
   "execution_count": 57,
   "metadata": {},
   "outputs": [
    {
     "data": {
      "application/vnd.plotly.v1+json": {
       "config": {
        "plotlyServerURL": "https://plot.ly"
       },
       "data": [
        {
         "marker": {
          "color": "#1f77b4"
         },
         "name": "Bachelor",
         "orientation": "h",
         "type": "bar",
         "x": {
          "bdata": "AAAAAAAAAIDg5RS8nAI4wPrQWB8aS0XAY31orA+NNMA01ofG+tASwC6n4OUUvBDA5RS8nIKX+7/Cyyl4OQUFwA==",
          "dtype": "f8"
         },
         "xaxis": "x",
         "y": [
          "unter 18 Jahre (%)",
          "18 bis 20 Jahre (%)",
          "21 bis 23 Jahre (%)",
          "24 bis 26 Jahre (%)",
          "27 bis 29 Jahre (%)",
          "30 bis 32 Jahre (%)",
          "33 bis 35 Jahre (%)",
          "älter als 35 Jahre (%)"
         ],
         "yaxis": "y"
        },
        {
         "marker": {
          "color": "#ff7f0e"
         },
         "name": "Master",
         "orientation": "h",
         "type": "bar",
         "x": {
          "bdata": "AAAAAAAAAAAAAAAAAAAAAK9P16fr0zFAk7/J3+TvQ0BIc6Q50hw5QMu4ZdwybhVAn9XOame1C0BYFCwKFgUbQA==",
          "dtype": "f8"
         },
         "xaxis": "x",
         "y": [
          "unter 18 Jahre (%)",
          "18 bis 20 Jahre (%)",
          "21 bis 23 Jahre (%)",
          "24 bis 26 Jahre (%)",
          "27 bis 29 Jahre (%)",
          "30 bis 32 Jahre (%)",
          "33 bis 35 Jahre (%)",
          "älter als 35 Jahre (%)"
         ],
         "yaxis": "y"
        },
        {
         "marker": {
          "color": "#1f77b4"
         },
         "orientation": "h",
         "type": "bar",
         "x": {
          "bdata": "AAAAAAAAAIBwAidwAqc1wHzFV3zF10jAr/iKr/iKMsCcwAmcwAkQwIM6qIM6qAPAkiRJkiRJ4r9g8RVf8RUPwA==",
          "dtype": "f8"
         },
         "xaxis": "x2",
         "y": [
          "unter 18 Jahre (%)",
          "18 bis 20 Jahre (%)",
          "21 bis 23 Jahre (%)",
          "24 bis 26 Jahre (%)",
          "27 bis 29 Jahre (%)",
          "30 bis 32 Jahre (%)",
          "33 bis 35 Jahre (%)",
          "älter als 35 Jahre (%)"
         ],
         "yaxis": "y2"
        },
        {
         "marker": {
          "color": "#ff7f0e"
         },
         "orientation": "h",
         "type": "bar",
         "x": {
          "bdata": "AAAAAAAAAAAAAAAAAAAAAM/zPM/z3DFAe57neZ7XR0C3bdu2bbs0QIdhGIZhmBdAuG3btm3bGUD0PM/zPM/zPw==",
          "dtype": "f8"
         },
         "xaxis": "x2",
         "y": [
          "unter 18 Jahre (%)",
          "18 bis 20 Jahre (%)",
          "21 bis 23 Jahre (%)",
          "24 bis 26 Jahre (%)",
          "27 bis 29 Jahre (%)",
          "30 bis 32 Jahre (%)",
          "33 bis 35 Jahre (%)",
          "älter als 35 Jahre (%)"
         ],
         "yaxis": "y2"
        },
        {
         "marker": {
          "color": "#1f77b4"
         },
         "orientation": "h",
         "type": "bar",
         "x": {
          "bdata": "CdP94idp/79+kvYsAp1IwMeubyarlEDAplpj1zeTIcA9LKN/UDEMwEdePurdjuu/0j+oGJ7m8r+N/kHF8DT3vw==",
          "dtype": "f8"
         },
         "xaxis": "x3",
         "y": [
          "unter 18 Jahre (%)",
          "18 bis 20 Jahre (%)",
          "21 bis 23 Jahre (%)",
          "24 bis 26 Jahre (%)",
          "27 bis 29 Jahre (%)",
          "30 bis 32 Jahre (%)",
          "33 bis 35 Jahre (%)",
          "älter als 35 Jahre (%)"
         ],
         "yaxis": "y3"
        },
        {
         "marker": {
          "color": "#ff7f0e"
         },
         "orientation": "h",
         "type": "bar",
         "x": {
          "bdata": "AAAAAAAAAACYnoXpWZjuP6hdidqVqEZAOxWrU7E6P0BC/A7E70AsQJ2K1alYnQJAJG9D8jYkB0DUrkTtStQGQA==",
          "dtype": "f8"
         },
         "xaxis": "x3",
         "y": [
          "unter 18 Jahre (%)",
          "18 bis 20 Jahre (%)",
          "21 bis 23 Jahre (%)",
          "24 bis 26 Jahre (%)",
          "27 bis 29 Jahre (%)",
          "30 bis 32 Jahre (%)",
          "33 bis 35 Jahre (%)",
          "älter als 35 Jahre (%)"
         ],
         "yaxis": "y3"
        },
        {
         "marker": {
          "color": "#1f77b4"
         },
         "orientation": "h",
         "type": "bar",
         "x": {
          "bdata": "AAAAAAAAAIAhtmnFvRNDwKwxkR6oXETA5GUwCjg0KMAcms/1x8sUwHeSpY4Q2wTAooBD87n+6L9KljpCbNPqvw==",
          "dtype": "f8"
         },
         "xaxis": "x4",
         "y": [
          "unter 18 Jahre (%)",
          "18 bis 20 Jahre (%)",
          "21 bis 23 Jahre (%)",
          "24 bis 26 Jahre (%)",
          "27 bis 29 Jahre (%)",
          "30 bis 32 Jahre (%)",
          "33 bis 35 Jahre (%)",
          "älter als 35 Jahre (%)"
         ],
         "yaxis": "y4"
        },
        {
         "marker": {
          "color": "#ff7f0e"
         },
         "orientation": "h",
         "type": "bar",
         "x": {
          "bdata": "AAAAAAAAAABbFOOU2/3dP4EHl72hJzVATsgLWwU1Q0Bhus6xRiI1QD+LYpxyuyVAQ0+qr2R+DkDJC1sFtRkIQA==",
          "dtype": "f8"
         },
         "xaxis": "x4",
         "y": [
          "unter 18 Jahre (%)",
          "18 bis 20 Jahre (%)",
          "21 bis 23 Jahre (%)",
          "24 bis 26 Jahre (%)",
          "27 bis 29 Jahre (%)",
          "30 bis 32 Jahre (%)",
          "33 bis 35 Jahre (%)",
          "älter als 35 Jahre (%)"
         ],
         "yaxis": "y4"
        },
        {
         "marker": {
          "color": "#1f77b4"
         },
         "orientation": "h",
         "type": "bar",
         "x": {
          "bdata": "AAAAAAAAAICqtFP4JOVAwLRx8w3UMEfA85xRpZ3CLcDMAsQJLiIJwIGpQ9Fs3Oy/l8mRQX7l6b8LECe4iITuvw==",
          "dtype": "f8"
         },
         "xaxis": "x5",
         "y": [
          "unter 18 Jahre (%)",
          "18 bis 20 Jahre (%)",
          "21 bis 23 Jahre (%)",
          "24 bis 26 Jahre (%)",
          "27 bis 29 Jahre (%)",
          "30 bis 32 Jahre (%)",
          "33 bis 35 Jahre (%)",
          "älter als 35 Jahre (%)"
         ],
         "yaxis": "y5"
        },
        {
         "marker": {
          "color": "#ff7f0e"
         },
         "orientation": "h",
         "type": "bar",
         "x": {
          "bdata": "AAAAAAAAAAAAAAAAAAAAAK7sc0hNsDJAoENqgvGWR0Bb2eeQmmAxQJZ9DqkJxiBAFIy3ss8hA0Cu7HNITTAOQA==",
          "dtype": "f8"
         },
         "xaxis": "x5",
         "y": [
          "unter 18 Jahre (%)",
          "18 bis 20 Jahre (%)",
          "21 bis 23 Jahre (%)",
          "24 bis 26 Jahre (%)",
          "27 bis 29 Jahre (%)",
          "30 bis 32 Jahre (%)",
          "33 bis 35 Jahre (%)",
          "älter als 35 Jahre (%)"
         ],
         "yaxis": "y5"
        },
        {
         "marker": {
          "color": "#1f77b4"
         },
         "orientation": "h",
         "type": "bar",
         "x": {
          "bdata": "AAAAAAAAAIDTm970pvdBwEkrkycg+kbAEW6p2bC/KcCGLGQhC1kMwB2Yawfm2vm/AAAAAAAAAIAFROere6TFvw==",
          "dtype": "f8"
         },
         "xaxis": "x6",
         "y": [
          "unter 18 Jahre (%)",
          "18 bis 20 Jahre (%)",
          "21 bis 23 Jahre (%)",
          "24 bis 26 Jahre (%)",
          "27 bis 29 Jahre (%)",
          "30 bis 32 Jahre (%)",
          "33 bis 35 Jahre (%)",
          "älter als 35 Jahre (%)"
         ],
         "yaxis": "y6"
        },
        {
         "marker": {
          "color": "#ff7f0e"
         },
         "orientation": "h",
         "type": "bar",
         "x": {
          "bdata": "AAAAAAAAAAAAAAAAAAAAAN0FfxUnpDNAixNS8ixjSUCj5FlG9IE0QGDFCSl5lhdAJ6TkWUb08T/Vsbc2THPnPw==",
          "dtype": "f8"
         },
         "xaxis": "x6",
         "y": [
          "unter 18 Jahre (%)",
          "18 bis 20 Jahre (%)",
          "21 bis 23 Jahre (%)",
          "24 bis 26 Jahre (%)",
          "27 bis 29 Jahre (%)",
          "30 bis 32 Jahre (%)",
          "33 bis 35 Jahre (%)",
          "älter als 35 Jahre (%)"
         ],
         "yaxis": "y6"
        },
        {
         "marker": {
          "color": "#1f77b4"
         },
         "orientation": "h",
         "type": "bar",
         "x": {
          "bdata": "Z3UYZSqeA8A4Qbgb+x5KwOnlT1toQEHAkMgJwt3YG8CHBizp5U/7v22hAUt6+fO/AAAAAAAAAIBtoQFLevnjvw==",
          "dtype": "f8"
         },
         "xaxis": "x7",
         "y": [
          "unter 18 Jahre (%)",
          "18 bis 20 Jahre (%)",
          "21 bis 23 Jahre (%)",
          "24 bis 26 Jahre (%)",
          "27 bis 29 Jahre (%)",
          "30 bis 32 Jahre (%)",
          "33 bis 35 Jahre (%)",
          "älter als 35 Jahre (%)"
         ],
         "yaxis": "y7"
        },
        {
         "marker": {
          "color": "#ff7f0e"
         },
         "orientation": "h",
         "type": "bar",
         "x": {
          "bdata": "AAAAAAAAAAAAAAAAAAAAAPo9t8SpX0FAlNdQXkN5O0Dr99wSp34lQK+hvIbyGgpAeQ3lNZTX8D8AAAAAAAAAAA==",
          "dtype": "f8"
         },
         "xaxis": "x7",
         "y": [
          "unter 18 Jahre (%)",
          "18 bis 20 Jahre (%)",
          "21 bis 23 Jahre (%)",
          "24 bis 26 Jahre (%)",
          "27 bis 29 Jahre (%)",
          "30 bis 32 Jahre (%)",
          "33 bis 35 Jahre (%)",
          "älter als 35 Jahre (%)"
         ],
         "yaxis": "y7"
        },
        {
         "marker": {
          "color": "#1f77b4"
         },
         "orientation": "h",
         "type": "bar",
         "x": {
          "bdata": "/oK75iVH1b9q3TOy9JA+wAR5SpCnBEnA0cZV/4A+LMD9hDgrPyEGwCTK0MZV//C/Ni85qgB/8b8uOydFmJvGvw==",
          "dtype": "f8"
         },
         "xaxis": "x8",
         "y": [
          "unter 18 Jahre (%)",
          "18 bis 20 Jahre (%)",
          "21 bis 23 Jahre (%)",
          "24 bis 26 Jahre (%)",
          "27 bis 29 Jahre (%)",
          "30 bis 32 Jahre (%)",
          "33 bis 35 Jahre (%)",
          "älter als 35 Jahre (%)"
         ],
         "yaxis": "y8"
        },
        {
         "marker": {
          "color": "#ff7f0e"
         },
         "orientation": "h",
         "type": "bar",
         "x": {
          "bdata": "AAAAAAAAAAAAAAAAAAAAACd2Yid2YjBAxk7sxE48SkDETuzETrw0QAAAAAAAQBlAKHZiJ3ZiAkBkJ3ZiJ3b/Pw==",
          "dtype": "f8"
         },
         "xaxis": "x8",
         "y": [
          "unter 18 Jahre (%)",
          "18 bis 20 Jahre (%)",
          "21 bis 23 Jahre (%)",
          "24 bis 26 Jahre (%)",
          "27 bis 29 Jahre (%)",
          "30 bis 32 Jahre (%)",
          "33 bis 35 Jahre (%)",
          "älter als 35 Jahre (%)"
         ],
         "yaxis": "y8"
        },
        {
         "marker": {
          "color": "#1f77b4"
         },
         "orientation": "h",
         "type": "bar",
         "x": {
          "bdata": "t4HX7pSr/r9hRzg2zWFGwLt2p1x14UHAiTWq6FnpJMDEPU6W8SAQwPYVYCQ/lPi/BjvCsWkO778zHgTS1svbvw==",
          "dtype": "f8"
         },
         "xaxis": "x9",
         "y": [
          "unter 18 Jahre (%)",
          "18 bis 20 Jahre (%)",
          "21 bis 23 Jahre (%)",
          "24 bis 26 Jahre (%)",
          "27 bis 29 Jahre (%)",
          "30 bis 32 Jahre (%)",
          "33 bis 35 Jahre (%)",
          "älter als 35 Jahre (%)"
         ],
         "yaxis": "y9"
        },
        {
         "marker": {
          "color": "#ff7f0e"
         },
         "orientation": "h",
         "type": "bar",
         "x": {
          "bdata": "AAAAAAAAAABIgzRIgzT8P5hv+ZZvuTxAG6RBGqQhRUD0Ld/yLd8xQMu3fMu3fBxABmmQBmmQ/j8AAAAAAAAAAA==",
          "dtype": "f8"
         },
         "xaxis": "x9",
         "y": [
          "unter 18 Jahre (%)",
          "18 bis 20 Jahre (%)",
          "21 bis 23 Jahre (%)",
          "24 bis 26 Jahre (%)",
          "27 bis 29 Jahre (%)",
          "30 bis 32 Jahre (%)",
          "33 bis 35 Jahre (%)",
          "älter als 35 Jahre (%)"
         ],
         "yaxis": "y9"
        },
        {
         "marker": {
          "color": "#1f77b4"
         },
         "orientation": "h",
         "type": "bar",
         "x": {
          "bdata": "AAAAAAAAAIADe8fUwB48wKSLLrroQkjAfcfUwN4xLsCkiy666KINwPkJcVZ+QgTAPyHOyk+I47900UUXXXT1vw==",
          "dtype": "f8"
         },
         "xaxis": "x10",
         "y": [
          "unter 18 Jahre (%)",
          "18 bis 20 Jahre (%)",
          "21 bis 23 Jahre (%)",
          "24 bis 26 Jahre (%)",
          "27 bis 29 Jahre (%)",
          "30 bis 32 Jahre (%)",
          "33 bis 35 Jahre (%)",
          "älter als 35 Jahre (%)"
         ],
         "yaxis": "y10"
        },
        {
         "marker": {
          "color": "#ff7f0e"
         },
         "orientation": "h",
         "type": "bar",
         "x": {
          "bdata": "AAAAAAAAAAAAAAAAAAAAAOh+7ud+7jFAZUqmZEqmT0DxCq/wCq8sQFy+5Vu+5QtAAAAAAAAAAAAM0iAN0iD9Pw==",
          "dtype": "f8"
         },
         "xaxis": "x10",
         "y": [
          "unter 18 Jahre (%)",
          "18 bis 20 Jahre (%)",
          "21 bis 23 Jahre (%)",
          "24 bis 26 Jahre (%)",
          "27 bis 29 Jahre (%)",
          "30 bis 32 Jahre (%)",
          "33 bis 35 Jahre (%)",
          "älter als 35 Jahre (%)"
         ],
         "yaxis": "y10"
        },
        {
         "marker": {
          "color": "#1f77b4"
         },
         "orientation": "h",
         "type": "bar",
         "x": {
          "bdata": "AAAAAAAAAIAODJdz1dsCwK0smej4+UTAEIG6Ec/8Q8AnYd/9itwjwPYEEagb8QTAMtHx82iMAsDUZhcHhsvpvw==",
          "dtype": "f8"
         },
         "xaxis": "x11",
         "y": [
          "unter 18 Jahre (%)",
          "18 bis 20 Jahre (%)",
          "21 bis 23 Jahre (%)",
          "24 bis 26 Jahre (%)",
          "27 bis 29 Jahre (%)",
          "30 bis 32 Jahre (%)",
          "33 bis 35 Jahre (%)",
          "älter als 35 Jahre (%)"
         ],
         "yaxis": "y11"
        },
        {
         "marker": {
          "color": "#ff7f0e"
         },
         "orientation": "h",
         "type": "bar",
         "x": {
          "bdata": "AAAAAAAAAAAAAAAAAAAAABQUFBQUFBRAFRQUFBT0QkAVFBQUFFRFQGppaWlpaSRAJCMjIyMjD0AAAAAAAAAAAA==",
          "dtype": "f8"
         },
         "xaxis": "x11",
         "y": [
          "unter 18 Jahre (%)",
          "18 bis 20 Jahre (%)",
          "21 bis 23 Jahre (%)",
          "24 bis 26 Jahre (%)",
          "27 bis 29 Jahre (%)",
          "30 bis 32 Jahre (%)",
          "33 bis 35 Jahre (%)",
          "älter als 35 Jahre (%)"
         ],
         "yaxis": "y11"
        },
        {
         "marker": {
          "color": "#1f77b4"
         },
         "orientation": "h",
         "type": "bar",
         "x": {
          "bdata": "AAAAAAAAAIBrypqypqw1wLOmrClrqkvA6Av6gr7gLcAGfUFf0BcMwKesKWvKmgLAjrgj7og74r8qa8qasqbwvw==",
          "dtype": "f8"
         },
         "xaxis": "x12",
         "y": [
          "unter 18 Jahre (%)",
          "18 bis 20 Jahre (%)",
          "21 bis 23 Jahre (%)",
          "24 bis 26 Jahre (%)",
          "27 bis 29 Jahre (%)",
          "30 bis 32 Jahre (%)",
          "33 bis 35 Jahre (%)",
          "älter als 35 Jahre (%)"
         ],
         "yaxis": "y12"
        },
        {
         "marker": {
          "color": "#ff7f0e"
         },
         "orientation": "h",
         "type": "bar",
         "x": {
          "bdata": "AAAAAAAAAAAAAAAAAAAAADUuR+NyNDRAEroXoXuRTEClbE3K1qQqQKF7EboXoSFAmp6F6VmY3j+YnoXpWZjePw==",
          "dtype": "f8"
         },
         "xaxis": "x12",
         "y": [
          "unter 18 Jahre (%)",
          "18 bis 20 Jahre (%)",
          "21 bis 23 Jahre (%)",
          "24 bis 26 Jahre (%)",
          "27 bis 29 Jahre (%)",
          "30 bis 32 Jahre (%)",
          "33 bis 35 Jahre (%)",
          "älter als 35 Jahre (%)"
         ],
         "yaxis": "y12"
        }
       ],
       "layout": {
        "annotations": [
         {
          "font": {
           "size": 16
          },
          "showarrow": false,
          "text": "Alterspyramide 2024",
          "x": 0.5,
          "xanchor": "center",
          "xref": "paper",
          "y": 1,
          "yanchor": "bottom",
          "yref": "paper"
         },
         {
          "font": {
           "size": 16
          },
          "showarrow": false,
          "text": "Alterspyramide 2023",
          "x": 0.5,
          "xanchor": "center",
          "xref": "paper",
          "y": 0.9131944444444444,
          "yanchor": "bottom",
          "yref": "paper"
         },
         {
          "font": {
           "size": 16
          },
          "showarrow": false,
          "text": "Alterspyramide 2022",
          "x": 0.5,
          "xanchor": "center",
          "xref": "paper",
          "y": 0.8263888888888888,
          "yanchor": "bottom",
          "yref": "paper"
         },
         {
          "font": {
           "size": 16
          },
          "showarrow": false,
          "text": "Alterspyramide 2021",
          "x": 0.5,
          "xanchor": "center",
          "xref": "paper",
          "y": 0.7395833333333333,
          "yanchor": "bottom",
          "yref": "paper"
         },
         {
          "font": {
           "size": 16
          },
          "showarrow": false,
          "text": "Alterspyramide 2020",
          "x": 0.5,
          "xanchor": "center",
          "xref": "paper",
          "y": 0.6527777777777777,
          "yanchor": "bottom",
          "yref": "paper"
         },
         {
          "font": {
           "size": 16
          },
          "showarrow": false,
          "text": "Alterspyramide 2019",
          "x": 0.5,
          "xanchor": "center",
          "xref": "paper",
          "y": 0.5659722222222223,
          "yanchor": "bottom",
          "yref": "paper"
         },
         {
          "font": {
           "size": 16
          },
          "showarrow": false,
          "text": "Alterspyramide 2018",
          "x": 0.5,
          "xanchor": "center",
          "xref": "paper",
          "y": 0.4791666666666667,
          "yanchor": "bottom",
          "yref": "paper"
         },
         {
          "font": {
           "size": 16
          },
          "showarrow": false,
          "text": "Alterspyramide 2017",
          "x": 0.5,
          "xanchor": "center",
          "xref": "paper",
          "y": 0.3923611111111111,
          "yanchor": "bottom",
          "yref": "paper"
         },
         {
          "font": {
           "size": 16
          },
          "showarrow": false,
          "text": "Alterspyramide 2016",
          "x": 0.5,
          "xanchor": "center",
          "xref": "paper",
          "y": 0.3055555555555556,
          "yanchor": "bottom",
          "yref": "paper"
         },
         {
          "font": {
           "size": 16
          },
          "showarrow": false,
          "text": "Alterspyramide 2015",
          "x": 0.5,
          "xanchor": "center",
          "xref": "paper",
          "y": 0.21875,
          "yanchor": "bottom",
          "yref": "paper"
         },
         {
          "font": {
           "size": 16
          },
          "showarrow": false,
          "text": "Alterspyramide 2014",
          "x": 0.5,
          "xanchor": "center",
          "xref": "paper",
          "y": 0.13194444444444445,
          "yanchor": "bottom",
          "yref": "paper"
         },
         {
          "font": {
           "size": 16
          },
          "showarrow": false,
          "text": "Alterspyramide 2013",
          "x": 0.5,
          "xanchor": "center",
          "xref": "paper",
          "y": 0.045138888888888895,
          "yanchor": "bottom",
          "yref": "paper"
         }
        ],
        "height": 3600,
        "showlegend": true,
        "template": {
         "data": {
          "bar": [
           {
            "error_x": {
             "color": "#2a3f5f"
            },
            "error_y": {
             "color": "#2a3f5f"
            },
            "marker": {
             "line": {
              "color": "#E5ECF6",
              "width": 0.5
             },
             "pattern": {
              "fillmode": "overlay",
              "size": 10,
              "solidity": 0.2
             }
            },
            "type": "bar"
           }
          ],
          "barpolar": [
           {
            "marker": {
             "line": {
              "color": "#E5ECF6",
              "width": 0.5
             },
             "pattern": {
              "fillmode": "overlay",
              "size": 10,
              "solidity": 0.2
             }
            },
            "type": "barpolar"
           }
          ],
          "carpet": [
           {
            "aaxis": {
             "endlinecolor": "#2a3f5f",
             "gridcolor": "white",
             "linecolor": "white",
             "minorgridcolor": "white",
             "startlinecolor": "#2a3f5f"
            },
            "baxis": {
             "endlinecolor": "#2a3f5f",
             "gridcolor": "white",
             "linecolor": "white",
             "minorgridcolor": "white",
             "startlinecolor": "#2a3f5f"
            },
            "type": "carpet"
           }
          ],
          "choropleth": [
           {
            "colorbar": {
             "outlinewidth": 0,
             "ticks": ""
            },
            "type": "choropleth"
           }
          ],
          "contour": [
           {
            "colorbar": {
             "outlinewidth": 0,
             "ticks": ""
            },
            "colorscale": [
             [
              0,
              "#0d0887"
             ],
             [
              0.1111111111111111,
              "#46039f"
             ],
             [
              0.2222222222222222,
              "#7201a8"
             ],
             [
              0.3333333333333333,
              "#9c179e"
             ],
             [
              0.4444444444444444,
              "#bd3786"
             ],
             [
              0.5555555555555556,
              "#d8576b"
             ],
             [
              0.6666666666666666,
              "#ed7953"
             ],
             [
              0.7777777777777778,
              "#fb9f3a"
             ],
             [
              0.8888888888888888,
              "#fdca26"
             ],
             [
              1,
              "#f0f921"
             ]
            ],
            "type": "contour"
           }
          ],
          "contourcarpet": [
           {
            "colorbar": {
             "outlinewidth": 0,
             "ticks": ""
            },
            "type": "contourcarpet"
           }
          ],
          "heatmap": [
           {
            "colorbar": {
             "outlinewidth": 0,
             "ticks": ""
            },
            "colorscale": [
             [
              0,
              "#0d0887"
             ],
             [
              0.1111111111111111,
              "#46039f"
             ],
             [
              0.2222222222222222,
              "#7201a8"
             ],
             [
              0.3333333333333333,
              "#9c179e"
             ],
             [
              0.4444444444444444,
              "#bd3786"
             ],
             [
              0.5555555555555556,
              "#d8576b"
             ],
             [
              0.6666666666666666,
              "#ed7953"
             ],
             [
              0.7777777777777778,
              "#fb9f3a"
             ],
             [
              0.8888888888888888,
              "#fdca26"
             ],
             [
              1,
              "#f0f921"
             ]
            ],
            "type": "heatmap"
           }
          ],
          "histogram": [
           {
            "marker": {
             "pattern": {
              "fillmode": "overlay",
              "size": 10,
              "solidity": 0.2
             }
            },
            "type": "histogram"
           }
          ],
          "histogram2d": [
           {
            "colorbar": {
             "outlinewidth": 0,
             "ticks": ""
            },
            "colorscale": [
             [
              0,
              "#0d0887"
             ],
             [
              0.1111111111111111,
              "#46039f"
             ],
             [
              0.2222222222222222,
              "#7201a8"
             ],
             [
              0.3333333333333333,
              "#9c179e"
             ],
             [
              0.4444444444444444,
              "#bd3786"
             ],
             [
              0.5555555555555556,
              "#d8576b"
             ],
             [
              0.6666666666666666,
              "#ed7953"
             ],
             [
              0.7777777777777778,
              "#fb9f3a"
             ],
             [
              0.8888888888888888,
              "#fdca26"
             ],
             [
              1,
              "#f0f921"
             ]
            ],
            "type": "histogram2d"
           }
          ],
          "histogram2dcontour": [
           {
            "colorbar": {
             "outlinewidth": 0,
             "ticks": ""
            },
            "colorscale": [
             [
              0,
              "#0d0887"
             ],
             [
              0.1111111111111111,
              "#46039f"
             ],
             [
              0.2222222222222222,
              "#7201a8"
             ],
             [
              0.3333333333333333,
              "#9c179e"
             ],
             [
              0.4444444444444444,
              "#bd3786"
             ],
             [
              0.5555555555555556,
              "#d8576b"
             ],
             [
              0.6666666666666666,
              "#ed7953"
             ],
             [
              0.7777777777777778,
              "#fb9f3a"
             ],
             [
              0.8888888888888888,
              "#fdca26"
             ],
             [
              1,
              "#f0f921"
             ]
            ],
            "type": "histogram2dcontour"
           }
          ],
          "mesh3d": [
           {
            "colorbar": {
             "outlinewidth": 0,
             "ticks": ""
            },
            "type": "mesh3d"
           }
          ],
          "parcoords": [
           {
            "line": {
             "colorbar": {
              "outlinewidth": 0,
              "ticks": ""
             }
            },
            "type": "parcoords"
           }
          ],
          "pie": [
           {
            "automargin": true,
            "type": "pie"
           }
          ],
          "scatter": [
           {
            "fillpattern": {
             "fillmode": "overlay",
             "size": 10,
             "solidity": 0.2
            },
            "type": "scatter"
           }
          ],
          "scatter3d": [
           {
            "line": {
             "colorbar": {
              "outlinewidth": 0,
              "ticks": ""
             }
            },
            "marker": {
             "colorbar": {
              "outlinewidth": 0,
              "ticks": ""
             }
            },
            "type": "scatter3d"
           }
          ],
          "scattercarpet": [
           {
            "marker": {
             "colorbar": {
              "outlinewidth": 0,
              "ticks": ""
             }
            },
            "type": "scattercarpet"
           }
          ],
          "scattergeo": [
           {
            "marker": {
             "colorbar": {
              "outlinewidth": 0,
              "ticks": ""
             }
            },
            "type": "scattergeo"
           }
          ],
          "scattergl": [
           {
            "marker": {
             "colorbar": {
              "outlinewidth": 0,
              "ticks": ""
             }
            },
            "type": "scattergl"
           }
          ],
          "scattermap": [
           {
            "marker": {
             "colorbar": {
              "outlinewidth": 0,
              "ticks": ""
             }
            },
            "type": "scattermap"
           }
          ],
          "scattermapbox": [
           {
            "marker": {
             "colorbar": {
              "outlinewidth": 0,
              "ticks": ""
             }
            },
            "type": "scattermapbox"
           }
          ],
          "scatterpolar": [
           {
            "marker": {
             "colorbar": {
              "outlinewidth": 0,
              "ticks": ""
             }
            },
            "type": "scatterpolar"
           }
          ],
          "scatterpolargl": [
           {
            "marker": {
             "colorbar": {
              "outlinewidth": 0,
              "ticks": ""
             }
            },
            "type": "scatterpolargl"
           }
          ],
          "scatterternary": [
           {
            "marker": {
             "colorbar": {
              "outlinewidth": 0,
              "ticks": ""
             }
            },
            "type": "scatterternary"
           }
          ],
          "surface": [
           {
            "colorbar": {
             "outlinewidth": 0,
             "ticks": ""
            },
            "colorscale": [
             [
              0,
              "#0d0887"
             ],
             [
              0.1111111111111111,
              "#46039f"
             ],
             [
              0.2222222222222222,
              "#7201a8"
             ],
             [
              0.3333333333333333,
              "#9c179e"
             ],
             [
              0.4444444444444444,
              "#bd3786"
             ],
             [
              0.5555555555555556,
              "#d8576b"
             ],
             [
              0.6666666666666666,
              "#ed7953"
             ],
             [
              0.7777777777777778,
              "#fb9f3a"
             ],
             [
              0.8888888888888888,
              "#fdca26"
             ],
             [
              1,
              "#f0f921"
             ]
            ],
            "type": "surface"
           }
          ],
          "table": [
           {
            "cells": {
             "fill": {
              "color": "#EBF0F8"
             },
             "line": {
              "color": "white"
             }
            },
            "header": {
             "fill": {
              "color": "#C8D4E3"
             },
             "line": {
              "color": "white"
             }
            },
            "type": "table"
           }
          ]
         },
         "layout": {
          "annotationdefaults": {
           "arrowcolor": "#2a3f5f",
           "arrowhead": 0,
           "arrowwidth": 1
          },
          "autotypenumbers": "strict",
          "coloraxis": {
           "colorbar": {
            "outlinewidth": 0,
            "ticks": ""
           }
          },
          "colorscale": {
           "diverging": [
            [
             0,
             "#8e0152"
            ],
            [
             0.1,
             "#c51b7d"
            ],
            [
             0.2,
             "#de77ae"
            ],
            [
             0.3,
             "#f1b6da"
            ],
            [
             0.4,
             "#fde0ef"
            ],
            [
             0.5,
             "#f7f7f7"
            ],
            [
             0.6,
             "#e6f5d0"
            ],
            [
             0.7,
             "#b8e186"
            ],
            [
             0.8,
             "#7fbc41"
            ],
            [
             0.9,
             "#4d9221"
            ],
            [
             1,
             "#276419"
            ]
           ],
           "sequential": [
            [
             0,
             "#0d0887"
            ],
            [
             0.1111111111111111,
             "#46039f"
            ],
            [
             0.2222222222222222,
             "#7201a8"
            ],
            [
             0.3333333333333333,
             "#9c179e"
            ],
            [
             0.4444444444444444,
             "#bd3786"
            ],
            [
             0.5555555555555556,
             "#d8576b"
            ],
            [
             0.6666666666666666,
             "#ed7953"
            ],
            [
             0.7777777777777778,
             "#fb9f3a"
            ],
            [
             0.8888888888888888,
             "#fdca26"
            ],
            [
             1,
             "#f0f921"
            ]
           ],
           "sequentialminus": [
            [
             0,
             "#0d0887"
            ],
            [
             0.1111111111111111,
             "#46039f"
            ],
            [
             0.2222222222222222,
             "#7201a8"
            ],
            [
             0.3333333333333333,
             "#9c179e"
            ],
            [
             0.4444444444444444,
             "#bd3786"
            ],
            [
             0.5555555555555556,
             "#d8576b"
            ],
            [
             0.6666666666666666,
             "#ed7953"
            ],
            [
             0.7777777777777778,
             "#fb9f3a"
            ],
            [
             0.8888888888888888,
             "#fdca26"
            ],
            [
             1,
             "#f0f921"
            ]
           ]
          },
          "colorway": [
           "#636efa",
           "#EF553B",
           "#00cc96",
           "#ab63fa",
           "#FFA15A",
           "#19d3f3",
           "#FF6692",
           "#B6E880",
           "#FF97FF",
           "#FECB52"
          ],
          "font": {
           "color": "#2a3f5f"
          },
          "geo": {
           "bgcolor": "white",
           "lakecolor": "white",
           "landcolor": "#E5ECF6",
           "showlakes": true,
           "showland": true,
           "subunitcolor": "white"
          },
          "hoverlabel": {
           "align": "left"
          },
          "hovermode": "closest",
          "mapbox": {
           "style": "light"
          },
          "paper_bgcolor": "white",
          "plot_bgcolor": "#E5ECF6",
          "polar": {
           "angularaxis": {
            "gridcolor": "white",
            "linecolor": "white",
            "ticks": ""
           },
           "bgcolor": "#E5ECF6",
           "radialaxis": {
            "gridcolor": "white",
            "linecolor": "white",
            "ticks": ""
           }
          },
          "scene": {
           "xaxis": {
            "backgroundcolor": "#E5ECF6",
            "gridcolor": "white",
            "gridwidth": 2,
            "linecolor": "white",
            "showbackground": true,
            "ticks": "",
            "zerolinecolor": "white"
           },
           "yaxis": {
            "backgroundcolor": "#E5ECF6",
            "gridcolor": "white",
            "gridwidth": 2,
            "linecolor": "white",
            "showbackground": true,
            "ticks": "",
            "zerolinecolor": "white"
           },
           "zaxis": {
            "backgroundcolor": "#E5ECF6",
            "gridcolor": "white",
            "gridwidth": 2,
            "linecolor": "white",
            "showbackground": true,
            "ticks": "",
            "zerolinecolor": "white"
           }
          },
          "shapedefaults": {
           "line": {
            "color": "#2a3f5f"
           }
          },
          "ternary": {
           "aaxis": {
            "gridcolor": "white",
            "linecolor": "white",
            "ticks": ""
           },
           "baxis": {
            "gridcolor": "white",
            "linecolor": "white",
            "ticks": ""
           },
           "bgcolor": "#E5ECF6",
           "caxis": {
            "gridcolor": "white",
            "linecolor": "white",
            "ticks": ""
           }
          },
          "title": {
           "x": 0.05
          },
          "xaxis": {
           "automargin": true,
           "gridcolor": "white",
           "linecolor": "white",
           "ticks": "",
           "title": {
            "standoff": 15
           },
           "zerolinecolor": "white",
           "zerolinewidth": 2
          },
          "yaxis": {
           "automargin": true,
           "gridcolor": "white",
           "linecolor": "white",
           "ticks": "",
           "title": {
            "standoff": 15
           },
           "zerolinecolor": "white",
           "zerolinewidth": 2
          }
         }
        },
        "title": {
         "text": "Alterspyramide der Studierenden über die Jahre"
        },
        "xaxis": {
         "anchor": "y",
         "domain": [
          0,
          1
         ],
         "matches": "x12",
         "showticklabels": false,
         "tickmode": "array",
         "ticktext": [
          "20%",
          "10%",
          "0%",
          "10%",
          "20%"
         ],
         "tickvals": [
          -20,
          -10,
          0,
          10,
          20
         ],
         "title": {
          "text": "Anteil der Studierenden (%)"
         }
        },
        "xaxis10": {
         "anchor": "y10",
         "domain": [
          0,
          1
         ],
         "matches": "x12",
         "showticklabels": false,
         "tickmode": "array",
         "ticktext": [
          "20%",
          "10%",
          "0%",
          "10%",
          "20%"
         ],
         "tickvals": [
          -20,
          -10,
          0,
          10,
          20
         ]
        },
        "xaxis11": {
         "anchor": "y11",
         "domain": [
          0,
          1
         ],
         "matches": "x12",
         "showticklabels": false,
         "tickmode": "array",
         "ticktext": [
          "20%",
          "10%",
          "0%",
          "10%",
          "20%"
         ],
         "tickvals": [
          -20,
          -10,
          0,
          10,
          20
         ]
        },
        "xaxis12": {
         "anchor": "y12",
         "domain": [
          0,
          1
         ],
         "tickmode": "array",
         "ticktext": [
          "20%",
          "10%",
          "0%",
          "10%",
          "20%"
         ],
         "tickvals": [
          -20,
          -10,
          0,
          10,
          20
         ]
        },
        "xaxis2": {
         "anchor": "y2",
         "domain": [
          0,
          1
         ],
         "matches": "x12",
         "showticklabels": false,
         "tickmode": "array",
         "ticktext": [
          "20%",
          "10%",
          "0%",
          "10%",
          "20%"
         ],
         "tickvals": [
          -20,
          -10,
          0,
          10,
          20
         ]
        },
        "xaxis3": {
         "anchor": "y3",
         "domain": [
          0,
          1
         ],
         "matches": "x12",
         "showticklabels": false,
         "tickmode": "array",
         "ticktext": [
          "20%",
          "10%",
          "0%",
          "10%",
          "20%"
         ],
         "tickvals": [
          -20,
          -10,
          0,
          10,
          20
         ]
        },
        "xaxis4": {
         "anchor": "y4",
         "domain": [
          0,
          1
         ],
         "matches": "x12",
         "showticklabels": false,
         "tickmode": "array",
         "ticktext": [
          "20%",
          "10%",
          "0%",
          "10%",
          "20%"
         ],
         "tickvals": [
          -20,
          -10,
          0,
          10,
          20
         ]
        },
        "xaxis5": {
         "anchor": "y5",
         "domain": [
          0,
          1
         ],
         "matches": "x12",
         "showticklabels": false,
         "tickmode": "array",
         "ticktext": [
          "20%",
          "10%",
          "0%",
          "10%",
          "20%"
         ],
         "tickvals": [
          -20,
          -10,
          0,
          10,
          20
         ]
        },
        "xaxis6": {
         "anchor": "y6",
         "domain": [
          0,
          1
         ],
         "matches": "x12",
         "showticklabels": false,
         "tickmode": "array",
         "ticktext": [
          "20%",
          "10%",
          "0%",
          "10%",
          "20%"
         ],
         "tickvals": [
          -20,
          -10,
          0,
          10,
          20
         ]
        },
        "xaxis7": {
         "anchor": "y7",
         "domain": [
          0,
          1
         ],
         "matches": "x12",
         "showticklabels": false,
         "tickmode": "array",
         "ticktext": [
          "20%",
          "10%",
          "0%",
          "10%",
          "20%"
         ],
         "tickvals": [
          -20,
          -10,
          0,
          10,
          20
         ]
        },
        "xaxis8": {
         "anchor": "y8",
         "domain": [
          0,
          1
         ],
         "matches": "x12",
         "showticklabels": false,
         "tickmode": "array",
         "ticktext": [
          "20%",
          "10%",
          "0%",
          "10%",
          "20%"
         ],
         "tickvals": [
          -20,
          -10,
          0,
          10,
          20
         ]
        },
        "xaxis9": {
         "anchor": "y9",
         "domain": [
          0,
          1
         ],
         "matches": "x12",
         "showticklabels": false,
         "tickmode": "array",
         "ticktext": [
          "20%",
          "10%",
          "0%",
          "10%",
          "20%"
         ],
         "tickvals": [
          -20,
          -10,
          0,
          10,
          20
         ]
        },
        "yaxis": {
         "anchor": "x",
         "domain": [
          0.9548611111111112,
          1
         ]
        },
        "yaxis10": {
         "anchor": "x10",
         "domain": [
          0.1736111111111111,
          0.21875
         ]
        },
        "yaxis11": {
         "anchor": "x11",
         "domain": [
          0.08680555555555555,
          0.13194444444444445
         ]
        },
        "yaxis12": {
         "anchor": "x12",
         "domain": [
          0,
          0.045138888888888895
         ]
        },
        "yaxis2": {
         "anchor": "x2",
         "domain": [
          0.8680555555555556,
          0.9131944444444444
         ]
        },
        "yaxis3": {
         "anchor": "x3",
         "domain": [
          0.78125,
          0.8263888888888888
         ]
        },
        "yaxis4": {
         "anchor": "x4",
         "domain": [
          0.6944444444444444,
          0.7395833333333333
         ]
        },
        "yaxis5": {
         "anchor": "x5",
         "domain": [
          0.6076388888888888,
          0.6527777777777777
         ]
        },
        "yaxis6": {
         "anchor": "x6",
         "domain": [
          0.5208333333333334,
          0.5659722222222223
         ]
        },
        "yaxis7": {
         "anchor": "x7",
         "domain": [
          0.4340277777777778,
          0.4791666666666667
         ]
        },
        "yaxis8": {
         "anchor": "x8",
         "domain": [
          0.3472222222222222,
          0.3923611111111111
         ]
        },
        "yaxis9": {
         "anchor": "x9",
         "domain": [
          0.2604166666666667,
          0.3055555555555556
         ]
        }
       }
      }
     },
     "metadata": {},
     "output_type": "display_data"
    }
   ],
   "source": [
    "import pandas as pd\n",
    "import plotly.graph_objects as go\n",
    "from plotly.subplots import make_subplots\n",
    "\n",
    "# Daten für die Alterspyramide umformen\n",
    "df_pyramide = df_alter.melt(id_vars=\"Jahr\", var_name=\"Altersgruppe\", value_name=\"Anteil (%)\")\n",
    "\n",
    "# Bachelor vs. Master identifizieren\n",
    "df_pyramide[\"Studiengang\"] = df_pyramide[\"Altersgruppe\"].apply(lambda x: \"Bachelor\" if \"Bachelor\" in x else \"Master\")\n",
    "\n",
    "# Altersgruppen umbenennen (Bachelor/Master entfernen)\n",
    "df_pyramide[\"Altersgruppe\"] = df_pyramide[\"Altersgruppe\"].str.replace(\"Bachelor \", \"\", regex=False)\n",
    "df_pyramide[\"Altersgruppe\"] = df_pyramide[\"Altersgruppe\"].str.replace(\"Master \", \"\", regex=False)\n",
    "\n",
    "# Bachelor-Werte negativ setzen für visuelle Trennung\n",
    "df_pyramide.loc[df_pyramide[\"Studiengang\"] == \"Bachelor\", \"Anteil (%)\"] *= -1\n",
    "\n",
    "# Einzigartige Jahre für Subplots\n",
    "jahre = sorted(df_pyramide[\"Jahr\"].unique(), reverse=True)\n",
    "num_years = len(jahre)\n",
    "\n",
    "# Subplots erstellen\n",
    "fig = make_subplots(\n",
    "    rows=num_years, cols=1,  # Eine Spalte, eine Zeile pro Jahr\n",
    "    shared_xaxes=True,  # Gleiche X-Achse für bessere Vergleichbarkeit\n",
    "    subplot_titles=[f\"Alterspyramide {jahr}\" for jahr in jahre]\n",
    ")\n",
    "\n",
    "# Farben definieren\n",
    "farben = {\"Bachelor\": \"#1f77b4\", \"Master\": \"#ff7f0e\"}  # Blau für Bachelor, Orange für Master\n",
    "\n",
    "# Daten für jedes Jahr als separaten Subplot hinzufügen\n",
    "for i, jahr in enumerate(jahre, start=1):\n",
    "    df_year = df_pyramide[df_pyramide[\"Jahr\"] == jahr]\n",
    "\n",
    "    for studiengang in [\"Bachelor\", \"Master\"]:\n",
    "        df_group = df_year[df_year[\"Studiengang\"] == studiengang]\n",
    "\n",
    "        fig.add_trace(\n",
    "            go.Bar(\n",
    "                x=df_group[\"Anteil (%)\"],\n",
    "                y=df_group[\"Altersgruppe\"],\n",
    "                orientation=\"h\",\n",
    "                name=studiengang if i == 1 else None,  # Legende nur einmal anzeigen\n",
    "                marker=dict(color=farben[studiengang]),\n",
    "            ),\n",
    "            row=i, col=1\n",
    "        )\n",
    "\n",
    "# Layout anpassen\n",
    "fig.update_layout(\n",
    "    title=\"Alterspyramide der Studierenden über die Jahre\",\n",
    "    #template=\"infoviz\",\n",
    "    xaxis_title=\"Anteil der Studierenden (%)\",\n",
    "    height=300 * num_years,  # Höhe dynamisch anpassen\n",
    "    showlegend=True,\n",
    ")\n",
    "\n",
    "# X-Achse so formatieren, dass negative und positive Werte gleichmäßig verteilt sind\n",
    "fig.update_xaxes(\n",
    "    tickmode=\"array\",\n",
    "    tickvals=[-20, -10, 0, 10, 20],\n",
    "    ticktext=[\"20%\", \"10%\", \"0%\", \"10%\", \"20%\"]\n",
    ")\n",
    "\n",
    "fig.show()"
   ]
  },
  {
   "cell_type": "code",
   "execution_count": 61,
   "metadata": {},
   "outputs": [
    {
     "data": {
      "application/vnd.plotly.v1+json": {
       "config": {
        "plotlyServerURL": "https://plot.ly"
       },
       "data": [
        {
         "hovertemplate": "Altersgruppe=unter 18 Jahre (%)<br>Jahr=%{x}<br>Anteil (%)=%{y}<extra></extra>",
         "legendgroup": "unter 18 Jahre (%)",
         "marker": {
          "color": "rgb(136, 204, 238)",
          "pattern": {
           "shape": ""
          }
         },
         "name": "unter 18 Jahre (%)",
         "orientation": "v",
         "showlegend": true,
         "textposition": "auto",
         "type": "bar",
         "x": [
          "2013",
          "2014",
          "2015",
          "2016",
          "2017",
          "2018",
          "2019",
          "2020",
          "2021",
          "2022",
          "2023",
          "2024",
          "2013",
          "2014",
          "2015",
          "2016",
          "2017",
          "2018",
          "2019",
          "2020",
          "2021",
          "2022",
          "2023",
          "2024"
         ],
         "xaxis": "x",
         "y": {
          "bdata": "AAAAAAAAAIAAAAAAAAAAgAAAAAAAAACAt4HX7pSr/r/+grvmJUfVv2d1GGUqngPAAAAAAAAAAIAAAAAAAAAAgAAAAAAAAACACdP94idp/78AAAAAAAAAgAAAAAAAAACAAAAAAAAAAAAAAAAAAAAAAAAAAAAAAAAAAAAAAAAAAAAAAAAAAAAAAAAAAAAAAAAAAAAAAAAAAAAAAAAAAAAAAAAAAAAAAAAAAAAAAAAAAAAAAAAAAAAAAAAAAAAAAAAA",
          "dtype": "f8"
         },
         "yaxis": "y"
        },
        {
         "hovertemplate": "Altersgruppe=18 bis 20 Jahre (%)<br>Jahr=%{x}<br>Anteil (%)=%{y}<extra></extra>",
         "legendgroup": "18 bis 20 Jahre (%)",
         "marker": {
          "color": "rgb(204, 102, 119)",
          "pattern": {
           "shape": ""
          }
         },
         "name": "18 bis 20 Jahre (%)",
         "orientation": "v",
         "showlegend": true,
         "textposition": "auto",
         "type": "bar",
         "x": [
          "2013",
          "2014",
          "2015",
          "2016",
          "2017",
          "2018",
          "2019",
          "2020",
          "2021",
          "2022",
          "2023",
          "2024",
          "2013",
          "2014",
          "2015",
          "2016",
          "2017",
          "2018",
          "2019",
          "2020",
          "2021",
          "2022",
          "2023",
          "2024"
         ],
         "xaxis": "x",
         "y": {
          "bdata": "a8qasqasNcAODJdz1dsCwAN7x9TAHjzAYUc4Ns1hRsBq3TOy9JA+wDhBuBv7HkrA05ve9Kb3QcCqtFP4JOVAwCG2acW9E0PAfpL2LAKdSMBwAidwAqc1wODlFLycAjjAAAAAAAAAAAAAAAAAAAAAAAAAAAAAAAAASIM0SIM0/D8AAAAAAAAAAAAAAAAAAAAAAAAAAAAAAAAAAAAAAAAAAFsU45Tb/d0/mJ6F6VmY7j8AAAAAAAAAAAAAAAAAAAAA",
          "dtype": "f8"
         },
         "yaxis": "y"
        },
        {
         "hovertemplate": "Altersgruppe=21 bis 23 Jahre (%)<br>Jahr=%{x}<br>Anteil (%)=%{y}<extra></extra>",
         "legendgroup": "21 bis 23 Jahre (%)",
         "marker": {
          "color": "rgb(221, 204, 119)",
          "pattern": {
           "shape": ""
          }
         },
         "name": "21 bis 23 Jahre (%)",
         "orientation": "v",
         "showlegend": true,
         "textposition": "auto",
         "type": "bar",
         "x": [
          "2013",
          "2014",
          "2015",
          "2016",
          "2017",
          "2018",
          "2019",
          "2020",
          "2021",
          "2022",
          "2023",
          "2024",
          "2013",
          "2014",
          "2015",
          "2016",
          "2017",
          "2018",
          "2019",
          "2020",
          "2021",
          "2022",
          "2023",
          "2024"
         ],
         "xaxis": "x",
         "y": {
          "bdata": "s6asKWuqS8CtLJno+PlEwKSLLrroQkjAu3anXHXhQcAEeUqQpwRJwOnlT1toQEHASSuTJyD6RsC0cfMN1DBHwKwxkR6oXETAx65vJquUQMB8xVd8xddIwPrQWB8aS0XANS5H43I0NEAUFBQUFBQUQOh+7ud+7jFAmG/5lm+5PEAndmIndmIwQPo9t8SpX0FA3QV/FSekM0Cu7HNITbAyQIEHl72hJzVAqF2J2pWoRkDP8zzP89wxQK9P16fr0zFA",
          "dtype": "f8"
         },
         "yaxis": "y"
        },
        {
         "hovertemplate": "Altersgruppe=24 bis 26 Jahre (%)<br>Jahr=%{x}<br>Anteil (%)=%{y}<extra></extra>",
         "legendgroup": "24 bis 26 Jahre (%)",
         "marker": {
          "color": "rgb(17, 119, 51)",
          "pattern": {
           "shape": ""
          }
         },
         "name": "24 bis 26 Jahre (%)",
         "orientation": "v",
         "showlegend": true,
         "textposition": "auto",
         "type": "bar",
         "x": [
          "2013",
          "2014",
          "2015",
          "2016",
          "2017",
          "2018",
          "2019",
          "2020",
          "2021",
          "2022",
          "2023",
          "2024",
          "2013",
          "2014",
          "2015",
          "2016",
          "2017",
          "2018",
          "2019",
          "2020",
          "2021",
          "2022",
          "2023",
          "2024"
         ],
         "xaxis": "x",
         "y": {
          "bdata": "6Av6gr7gLcAQgboRz/xDwH3H1MDeMS7AiTWq6FnpJMDRxlX/gD4swJDICcLd2BvAEW6p2bC/KcDznFGlncItwORlMAo4NCjAplpj1zeTIcCv+Iqv+IoywGN9aKwPjTTAEroXoXuRTEAVFBQUFPRCQGVKpmRKpk9AG6RBGqQhRUDGTuzETjxKQJTXUF5DeTtAixNS8ixjSUCgQ2qC8ZZHQE7IC1sFNUNAOxWrU7E6P0B7nud5ntdHQJO/yd/k70NA",
          "dtype": "f8"
         },
         "yaxis": "y"
        },
        {
         "hovertemplate": "Altersgruppe=27 bis 29 Jahre (%)<br>Jahr=%{x}<br>Anteil (%)=%{y}<extra></extra>",
         "legendgroup": "27 bis 29 Jahre (%)",
         "marker": {
          "color": "rgb(51, 34, 136)",
          "pattern": {
           "shape": ""
          }
         },
         "name": "27 bis 29 Jahre (%)",
         "orientation": "v",
         "showlegend": true,
         "textposition": "auto",
         "type": "bar",
         "x": [
          "2013",
          "2014",
          "2015",
          "2016",
          "2017",
          "2018",
          "2019",
          "2020",
          "2021",
          "2022",
          "2023",
          "2024",
          "2013",
          "2014",
          "2015",
          "2016",
          "2017",
          "2018",
          "2019",
          "2020",
          "2021",
          "2022",
          "2023",
          "2024"
         ],
         "xaxis": "x",
         "y": {
          "bdata": "Bn1BX9AXDMAnYd/9itwjwKSLLrroog3AxD1OlvEgEMD9hDgrPyEGwIcGLOnlT/u/hixkIQtZDMDMAsQJLiIJwByaz/XHyxTAPSyjf1AxDMCcwAmcwAkQwDTWh8b60BLApWxNytakKkAVFBQUFFRFQPEKr/AKryxA9C3f8i3fMUDETuzETrw0QOv33BKnfiVAo+RZRvSBNEBb2eeQmmAxQGG6zrFGIjVAQvwOxO9ALEC3bdu2bbs0QEhzpDnSHDlA",
          "dtype": "f8"
         },
         "yaxis": "y"
        },
        {
         "hovertemplate": "Altersgruppe=30 bis 32 Jahre (%)<br>Jahr=%{x}<br>Anteil (%)=%{y}<extra></extra>",
         "legendgroup": "30 bis 32 Jahre (%)",
         "marker": {
          "color": "rgb(170, 68, 153)",
          "pattern": {
           "shape": ""
          }
         },
         "name": "30 bis 32 Jahre (%)",
         "orientation": "v",
         "showlegend": true,
         "textposition": "auto",
         "type": "bar",
         "x": [
          "2013",
          "2014",
          "2015",
          "2016",
          "2017",
          "2018",
          "2019",
          "2020",
          "2021",
          "2022",
          "2023",
          "2024",
          "2013",
          "2014",
          "2015",
          "2016",
          "2017",
          "2018",
          "2019",
          "2020",
          "2021",
          "2022",
          "2023",
          "2024"
         ],
         "xaxis": "x",
         "y": {
          "bdata": "p6wpa8qaAsD2BBGoG/EEwPkJcVZ+QgTA9hVgJD+U+L8kytDGVf/wv22hAUt6+fO/HZhrB+ba+b+BqUPRbNzsv3eSpY4Q2wTAR14+6t2O67+DOqiDOqgDwC6n4OUUvBDAoXsRuhehIUBqaWlpaWkkQFy+5Vu+5QtAy7d8y7d8HEAAAAAAAEAZQK+hvIbyGgpAYMUJKXmWF0CWfQ6pCcYgQD+LYpxyuyVAnYrVqVidAkCHYRiGYZgXQMu4ZdwybhVA",
          "dtype": "f8"
         },
         "yaxis": "y"
        },
        {
         "hovertemplate": "Altersgruppe=33 bis 35 Jahre (%)<br>Jahr=%{x}<br>Anteil (%)=%{y}<extra></extra>",
         "legendgroup": "33 bis 35 Jahre (%)",
         "marker": {
          "color": "rgb(68, 170, 153)",
          "pattern": {
           "shape": ""
          }
         },
         "name": "33 bis 35 Jahre (%)",
         "orientation": "v",
         "showlegend": true,
         "textposition": "auto",
         "type": "bar",
         "x": [
          "2013",
          "2014",
          "2015",
          "2016",
          "2017",
          "2018",
          "2019",
          "2020",
          "2021",
          "2022",
          "2023",
          "2024",
          "2013",
          "2014",
          "2015",
          "2016",
          "2017",
          "2018",
          "2019",
          "2020",
          "2021",
          "2022",
          "2023",
          "2024"
         ],
         "xaxis": "x",
         "y": {
          "bdata": "jrgj7og74r8y0fHzaIwCwD8hzspPiOO/BjvCsWkO7782LzmqAH/xvwAAAAAAAACAAAAAAAAAAICXyZFBfuXpv6KAQ/O5/ui/0j+oGJ7m8r+SJEmSJEniv+UUvJyCl/u/mp6F6VmY3j8kIyMjIyMPQAAAAAAAAAAABmmQBmmQ/j8odmIndmICQHkN5TWU1/A/J6TkWUb08T8UjLeyzyEDQENPqq9kfg5AJG9D8jYkB0C4bdu2bdsZQJ/VzmpntQtA",
          "dtype": "f8"
         },
         "yaxis": "y"
        },
        {
         "hovertemplate": "Altersgruppe=älter als 35 Jahre (%)<br>Jahr=%{x}<br>Anteil (%)=%{y}<extra></extra>",
         "legendgroup": "älter als 35 Jahre (%)",
         "marker": {
          "color": "rgb(153, 153, 51)",
          "pattern": {
           "shape": ""
          }
         },
         "name": "älter als 35 Jahre (%)",
         "orientation": "v",
         "showlegend": true,
         "textposition": "auto",
         "type": "bar",
         "x": [
          "2013",
          "2014",
          "2015",
          "2016",
          "2017",
          "2018",
          "2019",
          "2020",
          "2021",
          "2022",
          "2023",
          "2024",
          "2013",
          "2014",
          "2015",
          "2016",
          "2017",
          "2018",
          "2019",
          "2020",
          "2021",
          "2022",
          "2023",
          "2024"
         ],
         "xaxis": "x",
         "y": {
          "bdata": "KmvKmrKm8L/UZhcHhsvpv3TRRRdddPW/Mx4E0tbL278uOydFmJvGv22hAUt6+eO/BUTnq3ukxb8LECe4iITuv0qWOkJs0+q/jf5BxfA0979g8RVf8RUPwMLLKXg5BQXAmJ6F6VmY3j8AAAAAAAAAAAzSIA3SIP0/AAAAAAAAAABkJ3ZiJ3b/PwAAAAAAAAAA1bG3Nkxz5z+u7HNITTAOQMkLWwW1GQhA1K5E7UrUBkD0PM/zPM/zP1gULAoWBRtA",
          "dtype": "f8"
         },
         "yaxis": "y"
        }
       ],
       "layout": {
        "barmode": "stack",
        "legend": {
         "title": {
          "text": "Altersgruppe"
         },
         "tracegroupgap": 0
        },
        "template": {
         "data": {
          "bar": [
           {
            "error_x": {
             "color": "#2a3f5f"
            },
            "error_y": {
             "color": "#2a3f5f"
            },
            "marker": {
             "line": {
              "color": "#E5ECF6",
              "width": 0.5
             },
             "pattern": {
              "fillmode": "overlay",
              "size": 10,
              "solidity": 0.2
             }
            },
            "type": "bar"
           }
          ],
          "barpolar": [
           {
            "marker": {
             "line": {
              "color": "#E5ECF6",
              "width": 0.5
             },
             "pattern": {
              "fillmode": "overlay",
              "size": 10,
              "solidity": 0.2
             }
            },
            "type": "barpolar"
           }
          ],
          "carpet": [
           {
            "aaxis": {
             "endlinecolor": "#2a3f5f",
             "gridcolor": "white",
             "linecolor": "white",
             "minorgridcolor": "white",
             "startlinecolor": "#2a3f5f"
            },
            "baxis": {
             "endlinecolor": "#2a3f5f",
             "gridcolor": "white",
             "linecolor": "white",
             "minorgridcolor": "white",
             "startlinecolor": "#2a3f5f"
            },
            "type": "carpet"
           }
          ],
          "choropleth": [
           {
            "colorbar": {
             "outlinewidth": 0,
             "ticks": ""
            },
            "type": "choropleth"
           }
          ],
          "contour": [
           {
            "colorbar": {
             "outlinewidth": 0,
             "ticks": ""
            },
            "colorscale": [
             [
              0,
              "#0d0887"
             ],
             [
              0.1111111111111111,
              "#46039f"
             ],
             [
              0.2222222222222222,
              "#7201a8"
             ],
             [
              0.3333333333333333,
              "#9c179e"
             ],
             [
              0.4444444444444444,
              "#bd3786"
             ],
             [
              0.5555555555555556,
              "#d8576b"
             ],
             [
              0.6666666666666666,
              "#ed7953"
             ],
             [
              0.7777777777777778,
              "#fb9f3a"
             ],
             [
              0.8888888888888888,
              "#fdca26"
             ],
             [
              1,
              "#f0f921"
             ]
            ],
            "type": "contour"
           }
          ],
          "contourcarpet": [
           {
            "colorbar": {
             "outlinewidth": 0,
             "ticks": ""
            },
            "type": "contourcarpet"
           }
          ],
          "heatmap": [
           {
            "colorbar": {
             "outlinewidth": 0,
             "ticks": ""
            },
            "colorscale": [
             [
              0,
              "#0d0887"
             ],
             [
              0.1111111111111111,
              "#46039f"
             ],
             [
              0.2222222222222222,
              "#7201a8"
             ],
             [
              0.3333333333333333,
              "#9c179e"
             ],
             [
              0.4444444444444444,
              "#bd3786"
             ],
             [
              0.5555555555555556,
              "#d8576b"
             ],
             [
              0.6666666666666666,
              "#ed7953"
             ],
             [
              0.7777777777777778,
              "#fb9f3a"
             ],
             [
              0.8888888888888888,
              "#fdca26"
             ],
             [
              1,
              "#f0f921"
             ]
            ],
            "type": "heatmap"
           }
          ],
          "histogram": [
           {
            "marker": {
             "pattern": {
              "fillmode": "overlay",
              "size": 10,
              "solidity": 0.2
             }
            },
            "type": "histogram"
           }
          ],
          "histogram2d": [
           {
            "colorbar": {
             "outlinewidth": 0,
             "ticks": ""
            },
            "colorscale": [
             [
              0,
              "#0d0887"
             ],
             [
              0.1111111111111111,
              "#46039f"
             ],
             [
              0.2222222222222222,
              "#7201a8"
             ],
             [
              0.3333333333333333,
              "#9c179e"
             ],
             [
              0.4444444444444444,
              "#bd3786"
             ],
             [
              0.5555555555555556,
              "#d8576b"
             ],
             [
              0.6666666666666666,
              "#ed7953"
             ],
             [
              0.7777777777777778,
              "#fb9f3a"
             ],
             [
              0.8888888888888888,
              "#fdca26"
             ],
             [
              1,
              "#f0f921"
             ]
            ],
            "type": "histogram2d"
           }
          ],
          "histogram2dcontour": [
           {
            "colorbar": {
             "outlinewidth": 0,
             "ticks": ""
            },
            "colorscale": [
             [
              0,
              "#0d0887"
             ],
             [
              0.1111111111111111,
              "#46039f"
             ],
             [
              0.2222222222222222,
              "#7201a8"
             ],
             [
              0.3333333333333333,
              "#9c179e"
             ],
             [
              0.4444444444444444,
              "#bd3786"
             ],
             [
              0.5555555555555556,
              "#d8576b"
             ],
             [
              0.6666666666666666,
              "#ed7953"
             ],
             [
              0.7777777777777778,
              "#fb9f3a"
             ],
             [
              0.8888888888888888,
              "#fdca26"
             ],
             [
              1,
              "#f0f921"
             ]
            ],
            "type": "histogram2dcontour"
           }
          ],
          "mesh3d": [
           {
            "colorbar": {
             "outlinewidth": 0,
             "ticks": ""
            },
            "type": "mesh3d"
           }
          ],
          "parcoords": [
           {
            "line": {
             "colorbar": {
              "outlinewidth": 0,
              "ticks": ""
             }
            },
            "type": "parcoords"
           }
          ],
          "pie": [
           {
            "automargin": true,
            "type": "pie"
           }
          ],
          "scatter": [
           {
            "fillpattern": {
             "fillmode": "overlay",
             "size": 10,
             "solidity": 0.2
            },
            "type": "scatter"
           }
          ],
          "scatter3d": [
           {
            "line": {
             "colorbar": {
              "outlinewidth": 0,
              "ticks": ""
             }
            },
            "marker": {
             "colorbar": {
              "outlinewidth": 0,
              "ticks": ""
             }
            },
            "type": "scatter3d"
           }
          ],
          "scattercarpet": [
           {
            "marker": {
             "colorbar": {
              "outlinewidth": 0,
              "ticks": ""
             }
            },
            "type": "scattercarpet"
           }
          ],
          "scattergeo": [
           {
            "marker": {
             "colorbar": {
              "outlinewidth": 0,
              "ticks": ""
             }
            },
            "type": "scattergeo"
           }
          ],
          "scattergl": [
           {
            "marker": {
             "colorbar": {
              "outlinewidth": 0,
              "ticks": ""
             }
            },
            "type": "scattergl"
           }
          ],
          "scattermap": [
           {
            "marker": {
             "colorbar": {
              "outlinewidth": 0,
              "ticks": ""
             }
            },
            "type": "scattermap"
           }
          ],
          "scattermapbox": [
           {
            "marker": {
             "colorbar": {
              "outlinewidth": 0,
              "ticks": ""
             }
            },
            "type": "scattermapbox"
           }
          ],
          "scatterpolar": [
           {
            "marker": {
             "colorbar": {
              "outlinewidth": 0,
              "ticks": ""
             }
            },
            "type": "scatterpolar"
           }
          ],
          "scatterpolargl": [
           {
            "marker": {
             "colorbar": {
              "outlinewidth": 0,
              "ticks": ""
             }
            },
            "type": "scatterpolargl"
           }
          ],
          "scatterternary": [
           {
            "marker": {
             "colorbar": {
              "outlinewidth": 0,
              "ticks": ""
             }
            },
            "type": "scatterternary"
           }
          ],
          "surface": [
           {
            "colorbar": {
             "outlinewidth": 0,
             "ticks": ""
            },
            "colorscale": [
             [
              0,
              "#0d0887"
             ],
             [
              0.1111111111111111,
              "#46039f"
             ],
             [
              0.2222222222222222,
              "#7201a8"
             ],
             [
              0.3333333333333333,
              "#9c179e"
             ],
             [
              0.4444444444444444,
              "#bd3786"
             ],
             [
              0.5555555555555556,
              "#d8576b"
             ],
             [
              0.6666666666666666,
              "#ed7953"
             ],
             [
              0.7777777777777778,
              "#fb9f3a"
             ],
             [
              0.8888888888888888,
              "#fdca26"
             ],
             [
              1,
              "#f0f921"
             ]
            ],
            "type": "surface"
           }
          ],
          "table": [
           {
            "cells": {
             "fill": {
              "color": "#EBF0F8"
             },
             "line": {
              "color": "white"
             }
            },
            "header": {
             "fill": {
              "color": "#C8D4E3"
             },
             "line": {
              "color": "white"
             }
            },
            "type": "table"
           }
          ]
         },
         "layout": {
          "annotationdefaults": {
           "arrowcolor": "#2a3f5f",
           "arrowhead": 0,
           "arrowwidth": 1
          },
          "autotypenumbers": "strict",
          "coloraxis": {
           "colorbar": {
            "outlinewidth": 0,
            "ticks": ""
           }
          },
          "colorscale": {
           "diverging": [
            [
             0,
             "#8e0152"
            ],
            [
             0.1,
             "#c51b7d"
            ],
            [
             0.2,
             "#de77ae"
            ],
            [
             0.3,
             "#f1b6da"
            ],
            [
             0.4,
             "#fde0ef"
            ],
            [
             0.5,
             "#f7f7f7"
            ],
            [
             0.6,
             "#e6f5d0"
            ],
            [
             0.7,
             "#b8e186"
            ],
            [
             0.8,
             "#7fbc41"
            ],
            [
             0.9,
             "#4d9221"
            ],
            [
             1,
             "#276419"
            ]
           ],
           "sequential": [
            [
             0,
             "#0d0887"
            ],
            [
             0.1111111111111111,
             "#46039f"
            ],
            [
             0.2222222222222222,
             "#7201a8"
            ],
            [
             0.3333333333333333,
             "#9c179e"
            ],
            [
             0.4444444444444444,
             "#bd3786"
            ],
            [
             0.5555555555555556,
             "#d8576b"
            ],
            [
             0.6666666666666666,
             "#ed7953"
            ],
            [
             0.7777777777777778,
             "#fb9f3a"
            ],
            [
             0.8888888888888888,
             "#fdca26"
            ],
            [
             1,
             "#f0f921"
            ]
           ],
           "sequentialminus": [
            [
             0,
             "#0d0887"
            ],
            [
             0.1111111111111111,
             "#46039f"
            ],
            [
             0.2222222222222222,
             "#7201a8"
            ],
            [
             0.3333333333333333,
             "#9c179e"
            ],
            [
             0.4444444444444444,
             "#bd3786"
            ],
            [
             0.5555555555555556,
             "#d8576b"
            ],
            [
             0.6666666666666666,
             "#ed7953"
            ],
            [
             0.7777777777777778,
             "#fb9f3a"
            ],
            [
             0.8888888888888888,
             "#fdca26"
            ],
            [
             1,
             "#f0f921"
            ]
           ]
          },
          "colorway": [
           "#636efa",
           "#EF553B",
           "#00cc96",
           "#ab63fa",
           "#FFA15A",
           "#19d3f3",
           "#FF6692",
           "#B6E880",
           "#FF97FF",
           "#FECB52"
          ],
          "font": {
           "color": "#2a3f5f"
          },
          "geo": {
           "bgcolor": "white",
           "lakecolor": "white",
           "landcolor": "#E5ECF6",
           "showlakes": true,
           "showland": true,
           "subunitcolor": "white"
          },
          "hoverlabel": {
           "align": "left"
          },
          "hovermode": "closest",
          "mapbox": {
           "style": "light"
          },
          "paper_bgcolor": "white",
          "plot_bgcolor": "#E5ECF6",
          "polar": {
           "angularaxis": {
            "gridcolor": "white",
            "linecolor": "white",
            "ticks": ""
           },
           "bgcolor": "#E5ECF6",
           "radialaxis": {
            "gridcolor": "white",
            "linecolor": "white",
            "ticks": ""
           }
          },
          "scene": {
           "xaxis": {
            "backgroundcolor": "#E5ECF6",
            "gridcolor": "white",
            "gridwidth": 2,
            "linecolor": "white",
            "showbackground": true,
            "ticks": "",
            "zerolinecolor": "white"
           },
           "yaxis": {
            "backgroundcolor": "#E5ECF6",
            "gridcolor": "white",
            "gridwidth": 2,
            "linecolor": "white",
            "showbackground": true,
            "ticks": "",
            "zerolinecolor": "white"
           },
           "zaxis": {
            "backgroundcolor": "#E5ECF6",
            "gridcolor": "white",
            "gridwidth": 2,
            "linecolor": "white",
            "showbackground": true,
            "ticks": "",
            "zerolinecolor": "white"
           }
          },
          "shapedefaults": {
           "line": {
            "color": "#2a3f5f"
           }
          },
          "ternary": {
           "aaxis": {
            "gridcolor": "white",
            "linecolor": "white",
            "ticks": ""
           },
           "baxis": {
            "gridcolor": "white",
            "linecolor": "white",
            "ticks": ""
           },
           "bgcolor": "#E5ECF6",
           "caxis": {
            "gridcolor": "white",
            "linecolor": "white",
            "ticks": ""
           }
          },
          "title": {
           "x": 0.05
          },
          "xaxis": {
           "automargin": true,
           "gridcolor": "white",
           "linecolor": "white",
           "ticks": "",
           "title": {
            "standoff": 15
           },
           "zerolinecolor": "white",
           "zerolinewidth": 2
          },
          "yaxis": {
           "automargin": true,
           "gridcolor": "white",
           "linecolor": "white",
           "ticks": "",
           "title": {
            "standoff": 15
           },
           "zerolinecolor": "white",
           "zerolinewidth": 2
          }
         }
        },
        "title": {
         "text": "Entwicklung der Altersverteilung über die Jahre"
        },
        "xaxis": {
         "anchor": "y",
         "domain": [
          0,
          1
         ],
         "title": {
          "text": "Jahr"
         }
        },
        "yaxis": {
         "anchor": "x",
         "domain": [
          0,
          1
         ],
         "range": [
          0,
          10
         ],
         "title": {
          "text": "Anteil der Studierenden (%)"
         }
        }
       }
      }
     },
     "metadata": {},
     "output_type": "display_data"
    }
   ],
   "source": [
    "fig = px.bar(\n",
    "    df_pyramide, \n",
    "    x=\"Jahr\", \n",
    "    y=\"Anteil (%)\", \n",
    "    color=\"Altersgruppe\",\n",
    "    title=\"Entwicklung der Altersverteilung über die Jahre\",\n",
    "    barmode=\"stack\",  # Gestapelte Darstellung\n",
    "    color_discrete_sequence=px.colors.qualitative.Safe\n",
    ")\n",
    "\n",
    "fig.update_layout(\n",
    "    #template=\"infoviz\",\n",
    "    xaxis_title=\"Jahr\",\n",
    "    yaxis_title=\"Anteil der Studierenden (%)\",\n",
    "    yaxis=dict(range=[0, 10]),  # Alle Altersgruppen addieren sich zu 100%\n",
    "    legend_title=\"Altersgruppe\"\n",
    ")\n",
    "\n",
    "fig.show()"
   ]
  },
  {
   "cell_type": "code",
   "execution_count": null,
   "metadata": {},
   "outputs": [],
   "source": []
  }
 ],
 "metadata": {
  "kernelspec": {
   "display_name": ".venv",
   "language": "python",
   "name": "python3"
  },
  "language_info": {
   "codemirror_mode": {
    "name": "ipython",
    "version": 3
   },
   "file_extension": ".py",
   "mimetype": "text/x-python",
   "name": "python",
   "nbconvert_exporter": "python",
   "pygments_lexer": "ipython3",
   "version": "3.12.4"
  }
 },
 "nbformat": 4,
 "nbformat_minor": 2
}
