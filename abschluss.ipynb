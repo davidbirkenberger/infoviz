{
 "cells": [
  {
   "cell_type": "markdown",
   "metadata": {},
   "source": [
    "# Abschluss\n",
    "\n",
    "- Line bzw Barchart Master vs Bachelor u4ber die Jahre aggregiert für FB\n",
    "- Treemap für alle Studiengänge"
   ]
  },
  {
   "cell_type": "code",
   "execution_count": 6,
   "metadata": {},
   "outputs": [],
   "source": [
    "import plotly.io as pio\n",
    "\n",
    "# Benutzerdefiniertes Template definieren\n",
    "infoviz_template = dict(\n",
    "    layout=dict(\n",
    "        template=\"plotly_white\",\n",
    "        title=dict(\n",
    "            font=dict(size=20, family=\"Arial\", weight=\"bold\", color=\"black\"),\n",
    "            y=0.91,  # Titel weiter nach oben\n",
    "            x=0.05,  # Links ausgerichtet\n",
    "            xanchor=\"left\",  # Linksbündig\n",
    "        ),\n",
    "        xaxis=dict(\n",
    "            showgrid=False,\n",
    "            zerolinecolor=\"lightgrey\",\n",
    "            tickfont=dict(color=\"grey\", size=12),\n",
    "            title_font=dict(color=\"grey\", weight=\"bold\", size=13),\n",
    "            title_standoff=15,\n",
    "            ticklabelposition=\"outside bottom\"\n",
    "        ),\n",
    "        yaxis=dict(\n",
    "            showgrid=True, gridcolor=\"lightgrey\",\n",
    "            zerolinecolor=\"lightgrey\",\n",
    "            tickfont=dict(color=\"grey\", size=12),\n",
    "            title_font=dict(color=\"grey\", weight=\"bold\", size=13),\n",
    "            title_standoff=15,\n",
    "            ticklabelposition=\"outside left\"\n",
    "        ),\n",
    "    )\n",
    ")\n",
    "pio.templates[\"infoviz\"] = infoviz_template"
   ]
  },
  {
   "cell_type": "code",
   "execution_count": 1,
   "metadata": {},
   "outputs": [],
   "source": [
    "import pandas as pd\n",
    "\n",
    "# Datei einlesen (ersetze 'data.xlsx' durch den tatsächlichen Dateinamen)\n",
    "file_path = \"data.xlsx\"\n",
    "\n",
    "# Alle Sheets einlesen, aber das erste Blatt ignorieren\n",
    "sheets = pd.read_excel(file_path, sheet_name=None, engine=\"openpyxl\")\n",
    "\n",
    "# Erstes Blatt entfernen\n",
    "sheets.pop(next(iter(sheets)))\n",
    "\n",
    "# Container für die bereinigten DataFrames\n",
    "cleaned_sheets = {}\n",
    "\n",
    "# Durch alle Jahre iterieren und DataFrames bereinigen\n",
    "for jahr, df in sheets.items():\n",
    "    df.columns = df.columns.astype(str).str.strip()  # Spaltennamen bereinigen\n",
    "    cleaned_sheets[jahr] = df  # Speichern der bereinigten Daten"
   ]
  },
  {
   "cell_type": "code",
   "execution_count": 3,
   "metadata": {},
   "outputs": [],
   "source": [
    "abschluss_anteile = {}\n",
    "\n",
    "for jahr, df in cleaned_sheets.items():\n",
    "    # Studiengänge automatisch erkennen (Bachelor und Master)\n",
    "    bachelor_studiengaenge = [col for col in df.columns if \"Bachelor\" in col]\n",
    "    master_studiengaenge = [col for col in df.columns if \"Master\" in col]\n",
    "\n",
    "    # Extrahiere die Gesamtanzahl der Studierenden pro Abschluss\n",
    "    total_bachelor = df[df[\"Category\"] == \"Anzahl Studierende\"][bachelor_studiengaenge].sum().sum()\n",
    "    total_master = df[df[\"Category\"] == \"Anzahl Studierende\"][master_studiengaenge].sum().sum()\n",
    "\n",
    "    total_students = total_bachelor + total_master\n",
    "\n",
    "    if total_students > 0:\n",
    "        abschluss_anteile[jahr] = {\n",
    "            \"Bachelor\": (total_bachelor / total_students) * 100,\n",
    "            \"Master\": (total_master / total_students) * 100\n",
    "        }\n",
    "    else:\n",
    "        abschluss_anteile[jahr] = {\"Bachelor\": 0, \"Master\": 0}\n",
    "\n",
    "# DataFrame erstellen\n",
    "abschluss_df = pd.DataFrame.from_dict(abschluss_anteile, orient=\"index\").reset_index()\n",
    "abschluss_df.rename(columns={\"index\": \"Jahr\"}, inplace=True)\n",
    "abschluss_df = abschluss_df.sort_values(by=\"Jahr\")"
   ]
  },
  {
   "cell_type": "code",
   "execution_count": 4,
   "metadata": {},
   "outputs": [
    {
     "data": {
      "text/html": [
       "<div>\n",
       "<style scoped>\n",
       "    .dataframe tbody tr th:only-of-type {\n",
       "        vertical-align: middle;\n",
       "    }\n",
       "\n",
       "    .dataframe tbody tr th {\n",
       "        vertical-align: top;\n",
       "    }\n",
       "\n",
       "    .dataframe thead th {\n",
       "        text-align: right;\n",
       "    }\n",
       "</style>\n",
       "<table border=\"1\" class=\"dataframe\">\n",
       "  <thead>\n",
       "    <tr style=\"text-align: right;\">\n",
       "      <th></th>\n",
       "      <th>Jahr</th>\n",
       "      <th>Bachelor</th>\n",
       "      <th>Master</th>\n",
       "    </tr>\n",
       "  </thead>\n",
       "  <tbody>\n",
       "    <tr>\n",
       "      <th>0</th>\n",
       "      <td>2013</td>\n",
       "      <td>63.706389</td>\n",
       "      <td>36.293611</td>\n",
       "    </tr>\n",
       "    <tr>\n",
       "      <th>1</th>\n",
       "      <td>2014</td>\n",
       "      <td>67.319983</td>\n",
       "      <td>32.680017</td>\n",
       "    </tr>\n",
       "    <tr>\n",
       "      <th>2</th>\n",
       "      <td>2015</td>\n",
       "      <td>69.597070</td>\n",
       "      <td>30.402930</td>\n",
       "    </tr>\n",
       "    <tr>\n",
       "      <th>3</th>\n",
       "      <td>2016</td>\n",
       "      <td>64.989138</td>\n",
       "      <td>35.010862</td>\n",
       "    </tr>\n",
       "    <tr>\n",
       "      <th>4</th>\n",
       "      <td>2017</td>\n",
       "      <td>59.922179</td>\n",
       "      <td>40.077821</td>\n",
       "    </tr>\n",
       "    <tr>\n",
       "      <th>5</th>\n",
       "      <td>2018</td>\n",
       "      <td>50.026525</td>\n",
       "      <td>49.973475</td>\n",
       "    </tr>\n",
       "    <tr>\n",
       "      <th>6</th>\n",
       "      <td>2019</td>\n",
       "      <td>58.325833</td>\n",
       "      <td>41.674167</td>\n",
       "    </tr>\n",
       "    <tr>\n",
       "      <th>7</th>\n",
       "      <td>2020</td>\n",
       "      <td>59.710316</td>\n",
       "      <td>40.289684</td>\n",
       "    </tr>\n",
       "    <tr>\n",
       "      <th>8</th>\n",
       "      <td>2021</td>\n",
       "      <td>57.366589</td>\n",
       "      <td>42.633411</td>\n",
       "    </tr>\n",
       "    <tr>\n",
       "      <th>9</th>\n",
       "      <td>2022</td>\n",
       "      <td>55.807028</td>\n",
       "      <td>44.192972</td>\n",
       "    </tr>\n",
       "    <tr>\n",
       "      <th>10</th>\n",
       "      <td>2023</td>\n",
       "      <td>54.166667</td>\n",
       "      <td>45.833333</td>\n",
       "    </tr>\n",
       "    <tr>\n",
       "      <th>11</th>\n",
       "      <td>2024</td>\n",
       "      <td>52.730697</td>\n",
       "      <td>47.269303</td>\n",
       "    </tr>\n",
       "  </tbody>\n",
       "</table>\n",
       "</div>"
      ],
      "text/plain": [
       "    Jahr   Bachelor     Master\n",
       "0   2013  63.706389  36.293611\n",
       "1   2014  67.319983  32.680017\n",
       "2   2015  69.597070  30.402930\n",
       "3   2016  64.989138  35.010862\n",
       "4   2017  59.922179  40.077821\n",
       "5   2018  50.026525  49.973475\n",
       "6   2019  58.325833  41.674167\n",
       "7   2020  59.710316  40.289684\n",
       "8   2021  57.366589  42.633411\n",
       "9   2022  55.807028  44.192972\n",
       "10  2023  54.166667  45.833333\n",
       "11  2024  52.730697  47.269303"
      ]
     },
     "execution_count": 4,
     "metadata": {},
     "output_type": "execute_result"
    }
   ],
   "source": [
    "abschluss_df"
   ]
  },
  {
   "cell_type": "code",
   "execution_count": 7,
   "metadata": {},
   "outputs": [
    {
     "data": {
      "application/vnd.plotly.v1+json": {
       "config": {
        "plotlyServerURL": "https://plot.ly"
       },
       "data": [
        {
         "hovertemplate": "Abschluss=Bachelor<br>Jahr=%{x}<br>Anteil (%)=%{y}<extra></extra>",
         "legendgroup": "Bachelor",
         "line": {
          "color": "rgb(136, 204, 238)",
          "dash": "solid",
          "width": 3
         },
         "marker": {
          "symbol": "circle"
         },
         "mode": "lines+markers",
         "name": "Bachelor",
         "orientation": "v",
         "showlegend": true,
         "type": "scatter",
         "x": [
          "2013",
          "2014",
          "2015",
          "2016",
          "2017",
          "2018",
          "2019",
          "2020",
          "2021",
          "2022",
          "2023",
          "2024"
         ],
         "xaxis": "x",
         "y": {
          "bdata": "Gbtt8mraT0Cp3MuZetRQQGM2ZmM2ZlFAxmrACk4/UEAK9gn2CfZNQD77fi1lA0lAaojQ4bQpTUDu7OOk69pNQOWTKWbsrkxAPSF6sUznS0BVVVVVVRVLQBlpAnmHXUpA",
          "dtype": "f8"
         },
         "yaxis": "y"
        },
        {
         "hovertemplate": "Abschluss=Master<br>Jahr=%{x}<br>Anteil (%)=%{y}<extra></extra>",
         "legendgroup": "Master",
         "line": {
          "color": "rgb(204, 102, 119)",
          "dash": "solid",
          "width": 3
         },
         "marker": {
          "symbol": "circle"
         },
         "mode": "lines+markers",
         "name": "Master",
         "orientation": "v",
         "showlegend": true,
         "type": "scatter",
         "x": [
          "2013",
          "2014",
          "2015",
          "2016",
          "2017",
          "2018",
          "2019",
          "2020",
          "2021",
          "2022",
          "2023",
          "2024"
         ],
         "xaxis": "x",
         "y": {
          "bdata": "50SSDZUlQkCuRmjMCldAQHImZ3ImZz5Acyp/6mOBQUD2CfYJ9glEQMEEgdKa/EhAl3cvHkvWREASExxbFCVEQBps1pkTUUVAw96FTrMYRkCqqqqqqupGQOaW/YZ4okdA",
          "dtype": "f8"
         },
         "yaxis": "y"
        }
       ],
       "layout": {
        "legend": {
         "title": {
          "text": "Abschluss"
         },
         "tracegroupgap": 0
        },
        "template": {
         "layout": {
          "template": {
           "data": {
            "bar": [
             {
              "error_x": {
               "color": "#2a3f5f"
              },
              "error_y": {
               "color": "#2a3f5f"
              },
              "marker": {
               "line": {
                "color": "white",
                "width": 0.5
               },
               "pattern": {
                "fillmode": "overlay",
                "size": 10,
                "solidity": 0.2
               }
              },
              "type": "bar"
             }
            ],
            "barpolar": [
             {
              "marker": {
               "line": {
                "color": "white",
                "width": 0.5
               },
               "pattern": {
                "fillmode": "overlay",
                "size": 10,
                "solidity": 0.2
               }
              },
              "type": "barpolar"
             }
            ],
            "carpet": [
             {
              "aaxis": {
               "endlinecolor": "#2a3f5f",
               "gridcolor": "#C8D4E3",
               "linecolor": "#C8D4E3",
               "minorgridcolor": "#C8D4E3",
               "startlinecolor": "#2a3f5f"
              },
              "baxis": {
               "endlinecolor": "#2a3f5f",
               "gridcolor": "#C8D4E3",
               "linecolor": "#C8D4E3",
               "minorgridcolor": "#C8D4E3",
               "startlinecolor": "#2a3f5f"
              },
              "type": "carpet"
             }
            ],
            "choropleth": [
             {
              "colorbar": {
               "outlinewidth": 0,
               "ticks": ""
              },
              "type": "choropleth"
             }
            ],
            "contour": [
             {
              "colorbar": {
               "outlinewidth": 0,
               "ticks": ""
              },
              "colorscale": [
               [
                0,
                "#0d0887"
               ],
               [
                0.1111111111111111,
                "#46039f"
               ],
               [
                0.2222222222222222,
                "#7201a8"
               ],
               [
                0.3333333333333333,
                "#9c179e"
               ],
               [
                0.4444444444444444,
                "#bd3786"
               ],
               [
                0.5555555555555556,
                "#d8576b"
               ],
               [
                0.6666666666666666,
                "#ed7953"
               ],
               [
                0.7777777777777778,
                "#fb9f3a"
               ],
               [
                0.8888888888888888,
                "#fdca26"
               ],
               [
                1,
                "#f0f921"
               ]
              ],
              "type": "contour"
             }
            ],
            "contourcarpet": [
             {
              "colorbar": {
               "outlinewidth": 0,
               "ticks": ""
              },
              "type": "contourcarpet"
             }
            ],
            "heatmap": [
             {
              "colorbar": {
               "outlinewidth": 0,
               "ticks": ""
              },
              "colorscale": [
               [
                0,
                "#0d0887"
               ],
               [
                0.1111111111111111,
                "#46039f"
               ],
               [
                0.2222222222222222,
                "#7201a8"
               ],
               [
                0.3333333333333333,
                "#9c179e"
               ],
               [
                0.4444444444444444,
                "#bd3786"
               ],
               [
                0.5555555555555556,
                "#d8576b"
               ],
               [
                0.6666666666666666,
                "#ed7953"
               ],
               [
                0.7777777777777778,
                "#fb9f3a"
               ],
               [
                0.8888888888888888,
                "#fdca26"
               ],
               [
                1,
                "#f0f921"
               ]
              ],
              "type": "heatmap"
             }
            ],
            "histogram": [
             {
              "marker": {
               "pattern": {
                "fillmode": "overlay",
                "size": 10,
                "solidity": 0.2
               }
              },
              "type": "histogram"
             }
            ],
            "histogram2d": [
             {
              "colorbar": {
               "outlinewidth": 0,
               "ticks": ""
              },
              "colorscale": [
               [
                0,
                "#0d0887"
               ],
               [
                0.1111111111111111,
                "#46039f"
               ],
               [
                0.2222222222222222,
                "#7201a8"
               ],
               [
                0.3333333333333333,
                "#9c179e"
               ],
               [
                0.4444444444444444,
                "#bd3786"
               ],
               [
                0.5555555555555556,
                "#d8576b"
               ],
               [
                0.6666666666666666,
                "#ed7953"
               ],
               [
                0.7777777777777778,
                "#fb9f3a"
               ],
               [
                0.8888888888888888,
                "#fdca26"
               ],
               [
                1,
                "#f0f921"
               ]
              ],
              "type": "histogram2d"
             }
            ],
            "histogram2dcontour": [
             {
              "colorbar": {
               "outlinewidth": 0,
               "ticks": ""
              },
              "colorscale": [
               [
                0,
                "#0d0887"
               ],
               [
                0.1111111111111111,
                "#46039f"
               ],
               [
                0.2222222222222222,
                "#7201a8"
               ],
               [
                0.3333333333333333,
                "#9c179e"
               ],
               [
                0.4444444444444444,
                "#bd3786"
               ],
               [
                0.5555555555555556,
                "#d8576b"
               ],
               [
                0.6666666666666666,
                "#ed7953"
               ],
               [
                0.7777777777777778,
                "#fb9f3a"
               ],
               [
                0.8888888888888888,
                "#fdca26"
               ],
               [
                1,
                "#f0f921"
               ]
              ],
              "type": "histogram2dcontour"
             }
            ],
            "mesh3d": [
             {
              "colorbar": {
               "outlinewidth": 0,
               "ticks": ""
              },
              "type": "mesh3d"
             }
            ],
            "parcoords": [
             {
              "line": {
               "colorbar": {
                "outlinewidth": 0,
                "ticks": ""
               }
              },
              "type": "parcoords"
             }
            ],
            "pie": [
             {
              "automargin": true,
              "type": "pie"
             }
            ],
            "scatter": [
             {
              "fillpattern": {
               "fillmode": "overlay",
               "size": 10,
               "solidity": 0.2
              },
              "type": "scatter"
             }
            ],
            "scatter3d": [
             {
              "line": {
               "colorbar": {
                "outlinewidth": 0,
                "ticks": ""
               }
              },
              "marker": {
               "colorbar": {
                "outlinewidth": 0,
                "ticks": ""
               }
              },
              "type": "scatter3d"
             }
            ],
            "scattercarpet": [
             {
              "marker": {
               "colorbar": {
                "outlinewidth": 0,
                "ticks": ""
               }
              },
              "type": "scattercarpet"
             }
            ],
            "scattergeo": [
             {
              "marker": {
               "colorbar": {
                "outlinewidth": 0,
                "ticks": ""
               }
              },
              "type": "scattergeo"
             }
            ],
            "scattergl": [
             {
              "marker": {
               "colorbar": {
                "outlinewidth": 0,
                "ticks": ""
               }
              },
              "type": "scattergl"
             }
            ],
            "scattermap": [
             {
              "marker": {
               "colorbar": {
                "outlinewidth": 0,
                "ticks": ""
               }
              },
              "type": "scattermap"
             }
            ],
            "scattermapbox": [
             {
              "marker": {
               "colorbar": {
                "outlinewidth": 0,
                "ticks": ""
               }
              },
              "type": "scattermapbox"
             }
            ],
            "scatterpolar": [
             {
              "marker": {
               "colorbar": {
                "outlinewidth": 0,
                "ticks": ""
               }
              },
              "type": "scatterpolar"
             }
            ],
            "scatterpolargl": [
             {
              "marker": {
               "colorbar": {
                "outlinewidth": 0,
                "ticks": ""
               }
              },
              "type": "scatterpolargl"
             }
            ],
            "scatterternary": [
             {
              "marker": {
               "colorbar": {
                "outlinewidth": 0,
                "ticks": ""
               }
              },
              "type": "scatterternary"
             }
            ],
            "surface": [
             {
              "colorbar": {
               "outlinewidth": 0,
               "ticks": ""
              },
              "colorscale": [
               [
                0,
                "#0d0887"
               ],
               [
                0.1111111111111111,
                "#46039f"
               ],
               [
                0.2222222222222222,
                "#7201a8"
               ],
               [
                0.3333333333333333,
                "#9c179e"
               ],
               [
                0.4444444444444444,
                "#bd3786"
               ],
               [
                0.5555555555555556,
                "#d8576b"
               ],
               [
                0.6666666666666666,
                "#ed7953"
               ],
               [
                0.7777777777777778,
                "#fb9f3a"
               ],
               [
                0.8888888888888888,
                "#fdca26"
               ],
               [
                1,
                "#f0f921"
               ]
              ],
              "type": "surface"
             }
            ],
            "table": [
             {
              "cells": {
               "fill": {
                "color": "#EBF0F8"
               },
               "line": {
                "color": "white"
               }
              },
              "header": {
               "fill": {
                "color": "#C8D4E3"
               },
               "line": {
                "color": "white"
               }
              },
              "type": "table"
             }
            ]
           },
           "layout": {
            "annotationdefaults": {
             "arrowcolor": "#2a3f5f",
             "arrowhead": 0,
             "arrowwidth": 1
            },
            "autotypenumbers": "strict",
            "coloraxis": {
             "colorbar": {
              "outlinewidth": 0,
              "ticks": ""
             }
            },
            "colorscale": {
             "diverging": [
              [
               0,
               "#8e0152"
              ],
              [
               0.1,
               "#c51b7d"
              ],
              [
               0.2,
               "#de77ae"
              ],
              [
               0.3,
               "#f1b6da"
              ],
              [
               0.4,
               "#fde0ef"
              ],
              [
               0.5,
               "#f7f7f7"
              ],
              [
               0.6,
               "#e6f5d0"
              ],
              [
               0.7,
               "#b8e186"
              ],
              [
               0.8,
               "#7fbc41"
              ],
              [
               0.9,
               "#4d9221"
              ],
              [
               1,
               "#276419"
              ]
             ],
             "sequential": [
              [
               0,
               "#0d0887"
              ],
              [
               0.1111111111111111,
               "#46039f"
              ],
              [
               0.2222222222222222,
               "#7201a8"
              ],
              [
               0.3333333333333333,
               "#9c179e"
              ],
              [
               0.4444444444444444,
               "#bd3786"
              ],
              [
               0.5555555555555556,
               "#d8576b"
              ],
              [
               0.6666666666666666,
               "#ed7953"
              ],
              [
               0.7777777777777778,
               "#fb9f3a"
              ],
              [
               0.8888888888888888,
               "#fdca26"
              ],
              [
               1,
               "#f0f921"
              ]
             ],
             "sequentialminus": [
              [
               0,
               "#0d0887"
              ],
              [
               0.1111111111111111,
               "#46039f"
              ],
              [
               0.2222222222222222,
               "#7201a8"
              ],
              [
               0.3333333333333333,
               "#9c179e"
              ],
              [
               0.4444444444444444,
               "#bd3786"
              ],
              [
               0.5555555555555556,
               "#d8576b"
              ],
              [
               0.6666666666666666,
               "#ed7953"
              ],
              [
               0.7777777777777778,
               "#fb9f3a"
              ],
              [
               0.8888888888888888,
               "#fdca26"
              ],
              [
               1,
               "#f0f921"
              ]
             ]
            },
            "colorway": [
             "#636efa",
             "#EF553B",
             "#00cc96",
             "#ab63fa",
             "#FFA15A",
             "#19d3f3",
             "#FF6692",
             "#B6E880",
             "#FF97FF",
             "#FECB52"
            ],
            "font": {
             "color": "#2a3f5f"
            },
            "geo": {
             "bgcolor": "white",
             "lakecolor": "white",
             "landcolor": "white",
             "showlakes": true,
             "showland": true,
             "subunitcolor": "#C8D4E3"
            },
            "hoverlabel": {
             "align": "left"
            },
            "hovermode": "closest",
            "mapbox": {
             "style": "light"
            },
            "paper_bgcolor": "white",
            "plot_bgcolor": "white",
            "polar": {
             "angularaxis": {
              "gridcolor": "#EBF0F8",
              "linecolor": "#EBF0F8",
              "ticks": ""
             },
             "bgcolor": "white",
             "radialaxis": {
              "gridcolor": "#EBF0F8",
              "linecolor": "#EBF0F8",
              "ticks": ""
             }
            },
            "scene": {
             "xaxis": {
              "backgroundcolor": "white",
              "gridcolor": "#DFE8F3",
              "gridwidth": 2,
              "linecolor": "#EBF0F8",
              "showbackground": true,
              "ticks": "",
              "zerolinecolor": "#EBF0F8"
             },
             "yaxis": {
              "backgroundcolor": "white",
              "gridcolor": "#DFE8F3",
              "gridwidth": 2,
              "linecolor": "#EBF0F8",
              "showbackground": true,
              "ticks": "",
              "zerolinecolor": "#EBF0F8"
             },
             "zaxis": {
              "backgroundcolor": "white",
              "gridcolor": "#DFE8F3",
              "gridwidth": 2,
              "linecolor": "#EBF0F8",
              "showbackground": true,
              "ticks": "",
              "zerolinecolor": "#EBF0F8"
             }
            },
            "shapedefaults": {
             "line": {
              "color": "#2a3f5f"
             }
            },
            "ternary": {
             "aaxis": {
              "gridcolor": "#DFE8F3",
              "linecolor": "#A2B1C6",
              "ticks": ""
             },
             "baxis": {
              "gridcolor": "#DFE8F3",
              "linecolor": "#A2B1C6",
              "ticks": ""
             },
             "bgcolor": "white",
             "caxis": {
              "gridcolor": "#DFE8F3",
              "linecolor": "#A2B1C6",
              "ticks": ""
             }
            },
            "title": {
             "x": 0.05
            },
            "xaxis": {
             "automargin": true,
             "gridcolor": "#EBF0F8",
             "linecolor": "#EBF0F8",
             "ticks": "",
             "title": {
              "standoff": 15
             },
             "zerolinecolor": "#EBF0F8",
             "zerolinewidth": 2
            },
            "yaxis": {
             "automargin": true,
             "gridcolor": "#EBF0F8",
             "linecolor": "#EBF0F8",
             "ticks": "",
             "title": {
              "standoff": 15
             },
             "zerolinecolor": "#EBF0F8",
             "zerolinewidth": 2
            }
           }
          },
          "title": {
           "font": {
            "color": "black",
            "family": "Arial",
            "size": 20,
            "weight": "bold"
           },
           "x": 0.05,
           "xanchor": "left",
           "y": 0.91
          },
          "xaxis": {
           "showgrid": false,
           "tickfont": {
            "color": "grey",
            "size": 12
           },
           "ticklabelposition": "outside bottom",
           "title": {
            "font": {
             "color": "grey",
             "size": 13,
             "weight": "bold"
            },
            "standoff": 15
           },
           "zerolinecolor": "lightgrey"
          },
          "yaxis": {
           "gridcolor": "lightgrey",
           "showgrid": true,
           "tickfont": {
            "color": "grey",
            "size": 12
           },
           "ticklabelposition": "outside left",
           "title": {
            "font": {
             "color": "grey",
             "size": 13,
             "weight": "bold"
            },
            "standoff": 15
           },
           "zerolinecolor": "lightgrey"
          }
         }
        },
        "title": {
         "text": "Entwicklung der Abschlussarten (Bachelor vs. Master)"
        },
        "xaxis": {
         "anchor": "y",
         "domain": [
          0,
          1
         ],
         "range": [
          2013,
          2025
         ],
         "title": {
          "text": "Jahr"
         }
        },
        "yaxis": {
         "anchor": "x",
         "domain": [
          0,
          1
         ],
         "range": [
          0,
          100
         ],
         "title": {
          "text": "Anteil (%)"
         }
        }
       }
      }
     },
     "metadata": {},
     "output_type": "display_data"
    }
   ],
   "source": [
    "import plotly.express as px\n",
    "\n",
    "# DataFrame für Plot umstrukturieren\n",
    "abschluss_df_melted = abschluss_df.melt(id_vars=\"Jahr\", var_name=\"Abschluss\", value_name=\"Anteil (%)\")\n",
    "\n",
    "fig = px.line(\n",
    "    abschluss_df_melted,\n",
    "    x=\"Jahr\",\n",
    "    y=\"Anteil (%)\",\n",
    "    color=\"Abschluss\",\n",
    "    markers=True,\n",
    "    title=\"Entwicklung der Abschlussarten (Bachelor vs. Master)\",\n",
    "    color_discrete_sequence=px.colors.qualitative.Safe,\n",
    "    template=\"infoviz\"\n",
    ")\n",
    "\n",
    "fig.update_traces(line=dict(width=3))  # Linie dicker machen\n",
    "\n",
    "fig.update_layout(\n",
    "    yaxis=dict(range=[0, 100]),  # Prozentwerte zwischen 0 und 100\n",
    "    xaxis=dict(range=[2013, 2025])\n",
    ")\n",
    "\n",
    "fig.show()"
   ]
  },
  {
   "cell_type": "code",
   "execution_count": 34,
   "metadata": {},
   "outputs": [
    {
     "data": {
      "text/html": [
       "<div>\n",
       "<style scoped>\n",
       "    .dataframe tbody tr th:only-of-type {\n",
       "        vertical-align: middle;\n",
       "    }\n",
       "\n",
       "    .dataframe tbody tr th {\n",
       "        vertical-align: top;\n",
       "    }\n",
       "\n",
       "    .dataframe thead th {\n",
       "        text-align: right;\n",
       "    }\n",
       "</style>\n",
       "<table border=\"1\" class=\"dataframe\">\n",
       "  <thead>\n",
       "    <tr style=\"text-align: right;\">\n",
       "      <th></th>\n",
       "      <th>66</th>\n",
       "    </tr>\n",
       "  </thead>\n",
       "  <tbody>\n",
       "    <tr>\n",
       "      <th>Bachelor Agrarwissenschaften</th>\n",
       "      <td>293</td>\n",
       "    </tr>\n",
       "    <tr>\n",
       "      <th>Bachelor Ernährungswissenschaften</th>\n",
       "      <td>493.0</td>\n",
       "    </tr>\n",
       "    <tr>\n",
       "      <th>Bachelor Nachwachsende Rohstoffe und Bioressourcen</th>\n",
       "      <td>69.0</td>\n",
       "    </tr>\n",
       "    <tr>\n",
       "      <th>Bachelor Ökotrophologie</th>\n",
       "      <td>429.0</td>\n",
       "    </tr>\n",
       "    <tr>\n",
       "      <th>Bachelor Umwelt und globaler Wandel</th>\n",
       "      <td>116.0</td>\n",
       "    </tr>\n",
       "    <tr>\n",
       "      <th>Master Agrar- und Ressourcenökonomie</th>\n",
       "      <td>53.0</td>\n",
       "    </tr>\n",
       "    <tr>\n",
       "      <th>Master Agrobiotechnologie</th>\n",
       "      <td>139.0</td>\n",
       "    </tr>\n",
       "    <tr>\n",
       "      <th>Master Ernährungswissenschaften</th>\n",
       "      <td>338.0</td>\n",
       "    </tr>\n",
       "    <tr>\n",
       "      <th>Master Getränketechnologie*</th>\n",
       "      <td>26.0</td>\n",
       "    </tr>\n",
       "    <tr>\n",
       "      <th>Master Informationstechnologie in den Agrar- und Umweltwissenschaften*</th>\n",
       "      <td>13.0</td>\n",
       "    </tr>\n",
       "    <tr>\n",
       "      <th>Master Insect Biotechnology and Bioresources</th>\n",
       "      <td>81.0</td>\n",
       "    </tr>\n",
       "    <tr>\n",
       "      <th>Master Nachhaltige Ernährungswirtschaft</th>\n",
       "      <td>51.0</td>\n",
       "    </tr>\n",
       "    <tr>\n",
       "      <th>Master Nutzpflanzenwissenschaften</th>\n",
       "      <td>65.0</td>\n",
       "    </tr>\n",
       "    <tr>\n",
       "      <th>Master Nutztierwissenschaften*</th>\n",
       "      <td>41.0</td>\n",
       "    </tr>\n",
       "    <tr>\n",
       "      <th>Master Oenologie/Weinwirtschaft*</th>\n",
       "      <td>32.0</td>\n",
       "    </tr>\n",
       "    <tr>\n",
       "      <th>Master Ökotrophologie</th>\n",
       "      <td>152.0</td>\n",
       "    </tr>\n",
       "    <tr>\n",
       "      <th>Master Sustainable Transition</th>\n",
       "      <td>59.0</td>\n",
       "    </tr>\n",
       "    <tr>\n",
       "      <th>Master Transition Management</th>\n",
       "      <td>192.0</td>\n",
       "    </tr>\n",
       "    <tr>\n",
       "      <th>Master Umweltwissenschaften</th>\n",
       "      <td>13.0</td>\n",
       "    </tr>\n",
       "  </tbody>\n",
       "</table>\n",
       "</div>"
      ],
      "text/plain": [
       "                                                       66\n",
       "Bachelor Agrarwissenschaften                          293\n",
       "Bachelor Ernährungswissenschaften                   493.0\n",
       "Bachelor Nachwachsende Rohstoffe und Bioressourcen   69.0\n",
       "Bachelor Ökotrophologie                             429.0\n",
       "Bachelor Umwelt und globaler Wandel                 116.0\n",
       "Master Agrar- und Ressourcenökonomie                 53.0\n",
       "Master Agrobiotechnologie                           139.0\n",
       "Master Ernährungswissenschaften                     338.0\n",
       "Master Getränketechnologie*                          26.0\n",
       "Master Informationstechnologie in den Agrar- un...   13.0\n",
       "Master Insect Biotechnology and Bioresources         81.0\n",
       "Master Nachhaltige Ernährungswirtschaft              51.0\n",
       "Master Nutzpflanzenwissenschaften                    65.0\n",
       "Master Nutztierwissenschaften*                       41.0\n",
       "Master Oenologie/Weinwirtschaft*                     32.0\n",
       "Master Ökotrophologie                               152.0\n",
       "Master Sustainable Transition                        59.0\n",
       "Master Transition Management                        192.0\n",
       "Master Umweltwissenschaften                          13.0"
      ]
     },
     "execution_count": 34,
     "metadata": {},
     "output_type": "execute_result"
    }
   ],
   "source": [
    "import plotly.express as px\n",
    "\n",
    "\n",
    "df_2024 = cleaned_sheets[\"2024\"]\n",
    "\n",
    "# Studiengänge automatisch erkennen (Bachelor und Master)\n",
    "studiengaenge = [col for col in df_2024.columns if \"Bachelor\" in col or \"Master\" in col]\n",
    "\n",
    "# Extrahiere die Anzahl der Studierenden pro Studiengang\n",
    "studiengang_verteilung = df_2024[df_2024[\"Category\"] == \"Anzahl Studierende\"][studiengaenge].T\n",
    "\n",
    "studiengang_verteilung"
   ]
  },
  {
   "cell_type": "code",
   "execution_count": 35,
   "metadata": {},
   "outputs": [
    {
     "data": {
      "text/html": [
       "<div>\n",
       "<style scoped>\n",
       "    .dataframe tbody tr th:only-of-type {\n",
       "        vertical-align: middle;\n",
       "    }\n",
       "\n",
       "    .dataframe tbody tr th {\n",
       "        vertical-align: top;\n",
       "    }\n",
       "\n",
       "    .dataframe thead th {\n",
       "        text-align: right;\n",
       "    }\n",
       "</style>\n",
       "<table border=\"1\" class=\"dataframe\">\n",
       "  <thead>\n",
       "    <tr style=\"text-align: right;\">\n",
       "      <th></th>\n",
       "      <th>Anzahl Studierende</th>\n",
       "      <th>Studiengang</th>\n",
       "    </tr>\n",
       "  </thead>\n",
       "  <tbody>\n",
       "    <tr>\n",
       "      <th>Bachelor Agrarwissenschaften</th>\n",
       "      <td>293</td>\n",
       "      <td>Bachelor Agrarwissenschaften</td>\n",
       "    </tr>\n",
       "    <tr>\n",
       "      <th>Bachelor Ernährungswissenschaften</th>\n",
       "      <td>493.0</td>\n",
       "      <td>Bachelor Ernährungswissenschaften</td>\n",
       "    </tr>\n",
       "    <tr>\n",
       "      <th>Bachelor Nachwachsende Rohstoffe und Bioressourcen</th>\n",
       "      <td>69.0</td>\n",
       "      <td>Bachelor Nachwachsende Rohstoffe und Bioressou...</td>\n",
       "    </tr>\n",
       "    <tr>\n",
       "      <th>Bachelor Ökotrophologie</th>\n",
       "      <td>429.0</td>\n",
       "      <td>Bachelor Ökotrophologie</td>\n",
       "    </tr>\n",
       "    <tr>\n",
       "      <th>Bachelor Umwelt und globaler Wandel</th>\n",
       "      <td>116.0</td>\n",
       "      <td>Bachelor Umwelt und globaler Wandel</td>\n",
       "    </tr>\n",
       "    <tr>\n",
       "      <th>Master Agrar- und Ressourcenökonomie</th>\n",
       "      <td>53.0</td>\n",
       "      <td>Master Agrar- und Ressourcenökonomie</td>\n",
       "    </tr>\n",
       "    <tr>\n",
       "      <th>Master Agrobiotechnologie</th>\n",
       "      <td>139.0</td>\n",
       "      <td>Master Agrobiotechnologie</td>\n",
       "    </tr>\n",
       "    <tr>\n",
       "      <th>Master Ernährungswissenschaften</th>\n",
       "      <td>338.0</td>\n",
       "      <td>Master Ernährungswissenschaften</td>\n",
       "    </tr>\n",
       "    <tr>\n",
       "      <th>Master Getränketechnologie*</th>\n",
       "      <td>26.0</td>\n",
       "      <td>Master Getränketechnologie*</td>\n",
       "    </tr>\n",
       "    <tr>\n",
       "      <th>Master Informationstechnologie in den Agrar- und Umweltwissenschaften*</th>\n",
       "      <td>13.0</td>\n",
       "      <td>Master Informationstechnologie in den Agrar- u...</td>\n",
       "    </tr>\n",
       "    <tr>\n",
       "      <th>Master Insect Biotechnology and Bioresources</th>\n",
       "      <td>81.0</td>\n",
       "      <td>Master Insect Biotechnology and Bioresources</td>\n",
       "    </tr>\n",
       "    <tr>\n",
       "      <th>Master Nachhaltige Ernährungswirtschaft</th>\n",
       "      <td>51.0</td>\n",
       "      <td>Master Nachhaltige Ernährungswirtschaft</td>\n",
       "    </tr>\n",
       "    <tr>\n",
       "      <th>Master Nutzpflanzenwissenschaften</th>\n",
       "      <td>65.0</td>\n",
       "      <td>Master Nutzpflanzenwissenschaften</td>\n",
       "    </tr>\n",
       "    <tr>\n",
       "      <th>Master Nutztierwissenschaften*</th>\n",
       "      <td>41.0</td>\n",
       "      <td>Master Nutztierwissenschaften*</td>\n",
       "    </tr>\n",
       "    <tr>\n",
       "      <th>Master Oenologie/Weinwirtschaft*</th>\n",
       "      <td>32.0</td>\n",
       "      <td>Master Oenologie/Weinwirtschaft*</td>\n",
       "    </tr>\n",
       "    <tr>\n",
       "      <th>Master Ökotrophologie</th>\n",
       "      <td>152.0</td>\n",
       "      <td>Master Ökotrophologie</td>\n",
       "    </tr>\n",
       "    <tr>\n",
       "      <th>Master Sustainable Transition</th>\n",
       "      <td>59.0</td>\n",
       "      <td>Master Sustainable Transition</td>\n",
       "    </tr>\n",
       "    <tr>\n",
       "      <th>Master Transition Management</th>\n",
       "      <td>192.0</td>\n",
       "      <td>Master Transition Management</td>\n",
       "    </tr>\n",
       "    <tr>\n",
       "      <th>Master Umweltwissenschaften</th>\n",
       "      <td>13.0</td>\n",
       "      <td>Master Umweltwissenschaften</td>\n",
       "    </tr>\n",
       "  </tbody>\n",
       "</table>\n",
       "</div>"
      ],
      "text/plain": [
       "                                                   Anzahl Studierende  \\\n",
       "Bachelor Agrarwissenschaften                                      293   \n",
       "Bachelor Ernährungswissenschaften                               493.0   \n",
       "Bachelor Nachwachsende Rohstoffe und Bioressourcen               69.0   \n",
       "Bachelor Ökotrophologie                                         429.0   \n",
       "Bachelor Umwelt und globaler Wandel                             116.0   \n",
       "Master Agrar- und Ressourcenökonomie                             53.0   \n",
       "Master Agrobiotechnologie                                       139.0   \n",
       "Master Ernährungswissenschaften                                 338.0   \n",
       "Master Getränketechnologie*                                      26.0   \n",
       "Master Informationstechnologie in den Agrar- un...               13.0   \n",
       "Master Insect Biotechnology and Bioresources                     81.0   \n",
       "Master Nachhaltige Ernährungswirtschaft                          51.0   \n",
       "Master Nutzpflanzenwissenschaften                                65.0   \n",
       "Master Nutztierwissenschaften*                                   41.0   \n",
       "Master Oenologie/Weinwirtschaft*                                 32.0   \n",
       "Master Ökotrophologie                                           152.0   \n",
       "Master Sustainable Transition                                    59.0   \n",
       "Master Transition Management                                    192.0   \n",
       "Master Umweltwissenschaften                                      13.0   \n",
       "\n",
       "                                                                                          Studiengang  \n",
       "Bachelor Agrarwissenschaften                                             Bachelor Agrarwissenschaften  \n",
       "Bachelor Ernährungswissenschaften                                   Bachelor Ernährungswissenschaften  \n",
       "Bachelor Nachwachsende Rohstoffe und Bioressourcen  Bachelor Nachwachsende Rohstoffe und Bioressou...  \n",
       "Bachelor Ökotrophologie                                                       Bachelor Ökotrophologie  \n",
       "Bachelor Umwelt und globaler Wandel                               Bachelor Umwelt und globaler Wandel  \n",
       "Master Agrar- und Ressourcenökonomie                             Master Agrar- und Ressourcenökonomie  \n",
       "Master Agrobiotechnologie                                                   Master Agrobiotechnologie  \n",
       "Master Ernährungswissenschaften                                       Master Ernährungswissenschaften  \n",
       "Master Getränketechnologie*                                               Master Getränketechnologie*  \n",
       "Master Informationstechnologie in den Agrar- un...  Master Informationstechnologie in den Agrar- u...  \n",
       "Master Insect Biotechnology and Bioresources             Master Insect Biotechnology and Bioresources  \n",
       "Master Nachhaltige Ernährungswirtschaft                       Master Nachhaltige Ernährungswirtschaft  \n",
       "Master Nutzpflanzenwissenschaften                                   Master Nutzpflanzenwissenschaften  \n",
       "Master Nutztierwissenschaften*                                         Master Nutztierwissenschaften*  \n",
       "Master Oenologie/Weinwirtschaft*                                     Master Oenologie/Weinwirtschaft*  \n",
       "Master Ökotrophologie                                                           Master Ökotrophologie  \n",
       "Master Sustainable Transition                                           Master Sustainable Transition  \n",
       "Master Transition Management                                             Master Transition Management  \n",
       "Master Umweltwissenschaften                                               Master Umweltwissenschaften  "
      ]
     },
     "execution_count": 35,
     "metadata": {},
     "output_type": "execute_result"
    }
   ],
   "source": [
    "studiengang_verteilung.columns = [\"Anzahl Studierende\"]\n",
    "studiengang_verteilung[\"Studiengang\"] = studiengang_verteilung.index\n",
    "studiengang_verteilung.index\n",
    "studiengang_verteilung"
   ]
  },
  {
   "cell_type": "code",
   "execution_count": 37,
   "metadata": {},
   "outputs": [
    {
     "data": {
      "application/vnd.plotly.v1+json": {
       "config": {
        "plotlyServerURL": "https://plot.ly"
       },
       "data": [
        {
         "branchvalues": "total",
         "domain": {
          "x": [
           0,
           1
          ],
          "y": [
           0,
           1
          ]
         },
         "hovertemplate": "labels=%{label}<br>Anzahl Studierende=%{value}<br>parent=%{parent}<br>id=%{id}<extra></extra>",
         "ids": [
          "Bachelor Agrarwissenschaften",
          "Bachelor Ernährungswissenschaften",
          "Bachelor Nachwachsende Rohstoffe und Bioressourcen",
          "Bachelor Ökotrophologie",
          "Bachelor Umwelt und globaler Wandel",
          "Master Agrar- und Ressourcenökonomie",
          "Master Agrobiotechnologie",
          "Master Ernährungswissenschaften",
          "Master Getränketechnologie*",
          "Master Informationstechnologie in den Agrar- und Umweltwissenschaften*",
          "Master Insect Biotechnology and Bioresources",
          "Master Nachhaltige Ernährungswirtschaft",
          "Master Nutzpflanzenwissenschaften",
          "Master Nutztierwissenschaften*",
          "Master Oenologie/Weinwirtschaft*",
          "Master Ökotrophologie",
          "Master Sustainable Transition",
          "Master Transition Management",
          "Master Umweltwissenschaften"
         ],
         "labels": [
          "Bachelor Agrarwissenschaften",
          "Bachelor Ernährungswissenschaften",
          "Bachelor Nachwachsende Rohstoffe und Bioressourcen",
          "Bachelor Ökotrophologie",
          "Bachelor Umwelt und globaler Wandel",
          "Master Agrar- und Ressourcenökonomie",
          "Master Agrobiotechnologie",
          "Master Ernährungswissenschaften",
          "Master Getränketechnologie*",
          "Master Informationstechnologie in den Agrar- und Umweltwissenschaften*",
          "Master Insect Biotechnology and Bioresources",
          "Master Nachhaltige Ernährungswirtschaft",
          "Master Nutzpflanzenwissenschaften",
          "Master Nutztierwissenschaften*",
          "Master Oenologie/Weinwirtschaft*",
          "Master Ökotrophologie",
          "Master Sustainable Transition",
          "Master Transition Management",
          "Master Umweltwissenschaften"
         ],
         "name": "",
         "parents": [
          "",
          "",
          "",
          "",
          "",
          "",
          "",
          "",
          "",
          "",
          "",
          "",
          "",
          "",
          "",
          "",
          "",
          "",
          ""
         ],
         "type": "treemap",
         "values": {
          "bdata": "AAAAAABQckAAAAAAANB+QAAAAAAAQFFAAAAAAADQekAAAAAAAABdQAAAAAAAgEpAAAAAAABgYUAAAAAAACB1QAAAAAAAADpAAAAAAAAAKkAAAAAAAEBUQAAAAAAAgElAAAAAAABAUEAAAAAAAIBEQAAAAAAAAEBAAAAAAAAAY0AAAAAAAIBNQAAAAAAAAGhAAAAAAAAAKkA=",
          "dtype": "f8"
         }
        }
       ],
       "layout": {
        "legend": {
         "tracegroupgap": 0
        },
        "template": {
         "layout": {
          "template": {
           "data": {
            "bar": [
             {
              "error_x": {
               "color": "#2a3f5f"
              },
              "error_y": {
               "color": "#2a3f5f"
              },
              "marker": {
               "line": {
                "color": "white",
                "width": 0.5
               },
               "pattern": {
                "fillmode": "overlay",
                "size": 10,
                "solidity": 0.2
               }
              },
              "type": "bar"
             }
            ],
            "barpolar": [
             {
              "marker": {
               "line": {
                "color": "white",
                "width": 0.5
               },
               "pattern": {
                "fillmode": "overlay",
                "size": 10,
                "solidity": 0.2
               }
              },
              "type": "barpolar"
             }
            ],
            "carpet": [
             {
              "aaxis": {
               "endlinecolor": "#2a3f5f",
               "gridcolor": "#C8D4E3",
               "linecolor": "#C8D4E3",
               "minorgridcolor": "#C8D4E3",
               "startlinecolor": "#2a3f5f"
              },
              "baxis": {
               "endlinecolor": "#2a3f5f",
               "gridcolor": "#C8D4E3",
               "linecolor": "#C8D4E3",
               "minorgridcolor": "#C8D4E3",
               "startlinecolor": "#2a3f5f"
              },
              "type": "carpet"
             }
            ],
            "choropleth": [
             {
              "colorbar": {
               "outlinewidth": 0,
               "ticks": ""
              },
              "type": "choropleth"
             }
            ],
            "contour": [
             {
              "colorbar": {
               "outlinewidth": 0,
               "ticks": ""
              },
              "colorscale": [
               [
                0,
                "#0d0887"
               ],
               [
                0.1111111111111111,
                "#46039f"
               ],
               [
                0.2222222222222222,
                "#7201a8"
               ],
               [
                0.3333333333333333,
                "#9c179e"
               ],
               [
                0.4444444444444444,
                "#bd3786"
               ],
               [
                0.5555555555555556,
                "#d8576b"
               ],
               [
                0.6666666666666666,
                "#ed7953"
               ],
               [
                0.7777777777777778,
                "#fb9f3a"
               ],
               [
                0.8888888888888888,
                "#fdca26"
               ],
               [
                1,
                "#f0f921"
               ]
              ],
              "type": "contour"
             }
            ],
            "contourcarpet": [
             {
              "colorbar": {
               "outlinewidth": 0,
               "ticks": ""
              },
              "type": "contourcarpet"
             }
            ],
            "heatmap": [
             {
              "colorbar": {
               "outlinewidth": 0,
               "ticks": ""
              },
              "colorscale": [
               [
                0,
                "#0d0887"
               ],
               [
                0.1111111111111111,
                "#46039f"
               ],
               [
                0.2222222222222222,
                "#7201a8"
               ],
               [
                0.3333333333333333,
                "#9c179e"
               ],
               [
                0.4444444444444444,
                "#bd3786"
               ],
               [
                0.5555555555555556,
                "#d8576b"
               ],
               [
                0.6666666666666666,
                "#ed7953"
               ],
               [
                0.7777777777777778,
                "#fb9f3a"
               ],
               [
                0.8888888888888888,
                "#fdca26"
               ],
               [
                1,
                "#f0f921"
               ]
              ],
              "type": "heatmap"
             }
            ],
            "histogram": [
             {
              "marker": {
               "pattern": {
                "fillmode": "overlay",
                "size": 10,
                "solidity": 0.2
               }
              },
              "type": "histogram"
             }
            ],
            "histogram2d": [
             {
              "colorbar": {
               "outlinewidth": 0,
               "ticks": ""
              },
              "colorscale": [
               [
                0,
                "#0d0887"
               ],
               [
                0.1111111111111111,
                "#46039f"
               ],
               [
                0.2222222222222222,
                "#7201a8"
               ],
               [
                0.3333333333333333,
                "#9c179e"
               ],
               [
                0.4444444444444444,
                "#bd3786"
               ],
               [
                0.5555555555555556,
                "#d8576b"
               ],
               [
                0.6666666666666666,
                "#ed7953"
               ],
               [
                0.7777777777777778,
                "#fb9f3a"
               ],
               [
                0.8888888888888888,
                "#fdca26"
               ],
               [
                1,
                "#f0f921"
               ]
              ],
              "type": "histogram2d"
             }
            ],
            "histogram2dcontour": [
             {
              "colorbar": {
               "outlinewidth": 0,
               "ticks": ""
              },
              "colorscale": [
               [
                0,
                "#0d0887"
               ],
               [
                0.1111111111111111,
                "#46039f"
               ],
               [
                0.2222222222222222,
                "#7201a8"
               ],
               [
                0.3333333333333333,
                "#9c179e"
               ],
               [
                0.4444444444444444,
                "#bd3786"
               ],
               [
                0.5555555555555556,
                "#d8576b"
               ],
               [
                0.6666666666666666,
                "#ed7953"
               ],
               [
                0.7777777777777778,
                "#fb9f3a"
               ],
               [
                0.8888888888888888,
                "#fdca26"
               ],
               [
                1,
                "#f0f921"
               ]
              ],
              "type": "histogram2dcontour"
             }
            ],
            "mesh3d": [
             {
              "colorbar": {
               "outlinewidth": 0,
               "ticks": ""
              },
              "type": "mesh3d"
             }
            ],
            "parcoords": [
             {
              "line": {
               "colorbar": {
                "outlinewidth": 0,
                "ticks": ""
               }
              },
              "type": "parcoords"
             }
            ],
            "pie": [
             {
              "automargin": true,
              "type": "pie"
             }
            ],
            "scatter": [
             {
              "fillpattern": {
               "fillmode": "overlay",
               "size": 10,
               "solidity": 0.2
              },
              "type": "scatter"
             }
            ],
            "scatter3d": [
             {
              "line": {
               "colorbar": {
                "outlinewidth": 0,
                "ticks": ""
               }
              },
              "marker": {
               "colorbar": {
                "outlinewidth": 0,
                "ticks": ""
               }
              },
              "type": "scatter3d"
             }
            ],
            "scattercarpet": [
             {
              "marker": {
               "colorbar": {
                "outlinewidth": 0,
                "ticks": ""
               }
              },
              "type": "scattercarpet"
             }
            ],
            "scattergeo": [
             {
              "marker": {
               "colorbar": {
                "outlinewidth": 0,
                "ticks": ""
               }
              },
              "type": "scattergeo"
             }
            ],
            "scattergl": [
             {
              "marker": {
               "colorbar": {
                "outlinewidth": 0,
                "ticks": ""
               }
              },
              "type": "scattergl"
             }
            ],
            "scattermap": [
             {
              "marker": {
               "colorbar": {
                "outlinewidth": 0,
                "ticks": ""
               }
              },
              "type": "scattermap"
             }
            ],
            "scattermapbox": [
             {
              "marker": {
               "colorbar": {
                "outlinewidth": 0,
                "ticks": ""
               }
              },
              "type": "scattermapbox"
             }
            ],
            "scatterpolar": [
             {
              "marker": {
               "colorbar": {
                "outlinewidth": 0,
                "ticks": ""
               }
              },
              "type": "scatterpolar"
             }
            ],
            "scatterpolargl": [
             {
              "marker": {
               "colorbar": {
                "outlinewidth": 0,
                "ticks": ""
               }
              },
              "type": "scatterpolargl"
             }
            ],
            "scatterternary": [
             {
              "marker": {
               "colorbar": {
                "outlinewidth": 0,
                "ticks": ""
               }
              },
              "type": "scatterternary"
             }
            ],
            "surface": [
             {
              "colorbar": {
               "outlinewidth": 0,
               "ticks": ""
              },
              "colorscale": [
               [
                0,
                "#0d0887"
               ],
               [
                0.1111111111111111,
                "#46039f"
               ],
               [
                0.2222222222222222,
                "#7201a8"
               ],
               [
                0.3333333333333333,
                "#9c179e"
               ],
               [
                0.4444444444444444,
                "#bd3786"
               ],
               [
                0.5555555555555556,
                "#d8576b"
               ],
               [
                0.6666666666666666,
                "#ed7953"
               ],
               [
                0.7777777777777778,
                "#fb9f3a"
               ],
               [
                0.8888888888888888,
                "#fdca26"
               ],
               [
                1,
                "#f0f921"
               ]
              ],
              "type": "surface"
             }
            ],
            "table": [
             {
              "cells": {
               "fill": {
                "color": "#EBF0F8"
               },
               "line": {
                "color": "white"
               }
              },
              "header": {
               "fill": {
                "color": "#C8D4E3"
               },
               "line": {
                "color": "white"
               }
              },
              "type": "table"
             }
            ]
           },
           "layout": {
            "annotationdefaults": {
             "arrowcolor": "#2a3f5f",
             "arrowhead": 0,
             "arrowwidth": 1
            },
            "autotypenumbers": "strict",
            "coloraxis": {
             "colorbar": {
              "outlinewidth": 0,
              "ticks": ""
             }
            },
            "colorscale": {
             "diverging": [
              [
               0,
               "#8e0152"
              ],
              [
               0.1,
               "#c51b7d"
              ],
              [
               0.2,
               "#de77ae"
              ],
              [
               0.3,
               "#f1b6da"
              ],
              [
               0.4,
               "#fde0ef"
              ],
              [
               0.5,
               "#f7f7f7"
              ],
              [
               0.6,
               "#e6f5d0"
              ],
              [
               0.7,
               "#b8e186"
              ],
              [
               0.8,
               "#7fbc41"
              ],
              [
               0.9,
               "#4d9221"
              ],
              [
               1,
               "#276419"
              ]
             ],
             "sequential": [
              [
               0,
               "#0d0887"
              ],
              [
               0.1111111111111111,
               "#46039f"
              ],
              [
               0.2222222222222222,
               "#7201a8"
              ],
              [
               0.3333333333333333,
               "#9c179e"
              ],
              [
               0.4444444444444444,
               "#bd3786"
              ],
              [
               0.5555555555555556,
               "#d8576b"
              ],
              [
               0.6666666666666666,
               "#ed7953"
              ],
              [
               0.7777777777777778,
               "#fb9f3a"
              ],
              [
               0.8888888888888888,
               "#fdca26"
              ],
              [
               1,
               "#f0f921"
              ]
             ],
             "sequentialminus": [
              [
               0,
               "#0d0887"
              ],
              [
               0.1111111111111111,
               "#46039f"
              ],
              [
               0.2222222222222222,
               "#7201a8"
              ],
              [
               0.3333333333333333,
               "#9c179e"
              ],
              [
               0.4444444444444444,
               "#bd3786"
              ],
              [
               0.5555555555555556,
               "#d8576b"
              ],
              [
               0.6666666666666666,
               "#ed7953"
              ],
              [
               0.7777777777777778,
               "#fb9f3a"
              ],
              [
               0.8888888888888888,
               "#fdca26"
              ],
              [
               1,
               "#f0f921"
              ]
             ]
            },
            "colorway": [
             "#636efa",
             "#EF553B",
             "#00cc96",
             "#ab63fa",
             "#FFA15A",
             "#19d3f3",
             "#FF6692",
             "#B6E880",
             "#FF97FF",
             "#FECB52"
            ],
            "font": {
             "color": "#2a3f5f"
            },
            "geo": {
             "bgcolor": "white",
             "lakecolor": "white",
             "landcolor": "white",
             "showlakes": true,
             "showland": true,
             "subunitcolor": "#C8D4E3"
            },
            "hoverlabel": {
             "align": "left"
            },
            "hovermode": "closest",
            "mapbox": {
             "style": "light"
            },
            "paper_bgcolor": "white",
            "plot_bgcolor": "white",
            "polar": {
             "angularaxis": {
              "gridcolor": "#EBF0F8",
              "linecolor": "#EBF0F8",
              "ticks": ""
             },
             "bgcolor": "white",
             "radialaxis": {
              "gridcolor": "#EBF0F8",
              "linecolor": "#EBF0F8",
              "ticks": ""
             }
            },
            "scene": {
             "xaxis": {
              "backgroundcolor": "white",
              "gridcolor": "#DFE8F3",
              "gridwidth": 2,
              "linecolor": "#EBF0F8",
              "showbackground": true,
              "ticks": "",
              "zerolinecolor": "#EBF0F8"
             },
             "yaxis": {
              "backgroundcolor": "white",
              "gridcolor": "#DFE8F3",
              "gridwidth": 2,
              "linecolor": "#EBF0F8",
              "showbackground": true,
              "ticks": "",
              "zerolinecolor": "#EBF0F8"
             },
             "zaxis": {
              "backgroundcolor": "white",
              "gridcolor": "#DFE8F3",
              "gridwidth": 2,
              "linecolor": "#EBF0F8",
              "showbackground": true,
              "ticks": "",
              "zerolinecolor": "#EBF0F8"
             }
            },
            "shapedefaults": {
             "line": {
              "color": "#2a3f5f"
             }
            },
            "ternary": {
             "aaxis": {
              "gridcolor": "#DFE8F3",
              "linecolor": "#A2B1C6",
              "ticks": ""
             },
             "baxis": {
              "gridcolor": "#DFE8F3",
              "linecolor": "#A2B1C6",
              "ticks": ""
             },
             "bgcolor": "white",
             "caxis": {
              "gridcolor": "#DFE8F3",
              "linecolor": "#A2B1C6",
              "ticks": ""
             }
            },
            "title": {
             "x": 0.05
            },
            "xaxis": {
             "automargin": true,
             "gridcolor": "#EBF0F8",
             "linecolor": "#EBF0F8",
             "ticks": "",
             "title": {
              "standoff": 15
             },
             "zerolinecolor": "#EBF0F8",
             "zerolinewidth": 2
            },
            "yaxis": {
             "automargin": true,
             "gridcolor": "#EBF0F8",
             "linecolor": "#EBF0F8",
             "ticks": "",
             "title": {
              "standoff": 15
             },
             "zerolinecolor": "#EBF0F8",
             "zerolinewidth": 2
            }
           }
          },
          "title": {
           "font": {
            "color": "black",
            "family": "Arial",
            "size": 20,
            "weight": "bold"
           },
           "x": 0.05,
           "xanchor": "left",
           "y": 0.91
          },
          "xaxis": {
           "showgrid": false,
           "tickfont": {
            "color": "grey",
            "size": 12
           },
           "ticklabelposition": "outside bottom",
           "title": {
            "font": {
             "color": "grey",
             "size": 13,
             "weight": "bold"
            },
            "standoff": 15
           },
           "zerolinecolor": "lightgrey"
          },
          "yaxis": {
           "gridcolor": "lightgrey",
           "showgrid": true,
           "tickfont": {
            "color": "grey",
            "size": 12
           },
           "ticklabelposition": "outside left",
           "title": {
            "font": {
             "color": "grey",
             "size": 13,
             "weight": "bold"
            },
            "standoff": 15
           },
           "zerolinecolor": "lightgrey"
          }
         }
        },
        "title": {
         "text": "Studierendenverteilung nach Studiengang (2024)"
        },
        "treemapcolorway": [
         "rgb(136, 204, 238)",
         "rgb(204, 102, 119)",
         "rgb(221, 204, 119)",
         "rgb(17, 119, 51)",
         "rgb(51, 34, 136)",
         "rgb(170, 68, 153)",
         "rgb(68, 170, 153)",
         "rgb(153, 153, 51)",
         "rgb(136, 34, 85)",
         "rgb(102, 17, 0)",
         "rgb(136, 136, 136)"
        ]
       }
      }
     },
     "metadata": {},
     "output_type": "display_data"
    }
   ],
   "source": [
    "# Treemap erstellen\n",
    "fig = px.treemap(\n",
    "    studiengang_verteilung,\n",
    "    path=[\"Studiengang\"],\n",
    "    values=\"Anzahl Studierende\",\n",
    "    title=\"Studierendenverteilung nach Studiengang (2024)\",\n",
    "    color_discrete_sequence=px.colors.qualitative.Safe,\n",
    "    template=\"infoviz\"\n",
    ")\n",
    "\n",
    "fig.show()"
   ]
  },
  {
   "cell_type": "code",
   "execution_count": 63,
   "metadata": {},
   "outputs": [
    {
     "data": {
      "application/vnd.plotly.v1+json": {
       "config": {
        "plotlyServerURL": "https://plot.ly"
       },
       "data": [
        {
         "branchvalues": "total",
         "customdata": [
          [
           "(?)"
          ],
          [
           "(?)"
          ],
          [
           "Agrar- und Ressourcenökonomie"
          ],
          [
           "Agrarwissenschaften"
          ],
          [
           "Agrobiotechnologie"
          ],
          [
           "Ernährungswissenschaften"
          ],
          [
           "Ernährungswissenschaften"
          ],
          [
           "Getränketechnologie*"
          ],
          [
           "Informationstechnologie in den Agrar- und Umweltwissenschaften*"
          ],
          [
           "Insect Biotechnology and Bioresources"
          ],
          [
           "Nachhaltige Ernährungswirtschaft"
          ],
          [
           "Nachwachsende Rohstoffe und Bioressourcen"
          ],
          [
           "Nutzpflanzenwissenschaften"
          ],
          [
           "Nutztierwissenschaften*"
          ],
          [
           "Oenologie/Weinwirtschaft*"
          ],
          [
           "Sustainable Transition"
          ],
          [
           "Transition Management"
          ],
          [
           "Umwelt und globaler Wandel"
          ],
          [
           "Umweltwissenschaften"
          ],
          [
           "Ökotrophologie"
          ],
          [
           "Ökotrophologie"
          ]
         ],
         "domain": {
          "x": [
           0,
           1
          ],
          "y": [
           0,
           1
          ]
         },
         "hovertemplate": "labels=%{label}<br>Anzahl Studierende=%{value}<br>parent=%{parent}<br>id=%{id}<br>Studiengang=%{customdata[0]}<extra></extra>",
         "ids": [
          "Master",
          "Bachelor",
          "Master/Agrar- und Ressourcenökonomie",
          "Bachelor/Agrarwissenschaften",
          "Master/Agrobiotechnologie",
          "Master/Ernährungswissenschaften",
          "Bachelor/Ernährungswissenschaften",
          "Master/Getränketechnologie*",
          "Master/Informationstechnologie in den Agrar- und Umweltwissenschaften*",
          "Master/Insect Biotechnology and Bioresources",
          "Master/Nachhaltige Ernährungswirtschaft",
          "Bachelor/Nachwachsende Rohstoffe und Bioressourcen",
          "Master/Nutzpflanzenwissenschaften",
          "Master/Nutztierwissenschaften*",
          "Master/Oenologie/Weinwirtschaft*",
          "Master/Sustainable Transition",
          "Master/Transition Management",
          "Bachelor/Umwelt und globaler Wandel",
          "Master/Umweltwissenschaften",
          "Master/Ökotrophologie",
          "Bachelor/Ökotrophologie"
         ],
         "labels": [
          "Master",
          "Bachelor",
          "Agrar- und Ressourcenökonomie",
          "Agrarwissenschaften",
          "Agrobiotechnologie",
          "Ernährungswissenschaften",
          "Ernährungswissenschaften",
          "Getränketechnologie*",
          "Informationstechnologie in den Agrar- und Umweltwissenschaften*",
          "Insect Biotechnology and Bioresources",
          "Nachhaltige Ernährungswirtschaft",
          "Nachwachsende Rohstoffe und Bioressourcen",
          "Nutzpflanzenwissenschaften",
          "Nutztierwissenschaften*",
          "Oenologie/Weinwirtschaft*",
          "Sustainable Transition",
          "Transition Management",
          "Umwelt und globaler Wandel",
          "Umweltwissenschaften",
          "Ökotrophologie",
          "Ökotrophologie"
         ],
         "marker": {
          "colors": [
           "#17BECF",
           "#17BECF",
           "#1F77B4",
           "#FF7F0E",
           "#2CA02C",
           "#D62728",
           "#D62728",
           "#9467BD",
           "#8C564B",
           "#E377C2",
           "#7F7F7F",
           "#BCBD22",
           "#17BECF",
           "#1F77B4",
           "#FF7F0E",
           "#2CA02C",
           "#D62728",
           "#9467BD",
           "#8C564B",
           "#E377C2",
           "#E377C2"
          ]
         },
         "name": "",
         "parents": [
          "",
          "",
          "Master",
          "Bachelor",
          "Master",
          "Master",
          "Bachelor",
          "Master",
          "Master",
          "Master",
          "Master",
          "Bachelor",
          "Master",
          "Master",
          "Master",
          "Master",
          "Master",
          "Bachelor",
          "Master",
          "Master",
          "Bachelor"
         ],
         "textfont": {
          "color": "black",
          "size": 18,
          "weight": "bold"
         },
         "textinfo": "label+value",
         "type": "treemap",
         "values": {
          "bdata": "AAAAAACck0AAAAAAAOCVQAAAAAAAgEpAAAAAAABQckAAAAAAAGBhQAAAAAAAIHVAAAAAAADQfkAAAAAAAAA6QAAAAAAAACpAAAAAAABAVEAAAAAAAIBJQAAAAAAAQFFAAAAAAABAUEAAAAAAAIBEQAAAAAAAAEBAAAAAAACATUAAAAAAAABoQAAAAAAAAF1AAAAAAAAAKkAAAAAAAABjQAAAAAAA0HpA",
          "dtype": "f8"
         }
        }
       ],
       "layout": {
        "font": {
         "size": 18
        },
        "height": 800,
        "legend": {
         "tracegroupgap": 0
        },
        "template": {
         "layout": {
          "template": {
           "data": {
            "bar": [
             {
              "error_x": {
               "color": "#2a3f5f"
              },
              "error_y": {
               "color": "#2a3f5f"
              },
              "marker": {
               "line": {
                "color": "white",
                "width": 0.5
               },
               "pattern": {
                "fillmode": "overlay",
                "size": 10,
                "solidity": 0.2
               }
              },
              "type": "bar"
             }
            ],
            "barpolar": [
             {
              "marker": {
               "line": {
                "color": "white",
                "width": 0.5
               },
               "pattern": {
                "fillmode": "overlay",
                "size": 10,
                "solidity": 0.2
               }
              },
              "type": "barpolar"
             }
            ],
            "carpet": [
             {
              "aaxis": {
               "endlinecolor": "#2a3f5f",
               "gridcolor": "#C8D4E3",
               "linecolor": "#C8D4E3",
               "minorgridcolor": "#C8D4E3",
               "startlinecolor": "#2a3f5f"
              },
              "baxis": {
               "endlinecolor": "#2a3f5f",
               "gridcolor": "#C8D4E3",
               "linecolor": "#C8D4E3",
               "minorgridcolor": "#C8D4E3",
               "startlinecolor": "#2a3f5f"
              },
              "type": "carpet"
             }
            ],
            "choropleth": [
             {
              "colorbar": {
               "outlinewidth": 0,
               "ticks": ""
              },
              "type": "choropleth"
             }
            ],
            "contour": [
             {
              "colorbar": {
               "outlinewidth": 0,
               "ticks": ""
              },
              "colorscale": [
               [
                0,
                "#0d0887"
               ],
               [
                0.1111111111111111,
                "#46039f"
               ],
               [
                0.2222222222222222,
                "#7201a8"
               ],
               [
                0.3333333333333333,
                "#9c179e"
               ],
               [
                0.4444444444444444,
                "#bd3786"
               ],
               [
                0.5555555555555556,
                "#d8576b"
               ],
               [
                0.6666666666666666,
                "#ed7953"
               ],
               [
                0.7777777777777778,
                "#fb9f3a"
               ],
               [
                0.8888888888888888,
                "#fdca26"
               ],
               [
                1,
                "#f0f921"
               ]
              ],
              "type": "contour"
             }
            ],
            "contourcarpet": [
             {
              "colorbar": {
               "outlinewidth": 0,
               "ticks": ""
              },
              "type": "contourcarpet"
             }
            ],
            "heatmap": [
             {
              "colorbar": {
               "outlinewidth": 0,
               "ticks": ""
              },
              "colorscale": [
               [
                0,
                "#0d0887"
               ],
               [
                0.1111111111111111,
                "#46039f"
               ],
               [
                0.2222222222222222,
                "#7201a8"
               ],
               [
                0.3333333333333333,
                "#9c179e"
               ],
               [
                0.4444444444444444,
                "#bd3786"
               ],
               [
                0.5555555555555556,
                "#d8576b"
               ],
               [
                0.6666666666666666,
                "#ed7953"
               ],
               [
                0.7777777777777778,
                "#fb9f3a"
               ],
               [
                0.8888888888888888,
                "#fdca26"
               ],
               [
                1,
                "#f0f921"
               ]
              ],
              "type": "heatmap"
             }
            ],
            "histogram": [
             {
              "marker": {
               "pattern": {
                "fillmode": "overlay",
                "size": 10,
                "solidity": 0.2
               }
              },
              "type": "histogram"
             }
            ],
            "histogram2d": [
             {
              "colorbar": {
               "outlinewidth": 0,
               "ticks": ""
              },
              "colorscale": [
               [
                0,
                "#0d0887"
               ],
               [
                0.1111111111111111,
                "#46039f"
               ],
               [
                0.2222222222222222,
                "#7201a8"
               ],
               [
                0.3333333333333333,
                "#9c179e"
               ],
               [
                0.4444444444444444,
                "#bd3786"
               ],
               [
                0.5555555555555556,
                "#d8576b"
               ],
               [
                0.6666666666666666,
                "#ed7953"
               ],
               [
                0.7777777777777778,
                "#fb9f3a"
               ],
               [
                0.8888888888888888,
                "#fdca26"
               ],
               [
                1,
                "#f0f921"
               ]
              ],
              "type": "histogram2d"
             }
            ],
            "histogram2dcontour": [
             {
              "colorbar": {
               "outlinewidth": 0,
               "ticks": ""
              },
              "colorscale": [
               [
                0,
                "#0d0887"
               ],
               [
                0.1111111111111111,
                "#46039f"
               ],
               [
                0.2222222222222222,
                "#7201a8"
               ],
               [
                0.3333333333333333,
                "#9c179e"
               ],
               [
                0.4444444444444444,
                "#bd3786"
               ],
               [
                0.5555555555555556,
                "#d8576b"
               ],
               [
                0.6666666666666666,
                "#ed7953"
               ],
               [
                0.7777777777777778,
                "#fb9f3a"
               ],
               [
                0.8888888888888888,
                "#fdca26"
               ],
               [
                1,
                "#f0f921"
               ]
              ],
              "type": "histogram2dcontour"
             }
            ],
            "mesh3d": [
             {
              "colorbar": {
               "outlinewidth": 0,
               "ticks": ""
              },
              "type": "mesh3d"
             }
            ],
            "parcoords": [
             {
              "line": {
               "colorbar": {
                "outlinewidth": 0,
                "ticks": ""
               }
              },
              "type": "parcoords"
             }
            ],
            "pie": [
             {
              "automargin": true,
              "type": "pie"
             }
            ],
            "scatter": [
             {
              "fillpattern": {
               "fillmode": "overlay",
               "size": 10,
               "solidity": 0.2
              },
              "type": "scatter"
             }
            ],
            "scatter3d": [
             {
              "line": {
               "colorbar": {
                "outlinewidth": 0,
                "ticks": ""
               }
              },
              "marker": {
               "colorbar": {
                "outlinewidth": 0,
                "ticks": ""
               }
              },
              "type": "scatter3d"
             }
            ],
            "scattercarpet": [
             {
              "marker": {
               "colorbar": {
                "outlinewidth": 0,
                "ticks": ""
               }
              },
              "type": "scattercarpet"
             }
            ],
            "scattergeo": [
             {
              "marker": {
               "colorbar": {
                "outlinewidth": 0,
                "ticks": ""
               }
              },
              "type": "scattergeo"
             }
            ],
            "scattergl": [
             {
              "marker": {
               "colorbar": {
                "outlinewidth": 0,
                "ticks": ""
               }
              },
              "type": "scattergl"
             }
            ],
            "scattermap": [
             {
              "marker": {
               "colorbar": {
                "outlinewidth": 0,
                "ticks": ""
               }
              },
              "type": "scattermap"
             }
            ],
            "scattermapbox": [
             {
              "marker": {
               "colorbar": {
                "outlinewidth": 0,
                "ticks": ""
               }
              },
              "type": "scattermapbox"
             }
            ],
            "scatterpolar": [
             {
              "marker": {
               "colorbar": {
                "outlinewidth": 0,
                "ticks": ""
               }
              },
              "type": "scatterpolar"
             }
            ],
            "scatterpolargl": [
             {
              "marker": {
               "colorbar": {
                "outlinewidth": 0,
                "ticks": ""
               }
              },
              "type": "scatterpolargl"
             }
            ],
            "scatterternary": [
             {
              "marker": {
               "colorbar": {
                "outlinewidth": 0,
                "ticks": ""
               }
              },
              "type": "scatterternary"
             }
            ],
            "surface": [
             {
              "colorbar": {
               "outlinewidth": 0,
               "ticks": ""
              },
              "colorscale": [
               [
                0,
                "#0d0887"
               ],
               [
                0.1111111111111111,
                "#46039f"
               ],
               [
                0.2222222222222222,
                "#7201a8"
               ],
               [
                0.3333333333333333,
                "#9c179e"
               ],
               [
                0.4444444444444444,
                "#bd3786"
               ],
               [
                0.5555555555555556,
                "#d8576b"
               ],
               [
                0.6666666666666666,
                "#ed7953"
               ],
               [
                0.7777777777777778,
                "#fb9f3a"
               ],
               [
                0.8888888888888888,
                "#fdca26"
               ],
               [
                1,
                "#f0f921"
               ]
              ],
              "type": "surface"
             }
            ],
            "table": [
             {
              "cells": {
               "fill": {
                "color": "#EBF0F8"
               },
               "line": {
                "color": "white"
               }
              },
              "header": {
               "fill": {
                "color": "#C8D4E3"
               },
               "line": {
                "color": "white"
               }
              },
              "type": "table"
             }
            ]
           },
           "layout": {
            "annotationdefaults": {
             "arrowcolor": "#2a3f5f",
             "arrowhead": 0,
             "arrowwidth": 1
            },
            "autotypenumbers": "strict",
            "coloraxis": {
             "colorbar": {
              "outlinewidth": 0,
              "ticks": ""
             }
            },
            "colorscale": {
             "diverging": [
              [
               0,
               "#8e0152"
              ],
              [
               0.1,
               "#c51b7d"
              ],
              [
               0.2,
               "#de77ae"
              ],
              [
               0.3,
               "#f1b6da"
              ],
              [
               0.4,
               "#fde0ef"
              ],
              [
               0.5,
               "#f7f7f7"
              ],
              [
               0.6,
               "#e6f5d0"
              ],
              [
               0.7,
               "#b8e186"
              ],
              [
               0.8,
               "#7fbc41"
              ],
              [
               0.9,
               "#4d9221"
              ],
              [
               1,
               "#276419"
              ]
             ],
             "sequential": [
              [
               0,
               "#0d0887"
              ],
              [
               0.1111111111111111,
               "#46039f"
              ],
              [
               0.2222222222222222,
               "#7201a8"
              ],
              [
               0.3333333333333333,
               "#9c179e"
              ],
              [
               0.4444444444444444,
               "#bd3786"
              ],
              [
               0.5555555555555556,
               "#d8576b"
              ],
              [
               0.6666666666666666,
               "#ed7953"
              ],
              [
               0.7777777777777778,
               "#fb9f3a"
              ],
              [
               0.8888888888888888,
               "#fdca26"
              ],
              [
               1,
               "#f0f921"
              ]
             ],
             "sequentialminus": [
              [
               0,
               "#0d0887"
              ],
              [
               0.1111111111111111,
               "#46039f"
              ],
              [
               0.2222222222222222,
               "#7201a8"
              ],
              [
               0.3333333333333333,
               "#9c179e"
              ],
              [
               0.4444444444444444,
               "#bd3786"
              ],
              [
               0.5555555555555556,
               "#d8576b"
              ],
              [
               0.6666666666666666,
               "#ed7953"
              ],
              [
               0.7777777777777778,
               "#fb9f3a"
              ],
              [
               0.8888888888888888,
               "#fdca26"
              ],
              [
               1,
               "#f0f921"
              ]
             ]
            },
            "colorway": [
             "#636efa",
             "#EF553B",
             "#00cc96",
             "#ab63fa",
             "#FFA15A",
             "#19d3f3",
             "#FF6692",
             "#B6E880",
             "#FF97FF",
             "#FECB52"
            ],
            "font": {
             "color": "#2a3f5f"
            },
            "geo": {
             "bgcolor": "white",
             "lakecolor": "white",
             "landcolor": "white",
             "showlakes": true,
             "showland": true,
             "subunitcolor": "#C8D4E3"
            },
            "hoverlabel": {
             "align": "left"
            },
            "hovermode": "closest",
            "mapbox": {
             "style": "light"
            },
            "paper_bgcolor": "white",
            "plot_bgcolor": "white",
            "polar": {
             "angularaxis": {
              "gridcolor": "#EBF0F8",
              "linecolor": "#EBF0F8",
              "ticks": ""
             },
             "bgcolor": "white",
             "radialaxis": {
              "gridcolor": "#EBF0F8",
              "linecolor": "#EBF0F8",
              "ticks": ""
             }
            },
            "scene": {
             "xaxis": {
              "backgroundcolor": "white",
              "gridcolor": "#DFE8F3",
              "gridwidth": 2,
              "linecolor": "#EBF0F8",
              "showbackground": true,
              "ticks": "",
              "zerolinecolor": "#EBF0F8"
             },
             "yaxis": {
              "backgroundcolor": "white",
              "gridcolor": "#DFE8F3",
              "gridwidth": 2,
              "linecolor": "#EBF0F8",
              "showbackground": true,
              "ticks": "",
              "zerolinecolor": "#EBF0F8"
             },
             "zaxis": {
              "backgroundcolor": "white",
              "gridcolor": "#DFE8F3",
              "gridwidth": 2,
              "linecolor": "#EBF0F8",
              "showbackground": true,
              "ticks": "",
              "zerolinecolor": "#EBF0F8"
             }
            },
            "shapedefaults": {
             "line": {
              "color": "#2a3f5f"
             }
            },
            "ternary": {
             "aaxis": {
              "gridcolor": "#DFE8F3",
              "linecolor": "#A2B1C6",
              "ticks": ""
             },
             "baxis": {
              "gridcolor": "#DFE8F3",
              "linecolor": "#A2B1C6",
              "ticks": ""
             },
             "bgcolor": "white",
             "caxis": {
              "gridcolor": "#DFE8F3",
              "linecolor": "#A2B1C6",
              "ticks": ""
             }
            },
            "title": {
             "x": 0.05
            },
            "xaxis": {
             "automargin": true,
             "gridcolor": "#EBF0F8",
             "linecolor": "#EBF0F8",
             "ticks": "",
             "title": {
              "standoff": 15
             },
             "zerolinecolor": "#EBF0F8",
             "zerolinewidth": 2
            },
            "yaxis": {
             "automargin": true,
             "gridcolor": "#EBF0F8",
             "linecolor": "#EBF0F8",
             "ticks": "",
             "title": {
              "standoff": 15
             },
             "zerolinecolor": "#EBF0F8",
             "zerolinewidth": 2
            }
           }
          },
          "title": {
           "font": {
            "color": "black",
            "family": "Arial",
            "size": 20,
            "weight": "bold"
           },
           "x": 0.05,
           "xanchor": "left",
           "y": 0.91
          },
          "xaxis": {
           "showgrid": false,
           "tickfont": {
            "color": "grey",
            "size": 12
           },
           "ticklabelposition": "outside bottom",
           "title": {
            "font": {
             "color": "grey",
             "size": 13,
             "weight": "bold"
            },
            "standoff": 15
           },
           "zerolinecolor": "lightgrey"
          },
          "yaxis": {
           "gridcolor": "lightgrey",
           "showgrid": true,
           "tickfont": {
            "color": "grey",
            "size": 12
           },
           "ticklabelposition": "outside left",
           "title": {
            "font": {
             "color": "grey",
             "size": 13,
             "weight": "bold"
            },
            "standoff": 15
           },
           "zerolinecolor": "lightgrey"
          }
         }
        },
        "title": {
         "text": "Studierendenverteilung nach Studiengang und Abschluss (2024)"
        },
        "width": 1200
       }
      }
     },
     "metadata": {},
     "output_type": "display_data"
    }
   ],
   "source": [
    "import plotly.express as px\n",
    "\n",
    "\n",
    "df_2024 = cleaned_sheets[\"2024\"]\n",
    "\n",
    "# Studiengänge automatisch erkennen (Bachelor und Master)\n",
    "bachelor_studiengaenge = [col for col in df_2024.columns if \"Bachelor\" in col]\n",
    "master_studiengaenge = [col for col in df_2024.columns if \"Master\" in col]\n",
    "\n",
    "# Extrahiere die Anzahl der Studierenden pro Studiengang\n",
    "studiengang_verteilung = df_2024[df_2024[\"Category\"] == \"Anzahl Studierende\"][bachelor_studiengaenge + master_studiengaenge].T\n",
    "studiengang_verteilung.columns = [\"Anzahl Studierende\"]\n",
    "studiengang_verteilung[\"Studiengang\"] = studiengang_verteilung.index\n",
    "\n",
    "# Hinzufügen der übergeordneten Kategorie (\"Bachelor\" oder \"Master\")\n",
    "studiengang_verteilung[\"Studienabschluss\"] = studiengang_verteilung[\"Studiengang\"].apply(\n",
    "    lambda x: \"Bachelor\" if \"Bachelor\" in x else \"Master\"\n",
    ")\n",
    "\n",
    "\n",
    "\n",
    "\n",
    "# Farbkodierung für Studiengänge:  \n",
    "# Bachelor-Studiengänge erhalten Farben aus \"Set1\", Master-Studiengänge aus \"Set2\"\n",
    "bachelor_colors = px.colors.qualitative.Safe\n",
    "master_colors = px.colors.qualitative.Safe\n",
    "\n",
    "# Erstellen einer Farbkodierung für jeden Studiengang\n",
    "color_map = {}\n",
    "bachelor_count = 0\n",
    "master_count = 0\n",
    "\n",
    "for studiengang in studiengang_verteilung[\"Studiengang\"]:\n",
    "    if \"Bachelor\" in studiengang:\n",
    "        color_map[studiengang] = bachelor_colors[bachelor_count % len(bachelor_colors)]\n",
    "        bachelor_count += 1\n",
    "    else:\n",
    "        color_map[studiengang] = master_colors[master_count % len(master_colors)]\n",
    "        master_count += 1\n",
    "\n",
    "# Entferne \"Bachelor\" und \"Master\" aus den Studiengangsnamen\n",
    "studiengang_verteilung[\"Studiengang\"] = studiengang_verteilung[\"Studiengang\"].str.replace(\"Bachelor \", \"\", regex=False)\n",
    "studiengang_verteilung[\"Studiengang\"] = studiengang_verteilung[\"Studiengang\"].str.replace(\"Master \", \"\", regex=False)\n",
    "\n",
    "# Treemap erstellen\n",
    "fig = px.treemap(\n",
    "    studiengang_verteilung,\n",
    "    path=[\"Studienabschluss\", \"Studiengang\"],  # Erstes Level: Bachelor/Master, Zweites Level: Studiengang\n",
    "    values=\"Anzahl Studierende\",\n",
    "    title=\"Studierendenverteilung nach Studiengang und Abschluss (2024)\",\n",
    "    color=\"Studiengang\",  # Jeder Studiengang bekommt eine eigene Farbe\n",
    "    color_discrete_map=color_map,\n",
    "    template=\"infoviz\"\n",
    ")\n",
    "\n",
    "# Schriftgrößen anpassen\n",
    "fig.update_layout(\n",
    "    font=dict(size=18),  # Generelle Schriftgröße anpassen\n",
    ")\n",
    "\n",
    "# Schriftgröße für Labels innerhalb der Treemap anpassen\n",
    "fig.update_traces(\n",
    "    textinfo=\"label+value\",  # Zeigt den Namen und die Anzahl an\n",
    "    textfont=dict(size=18, color=\"black\", weight=\"bold\"),  # Größe der Texte innerhalb der Treemap\n",
    ")\n",
    "fig.update_layout(\n",
    "    width=1200,  # Breite in Pixeln\n",
    "    height=800   # Höhe in Pixeln\n",
    ")\n",
    "\n",
    "fig.show()"
   ]
  },
  {
   "cell_type": "code",
   "execution_count": 45,
   "metadata": {},
   "outputs": [
    {
     "data": {
      "application/vnd.plotly.v1+json": {
       "config": {
        "plotlyServerURL": "https://plot.ly"
       },
       "data": [
        {
         "hovertemplate": "Studiengang=%{x}<br>Anzahl Studierende=%{y}<extra></extra>",
         "legendgroup": "",
         "marker": {
          "color": "rgb(136, 204, 238)",
          "pattern": {
           "shape": ""
          }
         },
         "name": "",
         "orientation": "v",
         "showlegend": false,
         "textposition": "auto",
         "type": "bar",
         "x": [
          "Bachelor Ernährungswissenschaften",
          "Bachelor Ökotrophologie",
          "Master Ernährungswissenschaften",
          "Bachelor Agrarwissenschaften",
          "Master Transition Management",
          "Master Ökotrophologie",
          "Master Agrobiotechnologie",
          "Bachelor Umwelt und globaler Wandel",
          "Master Insect Biotechnology and Bioresources",
          "Bachelor Nachwachsende Rohstoffe und Bioressourcen",
          "Master Nutzpflanzenwissenschaften",
          "Master Sustainable Transition",
          "Master Agrar- und Ressourcenökonomie",
          "Master Nachhaltige Ernährungswirtschaft",
          "Master Nutztierwissenschaften*",
          "Master Oenologie/Weinwirtschaft*",
          "Master Getränketechnologie*",
          "Master Informationstechnologie in den Agrar- und Umweltwissenschaften*",
          "Master Umweltwissenschaften"
         ],
         "xaxis": "x",
         "y": [
          493,
          429,
          338,
          293,
          192,
          152,
          139,
          116,
          81,
          69,
          65,
          59,
          53,
          51,
          41,
          32,
          26,
          13,
          13
         ],
         "yaxis": "y"
        }
       ],
       "layout": {
        "barmode": "relative",
        "legend": {
         "tracegroupgap": 0
        },
        "template": {
         "layout": {
          "template": {
           "data": {
            "bar": [
             {
              "error_x": {
               "color": "#2a3f5f"
              },
              "error_y": {
               "color": "#2a3f5f"
              },
              "marker": {
               "line": {
                "color": "white",
                "width": 0.5
               },
               "pattern": {
                "fillmode": "overlay",
                "size": 10,
                "solidity": 0.2
               }
              },
              "type": "bar"
             }
            ],
            "barpolar": [
             {
              "marker": {
               "line": {
                "color": "white",
                "width": 0.5
               },
               "pattern": {
                "fillmode": "overlay",
                "size": 10,
                "solidity": 0.2
               }
              },
              "type": "barpolar"
             }
            ],
            "carpet": [
             {
              "aaxis": {
               "endlinecolor": "#2a3f5f",
               "gridcolor": "#C8D4E3",
               "linecolor": "#C8D4E3",
               "minorgridcolor": "#C8D4E3",
               "startlinecolor": "#2a3f5f"
              },
              "baxis": {
               "endlinecolor": "#2a3f5f",
               "gridcolor": "#C8D4E3",
               "linecolor": "#C8D4E3",
               "minorgridcolor": "#C8D4E3",
               "startlinecolor": "#2a3f5f"
              },
              "type": "carpet"
             }
            ],
            "choropleth": [
             {
              "colorbar": {
               "outlinewidth": 0,
               "ticks": ""
              },
              "type": "choropleth"
             }
            ],
            "contour": [
             {
              "colorbar": {
               "outlinewidth": 0,
               "ticks": ""
              },
              "colorscale": [
               [
                0,
                "#0d0887"
               ],
               [
                0.1111111111111111,
                "#46039f"
               ],
               [
                0.2222222222222222,
                "#7201a8"
               ],
               [
                0.3333333333333333,
                "#9c179e"
               ],
               [
                0.4444444444444444,
                "#bd3786"
               ],
               [
                0.5555555555555556,
                "#d8576b"
               ],
               [
                0.6666666666666666,
                "#ed7953"
               ],
               [
                0.7777777777777778,
                "#fb9f3a"
               ],
               [
                0.8888888888888888,
                "#fdca26"
               ],
               [
                1,
                "#f0f921"
               ]
              ],
              "type": "contour"
             }
            ],
            "contourcarpet": [
             {
              "colorbar": {
               "outlinewidth": 0,
               "ticks": ""
              },
              "type": "contourcarpet"
             }
            ],
            "heatmap": [
             {
              "colorbar": {
               "outlinewidth": 0,
               "ticks": ""
              },
              "colorscale": [
               [
                0,
                "#0d0887"
               ],
               [
                0.1111111111111111,
                "#46039f"
               ],
               [
                0.2222222222222222,
                "#7201a8"
               ],
               [
                0.3333333333333333,
                "#9c179e"
               ],
               [
                0.4444444444444444,
                "#bd3786"
               ],
               [
                0.5555555555555556,
                "#d8576b"
               ],
               [
                0.6666666666666666,
                "#ed7953"
               ],
               [
                0.7777777777777778,
                "#fb9f3a"
               ],
               [
                0.8888888888888888,
                "#fdca26"
               ],
               [
                1,
                "#f0f921"
               ]
              ],
              "type": "heatmap"
             }
            ],
            "histogram": [
             {
              "marker": {
               "pattern": {
                "fillmode": "overlay",
                "size": 10,
                "solidity": 0.2
               }
              },
              "type": "histogram"
             }
            ],
            "histogram2d": [
             {
              "colorbar": {
               "outlinewidth": 0,
               "ticks": ""
              },
              "colorscale": [
               [
                0,
                "#0d0887"
               ],
               [
                0.1111111111111111,
                "#46039f"
               ],
               [
                0.2222222222222222,
                "#7201a8"
               ],
               [
                0.3333333333333333,
                "#9c179e"
               ],
               [
                0.4444444444444444,
                "#bd3786"
               ],
               [
                0.5555555555555556,
                "#d8576b"
               ],
               [
                0.6666666666666666,
                "#ed7953"
               ],
               [
                0.7777777777777778,
                "#fb9f3a"
               ],
               [
                0.8888888888888888,
                "#fdca26"
               ],
               [
                1,
                "#f0f921"
               ]
              ],
              "type": "histogram2d"
             }
            ],
            "histogram2dcontour": [
             {
              "colorbar": {
               "outlinewidth": 0,
               "ticks": ""
              },
              "colorscale": [
               [
                0,
                "#0d0887"
               ],
               [
                0.1111111111111111,
                "#46039f"
               ],
               [
                0.2222222222222222,
                "#7201a8"
               ],
               [
                0.3333333333333333,
                "#9c179e"
               ],
               [
                0.4444444444444444,
                "#bd3786"
               ],
               [
                0.5555555555555556,
                "#d8576b"
               ],
               [
                0.6666666666666666,
                "#ed7953"
               ],
               [
                0.7777777777777778,
                "#fb9f3a"
               ],
               [
                0.8888888888888888,
                "#fdca26"
               ],
               [
                1,
                "#f0f921"
               ]
              ],
              "type": "histogram2dcontour"
             }
            ],
            "mesh3d": [
             {
              "colorbar": {
               "outlinewidth": 0,
               "ticks": ""
              },
              "type": "mesh3d"
             }
            ],
            "parcoords": [
             {
              "line": {
               "colorbar": {
                "outlinewidth": 0,
                "ticks": ""
               }
              },
              "type": "parcoords"
             }
            ],
            "pie": [
             {
              "automargin": true,
              "type": "pie"
             }
            ],
            "scatter": [
             {
              "fillpattern": {
               "fillmode": "overlay",
               "size": 10,
               "solidity": 0.2
              },
              "type": "scatter"
             }
            ],
            "scatter3d": [
             {
              "line": {
               "colorbar": {
                "outlinewidth": 0,
                "ticks": ""
               }
              },
              "marker": {
               "colorbar": {
                "outlinewidth": 0,
                "ticks": ""
               }
              },
              "type": "scatter3d"
             }
            ],
            "scattercarpet": [
             {
              "marker": {
               "colorbar": {
                "outlinewidth": 0,
                "ticks": ""
               }
              },
              "type": "scattercarpet"
             }
            ],
            "scattergeo": [
             {
              "marker": {
               "colorbar": {
                "outlinewidth": 0,
                "ticks": ""
               }
              },
              "type": "scattergeo"
             }
            ],
            "scattergl": [
             {
              "marker": {
               "colorbar": {
                "outlinewidth": 0,
                "ticks": ""
               }
              },
              "type": "scattergl"
             }
            ],
            "scattermap": [
             {
              "marker": {
               "colorbar": {
                "outlinewidth": 0,
                "ticks": ""
               }
              },
              "type": "scattermap"
             }
            ],
            "scattermapbox": [
             {
              "marker": {
               "colorbar": {
                "outlinewidth": 0,
                "ticks": ""
               }
              },
              "type": "scattermapbox"
             }
            ],
            "scatterpolar": [
             {
              "marker": {
               "colorbar": {
                "outlinewidth": 0,
                "ticks": ""
               }
              },
              "type": "scatterpolar"
             }
            ],
            "scatterpolargl": [
             {
              "marker": {
               "colorbar": {
                "outlinewidth": 0,
                "ticks": ""
               }
              },
              "type": "scatterpolargl"
             }
            ],
            "scatterternary": [
             {
              "marker": {
               "colorbar": {
                "outlinewidth": 0,
                "ticks": ""
               }
              },
              "type": "scatterternary"
             }
            ],
            "surface": [
             {
              "colorbar": {
               "outlinewidth": 0,
               "ticks": ""
              },
              "colorscale": [
               [
                0,
                "#0d0887"
               ],
               [
                0.1111111111111111,
                "#46039f"
               ],
               [
                0.2222222222222222,
                "#7201a8"
               ],
               [
                0.3333333333333333,
                "#9c179e"
               ],
               [
                0.4444444444444444,
                "#bd3786"
               ],
               [
                0.5555555555555556,
                "#d8576b"
               ],
               [
                0.6666666666666666,
                "#ed7953"
               ],
               [
                0.7777777777777778,
                "#fb9f3a"
               ],
               [
                0.8888888888888888,
                "#fdca26"
               ],
               [
                1,
                "#f0f921"
               ]
              ],
              "type": "surface"
             }
            ],
            "table": [
             {
              "cells": {
               "fill": {
                "color": "#EBF0F8"
               },
               "line": {
                "color": "white"
               }
              },
              "header": {
               "fill": {
                "color": "#C8D4E3"
               },
               "line": {
                "color": "white"
               }
              },
              "type": "table"
             }
            ]
           },
           "layout": {
            "annotationdefaults": {
             "arrowcolor": "#2a3f5f",
             "arrowhead": 0,
             "arrowwidth": 1
            },
            "autotypenumbers": "strict",
            "coloraxis": {
             "colorbar": {
              "outlinewidth": 0,
              "ticks": ""
             }
            },
            "colorscale": {
             "diverging": [
              [
               0,
               "#8e0152"
              ],
              [
               0.1,
               "#c51b7d"
              ],
              [
               0.2,
               "#de77ae"
              ],
              [
               0.3,
               "#f1b6da"
              ],
              [
               0.4,
               "#fde0ef"
              ],
              [
               0.5,
               "#f7f7f7"
              ],
              [
               0.6,
               "#e6f5d0"
              ],
              [
               0.7,
               "#b8e186"
              ],
              [
               0.8,
               "#7fbc41"
              ],
              [
               0.9,
               "#4d9221"
              ],
              [
               1,
               "#276419"
              ]
             ],
             "sequential": [
              [
               0,
               "#0d0887"
              ],
              [
               0.1111111111111111,
               "#46039f"
              ],
              [
               0.2222222222222222,
               "#7201a8"
              ],
              [
               0.3333333333333333,
               "#9c179e"
              ],
              [
               0.4444444444444444,
               "#bd3786"
              ],
              [
               0.5555555555555556,
               "#d8576b"
              ],
              [
               0.6666666666666666,
               "#ed7953"
              ],
              [
               0.7777777777777778,
               "#fb9f3a"
              ],
              [
               0.8888888888888888,
               "#fdca26"
              ],
              [
               1,
               "#f0f921"
              ]
             ],
             "sequentialminus": [
              [
               0,
               "#0d0887"
              ],
              [
               0.1111111111111111,
               "#46039f"
              ],
              [
               0.2222222222222222,
               "#7201a8"
              ],
              [
               0.3333333333333333,
               "#9c179e"
              ],
              [
               0.4444444444444444,
               "#bd3786"
              ],
              [
               0.5555555555555556,
               "#d8576b"
              ],
              [
               0.6666666666666666,
               "#ed7953"
              ],
              [
               0.7777777777777778,
               "#fb9f3a"
              ],
              [
               0.8888888888888888,
               "#fdca26"
              ],
              [
               1,
               "#f0f921"
              ]
             ]
            },
            "colorway": [
             "#636efa",
             "#EF553B",
             "#00cc96",
             "#ab63fa",
             "#FFA15A",
             "#19d3f3",
             "#FF6692",
             "#B6E880",
             "#FF97FF",
             "#FECB52"
            ],
            "font": {
             "color": "#2a3f5f"
            },
            "geo": {
             "bgcolor": "white",
             "lakecolor": "white",
             "landcolor": "white",
             "showlakes": true,
             "showland": true,
             "subunitcolor": "#C8D4E3"
            },
            "hoverlabel": {
             "align": "left"
            },
            "hovermode": "closest",
            "mapbox": {
             "style": "light"
            },
            "paper_bgcolor": "white",
            "plot_bgcolor": "white",
            "polar": {
             "angularaxis": {
              "gridcolor": "#EBF0F8",
              "linecolor": "#EBF0F8",
              "ticks": ""
             },
             "bgcolor": "white",
             "radialaxis": {
              "gridcolor": "#EBF0F8",
              "linecolor": "#EBF0F8",
              "ticks": ""
             }
            },
            "scene": {
             "xaxis": {
              "backgroundcolor": "white",
              "gridcolor": "#DFE8F3",
              "gridwidth": 2,
              "linecolor": "#EBF0F8",
              "showbackground": true,
              "ticks": "",
              "zerolinecolor": "#EBF0F8"
             },
             "yaxis": {
              "backgroundcolor": "white",
              "gridcolor": "#DFE8F3",
              "gridwidth": 2,
              "linecolor": "#EBF0F8",
              "showbackground": true,
              "ticks": "",
              "zerolinecolor": "#EBF0F8"
             },
             "zaxis": {
              "backgroundcolor": "white",
              "gridcolor": "#DFE8F3",
              "gridwidth": 2,
              "linecolor": "#EBF0F8",
              "showbackground": true,
              "ticks": "",
              "zerolinecolor": "#EBF0F8"
             }
            },
            "shapedefaults": {
             "line": {
              "color": "#2a3f5f"
             }
            },
            "ternary": {
             "aaxis": {
              "gridcolor": "#DFE8F3",
              "linecolor": "#A2B1C6",
              "ticks": ""
             },
             "baxis": {
              "gridcolor": "#DFE8F3",
              "linecolor": "#A2B1C6",
              "ticks": ""
             },
             "bgcolor": "white",
             "caxis": {
              "gridcolor": "#DFE8F3",
              "linecolor": "#A2B1C6",
              "ticks": ""
             }
            },
            "title": {
             "x": 0.05
            },
            "xaxis": {
             "automargin": true,
             "gridcolor": "#EBF0F8",
             "linecolor": "#EBF0F8",
             "ticks": "",
             "title": {
              "standoff": 15
             },
             "zerolinecolor": "#EBF0F8",
             "zerolinewidth": 2
            },
            "yaxis": {
             "automargin": true,
             "gridcolor": "#EBF0F8",
             "linecolor": "#EBF0F8",
             "ticks": "",
             "title": {
              "standoff": 15
             },
             "zerolinecolor": "#EBF0F8",
             "zerolinewidth": 2
            }
           }
          },
          "title": {
           "font": {
            "color": "black",
            "family": "Arial",
            "size": 20,
            "weight": "bold"
           },
           "x": 0.05,
           "xanchor": "left",
           "y": 0.91
          },
          "xaxis": {
           "showgrid": false,
           "tickfont": {
            "color": "grey",
            "size": 12
           },
           "ticklabelposition": "outside bottom",
           "title": {
            "font": {
             "color": "grey",
             "size": 13,
             "weight": "bold"
            },
            "standoff": 15
           },
           "zerolinecolor": "lightgrey"
          },
          "yaxis": {
           "gridcolor": "lightgrey",
           "showgrid": true,
           "tickfont": {
            "color": "grey",
            "size": 12
           },
           "ticklabelposition": "outside left",
           "title": {
            "font": {
             "color": "grey",
             "size": 13,
             "weight": "bold"
            },
            "standoff": 15
           },
           "zerolinecolor": "lightgrey"
          }
         }
        },
        "title": {
         "text": "Studierendenverteilung nach Studiengang (2024)"
        },
        "xaxis": {
         "anchor": "y",
         "domain": [
          0,
          1
         ],
         "title": {
          "text": "Studiengang"
         }
        },
        "yaxis": {
         "anchor": "x",
         "domain": [
          0,
          1
         ],
         "title": {
          "text": "Anzahl Studierende"
         }
        }
       }
      }
     },
     "metadata": {},
     "output_type": "display_data"
    }
   ],
   "source": [
    "# Treemap erstellen\n",
    "fig = px.bar(\n",
    "    studiengang_verteilung.sort_values(by=\"Anzahl Studierende\", ascending=False),\n",
    "    x=\"Studiengang\",\n",
    "    y=\"Anzahl Studierende\",\n",
    "    title=\"Studierendenverteilung nach Studiengang (2024)\",\n",
    "    color_discrete_sequence=px.colors.qualitative.Safe,\n",
    "    template=\"infoviz\"\n",
    ")\n",
    "\n",
    "fig.show()"
   ]
  },
  {
   "cell_type": "code",
   "execution_count": 41,
   "metadata": {},
   "outputs": [
    {
     "ename": "ValueError",
     "evalue": "\n    Invalid value of type 'builtins.str' received for the 'shapes' property of layout\n        Received value: 'remainder'\n\n    The 'shapes' property is a tuple of instances of\n    Shape that may be specified as:\n      - A list or tuple of instances of plotly.graph_objs.layout.Shape\n      - A list or tuple of dicts of string/value properties that\n        will be passed to the Shape constructor\n\n        Supported dict properties:\n            \n            editable\n                Determines whether the shape could be activated\n                for edit or not. Has no effect when the older\n                editable shapes mode is enabled via\n                `config.editable` or\n                `config.edits.shapePosition`.\n            fillcolor\n                Sets the color filling the shape's interior.\n                Only applies to closed shapes.\n            fillrule\n                Determines which regions of complex paths\n                constitute the interior. For more info please\n                visit https://developer.mozilla.org/en-\n                US/docs/Web/SVG/Attribute/fill-rule\n            label\n                :class:`plotly.graph_objects.layout.shape.Label\n                ` instance or dict with compatible properties\n            layer\n                Specifies whether shapes are drawn below\n                gridlines (\"below\"), between gridlines and\n                traces (\"between\") or above traces (\"above\").\n            legend\n                Sets the reference to a legend to show this\n                shape in. References to these legends are\n                \"legend\", \"legend2\", \"legend3\", etc. Settings\n                for these legends are set in the layout, under\n                `layout.legend`, `layout.legend2`, etc.\n            legendgroup\n                Sets the legend group for this shape. Traces\n                and shapes part of the same legend group\n                hide/show at the same time when toggling legend\n                items.\n            legendgrouptitle\n                :class:`plotly.graph_objects.layout.shape.Legen\n                dgrouptitle` instance or dict with compatible\n                properties\n            legendrank\n                Sets the legend rank for this shape. Items and\n                groups with smaller ranks are presented on\n                top/left side while with \"reversed\"\n                `legend.traceorder` they are on bottom/right\n                side. The default legendrank is 1000, so that\n                you can use ranks less than 1000 to place\n                certain items before all unranked items, and\n                ranks greater than 1000 to go after all\n                unranked items. When having unranked or equal\n                rank items shapes would be displayed after\n                traces i.e. according to their order in data\n                and layout.\n            legendwidth\n                Sets the width (in px or fraction) of the\n                legend for this shape.\n            line\n                :class:`plotly.graph_objects.layout.shape.Line`\n                instance or dict with compatible properties\n            name\n                When used in a template, named items are\n                created in the output figure in addition to any\n                items the figure already has in this array. You\n                can modify these items in the output figure by\n                making your own item with `templateitemname`\n                matching this `name` alongside your\n                modifications (including `visible: false` or\n                `enabled: false` to hide it). Has no effect\n                outside of a template.\n            opacity\n                Sets the opacity of the shape.\n            path\n                For `type` \"path\" - a valid SVG path with the\n                pixel values replaced by data values in\n                `xsizemode`/`ysizemode` being \"scaled\" and\n                taken unmodified as pixels relative to\n                `xanchor` and `yanchor` in case of \"pixel\" size\n                mode. There are a few restrictions / quirks\n                only absolute instructions, not relative. So\n                the allowed segments are: M, L, H, V, Q, C, T,\n                S, and Z arcs (A) are not allowed because\n                radius rx and ry are relative. In the future we\n                could consider supporting relative commands,\n                but we would have to decide on how to handle\n                date and log axes. Note that even as is, Q and\n                C Bezier paths that are smooth on linear axes\n                may not be smooth on log, and vice versa. no\n                chained \"polybezier\" commands - specify the\n                segment type for each one. On category axes,\n                values are numbers scaled to the serial numbers\n                of categories because using the categories\n                themselves there would be no way to describe\n                fractional positions On data axes: because\n                space and T are both normal components of path\n                strings, we can't use either to separate date\n                from time parts. Therefore we'll use underscore\n                for this purpose: 2015-02-21_13:45:56.789\n            showlegend\n                Determines whether or not this shape is shown\n                in the legend.\n            templateitemname\n                Used to refer to a named item in this array in\n                the template. Named items from the template\n                will be created even without a matching item in\n                the input figure, but you can modify one by\n                making an item with `templateitemname` matching\n                its `name`, alongside your modifications\n                (including `visible: false` or `enabled: false`\n                to hide it). If there is no template or no\n                matching item, this item will be hidden unless\n                you explicitly show it with `visible: true`.\n            type\n                Specifies the shape type to be drawn. If\n                \"line\", a line is drawn from (`x0`,`y0`) to\n                (`x1`,`y1`) with respect to the axes' sizing\n                mode. If \"circle\", a circle is drawn from\n                ((`x0`+`x1`)/2, (`y0`+`y1`)/2)) with radius\n                (|(`x0`+`x1`)/2 - `x0`|, |(`y0`+`y1`)/2\n                -`y0`)|) with respect to the axes' sizing mode.\n                If \"rect\", a rectangle is drawn linking\n                (`x0`,`y0`), (`x1`,`y0`), (`x1`,`y1`),\n                (`x0`,`y1`), (`x0`,`y0`) with respect to the\n                axes' sizing mode. If \"path\", draw a custom SVG\n                path using `path`. with respect to the axes'\n                sizing mode.\n            visible\n                Determines whether or not this shape is\n                visible. If \"legendonly\", the shape is not\n                drawn, but can appear as a legend item\n                (provided that the legend itself is visible).\n            x0\n                Sets the shape's starting x position. See\n                `type` and `xsizemode` for more info.\n            x0shift\n                Shifts `x0` away from the center of the\n                category when `xref` is a \"category\" or\n                \"multicategory\" axis. -0.5 corresponds to the\n                start of the category and 0.5 corresponds to\n                the end of the category.\n            x1\n                Sets the shape's end x position. See `type` and\n                `xsizemode` for more info.\n            x1shift\n                Shifts `x1` away from the center of the\n                category when `xref` is a \"category\" or\n                \"multicategory\" axis. -0.5 corresponds to the\n                start of the category and 0.5 corresponds to\n                the end of the category.\n            xanchor\n                Only relevant in conjunction with `xsizemode`\n                set to \"pixel\". Specifies the anchor point on\n                the x axis to which `x0`, `x1` and x\n                coordinates within `path` are relative to. E.g.\n                useful to attach a pixel sized shape to a\n                certain data value. No effect when `xsizemode`\n                not set to \"pixel\".\n            xref\n                Sets the shape's x coordinate axis. If set to a\n                x axis id (e.g. \"x\" or \"x2\"), the `x` position\n                refers to a x coordinate. If set to \"paper\",\n                the `x` position refers to the distance from\n                the left of the plotting area in normalized\n                coordinates where 0 (1) corresponds to the left\n                (right). If set to a x axis ID followed by\n                \"domain\" (separated by a space), the position\n                behaves like for \"paper\", but refers to the\n                distance in fractions of the domain length from\n                the left of the domain of that axis: e.g., *x2\n                domain* refers to the domain of the second x\n                axis and a x position of 0.5 refers to the\n                point between the left and the right of the\n                domain of the second x axis.\n            xsizemode\n                Sets the shapes's sizing mode along the x axis.\n                If set to \"scaled\", `x0`, `x1` and x\n                coordinates within `path` refer to data values\n                on the x axis or a fraction of the plot area's\n                width (`xref` set to \"paper\"). If set to\n                \"pixel\", `xanchor` specifies the x position in\n                terms of data or plot fraction but `x0`, `x1`\n                and x coordinates within `path` are pixels\n                relative to `xanchor`. This way, the shape can\n                have a fixed width while maintaining a position\n                relative to data or plot fraction.\n            y0\n                Sets the shape's starting y position. See\n                `type` and `ysizemode` for more info.\n            y0shift\n                Shifts `y0` away from the center of the\n                category when `yref` is a \"category\" or\n                \"multicategory\" axis. -0.5 corresponds to the\n                start of the category and 0.5 corresponds to\n                the end of the category.\n            y1\n                Sets the shape's end y position. See `type` and\n                `ysizemode` for more info.\n            y1shift\n                Shifts `y1` away from the center of the\n                category when `yref` is a \"category\" or\n                \"multicategory\" axis. -0.5 corresponds to the\n                start of the category and 0.5 corresponds to\n                the end of the category.\n            yanchor\n                Only relevant in conjunction with `ysizemode`\n                set to \"pixel\". Specifies the anchor point on\n                the y axis to which `y0`, `y1` and y\n                coordinates within `path` are relative to. E.g.\n                useful to attach a pixel sized shape to a\n                certain data value. No effect when `ysizemode`\n                not set to \"pixel\".\n            yref\n                Sets the shape's y coordinate axis. If set to a\n                y axis id (e.g. \"y\" or \"y2\"), the `y` position\n                refers to a y coordinate. If set to \"paper\",\n                the `y` position refers to the distance from\n                the bottom of the plotting area in normalized\n                coordinates where 0 (1) corresponds to the\n                bottom (top). If set to a y axis ID followed by\n                \"domain\" (separated by a space), the position\n                behaves like for \"paper\", but refers to the\n                distance in fractions of the domain length from\n                the bottom of the domain of that axis: e.g.,\n                *y2 domain* refers to the domain of the second\n                y  axis and a y position of 0.5 refers to the\n                point between the bottom and the top of the\n                domain of the second y axis.\n            ysizemode\n                Sets the shapes's sizing mode along the y axis.\n                If set to \"scaled\", `y0`, `y1` and y\n                coordinates within `path` refer to data values\n                on the y axis or a fraction of the plot area's\n                height (`yref` set to \"paper\"). If set to\n                \"pixel\", `yanchor` specifies the y position in\n                terms of data or plot fraction but `y0`, `y1`\n                and y coordinates within `path` are pixels\n                relative to `yanchor`. This way, the shape can\n                have a fixed height while maintaining a\n                position relative to data or plot fraction.\n",
     "output_type": "error",
     "traceback": [
      "\u001b[31m---------------------------------------------------------------------------\u001b[39m",
      "\u001b[31mValueError\u001b[39m                                Traceback (most recent call last)",
      "\u001b[36mCell\u001b[39m\u001b[36m \u001b[39m\u001b[32mIn[41]\u001b[39m\u001b[32m, line 12\u001b[39m\n\u001b[32m      1\u001b[39m fig = px.treemap(\n\u001b[32m      2\u001b[39m     studiengang_verteilung,\n\u001b[32m      3\u001b[39m     path=[\u001b[33m\"\u001b[39m\u001b[33mStudiengang\u001b[39m\u001b[33m\"\u001b[39m],\n\u001b[32m   (...)\u001b[39m\u001b[32m      8\u001b[39m     template=\u001b[33m\"\u001b[39m\u001b[33minfoviz\u001b[39m\u001b[33m\"\u001b[39m\n\u001b[32m      9\u001b[39m )\n\u001b[32m     11\u001b[39m \u001b[38;5;66;03m# Anpassungen für Form & Layout\u001b[39;00m\n\u001b[32m---> \u001b[39m\u001b[32m12\u001b[39m \u001b[43mfig\u001b[49m\u001b[43m.\u001b[49m\u001b[43mupdate_layout\u001b[49m\u001b[43m(\u001b[49m\n\u001b[32m     13\u001b[39m \u001b[43m    \u001b[49m\u001b[43mshapes\u001b[49m\u001b[43m=\u001b[49m\u001b[33;43m\"\u001b[39;49m\u001b[33;43mremainder\u001b[39;49m\u001b[33;43m\"\u001b[39;49m\u001b[43m,\u001b[49m\n\u001b[32m     14\u001b[39m \u001b[43m    \u001b[49m\u001b[43mmargin\u001b[49m\u001b[43m=\u001b[49m\u001b[38;5;28;43mdict\u001b[39;49m\u001b[43m(\u001b[49m\u001b[43mt\u001b[49m\u001b[43m=\u001b[49m\u001b[32;43m50\u001b[39;49m\u001b[43m,\u001b[49m\u001b[43m \u001b[49m\u001b[43ml\u001b[49m\u001b[43m=\u001b[49m\u001b[32;43m25\u001b[39;49m\u001b[43m,\u001b[49m\u001b[43m \u001b[49m\u001b[43mr\u001b[49m\u001b[43m=\u001b[49m\u001b[32;43m25\u001b[39;49m\u001b[43m,\u001b[49m\u001b[43m \u001b[49m\u001b[43mb\u001b[49m\u001b[43m=\u001b[49m\u001b[32;43m25\u001b[39;49m\u001b[43m)\u001b[49m\n\u001b[32m     15\u001b[39m \u001b[43m)\u001b[49m\n\u001b[32m     17\u001b[39m fig.update_traces(\n\u001b[32m     18\u001b[39m     tiling=\u001b[38;5;28mdict\u001b[39m(packing=\u001b[33m\"\u001b[39m\u001b[33msquarify\u001b[39m\u001b[33m\"\u001b[39m),\n\u001b[32m     19\u001b[39m     marker=\u001b[38;5;28mdict\u001b[39m(pad=\u001b[32m5\u001b[39m, line=\u001b[38;5;28mdict\u001b[39m(width=\u001b[32m2\u001b[39m, color=\u001b[33m\"\u001b[39m\u001b[33mwhite\u001b[39m\u001b[33m\"\u001b[39m))\n\u001b[32m     20\u001b[39m )\n\u001b[32m     22\u001b[39m fig.show()\n",
      "\u001b[36mFile \u001b[39m\u001b[32m~/Projects/infoviz/.venv/lib/python3.12/site-packages/plotly/graph_objs/_figure.py:787\u001b[39m, in \u001b[36mFigure.update_layout\u001b[39m\u001b[34m(self, dict1, overwrite, **kwargs)\u001b[39m\n\u001b[32m    761\u001b[39m \u001b[38;5;28;01mdef\u001b[39;00m\u001b[38;5;250m \u001b[39m\u001b[34mupdate_layout\u001b[39m(\u001b[38;5;28mself\u001b[39m, dict1=\u001b[38;5;28;01mNone\u001b[39;00m, overwrite=\u001b[38;5;28;01mFalse\u001b[39;00m, **kwargs) -> \u001b[33m\"\u001b[39m\u001b[33mFigure\u001b[39m\u001b[33m\"\u001b[39m:\n\u001b[32m    762\u001b[39m \u001b[38;5;250m    \u001b[39m\u001b[33;03m\"\"\"\u001b[39;00m\n\u001b[32m    763\u001b[39m \n\u001b[32m    764\u001b[39m \u001b[33;03m    Update the properties of the figure's layout with a dict and/or with\u001b[39;00m\n\u001b[32m   (...)\u001b[39m\u001b[32m    785\u001b[39m \n\u001b[32m    786\u001b[39m \u001b[33;03m    \"\"\"\u001b[39;00m\n\u001b[32m--> \u001b[39m\u001b[32m787\u001b[39m     \u001b[38;5;28;01mreturn\u001b[39;00m \u001b[38;5;28;43msuper\u001b[39;49m\u001b[43m(\u001b[49m\u001b[43mFigure\u001b[49m\u001b[43m,\u001b[49m\u001b[43m \u001b[49m\u001b[38;5;28;43mself\u001b[39;49m\u001b[43m)\u001b[49m\u001b[43m.\u001b[49m\u001b[43mupdate_layout\u001b[49m\u001b[43m(\u001b[49m\u001b[43mdict1\u001b[49m\u001b[43m,\u001b[49m\u001b[43m \u001b[49m\u001b[43moverwrite\u001b[49m\u001b[43m,\u001b[49m\u001b[43m \u001b[49m\u001b[43m*\u001b[49m\u001b[43m*\u001b[49m\u001b[43mkwargs\u001b[49m\u001b[43m)\u001b[49m\n",
      "\u001b[36mFile \u001b[39m\u001b[32m~/Projects/infoviz/.venv/lib/python3.12/site-packages/plotly/basedatatypes.py:1392\u001b[39m, in \u001b[36mBaseFigure.update_layout\u001b[39m\u001b[34m(self, dict1, overwrite, **kwargs)\u001b[39m\n\u001b[32m   1368\u001b[39m \u001b[38;5;28;01mdef\u001b[39;00m\u001b[38;5;250m \u001b[39m\u001b[34mupdate_layout\u001b[39m(\u001b[38;5;28mself\u001b[39m, dict1=\u001b[38;5;28;01mNone\u001b[39;00m, overwrite=\u001b[38;5;28;01mFalse\u001b[39;00m, **kwargs):\n\u001b[32m   1369\u001b[39m \u001b[38;5;250m    \u001b[39m\u001b[33;03m\"\"\"\u001b[39;00m\n\u001b[32m   1370\u001b[39m \u001b[33;03m    Update the properties of the figure's layout with a dict and/or with\u001b[39;00m\n\u001b[32m   1371\u001b[39m \u001b[33;03m    keyword arguments.\u001b[39;00m\n\u001b[32m   (...)\u001b[39m\u001b[32m   1390\u001b[39m \u001b[33;03m        The Figure object that the update_layout method was called on\u001b[39;00m\n\u001b[32m   1391\u001b[39m \u001b[33;03m    \"\"\"\u001b[39;00m\n\u001b[32m-> \u001b[39m\u001b[32m1392\u001b[39m     \u001b[38;5;28;43mself\u001b[39;49m\u001b[43m.\u001b[49m\u001b[43mlayout\u001b[49m\u001b[43m.\u001b[49m\u001b[43mupdate\u001b[49m\u001b[43m(\u001b[49m\u001b[43mdict1\u001b[49m\u001b[43m,\u001b[49m\u001b[43m \u001b[49m\u001b[43moverwrite\u001b[49m\u001b[43m=\u001b[49m\u001b[43moverwrite\u001b[49m\u001b[43m,\u001b[49m\u001b[43m \u001b[49m\u001b[43m*\u001b[49m\u001b[43m*\u001b[49m\u001b[43mkwargs\u001b[49m\u001b[43m)\u001b[49m\n\u001b[32m   1393\u001b[39m     \u001b[38;5;28;01mreturn\u001b[39;00m \u001b[38;5;28mself\u001b[39m\n",
      "\u001b[36mFile \u001b[39m\u001b[32m~/Projects/infoviz/.venv/lib/python3.12/site-packages/plotly/basedatatypes.py:5123\u001b[39m, in \u001b[36mBasePlotlyType.update\u001b[39m\u001b[34m(self, dict1, overwrite, **kwargs)\u001b[39m\n\u001b[32m   5121\u001b[39m     \u001b[38;5;28;01mwith\u001b[39;00m \u001b[38;5;28mself\u001b[39m.figure.batch_update():\n\u001b[32m   5122\u001b[39m         BaseFigure._perform_update(\u001b[38;5;28mself\u001b[39m, dict1, overwrite=overwrite)\n\u001b[32m-> \u001b[39m\u001b[32m5123\u001b[39m         \u001b[43mBaseFigure\u001b[49m\u001b[43m.\u001b[49m\u001b[43m_perform_update\u001b[49m\u001b[43m(\u001b[49m\u001b[38;5;28;43mself\u001b[39;49m\u001b[43m,\u001b[49m\u001b[43m \u001b[49m\u001b[43mkwargs\u001b[49m\u001b[43m,\u001b[49m\u001b[43m \u001b[49m\u001b[43moverwrite\u001b[49m\u001b[43m=\u001b[49m\u001b[43moverwrite\u001b[49m\u001b[43m)\u001b[49m\n\u001b[32m   5124\u001b[39m \u001b[38;5;28;01melse\u001b[39;00m:\n\u001b[32m   5125\u001b[39m     BaseFigure._perform_update(\u001b[38;5;28mself\u001b[39m, dict1, overwrite=overwrite)\n",
      "\u001b[36mFile \u001b[39m\u001b[32m~/Projects/infoviz/.venv/lib/python3.12/site-packages/plotly/basedatatypes.py:3923\u001b[39m, in \u001b[36mBaseFigure._perform_update\u001b[39m\u001b[34m(plotly_obj, update_obj, overwrite)\u001b[39m\n\u001b[32m   3917\u001b[39m             plotly_obj[key] = plotly_obj[key] + \u001b[38;5;28mtuple\u001b[39m(\n\u001b[32m   3918\u001b[39m                 val[\u001b[38;5;28mlen\u001b[39m(plotly_obj[key]) :]\n\u001b[32m   3919\u001b[39m             )\n\u001b[32m   3920\u001b[39m     \u001b[38;5;28;01melse\u001b[39;00m:\n\u001b[32m   3921\u001b[39m         \u001b[38;5;66;03m# plotly_obj is an empty or uninitialized list for key\u001b[39;00m\n\u001b[32m   3922\u001b[39m         \u001b[38;5;66;03m# In this case we accept val as is\u001b[39;00m\n\u001b[32m-> \u001b[39m\u001b[32m3923\u001b[39m         \u001b[43mplotly_obj\u001b[49m\u001b[43m[\u001b[49m\u001b[43mkey\u001b[49m\u001b[43m]\u001b[49m = val\n\u001b[32m   3924\u001b[39m \u001b[38;5;28;01melse\u001b[39;00m:\n\u001b[32m   3925\u001b[39m     \u001b[38;5;66;03m# Assign non-compound value\u001b[39;00m\n\u001b[32m   3926\u001b[39m     plotly_obj[key] = val\n",
      "\u001b[36mFile \u001b[39m\u001b[32m~/Projects/infoviz/.venv/lib/python3.12/site-packages/plotly/basedatatypes.py:5898\u001b[39m, in \u001b[36mBaseLayoutType.__setitem__\u001b[39m\u001b[34m(self, prop, value)\u001b[39m\n\u001b[32m   5895\u001b[39m match = \u001b[38;5;28mself\u001b[39m._subplot_re_match(prop)\n\u001b[32m   5896\u001b[39m \u001b[38;5;28;01mif\u001b[39;00m match \u001b[38;5;129;01mis\u001b[39;00m \u001b[38;5;28;01mNone\u001b[39;00m:\n\u001b[32m   5897\u001b[39m     \u001b[38;5;66;03m# Set as ordinary property\u001b[39;00m\n\u001b[32m-> \u001b[39m\u001b[32m5898\u001b[39m     \u001b[38;5;28;43msuper\u001b[39;49m\u001b[43m(\u001b[49m\u001b[43mBaseLayoutHierarchyType\u001b[49m\u001b[43m,\u001b[49m\u001b[43m \u001b[49m\u001b[38;5;28;43mself\u001b[39;49m\u001b[43m)\u001b[49m\u001b[43m.\u001b[49m\u001b[34;43m__setitem__\u001b[39;49m\u001b[43m(\u001b[49m\u001b[43mprop\u001b[49m\u001b[43m,\u001b[49m\u001b[43m \u001b[49m\u001b[43mvalue\u001b[49m\u001b[43m)\u001b[49m\n\u001b[32m   5899\u001b[39m \u001b[38;5;28;01melse\u001b[39;00m:\n\u001b[32m   5900\u001b[39m     \u001b[38;5;66;03m# Set as subplotid property\u001b[39;00m\n\u001b[32m   5901\u001b[39m     \u001b[38;5;28mself\u001b[39m._set_subplotid_prop(prop, value)\n",
      "\u001b[36mFile \u001b[39m\u001b[32m~/Projects/infoviz/.venv/lib/python3.12/site-packages/plotly/basedatatypes.py:4856\u001b[39m, in \u001b[36mBasePlotlyType.__setitem__\u001b[39m\u001b[34m(self, prop, value)\u001b[39m\n\u001b[32m   4854\u001b[39m \u001b[38;5;66;03m# ### Handle compound array property ###\u001b[39;00m\n\u001b[32m   4855\u001b[39m \u001b[38;5;28;01melif\u001b[39;00m \u001b[38;5;28misinstance\u001b[39m(validator, (CompoundArrayValidator, BaseDataValidator)):\n\u001b[32m-> \u001b[39m\u001b[32m4856\u001b[39m     \u001b[38;5;28;43mself\u001b[39;49m\u001b[43m.\u001b[49m\u001b[43m_set_array_prop\u001b[49m\u001b[43m(\u001b[49m\u001b[43mprop\u001b[49m\u001b[43m,\u001b[49m\u001b[43m \u001b[49m\u001b[43mvalue\u001b[49m\u001b[43m)\u001b[49m\n\u001b[32m   4858\u001b[39m \u001b[38;5;66;03m# ### Handle simple property ###\u001b[39;00m\n\u001b[32m   4859\u001b[39m \u001b[38;5;28;01melse\u001b[39;00m:\n\u001b[32m   4860\u001b[39m     \u001b[38;5;28mself\u001b[39m._set_prop(prop, value)\n",
      "\u001b[36mFile \u001b[39m\u001b[32m~/Projects/infoviz/.venv/lib/python3.12/site-packages/plotly/basedatatypes.py:5337\u001b[39m, in \u001b[36mBasePlotlyType._set_array_prop\u001b[39m\u001b[34m(self, prop, val)\u001b[39m\n\u001b[32m   5334\u001b[39m \u001b[38;5;66;03m# Import value\u001b[39;00m\n\u001b[32m   5335\u001b[39m \u001b[38;5;66;03m# ------------\u001b[39;00m\n\u001b[32m   5336\u001b[39m validator = \u001b[38;5;28mself\u001b[39m._get_validator(prop)\n\u001b[32m-> \u001b[39m\u001b[32m5337\u001b[39m val = \u001b[43mvalidator\u001b[49m\u001b[43m.\u001b[49m\u001b[43mvalidate_coerce\u001b[49m\u001b[43m(\u001b[49m\u001b[43mval\u001b[49m\u001b[43m,\u001b[49m\u001b[43m \u001b[49m\u001b[43mskip_invalid\u001b[49m\u001b[43m=\u001b[49m\u001b[38;5;28;43mself\u001b[39;49m\u001b[43m.\u001b[49m\u001b[43m_skip_invalid\u001b[49m\u001b[43m)\u001b[49m\n\u001b[32m   5339\u001b[39m \u001b[38;5;66;03m# Save deep copies of current and new states\u001b[39;00m\n\u001b[32m   5340\u001b[39m \u001b[38;5;66;03m# ------------------------------------------\u001b[39;00m\n\u001b[32m   5341\u001b[39m curr_val = \u001b[38;5;28mself\u001b[39m._compound_array_props.get(prop, \u001b[38;5;28;01mNone\u001b[39;00m)\n",
      "\u001b[36mFile \u001b[39m\u001b[32m~/Projects/infoviz/.venv/lib/python3.12/site-packages/_plotly_utils/basevalidators.py:2612\u001b[39m, in \u001b[36mCompoundArrayValidator.validate_coerce\u001b[39m\u001b[34m(self, v, skip_invalid)\u001b[39m\n\u001b[32m   2610\u001b[39m         v = []\n\u001b[32m   2611\u001b[39m     \u001b[38;5;28;01melse\u001b[39;00m:\n\u001b[32m-> \u001b[39m\u001b[32m2612\u001b[39m         \u001b[38;5;28;43mself\u001b[39;49m\u001b[43m.\u001b[49m\u001b[43mraise_invalid_val\u001b[49m\u001b[43m(\u001b[49m\u001b[43mv\u001b[49m\u001b[43m)\u001b[49m\n\u001b[32m   2614\u001b[39m \u001b[38;5;28;01mreturn\u001b[39;00m v\n",
      "\u001b[36mFile \u001b[39m\u001b[32m~/Projects/infoviz/.venv/lib/python3.12/site-packages/_plotly_utils/basevalidators.py:299\u001b[39m, in \u001b[36mBaseValidator.raise_invalid_val\u001b[39m\u001b[34m(self, v, inds)\u001b[39m\n\u001b[32m    296\u001b[39m             \u001b[38;5;28;01mfor\u001b[39;00m i \u001b[38;5;129;01min\u001b[39;00m inds:\n\u001b[32m    297\u001b[39m                 name += \u001b[33m\"\u001b[39m\u001b[33m[\u001b[39m\u001b[33m\"\u001b[39m + \u001b[38;5;28mstr\u001b[39m(i) + \u001b[33m\"\u001b[39m\u001b[33m]\u001b[39m\u001b[33m\"\u001b[39m\n\u001b[32m--> \u001b[39m\u001b[32m299\u001b[39m         \u001b[38;5;28;01mraise\u001b[39;00m \u001b[38;5;167;01mValueError\u001b[39;00m(\n\u001b[32m    300\u001b[39m \u001b[38;5;250m            \u001b[39m\u001b[33;03m\"\"\"\u001b[39;00m\n\u001b[32m    301\u001b[39m \u001b[33;03m    Invalid value of type {typ} received for the '{name}' property of {pname}\u001b[39;00m\n\u001b[32m    302\u001b[39m \u001b[33;03m        Received value: {v}\u001b[39;00m\n\u001b[32m    303\u001b[39m \n\u001b[32m    304\u001b[39m \u001b[33;03m{valid_clr_desc}\"\"\"\u001b[39;00m.format(\n\u001b[32m    305\u001b[39m                 name=name,\n\u001b[32m    306\u001b[39m                 pname=\u001b[38;5;28mself\u001b[39m.parent_name,\n\u001b[32m    307\u001b[39m                 typ=type_str(v),\n\u001b[32m    308\u001b[39m                 v=\u001b[38;5;28mrepr\u001b[39m(v),\n\u001b[32m    309\u001b[39m                 valid_clr_desc=\u001b[38;5;28mself\u001b[39m.description(),\n\u001b[32m    310\u001b[39m             )\n\u001b[32m    311\u001b[39m         )\n",
      "\u001b[31mValueError\u001b[39m: \n    Invalid value of type 'builtins.str' received for the 'shapes' property of layout\n        Received value: 'remainder'\n\n    The 'shapes' property is a tuple of instances of\n    Shape that may be specified as:\n      - A list or tuple of instances of plotly.graph_objs.layout.Shape\n      - A list or tuple of dicts of string/value properties that\n        will be passed to the Shape constructor\n\n        Supported dict properties:\n            \n            editable\n                Determines whether the shape could be activated\n                for edit or not. Has no effect when the older\n                editable shapes mode is enabled via\n                `config.editable` or\n                `config.edits.shapePosition`.\n            fillcolor\n                Sets the color filling the shape's interior.\n                Only applies to closed shapes.\n            fillrule\n                Determines which regions of complex paths\n                constitute the interior. For more info please\n                visit https://developer.mozilla.org/en-\n                US/docs/Web/SVG/Attribute/fill-rule\n            label\n                :class:`plotly.graph_objects.layout.shape.Label\n                ` instance or dict with compatible properties\n            layer\n                Specifies whether shapes are drawn below\n                gridlines (\"below\"), between gridlines and\n                traces (\"between\") or above traces (\"above\").\n            legend\n                Sets the reference to a legend to show this\n                shape in. References to these legends are\n                \"legend\", \"legend2\", \"legend3\", etc. Settings\n                for these legends are set in the layout, under\n                `layout.legend`, `layout.legend2`, etc.\n            legendgroup\n                Sets the legend group for this shape. Traces\n                and shapes part of the same legend group\n                hide/show at the same time when toggling legend\n                items.\n            legendgrouptitle\n                :class:`plotly.graph_objects.layout.shape.Legen\n                dgrouptitle` instance or dict with compatible\n                properties\n            legendrank\n                Sets the legend rank for this shape. Items and\n                groups with smaller ranks are presented on\n                top/left side while with \"reversed\"\n                `legend.traceorder` they are on bottom/right\n                side. The default legendrank is 1000, so that\n                you can use ranks less than 1000 to place\n                certain items before all unranked items, and\n                ranks greater than 1000 to go after all\n                unranked items. When having unranked or equal\n                rank items shapes would be displayed after\n                traces i.e. according to their order in data\n                and layout.\n            legendwidth\n                Sets the width (in px or fraction) of the\n                legend for this shape.\n            line\n                :class:`plotly.graph_objects.layout.shape.Line`\n                instance or dict with compatible properties\n            name\n                When used in a template, named items are\n                created in the output figure in addition to any\n                items the figure already has in this array. You\n                can modify these items in the output figure by\n                making your own item with `templateitemname`\n                matching this `name` alongside your\n                modifications (including `visible: false` or\n                `enabled: false` to hide it). Has no effect\n                outside of a template.\n            opacity\n                Sets the opacity of the shape.\n            path\n                For `type` \"path\" - a valid SVG path with the\n                pixel values replaced by data values in\n                `xsizemode`/`ysizemode` being \"scaled\" and\n                taken unmodified as pixels relative to\n                `xanchor` and `yanchor` in case of \"pixel\" size\n                mode. There are a few restrictions / quirks\n                only absolute instructions, not relative. So\n                the allowed segments are: M, L, H, V, Q, C, T,\n                S, and Z arcs (A) are not allowed because\n                radius rx and ry are relative. In the future we\n                could consider supporting relative commands,\n                but we would have to decide on how to handle\n                date and log axes. Note that even as is, Q and\n                C Bezier paths that are smooth on linear axes\n                may not be smooth on log, and vice versa. no\n                chained \"polybezier\" commands - specify the\n                segment type for each one. On category axes,\n                values are numbers scaled to the serial numbers\n                of categories because using the categories\n                themselves there would be no way to describe\n                fractional positions On data axes: because\n                space and T are both normal components of path\n                strings, we can't use either to separate date\n                from time parts. Therefore we'll use underscore\n                for this purpose: 2015-02-21_13:45:56.789\n            showlegend\n                Determines whether or not this shape is shown\n                in the legend.\n            templateitemname\n                Used to refer to a named item in this array in\n                the template. Named items from the template\n                will be created even without a matching item in\n                the input figure, but you can modify one by\n                making an item with `templateitemname` matching\n                its `name`, alongside your modifications\n                (including `visible: false` or `enabled: false`\n                to hide it). If there is no template or no\n                matching item, this item will be hidden unless\n                you explicitly show it with `visible: true`.\n            type\n                Specifies the shape type to be drawn. If\n                \"line\", a line is drawn from (`x0`,`y0`) to\n                (`x1`,`y1`) with respect to the axes' sizing\n                mode. If \"circle\", a circle is drawn from\n                ((`x0`+`x1`)/2, (`y0`+`y1`)/2)) with radius\n                (|(`x0`+`x1`)/2 - `x0`|, |(`y0`+`y1`)/2\n                -`y0`)|) with respect to the axes' sizing mode.\n                If \"rect\", a rectangle is drawn linking\n                (`x0`,`y0`), (`x1`,`y0`), (`x1`,`y1`),\n                (`x0`,`y1`), (`x0`,`y0`) with respect to the\n                axes' sizing mode. If \"path\", draw a custom SVG\n                path using `path`. with respect to the axes'\n                sizing mode.\n            visible\n                Determines whether or not this shape is\n                visible. If \"legendonly\", the shape is not\n                drawn, but can appear as a legend item\n                (provided that the legend itself is visible).\n            x0\n                Sets the shape's starting x position. See\n                `type` and `xsizemode` for more info.\n            x0shift\n                Shifts `x0` away from the center of the\n                category when `xref` is a \"category\" or\n                \"multicategory\" axis. -0.5 corresponds to the\n                start of the category and 0.5 corresponds to\n                the end of the category.\n            x1\n                Sets the shape's end x position. See `type` and\n                `xsizemode` for more info.\n            x1shift\n                Shifts `x1` away from the center of the\n                category when `xref` is a \"category\" or\n                \"multicategory\" axis. -0.5 corresponds to the\n                start of the category and 0.5 corresponds to\n                the end of the category.\n            xanchor\n                Only relevant in conjunction with `xsizemode`\n                set to \"pixel\". Specifies the anchor point on\n                the x axis to which `x0`, `x1` and x\n                coordinates within `path` are relative to. E.g.\n                useful to attach a pixel sized shape to a\n                certain data value. No effect when `xsizemode`\n                not set to \"pixel\".\n            xref\n                Sets the shape's x coordinate axis. If set to a\n                x axis id (e.g. \"x\" or \"x2\"), the `x` position\n                refers to a x coordinate. If set to \"paper\",\n                the `x` position refers to the distance from\n                the left of the plotting area in normalized\n                coordinates where 0 (1) corresponds to the left\n                (right). If set to a x axis ID followed by\n                \"domain\" (separated by a space), the position\n                behaves like for \"paper\", but refers to the\n                distance in fractions of the domain length from\n                the left of the domain of that axis: e.g., *x2\n                domain* refers to the domain of the second x\n                axis and a x position of 0.5 refers to the\n                point between the left and the right of the\n                domain of the second x axis.\n            xsizemode\n                Sets the shapes's sizing mode along the x axis.\n                If set to \"scaled\", `x0`, `x1` and x\n                coordinates within `path` refer to data values\n                on the x axis or a fraction of the plot area's\n                width (`xref` set to \"paper\"). If set to\n                \"pixel\", `xanchor` specifies the x position in\n                terms of data or plot fraction but `x0`, `x1`\n                and x coordinates within `path` are pixels\n                relative to `xanchor`. This way, the shape can\n                have a fixed width while maintaining a position\n                relative to data or plot fraction.\n            y0\n                Sets the shape's starting y position. See\n                `type` and `ysizemode` for more info.\n            y0shift\n                Shifts `y0` away from the center of the\n                category when `yref` is a \"category\" or\n                \"multicategory\" axis. -0.5 corresponds to the\n                start of the category and 0.5 corresponds to\n                the end of the category.\n            y1\n                Sets the shape's end y position. See `type` and\n                `ysizemode` for more info.\n            y1shift\n                Shifts `y1` away from the center of the\n                category when `yref` is a \"category\" or\n                \"multicategory\" axis. -0.5 corresponds to the\n                start of the category and 0.5 corresponds to\n                the end of the category.\n            yanchor\n                Only relevant in conjunction with `ysizemode`\n                set to \"pixel\". Specifies the anchor point on\n                the y axis to which `y0`, `y1` and y\n                coordinates within `path` are relative to. E.g.\n                useful to attach a pixel sized shape to a\n                certain data value. No effect when `ysizemode`\n                not set to \"pixel\".\n            yref\n                Sets the shape's y coordinate axis. If set to a\n                y axis id (e.g. \"y\" or \"y2\"), the `y` position\n                refers to a y coordinate. If set to \"paper\",\n                the `y` position refers to the distance from\n                the bottom of the plotting area in normalized\n                coordinates where 0 (1) corresponds to the\n                bottom (top). If set to a y axis ID followed by\n                \"domain\" (separated by a space), the position\n                behaves like for \"paper\", but refers to the\n                distance in fractions of the domain length from\n                the bottom of the domain of that axis: e.g.,\n                *y2 domain* refers to the domain of the second\n                y  axis and a y position of 0.5 refers to the\n                point between the bottom and the top of the\n                domain of the second y axis.\n            ysizemode\n                Sets the shapes's sizing mode along the y axis.\n                If set to \"scaled\", `y0`, `y1` and y\n                coordinates within `path` refer to data values\n                on the y axis or a fraction of the plot area's\n                height (`yref` set to \"paper\"). If set to\n                \"pixel\", `yanchor` specifies the y position in\n                terms of data or plot fraction but `y0`, `y1`\n                and y coordinates within `path` are pixels\n                relative to `yanchor`. This way, the shape can\n                have a fixed height while maintaining a\n                position relative to data or plot fraction.\n"
     ]
    }
   ],
   "source": [
    "fig = px.treemap(\n",
    "    studiengang_verteilung,\n",
    "    path=[\"Studiengang\"],\n",
    "    values=\"Anzahl Studierende\",\n",
    "    title=\"Studierendenverteilung nach Studiengang (2024)\",\n",
    "    color=\"Studiengang\",\n",
    "    color_discrete_sequence=px.colors.qualitative.Safe,\n",
    "    template=\"infoviz\"\n",
    ")\n",
    "\n",
    "# Anpassungen für Form & Layout\n",
    "fig.update_layout(\n",
    "    shapes=\"remainder\",\n",
    "    margin=dict(t=50, l=25, r=25, b=25)\n",
    ")\n",
    "\n",
    "fig.update_traces(\n",
    "    tiling=dict(packing=\"squarify\"),\n",
    "    marker=dict(pad=5, line=dict(width=2, color=\"white\"))\n",
    ")\n",
    "\n",
    "fig.show()"
   ]
  },
  {
   "cell_type": "code",
   "execution_count": null,
   "metadata": {},
   "outputs": [],
   "source": []
  }
 ],
 "metadata": {
  "kernelspec": {
   "display_name": ".venv",
   "language": "python",
   "name": "python3"
  },
  "language_info": {
   "codemirror_mode": {
    "name": "ipython",
    "version": 3
   },
   "file_extension": ".py",
   "mimetype": "text/x-python",
   "name": "python",
   "nbconvert_exporter": "python",
   "pygments_lexer": "ipython3",
   "version": "3.12.4"
  }
 },
 "nbformat": 4,
 "nbformat_minor": 2
}
