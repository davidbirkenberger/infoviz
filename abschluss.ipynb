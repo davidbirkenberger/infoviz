{
 "cells": [
  {
   "cell_type": "markdown",
   "metadata": {},
   "source": [
    "# Angestrebter Studienabschluss und Fachbereichsgröße"
   ]
  },
  {
   "cell_type": "markdown",
   "metadata": {},
   "source": [
    "## Import Desing-Template"
   ]
  },
  {
   "cell_type": "code",
   "execution_count": null,
   "metadata": {},
   "outputs": [],
   "source": [
    "import plotly.io as pio\n",
    "\n",
    "# Template\n",
    "infoviz_template = dict(\n",
    "    layout=dict(\n",
    "        template=\"plotly_white\",\n",
    "        title=dict(\n",
    "            font=dict(size=20, family=\"Arial\", weight=\"bold\", color=\"black\"),\n",
    "            xanchor=\"left\",  \n",
    "            xref=\"paper\",\n",
    "            x=0,\n",
    "            subtitle=dict(\n",
    "                text=\"\",\n",
    "                font=dict(color=\"gray\", size=13),\n",
    "            ),\n",
    "        ),\n",
    "        xaxis=dict(\n",
    "            showgrid=False,\n",
    "            zerolinecolor=\"lightgrey\",\n",
    "            tickfont=dict(color=\"grey\", size=12),\n",
    "            title_font=dict(color=\"grey\", weight=\"bold\", size=13),\n",
    "            title_standoff=15,\n",
    "            ticklabelstandoff=10,\n",
    "            ticklabelposition=\"outside bottom\"\n",
    "        ),\n",
    "        yaxis=dict(\n",
    "            showgrid=True, gridcolor=\"lightgrey\",\n",
    "            zerolinecolor=\"lightgrey\",\n",
    "            tickfont=dict(color=\"grey\", size=12),\n",
    "            title_font=dict(color=\"grey\", weight=\"bold\", size=13),\n",
    "            title_standoff=15,\n",
    "            ticklabelstandoff=10,\n",
    "            ticklabelposition=\"outside left\"\n",
    "        ),\n",
    "    )\n",
    ")\n",
    "pio.templates[\"infoviz\"] = infoviz_template"
   ]
  },
  {
   "cell_type": "markdown",
   "metadata": {},
   "source": [
    "## Daten einlesen"
   ]
  },
  {
   "cell_type": "code",
   "execution_count": 211,
   "metadata": {},
   "outputs": [],
   "source": [
    "import pandas as pd\n",
    "\n",
    "# Datei einlesen (ersetze 'data.xlsx' durch den tatsächlichen Dateinamen)\n",
    "file_path = \"data.xlsx\"\n",
    "\n",
    "# Alle Sheets einlesen, aber das erste Blatt ignorieren\n",
    "sheets = pd.read_excel(file_path, sheet_name=None, engine=\"openpyxl\")\n",
    "\n",
    "# Erstes Blatt entfernen\n",
    "sheets.pop(next(iter(sheets)))\n",
    "\n",
    "# Container für die bereinigten DataFrames\n",
    "cleaned_sheets = {}\n",
    "\n",
    "# Durch alle Jahre iterieren und DataFrames bereinigen\n",
    "for jahr, df in sheets.items():\n",
    "    df.columns = df.columns.astype(str).str.strip()  # Spaltennamen bereinigen\n",
    "    cleaned_sheets[jahr] = df  # Speichern der bereinigten Daten"
   ]
  },
  {
   "cell_type": "code",
   "execution_count": 212,
   "metadata": {},
   "outputs": [
    {
     "data": {
      "text/html": [
       "<div>\n",
       "<style scoped>\n",
       "    .dataframe tbody tr th:only-of-type {\n",
       "        vertical-align: middle;\n",
       "    }\n",
       "\n",
       "    .dataframe tbody tr th {\n",
       "        vertical-align: top;\n",
       "    }\n",
       "\n",
       "    .dataframe thead th {\n",
       "        text-align: right;\n",
       "    }\n",
       "</style>\n",
       "<table border=\"1\" class=\"dataframe\">\n",
       "  <thead>\n",
       "    <tr style=\"text-align: right;\">\n",
       "      <th></th>\n",
       "      <th>Jahr</th>\n",
       "      <th>Absolute Anzahl Bachelor</th>\n",
       "      <th>Absolute Anzahl Master</th>\n",
       "      <th>Absoluter Rücklauf Bachelor</th>\n",
       "      <th>Absoluter Rücklauf Master</th>\n",
       "      <th>Gesamtzahl Studierende</th>\n",
       "      <th>Gesamter Rücklauf</th>\n",
       "      <th>Gesamte Rücklaufquote</th>\n",
       "      <th>Gesamt nicht teilgenommen</th>\n",
       "      <th>Anteil Bachelor (%)</th>\n",
       "      <th>Anteil Master (%)</th>\n",
       "    </tr>\n",
       "  </thead>\n",
       "  <tbody>\n",
       "    <tr>\n",
       "      <th>0</th>\n",
       "      <td>2013</td>\n",
       "      <td>1406.0</td>\n",
       "      <td>801.0</td>\n",
       "      <td>409.0</td>\n",
       "      <td>231.0</td>\n",
       "      <td>2207.0</td>\n",
       "      <td>640.0</td>\n",
       "      <td>28.998641</td>\n",
       "      <td>1567.0</td>\n",
       "      <td>63.706389</td>\n",
       "      <td>36.293611</td>\n",
       "    </tr>\n",
       "    <tr>\n",
       "      <th>1</th>\n",
       "      <td>2014</td>\n",
       "      <td>1580.0</td>\n",
       "      <td>767.0</td>\n",
       "      <td>453.0</td>\n",
       "      <td>241.0</td>\n",
       "      <td>2347.0</td>\n",
       "      <td>694.0</td>\n",
       "      <td>29.569663</td>\n",
       "      <td>1653.0</td>\n",
       "      <td>67.319983</td>\n",
       "      <td>32.680017</td>\n",
       "    </tr>\n",
       "    <tr>\n",
       "      <th>2</th>\n",
       "      <td>2015</td>\n",
       "      <td>1710.0</td>\n",
       "      <td>747.0</td>\n",
       "      <td>433.0</td>\n",
       "      <td>198.0</td>\n",
       "      <td>2457.0</td>\n",
       "      <td>631.0</td>\n",
       "      <td>25.681726</td>\n",
       "      <td>1826.0</td>\n",
       "      <td>69.597070</td>\n",
       "      <td>30.402930</td>\n",
       "    </tr>\n",
       "    <tr>\n",
       "      <th>3</th>\n",
       "      <td>2016</td>\n",
       "      <td>1795.0</td>\n",
       "      <td>967.0</td>\n",
       "      <td>494.0</td>\n",
       "      <td>205.0</td>\n",
       "      <td>2762.0</td>\n",
       "      <td>699.0</td>\n",
       "      <td>25.307748</td>\n",
       "      <td>2063.0</td>\n",
       "      <td>64.989138</td>\n",
       "      <td>35.010862</td>\n",
       "    </tr>\n",
       "    <tr>\n",
       "      <th>4</th>\n",
       "      <td>2017</td>\n",
       "      <td>1848.0</td>\n",
       "      <td>1236.0</td>\n",
       "      <td>491.0</td>\n",
       "      <td>267.0</td>\n",
       "      <td>3084.0</td>\n",
       "      <td>758.0</td>\n",
       "      <td>24.578470</td>\n",
       "      <td>2326.0</td>\n",
       "      <td>59.922179</td>\n",
       "      <td>40.077821</td>\n",
       "    </tr>\n",
       "  </tbody>\n",
       "</table>\n",
       "</div>"
      ],
      "text/plain": [
       "   Jahr  Absolute Anzahl Bachelor  Absolute Anzahl Master  \\\n",
       "0  2013                    1406.0                   801.0   \n",
       "1  2014                    1580.0                   767.0   \n",
       "2  2015                    1710.0                   747.0   \n",
       "3  2016                    1795.0                   967.0   \n",
       "4  2017                    1848.0                  1236.0   \n",
       "\n",
       "   Absoluter Rücklauf Bachelor  Absoluter Rücklauf Master  \\\n",
       "0                        409.0                      231.0   \n",
       "1                        453.0                      241.0   \n",
       "2                        433.0                      198.0   \n",
       "3                        494.0                      205.0   \n",
       "4                        491.0                      267.0   \n",
       "\n",
       "   Gesamtzahl Studierende  Gesamter Rücklauf  Gesamte Rücklaufquote  \\\n",
       "0                  2207.0              640.0              28.998641   \n",
       "1                  2347.0              694.0              29.569663   \n",
       "2                  2457.0              631.0              25.681726   \n",
       "3                  2762.0              699.0              25.307748   \n",
       "4                  3084.0              758.0              24.578470   \n",
       "\n",
       "   Gesamt nicht teilgenommen  Anteil Bachelor (%)  Anteil Master (%)  \n",
       "0                     1567.0            63.706389          36.293611  \n",
       "1                     1653.0            67.319983          32.680017  \n",
       "2                     1826.0            69.597070          30.402930  \n",
       "3                     2063.0            64.989138          35.010862  \n",
       "4                     2326.0            59.922179          40.077821  "
      ]
     },
     "execution_count": 212,
     "metadata": {},
     "output_type": "execute_result"
    }
   ],
   "source": [
    "abschluss_anteile = {}\n",
    "\n",
    "for jahr, df in cleaned_sheets.items():\n",
    "    # Spalten automatisch nach Bachelor und Master aufteilen\n",
    "    bachelor_columns = [col for col in df.columns if \"Bachelor\" in col]\n",
    "    master_columns = [col for col in df.columns if \"Master\" in col]\n",
    "\n",
    "    # Extrahiere die Gesamtanzahl der Studierenden pro Abschluss\n",
    "    total_bachelor = df.loc[df[\"Category\"] == \"Anzahl Studierende\", bachelor_columns].sum().sum()\n",
    "    total_master = df.loc[df[\"Category\"] == \"Anzahl Studierende\", master_columns].sum().sum()\n",
    "\n",
    "    total_ruecklauf_bachelor = df.loc[df[\"Category\"] == \"Anzahl Teilnahmen an Studierendenbefragung\", bachelor_columns].sum().sum()\n",
    "    total_ruecklauf_master = df.loc[df[\"Category\"] == \"Anzahl Teilnahmen an Studierendenbefragung\", master_columns].sum().sum()\n",
    "\n",
    "    # Prozentanteile berechnen\n",
    "    total_students = total_bachelor + total_master\n",
    "    anteil_bachelor = (total_bachelor / total_students * 100) if total_students > 0 else 0\n",
    "    anteil_master = (total_master / total_students * 100) if total_students > 0 else 0\n",
    "\n",
    "    # Gesamtzahlen berechnen\n",
    "    gesamt_ruecklauf = total_ruecklauf_bachelor + total_ruecklauf_master\n",
    "    gesamt_ruecklaufquote = gesamt_ruecklauf / total_students * 100\n",
    "    nicht_teilgenommen = total_students - gesamt_ruecklauf\n",
    "    \n",
    "\n",
    "    # Ergebnisse speichern\n",
    "    abschluss_anteile[jahr] = {\n",
    "        \"Absolute Anzahl Bachelor\": total_bachelor,\n",
    "        \"Absolute Anzahl Master\": total_master,\n",
    "        \"Absoluter Rücklauf Bachelor\": total_ruecklauf_bachelor,\n",
    "        \"Absoluter Rücklauf Master\": total_ruecklauf_master,\n",
    "        \"Gesamtzahl Studierende\": total_bachelor + total_master,\n",
    "        \"Gesamter Rücklauf\": gesamt_ruecklauf,\n",
    "        \"Gesamte Rücklaufquote\": gesamt_ruecklaufquote,\n",
    "        \"Gesamt nicht teilgenommen\": nicht_teilgenommen,\n",
    "        \"Anteil Bachelor (%)\": anteil_bachelor,\n",
    "        \"Anteil Master (%)\": anteil_master,\n",
    "    }\n",
    "\n",
    "# DataFrame erstellen\n",
    "abschluss_df = pd.DataFrame.from_dict(abschluss_anteile, orient=\"index\").reset_index().rename(columns={\"index\": \"Jahr\"})\n",
    "abschluss_df[\"Jahr\"] = abschluss_df[\"Jahr\"].astype(int)\n",
    "abschluss_df.head()  # Zur Kontrolle anzeigen"
   ]
  },
  {
   "cell_type": "markdown",
   "metadata": {},
   "source": [
    "## Entwicklung aller Abschlüsse"
   ]
  },
  {
   "cell_type": "code",
   "execution_count": 305,
   "metadata": {},
   "outputs": [
    {
     "data": {
      "application/vnd.plotly.v1+json": {
       "config": {
        "plotlyServerURL": "https://plot.ly"
       },
       "data": [
        {
         "hovertemplate": "Jahr=%{x}<br>Gesamte Rücklaufquote=%{y}<extra></extra>",
         "legendgroup": "",
         "line": {
          "color": "rgb(136, 204, 238)",
          "dash": "solid",
          "width": 3
         },
         "marker": {
          "symbol": "circle"
         },
         "mode": "lines+markers",
         "name": "",
         "orientation": "v",
         "showlegend": false,
         "type": "scatter",
         "x": {
          "bdata": "3QfeB98H4AfhB+IH4wfkB+UH5gfnB+gH",
          "dtype": "i2"
         },
         "xaxis": "x",
         "y": {
          "bdata": "XH+K6qb/PEAbGOl11ZE9QOjaA5OFrjlA3LrQkshOOUAWlBaUFpQ4QC1lAxMESjdAOpw2pYWkOkAWEvc5Dtw4QDvCF6irUTlAzB5qOJIvNkDhgw8++KAvQDo9mwqu7TFA",
          "dtype": "f8"
         },
         "yaxis": "y"
        }
       ],
       "layout": {
        "legend": {
         "tracegroupgap": 0
        },
        "template": {
         "layout": {
          "template": {
           "data": {
            "bar": [
             {
              "error_x": {
               "color": "#2a3f5f"
              },
              "error_y": {
               "color": "#2a3f5f"
              },
              "marker": {
               "line": {
                "color": "white",
                "width": 0.5
               },
               "pattern": {
                "fillmode": "overlay",
                "size": 10,
                "solidity": 0.2
               }
              },
              "type": "bar"
             }
            ],
            "barpolar": [
             {
              "marker": {
               "line": {
                "color": "white",
                "width": 0.5
               },
               "pattern": {
                "fillmode": "overlay",
                "size": 10,
                "solidity": 0.2
               }
              },
              "type": "barpolar"
             }
            ],
            "carpet": [
             {
              "aaxis": {
               "endlinecolor": "#2a3f5f",
               "gridcolor": "#C8D4E3",
               "linecolor": "#C8D4E3",
               "minorgridcolor": "#C8D4E3",
               "startlinecolor": "#2a3f5f"
              },
              "baxis": {
               "endlinecolor": "#2a3f5f",
               "gridcolor": "#C8D4E3",
               "linecolor": "#C8D4E3",
               "minorgridcolor": "#C8D4E3",
               "startlinecolor": "#2a3f5f"
              },
              "type": "carpet"
             }
            ],
            "choropleth": [
             {
              "colorbar": {
               "outlinewidth": 0,
               "ticks": ""
              },
              "type": "choropleth"
             }
            ],
            "contour": [
             {
              "colorbar": {
               "outlinewidth": 0,
               "ticks": ""
              },
              "colorscale": [
               [
                0,
                "#0d0887"
               ],
               [
                0.1111111111111111,
                "#46039f"
               ],
               [
                0.2222222222222222,
                "#7201a8"
               ],
               [
                0.3333333333333333,
                "#9c179e"
               ],
               [
                0.4444444444444444,
                "#bd3786"
               ],
               [
                0.5555555555555556,
                "#d8576b"
               ],
               [
                0.6666666666666666,
                "#ed7953"
               ],
               [
                0.7777777777777778,
                "#fb9f3a"
               ],
               [
                0.8888888888888888,
                "#fdca26"
               ],
               [
                1,
                "#f0f921"
               ]
              ],
              "type": "contour"
             }
            ],
            "contourcarpet": [
             {
              "colorbar": {
               "outlinewidth": 0,
               "ticks": ""
              },
              "type": "contourcarpet"
             }
            ],
            "heatmap": [
             {
              "colorbar": {
               "outlinewidth": 0,
               "ticks": ""
              },
              "colorscale": [
               [
                0,
                "#0d0887"
               ],
               [
                0.1111111111111111,
                "#46039f"
               ],
               [
                0.2222222222222222,
                "#7201a8"
               ],
               [
                0.3333333333333333,
                "#9c179e"
               ],
               [
                0.4444444444444444,
                "#bd3786"
               ],
               [
                0.5555555555555556,
                "#d8576b"
               ],
               [
                0.6666666666666666,
                "#ed7953"
               ],
               [
                0.7777777777777778,
                "#fb9f3a"
               ],
               [
                0.8888888888888888,
                "#fdca26"
               ],
               [
                1,
                "#f0f921"
               ]
              ],
              "type": "heatmap"
             }
            ],
            "histogram": [
             {
              "marker": {
               "pattern": {
                "fillmode": "overlay",
                "size": 10,
                "solidity": 0.2
               }
              },
              "type": "histogram"
             }
            ],
            "histogram2d": [
             {
              "colorbar": {
               "outlinewidth": 0,
               "ticks": ""
              },
              "colorscale": [
               [
                0,
                "#0d0887"
               ],
               [
                0.1111111111111111,
                "#46039f"
               ],
               [
                0.2222222222222222,
                "#7201a8"
               ],
               [
                0.3333333333333333,
                "#9c179e"
               ],
               [
                0.4444444444444444,
                "#bd3786"
               ],
               [
                0.5555555555555556,
                "#d8576b"
               ],
               [
                0.6666666666666666,
                "#ed7953"
               ],
               [
                0.7777777777777778,
                "#fb9f3a"
               ],
               [
                0.8888888888888888,
                "#fdca26"
               ],
               [
                1,
                "#f0f921"
               ]
              ],
              "type": "histogram2d"
             }
            ],
            "histogram2dcontour": [
             {
              "colorbar": {
               "outlinewidth": 0,
               "ticks": ""
              },
              "colorscale": [
               [
                0,
                "#0d0887"
               ],
               [
                0.1111111111111111,
                "#46039f"
               ],
               [
                0.2222222222222222,
                "#7201a8"
               ],
               [
                0.3333333333333333,
                "#9c179e"
               ],
               [
                0.4444444444444444,
                "#bd3786"
               ],
               [
                0.5555555555555556,
                "#d8576b"
               ],
               [
                0.6666666666666666,
                "#ed7953"
               ],
               [
                0.7777777777777778,
                "#fb9f3a"
               ],
               [
                0.8888888888888888,
                "#fdca26"
               ],
               [
                1,
                "#f0f921"
               ]
              ],
              "type": "histogram2dcontour"
             }
            ],
            "mesh3d": [
             {
              "colorbar": {
               "outlinewidth": 0,
               "ticks": ""
              },
              "type": "mesh3d"
             }
            ],
            "parcoords": [
             {
              "line": {
               "colorbar": {
                "outlinewidth": 0,
                "ticks": ""
               }
              },
              "type": "parcoords"
             }
            ],
            "pie": [
             {
              "automargin": true,
              "type": "pie"
             }
            ],
            "scatter": [
             {
              "fillpattern": {
               "fillmode": "overlay",
               "size": 10,
               "solidity": 0.2
              },
              "type": "scatter"
             }
            ],
            "scatter3d": [
             {
              "line": {
               "colorbar": {
                "outlinewidth": 0,
                "ticks": ""
               }
              },
              "marker": {
               "colorbar": {
                "outlinewidth": 0,
                "ticks": ""
               }
              },
              "type": "scatter3d"
             }
            ],
            "scattercarpet": [
             {
              "marker": {
               "colorbar": {
                "outlinewidth": 0,
                "ticks": ""
               }
              },
              "type": "scattercarpet"
             }
            ],
            "scattergeo": [
             {
              "marker": {
               "colorbar": {
                "outlinewidth": 0,
                "ticks": ""
               }
              },
              "type": "scattergeo"
             }
            ],
            "scattergl": [
             {
              "marker": {
               "colorbar": {
                "outlinewidth": 0,
                "ticks": ""
               }
              },
              "type": "scattergl"
             }
            ],
            "scattermap": [
             {
              "marker": {
               "colorbar": {
                "outlinewidth": 0,
                "ticks": ""
               }
              },
              "type": "scattermap"
             }
            ],
            "scattermapbox": [
             {
              "marker": {
               "colorbar": {
                "outlinewidth": 0,
                "ticks": ""
               }
              },
              "type": "scattermapbox"
             }
            ],
            "scatterpolar": [
             {
              "marker": {
               "colorbar": {
                "outlinewidth": 0,
                "ticks": ""
               }
              },
              "type": "scatterpolar"
             }
            ],
            "scatterpolargl": [
             {
              "marker": {
               "colorbar": {
                "outlinewidth": 0,
                "ticks": ""
               }
              },
              "type": "scatterpolargl"
             }
            ],
            "scatterternary": [
             {
              "marker": {
               "colorbar": {
                "outlinewidth": 0,
                "ticks": ""
               }
              },
              "type": "scatterternary"
             }
            ],
            "surface": [
             {
              "colorbar": {
               "outlinewidth": 0,
               "ticks": ""
              },
              "colorscale": [
               [
                0,
                "#0d0887"
               ],
               [
                0.1111111111111111,
                "#46039f"
               ],
               [
                0.2222222222222222,
                "#7201a8"
               ],
               [
                0.3333333333333333,
                "#9c179e"
               ],
               [
                0.4444444444444444,
                "#bd3786"
               ],
               [
                0.5555555555555556,
                "#d8576b"
               ],
               [
                0.6666666666666666,
                "#ed7953"
               ],
               [
                0.7777777777777778,
                "#fb9f3a"
               ],
               [
                0.8888888888888888,
                "#fdca26"
               ],
               [
                1,
                "#f0f921"
               ]
              ],
              "type": "surface"
             }
            ],
            "table": [
             {
              "cells": {
               "fill": {
                "color": "#EBF0F8"
               },
               "line": {
                "color": "white"
               }
              },
              "header": {
               "fill": {
                "color": "#C8D4E3"
               },
               "line": {
                "color": "white"
               }
              },
              "type": "table"
             }
            ]
           },
           "layout": {
            "annotationdefaults": {
             "arrowcolor": "#2a3f5f",
             "arrowhead": 0,
             "arrowwidth": 1
            },
            "autotypenumbers": "strict",
            "coloraxis": {
             "colorbar": {
              "outlinewidth": 0,
              "ticks": ""
             }
            },
            "colorscale": {
             "diverging": [
              [
               0,
               "#8e0152"
              ],
              [
               0.1,
               "#c51b7d"
              ],
              [
               0.2,
               "#de77ae"
              ],
              [
               0.3,
               "#f1b6da"
              ],
              [
               0.4,
               "#fde0ef"
              ],
              [
               0.5,
               "#f7f7f7"
              ],
              [
               0.6,
               "#e6f5d0"
              ],
              [
               0.7,
               "#b8e186"
              ],
              [
               0.8,
               "#7fbc41"
              ],
              [
               0.9,
               "#4d9221"
              ],
              [
               1,
               "#276419"
              ]
             ],
             "sequential": [
              [
               0,
               "#0d0887"
              ],
              [
               0.1111111111111111,
               "#46039f"
              ],
              [
               0.2222222222222222,
               "#7201a8"
              ],
              [
               0.3333333333333333,
               "#9c179e"
              ],
              [
               0.4444444444444444,
               "#bd3786"
              ],
              [
               0.5555555555555556,
               "#d8576b"
              ],
              [
               0.6666666666666666,
               "#ed7953"
              ],
              [
               0.7777777777777778,
               "#fb9f3a"
              ],
              [
               0.8888888888888888,
               "#fdca26"
              ],
              [
               1,
               "#f0f921"
              ]
             ],
             "sequentialminus": [
              [
               0,
               "#0d0887"
              ],
              [
               0.1111111111111111,
               "#46039f"
              ],
              [
               0.2222222222222222,
               "#7201a8"
              ],
              [
               0.3333333333333333,
               "#9c179e"
              ],
              [
               0.4444444444444444,
               "#bd3786"
              ],
              [
               0.5555555555555556,
               "#d8576b"
              ],
              [
               0.6666666666666666,
               "#ed7953"
              ],
              [
               0.7777777777777778,
               "#fb9f3a"
              ],
              [
               0.8888888888888888,
               "#fdca26"
              ],
              [
               1,
               "#f0f921"
              ]
             ]
            },
            "colorway": [
             "#636efa",
             "#EF553B",
             "#00cc96",
             "#ab63fa",
             "#FFA15A",
             "#19d3f3",
             "#FF6692",
             "#B6E880",
             "#FF97FF",
             "#FECB52"
            ],
            "font": {
             "color": "#2a3f5f"
            },
            "geo": {
             "bgcolor": "white",
             "lakecolor": "white",
             "landcolor": "white",
             "showlakes": true,
             "showland": true,
             "subunitcolor": "#C8D4E3"
            },
            "hoverlabel": {
             "align": "left"
            },
            "hovermode": "closest",
            "mapbox": {
             "style": "light"
            },
            "paper_bgcolor": "white",
            "plot_bgcolor": "white",
            "polar": {
             "angularaxis": {
              "gridcolor": "#EBF0F8",
              "linecolor": "#EBF0F8",
              "ticks": ""
             },
             "bgcolor": "white",
             "radialaxis": {
              "gridcolor": "#EBF0F8",
              "linecolor": "#EBF0F8",
              "ticks": ""
             }
            },
            "scene": {
             "xaxis": {
              "backgroundcolor": "white",
              "gridcolor": "#DFE8F3",
              "gridwidth": 2,
              "linecolor": "#EBF0F8",
              "showbackground": true,
              "ticks": "",
              "zerolinecolor": "#EBF0F8"
             },
             "yaxis": {
              "backgroundcolor": "white",
              "gridcolor": "#DFE8F3",
              "gridwidth": 2,
              "linecolor": "#EBF0F8",
              "showbackground": true,
              "ticks": "",
              "zerolinecolor": "#EBF0F8"
             },
             "zaxis": {
              "backgroundcolor": "white",
              "gridcolor": "#DFE8F3",
              "gridwidth": 2,
              "linecolor": "#EBF0F8",
              "showbackground": true,
              "ticks": "",
              "zerolinecolor": "#EBF0F8"
             }
            },
            "shapedefaults": {
             "line": {
              "color": "#2a3f5f"
             }
            },
            "ternary": {
             "aaxis": {
              "gridcolor": "#DFE8F3",
              "linecolor": "#A2B1C6",
              "ticks": ""
             },
             "baxis": {
              "gridcolor": "#DFE8F3",
              "linecolor": "#A2B1C6",
              "ticks": ""
             },
             "bgcolor": "white",
             "caxis": {
              "gridcolor": "#DFE8F3",
              "linecolor": "#A2B1C6",
              "ticks": ""
             }
            },
            "title": {
             "x": 0.05
            },
            "xaxis": {
             "automargin": true,
             "gridcolor": "#EBF0F8",
             "linecolor": "#EBF0F8",
             "ticks": "",
             "title": {
              "standoff": 15
             },
             "zerolinecolor": "#EBF0F8",
             "zerolinewidth": 2
            },
            "yaxis": {
             "automargin": true,
             "gridcolor": "#EBF0F8",
             "linecolor": "#EBF0F8",
             "ticks": "",
             "title": {
              "standoff": 15
             },
             "zerolinecolor": "#EBF0F8",
             "zerolinewidth": 2
            }
           }
          },
          "title": {
           "font": {
            "color": "black",
            "family": "Arial",
            "size": 20,
            "weight": "bold"
           },
           "subtitle": {
            "font": {
             "color": "gray",
             "size": 13
            },
            "text": ""
           },
           "x": 0,
           "xanchor": "left",
           "xref": "paper"
          },
          "xaxis": {
           "showgrid": false,
           "tickfont": {
            "color": "grey",
            "size": 12
           },
           "ticklabelposition": "outside bottom",
           "ticklabelstandoff": 10,
           "title": {
            "font": {
             "color": "grey",
             "size": 13,
             "weight": "bold"
            },
            "standoff": 15
           },
           "zerolinecolor": "lightgrey"
          },
          "yaxis": {
           "gridcolor": "lightgrey",
           "showgrid": true,
           "tickfont": {
            "color": "grey",
            "size": 12
           },
           "ticklabelposition": "outside left",
           "ticklabelstandoff": 10,
           "title": {
            "font": {
             "color": "grey",
             "size": 13,
             "weight": "bold"
            },
            "standoff": 15
           },
           "zerolinecolor": "lightgrey"
          }
         }
        },
        "title": {
         "subtitle": {
          "text": "Entwicklung der Studierendenbefragung zwischen 2013 und 2024"
         },
         "text": "<span style='color:#73c6e9;'>Rücklaufquote</span> des Fachbereichs 09 nimmt seit Jahren ab"
        },
        "xaxis": {
         "anchor": "y",
         "domain": [
          0,
          1
         ],
         "dtick": 1,
         "range": [
          2012.9,
          2024.2
         ],
         "title": {
          "text": ""
         }
        },
        "yaxis": {
         "anchor": "x",
         "domain": [
          0,
          1
         ],
         "range": [
          0,
          45
         ],
         "title": {
          "text": "Rücklaufquote %"
         }
        }
       }
      }
     },
     "metadata": {},
     "output_type": "display_data"
    }
   ],
   "source": [
    "import plotly.express as px\n",
    "\n",
    "fig = px.line(\n",
    "    abschluss_df,\n",
    "    x=\"Jahr\",\n",
    "    y=\"Gesamte Rücklaufquote\",\n",
    "    markers=True,\n",
    "    title=\"<span style='color:#73c6e9;'>Rücklaufquote</span> des Fachbereichs 09 nimmt seit Jahren ab\",\n",
    "    subtitle=\"Entwicklung der Studierendenbefragung zwischen 2013 und 2024\",\n",
    "    color_discrete_sequence=px.colors.qualitative.Safe,\n",
    "    template=\"infoviz\"\n",
    ")\n",
    "\n",
    "fig.update_traces(line=dict(width=3)) \n",
    "\n",
    "fig.update_layout(\n",
    "    yaxis=dict(range=[0, 45], title=\"Rücklaufquote %\"),\n",
    "    xaxis=dict(range=[2012.9, 2024.2], dtick=1, title=\"\"),\n",
    ")\n",
    "\n",
    "fig.show()"
   ]
  },
  {
   "cell_type": "code",
   "execution_count": 419,
   "metadata": {},
   "outputs": [
    {
     "data": {
      "application/vnd.plotly.v1+json": {
       "config": {
        "plotlyServerURL": "https://plot.ly"
       },
       "data": [
        {
         "hovertemplate": "variable=Gesamter Rücklauf<br>Jahr=%{x}<br>value=%{y}<extra></extra>",
         "legendgroup": "Gesamter Rücklauf",
         "marker": {
          "color": "rgb(51, 34, 136)",
          "pattern": {
           "shape": ""
          }
         },
         "name": "Gesamter Rücklauf",
         "orientation": "v",
         "showlegend": true,
         "textposition": "auto",
         "type": "bar",
         "x": {
          "bdata": "3QfeB98H4AfhB+IH4wfkB+UH5gfnB+gH",
          "dtype": "i2"
         },
         "xaxis": "x",
         "y": {
          "bdata": "AAAAAAAAhEAAAAAAALCFQAAAAAAAuINAAAAAAADYhUAAAAAAALCHQAAAAAAAcItAAAAAAADAi0AAAAAAAEiKQAAAAAAASItAAAAAAABIh0AAAAAAAFB/QAAAAAAAwH1A",
          "dtype": "f8"
         },
         "yaxis": "y"
        },
        {
         "hovertemplate": "variable=Gesamt nicht teilgenommen<br>Jahr=%{x}<br>value=%{y}<extra></extra>",
         "legendgroup": "Gesamt nicht teilgenommen",
         "marker": {
          "color": "rgb(68, 170, 153)",
          "pattern": {
           "shape": ""
          }
         },
         "name": "Gesamt nicht teilgenommen",
         "orientation": "v",
         "showlegend": true,
         "textposition": "auto",
         "type": "bar",
         "x": {
          "bdata": "3QfeB98H4AfhB+IH4wfkB+UH5gfnB+gH",
          "dtype": "i2"
         },
         "xaxis": "x",
         "y": {
          "bdata": "AAAAAAB8mEAAAAAAANSZQAAAAAAAiJxAAAAAAAAeoEAAAAAAACyiQAAAAAAAmKZAAAAAAAAao0AAAAAAANyjQAAAAAAAHqRAAAAAAABqpEAAAAAAANakQAAAAAAABqFA",
          "dtype": "f8"
         },
         "yaxis": "y"
        }
       ],
       "layout": {
        "barmode": "relative",
        "legend": {
         "title": {
          "text": "variable"
         },
         "tracegroupgap": 0
        },
        "showlegend": false,
        "template": {
         "layout": {
          "template": {
           "data": {
            "bar": [
             {
              "error_x": {
               "color": "#2a3f5f"
              },
              "error_y": {
               "color": "#2a3f5f"
              },
              "marker": {
               "line": {
                "color": "white",
                "width": 0.5
               },
               "pattern": {
                "fillmode": "overlay",
                "size": 10,
                "solidity": 0.2
               }
              },
              "type": "bar"
             }
            ],
            "barpolar": [
             {
              "marker": {
               "line": {
                "color": "white",
                "width": 0.5
               },
               "pattern": {
                "fillmode": "overlay",
                "size": 10,
                "solidity": 0.2
               }
              },
              "type": "barpolar"
             }
            ],
            "carpet": [
             {
              "aaxis": {
               "endlinecolor": "#2a3f5f",
               "gridcolor": "#C8D4E3",
               "linecolor": "#C8D4E3",
               "minorgridcolor": "#C8D4E3",
               "startlinecolor": "#2a3f5f"
              },
              "baxis": {
               "endlinecolor": "#2a3f5f",
               "gridcolor": "#C8D4E3",
               "linecolor": "#C8D4E3",
               "minorgridcolor": "#C8D4E3",
               "startlinecolor": "#2a3f5f"
              },
              "type": "carpet"
             }
            ],
            "choropleth": [
             {
              "colorbar": {
               "outlinewidth": 0,
               "ticks": ""
              },
              "type": "choropleth"
             }
            ],
            "contour": [
             {
              "colorbar": {
               "outlinewidth": 0,
               "ticks": ""
              },
              "colorscale": [
               [
                0,
                "#0d0887"
               ],
               [
                0.1111111111111111,
                "#46039f"
               ],
               [
                0.2222222222222222,
                "#7201a8"
               ],
               [
                0.3333333333333333,
                "#9c179e"
               ],
               [
                0.4444444444444444,
                "#bd3786"
               ],
               [
                0.5555555555555556,
                "#d8576b"
               ],
               [
                0.6666666666666666,
                "#ed7953"
               ],
               [
                0.7777777777777778,
                "#fb9f3a"
               ],
               [
                0.8888888888888888,
                "#fdca26"
               ],
               [
                1,
                "#f0f921"
               ]
              ],
              "type": "contour"
             }
            ],
            "contourcarpet": [
             {
              "colorbar": {
               "outlinewidth": 0,
               "ticks": ""
              },
              "type": "contourcarpet"
             }
            ],
            "heatmap": [
             {
              "colorbar": {
               "outlinewidth": 0,
               "ticks": ""
              },
              "colorscale": [
               [
                0,
                "#0d0887"
               ],
               [
                0.1111111111111111,
                "#46039f"
               ],
               [
                0.2222222222222222,
                "#7201a8"
               ],
               [
                0.3333333333333333,
                "#9c179e"
               ],
               [
                0.4444444444444444,
                "#bd3786"
               ],
               [
                0.5555555555555556,
                "#d8576b"
               ],
               [
                0.6666666666666666,
                "#ed7953"
               ],
               [
                0.7777777777777778,
                "#fb9f3a"
               ],
               [
                0.8888888888888888,
                "#fdca26"
               ],
               [
                1,
                "#f0f921"
               ]
              ],
              "type": "heatmap"
             }
            ],
            "histogram": [
             {
              "marker": {
               "pattern": {
                "fillmode": "overlay",
                "size": 10,
                "solidity": 0.2
               }
              },
              "type": "histogram"
             }
            ],
            "histogram2d": [
             {
              "colorbar": {
               "outlinewidth": 0,
               "ticks": ""
              },
              "colorscale": [
               [
                0,
                "#0d0887"
               ],
               [
                0.1111111111111111,
                "#46039f"
               ],
               [
                0.2222222222222222,
                "#7201a8"
               ],
               [
                0.3333333333333333,
                "#9c179e"
               ],
               [
                0.4444444444444444,
                "#bd3786"
               ],
               [
                0.5555555555555556,
                "#d8576b"
               ],
               [
                0.6666666666666666,
                "#ed7953"
               ],
               [
                0.7777777777777778,
                "#fb9f3a"
               ],
               [
                0.8888888888888888,
                "#fdca26"
               ],
               [
                1,
                "#f0f921"
               ]
              ],
              "type": "histogram2d"
             }
            ],
            "histogram2dcontour": [
             {
              "colorbar": {
               "outlinewidth": 0,
               "ticks": ""
              },
              "colorscale": [
               [
                0,
                "#0d0887"
               ],
               [
                0.1111111111111111,
                "#46039f"
               ],
               [
                0.2222222222222222,
                "#7201a8"
               ],
               [
                0.3333333333333333,
                "#9c179e"
               ],
               [
                0.4444444444444444,
                "#bd3786"
               ],
               [
                0.5555555555555556,
                "#d8576b"
               ],
               [
                0.6666666666666666,
                "#ed7953"
               ],
               [
                0.7777777777777778,
                "#fb9f3a"
               ],
               [
                0.8888888888888888,
                "#fdca26"
               ],
               [
                1,
                "#f0f921"
               ]
              ],
              "type": "histogram2dcontour"
             }
            ],
            "mesh3d": [
             {
              "colorbar": {
               "outlinewidth": 0,
               "ticks": ""
              },
              "type": "mesh3d"
             }
            ],
            "parcoords": [
             {
              "line": {
               "colorbar": {
                "outlinewidth": 0,
                "ticks": ""
               }
              },
              "type": "parcoords"
             }
            ],
            "pie": [
             {
              "automargin": true,
              "type": "pie"
             }
            ],
            "scatter": [
             {
              "fillpattern": {
               "fillmode": "overlay",
               "size": 10,
               "solidity": 0.2
              },
              "type": "scatter"
             }
            ],
            "scatter3d": [
             {
              "line": {
               "colorbar": {
                "outlinewidth": 0,
                "ticks": ""
               }
              },
              "marker": {
               "colorbar": {
                "outlinewidth": 0,
                "ticks": ""
               }
              },
              "type": "scatter3d"
             }
            ],
            "scattercarpet": [
             {
              "marker": {
               "colorbar": {
                "outlinewidth": 0,
                "ticks": ""
               }
              },
              "type": "scattercarpet"
             }
            ],
            "scattergeo": [
             {
              "marker": {
               "colorbar": {
                "outlinewidth": 0,
                "ticks": ""
               }
              },
              "type": "scattergeo"
             }
            ],
            "scattergl": [
             {
              "marker": {
               "colorbar": {
                "outlinewidth": 0,
                "ticks": ""
               }
              },
              "type": "scattergl"
             }
            ],
            "scattermap": [
             {
              "marker": {
               "colorbar": {
                "outlinewidth": 0,
                "ticks": ""
               }
              },
              "type": "scattermap"
             }
            ],
            "scattermapbox": [
             {
              "marker": {
               "colorbar": {
                "outlinewidth": 0,
                "ticks": ""
               }
              },
              "type": "scattermapbox"
             }
            ],
            "scatterpolar": [
             {
              "marker": {
               "colorbar": {
                "outlinewidth": 0,
                "ticks": ""
               }
              },
              "type": "scatterpolar"
             }
            ],
            "scatterpolargl": [
             {
              "marker": {
               "colorbar": {
                "outlinewidth": 0,
                "ticks": ""
               }
              },
              "type": "scatterpolargl"
             }
            ],
            "scatterternary": [
             {
              "marker": {
               "colorbar": {
                "outlinewidth": 0,
                "ticks": ""
               }
              },
              "type": "scatterternary"
             }
            ],
            "surface": [
             {
              "colorbar": {
               "outlinewidth": 0,
               "ticks": ""
              },
              "colorscale": [
               [
                0,
                "#0d0887"
               ],
               [
                0.1111111111111111,
                "#46039f"
               ],
               [
                0.2222222222222222,
                "#7201a8"
               ],
               [
                0.3333333333333333,
                "#9c179e"
               ],
               [
                0.4444444444444444,
                "#bd3786"
               ],
               [
                0.5555555555555556,
                "#d8576b"
               ],
               [
                0.6666666666666666,
                "#ed7953"
               ],
               [
                0.7777777777777778,
                "#fb9f3a"
               ],
               [
                0.8888888888888888,
                "#fdca26"
               ],
               [
                1,
                "#f0f921"
               ]
              ],
              "type": "surface"
             }
            ],
            "table": [
             {
              "cells": {
               "fill": {
                "color": "#EBF0F8"
               },
               "line": {
                "color": "white"
               }
              },
              "header": {
               "fill": {
                "color": "#C8D4E3"
               },
               "line": {
                "color": "white"
               }
              },
              "type": "table"
             }
            ]
           },
           "layout": {
            "annotationdefaults": {
             "arrowcolor": "#2a3f5f",
             "arrowhead": 0,
             "arrowwidth": 1
            },
            "autotypenumbers": "strict",
            "coloraxis": {
             "colorbar": {
              "outlinewidth": 0,
              "ticks": ""
             }
            },
            "colorscale": {
             "diverging": [
              [
               0,
               "#8e0152"
              ],
              [
               0.1,
               "#c51b7d"
              ],
              [
               0.2,
               "#de77ae"
              ],
              [
               0.3,
               "#f1b6da"
              ],
              [
               0.4,
               "#fde0ef"
              ],
              [
               0.5,
               "#f7f7f7"
              ],
              [
               0.6,
               "#e6f5d0"
              ],
              [
               0.7,
               "#b8e186"
              ],
              [
               0.8,
               "#7fbc41"
              ],
              [
               0.9,
               "#4d9221"
              ],
              [
               1,
               "#276419"
              ]
             ],
             "sequential": [
              [
               0,
               "#0d0887"
              ],
              [
               0.1111111111111111,
               "#46039f"
              ],
              [
               0.2222222222222222,
               "#7201a8"
              ],
              [
               0.3333333333333333,
               "#9c179e"
              ],
              [
               0.4444444444444444,
               "#bd3786"
              ],
              [
               0.5555555555555556,
               "#d8576b"
              ],
              [
               0.6666666666666666,
               "#ed7953"
              ],
              [
               0.7777777777777778,
               "#fb9f3a"
              ],
              [
               0.8888888888888888,
               "#fdca26"
              ],
              [
               1,
               "#f0f921"
              ]
             ],
             "sequentialminus": [
              [
               0,
               "#0d0887"
              ],
              [
               0.1111111111111111,
               "#46039f"
              ],
              [
               0.2222222222222222,
               "#7201a8"
              ],
              [
               0.3333333333333333,
               "#9c179e"
              ],
              [
               0.4444444444444444,
               "#bd3786"
              ],
              [
               0.5555555555555556,
               "#d8576b"
              ],
              [
               0.6666666666666666,
               "#ed7953"
              ],
              [
               0.7777777777777778,
               "#fb9f3a"
              ],
              [
               0.8888888888888888,
               "#fdca26"
              ],
              [
               1,
               "#f0f921"
              ]
             ]
            },
            "colorway": [
             "#636efa",
             "#EF553B",
             "#00cc96",
             "#ab63fa",
             "#FFA15A",
             "#19d3f3",
             "#FF6692",
             "#B6E880",
             "#FF97FF",
             "#FECB52"
            ],
            "font": {
             "color": "#2a3f5f"
            },
            "geo": {
             "bgcolor": "white",
             "lakecolor": "white",
             "landcolor": "white",
             "showlakes": true,
             "showland": true,
             "subunitcolor": "#C8D4E3"
            },
            "hoverlabel": {
             "align": "left"
            },
            "hovermode": "closest",
            "mapbox": {
             "style": "light"
            },
            "paper_bgcolor": "white",
            "plot_bgcolor": "white",
            "polar": {
             "angularaxis": {
              "gridcolor": "#EBF0F8",
              "linecolor": "#EBF0F8",
              "ticks": ""
             },
             "bgcolor": "white",
             "radialaxis": {
              "gridcolor": "#EBF0F8",
              "linecolor": "#EBF0F8",
              "ticks": ""
             }
            },
            "scene": {
             "xaxis": {
              "backgroundcolor": "white",
              "gridcolor": "#DFE8F3",
              "gridwidth": 2,
              "linecolor": "#EBF0F8",
              "showbackground": true,
              "ticks": "",
              "zerolinecolor": "#EBF0F8"
             },
             "yaxis": {
              "backgroundcolor": "white",
              "gridcolor": "#DFE8F3",
              "gridwidth": 2,
              "linecolor": "#EBF0F8",
              "showbackground": true,
              "ticks": "",
              "zerolinecolor": "#EBF0F8"
             },
             "zaxis": {
              "backgroundcolor": "white",
              "gridcolor": "#DFE8F3",
              "gridwidth": 2,
              "linecolor": "#EBF0F8",
              "showbackground": true,
              "ticks": "",
              "zerolinecolor": "#EBF0F8"
             }
            },
            "shapedefaults": {
             "line": {
              "color": "#2a3f5f"
             }
            },
            "ternary": {
             "aaxis": {
              "gridcolor": "#DFE8F3",
              "linecolor": "#A2B1C6",
              "ticks": ""
             },
             "baxis": {
              "gridcolor": "#DFE8F3",
              "linecolor": "#A2B1C6",
              "ticks": ""
             },
             "bgcolor": "white",
             "caxis": {
              "gridcolor": "#DFE8F3",
              "linecolor": "#A2B1C6",
              "ticks": ""
             }
            },
            "title": {
             "x": 0.05
            },
            "xaxis": {
             "automargin": true,
             "gridcolor": "#EBF0F8",
             "linecolor": "#EBF0F8",
             "ticks": "",
             "title": {
              "standoff": 15
             },
             "zerolinecolor": "#EBF0F8",
             "zerolinewidth": 2
            },
            "yaxis": {
             "automargin": true,
             "gridcolor": "#EBF0F8",
             "linecolor": "#EBF0F8",
             "ticks": "",
             "title": {
              "standoff": 15
             },
             "zerolinecolor": "#EBF0F8",
             "zerolinewidth": 2
            }
           }
          },
          "title": {
           "font": {
            "color": "black",
            "family": "Arial",
            "size": 20,
            "weight": "bold"
           },
           "subtitle": {
            "font": {
             "color": "gray",
             "size": 13
            },
            "text": ""
           },
           "x": 0,
           "xanchor": "left",
           "xref": "paper"
          },
          "xaxis": {
           "showgrid": false,
           "tickfont": {
            "color": "grey",
            "size": 12
           },
           "ticklabelposition": "outside bottom",
           "ticklabelstandoff": 10,
           "title": {
            "font": {
             "color": "grey",
             "size": 13,
             "weight": "bold"
            },
            "standoff": 15
           },
           "zerolinecolor": "lightgrey"
          },
          "yaxis": {
           "gridcolor": "lightgrey",
           "showgrid": true,
           "tickfont": {
            "color": "grey",
            "size": 12
           },
           "ticklabelposition": "outside left",
           "ticklabelstandoff": 10,
           "title": {
            "font": {
             "color": "grey",
             "size": 13,
             "weight": "bold"
            },
            "standoff": 15
           },
           "zerolinecolor": "lightgrey"
          }
         }
        },
        "title": {
         "subtitle": {
          "text": "Entwicklung der Studierendenbefragung im FB09 zwischen 2013 und 2024"
         },
         "text": "<b>Schrumpfen des Fachbereichs trifft </b><span style='color:rgb(51, 34, 136);'>Teilnehmende</span> <b>und </b><span style='color:rgb(68, 170, 153);'>nicht Teilnehmende</span>"
        },
        "xaxis": {
         "anchor": "y",
         "domain": [
          0,
          1
         ],
         "dtick": 1,
         "title": {
          "text": ""
         }
        },
        "yaxis": {
         "anchor": "x",
         "domain": [
          0,
          1
         ],
         "range": [
          0,
          3600
         ],
         "title": {
          "text": "Anzahl Studierende"
         }
        }
       }
      }
     },
     "metadata": {},
     "output_type": "display_data"
    }
   ],
   "source": [
    "color1, color2 = px.colors.qualitative.Safe[4], px.colors.qualitative.Safe[6]\n",
    "fig = px.bar(\n",
    "    abschluss_df,\n",
    "    x=\"Jahr\",\n",
    "    y=[\"Gesamter Rücklauf\", \"Gesamt nicht teilgenommen\"],\n",
    "    title=rf\"<b>Schrumpfen des Fachbereichs trifft </b><span style='color:{color1};'>Teilnehmende</span> <b>und </b><span style='color:{color2};'>nicht Teilnehmende</span>\",\n",
    "    subtitle=\"Entwicklung der Studierendenbefragung im FB09 zwischen 2013 und 2024\",\n",
    "    color_discrete_sequence=[color1, color2],\n",
    "    template=\"infoviz\"\n",
    ")\n",
    "\n",
    "fig.update_layout(\n",
    "    yaxis=dict(range=[0, 3600], title=\"Anzahl Studierende\"),\n",
    "    xaxis=dict(dtick=1, title=\"\"),\n",
    "    showlegend=False\n",
    ")\n",
    "\n",
    "fig.show()"
   ]
  },
  {
   "cell_type": "markdown",
   "metadata": {},
   "source": [
    "## Abschlussarten"
   ]
  },
  {
   "cell_type": "code",
   "execution_count": 240,
   "metadata": {},
   "outputs": [
    {
     "data": {
      "application/vnd.plotly.v1+json": {
       "config": {
        "plotlyServerURL": "https://plot.ly"
       },
       "data": [
        {
         "hovertemplate": "variable=Absoluter Rücklauf Bachelor<br>Jahr=%{x}<br>value=%{y}<extra></extra>",
         "legendgroup": "Absoluter Rücklauf Bachelor",
         "line": {
          "color": "rgb(136, 204, 238)",
          "dash": "solid",
          "width": 3
         },
         "marker": {
          "symbol": "circle"
         },
         "mode": "lines+markers",
         "name": "Absoluter Rücklauf Bachelor",
         "orientation": "v",
         "showlegend": true,
         "type": "scatter",
         "x": {
          "bdata": "3QfeB98H4AfhB+IH4wfkB+UH5gfnB+gH",
          "dtype": "i2"
         },
         "xaxis": "x",
         "y": {
          "bdata": "AAAAAACQeUAAAAAAAFB8QAAAAAAAEHtAAAAAAADgfkAAAAAAALB+QAAAAAAAsHtAAAAAAAA4gUAAAAAAAKiAQAAAAAAA4IBAAAAAAADgfEAAAAAAAPBwQAAAAAAAYHFA",
          "dtype": "f8"
         },
         "yaxis": "y"
        },
        {
         "hovertemplate": "variable=Absoluter Rücklauf Master<br>Jahr=%{x}<br>value=%{y}<extra></extra>",
         "legendgroup": "Absoluter Rücklauf Master",
         "line": {
          "color": "rgb(204, 102, 119)",
          "dash": "solid",
          "width": 3
         },
         "marker": {
          "symbol": "circle"
         },
         "mode": "lines+markers",
         "name": "Absoluter Rücklauf Master",
         "orientation": "v",
         "showlegend": true,
         "type": "scatter",
         "x": {
          "bdata": "3QfeB98H4AfhB+IH4wfkB+UH5gfnB+gH",
          "dtype": "i2"
         },
         "xaxis": "x",
         "y": {
          "bdata": "AAAAAADgbEAAAAAAACBuQAAAAAAAwGhAAAAAAACgaUAAAAAAALBwQAAAAAAAMHtAAAAAAAAQdUAAAAAAAEBzQAAAAAAA0HRAAAAAAACwcUAAAAAAAMBsQAAAAAAAwGhA",
          "dtype": "f8"
         },
         "yaxis": "y"
        }
       ],
       "layout": {
        "legend": {
         "title": {
          "text": "variable"
         },
         "tracegroupgap": 0
        },
        "showlegend": false,
        "template": {
         "layout": {
          "template": {
           "data": {
            "bar": [
             {
              "error_x": {
               "color": "#2a3f5f"
              },
              "error_y": {
               "color": "#2a3f5f"
              },
              "marker": {
               "line": {
                "color": "white",
                "width": 0.5
               },
               "pattern": {
                "fillmode": "overlay",
                "size": 10,
                "solidity": 0.2
               }
              },
              "type": "bar"
             }
            ],
            "barpolar": [
             {
              "marker": {
               "line": {
                "color": "white",
                "width": 0.5
               },
               "pattern": {
                "fillmode": "overlay",
                "size": 10,
                "solidity": 0.2
               }
              },
              "type": "barpolar"
             }
            ],
            "carpet": [
             {
              "aaxis": {
               "endlinecolor": "#2a3f5f",
               "gridcolor": "#C8D4E3",
               "linecolor": "#C8D4E3",
               "minorgridcolor": "#C8D4E3",
               "startlinecolor": "#2a3f5f"
              },
              "baxis": {
               "endlinecolor": "#2a3f5f",
               "gridcolor": "#C8D4E3",
               "linecolor": "#C8D4E3",
               "minorgridcolor": "#C8D4E3",
               "startlinecolor": "#2a3f5f"
              },
              "type": "carpet"
             }
            ],
            "choropleth": [
             {
              "colorbar": {
               "outlinewidth": 0,
               "ticks": ""
              },
              "type": "choropleth"
             }
            ],
            "contour": [
             {
              "colorbar": {
               "outlinewidth": 0,
               "ticks": ""
              },
              "colorscale": [
               [
                0,
                "#0d0887"
               ],
               [
                0.1111111111111111,
                "#46039f"
               ],
               [
                0.2222222222222222,
                "#7201a8"
               ],
               [
                0.3333333333333333,
                "#9c179e"
               ],
               [
                0.4444444444444444,
                "#bd3786"
               ],
               [
                0.5555555555555556,
                "#d8576b"
               ],
               [
                0.6666666666666666,
                "#ed7953"
               ],
               [
                0.7777777777777778,
                "#fb9f3a"
               ],
               [
                0.8888888888888888,
                "#fdca26"
               ],
               [
                1,
                "#f0f921"
               ]
              ],
              "type": "contour"
             }
            ],
            "contourcarpet": [
             {
              "colorbar": {
               "outlinewidth": 0,
               "ticks": ""
              },
              "type": "contourcarpet"
             }
            ],
            "heatmap": [
             {
              "colorbar": {
               "outlinewidth": 0,
               "ticks": ""
              },
              "colorscale": [
               [
                0,
                "#0d0887"
               ],
               [
                0.1111111111111111,
                "#46039f"
               ],
               [
                0.2222222222222222,
                "#7201a8"
               ],
               [
                0.3333333333333333,
                "#9c179e"
               ],
               [
                0.4444444444444444,
                "#bd3786"
               ],
               [
                0.5555555555555556,
                "#d8576b"
               ],
               [
                0.6666666666666666,
                "#ed7953"
               ],
               [
                0.7777777777777778,
                "#fb9f3a"
               ],
               [
                0.8888888888888888,
                "#fdca26"
               ],
               [
                1,
                "#f0f921"
               ]
              ],
              "type": "heatmap"
             }
            ],
            "histogram": [
             {
              "marker": {
               "pattern": {
                "fillmode": "overlay",
                "size": 10,
                "solidity": 0.2
               }
              },
              "type": "histogram"
             }
            ],
            "histogram2d": [
             {
              "colorbar": {
               "outlinewidth": 0,
               "ticks": ""
              },
              "colorscale": [
               [
                0,
                "#0d0887"
               ],
               [
                0.1111111111111111,
                "#46039f"
               ],
               [
                0.2222222222222222,
                "#7201a8"
               ],
               [
                0.3333333333333333,
                "#9c179e"
               ],
               [
                0.4444444444444444,
                "#bd3786"
               ],
               [
                0.5555555555555556,
                "#d8576b"
               ],
               [
                0.6666666666666666,
                "#ed7953"
               ],
               [
                0.7777777777777778,
                "#fb9f3a"
               ],
               [
                0.8888888888888888,
                "#fdca26"
               ],
               [
                1,
                "#f0f921"
               ]
              ],
              "type": "histogram2d"
             }
            ],
            "histogram2dcontour": [
             {
              "colorbar": {
               "outlinewidth": 0,
               "ticks": ""
              },
              "colorscale": [
               [
                0,
                "#0d0887"
               ],
               [
                0.1111111111111111,
                "#46039f"
               ],
               [
                0.2222222222222222,
                "#7201a8"
               ],
               [
                0.3333333333333333,
                "#9c179e"
               ],
               [
                0.4444444444444444,
                "#bd3786"
               ],
               [
                0.5555555555555556,
                "#d8576b"
               ],
               [
                0.6666666666666666,
                "#ed7953"
               ],
               [
                0.7777777777777778,
                "#fb9f3a"
               ],
               [
                0.8888888888888888,
                "#fdca26"
               ],
               [
                1,
                "#f0f921"
               ]
              ],
              "type": "histogram2dcontour"
             }
            ],
            "mesh3d": [
             {
              "colorbar": {
               "outlinewidth": 0,
               "ticks": ""
              },
              "type": "mesh3d"
             }
            ],
            "parcoords": [
             {
              "line": {
               "colorbar": {
                "outlinewidth": 0,
                "ticks": ""
               }
              },
              "type": "parcoords"
             }
            ],
            "pie": [
             {
              "automargin": true,
              "type": "pie"
             }
            ],
            "scatter": [
             {
              "fillpattern": {
               "fillmode": "overlay",
               "size": 10,
               "solidity": 0.2
              },
              "type": "scatter"
             }
            ],
            "scatter3d": [
             {
              "line": {
               "colorbar": {
                "outlinewidth": 0,
                "ticks": ""
               }
              },
              "marker": {
               "colorbar": {
                "outlinewidth": 0,
                "ticks": ""
               }
              },
              "type": "scatter3d"
             }
            ],
            "scattercarpet": [
             {
              "marker": {
               "colorbar": {
                "outlinewidth": 0,
                "ticks": ""
               }
              },
              "type": "scattercarpet"
             }
            ],
            "scattergeo": [
             {
              "marker": {
               "colorbar": {
                "outlinewidth": 0,
                "ticks": ""
               }
              },
              "type": "scattergeo"
             }
            ],
            "scattergl": [
             {
              "marker": {
               "colorbar": {
                "outlinewidth": 0,
                "ticks": ""
               }
              },
              "type": "scattergl"
             }
            ],
            "scattermap": [
             {
              "marker": {
               "colorbar": {
                "outlinewidth": 0,
                "ticks": ""
               }
              },
              "type": "scattermap"
             }
            ],
            "scattermapbox": [
             {
              "marker": {
               "colorbar": {
                "outlinewidth": 0,
                "ticks": ""
               }
              },
              "type": "scattermapbox"
             }
            ],
            "scatterpolar": [
             {
              "marker": {
               "colorbar": {
                "outlinewidth": 0,
                "ticks": ""
               }
              },
              "type": "scatterpolar"
             }
            ],
            "scatterpolargl": [
             {
              "marker": {
               "colorbar": {
                "outlinewidth": 0,
                "ticks": ""
               }
              },
              "type": "scatterpolargl"
             }
            ],
            "scatterternary": [
             {
              "marker": {
               "colorbar": {
                "outlinewidth": 0,
                "ticks": ""
               }
              },
              "type": "scatterternary"
             }
            ],
            "surface": [
             {
              "colorbar": {
               "outlinewidth": 0,
               "ticks": ""
              },
              "colorscale": [
               [
                0,
                "#0d0887"
               ],
               [
                0.1111111111111111,
                "#46039f"
               ],
               [
                0.2222222222222222,
                "#7201a8"
               ],
               [
                0.3333333333333333,
                "#9c179e"
               ],
               [
                0.4444444444444444,
                "#bd3786"
               ],
               [
                0.5555555555555556,
                "#d8576b"
               ],
               [
                0.6666666666666666,
                "#ed7953"
               ],
               [
                0.7777777777777778,
                "#fb9f3a"
               ],
               [
                0.8888888888888888,
                "#fdca26"
               ],
               [
                1,
                "#f0f921"
               ]
              ],
              "type": "surface"
             }
            ],
            "table": [
             {
              "cells": {
               "fill": {
                "color": "#EBF0F8"
               },
               "line": {
                "color": "white"
               }
              },
              "header": {
               "fill": {
                "color": "#C8D4E3"
               },
               "line": {
                "color": "white"
               }
              },
              "type": "table"
             }
            ]
           },
           "layout": {
            "annotationdefaults": {
             "arrowcolor": "#2a3f5f",
             "arrowhead": 0,
             "arrowwidth": 1
            },
            "autotypenumbers": "strict",
            "coloraxis": {
             "colorbar": {
              "outlinewidth": 0,
              "ticks": ""
             }
            },
            "colorscale": {
             "diverging": [
              [
               0,
               "#8e0152"
              ],
              [
               0.1,
               "#c51b7d"
              ],
              [
               0.2,
               "#de77ae"
              ],
              [
               0.3,
               "#f1b6da"
              ],
              [
               0.4,
               "#fde0ef"
              ],
              [
               0.5,
               "#f7f7f7"
              ],
              [
               0.6,
               "#e6f5d0"
              ],
              [
               0.7,
               "#b8e186"
              ],
              [
               0.8,
               "#7fbc41"
              ],
              [
               0.9,
               "#4d9221"
              ],
              [
               1,
               "#276419"
              ]
             ],
             "sequential": [
              [
               0,
               "#0d0887"
              ],
              [
               0.1111111111111111,
               "#46039f"
              ],
              [
               0.2222222222222222,
               "#7201a8"
              ],
              [
               0.3333333333333333,
               "#9c179e"
              ],
              [
               0.4444444444444444,
               "#bd3786"
              ],
              [
               0.5555555555555556,
               "#d8576b"
              ],
              [
               0.6666666666666666,
               "#ed7953"
              ],
              [
               0.7777777777777778,
               "#fb9f3a"
              ],
              [
               0.8888888888888888,
               "#fdca26"
              ],
              [
               1,
               "#f0f921"
              ]
             ],
             "sequentialminus": [
              [
               0,
               "#0d0887"
              ],
              [
               0.1111111111111111,
               "#46039f"
              ],
              [
               0.2222222222222222,
               "#7201a8"
              ],
              [
               0.3333333333333333,
               "#9c179e"
              ],
              [
               0.4444444444444444,
               "#bd3786"
              ],
              [
               0.5555555555555556,
               "#d8576b"
              ],
              [
               0.6666666666666666,
               "#ed7953"
              ],
              [
               0.7777777777777778,
               "#fb9f3a"
              ],
              [
               0.8888888888888888,
               "#fdca26"
              ],
              [
               1,
               "#f0f921"
              ]
             ]
            },
            "colorway": [
             "#636efa",
             "#EF553B",
             "#00cc96",
             "#ab63fa",
             "#FFA15A",
             "#19d3f3",
             "#FF6692",
             "#B6E880",
             "#FF97FF",
             "#FECB52"
            ],
            "font": {
             "color": "#2a3f5f"
            },
            "geo": {
             "bgcolor": "white",
             "lakecolor": "white",
             "landcolor": "white",
             "showlakes": true,
             "showland": true,
             "subunitcolor": "#C8D4E3"
            },
            "hoverlabel": {
             "align": "left"
            },
            "hovermode": "closest",
            "mapbox": {
             "style": "light"
            },
            "paper_bgcolor": "white",
            "plot_bgcolor": "white",
            "polar": {
             "angularaxis": {
              "gridcolor": "#EBF0F8",
              "linecolor": "#EBF0F8",
              "ticks": ""
             },
             "bgcolor": "white",
             "radialaxis": {
              "gridcolor": "#EBF0F8",
              "linecolor": "#EBF0F8",
              "ticks": ""
             }
            },
            "scene": {
             "xaxis": {
              "backgroundcolor": "white",
              "gridcolor": "#DFE8F3",
              "gridwidth": 2,
              "linecolor": "#EBF0F8",
              "showbackground": true,
              "ticks": "",
              "zerolinecolor": "#EBF0F8"
             },
             "yaxis": {
              "backgroundcolor": "white",
              "gridcolor": "#DFE8F3",
              "gridwidth": 2,
              "linecolor": "#EBF0F8",
              "showbackground": true,
              "ticks": "",
              "zerolinecolor": "#EBF0F8"
             },
             "zaxis": {
              "backgroundcolor": "white",
              "gridcolor": "#DFE8F3",
              "gridwidth": 2,
              "linecolor": "#EBF0F8",
              "showbackground": true,
              "ticks": "",
              "zerolinecolor": "#EBF0F8"
             }
            },
            "shapedefaults": {
             "line": {
              "color": "#2a3f5f"
             }
            },
            "ternary": {
             "aaxis": {
              "gridcolor": "#DFE8F3",
              "linecolor": "#A2B1C6",
              "ticks": ""
             },
             "baxis": {
              "gridcolor": "#DFE8F3",
              "linecolor": "#A2B1C6",
              "ticks": ""
             },
             "bgcolor": "white",
             "caxis": {
              "gridcolor": "#DFE8F3",
              "linecolor": "#A2B1C6",
              "ticks": ""
             }
            },
            "title": {
             "x": 0.05
            },
            "xaxis": {
             "automargin": true,
             "gridcolor": "#EBF0F8",
             "linecolor": "#EBF0F8",
             "ticks": "",
             "title": {
              "standoff": 15
             },
             "zerolinecolor": "#EBF0F8",
             "zerolinewidth": 2
            },
            "yaxis": {
             "automargin": true,
             "gridcolor": "#EBF0F8",
             "linecolor": "#EBF0F8",
             "ticks": "",
             "title": {
              "standoff": 15
             },
             "zerolinecolor": "#EBF0F8",
             "zerolinewidth": 2
            }
           }
          },
          "title": {
           "font": {
            "color": "black",
            "family": "Arial",
            "size": 20,
            "weight": "bold"
           },
           "subtitle": {
            "font": {
             "color": "gray",
             "size": 13
            },
            "text": ""
           },
           "x": 0,
           "xanchor": "left",
           "xref": "paper"
          },
          "xaxis": {
           "showgrid": false,
           "tickfont": {
            "color": "grey",
            "size": 12
           },
           "ticklabelposition": "outside bottom",
           "ticklabelstandoff": 10,
           "title": {
            "font": {
             "color": "grey",
             "size": 13,
             "weight": "bold"
            },
            "standoff": 15
           },
           "zerolinecolor": "lightgrey"
          },
          "yaxis": {
           "gridcolor": "lightgrey",
           "showgrid": true,
           "tickfont": {
            "color": "grey",
            "size": 12
           },
           "ticklabelposition": "outside left",
           "ticklabelstandoff": 10,
           "title": {
            "font": {
             "color": "grey",
             "size": 13,
             "weight": "bold"
            },
            "standoff": 15
           },
           "zerolinecolor": "lightgrey"
          }
         }
        },
        "title": {
         "subtitle": {
          "text": "Entwicklung der Studierendenbefragung im FB09 zwischen 2013 und 2024"
         },
         "text": "<b>Teilnehmeranzahl von </b><span style='color:#73c6e9;'>Bachelor</span> <b>und </b><span style='color:#cc5b6e;'>Master</span> <b>mittlerweile auf ähnlichem Niveau </b>"
        },
        "xaxis": {
         "anchor": "y",
         "domain": [
          0,
          1
         ],
         "dtick": 1,
         "range": [
          2012.9,
          2024.2
         ],
         "title": {
          "text": ""
         }
        },
        "yaxis": {
         "anchor": "x",
         "domain": [
          0,
          1
         ],
         "range": [
          0,
          650
         ],
         "title": {
          "text": "Anzahl Teilnehmende"
         }
        }
       }
      }
     },
     "metadata": {},
     "output_type": "display_data"
    }
   ],
   "source": [
    "fig = px.line(\n",
    "    abschluss_df,\n",
    "    x=\"Jahr\",\n",
    "    y=[\"Absoluter Rücklauf Bachelor\", \"Absoluter Rücklauf Master\"],\n",
    "    markers=True,\n",
    "    title=\"<b>Teilnehmeranzahl von </b><span style='color:#73c6e9;'>Bachelor</span> <b>und </b><span style='color:#cc5b6e;'>Master</span> <b>mittlerweile auf ähnlichem Niveau </b>\",\n",
    "    subtitle=\"Entwicklung der Studierendenbefragung im FB09 zwischen 2013 und 2024\",\n",
    "    color_discrete_sequence=px.colors.qualitative.Safe,\n",
    "    template=\"infoviz\"\n",
    ")\n",
    "\n",
    "fig.update_traces(line=dict(width=3))\n",
    "\n",
    "fig.update_layout(\n",
    "    yaxis=dict(range=[0, 650], title=\"Anzahl Teilnehmende\"),\n",
    "    xaxis=dict(dtick=1, title=\"\", range=[2012.9, 2024.2]),\n",
    "    showlegend=False\n",
    ")\n",
    "\n",
    "fig.show()"
   ]
  },
  {
   "cell_type": "code",
   "execution_count": 304,
   "metadata": {},
   "outputs": [
    {
     "data": {
      "application/vnd.plotly.v1+json": {
       "config": {
        "plotlyServerURL": "https://plot.ly"
       },
       "data": [
        {
         "hovertemplate": "variable=Absolute Anzahl Bachelor<br>Jahr=%{x}<br>value=%{y}<extra></extra>",
         "legendgroup": "Absolute Anzahl Bachelor",
         "line": {
          "color": "rgb(136, 204, 238)",
          "dash": "solid",
          "width": 3
         },
         "marker": {
          "symbol": "circle"
         },
         "mode": "lines+markers",
         "name": "Absolute Anzahl Bachelor",
         "orientation": "v",
         "showlegend": true,
         "type": "scatter",
         "x": {
          "bdata": "3QfeB98H4AfhB+IH4wfkB+UH5gfnB+gH",
          "dtype": "i2"
         },
         "xaxis": "x",
         "y": {
          "bdata": "AAAAAAD4lUAAAAAAALCYQAAAAAAAuJpAAAAAAAAMnEAAAAAAAOCcQAAAAAAAeJ1AAAAAAABgnkAAAAAAAJCfQAAAAAAA6J5AAAAAAABInUAAAAAAANCaQAAAAAAA4JVA",
          "dtype": "f8"
         },
         "yaxis": "y"
        },
        {
         "hovertemplate": "variable=Absolute Anzahl Master<br>Jahr=%{x}<br>value=%{y}<extra></extra>",
         "legendgroup": "Absolute Anzahl Master",
         "line": {
          "color": "rgb(204, 102, 119)",
          "dash": "solid",
          "width": 3
         },
         "marker": {
          "symbol": "circle"
         },
         "mode": "lines+markers",
         "name": "Absolute Anzahl Master",
         "orientation": "v",
         "showlegend": true,
         "type": "scatter",
         "x": {
          "bdata": "3QfeB98H4AfhB+IH4wfkB+UH5gfnB+gH",
          "dtype": "i2"
         },
         "xaxis": "x",
         "y": {
          "bdata": "AAAAAAAIiUAAAAAAAPiHQAAAAAAAWIdAAAAAAAA4jkAAAAAAAFCTQAAAAAAAcJ1AAAAAAAC0lUAAAAAAAEyVQAAAAAAA+JZAAAAAAAAwl0AAAAAAALCWQAAAAAAAnJNA",
          "dtype": "f8"
         },
         "yaxis": "y"
        }
       ],
       "layout": {
        "legend": {
         "title": {
          "text": "variable"
         },
         "tracegroupgap": 0
        },
        "showlegend": false,
        "template": {
         "layout": {
          "template": {
           "data": {
            "bar": [
             {
              "error_x": {
               "color": "#2a3f5f"
              },
              "error_y": {
               "color": "#2a3f5f"
              },
              "marker": {
               "line": {
                "color": "white",
                "width": 0.5
               },
               "pattern": {
                "fillmode": "overlay",
                "size": 10,
                "solidity": 0.2
               }
              },
              "type": "bar"
             }
            ],
            "barpolar": [
             {
              "marker": {
               "line": {
                "color": "white",
                "width": 0.5
               },
               "pattern": {
                "fillmode": "overlay",
                "size": 10,
                "solidity": 0.2
               }
              },
              "type": "barpolar"
             }
            ],
            "carpet": [
             {
              "aaxis": {
               "endlinecolor": "#2a3f5f",
               "gridcolor": "#C8D4E3",
               "linecolor": "#C8D4E3",
               "minorgridcolor": "#C8D4E3",
               "startlinecolor": "#2a3f5f"
              },
              "baxis": {
               "endlinecolor": "#2a3f5f",
               "gridcolor": "#C8D4E3",
               "linecolor": "#C8D4E3",
               "minorgridcolor": "#C8D4E3",
               "startlinecolor": "#2a3f5f"
              },
              "type": "carpet"
             }
            ],
            "choropleth": [
             {
              "colorbar": {
               "outlinewidth": 0,
               "ticks": ""
              },
              "type": "choropleth"
             }
            ],
            "contour": [
             {
              "colorbar": {
               "outlinewidth": 0,
               "ticks": ""
              },
              "colorscale": [
               [
                0,
                "#0d0887"
               ],
               [
                0.1111111111111111,
                "#46039f"
               ],
               [
                0.2222222222222222,
                "#7201a8"
               ],
               [
                0.3333333333333333,
                "#9c179e"
               ],
               [
                0.4444444444444444,
                "#bd3786"
               ],
               [
                0.5555555555555556,
                "#d8576b"
               ],
               [
                0.6666666666666666,
                "#ed7953"
               ],
               [
                0.7777777777777778,
                "#fb9f3a"
               ],
               [
                0.8888888888888888,
                "#fdca26"
               ],
               [
                1,
                "#f0f921"
               ]
              ],
              "type": "contour"
             }
            ],
            "contourcarpet": [
             {
              "colorbar": {
               "outlinewidth": 0,
               "ticks": ""
              },
              "type": "contourcarpet"
             }
            ],
            "heatmap": [
             {
              "colorbar": {
               "outlinewidth": 0,
               "ticks": ""
              },
              "colorscale": [
               [
                0,
                "#0d0887"
               ],
               [
                0.1111111111111111,
                "#46039f"
               ],
               [
                0.2222222222222222,
                "#7201a8"
               ],
               [
                0.3333333333333333,
                "#9c179e"
               ],
               [
                0.4444444444444444,
                "#bd3786"
               ],
               [
                0.5555555555555556,
                "#d8576b"
               ],
               [
                0.6666666666666666,
                "#ed7953"
               ],
               [
                0.7777777777777778,
                "#fb9f3a"
               ],
               [
                0.8888888888888888,
                "#fdca26"
               ],
               [
                1,
                "#f0f921"
               ]
              ],
              "type": "heatmap"
             }
            ],
            "histogram": [
             {
              "marker": {
               "pattern": {
                "fillmode": "overlay",
                "size": 10,
                "solidity": 0.2
               }
              },
              "type": "histogram"
             }
            ],
            "histogram2d": [
             {
              "colorbar": {
               "outlinewidth": 0,
               "ticks": ""
              },
              "colorscale": [
               [
                0,
                "#0d0887"
               ],
               [
                0.1111111111111111,
                "#46039f"
               ],
               [
                0.2222222222222222,
                "#7201a8"
               ],
               [
                0.3333333333333333,
                "#9c179e"
               ],
               [
                0.4444444444444444,
                "#bd3786"
               ],
               [
                0.5555555555555556,
                "#d8576b"
               ],
               [
                0.6666666666666666,
                "#ed7953"
               ],
               [
                0.7777777777777778,
                "#fb9f3a"
               ],
               [
                0.8888888888888888,
                "#fdca26"
               ],
               [
                1,
                "#f0f921"
               ]
              ],
              "type": "histogram2d"
             }
            ],
            "histogram2dcontour": [
             {
              "colorbar": {
               "outlinewidth": 0,
               "ticks": ""
              },
              "colorscale": [
               [
                0,
                "#0d0887"
               ],
               [
                0.1111111111111111,
                "#46039f"
               ],
               [
                0.2222222222222222,
                "#7201a8"
               ],
               [
                0.3333333333333333,
                "#9c179e"
               ],
               [
                0.4444444444444444,
                "#bd3786"
               ],
               [
                0.5555555555555556,
                "#d8576b"
               ],
               [
                0.6666666666666666,
                "#ed7953"
               ],
               [
                0.7777777777777778,
                "#fb9f3a"
               ],
               [
                0.8888888888888888,
                "#fdca26"
               ],
               [
                1,
                "#f0f921"
               ]
              ],
              "type": "histogram2dcontour"
             }
            ],
            "mesh3d": [
             {
              "colorbar": {
               "outlinewidth": 0,
               "ticks": ""
              },
              "type": "mesh3d"
             }
            ],
            "parcoords": [
             {
              "line": {
               "colorbar": {
                "outlinewidth": 0,
                "ticks": ""
               }
              },
              "type": "parcoords"
             }
            ],
            "pie": [
             {
              "automargin": true,
              "type": "pie"
             }
            ],
            "scatter": [
             {
              "fillpattern": {
               "fillmode": "overlay",
               "size": 10,
               "solidity": 0.2
              },
              "type": "scatter"
             }
            ],
            "scatter3d": [
             {
              "line": {
               "colorbar": {
                "outlinewidth": 0,
                "ticks": ""
               }
              },
              "marker": {
               "colorbar": {
                "outlinewidth": 0,
                "ticks": ""
               }
              },
              "type": "scatter3d"
             }
            ],
            "scattercarpet": [
             {
              "marker": {
               "colorbar": {
                "outlinewidth": 0,
                "ticks": ""
               }
              },
              "type": "scattercarpet"
             }
            ],
            "scattergeo": [
             {
              "marker": {
               "colorbar": {
                "outlinewidth": 0,
                "ticks": ""
               }
              },
              "type": "scattergeo"
             }
            ],
            "scattergl": [
             {
              "marker": {
               "colorbar": {
                "outlinewidth": 0,
                "ticks": ""
               }
              },
              "type": "scattergl"
             }
            ],
            "scattermap": [
             {
              "marker": {
               "colorbar": {
                "outlinewidth": 0,
                "ticks": ""
               }
              },
              "type": "scattermap"
             }
            ],
            "scattermapbox": [
             {
              "marker": {
               "colorbar": {
                "outlinewidth": 0,
                "ticks": ""
               }
              },
              "type": "scattermapbox"
             }
            ],
            "scatterpolar": [
             {
              "marker": {
               "colorbar": {
                "outlinewidth": 0,
                "ticks": ""
               }
              },
              "type": "scatterpolar"
             }
            ],
            "scatterpolargl": [
             {
              "marker": {
               "colorbar": {
                "outlinewidth": 0,
                "ticks": ""
               }
              },
              "type": "scatterpolargl"
             }
            ],
            "scatterternary": [
             {
              "marker": {
               "colorbar": {
                "outlinewidth": 0,
                "ticks": ""
               }
              },
              "type": "scatterternary"
             }
            ],
            "surface": [
             {
              "colorbar": {
               "outlinewidth": 0,
               "ticks": ""
              },
              "colorscale": [
               [
                0,
                "#0d0887"
               ],
               [
                0.1111111111111111,
                "#46039f"
               ],
               [
                0.2222222222222222,
                "#7201a8"
               ],
               [
                0.3333333333333333,
                "#9c179e"
               ],
               [
                0.4444444444444444,
                "#bd3786"
               ],
               [
                0.5555555555555556,
                "#d8576b"
               ],
               [
                0.6666666666666666,
                "#ed7953"
               ],
               [
                0.7777777777777778,
                "#fb9f3a"
               ],
               [
                0.8888888888888888,
                "#fdca26"
               ],
               [
                1,
                "#f0f921"
               ]
              ],
              "type": "surface"
             }
            ],
            "table": [
             {
              "cells": {
               "fill": {
                "color": "#EBF0F8"
               },
               "line": {
                "color": "white"
               }
              },
              "header": {
               "fill": {
                "color": "#C8D4E3"
               },
               "line": {
                "color": "white"
               }
              },
              "type": "table"
             }
            ]
           },
           "layout": {
            "annotationdefaults": {
             "arrowcolor": "#2a3f5f",
             "arrowhead": 0,
             "arrowwidth": 1
            },
            "autotypenumbers": "strict",
            "coloraxis": {
             "colorbar": {
              "outlinewidth": 0,
              "ticks": ""
             }
            },
            "colorscale": {
             "diverging": [
              [
               0,
               "#8e0152"
              ],
              [
               0.1,
               "#c51b7d"
              ],
              [
               0.2,
               "#de77ae"
              ],
              [
               0.3,
               "#f1b6da"
              ],
              [
               0.4,
               "#fde0ef"
              ],
              [
               0.5,
               "#f7f7f7"
              ],
              [
               0.6,
               "#e6f5d0"
              ],
              [
               0.7,
               "#b8e186"
              ],
              [
               0.8,
               "#7fbc41"
              ],
              [
               0.9,
               "#4d9221"
              ],
              [
               1,
               "#276419"
              ]
             ],
             "sequential": [
              [
               0,
               "#0d0887"
              ],
              [
               0.1111111111111111,
               "#46039f"
              ],
              [
               0.2222222222222222,
               "#7201a8"
              ],
              [
               0.3333333333333333,
               "#9c179e"
              ],
              [
               0.4444444444444444,
               "#bd3786"
              ],
              [
               0.5555555555555556,
               "#d8576b"
              ],
              [
               0.6666666666666666,
               "#ed7953"
              ],
              [
               0.7777777777777778,
               "#fb9f3a"
              ],
              [
               0.8888888888888888,
               "#fdca26"
              ],
              [
               1,
               "#f0f921"
              ]
             ],
             "sequentialminus": [
              [
               0,
               "#0d0887"
              ],
              [
               0.1111111111111111,
               "#46039f"
              ],
              [
               0.2222222222222222,
               "#7201a8"
              ],
              [
               0.3333333333333333,
               "#9c179e"
              ],
              [
               0.4444444444444444,
               "#bd3786"
              ],
              [
               0.5555555555555556,
               "#d8576b"
              ],
              [
               0.6666666666666666,
               "#ed7953"
              ],
              [
               0.7777777777777778,
               "#fb9f3a"
              ],
              [
               0.8888888888888888,
               "#fdca26"
              ],
              [
               1,
               "#f0f921"
              ]
             ]
            },
            "colorway": [
             "#636efa",
             "#EF553B",
             "#00cc96",
             "#ab63fa",
             "#FFA15A",
             "#19d3f3",
             "#FF6692",
             "#B6E880",
             "#FF97FF",
             "#FECB52"
            ],
            "font": {
             "color": "#2a3f5f"
            },
            "geo": {
             "bgcolor": "white",
             "lakecolor": "white",
             "landcolor": "white",
             "showlakes": true,
             "showland": true,
             "subunitcolor": "#C8D4E3"
            },
            "hoverlabel": {
             "align": "left"
            },
            "hovermode": "closest",
            "mapbox": {
             "style": "light"
            },
            "paper_bgcolor": "white",
            "plot_bgcolor": "white",
            "polar": {
             "angularaxis": {
              "gridcolor": "#EBF0F8",
              "linecolor": "#EBF0F8",
              "ticks": ""
             },
             "bgcolor": "white",
             "radialaxis": {
              "gridcolor": "#EBF0F8",
              "linecolor": "#EBF0F8",
              "ticks": ""
             }
            },
            "scene": {
             "xaxis": {
              "backgroundcolor": "white",
              "gridcolor": "#DFE8F3",
              "gridwidth": 2,
              "linecolor": "#EBF0F8",
              "showbackground": true,
              "ticks": "",
              "zerolinecolor": "#EBF0F8"
             },
             "yaxis": {
              "backgroundcolor": "white",
              "gridcolor": "#DFE8F3",
              "gridwidth": 2,
              "linecolor": "#EBF0F8",
              "showbackground": true,
              "ticks": "",
              "zerolinecolor": "#EBF0F8"
             },
             "zaxis": {
              "backgroundcolor": "white",
              "gridcolor": "#DFE8F3",
              "gridwidth": 2,
              "linecolor": "#EBF0F8",
              "showbackground": true,
              "ticks": "",
              "zerolinecolor": "#EBF0F8"
             }
            },
            "shapedefaults": {
             "line": {
              "color": "#2a3f5f"
             }
            },
            "ternary": {
             "aaxis": {
              "gridcolor": "#DFE8F3",
              "linecolor": "#A2B1C6",
              "ticks": ""
             },
             "baxis": {
              "gridcolor": "#DFE8F3",
              "linecolor": "#A2B1C6",
              "ticks": ""
             },
             "bgcolor": "white",
             "caxis": {
              "gridcolor": "#DFE8F3",
              "linecolor": "#A2B1C6",
              "ticks": ""
             }
            },
            "title": {
             "x": 0.05
            },
            "xaxis": {
             "automargin": true,
             "gridcolor": "#EBF0F8",
             "linecolor": "#EBF0F8",
             "ticks": "",
             "title": {
              "standoff": 15
             },
             "zerolinecolor": "#EBF0F8",
             "zerolinewidth": 2
            },
            "yaxis": {
             "automargin": true,
             "gridcolor": "#EBF0F8",
             "linecolor": "#EBF0F8",
             "ticks": "",
             "title": {
              "standoff": 15
             },
             "zerolinecolor": "#EBF0F8",
             "zerolinewidth": 2
            }
           }
          },
          "title": {
           "font": {
            "color": "black",
            "family": "Arial",
            "size": 20,
            "weight": "bold"
           },
           "subtitle": {
            "font": {
             "color": "gray",
             "size": 13
            },
            "text": ""
           },
           "x": 0,
           "xanchor": "left",
           "xref": "paper"
          },
          "xaxis": {
           "showgrid": false,
           "tickfont": {
            "color": "grey",
            "size": 12
           },
           "ticklabelposition": "outside bottom",
           "ticklabelstandoff": 10,
           "title": {
            "font": {
             "color": "grey",
             "size": 13,
             "weight": "bold"
            },
            "standoff": 15
           },
           "zerolinecolor": "lightgrey"
          },
          "yaxis": {
           "gridcolor": "lightgrey",
           "showgrid": true,
           "tickfont": {
            "color": "grey",
            "size": 12
           },
           "ticklabelposition": "outside left",
           "ticklabelstandoff": 10,
           "title": {
            "font": {
             "color": "grey",
             "size": 13,
             "weight": "bold"
            },
            "standoff": 15
           },
           "zerolinecolor": "lightgrey"
          }
         }
        },
        "title": {
         "subtitle": {
          "text": "Entwicklung der Studierendenbefragung im FB09 zwischen 2013 und 2024"
         },
         "text": "<b>Rückgang des Fachbereichs trifft </b><span style='color:#73c6e9;'>Bachelor</span> <b>härter als </b><span style='color:#cc5b6e;'>Master</span>"
        },
        "xaxis": {
         "anchor": "y",
         "domain": [
          0,
          1
         ],
         "dtick": 1,
         "range": [
          2012.9,
          2024.2
         ],
         "title": {
          "text": ""
         }
        },
        "yaxis": {
         "anchor": "x",
         "domain": [
          0,
          1
         ],
         "range": [
          0,
          2100
         ],
         "title": {
          "text": "Anzahl Studierende"
         }
        }
       }
      }
     },
     "metadata": {},
     "output_type": "display_data"
    }
   ],
   "source": [
    "import plotly.express as px\n",
    "\n",
    "fig = px.line(\n",
    "    abschluss_df,\n",
    "    x=\"Jahr\",\n",
    "    y=[\"Absolute Anzahl Bachelor\", \"Absolute Anzahl Master\"],\n",
    "    markers=True,\n",
    "    title=\"<b>Rückgang des Fachbereichs trifft </b><span style='color:#73c6e9;'>Bachelor</span> <b>härter als </b><span style='color:#cc5b6e;'>Master</span>\",\n",
    "    subtitle=\"Entwicklung der Studierendenbefragung im FB09 zwischen 2013 und 2024\",\n",
    "    color_discrete_sequence=px.colors.qualitative.Safe,\n",
    "    template=\"infoviz\"\n",
    ")\n",
    "\n",
    "fig.update_traces(line=dict(width=3))  # Linie dicker machen\n",
    "\n",
    "fig.update_layout(\n",
    "    yaxis=dict(range=[0, 2100], title=\"Anzahl Studierende\"),\n",
    "    xaxis=dict(dtick=1, title=\"\", range=[2012.9, 2024.2]),\n",
    "    showlegend=False\n",
    ")\n",
    "\n",
    "fig.show()"
   ]
  },
  {
   "cell_type": "markdown",
   "metadata": {},
   "source": [
    "## Verteilung der Studiengänge"
   ]
  },
  {
   "cell_type": "code",
   "execution_count": 442,
   "metadata": {},
   "outputs": [],
   "source": [
    "\n",
    "df_2024 = cleaned_sheets[\"2024\"]\n",
    "\n",
    "# Studiengänge automatisch erkennen (Bachelor und Master)\n",
    "bachelor_studiengaenge = [col for col in df_2024.columns if \"Bachelor\" in col]\n",
    "master_studiengaenge = [col for col in df_2024.columns if \"Master\" in col]\n",
    "\n",
    "# Extrahiere die Anzahl der Studierenden pro Studiengang\n",
    "studiengang_verteilung = df_2024[df_2024[\"Category\"] == \"Anzahl Studierende\"][bachelor_studiengaenge + master_studiengaenge].T\n",
    "studiengang_verteilung.columns = [\"Anzahl Studierende\"]\n",
    "studiengang_verteilung[\"Studiengang\"] = studiengang_verteilung.index\n",
    "\n",
    "# Hinzufügen der übergeordneten Kategorie (\"Bachelor\" oder \"Master\")\n",
    "studiengang_verteilung[\"Studienabschluss\"] = studiengang_verteilung[\"Studiengang\"].apply(\n",
    "    lambda x: \"Bachelor\" if \"Bachelor\" in x else \"Master\"\n",
    ")\n",
    "\n",
    "studiengang_verteilung[\"Studiengang\"]=studiengang_verteilung[\"Studiengang\"].apply(lambda x: x.replace(\"Bachelor\", \"B.Sc.\").replace(\"Master\", \"M.Sc.\"))\n",
    "studiengang_verteilung[\"Studiengang\"] = studiengang_verteilung[\"Studiengang\"].replace(\n",
    "    \"M.Sc. Informationstechnologie in den Agrar- und Umweltwissenschaften*\", \"M.Sc. Informationstechnologie\"\n",
    ")\n",
    "# Farbkodierung für Studiengänge:  \n",
    "\n",
    "\n",
    "studiengang_verteilung[\"Abschlussart\"] = studiengang_verteilung[\"Studiengang\"].apply(\n",
    "    lambda x: \"Bachelor\" if \"B.Sc.\" in x else \"Master\"\n",
    ")\n",
    "\n",
    "# Farbzuordnung für die Abschlussarten\n",
    "color_map = {\"Bachelor\": px.colors.qualitative.Safe[0], \"Master\":px.colors.qualitative.Safe[1]}\n",
    "\n",
    "# Sortieren nach Anzahl der Studierenden\n",
    "studiengang_verteilung = studiengang_verteilung.sort_values(by=\"Anzahl Studierende\", ascending=False)\n",
    "\n",
    "# Studiengänge als kategorische Achse setzen\n",
    "studiengang_verteilung[\"Studiengang\"] = pd.Categorical(\n",
    "    studiengang_verteilung[\"Studiengang\"],\n",
    "    categories=studiengang_verteilung[\"Studiengang\"],  # Reihenfolge aus sortiertem DataFrame übernehmen\n",
    "    ordered=True\n",
    ")"
   ]
  },
  {
   "cell_type": "code",
   "execution_count": 443,
   "metadata": {},
   "outputs": [
    {
     "data": {
      "text/plain": [
       "{'Bachelor': 'rgb(136, 204, 238)', 'Master': 'rgb(204, 102, 119)'}"
      ]
     },
     "execution_count": 443,
     "metadata": {},
     "output_type": "execute_result"
    }
   ],
   "source": [
    "color_map"
   ]
  },
  {
   "cell_type": "code",
   "execution_count": 447,
   "metadata": {},
   "outputs": [
    {
     "data": {
      "application/vnd.plotly.v1+json": {
       "config": {
        "plotlyServerURL": "https://plot.ly"
       },
       "data": [
        {
         "hovertemplate": "Abschlussart=Bachelor<br>Studiengang=%{x}<br>Anzahl Studierende=%{y}<extra></extra>",
         "legendgroup": "Bachelor",
         "marker": {
          "color": "rgb(136, 204, 238)",
          "pattern": {
           "shape": ""
          }
         },
         "name": "Bachelor",
         "orientation": "v",
         "showlegend": true,
         "textposition": "auto",
         "type": "bar",
         "x": [
          "B.Sc. Ernährungswissenschaften",
          "B.Sc. Ökotrophologie",
          "B.Sc. Agrarwissenschaften",
          "B.Sc. Umwelt und globaler Wandel",
          "B.Sc. Nachwachsende Rohstoffe und Bioressourcen"
         ],
         "xaxis": "x",
         "y": [
          493,
          429,
          293,
          116,
          69
         ],
         "yaxis": "y"
        },
        {
         "hovertemplate": "Abschlussart=Master<br>Studiengang=%{x}<br>Anzahl Studierende=%{y}<extra></extra>",
         "legendgroup": "Master",
         "marker": {
          "color": "rgb(204, 102, 119)",
          "pattern": {
           "shape": ""
          }
         },
         "name": "Master",
         "orientation": "v",
         "showlegend": true,
         "textposition": "auto",
         "type": "bar",
         "x": [
          "M.Sc. Ernährungswissenschaften",
          "M.Sc. Transition Management",
          "M.Sc. Ökotrophologie",
          "M.Sc. Agrobiotechnologie",
          "M.Sc. Insect Biotechnology and Bioresources",
          "M.Sc. Nutzpflanzenwissenschaften",
          "M.Sc. Sustainable Transition",
          "M.Sc. Agrar- und Ressourcenökonomie",
          "M.Sc. Nachhaltige Ernährungswirtschaft",
          "M.Sc. Nutztierwissenschaften*",
          "M.Sc. Oenologie/Weinwirtschaft*",
          "M.Sc. Getränketechnologie*",
          "M.Sc. Informationstechnologie",
          "M.Sc. Umweltwissenschaften"
         ],
         "xaxis": "x",
         "y": [
          338,
          192,
          152,
          139,
          81,
          65,
          59,
          53,
          51,
          41,
          32,
          26,
          13,
          13
         ],
         "yaxis": "y"
        }
       ],
       "layout": {
        "barmode": "relative",
        "height": 600,
        "legend": {
         "title": {
          "text": "Abschlussart"
         },
         "tracegroupgap": 0
        },
        "margin": {
         "b": 190,
         "r": 130
        },
        "showlegend": true,
        "template": {
         "layout": {
          "template": {
           "data": {
            "bar": [
             {
              "error_x": {
               "color": "#2a3f5f"
              },
              "error_y": {
               "color": "#2a3f5f"
              },
              "marker": {
               "line": {
                "color": "white",
                "width": 0.5
               },
               "pattern": {
                "fillmode": "overlay",
                "size": 10,
                "solidity": 0.2
               }
              },
              "type": "bar"
             }
            ],
            "barpolar": [
             {
              "marker": {
               "line": {
                "color": "white",
                "width": 0.5
               },
               "pattern": {
                "fillmode": "overlay",
                "size": 10,
                "solidity": 0.2
               }
              },
              "type": "barpolar"
             }
            ],
            "carpet": [
             {
              "aaxis": {
               "endlinecolor": "#2a3f5f",
               "gridcolor": "#C8D4E3",
               "linecolor": "#C8D4E3",
               "minorgridcolor": "#C8D4E3",
               "startlinecolor": "#2a3f5f"
              },
              "baxis": {
               "endlinecolor": "#2a3f5f",
               "gridcolor": "#C8D4E3",
               "linecolor": "#C8D4E3",
               "minorgridcolor": "#C8D4E3",
               "startlinecolor": "#2a3f5f"
              },
              "type": "carpet"
             }
            ],
            "choropleth": [
             {
              "colorbar": {
               "outlinewidth": 0,
               "ticks": ""
              },
              "type": "choropleth"
             }
            ],
            "contour": [
             {
              "colorbar": {
               "outlinewidth": 0,
               "ticks": ""
              },
              "colorscale": [
               [
                0,
                "#0d0887"
               ],
               [
                0.1111111111111111,
                "#46039f"
               ],
               [
                0.2222222222222222,
                "#7201a8"
               ],
               [
                0.3333333333333333,
                "#9c179e"
               ],
               [
                0.4444444444444444,
                "#bd3786"
               ],
               [
                0.5555555555555556,
                "#d8576b"
               ],
               [
                0.6666666666666666,
                "#ed7953"
               ],
               [
                0.7777777777777778,
                "#fb9f3a"
               ],
               [
                0.8888888888888888,
                "#fdca26"
               ],
               [
                1,
                "#f0f921"
               ]
              ],
              "type": "contour"
             }
            ],
            "contourcarpet": [
             {
              "colorbar": {
               "outlinewidth": 0,
               "ticks": ""
              },
              "type": "contourcarpet"
             }
            ],
            "heatmap": [
             {
              "colorbar": {
               "outlinewidth": 0,
               "ticks": ""
              },
              "colorscale": [
               [
                0,
                "#0d0887"
               ],
               [
                0.1111111111111111,
                "#46039f"
               ],
               [
                0.2222222222222222,
                "#7201a8"
               ],
               [
                0.3333333333333333,
                "#9c179e"
               ],
               [
                0.4444444444444444,
                "#bd3786"
               ],
               [
                0.5555555555555556,
                "#d8576b"
               ],
               [
                0.6666666666666666,
                "#ed7953"
               ],
               [
                0.7777777777777778,
                "#fb9f3a"
               ],
               [
                0.8888888888888888,
                "#fdca26"
               ],
               [
                1,
                "#f0f921"
               ]
              ],
              "type": "heatmap"
             }
            ],
            "histogram": [
             {
              "marker": {
               "pattern": {
                "fillmode": "overlay",
                "size": 10,
                "solidity": 0.2
               }
              },
              "type": "histogram"
             }
            ],
            "histogram2d": [
             {
              "colorbar": {
               "outlinewidth": 0,
               "ticks": ""
              },
              "colorscale": [
               [
                0,
                "#0d0887"
               ],
               [
                0.1111111111111111,
                "#46039f"
               ],
               [
                0.2222222222222222,
                "#7201a8"
               ],
               [
                0.3333333333333333,
                "#9c179e"
               ],
               [
                0.4444444444444444,
                "#bd3786"
               ],
               [
                0.5555555555555556,
                "#d8576b"
               ],
               [
                0.6666666666666666,
                "#ed7953"
               ],
               [
                0.7777777777777778,
                "#fb9f3a"
               ],
               [
                0.8888888888888888,
                "#fdca26"
               ],
               [
                1,
                "#f0f921"
               ]
              ],
              "type": "histogram2d"
             }
            ],
            "histogram2dcontour": [
             {
              "colorbar": {
               "outlinewidth": 0,
               "ticks": ""
              },
              "colorscale": [
               [
                0,
                "#0d0887"
               ],
               [
                0.1111111111111111,
                "#46039f"
               ],
               [
                0.2222222222222222,
                "#7201a8"
               ],
               [
                0.3333333333333333,
                "#9c179e"
               ],
               [
                0.4444444444444444,
                "#bd3786"
               ],
               [
                0.5555555555555556,
                "#d8576b"
               ],
               [
                0.6666666666666666,
                "#ed7953"
               ],
               [
                0.7777777777777778,
                "#fb9f3a"
               ],
               [
                0.8888888888888888,
                "#fdca26"
               ],
               [
                1,
                "#f0f921"
               ]
              ],
              "type": "histogram2dcontour"
             }
            ],
            "mesh3d": [
             {
              "colorbar": {
               "outlinewidth": 0,
               "ticks": ""
              },
              "type": "mesh3d"
             }
            ],
            "parcoords": [
             {
              "line": {
               "colorbar": {
                "outlinewidth": 0,
                "ticks": ""
               }
              },
              "type": "parcoords"
             }
            ],
            "pie": [
             {
              "automargin": true,
              "type": "pie"
             }
            ],
            "scatter": [
             {
              "fillpattern": {
               "fillmode": "overlay",
               "size": 10,
               "solidity": 0.2
              },
              "type": "scatter"
             }
            ],
            "scatter3d": [
             {
              "line": {
               "colorbar": {
                "outlinewidth": 0,
                "ticks": ""
               }
              },
              "marker": {
               "colorbar": {
                "outlinewidth": 0,
                "ticks": ""
               }
              },
              "type": "scatter3d"
             }
            ],
            "scattercarpet": [
             {
              "marker": {
               "colorbar": {
                "outlinewidth": 0,
                "ticks": ""
               }
              },
              "type": "scattercarpet"
             }
            ],
            "scattergeo": [
             {
              "marker": {
               "colorbar": {
                "outlinewidth": 0,
                "ticks": ""
               }
              },
              "type": "scattergeo"
             }
            ],
            "scattergl": [
             {
              "marker": {
               "colorbar": {
                "outlinewidth": 0,
                "ticks": ""
               }
              },
              "type": "scattergl"
             }
            ],
            "scattermap": [
             {
              "marker": {
               "colorbar": {
                "outlinewidth": 0,
                "ticks": ""
               }
              },
              "type": "scattermap"
             }
            ],
            "scattermapbox": [
             {
              "marker": {
               "colorbar": {
                "outlinewidth": 0,
                "ticks": ""
               }
              },
              "type": "scattermapbox"
             }
            ],
            "scatterpolar": [
             {
              "marker": {
               "colorbar": {
                "outlinewidth": 0,
                "ticks": ""
               }
              },
              "type": "scatterpolar"
             }
            ],
            "scatterpolargl": [
             {
              "marker": {
               "colorbar": {
                "outlinewidth": 0,
                "ticks": ""
               }
              },
              "type": "scatterpolargl"
             }
            ],
            "scatterternary": [
             {
              "marker": {
               "colorbar": {
                "outlinewidth": 0,
                "ticks": ""
               }
              },
              "type": "scatterternary"
             }
            ],
            "surface": [
             {
              "colorbar": {
               "outlinewidth": 0,
               "ticks": ""
              },
              "colorscale": [
               [
                0,
                "#0d0887"
               ],
               [
                0.1111111111111111,
                "#46039f"
               ],
               [
                0.2222222222222222,
                "#7201a8"
               ],
               [
                0.3333333333333333,
                "#9c179e"
               ],
               [
                0.4444444444444444,
                "#bd3786"
               ],
               [
                0.5555555555555556,
                "#d8576b"
               ],
               [
                0.6666666666666666,
                "#ed7953"
               ],
               [
                0.7777777777777778,
                "#fb9f3a"
               ],
               [
                0.8888888888888888,
                "#fdca26"
               ],
               [
                1,
                "#f0f921"
               ]
              ],
              "type": "surface"
             }
            ],
            "table": [
             {
              "cells": {
               "fill": {
                "color": "#EBF0F8"
               },
               "line": {
                "color": "white"
               }
              },
              "header": {
               "fill": {
                "color": "#C8D4E3"
               },
               "line": {
                "color": "white"
               }
              },
              "type": "table"
             }
            ]
           },
           "layout": {
            "annotationdefaults": {
             "arrowcolor": "#2a3f5f",
             "arrowhead": 0,
             "arrowwidth": 1
            },
            "autotypenumbers": "strict",
            "coloraxis": {
             "colorbar": {
              "outlinewidth": 0,
              "ticks": ""
             }
            },
            "colorscale": {
             "diverging": [
              [
               0,
               "#8e0152"
              ],
              [
               0.1,
               "#c51b7d"
              ],
              [
               0.2,
               "#de77ae"
              ],
              [
               0.3,
               "#f1b6da"
              ],
              [
               0.4,
               "#fde0ef"
              ],
              [
               0.5,
               "#f7f7f7"
              ],
              [
               0.6,
               "#e6f5d0"
              ],
              [
               0.7,
               "#b8e186"
              ],
              [
               0.8,
               "#7fbc41"
              ],
              [
               0.9,
               "#4d9221"
              ],
              [
               1,
               "#276419"
              ]
             ],
             "sequential": [
              [
               0,
               "#0d0887"
              ],
              [
               0.1111111111111111,
               "#46039f"
              ],
              [
               0.2222222222222222,
               "#7201a8"
              ],
              [
               0.3333333333333333,
               "#9c179e"
              ],
              [
               0.4444444444444444,
               "#bd3786"
              ],
              [
               0.5555555555555556,
               "#d8576b"
              ],
              [
               0.6666666666666666,
               "#ed7953"
              ],
              [
               0.7777777777777778,
               "#fb9f3a"
              ],
              [
               0.8888888888888888,
               "#fdca26"
              ],
              [
               1,
               "#f0f921"
              ]
             ],
             "sequentialminus": [
              [
               0,
               "#0d0887"
              ],
              [
               0.1111111111111111,
               "#46039f"
              ],
              [
               0.2222222222222222,
               "#7201a8"
              ],
              [
               0.3333333333333333,
               "#9c179e"
              ],
              [
               0.4444444444444444,
               "#bd3786"
              ],
              [
               0.5555555555555556,
               "#d8576b"
              ],
              [
               0.6666666666666666,
               "#ed7953"
              ],
              [
               0.7777777777777778,
               "#fb9f3a"
              ],
              [
               0.8888888888888888,
               "#fdca26"
              ],
              [
               1,
               "#f0f921"
              ]
             ]
            },
            "colorway": [
             "#636efa",
             "#EF553B",
             "#00cc96",
             "#ab63fa",
             "#FFA15A",
             "#19d3f3",
             "#FF6692",
             "#B6E880",
             "#FF97FF",
             "#FECB52"
            ],
            "font": {
             "color": "#2a3f5f"
            },
            "geo": {
             "bgcolor": "white",
             "lakecolor": "white",
             "landcolor": "white",
             "showlakes": true,
             "showland": true,
             "subunitcolor": "#C8D4E3"
            },
            "hoverlabel": {
             "align": "left"
            },
            "hovermode": "closest",
            "mapbox": {
             "style": "light"
            },
            "paper_bgcolor": "white",
            "plot_bgcolor": "white",
            "polar": {
             "angularaxis": {
              "gridcolor": "#EBF0F8",
              "linecolor": "#EBF0F8",
              "ticks": ""
             },
             "bgcolor": "white",
             "radialaxis": {
              "gridcolor": "#EBF0F8",
              "linecolor": "#EBF0F8",
              "ticks": ""
             }
            },
            "scene": {
             "xaxis": {
              "backgroundcolor": "white",
              "gridcolor": "#DFE8F3",
              "gridwidth": 2,
              "linecolor": "#EBF0F8",
              "showbackground": true,
              "ticks": "",
              "zerolinecolor": "#EBF0F8"
             },
             "yaxis": {
              "backgroundcolor": "white",
              "gridcolor": "#DFE8F3",
              "gridwidth": 2,
              "linecolor": "#EBF0F8",
              "showbackground": true,
              "ticks": "",
              "zerolinecolor": "#EBF0F8"
             },
             "zaxis": {
              "backgroundcolor": "white",
              "gridcolor": "#DFE8F3",
              "gridwidth": 2,
              "linecolor": "#EBF0F8",
              "showbackground": true,
              "ticks": "",
              "zerolinecolor": "#EBF0F8"
             }
            },
            "shapedefaults": {
             "line": {
              "color": "#2a3f5f"
             }
            },
            "ternary": {
             "aaxis": {
              "gridcolor": "#DFE8F3",
              "linecolor": "#A2B1C6",
              "ticks": ""
             },
             "baxis": {
              "gridcolor": "#DFE8F3",
              "linecolor": "#A2B1C6",
              "ticks": ""
             },
             "bgcolor": "white",
             "caxis": {
              "gridcolor": "#DFE8F3",
              "linecolor": "#A2B1C6",
              "ticks": ""
             }
            },
            "title": {
             "x": 0.05
            },
            "xaxis": {
             "automargin": true,
             "gridcolor": "#EBF0F8",
             "linecolor": "#EBF0F8",
             "ticks": "",
             "title": {
              "standoff": 15
             },
             "zerolinecolor": "#EBF0F8",
             "zerolinewidth": 2
            },
            "yaxis": {
             "automargin": true,
             "gridcolor": "#EBF0F8",
             "linecolor": "#EBF0F8",
             "ticks": "",
             "title": {
              "standoff": 15
             },
             "zerolinecolor": "#EBF0F8",
             "zerolinewidth": 2
            }
           }
          },
          "title": {
           "font": {
            "color": "black",
            "family": "Arial",
            "size": 20,
            "weight": "bold"
           },
           "subtitle": {
            "font": {
             "color": "gray",
             "size": 13
            },
            "text": ""
           },
           "x": 0,
           "xanchor": "left",
           "xref": "paper"
          },
          "xaxis": {
           "showgrid": false,
           "tickfont": {
            "color": "grey",
            "size": 12
           },
           "ticklabelposition": "outside bottom",
           "ticklabelstandoff": 10,
           "title": {
            "font": {
             "color": "grey",
             "size": 13,
             "weight": "bold"
            },
            "standoff": 15
           },
           "zerolinecolor": "lightgrey"
          },
          "yaxis": {
           "gridcolor": "lightgrey",
           "showgrid": true,
           "tickfont": {
            "color": "grey",
            "size": 12
           },
           "ticklabelposition": "outside left",
           "ticklabelstandoff": 10,
           "title": {
            "font": {
             "color": "grey",
             "size": 13,
             "weight": "bold"
            },
            "standoff": 15
           },
           "zerolinecolor": "lightgrey"
          }
         }
        },
        "title": {
         "subtitle": {
          "text": "Ergebnisse der Studierendenbefragung 2024 im FB09"
         },
         "text": "Long-Tail in der Studierendenverteilung: Wenige große, viele kleine Studiengänge"
        },
        "xaxis": {
         "anchor": "y",
         "domain": [
          0,
          1
         ],
         "title": {
          "text": ""
         }
        },
        "yaxis": {
         "anchor": "x",
         "domain": [
          0,
          1
         ],
         "title": {
          "text": "Anzahl Studierende"
         }
        }
       }
      }
     },
     "metadata": {},
     "output_type": "display_data"
    }
   ],
   "source": [
    "# Treemap erstellen\n",
    "fig = px.bar(\n",
    "    studiengang_verteilung,\n",
    "    x=\"Studiengang\",\n",
    "    y=\"Anzahl Studierende\",\n",
    "    title=\"Long-Tail in der Studierendenverteilung: Wenige große, viele kleine Studiengänge\",\n",
    "    subtitle=\"Ergebnisse der Studierendenbefragung 2024 im FB09\",\n",
    "    color_discrete_map=color_map,\n",
    "    color=\"Abschlussart\",\n",
    "    template=\"infoviz\"\n",
    ")\n",
    "fig.update_layout(\n",
    "    margin=dict(b=190, r=130),\n",
    "    xaxis=dict(title=\"\"),\n",
    "    height=600,\n",
    "    showlegend=True\n",
    ")\n",
    "\n",
    "fig.show()"
   ]
  },
  {
   "cell_type": "code",
   "execution_count": 455,
   "metadata": {},
   "outputs": [
    {
     "data": {
      "application/vnd.plotly.v1+json": {
       "config": {
        "plotlyServerURL": "https://plot.ly"
       },
       "data": [
        {
         "hovertemplate": "Abschlussart=Bachelor<br>Studiengang=%{x}<br>Anzahl Studierende=%{y}<extra></extra>",
         "legendgroup": "Bachelor",
         "marker": {
          "color": "rgb(136, 204, 238)",
          "pattern": {
           "shape": ""
          }
         },
         "name": "Bachelor",
         "orientation": "v",
         "showlegend": true,
         "textposition": "auto",
         "type": "bar",
         "x": [
          "B.Sc. Ernährungswissenschaften",
          "B.Sc. Ökotrophologie",
          "B.Sc. Agrarwissenschaften",
          "B.Sc. Umwelt und globaler Wandel",
          "B.Sc. Nachwachsende Rohstoffe und Bioressourcen"
         ],
         "xaxis": "x",
         "y": [
          493,
          429,
          293,
          116,
          69
         ],
         "yaxis": "y"
        },
        {
         "hovertemplate": "Abschlussart=Master<br>Studiengang=%{x}<br>Anzahl Studierende=%{y}<extra></extra>",
         "legendgroup": "Master",
         "marker": {
          "color": "rgb(204, 102, 119)",
          "pattern": {
           "shape": ""
          }
         },
         "name": "Master",
         "orientation": "v",
         "showlegend": true,
         "textposition": "auto",
         "type": "bar",
         "x": [
          "M.Sc. Ernährungswissenschaften",
          "M.Sc. Transition Management",
          "M.Sc. Ökotrophologie",
          "M.Sc. Agrobiotechnologie",
          "M.Sc. Insect Biotechnology and Bioresources",
          "M.Sc. Nutzpflanzenwissenschaften",
          "M.Sc. Sustainable Transition",
          "M.Sc. Agrar- und Ressourcenökonomie",
          "M.Sc. Nachhaltige Ernährungswirtschaft",
          "M.Sc. Nutztierwissenschaften*",
          "M.Sc. Oenologie/Weinwirtschaft*",
          "M.Sc. Getränketechnologie*",
          "M.Sc. Informationstechnologie",
          "M.Sc. Umweltwissenschaften"
         ],
         "xaxis": "x",
         "y": [
          338,
          192,
          152,
          139,
          81,
          65,
          59,
          53,
          51,
          41,
          32,
          26,
          13,
          13
         ],
         "yaxis": "y"
        }
       ],
       "layout": {
        "barmode": "relative",
        "height": 600,
        "legend": {
         "orientation": "h",
         "title": {
          "text": ""
         },
         "tracegroupgap": 0,
         "x": 1,
         "xanchor": "right",
         "y": 1.1,
         "yanchor": "top"
        },
        "margin": {
         "b": 190,
         "r": 130
        },
        "template": {
         "layout": {
          "template": {
           "data": {
            "bar": [
             {
              "error_x": {
               "color": "#2a3f5f"
              },
              "error_y": {
               "color": "#2a3f5f"
              },
              "marker": {
               "line": {
                "color": "white",
                "width": 0.5
               },
               "pattern": {
                "fillmode": "overlay",
                "size": 10,
                "solidity": 0.2
               }
              },
              "type": "bar"
             }
            ],
            "barpolar": [
             {
              "marker": {
               "line": {
                "color": "white",
                "width": 0.5
               },
               "pattern": {
                "fillmode": "overlay",
                "size": 10,
                "solidity": 0.2
               }
              },
              "type": "barpolar"
             }
            ],
            "carpet": [
             {
              "aaxis": {
               "endlinecolor": "#2a3f5f",
               "gridcolor": "#C8D4E3",
               "linecolor": "#C8D4E3",
               "minorgridcolor": "#C8D4E3",
               "startlinecolor": "#2a3f5f"
              },
              "baxis": {
               "endlinecolor": "#2a3f5f",
               "gridcolor": "#C8D4E3",
               "linecolor": "#C8D4E3",
               "minorgridcolor": "#C8D4E3",
               "startlinecolor": "#2a3f5f"
              },
              "type": "carpet"
             }
            ],
            "choropleth": [
             {
              "colorbar": {
               "outlinewidth": 0,
               "ticks": ""
              },
              "type": "choropleth"
             }
            ],
            "contour": [
             {
              "colorbar": {
               "outlinewidth": 0,
               "ticks": ""
              },
              "colorscale": [
               [
                0,
                "#0d0887"
               ],
               [
                0.1111111111111111,
                "#46039f"
               ],
               [
                0.2222222222222222,
                "#7201a8"
               ],
               [
                0.3333333333333333,
                "#9c179e"
               ],
               [
                0.4444444444444444,
                "#bd3786"
               ],
               [
                0.5555555555555556,
                "#d8576b"
               ],
               [
                0.6666666666666666,
                "#ed7953"
               ],
               [
                0.7777777777777778,
                "#fb9f3a"
               ],
               [
                0.8888888888888888,
                "#fdca26"
               ],
               [
                1,
                "#f0f921"
               ]
              ],
              "type": "contour"
             }
            ],
            "contourcarpet": [
             {
              "colorbar": {
               "outlinewidth": 0,
               "ticks": ""
              },
              "type": "contourcarpet"
             }
            ],
            "heatmap": [
             {
              "colorbar": {
               "outlinewidth": 0,
               "ticks": ""
              },
              "colorscale": [
               [
                0,
                "#0d0887"
               ],
               [
                0.1111111111111111,
                "#46039f"
               ],
               [
                0.2222222222222222,
                "#7201a8"
               ],
               [
                0.3333333333333333,
                "#9c179e"
               ],
               [
                0.4444444444444444,
                "#bd3786"
               ],
               [
                0.5555555555555556,
                "#d8576b"
               ],
               [
                0.6666666666666666,
                "#ed7953"
               ],
               [
                0.7777777777777778,
                "#fb9f3a"
               ],
               [
                0.8888888888888888,
                "#fdca26"
               ],
               [
                1,
                "#f0f921"
               ]
              ],
              "type": "heatmap"
             }
            ],
            "histogram": [
             {
              "marker": {
               "pattern": {
                "fillmode": "overlay",
                "size": 10,
                "solidity": 0.2
               }
              },
              "type": "histogram"
             }
            ],
            "histogram2d": [
             {
              "colorbar": {
               "outlinewidth": 0,
               "ticks": ""
              },
              "colorscale": [
               [
                0,
                "#0d0887"
               ],
               [
                0.1111111111111111,
                "#46039f"
               ],
               [
                0.2222222222222222,
                "#7201a8"
               ],
               [
                0.3333333333333333,
                "#9c179e"
               ],
               [
                0.4444444444444444,
                "#bd3786"
               ],
               [
                0.5555555555555556,
                "#d8576b"
               ],
               [
                0.6666666666666666,
                "#ed7953"
               ],
               [
                0.7777777777777778,
                "#fb9f3a"
               ],
               [
                0.8888888888888888,
                "#fdca26"
               ],
               [
                1,
                "#f0f921"
               ]
              ],
              "type": "histogram2d"
             }
            ],
            "histogram2dcontour": [
             {
              "colorbar": {
               "outlinewidth": 0,
               "ticks": ""
              },
              "colorscale": [
               [
                0,
                "#0d0887"
               ],
               [
                0.1111111111111111,
                "#46039f"
               ],
               [
                0.2222222222222222,
                "#7201a8"
               ],
               [
                0.3333333333333333,
                "#9c179e"
               ],
               [
                0.4444444444444444,
                "#bd3786"
               ],
               [
                0.5555555555555556,
                "#d8576b"
               ],
               [
                0.6666666666666666,
                "#ed7953"
               ],
               [
                0.7777777777777778,
                "#fb9f3a"
               ],
               [
                0.8888888888888888,
                "#fdca26"
               ],
               [
                1,
                "#f0f921"
               ]
              ],
              "type": "histogram2dcontour"
             }
            ],
            "mesh3d": [
             {
              "colorbar": {
               "outlinewidth": 0,
               "ticks": ""
              },
              "type": "mesh3d"
             }
            ],
            "parcoords": [
             {
              "line": {
               "colorbar": {
                "outlinewidth": 0,
                "ticks": ""
               }
              },
              "type": "parcoords"
             }
            ],
            "pie": [
             {
              "automargin": true,
              "type": "pie"
             }
            ],
            "scatter": [
             {
              "fillpattern": {
               "fillmode": "overlay",
               "size": 10,
               "solidity": 0.2
              },
              "type": "scatter"
             }
            ],
            "scatter3d": [
             {
              "line": {
               "colorbar": {
                "outlinewidth": 0,
                "ticks": ""
               }
              },
              "marker": {
               "colorbar": {
                "outlinewidth": 0,
                "ticks": ""
               }
              },
              "type": "scatter3d"
             }
            ],
            "scattercarpet": [
             {
              "marker": {
               "colorbar": {
                "outlinewidth": 0,
                "ticks": ""
               }
              },
              "type": "scattercarpet"
             }
            ],
            "scattergeo": [
             {
              "marker": {
               "colorbar": {
                "outlinewidth": 0,
                "ticks": ""
               }
              },
              "type": "scattergeo"
             }
            ],
            "scattergl": [
             {
              "marker": {
               "colorbar": {
                "outlinewidth": 0,
                "ticks": ""
               }
              },
              "type": "scattergl"
             }
            ],
            "scattermap": [
             {
              "marker": {
               "colorbar": {
                "outlinewidth": 0,
                "ticks": ""
               }
              },
              "type": "scattermap"
             }
            ],
            "scattermapbox": [
             {
              "marker": {
               "colorbar": {
                "outlinewidth": 0,
                "ticks": ""
               }
              },
              "type": "scattermapbox"
             }
            ],
            "scatterpolar": [
             {
              "marker": {
               "colorbar": {
                "outlinewidth": 0,
                "ticks": ""
               }
              },
              "type": "scatterpolar"
             }
            ],
            "scatterpolargl": [
             {
              "marker": {
               "colorbar": {
                "outlinewidth": 0,
                "ticks": ""
               }
              },
              "type": "scatterpolargl"
             }
            ],
            "scatterternary": [
             {
              "marker": {
               "colorbar": {
                "outlinewidth": 0,
                "ticks": ""
               }
              },
              "type": "scatterternary"
             }
            ],
            "surface": [
             {
              "colorbar": {
               "outlinewidth": 0,
               "ticks": ""
              },
              "colorscale": [
               [
                0,
                "#0d0887"
               ],
               [
                0.1111111111111111,
                "#46039f"
               ],
               [
                0.2222222222222222,
                "#7201a8"
               ],
               [
                0.3333333333333333,
                "#9c179e"
               ],
               [
                0.4444444444444444,
                "#bd3786"
               ],
               [
                0.5555555555555556,
                "#d8576b"
               ],
               [
                0.6666666666666666,
                "#ed7953"
               ],
               [
                0.7777777777777778,
                "#fb9f3a"
               ],
               [
                0.8888888888888888,
                "#fdca26"
               ],
               [
                1,
                "#f0f921"
               ]
              ],
              "type": "surface"
             }
            ],
            "table": [
             {
              "cells": {
               "fill": {
                "color": "#EBF0F8"
               },
               "line": {
                "color": "white"
               }
              },
              "header": {
               "fill": {
                "color": "#C8D4E3"
               },
               "line": {
                "color": "white"
               }
              },
              "type": "table"
             }
            ]
           },
           "layout": {
            "annotationdefaults": {
             "arrowcolor": "#2a3f5f",
             "arrowhead": 0,
             "arrowwidth": 1
            },
            "autotypenumbers": "strict",
            "coloraxis": {
             "colorbar": {
              "outlinewidth": 0,
              "ticks": ""
             }
            },
            "colorscale": {
             "diverging": [
              [
               0,
               "#8e0152"
              ],
              [
               0.1,
               "#c51b7d"
              ],
              [
               0.2,
               "#de77ae"
              ],
              [
               0.3,
               "#f1b6da"
              ],
              [
               0.4,
               "#fde0ef"
              ],
              [
               0.5,
               "#f7f7f7"
              ],
              [
               0.6,
               "#e6f5d0"
              ],
              [
               0.7,
               "#b8e186"
              ],
              [
               0.8,
               "#7fbc41"
              ],
              [
               0.9,
               "#4d9221"
              ],
              [
               1,
               "#276419"
              ]
             ],
             "sequential": [
              [
               0,
               "#0d0887"
              ],
              [
               0.1111111111111111,
               "#46039f"
              ],
              [
               0.2222222222222222,
               "#7201a8"
              ],
              [
               0.3333333333333333,
               "#9c179e"
              ],
              [
               0.4444444444444444,
               "#bd3786"
              ],
              [
               0.5555555555555556,
               "#d8576b"
              ],
              [
               0.6666666666666666,
               "#ed7953"
              ],
              [
               0.7777777777777778,
               "#fb9f3a"
              ],
              [
               0.8888888888888888,
               "#fdca26"
              ],
              [
               1,
               "#f0f921"
              ]
             ],
             "sequentialminus": [
              [
               0,
               "#0d0887"
              ],
              [
               0.1111111111111111,
               "#46039f"
              ],
              [
               0.2222222222222222,
               "#7201a8"
              ],
              [
               0.3333333333333333,
               "#9c179e"
              ],
              [
               0.4444444444444444,
               "#bd3786"
              ],
              [
               0.5555555555555556,
               "#d8576b"
              ],
              [
               0.6666666666666666,
               "#ed7953"
              ],
              [
               0.7777777777777778,
               "#fb9f3a"
              ],
              [
               0.8888888888888888,
               "#fdca26"
              ],
              [
               1,
               "#f0f921"
              ]
             ]
            },
            "colorway": [
             "#636efa",
             "#EF553B",
             "#00cc96",
             "#ab63fa",
             "#FFA15A",
             "#19d3f3",
             "#FF6692",
             "#B6E880",
             "#FF97FF",
             "#FECB52"
            ],
            "font": {
             "color": "#2a3f5f"
            },
            "geo": {
             "bgcolor": "white",
             "lakecolor": "white",
             "landcolor": "white",
             "showlakes": true,
             "showland": true,
             "subunitcolor": "#C8D4E3"
            },
            "hoverlabel": {
             "align": "left"
            },
            "hovermode": "closest",
            "mapbox": {
             "style": "light"
            },
            "paper_bgcolor": "white",
            "plot_bgcolor": "white",
            "polar": {
             "angularaxis": {
              "gridcolor": "#EBF0F8",
              "linecolor": "#EBF0F8",
              "ticks": ""
             },
             "bgcolor": "white",
             "radialaxis": {
              "gridcolor": "#EBF0F8",
              "linecolor": "#EBF0F8",
              "ticks": ""
             }
            },
            "scene": {
             "xaxis": {
              "backgroundcolor": "white",
              "gridcolor": "#DFE8F3",
              "gridwidth": 2,
              "linecolor": "#EBF0F8",
              "showbackground": true,
              "ticks": "",
              "zerolinecolor": "#EBF0F8"
             },
             "yaxis": {
              "backgroundcolor": "white",
              "gridcolor": "#DFE8F3",
              "gridwidth": 2,
              "linecolor": "#EBF0F8",
              "showbackground": true,
              "ticks": "",
              "zerolinecolor": "#EBF0F8"
             },
             "zaxis": {
              "backgroundcolor": "white",
              "gridcolor": "#DFE8F3",
              "gridwidth": 2,
              "linecolor": "#EBF0F8",
              "showbackground": true,
              "ticks": "",
              "zerolinecolor": "#EBF0F8"
             }
            },
            "shapedefaults": {
             "line": {
              "color": "#2a3f5f"
             }
            },
            "ternary": {
             "aaxis": {
              "gridcolor": "#DFE8F3",
              "linecolor": "#A2B1C6",
              "ticks": ""
             },
             "baxis": {
              "gridcolor": "#DFE8F3",
              "linecolor": "#A2B1C6",
              "ticks": ""
             },
             "bgcolor": "white",
             "caxis": {
              "gridcolor": "#DFE8F3",
              "linecolor": "#A2B1C6",
              "ticks": ""
             }
            },
            "title": {
             "x": 0.05
            },
            "xaxis": {
             "automargin": true,
             "gridcolor": "#EBF0F8",
             "linecolor": "#EBF0F8",
             "ticks": "",
             "title": {
              "standoff": 15
             },
             "zerolinecolor": "#EBF0F8",
             "zerolinewidth": 2
            },
            "yaxis": {
             "automargin": true,
             "gridcolor": "#EBF0F8",
             "linecolor": "#EBF0F8",
             "ticks": "",
             "title": {
              "standoff": 15
             },
             "zerolinecolor": "#EBF0F8",
             "zerolinewidth": 2
            }
           }
          },
          "title": {
           "font": {
            "color": "black",
            "family": "Arial",
            "size": 20,
            "weight": "bold"
           },
           "subtitle": {
            "font": {
             "color": "gray",
             "size": 13
            },
            "text": ""
           },
           "x": 0,
           "xanchor": "left",
           "xref": "paper"
          },
          "xaxis": {
           "showgrid": false,
           "tickfont": {
            "color": "grey",
            "size": 12
           },
           "ticklabelposition": "outside bottom",
           "ticklabelstandoff": 10,
           "title": {
            "font": {
             "color": "grey",
             "size": 13,
             "weight": "bold"
            },
            "standoff": 15
           },
           "zerolinecolor": "lightgrey"
          },
          "yaxis": {
           "gridcolor": "lightgrey",
           "showgrid": true,
           "tickfont": {
            "color": "grey",
            "size": 12
           },
           "ticklabelposition": "outside left",
           "ticklabelstandoff": 10,
           "title": {
            "font": {
             "color": "grey",
             "size": 13,
             "weight": "bold"
            },
            "standoff": 15
           },
           "zerolinecolor": "lightgrey"
          }
         }
        },
        "title": {
         "subtitle": {
          "text": "Ergebnisse der Studierendenbefragung 2024 im FB09"
         },
         "text": "Long-Tail in der Studierendenverteilung: Wenige große, viele kleine Studiengänge"
        },
        "xaxis": {
         "anchor": "y",
         "categoryarray": [
          "B.Sc. Ernährungswissenschaften",
          "B.Sc. Ökotrophologie",
          "M.Sc. Ernährungswissenschaften",
          "B.Sc. Agrarwissenschaften",
          "M.Sc. Transition Management",
          "M.Sc. Ökotrophologie",
          "M.Sc. Agrobiotechnologie",
          "B.Sc. Umwelt und globaler Wandel",
          "M.Sc. Insect Biotechnology and Bioresources",
          "B.Sc. Nachwachsende Rohstoffe und Bioressourcen",
          "M.Sc. Nutzpflanzenwissenschaften",
          "M.Sc. Sustainable Transition",
          "M.Sc. Agrar- und Ressourcenökonomie",
          "M.Sc. Nachhaltige Ernährungswirtschaft",
          "M.Sc. Nutztierwissenschaften*",
          "M.Sc. Oenologie/Weinwirtschaft*",
          "M.Sc. Getränketechnologie*",
          "M.Sc. Informationstechnologie",
          "M.Sc. Umweltwissenschaften"
         ],
         "categoryorder": "array",
         "domain": [
          0,
          1
         ],
         "title": {
          "text": ""
         }
        },
        "yaxis": {
         "anchor": "x",
         "domain": [
          0,
          1
         ],
         "title": {
          "text": "Anzahl Studierende"
         }
        }
       }
      }
     },
     "metadata": {},
     "output_type": "display_data"
    }
   ],
   "source": [
    "import plotly.express as px\n",
    "import pandas as pd\n",
    "\n",
    "# Neue Spalte für Bachelor/Master erstellen\n",
    "studiengang_verteilung[\"Abschlussart\"] = studiengang_verteilung[\"Studiengang\"].apply(\n",
    "    lambda x: \"Bachelor\" if \"B.Sc.\" in x else \"Master\"\n",
    ")\n",
    "\n",
    "# Farbzuordnung\n",
    "color_map = {\"Bachelor\": \"rgb(136, 204, 238)\", \"Master\": \"rgb(204, 102, 119)\"}\n",
    "\n",
    "# Sortieren nach Anzahl der Studierenden\n",
    "studiengang_verteilung = studiengang_verteilung.sort_values(by=\"Anzahl Studierende\", ascending=False)\n",
    "\n",
    "# Studiengänge als kategorische Achse setzen\n",
    "studiengang_verteilung[\"Studiengang\"] = pd.Categorical(\n",
    "    studiengang_verteilung[\"Studiengang\"],\n",
    "    categories=studiengang_verteilung[\"Studiengang\"],  # Reihenfolge aus sortiertem DataFrame übernehmen\n",
    "    ordered=True\n",
    ")\n",
    "\n",
    "# Bar-Plot\n",
    "fig = px.bar(\n",
    "    studiengang_verteilung,\n",
    "    x=\"Studiengang\",\n",
    "    y=\"Anzahl Studierende\",\n",
    "    color=\"Abschlussart\",\n",
    "    color_discrete_map=color_map,\n",
    "    title=\"Long-Tail in der Studierendenverteilung: Wenige große, viele kleine Studiengänge\",\n",
    "    subtitle=\"Ergebnisse der Studierendenbefragung 2024 im FB09\",\n",
    "    template=\"infoviz\"\n",
    ")\n",
    "\n",
    "# Achsen-Beschriftung optimieren\n",
    "fig.update_layout(\n",
    "    margin=dict(b=190, r=130),\n",
    "    xaxis_title=\"\",\n",
    "    height=600,\n",
    "    xaxis=dict(categoryorder=\"array\", categoryarray=studiengang_verteilung[\"Studiengang\"]),\n",
    "    legend=dict(\n",
    "        title=\"\",\n",
    "        orientation=\"h\",\n",
    "        yanchor=\"top\",\n",
    "        y=1.1,\n",
    "        xanchor=\"right\",\n",
    "        x=1\n",
    "    )\n",
    ")\n",
    "\n",
    "fig.show()"
   ]
  },
  {
   "cell_type": "code",
   "execution_count": 406,
   "metadata": {},
   "outputs": [
    {
     "name": "stderr",
     "output_type": "stream",
     "text": [
      "/var/folders/9v/2nh1cygd6qv3_k0knr9c4y_80000gn/T/ipykernel_45859/884453214.py:54: FutureWarning:\n",
      "\n",
      "Calling int on a single element Series is deprecated and will raise a TypeError in the future. Use int(ser.iloc[0]) instead\n",
      "\n",
      "/var/folders/9v/2nh1cygd6qv3_k0knr9c4y_80000gn/T/ipykernel_45859/884453214.py:66: FutureWarning:\n",
      "\n",
      "Calling int on a single element Series is deprecated and will raise a TypeError in the future. Use int(ser.iloc[0]) instead\n",
      "\n",
      "/var/folders/9v/2nh1cygd6qv3_k0knr9c4y_80000gn/T/ipykernel_45859/884453214.py:78: FutureWarning:\n",
      "\n",
      "Calling int on a single element Series is deprecated and will raise a TypeError in the future. Use int(ser.iloc[0]) instead\n",
      "\n",
      "/var/folders/9v/2nh1cygd6qv3_k0knr9c4y_80000gn/T/ipykernel_45859/884453214.py:90: FutureWarning:\n",
      "\n",
      "Calling int on a single element Series is deprecated and will raise a TypeError in the future. Use int(ser.iloc[0]) instead\n",
      "\n"
     ]
    },
    {
     "data": {
      "application/vnd.plotly.v1+json": {
       "config": {
        "plotlyServerURL": "https://plot.ly"
       },
       "data": [
        {
         "customdata": [
          [
           "B.Sc. Agrarwissenschaften"
          ],
          [
           "B.Sc. Ernährungswissenschaften"
          ],
          [
           "B.Sc. Nachwachsende Rohstoffe und Bioressourcen"
          ],
          [
           "B.Sc. Ökotrophologie"
          ],
          [
           "B.Sc. Umwelt und globaler Wandel"
          ],
          [
           "M.Sc. Agrar- und Ressourcenökonomie"
          ],
          [
           "M.Sc. Agrobiotechnologie"
          ],
          [
           "M.Sc. Ernährungswissenschaften"
          ],
          [
           "M.Sc. Getränketechnologie*"
          ],
          [
           "M.Sc. Informationstechnologie"
          ],
          [
           "M.Sc. Insect Biotechnology and Bioresources"
          ],
          [
           "M.Sc. Nachhaltige Ernährungswirtschaft"
          ],
          [
           "M.Sc. Nutzpflanzenwissenschaften"
          ],
          [
           "M.Sc. Nutztierwissenschaften*"
          ],
          [
           "M.Sc. Oenologie/Weinwirtschaft*"
          ],
          [
           "M.Sc. Ökotrophologie"
          ],
          [
           "M.Sc. Sustainable Transition"
          ],
          [
           "M.Sc. Transition Management"
          ],
          [
           "M.Sc. Umweltwissenschaften"
          ]
         ],
         "domain": {
          "x": [
           0,
           1
          ],
          "y": [
           0,
           1
          ]
         },
         "hole": 0.2,
         "hovertemplate": "Studiengang=%{customdata[0]}<br>Anzahl Studierende=%{value}<extra></extra>",
         "labels": [
          "B.Sc. Agrarwissenschaften",
          "B.Sc. Ernährungswissenschaften",
          "B.Sc. Nachwachsende Rohstoffe und Bioressourcen",
          "B.Sc. Ökotrophologie",
          "B.Sc. Umwelt und globaler Wandel",
          "M.Sc. Agrar- und Ressourcenökonomie",
          "M.Sc. Agrobiotechnologie",
          "M.Sc. Ernährungswissenschaften",
          "M.Sc. Getränketechnologie*",
          "M.Sc. Informationstechnologie",
          "M.Sc. Insect Biotechnology and Bioresources",
          "M.Sc. Nachhaltige Ernährungswirtschaft",
          "M.Sc. Nutzpflanzenwissenschaften",
          "M.Sc. Nutztierwissenschaften*",
          "M.Sc. Oenologie/Weinwirtschaft*",
          "M.Sc. Ökotrophologie",
          "M.Sc. Sustainable Transition",
          "M.Sc. Transition Management",
          "M.Sc. Umweltwissenschaften"
         ],
         "legendgroup": "",
         "marker": {
          "colors": [
           "rgb(17, 119, 51)",
           "rgb(136, 204, 238)",
           "lightgrey",
           "rgb(204, 102, 119)",
           "lightgrey",
           "lightgrey",
           "lightgrey",
           "rgb(221, 204, 119)",
           "lightgrey",
           "lightgrey",
           "lightgrey",
           "lightgrey",
           "lightgrey",
           "lightgrey",
           "lightgrey",
           "lightgrey",
           "lightgrey",
           "lightgrey",
           "lightgrey"
          ],
          "line": {
           "color": "black",
           "width": 1
          }
         },
         "name": "",
         "showlegend": true,
         "textinfo": "none",
         "type": "pie",
         "values": {
          "bdata": "JQHtAUUArQF0ADUAiwBSARoADQBRADMAQQApACAAmAA7AMAADQA=",
          "dtype": "i2"
         }
        }
       ],
       "layout": {
        "annotations": [
         {
          "align": "left",
          "font": {
           "color": "black",
           "size": 14
          },
          "showarrow": false,
          "text": "B.Sc. Ernährungswissenschaften<br>493 Studierende",
          "x": 0.72,
          "xanchor": "left",
          "y": 0.9
         },
         {
          "align": "right",
          "font": {
           "color": "black",
           "size": 14
          },
          "showarrow": false,
          "text": "B.Sc. Ökotrophologie<br> 429 Studierende",
          "x": 0.17,
          "xanchor": "left",
          "y": 0.9
         },
         {
          "align": "right",
          "font": {
           "color": "black",
           "size": 14
          },
          "showarrow": false,
          "text": "M.Sc. Ernährungswissenschaften<br> 338 Studierende",
          "x": 0.04,
          "xanchor": "left",
          "y": 0.5
         },
         {
          "align": "right",
          "font": {
           "color": "black",
           "size": 14
          },
          "showarrow": false,
          "text": "B.Sc. Agrarwissenschaften<br> 293 Studierende",
          "x": 0.12,
          "xanchor": "left",
          "y": 0.2
         },
         {
          "align": "left",
          "font": {
           "color": "black",
           "size": 14
          },
          "showarrow": false,
          "text": "Andere<br>1102 Studierende",
          "x": 0.73,
          "xanchor": "left",
          "y": 0.2
         }
        ],
        "font": {
         "size": 18
        },
        "height": 800,
        "legend": {
         "tracegroupgap": 0
        },
        "showlegend": false,
        "template": {
         "layout": {
          "template": {
           "data": {
            "bar": [
             {
              "error_x": {
               "color": "#2a3f5f"
              },
              "error_y": {
               "color": "#2a3f5f"
              },
              "marker": {
               "line": {
                "color": "white",
                "width": 0.5
               },
               "pattern": {
                "fillmode": "overlay",
                "size": 10,
                "solidity": 0.2
               }
              },
              "type": "bar"
             }
            ],
            "barpolar": [
             {
              "marker": {
               "line": {
                "color": "white",
                "width": 0.5
               },
               "pattern": {
                "fillmode": "overlay",
                "size": 10,
                "solidity": 0.2
               }
              },
              "type": "barpolar"
             }
            ],
            "carpet": [
             {
              "aaxis": {
               "endlinecolor": "#2a3f5f",
               "gridcolor": "#C8D4E3",
               "linecolor": "#C8D4E3",
               "minorgridcolor": "#C8D4E3",
               "startlinecolor": "#2a3f5f"
              },
              "baxis": {
               "endlinecolor": "#2a3f5f",
               "gridcolor": "#C8D4E3",
               "linecolor": "#C8D4E3",
               "minorgridcolor": "#C8D4E3",
               "startlinecolor": "#2a3f5f"
              },
              "type": "carpet"
             }
            ],
            "choropleth": [
             {
              "colorbar": {
               "outlinewidth": 0,
               "ticks": ""
              },
              "type": "choropleth"
             }
            ],
            "contour": [
             {
              "colorbar": {
               "outlinewidth": 0,
               "ticks": ""
              },
              "colorscale": [
               [
                0,
                "#0d0887"
               ],
               [
                0.1111111111111111,
                "#46039f"
               ],
               [
                0.2222222222222222,
                "#7201a8"
               ],
               [
                0.3333333333333333,
                "#9c179e"
               ],
               [
                0.4444444444444444,
                "#bd3786"
               ],
               [
                0.5555555555555556,
                "#d8576b"
               ],
               [
                0.6666666666666666,
                "#ed7953"
               ],
               [
                0.7777777777777778,
                "#fb9f3a"
               ],
               [
                0.8888888888888888,
                "#fdca26"
               ],
               [
                1,
                "#f0f921"
               ]
              ],
              "type": "contour"
             }
            ],
            "contourcarpet": [
             {
              "colorbar": {
               "outlinewidth": 0,
               "ticks": ""
              },
              "type": "contourcarpet"
             }
            ],
            "heatmap": [
             {
              "colorbar": {
               "outlinewidth": 0,
               "ticks": ""
              },
              "colorscale": [
               [
                0,
                "#0d0887"
               ],
               [
                0.1111111111111111,
                "#46039f"
               ],
               [
                0.2222222222222222,
                "#7201a8"
               ],
               [
                0.3333333333333333,
                "#9c179e"
               ],
               [
                0.4444444444444444,
                "#bd3786"
               ],
               [
                0.5555555555555556,
                "#d8576b"
               ],
               [
                0.6666666666666666,
                "#ed7953"
               ],
               [
                0.7777777777777778,
                "#fb9f3a"
               ],
               [
                0.8888888888888888,
                "#fdca26"
               ],
               [
                1,
                "#f0f921"
               ]
              ],
              "type": "heatmap"
             }
            ],
            "histogram": [
             {
              "marker": {
               "pattern": {
                "fillmode": "overlay",
                "size": 10,
                "solidity": 0.2
               }
              },
              "type": "histogram"
             }
            ],
            "histogram2d": [
             {
              "colorbar": {
               "outlinewidth": 0,
               "ticks": ""
              },
              "colorscale": [
               [
                0,
                "#0d0887"
               ],
               [
                0.1111111111111111,
                "#46039f"
               ],
               [
                0.2222222222222222,
                "#7201a8"
               ],
               [
                0.3333333333333333,
                "#9c179e"
               ],
               [
                0.4444444444444444,
                "#bd3786"
               ],
               [
                0.5555555555555556,
                "#d8576b"
               ],
               [
                0.6666666666666666,
                "#ed7953"
               ],
               [
                0.7777777777777778,
                "#fb9f3a"
               ],
               [
                0.8888888888888888,
                "#fdca26"
               ],
               [
                1,
                "#f0f921"
               ]
              ],
              "type": "histogram2d"
             }
            ],
            "histogram2dcontour": [
             {
              "colorbar": {
               "outlinewidth": 0,
               "ticks": ""
              },
              "colorscale": [
               [
                0,
                "#0d0887"
               ],
               [
                0.1111111111111111,
                "#46039f"
               ],
               [
                0.2222222222222222,
                "#7201a8"
               ],
               [
                0.3333333333333333,
                "#9c179e"
               ],
               [
                0.4444444444444444,
                "#bd3786"
               ],
               [
                0.5555555555555556,
                "#d8576b"
               ],
               [
                0.6666666666666666,
                "#ed7953"
               ],
               [
                0.7777777777777778,
                "#fb9f3a"
               ],
               [
                0.8888888888888888,
                "#fdca26"
               ],
               [
                1,
                "#f0f921"
               ]
              ],
              "type": "histogram2dcontour"
             }
            ],
            "mesh3d": [
             {
              "colorbar": {
               "outlinewidth": 0,
               "ticks": ""
              },
              "type": "mesh3d"
             }
            ],
            "parcoords": [
             {
              "line": {
               "colorbar": {
                "outlinewidth": 0,
                "ticks": ""
               }
              },
              "type": "parcoords"
             }
            ],
            "pie": [
             {
              "automargin": true,
              "type": "pie"
             }
            ],
            "scatter": [
             {
              "fillpattern": {
               "fillmode": "overlay",
               "size": 10,
               "solidity": 0.2
              },
              "type": "scatter"
             }
            ],
            "scatter3d": [
             {
              "line": {
               "colorbar": {
                "outlinewidth": 0,
                "ticks": ""
               }
              },
              "marker": {
               "colorbar": {
                "outlinewidth": 0,
                "ticks": ""
               }
              },
              "type": "scatter3d"
             }
            ],
            "scattercarpet": [
             {
              "marker": {
               "colorbar": {
                "outlinewidth": 0,
                "ticks": ""
               }
              },
              "type": "scattercarpet"
             }
            ],
            "scattergeo": [
             {
              "marker": {
               "colorbar": {
                "outlinewidth": 0,
                "ticks": ""
               }
              },
              "type": "scattergeo"
             }
            ],
            "scattergl": [
             {
              "marker": {
               "colorbar": {
                "outlinewidth": 0,
                "ticks": ""
               }
              },
              "type": "scattergl"
             }
            ],
            "scattermap": [
             {
              "marker": {
               "colorbar": {
                "outlinewidth": 0,
                "ticks": ""
               }
              },
              "type": "scattermap"
             }
            ],
            "scattermapbox": [
             {
              "marker": {
               "colorbar": {
                "outlinewidth": 0,
                "ticks": ""
               }
              },
              "type": "scattermapbox"
             }
            ],
            "scatterpolar": [
             {
              "marker": {
               "colorbar": {
                "outlinewidth": 0,
                "ticks": ""
               }
              },
              "type": "scatterpolar"
             }
            ],
            "scatterpolargl": [
             {
              "marker": {
               "colorbar": {
                "outlinewidth": 0,
                "ticks": ""
               }
              },
              "type": "scatterpolargl"
             }
            ],
            "scatterternary": [
             {
              "marker": {
               "colorbar": {
                "outlinewidth": 0,
                "ticks": ""
               }
              },
              "type": "scatterternary"
             }
            ],
            "surface": [
             {
              "colorbar": {
               "outlinewidth": 0,
               "ticks": ""
              },
              "colorscale": [
               [
                0,
                "#0d0887"
               ],
               [
                0.1111111111111111,
                "#46039f"
               ],
               [
                0.2222222222222222,
                "#7201a8"
               ],
               [
                0.3333333333333333,
                "#9c179e"
               ],
               [
                0.4444444444444444,
                "#bd3786"
               ],
               [
                0.5555555555555556,
                "#d8576b"
               ],
               [
                0.6666666666666666,
                "#ed7953"
               ],
               [
                0.7777777777777778,
                "#fb9f3a"
               ],
               [
                0.8888888888888888,
                "#fdca26"
               ],
               [
                1,
                "#f0f921"
               ]
              ],
              "type": "surface"
             }
            ],
            "table": [
             {
              "cells": {
               "fill": {
                "color": "#EBF0F8"
               },
               "line": {
                "color": "white"
               }
              },
              "header": {
               "fill": {
                "color": "#C8D4E3"
               },
               "line": {
                "color": "white"
               }
              },
              "type": "table"
             }
            ]
           },
           "layout": {
            "annotationdefaults": {
             "arrowcolor": "#2a3f5f",
             "arrowhead": 0,
             "arrowwidth": 1
            },
            "autotypenumbers": "strict",
            "coloraxis": {
             "colorbar": {
              "outlinewidth": 0,
              "ticks": ""
             }
            },
            "colorscale": {
             "diverging": [
              [
               0,
               "#8e0152"
              ],
              [
               0.1,
               "#c51b7d"
              ],
              [
               0.2,
               "#de77ae"
              ],
              [
               0.3,
               "#f1b6da"
              ],
              [
               0.4,
               "#fde0ef"
              ],
              [
               0.5,
               "#f7f7f7"
              ],
              [
               0.6,
               "#e6f5d0"
              ],
              [
               0.7,
               "#b8e186"
              ],
              [
               0.8,
               "#7fbc41"
              ],
              [
               0.9,
               "#4d9221"
              ],
              [
               1,
               "#276419"
              ]
             ],
             "sequential": [
              [
               0,
               "#0d0887"
              ],
              [
               0.1111111111111111,
               "#46039f"
              ],
              [
               0.2222222222222222,
               "#7201a8"
              ],
              [
               0.3333333333333333,
               "#9c179e"
              ],
              [
               0.4444444444444444,
               "#bd3786"
              ],
              [
               0.5555555555555556,
               "#d8576b"
              ],
              [
               0.6666666666666666,
               "#ed7953"
              ],
              [
               0.7777777777777778,
               "#fb9f3a"
              ],
              [
               0.8888888888888888,
               "#fdca26"
              ],
              [
               1,
               "#f0f921"
              ]
             ],
             "sequentialminus": [
              [
               0,
               "#0d0887"
              ],
              [
               0.1111111111111111,
               "#46039f"
              ],
              [
               0.2222222222222222,
               "#7201a8"
              ],
              [
               0.3333333333333333,
               "#9c179e"
              ],
              [
               0.4444444444444444,
               "#bd3786"
              ],
              [
               0.5555555555555556,
               "#d8576b"
              ],
              [
               0.6666666666666666,
               "#ed7953"
              ],
              [
               0.7777777777777778,
               "#fb9f3a"
              ],
              [
               0.8888888888888888,
               "#fdca26"
              ],
              [
               1,
               "#f0f921"
              ]
             ]
            },
            "colorway": [
             "#636efa",
             "#EF553B",
             "#00cc96",
             "#ab63fa",
             "#FFA15A",
             "#19d3f3",
             "#FF6692",
             "#B6E880",
             "#FF97FF",
             "#FECB52"
            ],
            "font": {
             "color": "#2a3f5f"
            },
            "geo": {
             "bgcolor": "white",
             "lakecolor": "white",
             "landcolor": "white",
             "showlakes": true,
             "showland": true,
             "subunitcolor": "#C8D4E3"
            },
            "hoverlabel": {
             "align": "left"
            },
            "hovermode": "closest",
            "mapbox": {
             "style": "light"
            },
            "paper_bgcolor": "white",
            "plot_bgcolor": "white",
            "polar": {
             "angularaxis": {
              "gridcolor": "#EBF0F8",
              "linecolor": "#EBF0F8",
              "ticks": ""
             },
             "bgcolor": "white",
             "radialaxis": {
              "gridcolor": "#EBF0F8",
              "linecolor": "#EBF0F8",
              "ticks": ""
             }
            },
            "scene": {
             "xaxis": {
              "backgroundcolor": "white",
              "gridcolor": "#DFE8F3",
              "gridwidth": 2,
              "linecolor": "#EBF0F8",
              "showbackground": true,
              "ticks": "",
              "zerolinecolor": "#EBF0F8"
             },
             "yaxis": {
              "backgroundcolor": "white",
              "gridcolor": "#DFE8F3",
              "gridwidth": 2,
              "linecolor": "#EBF0F8",
              "showbackground": true,
              "ticks": "",
              "zerolinecolor": "#EBF0F8"
             },
             "zaxis": {
              "backgroundcolor": "white",
              "gridcolor": "#DFE8F3",
              "gridwidth": 2,
              "linecolor": "#EBF0F8",
              "showbackground": true,
              "ticks": "",
              "zerolinecolor": "#EBF0F8"
             }
            },
            "shapedefaults": {
             "line": {
              "color": "#2a3f5f"
             }
            },
            "ternary": {
             "aaxis": {
              "gridcolor": "#DFE8F3",
              "linecolor": "#A2B1C6",
              "ticks": ""
             },
             "baxis": {
              "gridcolor": "#DFE8F3",
              "linecolor": "#A2B1C6",
              "ticks": ""
             },
             "bgcolor": "white",
             "caxis": {
              "gridcolor": "#DFE8F3",
              "linecolor": "#A2B1C6",
              "ticks": ""
             }
            },
            "title": {
             "x": 0.05
            },
            "xaxis": {
             "automargin": true,
             "gridcolor": "#EBF0F8",
             "linecolor": "#EBF0F8",
             "ticks": "",
             "title": {
              "standoff": 15
             },
             "zerolinecolor": "#EBF0F8",
             "zerolinewidth": 2
            },
            "yaxis": {
             "automargin": true,
             "gridcolor": "#EBF0F8",
             "linecolor": "#EBF0F8",
             "ticks": "",
             "title": {
              "standoff": 15
             },
             "zerolinecolor": "#EBF0F8",
             "zerolinewidth": 2
            }
           }
          },
          "title": {
           "font": {
            "color": "black",
            "family": "Arial",
            "size": 20,
            "weight": "bold"
           },
           "subtitle": {
            "font": {
             "color": "gray",
             "size": 13
            },
            "text": ""
           },
           "x": 0,
           "xanchor": "left",
           "xref": "paper"
          },
          "xaxis": {
           "showgrid": false,
           "tickfont": {
            "color": "grey",
            "size": 12
           },
           "ticklabelposition": "outside bottom",
           "ticklabelstandoff": 10,
           "title": {
            "font": {
             "color": "grey",
             "size": 13,
             "weight": "bold"
            },
            "standoff": 15
           },
           "zerolinecolor": "lightgrey"
          },
          "yaxis": {
           "gridcolor": "lightgrey",
           "showgrid": true,
           "tickfont": {
            "color": "grey",
            "size": 12
           },
           "ticklabelposition": "outside left",
           "ticklabelstandoff": 10,
           "title": {
            "font": {
             "color": "grey",
             "size": 13,
             "weight": "bold"
            },
            "standoff": 15
           },
           "zerolinecolor": "lightgrey"
          }
         }
        },
        "title": {
         "font": {
          "color": "black",
          "family": "Arial",
          "size": 20,
          "weight": "bold"
         },
         "subtitle": {
          "font": {
           "color": "gray",
           "size": 13
          },
          "text": "Ergebnisse der Studierendenbefragung 2024 im FB09"
         },
         "text": "Die vier größten Studiengänge machen über 50% aller Studierenden aus",
         "x": 0.08,
         "xanchor": "left",
         "xref": "container"
        },
        "width": 1400
       }
      }
     },
     "metadata": {},
     "output_type": "display_data"
    }
   ],
   "source": [
    "import pandas as pd\n",
    "import plotly.express as px\n",
    "\n",
    "# Sicherstellen, dass die Spalte \"Anzahl Studierende\" numerisch ist\n",
    "studiengang_verteilung[\"Anzahl Studierende\"] = pd.to_numeric(studiengang_verteilung[\"Anzahl Studierende\"], errors=\"coerce\").fillna(0)\n",
    "\n",
    "# Die vier größten Studiengänge identifizieren\n",
    "top4_studiengaenge = studiengang_verteilung.nlargest(4, \"Anzahl Studierende\")[\"Studiengang\"].tolist()\n",
    "\n",
    "# Farbzuordnung: Top 4 in festen Farben, Rest in Grau\n",
    "color_map = {studiengang: px.colors.qualitative.Safe[i] for i, studiengang in enumerate(top4_studiengaenge)}\n",
    "color_map.update({studiengang: \"lightgrey\" for studiengang in studiengang_verteilung[\"Studiengang\"] if studiengang not in top4_studiengaenge})\n",
    "\n",
    "# Pie-Chart erstellen\n",
    "fig = px.pie(\n",
    "    studiengang_verteilung,\n",
    "    values=\"Anzahl Studierende\",\n",
    "    names=\"Studiengang\",\n",
    "    title=\"Die vier größten Studiengänge machen über 50% aller Studierenden aus\",\n",
    "    subtitle=\"Ergebnisse der Studierendenbefragung 2024 im FB09\",\n",
    "    color=\"Studiengang\",\n",
    "    color_discrete_map=color_map,\n",
    "    template=\"infoviz\",\n",
    "    hole=0.2\n",
    ")\n",
    "\n",
    "\n",
    "# Schriftgrößen und Layout anpassen\n",
    "fig.update_layout(\n",
    "    font=dict(size=18),  # Generelle Schriftgröße\n",
    "    width=1400,  # Breite des Diagramms\n",
    "    height=800,   # Höhe des Diagramms\n",
    "    showlegend=False,  # Legende ausblenden\n",
    "    title=dict(\n",
    "        font=dict(size=20, family=\"Arial\", weight=\"bold\", color=\"black\"),\n",
    "        xanchor=\"left\",  \n",
    "        xref=\"container\",\n",
    "        x=0.08,\n",
    "        subtitle=dict(\n",
    "            font=dict(color=\"gray\", size=13),\n",
    "        ),\n",
    "    ),\n",
    ")\n",
    "\n",
    "# Labels innerhalb des Pie-Charts entfernen & Linienfarbe setzen\n",
    "fig.update_traces(\n",
    "    textinfo=\"none\",  # Keine direkten Labels\n",
    "    marker=dict(line=dict(color=\"black\", width=1))  # Schwarze Trennlinien zwischen Segmenten\n",
    ")\n",
    "\n",
    "studiengang = \"B.Sc. Ernährungswissenschaften\"\n",
    "value = studiengang_verteilung.loc[studiengang_verteilung[\"Studiengang\"] == studiengang, \"Anzahl Studierende\"]    \n",
    "fig.add_annotation(\n",
    "    text=f\"{studiengang}<br>{int(value)} Studierende\",  \n",
    "    x=0.72, \n",
    "    y=0.9,  \n",
    "    showarrow=False,\n",
    "    font=dict(size=14, color=\"black\",),\n",
    "    align=\"left\",\n",
    "    xanchor=\"left\"\n",
    ")\n",
    "\n",
    "studiengang = \"B.Sc. Ökotrophologie\"\n",
    "value = studiengang_verteilung.loc[studiengang_verteilung[\"Studiengang\"] == studiengang, \"Anzahl Studierende\"]    \n",
    "fig.add_annotation(\n",
    "    text=f\"{studiengang}<br> {int(value)} Studierende\",  \n",
    "    x=0.17, \n",
    "    y=0.9,  \n",
    "    showarrow=False,\n",
    "    font=dict(size=14, color=\"black\",),\n",
    "    align=\"right\",\n",
    "    xanchor=\"left\"\n",
    ")\n",
    "\n",
    "studiengang = \"M.Sc. Ernährungswissenschaften\"\n",
    "value = studiengang_verteilung.loc[studiengang_verteilung[\"Studiengang\"] == studiengang, \"Anzahl Studierende\"]    \n",
    "fig.add_annotation(\n",
    "    text=f\"{studiengang}<br> {int(value)} Studierende\",  \n",
    "    x=0.04, \n",
    "    y=0.5,  \n",
    "    showarrow=False,\n",
    "    font=dict(size=14, color=\"black\",),\n",
    "    align=\"right\",\n",
    "    xanchor=\"left\"\n",
    ")\n",
    "\n",
    "studiengang = \"B.Sc. Agrarwissenschaften\"\n",
    "value = studiengang_verteilung.loc[studiengang_verteilung[\"Studiengang\"] == studiengang, \"Anzahl Studierende\"]    \n",
    "fig.add_annotation(\n",
    "    text=f\"{studiengang}<br> {int(value)} Studierende\",  \n",
    "    x=0.12, \n",
    "    y=0.2,  \n",
    "    showarrow=False,\n",
    "    font=dict(size=14, color=\"black\",),\n",
    "    align=\"right\",\n",
    "    xanchor=\"left\",\n",
    ")\n",
    "\n",
    "\n",
    "value = studiengang_verteilung.loc[studiengang_verteilung[\"Studiengang\"] == studiengang, \"Anzahl Studierende\"]    \n",
    "fig.add_annotation(\n",
    "    text=f\"Andere<br>1102 Studierende\",  \n",
    "    x=0.73, \n",
    "    y=0.2,  \n",
    "    showarrow=False,\n",
    "    font=dict(size=14, color=\"black\",),\n",
    "    align=\"left\",\n",
    "    xanchor=\"left\",\n",
    ")\n",
    "\n",
    "fig.show()"
   ]
  },
  {
   "cell_type": "code",
   "execution_count": null,
   "metadata": {},
   "outputs": [],
   "source": []
  }
 ],
 "metadata": {
  "kernelspec": {
   "display_name": "mein_env",
   "language": "python",
   "name": "python3"
  },
  "language_info": {
   "codemirror_mode": {
    "name": "ipython",
    "version": 3
   },
   "file_extension": ".py",
   "mimetype": "text/x-python",
   "name": "python",
   "nbconvert_exporter": "python",
   "pygments_lexer": "ipython3",
   "version": "3.10.16"
  }
 },
 "nbformat": 4,
 "nbformat_minor": 2
}
