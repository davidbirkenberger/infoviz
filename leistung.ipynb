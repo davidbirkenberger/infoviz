{
 "cells": [
  {
   "cell_type": "markdown",
   "metadata": {},
   "source": [
    "# Subjektive Leistungseinschätzung\n",
    "- Bubble chart\n",
    "- Stacked Barchart"
   ]
  },
  {
   "cell_type": "code",
   "execution_count": 11,
   "metadata": {},
   "outputs": [],
   "source": [
    "import pandas as pd\n",
    "\n",
    "# Datei einlesen (ersetze 'data.xlsx' durch den tatsächlichen Dateinamen)\n",
    "file_path = \"data.xlsx\"\n",
    "\n",
    "# Alle Sheets einlesen, aber das erste Blatt ignorieren\n",
    "sheets = pd.read_excel(file_path, sheet_name=None, engine=\"openpyxl\")\n",
    "\n",
    "# Erstes Blatt entfernen\n",
    "sheets.pop(next(iter(sheets)))\n",
    "\n",
    "# Dictionary zur Speicherung der berechneten Werte\n",
    "leistung_df = {}\n",
    "\n",
    "# Durch alle Jahre iterieren\n",
    "for jahr, df in sheets.items():\n",
    "    df.columns = df.columns.astype(str).str.strip()  # Spaltennamen bereinigen\n",
    "\n",
    "    # Studiengänge automatisch erkennen\n",
    "    studiengaenge = [col for col in df.columns if \"Bachelor\" in col or \"Master\" in col]\n",
    "\n",
    "    # Extrahiere die Zeilen für die subjektive Leistungseinschätzung\n",
    "    positiv_row = df[(df[\"Variable\"] == \"Subjektive Leistungseinschätzung\") & (df[\"Category\"] == \"Positiv Einschätzung (%)\")]\n",
    "    indifferent_row = df[(df[\"Variable\"] == \"Subjektive Leistungseinschätzung\") & (df[\"Category\"] == \"Indifferent (%)\")]\n",
    "    negativ_row = df[(df[\"Variable\"] == \"Subjektive Leistungseinschätzung\") & (df[\"Category\"] == \"Negativ Einschätzung (%)\")]\n",
    "\n",
    "    # Extrahiere die Gesamtanzahl der Studierenden pro Studiengang\n",
    "    total_students_row = df[(df[\"Variable\"] == \"Subjektive Leistungseinschätzung\") & (df[\"Category\"] == \"Anzahl\")]\n",
    "\n",
    "    if positiv_row.empty or indifferent_row.empty or negativ_row.empty or total_students_row.empty:\n",
    "        print(f\"Warnung: Fehlende Daten für {jahr}. Überspringe...\")\n",
    "        continue  \n",
    "\n",
    "    # Gemeinsame Studiengangs-Spalten bestimmen\n",
    "    common_columns = positiv_row.columns.intersection(total_students_row.columns)[2:]\n",
    "\n",
    "    # Werte als Float konvertieren und NaN durch 0 ersetzen\n",
    "    positiv_values = positiv_row[common_columns].astype(float).fillna(0).squeeze()\n",
    "    indifferent_values = indifferent_row[common_columns].astype(float).fillna(0).squeeze()\n",
    "    negativ_values = negativ_row[common_columns].astype(float).fillna(0).squeeze()\n",
    "    total_students_values = total_students_row[common_columns].astype(float).fillna(0).squeeze()\n",
    "\n",
    "    # Absolute Anzahl für jede Kategorie berechnen\n",
    "    abs_positiv = (positiv_values / 100) * total_students_values\n",
    "    abs_indifferent = (indifferent_values / 100) * total_students_values\n",
    "    abs_negativ = (negativ_values / 100) * total_students_values\n",
    "\n",
    "    # Gesamtsummen für gewichtete Berechnung\n",
    "    total_abs_positiv = abs_positiv.sum()\n",
    "    total_abs_indifferent = abs_indifferent.sum()\n",
    "    total_abs_negativ = abs_negativ.sum()\n",
    "    total_students = total_students_values.sum()\n",
    "\n",
    "    # Gewichtete Anteile berechnen\n",
    "    gewichteter_positiv = (total_abs_positiv / total_students) * 100 if total_students > 0 else 0\n",
    "    gewichteter_indifferent = (total_abs_indifferent / total_students) * 100 if total_students > 0 else 0\n",
    "    gewichteter_negativ = (total_abs_negativ / total_students) * 100 if total_students > 0 else 0\n",
    "\n",
    "    # Speichern der Ergebnisse\n",
    "    leistung_df[jahr] = {\n",
    "        \"Gewichteter Positiv (%)\": gewichteter_positiv,\n",
    "        \"Gewichteter Indifferent (%)\": gewichteter_indifferent,\n",
    "        \"Gewichteter Negativ (%)\": gewichteter_negativ\n",
    "    }\n",
    "\n",
    "# DataFrame erstellen\n",
    "df_leistung = pd.DataFrame.from_dict(leistung_df, orient=\"index\").reset_index()\n",
    "df_leistung.rename(columns={\"index\": \"Jahr\"}, inplace=True)\n",
    "df_leistung = df_leistung.sort_values(by=\"Jahr\")"
   ]
  },
  {
   "cell_type": "code",
   "execution_count": 12,
   "metadata": {},
   "outputs": [],
   "source": [
    "import plotly.io as pio\n",
    "\n",
    "# Benutzerdefiniertes Template definieren\n",
    "infoviz_template = dict(\n",
    "    layout=dict(\n",
    "        template=\"plotly_white\",\n",
    "        title=dict(\n",
    "            font=dict(size=20, family=\"Arial\", weight=\"bold\", color=\"black\"),\n",
    "            y=0.91,  # Titel weiter nach oben\n",
    "            x=0.05,  # Links ausgerichtet\n",
    "            xanchor=\"left\",  # Linksbündig\n",
    "        ),\n",
    "        xaxis=dict(\n",
    "            showgrid=False,\n",
    "            zerolinecolor=\"lightgrey\",\n",
    "            tickfont=dict(color=\"grey\", size=12),\n",
    "            title_font=dict(color=\"grey\", weight=\"bold\", size=13),\n",
    "            title_standoff=15,\n",
    "            ticklabelposition=\"outside bottom\"\n",
    "        ),\n",
    "        yaxis=dict(\n",
    "            showgrid=True, gridcolor=\"lightgrey\",\n",
    "            zerolinecolor=\"lightgrey\",\n",
    "            tickfont=dict(color=\"grey\", size=12),\n",
    "            title_font=dict(color=\"grey\", weight=\"bold\", size=13),\n",
    "            title_standoff=15,\n",
    "            ticklabelposition=\"outside left\"\n",
    "        ),\n",
    "    )\n",
    ")\n",
    "pio.templates[\"infoviz\"] = infoviz_template"
   ]
  },
  {
   "cell_type": "code",
   "execution_count": null,
   "metadata": {},
   "outputs": [
    {
     "data": {
      "application/vnd.plotly.v1+json": {
       "config": {
        "plotlyServerURL": "https://plot.ly"
       },
       "data": [
        {
         "hovertemplate": "Einschätzung=Gewichteter Positiv (%)<br>Jahr=%{x}<br>Prozent=%{y}<extra></extra>",
         "legendgroup": "Gewichteter Positiv (%)",
         "marker": {
          "color": "#2ca02c",
          "pattern": {
           "shape": ""
          }
         },
         "name": "Gewichteter Positiv (%)",
         "orientation": "v",
         "showlegend": true,
         "textposition": "auto",
         "type": "bar",
         "x": [
          "2013",
          "2014",
          "2015",
          "2016",
          "2017",
          "2018",
          "2019",
          "2020",
          "2021",
          "2022",
          "2023",
          "2024"
         ],
         "xaxis": "x",
         "y": {
          "bdata": "P6PEzyixRECP4ziO41REQHQEirYaPENAcFGjPS9PQkBg0avSmD5DQIJ+gX6BPkVAo0L35z0qRkDvWTxvNsZGQIHnNHuVa0ZA1DaHmAawR0DKfRXmRAdNQIjCoJYTOUxA",
          "dtype": "f8"
         },
         "yaxis": "y"
        },
        {
         "hovertemplate": "Einschätzung=Gewichteter Indifferent (%)<br>Jahr=%{x}<br>Prozent=%{y}<extra></extra>",
         "legendgroup": "Gewichteter Indifferent (%)",
         "marker": {
          "color": "#ffcc00",
          "pattern": {
           "shape": ""
          }
         },
         "name": "Gewichteter Indifferent (%)",
         "orientation": "v",
         "showlegend": true,
         "textposition": "auto",
         "type": "bar",
         "x": [
          "2013",
          "2014",
          "2015",
          "2016",
          "2017",
          "2018",
          "2019",
          "2020",
          "2021",
          "2022",
          "2023",
          "2024"
         ],
         "xaxis": "x",
         "y": {
          "bdata": "Tm9605veIUCO4ziO43gbQGCXVD6M+xxAiyM5iUdpHkD1qjSmz28dQFmnWKdYpxZAhO7Pe1ToHkCn30FRIiEYQOrdX1KY4xdAdfQLjxmKQ0C12o4m99VAQOrFIQqD2kBA",
          "dtype": "f8"
         },
         "yaxis": "y"
        },
        {
         "hovertemplate": "Einschätzung=Gewichteter Negativ (%)<br>Jahr=%{x}<br>Prozent=%{y}<extra></extra>",
         "legendgroup": "Gewichteter Negativ (%)",
         "marker": {
          "color": "#d62728",
          "pattern": {
           "shape": ""
          }
         },
         "name": "Gewichteter Negativ (%)",
         "orientation": "v",
         "showlegend": true,
         "textposition": "auto",
         "type": "bar",
         "x": [
          "2013",
          "2014",
          "2015",
          "2016",
          "2017",
          "2018",
          "2019",
          "2020",
          "2021",
          "2022",
          "2023",
          "2024"
         ],
         "xaxis": "x",
         "y": {
          "bdata": "hyxkIQvZSEAAAAAAACBKQHQEirYaPEtAQt6iRnveS0Aw8h/WEAlLQKtUq1Sr1ElAcHdIBxT3R0DfbIy8kixIQHGEmyoImUhArOD78WmbK0CnW/PDImUgQH3y+zFCeiNA",
          "dtype": "f8"
         },
         "yaxis": "y"
        }
       ],
       "layout": {
        "barmode": "stack",
        "legend": {
         "title": {
          "text": "Einschätzung"
         },
         "tracegroupgap": 0
        },
        "template": {
         "layout": {
          "template": {
           "data": {
            "bar": [
             {
              "error_x": {
               "color": "#2a3f5f"
              },
              "error_y": {
               "color": "#2a3f5f"
              },
              "marker": {
               "line": {
                "color": "white",
                "width": 0.5
               },
               "pattern": {
                "fillmode": "overlay",
                "size": 10,
                "solidity": 0.2
               }
              },
              "type": "bar"
             }
            ],
            "barpolar": [
             {
              "marker": {
               "line": {
                "color": "white",
                "width": 0.5
               },
               "pattern": {
                "fillmode": "overlay",
                "size": 10,
                "solidity": 0.2
               }
              },
              "type": "barpolar"
             }
            ],
            "carpet": [
             {
              "aaxis": {
               "endlinecolor": "#2a3f5f",
               "gridcolor": "#C8D4E3",
               "linecolor": "#C8D4E3",
               "minorgridcolor": "#C8D4E3",
               "startlinecolor": "#2a3f5f"
              },
              "baxis": {
               "endlinecolor": "#2a3f5f",
               "gridcolor": "#C8D4E3",
               "linecolor": "#C8D4E3",
               "minorgridcolor": "#C8D4E3",
               "startlinecolor": "#2a3f5f"
              },
              "type": "carpet"
             }
            ],
            "choropleth": [
             {
              "colorbar": {
               "outlinewidth": 0,
               "ticks": ""
              },
              "type": "choropleth"
             }
            ],
            "contour": [
             {
              "colorbar": {
               "outlinewidth": 0,
               "ticks": ""
              },
              "colorscale": [
               [
                0,
                "#0d0887"
               ],
               [
                0.1111111111111111,
                "#46039f"
               ],
               [
                0.2222222222222222,
                "#7201a8"
               ],
               [
                0.3333333333333333,
                "#9c179e"
               ],
               [
                0.4444444444444444,
                "#bd3786"
               ],
               [
                0.5555555555555556,
                "#d8576b"
               ],
               [
                0.6666666666666666,
                "#ed7953"
               ],
               [
                0.7777777777777778,
                "#fb9f3a"
               ],
               [
                0.8888888888888888,
                "#fdca26"
               ],
               [
                1,
                "#f0f921"
               ]
              ],
              "type": "contour"
             }
            ],
            "contourcarpet": [
             {
              "colorbar": {
               "outlinewidth": 0,
               "ticks": ""
              },
              "type": "contourcarpet"
             }
            ],
            "heatmap": [
             {
              "colorbar": {
               "outlinewidth": 0,
               "ticks": ""
              },
              "colorscale": [
               [
                0,
                "#0d0887"
               ],
               [
                0.1111111111111111,
                "#46039f"
               ],
               [
                0.2222222222222222,
                "#7201a8"
               ],
               [
                0.3333333333333333,
                "#9c179e"
               ],
               [
                0.4444444444444444,
                "#bd3786"
               ],
               [
                0.5555555555555556,
                "#d8576b"
               ],
               [
                0.6666666666666666,
                "#ed7953"
               ],
               [
                0.7777777777777778,
                "#fb9f3a"
               ],
               [
                0.8888888888888888,
                "#fdca26"
               ],
               [
                1,
                "#f0f921"
               ]
              ],
              "type": "heatmap"
             }
            ],
            "histogram": [
             {
              "marker": {
               "pattern": {
                "fillmode": "overlay",
                "size": 10,
                "solidity": 0.2
               }
              },
              "type": "histogram"
             }
            ],
            "histogram2d": [
             {
              "colorbar": {
               "outlinewidth": 0,
               "ticks": ""
              },
              "colorscale": [
               [
                0,
                "#0d0887"
               ],
               [
                0.1111111111111111,
                "#46039f"
               ],
               [
                0.2222222222222222,
                "#7201a8"
               ],
               [
                0.3333333333333333,
                "#9c179e"
               ],
               [
                0.4444444444444444,
                "#bd3786"
               ],
               [
                0.5555555555555556,
                "#d8576b"
               ],
               [
                0.6666666666666666,
                "#ed7953"
               ],
               [
                0.7777777777777778,
                "#fb9f3a"
               ],
               [
                0.8888888888888888,
                "#fdca26"
               ],
               [
                1,
                "#f0f921"
               ]
              ],
              "type": "histogram2d"
             }
            ],
            "histogram2dcontour": [
             {
              "colorbar": {
               "outlinewidth": 0,
               "ticks": ""
              },
              "colorscale": [
               [
                0,
                "#0d0887"
               ],
               [
                0.1111111111111111,
                "#46039f"
               ],
               [
                0.2222222222222222,
                "#7201a8"
               ],
               [
                0.3333333333333333,
                "#9c179e"
               ],
               [
                0.4444444444444444,
                "#bd3786"
               ],
               [
                0.5555555555555556,
                "#d8576b"
               ],
               [
                0.6666666666666666,
                "#ed7953"
               ],
               [
                0.7777777777777778,
                "#fb9f3a"
               ],
               [
                0.8888888888888888,
                "#fdca26"
               ],
               [
                1,
                "#f0f921"
               ]
              ],
              "type": "histogram2dcontour"
             }
            ],
            "mesh3d": [
             {
              "colorbar": {
               "outlinewidth": 0,
               "ticks": ""
              },
              "type": "mesh3d"
             }
            ],
            "parcoords": [
             {
              "line": {
               "colorbar": {
                "outlinewidth": 0,
                "ticks": ""
               }
              },
              "type": "parcoords"
             }
            ],
            "pie": [
             {
              "automargin": true,
              "type": "pie"
             }
            ],
            "scatter": [
             {
              "fillpattern": {
               "fillmode": "overlay",
               "size": 10,
               "solidity": 0.2
              },
              "type": "scatter"
             }
            ],
            "scatter3d": [
             {
              "line": {
               "colorbar": {
                "outlinewidth": 0,
                "ticks": ""
               }
              },
              "marker": {
               "colorbar": {
                "outlinewidth": 0,
                "ticks": ""
               }
              },
              "type": "scatter3d"
             }
            ],
            "scattercarpet": [
             {
              "marker": {
               "colorbar": {
                "outlinewidth": 0,
                "ticks": ""
               }
              },
              "type": "scattercarpet"
             }
            ],
            "scattergeo": [
             {
              "marker": {
               "colorbar": {
                "outlinewidth": 0,
                "ticks": ""
               }
              },
              "type": "scattergeo"
             }
            ],
            "scattergl": [
             {
              "marker": {
               "colorbar": {
                "outlinewidth": 0,
                "ticks": ""
               }
              },
              "type": "scattergl"
             }
            ],
            "scattermap": [
             {
              "marker": {
               "colorbar": {
                "outlinewidth": 0,
                "ticks": ""
               }
              },
              "type": "scattermap"
             }
            ],
            "scattermapbox": [
             {
              "marker": {
               "colorbar": {
                "outlinewidth": 0,
                "ticks": ""
               }
              },
              "type": "scattermapbox"
             }
            ],
            "scatterpolar": [
             {
              "marker": {
               "colorbar": {
                "outlinewidth": 0,
                "ticks": ""
               }
              },
              "type": "scatterpolar"
             }
            ],
            "scatterpolargl": [
             {
              "marker": {
               "colorbar": {
                "outlinewidth": 0,
                "ticks": ""
               }
              },
              "type": "scatterpolargl"
             }
            ],
            "scatterternary": [
             {
              "marker": {
               "colorbar": {
                "outlinewidth": 0,
                "ticks": ""
               }
              },
              "type": "scatterternary"
             }
            ],
            "surface": [
             {
              "colorbar": {
               "outlinewidth": 0,
               "ticks": ""
              },
              "colorscale": [
               [
                0,
                "#0d0887"
               ],
               [
                0.1111111111111111,
                "#46039f"
               ],
               [
                0.2222222222222222,
                "#7201a8"
               ],
               [
                0.3333333333333333,
                "#9c179e"
               ],
               [
                0.4444444444444444,
                "#bd3786"
               ],
               [
                0.5555555555555556,
                "#d8576b"
               ],
               [
                0.6666666666666666,
                "#ed7953"
               ],
               [
                0.7777777777777778,
                "#fb9f3a"
               ],
               [
                0.8888888888888888,
                "#fdca26"
               ],
               [
                1,
                "#f0f921"
               ]
              ],
              "type": "surface"
             }
            ],
            "table": [
             {
              "cells": {
               "fill": {
                "color": "#EBF0F8"
               },
               "line": {
                "color": "white"
               }
              },
              "header": {
               "fill": {
                "color": "#C8D4E3"
               },
               "line": {
                "color": "white"
               }
              },
              "type": "table"
             }
            ]
           },
           "layout": {
            "annotationdefaults": {
             "arrowcolor": "#2a3f5f",
             "arrowhead": 0,
             "arrowwidth": 1
            },
            "autotypenumbers": "strict",
            "coloraxis": {
             "colorbar": {
              "outlinewidth": 0,
              "ticks": ""
             }
            },
            "colorscale": {
             "diverging": [
              [
               0,
               "#8e0152"
              ],
              [
               0.1,
               "#c51b7d"
              ],
              [
               0.2,
               "#de77ae"
              ],
              [
               0.3,
               "#f1b6da"
              ],
              [
               0.4,
               "#fde0ef"
              ],
              [
               0.5,
               "#f7f7f7"
              ],
              [
               0.6,
               "#e6f5d0"
              ],
              [
               0.7,
               "#b8e186"
              ],
              [
               0.8,
               "#7fbc41"
              ],
              [
               0.9,
               "#4d9221"
              ],
              [
               1,
               "#276419"
              ]
             ],
             "sequential": [
              [
               0,
               "#0d0887"
              ],
              [
               0.1111111111111111,
               "#46039f"
              ],
              [
               0.2222222222222222,
               "#7201a8"
              ],
              [
               0.3333333333333333,
               "#9c179e"
              ],
              [
               0.4444444444444444,
               "#bd3786"
              ],
              [
               0.5555555555555556,
               "#d8576b"
              ],
              [
               0.6666666666666666,
               "#ed7953"
              ],
              [
               0.7777777777777778,
               "#fb9f3a"
              ],
              [
               0.8888888888888888,
               "#fdca26"
              ],
              [
               1,
               "#f0f921"
              ]
             ],
             "sequentialminus": [
              [
               0,
               "#0d0887"
              ],
              [
               0.1111111111111111,
               "#46039f"
              ],
              [
               0.2222222222222222,
               "#7201a8"
              ],
              [
               0.3333333333333333,
               "#9c179e"
              ],
              [
               0.4444444444444444,
               "#bd3786"
              ],
              [
               0.5555555555555556,
               "#d8576b"
              ],
              [
               0.6666666666666666,
               "#ed7953"
              ],
              [
               0.7777777777777778,
               "#fb9f3a"
              ],
              [
               0.8888888888888888,
               "#fdca26"
              ],
              [
               1,
               "#f0f921"
              ]
             ]
            },
            "colorway": [
             "#636efa",
             "#EF553B",
             "#00cc96",
             "#ab63fa",
             "#FFA15A",
             "#19d3f3",
             "#FF6692",
             "#B6E880",
             "#FF97FF",
             "#FECB52"
            ],
            "font": {
             "color": "#2a3f5f"
            },
            "geo": {
             "bgcolor": "white",
             "lakecolor": "white",
             "landcolor": "white",
             "showlakes": true,
             "showland": true,
             "subunitcolor": "#C8D4E3"
            },
            "hoverlabel": {
             "align": "left"
            },
            "hovermode": "closest",
            "mapbox": {
             "style": "light"
            },
            "paper_bgcolor": "white",
            "plot_bgcolor": "white",
            "polar": {
             "angularaxis": {
              "gridcolor": "#EBF0F8",
              "linecolor": "#EBF0F8",
              "ticks": ""
             },
             "bgcolor": "white",
             "radialaxis": {
              "gridcolor": "#EBF0F8",
              "linecolor": "#EBF0F8",
              "ticks": ""
             }
            },
            "scene": {
             "xaxis": {
              "backgroundcolor": "white",
              "gridcolor": "#DFE8F3",
              "gridwidth": 2,
              "linecolor": "#EBF0F8",
              "showbackground": true,
              "ticks": "",
              "zerolinecolor": "#EBF0F8"
             },
             "yaxis": {
              "backgroundcolor": "white",
              "gridcolor": "#DFE8F3",
              "gridwidth": 2,
              "linecolor": "#EBF0F8",
              "showbackground": true,
              "ticks": "",
              "zerolinecolor": "#EBF0F8"
             },
             "zaxis": {
              "backgroundcolor": "white",
              "gridcolor": "#DFE8F3",
              "gridwidth": 2,
              "linecolor": "#EBF0F8",
              "showbackground": true,
              "ticks": "",
              "zerolinecolor": "#EBF0F8"
             }
            },
            "shapedefaults": {
             "line": {
              "color": "#2a3f5f"
             }
            },
            "ternary": {
             "aaxis": {
              "gridcolor": "#DFE8F3",
              "linecolor": "#A2B1C6",
              "ticks": ""
             },
             "baxis": {
              "gridcolor": "#DFE8F3",
              "linecolor": "#A2B1C6",
              "ticks": ""
             },
             "bgcolor": "white",
             "caxis": {
              "gridcolor": "#DFE8F3",
              "linecolor": "#A2B1C6",
              "ticks": ""
             }
            },
            "title": {
             "x": 0.05
            },
            "xaxis": {
             "automargin": true,
             "gridcolor": "#EBF0F8",
             "linecolor": "#EBF0F8",
             "ticks": "",
             "title": {
              "standoff": 15
             },
             "zerolinecolor": "#EBF0F8",
             "zerolinewidth": 2
            },
            "yaxis": {
             "automargin": true,
             "gridcolor": "#EBF0F8",
             "linecolor": "#EBF0F8",
             "ticks": "",
             "title": {
              "standoff": 15
             },
             "zerolinecolor": "#EBF0F8",
             "zerolinewidth": 2
            }
           }
          },
          "title": {
           "font": {
            "color": "black",
            "family": "Arial",
            "size": 20,
            "weight": "bold"
           },
           "x": 0.05,
           "xanchor": "left",
           "y": 0.91
          },
          "xaxis": {
           "showgrid": false,
           "tickfont": {
            "color": "grey",
            "size": 12
           },
           "ticklabelposition": "outside bottom",
           "title": {
            "font": {
             "color": "grey",
             "size": 13,
             "weight": "bold"
            },
            "standoff": 15
           },
           "zerolinecolor": "lightgrey"
          },
          "yaxis": {
           "gridcolor": "lightgrey",
           "showgrid": true,
           "tickfont": {
            "color": "grey",
            "size": 12
           },
           "ticklabelposition": "outside left",
           "title": {
            "font": {
             "color": "grey",
             "size": 13,
             "weight": "bold"
            },
            "standoff": 15
           },
           "zerolinecolor": "lightgrey"
          }
         }
        },
        "title": {
         "text": "Subjektive Leistungseinschätzung pro Jahr"
        },
        "xaxis": {
         "anchor": "y",
         "domain": [
          0,
          1
         ],
         "title": {
          "text": "Jahr"
         }
        },
        "yaxis": {
         "anchor": "x",
         "domain": [
          0,
          1
         ],
         "range": [
          0,
          100
         ],
         "title": {
          "text": "Prozentuale Verteilung"
         }
        }
       }
      }
     },
     "metadata": {},
     "output_type": "display_data"
    }
   ],
   "source": [
    "import plotly.express as px\n",
    "\n",
    "# DataFrame für Plot umstrukturieren\n",
    "df_leistung_melted = df_leistung.melt(id_vars=\"Jahr\", var_name=\"Einschätzung\", value_name=\"Prozent\")\n",
    "\n",
    "# Farben für die drei Kategorien definieren\n",
    "color_map = {\n",
    "    \"Gewichteter Positiv (%)\": \"#2ca02c\",   # Grün\n",
    "    \"Gewichteter Indifferent (%)\": \"#ffcc00\",  # Gelb\n",
    "    \"Gewichteter Negativ (%)\": \"#d62728\"   # Rot\n",
    "}\n",
    "\n",
    "# Gestapeltes Balkendiagramm erstellen\n",
    "fig = px.bar(\n",
    "    df_leistung_melted,\n",
    "    x=\"Jahr\",\n",
    "    y=\"Prozent\",\n",
    "    color=\"Einschätzung\",\n",
    "    barmode=\"stack\",\n",
    "    title=\"Subjektive Leistungseinschätzung pro Jahr\",\n",
    "    color_discrete_map=color_map,  # Eigene Farben setzen\n",
    "    template=\"infoviz\"\n",
    ")\n",
    "\n",
    "# Layout-Anpassungen\n",
    "fig.update_layout(\n",
    "    yaxis=dict(range=[0, 100], title=\"Prozentuale Verteilung\"),\n",
    "    xaxis=dict(title=\"Jahr\"),\n",
    "    legend_title=\"Einschätzung\"\n",
    ")\n",
    "\n",
    "fig.show()"
   ]
  },
  {
   "cell_type": "code",
   "execution_count": null,
   "metadata": {},
   "outputs": [
    {
     "data": {
      "application/vnd.plotly.v1+json": {
       "config": {
        "plotlyServerURL": "https://plot.ly"
       },
       "data": [
        {
         "hovertemplate": "Einschätzung=Gewichteter Positiv (%)<br>Jahr=%{x}<br>Prozent=%{y}<extra></extra>",
         "legendgroup": "Gewichteter Positiv (%)",
         "line": {
          "color": "#A9A9A9",
          "dash": "solid",
          "width": 5
         },
         "marker": {
          "symbol": "circle"
         },
         "mode": "lines",
         "name": "Gewichteter Positiv (%)",
         "orientation": "v",
         "showlegend": true,
         "type": "scatter",
         "x": [
          "2019",
          "2020",
          "2021",
          "2022",
          "2023",
          "2024"
         ],
         "xaxis": "x",
         "y": {
          "bdata": "o0L35z0qRkDvWTxvNsZGQIHnNHuVa0ZA1DaHmAawR0DKfRXmRAdNQIjCoJYTOUxA",
          "dtype": "f8"
         },
         "yaxis": "y"
        },
        {
         "hovertemplate": "Einschätzung=Gewichteter Indifferent (%)<br>Jahr=%{x}<br>Prozent=%{y}<extra></extra>",
         "legendgroup": "Gewichteter Indifferent (%)",
         "line": {
          "color": "#ffcc00",
          "dash": "solid",
          "width": 5
         },
         "marker": {
          "symbol": "circle"
         },
         "mode": "lines",
         "name": "Gewichteter Indifferent (%)",
         "orientation": "v",
         "showlegend": true,
         "type": "scatter",
         "x": [
          "2019",
          "2020",
          "2021",
          "2022",
          "2023",
          "2024"
         ],
         "xaxis": "x",
         "y": {
          "bdata": "hO7Pe1ToHkCn30FRIiEYQOrdX1KY4xdAdfQLjxmKQ0C12o4m99VAQOrFIQqD2kBA",
          "dtype": "f8"
         },
         "yaxis": "y"
        },
        {
         "hovertemplate": "Einschätzung=Gewichteter Negativ (%)<br>Jahr=%{x}<br>Prozent=%{y}<extra></extra>",
         "legendgroup": "Gewichteter Negativ (%)",
         "line": {
          "color": "#d62728",
          "dash": "solid",
          "width": 5
         },
         "marker": {
          "symbol": "circle"
         },
         "mode": "lines",
         "name": "Gewichteter Negativ (%)",
         "orientation": "v",
         "showlegend": true,
         "type": "scatter",
         "x": [
          "2019",
          "2020",
          "2021",
          "2022",
          "2023",
          "2024"
         ],
         "xaxis": "x",
         "y": {
          "bdata": "cHdIBxT3R0DfbIy8kixIQHGEmyoImUhArOD78WmbK0CnW/PDImUgQH3y+zFCeiNA",
          "dtype": "f8"
         },
         "yaxis": "y"
        }
       ],
       "layout": {
        "annotations": [
         {
          "text": "Empty DataFrame\nColumns: [Jahr, Gewichteter Positiv (%), Gewichteter Indifferent (%), Gewichteter Negativ (%)]\nIndex: []",
          "x": "2021",
          "y": 50
         }
        ],
        "legend": {
         "title": {
          "text": "Einschätzung"
         },
         "tracegroupgap": 0
        },
        "shapes": [
         {
          "line": {
           "color": "grey",
           "dash": "dash",
           "width": 2
          },
          "type": "line",
          "x0": "2021",
          "x1": "2021",
          "y0": 0,
          "y1": 100
         },
         {
          "line": {
           "color": "grey",
           "dash": "dash",
           "width": 2
          },
          "type": "line",
          "x0": "2022",
          "x1": "2022",
          "y0": 0,
          "y1": 100
         }
        ],
        "template": {
         "layout": {
          "template": {
           "data": {
            "bar": [
             {
              "error_x": {
               "color": "#2a3f5f"
              },
              "error_y": {
               "color": "#2a3f5f"
              },
              "marker": {
               "line": {
                "color": "white",
                "width": 0.5
               },
               "pattern": {
                "fillmode": "overlay",
                "size": 10,
                "solidity": 0.2
               }
              },
              "type": "bar"
             }
            ],
            "barpolar": [
             {
              "marker": {
               "line": {
                "color": "white",
                "width": 0.5
               },
               "pattern": {
                "fillmode": "overlay",
                "size": 10,
                "solidity": 0.2
               }
              },
              "type": "barpolar"
             }
            ],
            "carpet": [
             {
              "aaxis": {
               "endlinecolor": "#2a3f5f",
               "gridcolor": "#C8D4E3",
               "linecolor": "#C8D4E3",
               "minorgridcolor": "#C8D4E3",
               "startlinecolor": "#2a3f5f"
              },
              "baxis": {
               "endlinecolor": "#2a3f5f",
               "gridcolor": "#C8D4E3",
               "linecolor": "#C8D4E3",
               "minorgridcolor": "#C8D4E3",
               "startlinecolor": "#2a3f5f"
              },
              "type": "carpet"
             }
            ],
            "choropleth": [
             {
              "colorbar": {
               "outlinewidth": 0,
               "ticks": ""
              },
              "type": "choropleth"
             }
            ],
            "contour": [
             {
              "colorbar": {
               "outlinewidth": 0,
               "ticks": ""
              },
              "colorscale": [
               [
                0,
                "#0d0887"
               ],
               [
                0.1111111111111111,
                "#46039f"
               ],
               [
                0.2222222222222222,
                "#7201a8"
               ],
               [
                0.3333333333333333,
                "#9c179e"
               ],
               [
                0.4444444444444444,
                "#bd3786"
               ],
               [
                0.5555555555555556,
                "#d8576b"
               ],
               [
                0.6666666666666666,
                "#ed7953"
               ],
               [
                0.7777777777777778,
                "#fb9f3a"
               ],
               [
                0.8888888888888888,
                "#fdca26"
               ],
               [
                1,
                "#f0f921"
               ]
              ],
              "type": "contour"
             }
            ],
            "contourcarpet": [
             {
              "colorbar": {
               "outlinewidth": 0,
               "ticks": ""
              },
              "type": "contourcarpet"
             }
            ],
            "heatmap": [
             {
              "colorbar": {
               "outlinewidth": 0,
               "ticks": ""
              },
              "colorscale": [
               [
                0,
                "#0d0887"
               ],
               [
                0.1111111111111111,
                "#46039f"
               ],
               [
                0.2222222222222222,
                "#7201a8"
               ],
               [
                0.3333333333333333,
                "#9c179e"
               ],
               [
                0.4444444444444444,
                "#bd3786"
               ],
               [
                0.5555555555555556,
                "#d8576b"
               ],
               [
                0.6666666666666666,
                "#ed7953"
               ],
               [
                0.7777777777777778,
                "#fb9f3a"
               ],
               [
                0.8888888888888888,
                "#fdca26"
               ],
               [
                1,
                "#f0f921"
               ]
              ],
              "type": "heatmap"
             }
            ],
            "histogram": [
             {
              "marker": {
               "pattern": {
                "fillmode": "overlay",
                "size": 10,
                "solidity": 0.2
               }
              },
              "type": "histogram"
             }
            ],
            "histogram2d": [
             {
              "colorbar": {
               "outlinewidth": 0,
               "ticks": ""
              },
              "colorscale": [
               [
                0,
                "#0d0887"
               ],
               [
                0.1111111111111111,
                "#46039f"
               ],
               [
                0.2222222222222222,
                "#7201a8"
               ],
               [
                0.3333333333333333,
                "#9c179e"
               ],
               [
                0.4444444444444444,
                "#bd3786"
               ],
               [
                0.5555555555555556,
                "#d8576b"
               ],
               [
                0.6666666666666666,
                "#ed7953"
               ],
               [
                0.7777777777777778,
                "#fb9f3a"
               ],
               [
                0.8888888888888888,
                "#fdca26"
               ],
               [
                1,
                "#f0f921"
               ]
              ],
              "type": "histogram2d"
             }
            ],
            "histogram2dcontour": [
             {
              "colorbar": {
               "outlinewidth": 0,
               "ticks": ""
              },
              "colorscale": [
               [
                0,
                "#0d0887"
               ],
               [
                0.1111111111111111,
                "#46039f"
               ],
               [
                0.2222222222222222,
                "#7201a8"
               ],
               [
                0.3333333333333333,
                "#9c179e"
               ],
               [
                0.4444444444444444,
                "#bd3786"
               ],
               [
                0.5555555555555556,
                "#d8576b"
               ],
               [
                0.6666666666666666,
                "#ed7953"
               ],
               [
                0.7777777777777778,
                "#fb9f3a"
               ],
               [
                0.8888888888888888,
                "#fdca26"
               ],
               [
                1,
                "#f0f921"
               ]
              ],
              "type": "histogram2dcontour"
             }
            ],
            "mesh3d": [
             {
              "colorbar": {
               "outlinewidth": 0,
               "ticks": ""
              },
              "type": "mesh3d"
             }
            ],
            "parcoords": [
             {
              "line": {
               "colorbar": {
                "outlinewidth": 0,
                "ticks": ""
               }
              },
              "type": "parcoords"
             }
            ],
            "pie": [
             {
              "automargin": true,
              "type": "pie"
             }
            ],
            "scatter": [
             {
              "fillpattern": {
               "fillmode": "overlay",
               "size": 10,
               "solidity": 0.2
              },
              "type": "scatter"
             }
            ],
            "scatter3d": [
             {
              "line": {
               "colorbar": {
                "outlinewidth": 0,
                "ticks": ""
               }
              },
              "marker": {
               "colorbar": {
                "outlinewidth": 0,
                "ticks": ""
               }
              },
              "type": "scatter3d"
             }
            ],
            "scattercarpet": [
             {
              "marker": {
               "colorbar": {
                "outlinewidth": 0,
                "ticks": ""
               }
              },
              "type": "scattercarpet"
             }
            ],
            "scattergeo": [
             {
              "marker": {
               "colorbar": {
                "outlinewidth": 0,
                "ticks": ""
               }
              },
              "type": "scattergeo"
             }
            ],
            "scattergl": [
             {
              "marker": {
               "colorbar": {
                "outlinewidth": 0,
                "ticks": ""
               }
              },
              "type": "scattergl"
             }
            ],
            "scattermap": [
             {
              "marker": {
               "colorbar": {
                "outlinewidth": 0,
                "ticks": ""
               }
              },
              "type": "scattermap"
             }
            ],
            "scattermapbox": [
             {
              "marker": {
               "colorbar": {
                "outlinewidth": 0,
                "ticks": ""
               }
              },
              "type": "scattermapbox"
             }
            ],
            "scatterpolar": [
             {
              "marker": {
               "colorbar": {
                "outlinewidth": 0,
                "ticks": ""
               }
              },
              "type": "scatterpolar"
             }
            ],
            "scatterpolargl": [
             {
              "marker": {
               "colorbar": {
                "outlinewidth": 0,
                "ticks": ""
               }
              },
              "type": "scatterpolargl"
             }
            ],
            "scatterternary": [
             {
              "marker": {
               "colorbar": {
                "outlinewidth": 0,
                "ticks": ""
               }
              },
              "type": "scatterternary"
             }
            ],
            "surface": [
             {
              "colorbar": {
               "outlinewidth": 0,
               "ticks": ""
              },
              "colorscale": [
               [
                0,
                "#0d0887"
               ],
               [
                0.1111111111111111,
                "#46039f"
               ],
               [
                0.2222222222222222,
                "#7201a8"
               ],
               [
                0.3333333333333333,
                "#9c179e"
               ],
               [
                0.4444444444444444,
                "#bd3786"
               ],
               [
                0.5555555555555556,
                "#d8576b"
               ],
               [
                0.6666666666666666,
                "#ed7953"
               ],
               [
                0.7777777777777778,
                "#fb9f3a"
               ],
               [
                0.8888888888888888,
                "#fdca26"
               ],
               [
                1,
                "#f0f921"
               ]
              ],
              "type": "surface"
             }
            ],
            "table": [
             {
              "cells": {
               "fill": {
                "color": "#EBF0F8"
               },
               "line": {
                "color": "white"
               }
              },
              "header": {
               "fill": {
                "color": "#C8D4E3"
               },
               "line": {
                "color": "white"
               }
              },
              "type": "table"
             }
            ]
           },
           "layout": {
            "annotationdefaults": {
             "arrowcolor": "#2a3f5f",
             "arrowhead": 0,
             "arrowwidth": 1
            },
            "autotypenumbers": "strict",
            "coloraxis": {
             "colorbar": {
              "outlinewidth": 0,
              "ticks": ""
             }
            },
            "colorscale": {
             "diverging": [
              [
               0,
               "#8e0152"
              ],
              [
               0.1,
               "#c51b7d"
              ],
              [
               0.2,
               "#de77ae"
              ],
              [
               0.3,
               "#f1b6da"
              ],
              [
               0.4,
               "#fde0ef"
              ],
              [
               0.5,
               "#f7f7f7"
              ],
              [
               0.6,
               "#e6f5d0"
              ],
              [
               0.7,
               "#b8e186"
              ],
              [
               0.8,
               "#7fbc41"
              ],
              [
               0.9,
               "#4d9221"
              ],
              [
               1,
               "#276419"
              ]
             ],
             "sequential": [
              [
               0,
               "#0d0887"
              ],
              [
               0.1111111111111111,
               "#46039f"
              ],
              [
               0.2222222222222222,
               "#7201a8"
              ],
              [
               0.3333333333333333,
               "#9c179e"
              ],
              [
               0.4444444444444444,
               "#bd3786"
              ],
              [
               0.5555555555555556,
               "#d8576b"
              ],
              [
               0.6666666666666666,
               "#ed7953"
              ],
              [
               0.7777777777777778,
               "#fb9f3a"
              ],
              [
               0.8888888888888888,
               "#fdca26"
              ],
              [
               1,
               "#f0f921"
              ]
             ],
             "sequentialminus": [
              [
               0,
               "#0d0887"
              ],
              [
               0.1111111111111111,
               "#46039f"
              ],
              [
               0.2222222222222222,
               "#7201a8"
              ],
              [
               0.3333333333333333,
               "#9c179e"
              ],
              [
               0.4444444444444444,
               "#bd3786"
              ],
              [
               0.5555555555555556,
               "#d8576b"
              ],
              [
               0.6666666666666666,
               "#ed7953"
              ],
              [
               0.7777777777777778,
               "#fb9f3a"
              ],
              [
               0.8888888888888888,
               "#fdca26"
              ],
              [
               1,
               "#f0f921"
              ]
             ]
            },
            "colorway": [
             "#636efa",
             "#EF553B",
             "#00cc96",
             "#ab63fa",
             "#FFA15A",
             "#19d3f3",
             "#FF6692",
             "#B6E880",
             "#FF97FF",
             "#FECB52"
            ],
            "font": {
             "color": "#2a3f5f"
            },
            "geo": {
             "bgcolor": "white",
             "lakecolor": "white",
             "landcolor": "white",
             "showlakes": true,
             "showland": true,
             "subunitcolor": "#C8D4E3"
            },
            "hoverlabel": {
             "align": "left"
            },
            "hovermode": "closest",
            "mapbox": {
             "style": "light"
            },
            "paper_bgcolor": "white",
            "plot_bgcolor": "white",
            "polar": {
             "angularaxis": {
              "gridcolor": "#EBF0F8",
              "linecolor": "#EBF0F8",
              "ticks": ""
             },
             "bgcolor": "white",
             "radialaxis": {
              "gridcolor": "#EBF0F8",
              "linecolor": "#EBF0F8",
              "ticks": ""
             }
            },
            "scene": {
             "xaxis": {
              "backgroundcolor": "white",
              "gridcolor": "#DFE8F3",
              "gridwidth": 2,
              "linecolor": "#EBF0F8",
              "showbackground": true,
              "ticks": "",
              "zerolinecolor": "#EBF0F8"
             },
             "yaxis": {
              "backgroundcolor": "white",
              "gridcolor": "#DFE8F3",
              "gridwidth": 2,
              "linecolor": "#EBF0F8",
              "showbackground": true,
              "ticks": "",
              "zerolinecolor": "#EBF0F8"
             },
             "zaxis": {
              "backgroundcolor": "white",
              "gridcolor": "#DFE8F3",
              "gridwidth": 2,
              "linecolor": "#EBF0F8",
              "showbackground": true,
              "ticks": "",
              "zerolinecolor": "#EBF0F8"
             }
            },
            "shapedefaults": {
             "line": {
              "color": "#2a3f5f"
             }
            },
            "ternary": {
             "aaxis": {
              "gridcolor": "#DFE8F3",
              "linecolor": "#A2B1C6",
              "ticks": ""
             },
             "baxis": {
              "gridcolor": "#DFE8F3",
              "linecolor": "#A2B1C6",
              "ticks": ""
             },
             "bgcolor": "white",
             "caxis": {
              "gridcolor": "#DFE8F3",
              "linecolor": "#A2B1C6",
              "ticks": ""
             }
            },
            "title": {
             "x": 0.05
            },
            "xaxis": {
             "automargin": true,
             "gridcolor": "#EBF0F8",
             "linecolor": "#EBF0F8",
             "ticks": "",
             "title": {
              "standoff": 15
             },
             "zerolinecolor": "#EBF0F8",
             "zerolinewidth": 2
            },
            "yaxis": {
             "automargin": true,
             "gridcolor": "#EBF0F8",
             "linecolor": "#EBF0F8",
             "ticks": "",
             "title": {
              "standoff": 15
             },
             "zerolinecolor": "#EBF0F8",
             "zerolinewidth": 2
            }
           }
          },
          "title": {
           "font": {
            "color": "black",
            "family": "Arial",
            "size": 20,
            "weight": "bold"
           },
           "x": 0.05,
           "xanchor": "left",
           "y": 0.91
          },
          "xaxis": {
           "showgrid": false,
           "tickfont": {
            "color": "grey",
            "size": 12
           },
           "ticklabelposition": "outside bottom",
           "title": {
            "font": {
             "color": "grey",
             "size": 13,
             "weight": "bold"
            },
            "standoff": 15
           },
           "zerolinecolor": "lightgrey"
          },
          "yaxis": {
           "gridcolor": "lightgrey",
           "showgrid": true,
           "tickfont": {
            "color": "grey",
            "size": 12
           },
           "ticklabelposition": "outside left",
           "title": {
            "font": {
             "color": "grey",
             "size": 13,
             "weight": "bold"
            },
            "standoff": 15
           },
           "zerolinecolor": "lightgrey"
          }
         }
        },
        "title": {
         "text": "Veränderung der subjektiven Leistungseinschätzung (2021–2022)"
        },
        "xaxis": {
         "anchor": "y",
         "domain": [
          0,
          1
         ],
         "tickmode": "array",
         "tickvals": [
          "2019",
          "2020",
          "2021",
          "2022",
          "2023",
          "2024"
         ],
         "title": {
          "text": "Jahr"
         }
        },
        "yaxis": {
         "anchor": "x",
         "domain": [
          0,
          1
         ],
         "range": [
          0,
          75
         ],
         "title": {
          "text": "Prozentuale Verteilung"
         }
        }
       }
      }
     },
     "metadata": {},
     "output_type": "display_data"
    }
   ],
   "source": [
    "import plotly.express as px\n",
    "\n",
    "# DataFrame umstrukturieren (nur 2021 und 2022)\n",
    "df_leistung_filtered = df_leistung[df_leistung[\"Jahr\"].isin([\"2019\", \"2020\", \"2021\", \"2022\", \"2023\", \"2024\"])]\n",
    "\n",
    "# \"Positiv\", \"Indifferent\" und \"Negativ\" auswählen\n",
    "df_leistung_melted = df_leistung_filtered.melt(id_vars=\"Jahr\", var_name=\"Einschätzung\", value_name=\"Prozent\")\n",
    "df_leistung_melted = df_leistung_melted[df_leistung_melted[\"Einschätzung\"].isin(\n",
    "    [\"Gewichteter Positiv (%)\", \"Gewichteter Indifferent (%)\", \"Gewichteter Negativ (%)\"]\n",
    ")]\n",
    "\n",
    "# Farben definieren (Positiv wird grau)\n",
    "color_map = {\n",
    "    \"Gewichteter Positiv (%)\": \"#A9A9A9\",   # Grau\n",
    "    \"Gewichteter Indifferent (%)\": \"#ffcc00\",  # Gelb\n",
    "    \"Gewichteter Negativ (%)\": \"#d62728\"   # Rot\n",
    "}\n",
    "\n",
    "# Linien-Diagramm erstellen\n",
    "fig = px.line(\n",
    "    df_leistung_melted,\n",
    "    x=\"Jahr\",\n",
    "    y=\"Prozent\",\n",
    "    color=\"Einschätzung\",\n",
    "    markers=False,\n",
    "    title=\"Veränderung der subjektiven Leistungseinschätzung (2021–2022)\",\n",
    "    color_discrete_map=color_map,\n",
    "    template=\"infoviz\"\n",
    ")\n",
    "\n",
    "# **Gestrichelte vertikale Linien für 2021 und 2022**\n",
    "for jahr in [\"2021\", \"2022\"]:\n",
    "    fig.add_shape(\n",
    "        type=\"line\",\n",
    "        x0=jahr, x1=jahr,  # X-Wert bleibt konstant für vertikale Linie\n",
    "        y0=0, y1=100,  # Linie von unten nach oben durchziehen\n",
    "        line=dict(color=\"grey\", width=2, dash=\"dash\"),  # Schwarz, gestrichelt                                                                                                                                                                                                                                                                                                                                                                                                  \n",
    "    )\n",
    "\n",
    "fig.add_annotation(\n",
    "    x=\"2021\",\n",
    "    y=50,\n",
    "    text=f\"{df_leistung_filtered.query('Jahr == 2021')}\"\n",
    ")\n",
    "\n",
    "# Layout-Anpassungen\n",
    "fig.update_traces(line=dict(width=5))  # Linien dicker machen\n",
    "\n",
    "fig.update_layout(\n",
    "    xaxis=dict(title=\"Jahr\", tickmode=\"array\", tickvals=[\"2019\", \"2020\", \"2021\", \"2022\", \"2023\", \"2024\"]),\n",
    "    yaxis=dict(title=\"Prozentuale Verteilung\", range=[0, 75]),\n",
    "    legend_title=\"Einschätzung\"\n",
    ")\n",
    "\n",
    "fig.show()"
   ]
  },
  {
   "cell_type": "code",
   "execution_count": null,
   "metadata": {},
   "outputs": [],
   "source": [
    "import pandas as pd\n",
    "\n",
    "# Daten für 2021 und 2021 filtern\n",
    "df_2021 = df_leistung[df_leistung[\"Jahr\"] == \"2021\"]\n",
    "df_2021 = df_leistung[df_leistung[\"Jahr\"] == \"2021\"]\n"
   ]
  },
  {
   "cell_type": "code",
   "execution_count": null,
   "metadata": {},
   "outputs": [],
   "source": [
    "# Berechnung der Veränderung\n",
    "veränderung_positiv = df_2021[\"Gewichteter Positiv (%)\"].values[0] - df_2021[\"Gewichteter Positiv (%)\"].values[0]\n",
    "veränderung_indifferent = df_2021[\"Gewichteter Indifferent (%)\"].values[0] - df_2021[\"Gewichteter Indifferent (%)\"].values[0]\n",
    "veränderung_negativ = df_2021[\"Gewichteter Negativ (%)\"].values[0] - df_2021[\"Gewichteter Negativ (%)\"].values[0]\n",
    "\n",
    "# DataFrame zur Übersicht\n",
    "df_veränderung = pd.DataFrame({\n",
    "    \"Kategorie\": [\"Positiv\", \"Indifferent\", \"Negativ\"],\n",
    "    \"Veränderung (%)\": [veränderung_positiv, veränderung_indifferent, veränderung_negativ]\n",
    "})"
   ]
  },
  {
   "cell_type": "code",
   "execution_count": 23,
   "metadata": {},
   "outputs": [
    {
     "data": {
      "text/html": [
       "<div>\n",
       "<style scoped>\n",
       "    .dataframe tbody tr th:only-of-type {\n",
       "        vertical-align: middle;\n",
       "    }\n",
       "\n",
       "    .dataframe tbody tr th {\n",
       "        vertical-align: top;\n",
       "    }\n",
       "\n",
       "    .dataframe thead th {\n",
       "        text-align: right;\n",
       "    }\n",
       "</style>\n",
       "<table border=\"1\" class=\"dataframe\">\n",
       "  <thead>\n",
       "    <tr style=\"text-align: right;\">\n",
       "      <th></th>\n",
       "      <th>Kategorie</th>\n",
       "      <th>Veränderung (%)</th>\n",
       "    </tr>\n",
       "  </thead>\n",
       "  <tbody>\n",
       "    <tr>\n",
       "      <th>0</th>\n",
       "      <td>Positiv</td>\n",
       "      <td>13.216291</td>\n",
       "    </tr>\n",
       "    <tr>\n",
       "      <th>1</th>\n",
       "      <td>Indifferent</td>\n",
       "      <td>27.699344</td>\n",
       "    </tr>\n",
       "    <tr>\n",
       "      <th>2</th>\n",
       "      <td>Negativ</td>\n",
       "      <td>-40.998031</td>\n",
       "    </tr>\n",
       "  </tbody>\n",
       "</table>\n",
       "</div>"
      ],
      "text/plain": [
       "     Kategorie  Veränderung (%)\n",
       "0      Positiv        13.216291\n",
       "1  Indifferent        27.699344\n",
       "2      Negativ       -40.998031"
      ]
     },
     "execution_count": 23,
     "metadata": {},
     "output_type": "execute_result"
    }
   ],
   "source": [
    "df_veränderung"
   ]
  },
  {
   "cell_type": "code",
   "execution_count": 70,
   "metadata": {},
   "outputs": [
    {
     "data": {
      "application/vnd.plotly.v1+json": {
       "config": {
        "plotlyServerURL": "https://plot.ly"
       },
       "data": [
        {
         "hovertemplate": "Einschätzung=Positiv<br>Studiengang=%{x}<br>Prozent=%{y}<extra></extra>",
         "legendgroup": "Positiv",
         "marker": {
          "color": "#2ca02c",
          "pattern": {
           "shape": ""
          }
         },
         "name": "Positiv",
         "orientation": "v",
         "showlegend": true,
         "textposition": "auto",
         "type": "bar",
         "x": [
          "Master Ökotrophologie",
          "Master Transition Management",
          "Bachelor Umwelt und globaler Wandel",
          "Master Ernährungswissenschaften",
          "Master Agrobiotechnologie",
          "Master Nachhaltige Ernährungswirtschaft",
          "Bachelor Agrarwissenschaften",
          "Master Umweltwissenschaften",
          "Bachelor Ökotrophologie",
          "Bachelor Ernährungswissenschaften",
          "Bachelor Nachwachsende Rohstoffe und Bioressourcen"
         ],
         "xaxis": "x",
         "y": [
          77,
          70,
          67,
          61,
          58,
          58,
          57,
          53,
          46,
          41,
          21
         ],
         "yaxis": "y"
        },
        {
         "hovertemplate": "Einschätzung=Indifferent<br>Studiengang=%{x}<br>Prozent=%{y}<extra></extra>",
         "legendgroup": "Indifferent",
         "marker": {
          "color": "#ffcc00",
          "pattern": {
           "shape": ""
          }
         },
         "name": "Indifferent",
         "orientation": "v",
         "showlegend": true,
         "textposition": "auto",
         "type": "bar",
         "x": [
          "Master Ökotrophologie",
          "Master Transition Management",
          "Bachelor Umwelt und globaler Wandel",
          "Master Ernährungswissenschaften",
          "Master Agrobiotechnologie",
          "Master Nachhaltige Ernährungswirtschaft",
          "Bachelor Agrarwissenschaften",
          "Master Umweltwissenschaften",
          "Bachelor Ökotrophologie",
          "Bachelor Ernährungswissenschaften",
          "Bachelor Nachwachsende Rohstoffe und Bioressourcen"
         ],
         "xaxis": "x",
         "y": [
          18,
          25,
          26,
          30,
          38,
          25,
          32,
          40,
          38,
          45,
          57
         ],
         "yaxis": "y"
        },
        {
         "hovertemplate": "Einschätzung=Negativ<br>Studiengang=%{x}<br>Prozent=%{y}<extra></extra>",
         "legendgroup": "Negativ",
         "marker": {
          "color": "#d62728",
          "pattern": {
           "shape": ""
          }
         },
         "name": "Negativ",
         "orientation": "v",
         "showlegend": true,
         "textposition": "auto",
         "type": "bar",
         "x": [
          "Master Ökotrophologie",
          "Master Transition Management",
          "Bachelor Umwelt und globaler Wandel",
          "Master Ernährungswissenschaften",
          "Master Agrobiotechnologie",
          "Master Nachhaltige Ernährungswirtschaft",
          "Bachelor Agrarwissenschaften",
          "Master Umweltwissenschaften",
          "Bachelor Ökotrophologie",
          "Bachelor Ernährungswissenschaften",
          "Bachelor Nachwachsende Rohstoffe und Bioressourcen"
         ],
         "xaxis": "x",
         "y": [
          5,
          5,
          7,
          9,
          4,
          17,
          11,
          7,
          17,
          13,
          21
         ],
         "yaxis": "y"
        }
       ],
       "layout": {
        "barmode": "stack",
        "legend": {
         "title": {
          "text": "Einschätzung"
         },
         "tracegroupgap": 0
        },
        "template": {
         "layout": {
          "template": {
           "data": {
            "bar": [
             {
              "error_x": {
               "color": "#2a3f5f"
              },
              "error_y": {
               "color": "#2a3f5f"
              },
              "marker": {
               "line": {
                "color": "white",
                "width": 0.5
               },
               "pattern": {
                "fillmode": "overlay",
                "size": 10,
                "solidity": 0.2
               }
              },
              "type": "bar"
             }
            ],
            "barpolar": [
             {
              "marker": {
               "line": {
                "color": "white",
                "width": 0.5
               },
               "pattern": {
                "fillmode": "overlay",
                "size": 10,
                "solidity": 0.2
               }
              },
              "type": "barpolar"
             }
            ],
            "carpet": [
             {
              "aaxis": {
               "endlinecolor": "#2a3f5f",
               "gridcolor": "#C8D4E3",
               "linecolor": "#C8D4E3",
               "minorgridcolor": "#C8D4E3",
               "startlinecolor": "#2a3f5f"
              },
              "baxis": {
               "endlinecolor": "#2a3f5f",
               "gridcolor": "#C8D4E3",
               "linecolor": "#C8D4E3",
               "minorgridcolor": "#C8D4E3",
               "startlinecolor": "#2a3f5f"
              },
              "type": "carpet"
             }
            ],
            "choropleth": [
             {
              "colorbar": {
               "outlinewidth": 0,
               "ticks": ""
              },
              "type": "choropleth"
             }
            ],
            "contour": [
             {
              "colorbar": {
               "outlinewidth": 0,
               "ticks": ""
              },
              "colorscale": [
               [
                0,
                "#0d0887"
               ],
               [
                0.1111111111111111,
                "#46039f"
               ],
               [
                0.2222222222222222,
                "#7201a8"
               ],
               [
                0.3333333333333333,
                "#9c179e"
               ],
               [
                0.4444444444444444,
                "#bd3786"
               ],
               [
                0.5555555555555556,
                "#d8576b"
               ],
               [
                0.6666666666666666,
                "#ed7953"
               ],
               [
                0.7777777777777778,
                "#fb9f3a"
               ],
               [
                0.8888888888888888,
                "#fdca26"
               ],
               [
                1,
                "#f0f921"
               ]
              ],
              "type": "contour"
             }
            ],
            "contourcarpet": [
             {
              "colorbar": {
               "outlinewidth": 0,
               "ticks": ""
              },
              "type": "contourcarpet"
             }
            ],
            "heatmap": [
             {
              "colorbar": {
               "outlinewidth": 0,
               "ticks": ""
              },
              "colorscale": [
               [
                0,
                "#0d0887"
               ],
               [
                0.1111111111111111,
                "#46039f"
               ],
               [
                0.2222222222222222,
                "#7201a8"
               ],
               [
                0.3333333333333333,
                "#9c179e"
               ],
               [
                0.4444444444444444,
                "#bd3786"
               ],
               [
                0.5555555555555556,
                "#d8576b"
               ],
               [
                0.6666666666666666,
                "#ed7953"
               ],
               [
                0.7777777777777778,
                "#fb9f3a"
               ],
               [
                0.8888888888888888,
                "#fdca26"
               ],
               [
                1,
                "#f0f921"
               ]
              ],
              "type": "heatmap"
             }
            ],
            "histogram": [
             {
              "marker": {
               "pattern": {
                "fillmode": "overlay",
                "size": 10,
                "solidity": 0.2
               }
              },
              "type": "histogram"
             }
            ],
            "histogram2d": [
             {
              "colorbar": {
               "outlinewidth": 0,
               "ticks": ""
              },
              "colorscale": [
               [
                0,
                "#0d0887"
               ],
               [
                0.1111111111111111,
                "#46039f"
               ],
               [
                0.2222222222222222,
                "#7201a8"
               ],
               [
                0.3333333333333333,
                "#9c179e"
               ],
               [
                0.4444444444444444,
                "#bd3786"
               ],
               [
                0.5555555555555556,
                "#d8576b"
               ],
               [
                0.6666666666666666,
                "#ed7953"
               ],
               [
                0.7777777777777778,
                "#fb9f3a"
               ],
               [
                0.8888888888888888,
                "#fdca26"
               ],
               [
                1,
                "#f0f921"
               ]
              ],
              "type": "histogram2d"
             }
            ],
            "histogram2dcontour": [
             {
              "colorbar": {
               "outlinewidth": 0,
               "ticks": ""
              },
              "colorscale": [
               [
                0,
                "#0d0887"
               ],
               [
                0.1111111111111111,
                "#46039f"
               ],
               [
                0.2222222222222222,
                "#7201a8"
               ],
               [
                0.3333333333333333,
                "#9c179e"
               ],
               [
                0.4444444444444444,
                "#bd3786"
               ],
               [
                0.5555555555555556,
                "#d8576b"
               ],
               [
                0.6666666666666666,
                "#ed7953"
               ],
               [
                0.7777777777777778,
                "#fb9f3a"
               ],
               [
                0.8888888888888888,
                "#fdca26"
               ],
               [
                1,
                "#f0f921"
               ]
              ],
              "type": "histogram2dcontour"
             }
            ],
            "mesh3d": [
             {
              "colorbar": {
               "outlinewidth": 0,
               "ticks": ""
              },
              "type": "mesh3d"
             }
            ],
            "parcoords": [
             {
              "line": {
               "colorbar": {
                "outlinewidth": 0,
                "ticks": ""
               }
              },
              "type": "parcoords"
             }
            ],
            "pie": [
             {
              "automargin": true,
              "type": "pie"
             }
            ],
            "scatter": [
             {
              "fillpattern": {
               "fillmode": "overlay",
               "size": 10,
               "solidity": 0.2
              },
              "type": "scatter"
             }
            ],
            "scatter3d": [
             {
              "line": {
               "colorbar": {
                "outlinewidth": 0,
                "ticks": ""
               }
              },
              "marker": {
               "colorbar": {
                "outlinewidth": 0,
                "ticks": ""
               }
              },
              "type": "scatter3d"
             }
            ],
            "scattercarpet": [
             {
              "marker": {
               "colorbar": {
                "outlinewidth": 0,
                "ticks": ""
               }
              },
              "type": "scattercarpet"
             }
            ],
            "scattergeo": [
             {
              "marker": {
               "colorbar": {
                "outlinewidth": 0,
                "ticks": ""
               }
              },
              "type": "scattergeo"
             }
            ],
            "scattergl": [
             {
              "marker": {
               "colorbar": {
                "outlinewidth": 0,
                "ticks": ""
               }
              },
              "type": "scattergl"
             }
            ],
            "scattermap": [
             {
              "marker": {
               "colorbar": {
                "outlinewidth": 0,
                "ticks": ""
               }
              },
              "type": "scattermap"
             }
            ],
            "scattermapbox": [
             {
              "marker": {
               "colorbar": {
                "outlinewidth": 0,
                "ticks": ""
               }
              },
              "type": "scattermapbox"
             }
            ],
            "scatterpolar": [
             {
              "marker": {
               "colorbar": {
                "outlinewidth": 0,
                "ticks": ""
               }
              },
              "type": "scatterpolar"
             }
            ],
            "scatterpolargl": [
             {
              "marker": {
               "colorbar": {
                "outlinewidth": 0,
                "ticks": ""
               }
              },
              "type": "scatterpolargl"
             }
            ],
            "scatterternary": [
             {
              "marker": {
               "colorbar": {
                "outlinewidth": 0,
                "ticks": ""
               }
              },
              "type": "scatterternary"
             }
            ],
            "surface": [
             {
              "colorbar": {
               "outlinewidth": 0,
               "ticks": ""
              },
              "colorscale": [
               [
                0,
                "#0d0887"
               ],
               [
                0.1111111111111111,
                "#46039f"
               ],
               [
                0.2222222222222222,
                "#7201a8"
               ],
               [
                0.3333333333333333,
                "#9c179e"
               ],
               [
                0.4444444444444444,
                "#bd3786"
               ],
               [
                0.5555555555555556,
                "#d8576b"
               ],
               [
                0.6666666666666666,
                "#ed7953"
               ],
               [
                0.7777777777777778,
                "#fb9f3a"
               ],
               [
                0.8888888888888888,
                "#fdca26"
               ],
               [
                1,
                "#f0f921"
               ]
              ],
              "type": "surface"
             }
            ],
            "table": [
             {
              "cells": {
               "fill": {
                "color": "#EBF0F8"
               },
               "line": {
                "color": "white"
               }
              },
              "header": {
               "fill": {
                "color": "#C8D4E3"
               },
               "line": {
                "color": "white"
               }
              },
              "type": "table"
             }
            ]
           },
           "layout": {
            "annotationdefaults": {
             "arrowcolor": "#2a3f5f",
             "arrowhead": 0,
             "arrowwidth": 1
            },
            "autotypenumbers": "strict",
            "coloraxis": {
             "colorbar": {
              "outlinewidth": 0,
              "ticks": ""
             }
            },
            "colorscale": {
             "diverging": [
              [
               0,
               "#8e0152"
              ],
              [
               0.1,
               "#c51b7d"
              ],
              [
               0.2,
               "#de77ae"
              ],
              [
               0.3,
               "#f1b6da"
              ],
              [
               0.4,
               "#fde0ef"
              ],
              [
               0.5,
               "#f7f7f7"
              ],
              [
               0.6,
               "#e6f5d0"
              ],
              [
               0.7,
               "#b8e186"
              ],
              [
               0.8,
               "#7fbc41"
              ],
              [
               0.9,
               "#4d9221"
              ],
              [
               1,
               "#276419"
              ]
             ],
             "sequential": [
              [
               0,
               "#0d0887"
              ],
              [
               0.1111111111111111,
               "#46039f"
              ],
              [
               0.2222222222222222,
               "#7201a8"
              ],
              [
               0.3333333333333333,
               "#9c179e"
              ],
              [
               0.4444444444444444,
               "#bd3786"
              ],
              [
               0.5555555555555556,
               "#d8576b"
              ],
              [
               0.6666666666666666,
               "#ed7953"
              ],
              [
               0.7777777777777778,
               "#fb9f3a"
              ],
              [
               0.8888888888888888,
               "#fdca26"
              ],
              [
               1,
               "#f0f921"
              ]
             ],
             "sequentialminus": [
              [
               0,
               "#0d0887"
              ],
              [
               0.1111111111111111,
               "#46039f"
              ],
              [
               0.2222222222222222,
               "#7201a8"
              ],
              [
               0.3333333333333333,
               "#9c179e"
              ],
              [
               0.4444444444444444,
               "#bd3786"
              ],
              [
               0.5555555555555556,
               "#d8576b"
              ],
              [
               0.6666666666666666,
               "#ed7953"
              ],
              [
               0.7777777777777778,
               "#fb9f3a"
              ],
              [
               0.8888888888888888,
               "#fdca26"
              ],
              [
               1,
               "#f0f921"
              ]
             ]
            },
            "colorway": [
             "#636efa",
             "#EF553B",
             "#00cc96",
             "#ab63fa",
             "#FFA15A",
             "#19d3f3",
             "#FF6692",
             "#B6E880",
             "#FF97FF",
             "#FECB52"
            ],
            "font": {
             "color": "#2a3f5f"
            },
            "geo": {
             "bgcolor": "white",
             "lakecolor": "white",
             "landcolor": "white",
             "showlakes": true,
             "showland": true,
             "subunitcolor": "#C8D4E3"
            },
            "hoverlabel": {
             "align": "left"
            },
            "hovermode": "closest",
            "mapbox": {
             "style": "light"
            },
            "paper_bgcolor": "white",
            "plot_bgcolor": "white",
            "polar": {
             "angularaxis": {
              "gridcolor": "#EBF0F8",
              "linecolor": "#EBF0F8",
              "ticks": ""
             },
             "bgcolor": "white",
             "radialaxis": {
              "gridcolor": "#EBF0F8",
              "linecolor": "#EBF0F8",
              "ticks": ""
             }
            },
            "scene": {
             "xaxis": {
              "backgroundcolor": "white",
              "gridcolor": "#DFE8F3",
              "gridwidth": 2,
              "linecolor": "#EBF0F8",
              "showbackground": true,
              "ticks": "",
              "zerolinecolor": "#EBF0F8"
             },
             "yaxis": {
              "backgroundcolor": "white",
              "gridcolor": "#DFE8F3",
              "gridwidth": 2,
              "linecolor": "#EBF0F8",
              "showbackground": true,
              "ticks": "",
              "zerolinecolor": "#EBF0F8"
             },
             "zaxis": {
              "backgroundcolor": "white",
              "gridcolor": "#DFE8F3",
              "gridwidth": 2,
              "linecolor": "#EBF0F8",
              "showbackground": true,
              "ticks": "",
              "zerolinecolor": "#EBF0F8"
             }
            },
            "shapedefaults": {
             "line": {
              "color": "#2a3f5f"
             }
            },
            "ternary": {
             "aaxis": {
              "gridcolor": "#DFE8F3",
              "linecolor": "#A2B1C6",
              "ticks": ""
             },
             "baxis": {
              "gridcolor": "#DFE8F3",
              "linecolor": "#A2B1C6",
              "ticks": ""
             },
             "bgcolor": "white",
             "caxis": {
              "gridcolor": "#DFE8F3",
              "linecolor": "#A2B1C6",
              "ticks": ""
             }
            },
            "title": {
             "x": 0.05
            },
            "xaxis": {
             "automargin": true,
             "gridcolor": "#EBF0F8",
             "linecolor": "#EBF0F8",
             "ticks": "",
             "title": {
              "standoff": 15
             },
             "zerolinecolor": "#EBF0F8",
             "zerolinewidth": 2
            },
            "yaxis": {
             "automargin": true,
             "gridcolor": "#EBF0F8",
             "linecolor": "#EBF0F8",
             "ticks": "",
             "title": {
              "standoff": 15
             },
             "zerolinecolor": "#EBF0F8",
             "zerolinewidth": 2
            }
           }
          },
          "title": {
           "font": {
            "color": "black",
            "family": "Arial",
            "size": 20,
            "weight": "bold"
           },
           "x": 0.05,
           "xanchor": "left",
           "y": 0.91
          },
          "xaxis": {
           "showgrid": false,
           "tickfont": {
            "color": "grey",
            "size": 12
           },
           "ticklabelposition": "outside bottom",
           "title": {
            "font": {
             "color": "grey",
             "size": 13,
             "weight": "bold"
            },
            "standoff": 15
           },
           "zerolinecolor": "lightgrey"
          },
          "yaxis": {
           "gridcolor": "lightgrey",
           "showgrid": true,
           "tickfont": {
            "color": "grey",
            "size": 12
           },
           "ticklabelposition": "outside left",
           "title": {
            "font": {
             "color": "grey",
             "size": 13,
             "weight": "bold"
            },
            "standoff": 15
           },
           "zerolinecolor": "lightgrey"
          }
         }
        },
        "title": {
         "text": "Subjektive Leistungseinschätzung nach Studiengang (2024)"
        },
        "xaxis": {
         "anchor": "y",
         "domain": [
          0,
          1
         ],
         "tickangle": -45,
         "title": {
          "text": "Studiengang"
         }
        },
        "yaxis": {
         "anchor": "x",
         "domain": [
          0,
          1
         ],
         "range": [
          0,
          100
         ],
         "title": {
          "text": "Prozentuale Verteilung"
         }
        }
       }
      }
     },
     "metadata": {},
     "output_type": "display_data"
    }
   ],
   "source": [
    "import pandas as pd\n",
    "import plotly.express as px\n",
    "\n",
    "# Sicherstellen, dass 2024 in den Daten vorhanden ist\n",
    "jahr = \"2024\"\n",
    "\n",
    "df_2024 = sheets[jahr]\n",
    "\n",
    "# Studiengänge automatisch erkennen\n",
    "studiengaenge = [col for col in df_2024.columns if \"Bachelor\" in col or \"Master\" in col]\n",
    "\n",
    "# Extrahiere die subjektive Leistungseinschätzung (Positiv, Indifferent, Negativ)\n",
    "positiv_2024 = df_2024[(df_2024[\"Variable\"] == \"Subjektive Leistungseinschätzung\") & \n",
    "                        (df_2024[\"Category\"] == \"Positiv Einschätzung (%)\")][studiengaenge]\n",
    "\n",
    "indifferent_2024 = df_2024[(df_2024[\"Variable\"] == \"Subjektive Leistungseinschätzung\") & \n",
    "                            (df_2024[\"Category\"] == \"Indifferent (%)\")][studiengaenge]\n",
    "\n",
    "negativ_2024 = df_2024[(df_2024[\"Variable\"] == \"Subjektive Leistungseinschätzung\") & \n",
    "                        (df_2024[\"Category\"] == \"Negativ Einschätzung (%)\")][studiengaenge]\n",
    "\n",
    "# DataFrame zur Visualisierung vorbereiten\n",
    "df_studiengang_2024 = pd.concat([positiv_2024, indifferent_2024, negativ_2024], keys=[\"Positiv\", \"Indifferent\", \"Negativ\"])\n",
    "df_studiengang_2024 = df_studiengang_2024.T.reset_index()\n",
    "df_studiengang_2024.columns = [\"Studiengang\", \"Positiv\", \"Indifferent\", \"Negativ\"]\n",
    "\n",
    "# **Studiengänge ohne Werte entfernen (Zeilen mit NaN oder nur 0 entfernen)**\n",
    "df_studiengang_2024 = df_studiengang_2024.dropna().replace(0, pd.NA).dropna()\n",
    "\n",
    "# **Nach positiver Einschätzung absteigend sortieren**\n",
    "df_studiengang_2024 = df_studiengang_2024.sort_values(by=\"Positiv\", ascending=False)\n",
    "\n",
    "# DataFrame umstrukturieren für gestapeltes Balkendiagramm\n",
    "df_melted = df_studiengang_2024.melt(id_vars=\"Studiengang\", var_name=\"Einschätzung\", value_name=\"Prozent\")\n",
    "\n",
    "# Farben definieren\n",
    "color_map = {\n",
    "    \"Positiv\": \"#2ca02c\",   # Grün\n",
    "    \"Indifferent\": \"#ffcc00\",  # Gelb\n",
    "    \"Negativ\": \"#d62728\"   # Rot\n",
    "}\n",
    "\n",
    "# Gestapeltes Balkendiagramm erstellen\n",
    "fig = px.bar(\n",
    "    df_melted,\n",
    "    x=\"Studiengang\",\n",
    "    y=\"Prozent\",\n",
    "    color=\"Einschätzung\",\n",
    "    barmode=\"stack\",\n",
    "    title=\"Subjektive Leistungseinschätzung nach Studiengang (2024)\",\n",
    "    color_discrete_map=color_map,\n",
    "    template=\"infoviz\"\n",
    ")\n",
    "\n",
    "# Layout-Anpassungen\n",
    "fig.update_layout(\n",
    "    xaxis=dict(title=\"Studiengang\", tickangle=-45),\n",
    "    yaxis=dict(title=\"Prozentuale Verteilung\", range=[0, 100]),\n",
    "    legend_title=\"Einschätzung\"\n",
    ")\n",
    "\n",
    "fig.show()"
   ]
  },
  {
   "cell_type": "code",
   "execution_count": 72,
   "metadata": {},
   "outputs": [
    {
     "data": {
      "application/vnd.plotly.v1+json": {
       "config": {
        "plotlyServerURL": "https://plot.ly"
       },
       "data": [
        {
         "hovertemplate": "Einschätzung=Positiv<br>Studiengang=%{x}<br>Prozent=%{y}<extra></extra>",
         "legendgroup": "Positiv",
         "marker": {
          "color": "#2ca02c",
          "pattern": {
           "shape": ""
          }
         },
         "name": "Positiv",
         "orientation": "v",
         "showlegend": true,
         "textposition": "auto",
         "type": "bar",
         "x": [
          "Master Umweltwissenschaften",
          "Master Agrobiotechnologie",
          "Master Insect Biotechnology and Bioresources",
          "Master Ernährungswissenschaften",
          "Master Ökotrophologie",
          "Bachelor Umweltmanagement",
          "Bachelor Ernährungswissenschaften",
          "Master Nutzpflanzenwissenschaften",
          "Bachelor Agrarwissenschaften",
          "Bachelor Ökotrophologie",
          "Master Agrar- und Ressourcenökonomie"
         ],
         "xaxis": "x",
         "y": {
          "bdata": "AAAAAACAUEAAAAAAAEBQQAAAAAAAgE5AAAAAAAAAS0AAAAAAAABKQAAAAAAAAElAAAAAAACARUAAAAAAAIBBQAAAAAAAAD9AAAAAAAAAPkAAAAAAAAAxQA==",
          "dtype": "f8"
         },
         "yaxis": "y"
        },
        {
         "hovertemplate": "Einschätzung=Indifferent<br>Studiengang=%{x}<br>Prozent=%{y}<extra></extra>",
         "legendgroup": "Indifferent",
         "marker": {
          "color": "#ffcc00",
          "pattern": {
           "shape": ""
          }
         },
         "name": "Indifferent",
         "orientation": "v",
         "showlegend": true,
         "textposition": "auto",
         "type": "bar",
         "x": [
          "Master Umweltwissenschaften",
          "Master Agrobiotechnologie",
          "Master Insect Biotechnology and Bioresources",
          "Master Ernährungswissenschaften",
          "Master Ökotrophologie",
          "Bachelor Umweltmanagement",
          "Bachelor Ernährungswissenschaften",
          "Master Nutzpflanzenwissenschaften",
          "Bachelor Agrarwissenschaften",
          "Bachelor Ökotrophologie",
          "Master Agrar- und Ressourcenökonomie"
         ],
         "xaxis": "x",
         "y": {
          "bdata": "AAAAAAAAIkAAAAAAAAAYQAAAAAAAABhAAAAAAAAAIEAAAAAAAAAkQAAAAAAAABxAAAAAAAAAEEAAAAAAAAAoQAAAAAAAABxAAAAAAAAAFEAAAAAAAAAxQA==",
          "dtype": "f8"
         },
         "yaxis": "y"
        },
        {
         "hovertemplate": "Einschätzung=Negativ<br>Studiengang=%{x}<br>Prozent=%{y}<extra></extra>",
         "legendgroup": "Negativ",
         "marker": {
          "color": "#d62728",
          "pattern": {
           "shape": ""
          }
         },
         "name": "Negativ",
         "orientation": "v",
         "showlegend": true,
         "textposition": "auto",
         "type": "bar",
         "x": [
          "Master Umweltwissenschaften",
          "Master Agrobiotechnologie",
          "Master Insect Biotechnology and Bioresources",
          "Master Ernährungswissenschaften",
          "Master Ökotrophologie",
          "Bachelor Umweltmanagement",
          "Bachelor Ernährungswissenschaften",
          "Master Nutzpflanzenwissenschaften",
          "Bachelor Agrarwissenschaften",
          "Bachelor Ökotrophologie",
          "Master Agrar- und Ressourcenökonomie"
         ],
         "xaxis": "x",
         "y": {
          "bdata": "AAAAAAAAOUAAAAAAAAA9QAAAAAAAgEBAAAAAAAAAQ0AAAAAAAABDQAAAAAAAgEVAAAAAAACASkAAAAAAAIBKQAAAAAAAAE9AAAAAAABAUEAAAAAAAMBQQA==",
          "dtype": "f8"
         },
         "yaxis": "y"
        }
       ],
       "layout": {
        "barmode": "stack",
        "legend": {
         "title": {
          "text": "Einschätzung"
         },
         "tracegroupgap": 0
        },
        "template": {
         "layout": {
          "template": {
           "data": {
            "bar": [
             {
              "error_x": {
               "color": "#2a3f5f"
              },
              "error_y": {
               "color": "#2a3f5f"
              },
              "marker": {
               "line": {
                "color": "white",
                "width": 0.5
               },
               "pattern": {
                "fillmode": "overlay",
                "size": 10,
                "solidity": 0.2
               }
              },
              "type": "bar"
             }
            ],
            "barpolar": [
             {
              "marker": {
               "line": {
                "color": "white",
                "width": 0.5
               },
               "pattern": {
                "fillmode": "overlay",
                "size": 10,
                "solidity": 0.2
               }
              },
              "type": "barpolar"
             }
            ],
            "carpet": [
             {
              "aaxis": {
               "endlinecolor": "#2a3f5f",
               "gridcolor": "#C8D4E3",
               "linecolor": "#C8D4E3",
               "minorgridcolor": "#C8D4E3",
               "startlinecolor": "#2a3f5f"
              },
              "baxis": {
               "endlinecolor": "#2a3f5f",
               "gridcolor": "#C8D4E3",
               "linecolor": "#C8D4E3",
               "minorgridcolor": "#C8D4E3",
               "startlinecolor": "#2a3f5f"
              },
              "type": "carpet"
             }
            ],
            "choropleth": [
             {
              "colorbar": {
               "outlinewidth": 0,
               "ticks": ""
              },
              "type": "choropleth"
             }
            ],
            "contour": [
             {
              "colorbar": {
               "outlinewidth": 0,
               "ticks": ""
              },
              "colorscale": [
               [
                0,
                "#0d0887"
               ],
               [
                0.1111111111111111,
                "#46039f"
               ],
               [
                0.2222222222222222,
                "#7201a8"
               ],
               [
                0.3333333333333333,
                "#9c179e"
               ],
               [
                0.4444444444444444,
                "#bd3786"
               ],
               [
                0.5555555555555556,
                "#d8576b"
               ],
               [
                0.6666666666666666,
                "#ed7953"
               ],
               [
                0.7777777777777778,
                "#fb9f3a"
               ],
               [
                0.8888888888888888,
                "#fdca26"
               ],
               [
                1,
                "#f0f921"
               ]
              ],
              "type": "contour"
             }
            ],
            "contourcarpet": [
             {
              "colorbar": {
               "outlinewidth": 0,
               "ticks": ""
              },
              "type": "contourcarpet"
             }
            ],
            "heatmap": [
             {
              "colorbar": {
               "outlinewidth": 0,
               "ticks": ""
              },
              "colorscale": [
               [
                0,
                "#0d0887"
               ],
               [
                0.1111111111111111,
                "#46039f"
               ],
               [
                0.2222222222222222,
                "#7201a8"
               ],
               [
                0.3333333333333333,
                "#9c179e"
               ],
               [
                0.4444444444444444,
                "#bd3786"
               ],
               [
                0.5555555555555556,
                "#d8576b"
               ],
               [
                0.6666666666666666,
                "#ed7953"
               ],
               [
                0.7777777777777778,
                "#fb9f3a"
               ],
               [
                0.8888888888888888,
                "#fdca26"
               ],
               [
                1,
                "#f0f921"
               ]
              ],
              "type": "heatmap"
             }
            ],
            "histogram": [
             {
              "marker": {
               "pattern": {
                "fillmode": "overlay",
                "size": 10,
                "solidity": 0.2
               }
              },
              "type": "histogram"
             }
            ],
            "histogram2d": [
             {
              "colorbar": {
               "outlinewidth": 0,
               "ticks": ""
              },
              "colorscale": [
               [
                0,
                "#0d0887"
               ],
               [
                0.1111111111111111,
                "#46039f"
               ],
               [
                0.2222222222222222,
                "#7201a8"
               ],
               [
                0.3333333333333333,
                "#9c179e"
               ],
               [
                0.4444444444444444,
                "#bd3786"
               ],
               [
                0.5555555555555556,
                "#d8576b"
               ],
               [
                0.6666666666666666,
                "#ed7953"
               ],
               [
                0.7777777777777778,
                "#fb9f3a"
               ],
               [
                0.8888888888888888,
                "#fdca26"
               ],
               [
                1,
                "#f0f921"
               ]
              ],
              "type": "histogram2d"
             }
            ],
            "histogram2dcontour": [
             {
              "colorbar": {
               "outlinewidth": 0,
               "ticks": ""
              },
              "colorscale": [
               [
                0,
                "#0d0887"
               ],
               [
                0.1111111111111111,
                "#46039f"
               ],
               [
                0.2222222222222222,
                "#7201a8"
               ],
               [
                0.3333333333333333,
                "#9c179e"
               ],
               [
                0.4444444444444444,
                "#bd3786"
               ],
               [
                0.5555555555555556,
                "#d8576b"
               ],
               [
                0.6666666666666666,
                "#ed7953"
               ],
               [
                0.7777777777777778,
                "#fb9f3a"
               ],
               [
                0.8888888888888888,
                "#fdca26"
               ],
               [
                1,
                "#f0f921"
               ]
              ],
              "type": "histogram2dcontour"
             }
            ],
            "mesh3d": [
             {
              "colorbar": {
               "outlinewidth": 0,
               "ticks": ""
              },
              "type": "mesh3d"
             }
            ],
            "parcoords": [
             {
              "line": {
               "colorbar": {
                "outlinewidth": 0,
                "ticks": ""
               }
              },
              "type": "parcoords"
             }
            ],
            "pie": [
             {
              "automargin": true,
              "type": "pie"
             }
            ],
            "scatter": [
             {
              "fillpattern": {
               "fillmode": "overlay",
               "size": 10,
               "solidity": 0.2
              },
              "type": "scatter"
             }
            ],
            "scatter3d": [
             {
              "line": {
               "colorbar": {
                "outlinewidth": 0,
                "ticks": ""
               }
              },
              "marker": {
               "colorbar": {
                "outlinewidth": 0,
                "ticks": ""
               }
              },
              "type": "scatter3d"
             }
            ],
            "scattercarpet": [
             {
              "marker": {
               "colorbar": {
                "outlinewidth": 0,
                "ticks": ""
               }
              },
              "type": "scattercarpet"
             }
            ],
            "scattergeo": [
             {
              "marker": {
               "colorbar": {
                "outlinewidth": 0,
                "ticks": ""
               }
              },
              "type": "scattergeo"
             }
            ],
            "scattergl": [
             {
              "marker": {
               "colorbar": {
                "outlinewidth": 0,
                "ticks": ""
               }
              },
              "type": "scattergl"
             }
            ],
            "scattermap": [
             {
              "marker": {
               "colorbar": {
                "outlinewidth": 0,
                "ticks": ""
               }
              },
              "type": "scattermap"
             }
            ],
            "scattermapbox": [
             {
              "marker": {
               "colorbar": {
                "outlinewidth": 0,
                "ticks": ""
               }
              },
              "type": "scattermapbox"
             }
            ],
            "scatterpolar": [
             {
              "marker": {
               "colorbar": {
                "outlinewidth": 0,
                "ticks": ""
               }
              },
              "type": "scatterpolar"
             }
            ],
            "scatterpolargl": [
             {
              "marker": {
               "colorbar": {
                "outlinewidth": 0,
                "ticks": ""
               }
              },
              "type": "scatterpolargl"
             }
            ],
            "scatterternary": [
             {
              "marker": {
               "colorbar": {
                "outlinewidth": 0,
                "ticks": ""
               }
              },
              "type": "scatterternary"
             }
            ],
            "surface": [
             {
              "colorbar": {
               "outlinewidth": 0,
               "ticks": ""
              },
              "colorscale": [
               [
                0,
                "#0d0887"
               ],
               [
                0.1111111111111111,
                "#46039f"
               ],
               [
                0.2222222222222222,
                "#7201a8"
               ],
               [
                0.3333333333333333,
                "#9c179e"
               ],
               [
                0.4444444444444444,
                "#bd3786"
               ],
               [
                0.5555555555555556,
                "#d8576b"
               ],
               [
                0.6666666666666666,
                "#ed7953"
               ],
               [
                0.7777777777777778,
                "#fb9f3a"
               ],
               [
                0.8888888888888888,
                "#fdca26"
               ],
               [
                1,
                "#f0f921"
               ]
              ],
              "type": "surface"
             }
            ],
            "table": [
             {
              "cells": {
               "fill": {
                "color": "#EBF0F8"
               },
               "line": {
                "color": "white"
               }
              },
              "header": {
               "fill": {
                "color": "#C8D4E3"
               },
               "line": {
                "color": "white"
               }
              },
              "type": "table"
             }
            ]
           },
           "layout": {
            "annotationdefaults": {
             "arrowcolor": "#2a3f5f",
             "arrowhead": 0,
             "arrowwidth": 1
            },
            "autotypenumbers": "strict",
            "coloraxis": {
             "colorbar": {
              "outlinewidth": 0,
              "ticks": ""
             }
            },
            "colorscale": {
             "diverging": [
              [
               0,
               "#8e0152"
              ],
              [
               0.1,
               "#c51b7d"
              ],
              [
               0.2,
               "#de77ae"
              ],
              [
               0.3,
               "#f1b6da"
              ],
              [
               0.4,
               "#fde0ef"
              ],
              [
               0.5,
               "#f7f7f7"
              ],
              [
               0.6,
               "#e6f5d0"
              ],
              [
               0.7,
               "#b8e186"
              ],
              [
               0.8,
               "#7fbc41"
              ],
              [
               0.9,
               "#4d9221"
              ],
              [
               1,
               "#276419"
              ]
             ],
             "sequential": [
              [
               0,
               "#0d0887"
              ],
              [
               0.1111111111111111,
               "#46039f"
              ],
              [
               0.2222222222222222,
               "#7201a8"
              ],
              [
               0.3333333333333333,
               "#9c179e"
              ],
              [
               0.4444444444444444,
               "#bd3786"
              ],
              [
               0.5555555555555556,
               "#d8576b"
              ],
              [
               0.6666666666666666,
               "#ed7953"
              ],
              [
               0.7777777777777778,
               "#fb9f3a"
              ],
              [
               0.8888888888888888,
               "#fdca26"
              ],
              [
               1,
               "#f0f921"
              ]
             ],
             "sequentialminus": [
              [
               0,
               "#0d0887"
              ],
              [
               0.1111111111111111,
               "#46039f"
              ],
              [
               0.2222222222222222,
               "#7201a8"
              ],
              [
               0.3333333333333333,
               "#9c179e"
              ],
              [
               0.4444444444444444,
               "#bd3786"
              ],
              [
               0.5555555555555556,
               "#d8576b"
              ],
              [
               0.6666666666666666,
               "#ed7953"
              ],
              [
               0.7777777777777778,
               "#fb9f3a"
              ],
              [
               0.8888888888888888,
               "#fdca26"
              ],
              [
               1,
               "#f0f921"
              ]
             ]
            },
            "colorway": [
             "#636efa",
             "#EF553B",
             "#00cc96",
             "#ab63fa",
             "#FFA15A",
             "#19d3f3",
             "#FF6692",
             "#B6E880",
             "#FF97FF",
             "#FECB52"
            ],
            "font": {
             "color": "#2a3f5f"
            },
            "geo": {
             "bgcolor": "white",
             "lakecolor": "white",
             "landcolor": "white",
             "showlakes": true,
             "showland": true,
             "subunitcolor": "#C8D4E3"
            },
            "hoverlabel": {
             "align": "left"
            },
            "hovermode": "closest",
            "mapbox": {
             "style": "light"
            },
            "paper_bgcolor": "white",
            "plot_bgcolor": "white",
            "polar": {
             "angularaxis": {
              "gridcolor": "#EBF0F8",
              "linecolor": "#EBF0F8",
              "ticks": ""
             },
             "bgcolor": "white",
             "radialaxis": {
              "gridcolor": "#EBF0F8",
              "linecolor": "#EBF0F8",
              "ticks": ""
             }
            },
            "scene": {
             "xaxis": {
              "backgroundcolor": "white",
              "gridcolor": "#DFE8F3",
              "gridwidth": 2,
              "linecolor": "#EBF0F8",
              "showbackground": true,
              "ticks": "",
              "zerolinecolor": "#EBF0F8"
             },
             "yaxis": {
              "backgroundcolor": "white",
              "gridcolor": "#DFE8F3",
              "gridwidth": 2,
              "linecolor": "#EBF0F8",
              "showbackground": true,
              "ticks": "",
              "zerolinecolor": "#EBF0F8"
             },
             "zaxis": {
              "backgroundcolor": "white",
              "gridcolor": "#DFE8F3",
              "gridwidth": 2,
              "linecolor": "#EBF0F8",
              "showbackground": true,
              "ticks": "",
              "zerolinecolor": "#EBF0F8"
             }
            },
            "shapedefaults": {
             "line": {
              "color": "#2a3f5f"
             }
            },
            "ternary": {
             "aaxis": {
              "gridcolor": "#DFE8F3",
              "linecolor": "#A2B1C6",
              "ticks": ""
             },
             "baxis": {
              "gridcolor": "#DFE8F3",
              "linecolor": "#A2B1C6",
              "ticks": ""
             },
             "bgcolor": "white",
             "caxis": {
              "gridcolor": "#DFE8F3",
              "linecolor": "#A2B1C6",
              "ticks": ""
             }
            },
            "title": {
             "x": 0.05
            },
            "xaxis": {
             "automargin": true,
             "gridcolor": "#EBF0F8",
             "linecolor": "#EBF0F8",
             "ticks": "",
             "title": {
              "standoff": 15
             },
             "zerolinecolor": "#EBF0F8",
             "zerolinewidth": 2
            },
            "yaxis": {
             "automargin": true,
             "gridcolor": "#EBF0F8",
             "linecolor": "#EBF0F8",
             "ticks": "",
             "title": {
              "standoff": 15
             },
             "zerolinecolor": "#EBF0F8",
             "zerolinewidth": 2
            }
           }
          },
          "title": {
           "font": {
            "color": "black",
            "family": "Arial",
            "size": 20,
            "weight": "bold"
           },
           "x": 0.05,
           "xanchor": "left",
           "y": 0.91
          },
          "xaxis": {
           "showgrid": false,
           "tickfont": {
            "color": "grey",
            "size": 12
           },
           "ticklabelposition": "outside bottom",
           "title": {
            "font": {
             "color": "grey",
             "size": 13,
             "weight": "bold"
            },
            "standoff": 15
           },
           "zerolinecolor": "lightgrey"
          },
          "yaxis": {
           "gridcolor": "lightgrey",
           "showgrid": true,
           "tickfont": {
            "color": "grey",
            "size": 12
           },
           "ticklabelposition": "outside left",
           "title": {
            "font": {
             "color": "grey",
             "size": 13,
             "weight": "bold"
            },
            "standoff": 15
           },
           "zerolinecolor": "lightgrey"
          }
         }
        },
        "title": {
         "text": "Subjektive Leistungseinschätzung nach Studiengang (2021)"
        },
        "xaxis": {
         "anchor": "y",
         "domain": [
          0,
          1
         ],
         "tickangle": -45,
         "title": {
          "text": "Studiengang"
         }
        },
        "yaxis": {
         "anchor": "x",
         "domain": [
          0,
          1
         ],
         "range": [
          0,
          100
         ],
         "title": {
          "text": "Prozentuale Verteilung"
         }
        }
       }
      }
     },
     "metadata": {},
     "output_type": "display_data"
    }
   ],
   "source": [
    "import pandas as pd\n",
    "import plotly.express as px\n",
    "\n",
    "# Sicherstellen, dass 2024 in den Daten vorhanden ist\n",
    "jahr = \"2021\"\n",
    "\n",
    "df_2024 = sheets[jahr]\n",
    "\n",
    "# Studiengänge automatisch erkennen\n",
    "studiengaenge = [col for col in df_2024.columns if \"Bachelor\" in col or \"Master\" in col]\n",
    "\n",
    "# Extrahiere die subjektive Leistungseinschätzung (Positiv, Indifferent, Negativ)\n",
    "positiv_2024 = df_2024[(df_2024[\"Variable\"] == \"Subjektive Leistungseinschätzung\") & \n",
    "                        (df_2024[\"Category\"] == \"Positiv Einschätzung (%)\")][studiengaenge]\n",
    "\n",
    "indifferent_2024 = df_2024[(df_2024[\"Variable\"] == \"Subjektive Leistungseinschätzung\") & \n",
    "                            (df_2024[\"Category\"] == \"Indifferent (%)\")][studiengaenge]\n",
    "\n",
    "negativ_2024 = df_2024[(df_2024[\"Variable\"] == \"Subjektive Leistungseinschätzung\") & \n",
    "                        (df_2024[\"Category\"] == \"Negativ Einschätzung (%)\")][studiengaenge]\n",
    "\n",
    "# DataFrame zur Visualisierung vorbereiten\n",
    "df_studiengang_2024 = pd.concat([positiv_2024, indifferent_2024, negativ_2024], keys=[\"Positiv\", \"Indifferent\", \"Negativ\"])\n",
    "df_studiengang_2024 = df_studiengang_2024.T.reset_index()\n",
    "df_studiengang_2024.columns = [\"Studiengang\", \"Positiv\", \"Indifferent\", \"Negativ\"]\n",
    "\n",
    "# **Studiengänge ohne Werte entfernen (Zeilen mit NaN oder nur 0 entfernen)**\n",
    "df_studiengang_2024 = df_studiengang_2024.dropna().replace(0, pd.NA).dropna()\n",
    "\n",
    "# **Nach positiver Einschätzung absteigend sortieren**\n",
    "df_studiengang_2024 = df_studiengang_2024.sort_values(by=\"Positiv\", ascending=False)\n",
    "\n",
    "# DataFrame umstrukturieren für gestapeltes Balkendiagramm\n",
    "df_melted = df_studiengang_2024.melt(id_vars=\"Studiengang\", var_name=\"Einschätzung\", value_name=\"Prozent\")\n",
    "\n",
    "# Farben definieren\n",
    "color_map = {\n",
    "    \"Positiv\": \"#2ca02c\",   # Grün\n",
    "    \"Indifferent\": \"#ffcc00\",  # Gelb\n",
    "    \"Negativ\": \"#d62728\"   # Rot\n",
    "}\n",
    "\n",
    "# Gestapeltes Balkendiagramm erstellen\n",
    "fig = px.bar(\n",
    "    df_melted,\n",
    "    x=\"Studiengang\",\n",
    "    y=\"Prozent\",\n",
    "    color=\"Einschätzung\",\n",
    "    barmode=\"stack\",\n",
    "    title=\"Subjektive Leistungseinschätzung nach Studiengang (2021)\",\n",
    "    color_discrete_map=color_map,\n",
    "    template=\"infoviz\"\n",
    ")\n",
    "\n",
    "# Layout-Anpassungen\n",
    "fig.update_layout(\n",
    "    xaxis=dict(title=\"Studiengang\", tickangle=-45),\n",
    "    yaxis=dict(title=\"Prozentuale Verteilung\", range=[0, 100]),\n",
    "    legend_title=\"Einschätzung\"\n",
    ")\n",
    "\n",
    "fig.show()"
   ]
  },
  {
   "cell_type": "code",
   "execution_count": null,
   "metadata": {},
   "outputs": [],
   "source": []
  }
 ],
 "metadata": {
  "kernelspec": {
   "display_name": ".venv",
   "language": "python",
   "name": "python3"
  },
  "language_info": {
   "codemirror_mode": {
    "name": "ipython",
    "version": 3
   },
   "file_extension": ".py",
   "mimetype": "text/x-python",
   "name": "python",
   "nbconvert_exporter": "python",
   "pygments_lexer": "ipython3",
   "version": "3.12.4"
  }
 },
 "nbformat": 4,
 "nbformat_minor": 2
}
