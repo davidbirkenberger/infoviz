{
 "cells": [
  {
   "cell_type": "code",
   "execution_count": 132,
   "metadata": {},
   "outputs": [],
   "source": [
    "import pandas as pd\n",
    "import plotly.io as pio\n",
    "import plotly.express as px\n",
    "\n",
    "# Benutzerdefiniertes Template definieren\n",
    "infoviz_template = dict(\n",
    "    layout=dict(\n",
    "        template=\"plotly_white\",\n",
    "        title=dict(\n",
    "            font=dict(size=20, family=\"Arial\", weight=\"bold\", color=\"black\"),\n",
    "            y=0.91,  # Titel weiter nach oben\n",
    "            x=0.05,  # Links ausgerichtet\n",
    "            xanchor=\"left\",  # Linksbündig\n",
    "        ),\n",
    "        xaxis=dict(\n",
    "            showgrid=False,\n",
    "            zerolinecolor=\"lightgrey\",\n",
    "            tickfont=dict(color=\"grey\", size=12),\n",
    "            title_font=dict(color=\"grey\", weight=\"bold\", size=13),\n",
    "            title_standoff=15,\n",
    "            ticklabelposition=\"outside bottom\"\n",
    "        ),\n",
    "        yaxis=dict(\n",
    "            showgrid=True, gridcolor=\"lightgrey\",\n",
    "            zerolinecolor=\"lightgrey\",\n",
    "            tickfont=dict(color=\"grey\", size=12),\n",
    "            title_font=dict(color=\"grey\", weight=\"bold\", size=13),\n",
    "            title_standoff=15,\n",
    "            ticklabelposition=\"outside left\"\n",
    "        ),\n",
    "    )\n",
    ")\n",
    "pio.templates[\"infoviz\"] = infoviz_template"
   ]
  },
  {
   "cell_type": "code",
   "execution_count": 133,
   "metadata": {},
   "outputs": [],
   "source": [
    "years = [str(year) for year in range(2013, 2025)]\n",
    "\n",
    "df = pd.read_excel(\"data.xlsx\", sheet_name=years)\n",
    "\n",
    "data_list = []\n",
    "\n",
    "for year, df in df.items():\n",
    "    # Füge das Jahr als neue Spalte hinzu\n",
    "    df['Jahr'] = year\n",
    "    \n",
    "    # Füge den DataFrame der Liste hinzu\n",
    "    data_list.append(df)\n",
    "\n",
    "# Alle DataFrames in der Liste zu einem einzigen DataFrame zusammenführen\n",
    "final_df = pd.concat(data_list, ignore_index=True)\n"
   ]
  },
  {
   "cell_type": "code",
   "execution_count": 134,
   "metadata": {},
   "outputs": [
    {
     "data": {
      "application/vnd.microsoft.datawrangler.viewer.v0+json": {
       "columns": [
        {
         "name": "index",
         "rawType": "int64",
         "type": "integer"
        },
        {
         "name": "Variable",
         "rawType": "object",
         "type": "string"
        },
        {
         "name": "Category",
         "rawType": "object",
         "type": "string"
        },
        {
         "name": "Bachelor Agrarwissenschaften",
         "rawType": "object",
         "type": "unknown"
        },
        {
         "name": "Bachelor Ernährungswissenschaften",
         "rawType": "float64",
         "type": "float"
        },
        {
         "name": "Bachelor Nachwachsende Rohstoffe und Bioressourcen",
         "rawType": "float64",
         "type": "float"
        },
        {
         "name": "Bachelor Ökotrophologie",
         "rawType": "object",
         "type": "unknown"
        },
        {
         "name": "Bachelor Umwelt und globaler Wandel",
         "rawType": "float64",
         "type": "float"
        },
        {
         "name": "Master Ernährungswissenschaften ",
         "rawType": "float64",
         "type": "float"
        },
        {
         "name": "Master  Ernährungsökonomie*",
         "rawType": "float64",
         "type": "float"
        },
        {
         "name": "Master  Agrarökonomie und Betriebsmanagement",
         "rawType": "float64",
         "type": "float"
        },
        {
         "name": "Master Nutztierwissenschaften",
         "rawType": "float64",
         "type": "float"
        },
        {
         "name": "Master Pflanzenproduktion",
         "rawType": "float64",
         "type": "float"
        },
        {
         "name": "Master Oenologie/Weinwirtschaft*",
         "rawType": "float64",
         "type": "float"
        },
        {
         "name": "Master Haushalts- und Dienstleistungswissenschaften\n",
         "rawType": "float64",
         "type": "float"
        },
        {
         "name": "Master Umwelt- und Ressourcenmanagement",
         "rawType": "float64",
         "type": "float"
        },
        {
         "name": "Master Getränketechnologie",
         "rawType": "float64",
         "type": "float"
        },
        {
         "name": "Jahr",
         "rawType": "object",
         "type": "string"
        },
        {
         "name": "Master Getränketechnologi",
         "rawType": "float64",
         "type": "float"
        },
        {
         "name": "Master Agrar- und Ressourcenökonomie",
         "rawType": "float64",
         "type": "float"
        },
        {
         "name": "Master Umweltwissenschaften",
         "rawType": "float64",
         "type": "float"
        },
        {
         "name": "Master Transition Management\n",
         "rawType": "float64",
         "type": "float"
        },
        {
         "name": "Master Ökotrophologie",
         "rawType": "float64",
         "type": "float"
        },
        {
         "name": "Master Agrobiotechnologie\n",
         "rawType": "float64",
         "type": "float"
        },
        {
         "name": "Master Insect Biotechnology and Bioresources",
         "rawType": "float64",
         "type": "float"
        },
        {
         "name": "Bachelor Umweltmanagement",
         "rawType": "float64",
         "type": "float"
        },
        {
         "name": "Master Agrobiotechnologie",
         "rawType": "float64",
         "type": "float"
        },
        {
         "name": "Master Ernährungsökonomie",
         "rawType": "float64",
         "type": "float"
        },
        {
         "name": "Master Nutzpflanzenwissenschaften",
         "rawType": "float64",
         "type": "float"
        },
        {
         "name": "Master Oenologie/Weinwirtschaft",
         "rawType": "float64",
         "type": "float"
        },
        {
         "name": "Master Transition Management",
         "rawType": "float64",
         "type": "float"
        },
        {
         "name": "Master Sustainable Transition*",
         "rawType": "float64",
         "type": "float"
        },
        {
         "name": "Master Agrar- und Ressourcenökonomie*",
         "rawType": "float64",
         "type": "float"
        },
        {
         "name": "Master Getränketechnologie*",
         "rawType": "float64",
         "type": "float"
        },
        {
         "name": "Master Informationstechnologie in den Agrar- und Umweltwissenschaften*",
         "rawType": "float64",
         "type": "float"
        },
        {
         "name": "Master Nachhaltige Ernährungswirtschaft",
         "rawType": "float64",
         "type": "float"
        },
        {
         "name": "Master Sustainable Transition",
         "rawType": "float64",
         "type": "float"
        },
        {
         "name": "Master Nutztierwissenschaften*",
         "rawType": "float64",
         "type": "float"
        }
       ],
       "conversionMethod": "pd.DataFrame",
       "ref": "1f0d7ffb-7399-4492-b924-1dcaf81d2515",
       "rows": [
        [
         "22",
         "Fachsemester",
         "1 (%)",
         "36.0",
         "36.0",
         null,
         "31.0",
         "32.0",
         "21.0",
         "19.0",
         "40.0",
         "25.0",
         "42.0",
         "56.0",
         "19.0",
         "33.0",
         "100.0",
         "2013",
         null,
         null,
         null,
         null,
         null,
         null,
         null,
         null,
         null,
         null,
         null,
         null,
         null,
         null,
         null,
         null,
         null,
         null,
         null,
         null
        ],
        [
         "23",
         "Fachsemester",
         "2 (%)",
         "2.0",
         null,
         null,
         null,
         null,
         "9.0",
         "19.0",
         "20.0",
         "25.0",
         null,
         "11.0",
         "14.0",
         "10.0",
         null,
         "2013",
         null,
         null,
         null,
         null,
         null,
         null,
         null,
         null,
         null,
         null,
         null,
         null,
         null,
         null,
         null,
         null,
         null,
         null,
         null,
         null
        ],
        [
         "24",
         "Fachsemester",
         "3 (%)",
         "33.0",
         "28.0",
         null,
         "30.0",
         "35.0",
         "34.0",
         "26.0",
         "20.0",
         "38.0",
         "33.0",
         "22.0",
         "29.0",
         "37.0",
         null,
         "2013",
         null,
         null,
         null,
         null,
         null,
         null,
         null,
         null,
         null,
         null,
         null,
         null,
         null,
         null,
         null,
         null,
         null,
         null,
         null,
         null
        ],
        [
         "25",
         "Fachsemester",
         "4 (%)",
         null,
         "1.0",
         null,
         "1.0",
         null,
         "13.0",
         "10.0",
         "10.0",
         "13.0",
         "8.0",
         null,
         "24.0",
         "4.0",
         null,
         "2013",
         null,
         null,
         null,
         null,
         null,
         null,
         null,
         null,
         null,
         null,
         null,
         null,
         null,
         null,
         null,
         null,
         null,
         null,
         null,
         null
        ],
        [
         "26",
         "Fachsemester",
         "5 (%)",
         "20.0",
         "24.0",
         null,
         "25.0",
         "26.0",
         "16.0",
         "16.0",
         "10.0",
         null,
         "17.0",
         null,
         "5.0",
         "14.0",
         null,
         "2013",
         null,
         null,
         null,
         null,
         null,
         null,
         null,
         null,
         null,
         null,
         null,
         null,
         null,
         null,
         null,
         null,
         null,
         null,
         null,
         null
        ],
        [
         "27",
         "Fachsemester",
         "6 (%)",
         "2.0",
         "2.0",
         null,
         "1.0",
         "3.0",
         "6.0",
         "6.0",
         null,
         null,
         null,
         null,
         "5.0",
         null,
         null,
         "2013",
         null,
         null,
         null,
         null,
         null,
         null,
         null,
         null,
         null,
         null,
         null,
         null,
         null,
         null,
         null,
         null,
         null,
         null,
         null,
         null
        ],
        [
         "28",
         "Fachsemester",
         "7 (%)",
         "3.0",
         "8.0",
         null,
         "11.0",
         "5.0",
         null,
         "3.0",
         null,
         null,
         null,
         null,
         "5.0",
         null,
         null,
         "2013",
         null,
         null,
         null,
         null,
         null,
         null,
         null,
         null,
         null,
         null,
         null,
         null,
         null,
         null,
         null,
         null,
         null,
         null,
         null,
         null
        ],
        [
         "29",
         "Fachsemester",
         "8 (%)",
         "1.0",
         null,
         null,
         null,
         null,
         "1.0",
         null,
         null,
         null,
         null,
         null,
         null,
         null,
         null,
         "2013",
         null,
         null,
         null,
         null,
         null,
         null,
         null,
         null,
         null,
         null,
         null,
         null,
         null,
         null,
         null,
         null,
         null,
         null,
         null,
         null
        ],
        [
         "30",
         "Fachsemester",
         "9 (%)",
         null,
         null,
         null,
         "2.0",
         null,
         null,
         null,
         null,
         null,
         null,
         null,
         null,
         null,
         null,
         "2013",
         null,
         null,
         null,
         null,
         null,
         null,
         null,
         null,
         null,
         null,
         null,
         null,
         null,
         null,
         null,
         null,
         null,
         null,
         null,
         null
        ],
        [
         "31",
         "Fachsemester",
         "10 (%)",
         null,
         null,
         null,
         null,
         null,
         null,
         null,
         null,
         null,
         null,
         "11.0",
         null,
         null,
         null,
         "2013",
         null,
         null,
         null,
         null,
         null,
         null,
         null,
         null,
         null,
         null,
         null,
         null,
         null,
         null,
         null,
         null,
         null,
         null,
         null,
         null
        ],
        [
         "32",
         "Fachsemester",
         "11 (%)",
         "1.0",
         null,
         null,
         null,
         null,
         null,
         null,
         null,
         null,
         null,
         null,
         null,
         null,
         null,
         "2013",
         null,
         null,
         null,
         null,
         null,
         null,
         null,
         null,
         null,
         null,
         null,
         null,
         null,
         null,
         null,
         null,
         null,
         null,
         null,
         null
        ],
        [
         "33",
         "Fachsemester",
         "12 (%)",
         null,
         null,
         null,
         null,
         null,
         null,
         null,
         null,
         null,
         null,
         null,
         null,
         null,
         null,
         "2013",
         null,
         null,
         null,
         null,
         null,
         null,
         null,
         null,
         null,
         null,
         null,
         null,
         null,
         null,
         null,
         null,
         null,
         null,
         null,
         null
        ],
        [
         "34",
         "Fachsemester",
         "13 (%)",
         null,
         null,
         null,
         null,
         null,
         null,
         null,
         null,
         null,
         null,
         null,
         null,
         null,
         null,
         "2013",
         null,
         null,
         null,
         null,
         null,
         null,
         null,
         null,
         null,
         null,
         null,
         null,
         null,
         null,
         null,
         null,
         null,
         null,
         null,
         null
        ],
        [
         "35",
         "Fachsemester",
         "14 und mehr (%)",
         null,
         null,
         null,
         null,
         null,
         null,
         null,
         null,
         null,
         null,
         null,
         null,
         null,
         null,
         "2013",
         null,
         null,
         null,
         null,
         null,
         null,
         null,
         null,
         null,
         null,
         null,
         null,
         null,
         null,
         null,
         null,
         null,
         null,
         null,
         null
        ],
        [
         "36",
         "Fachsemester",
         "Gesamt (%)",
         "100.0",
         "100.0",
         null,
         "100.0",
         "100.0",
         "100.0",
         "100.0",
         "100.0",
         "100.0",
         "100.0",
         "100.0",
         "100.0",
         "100.0",
         "100.0",
         "2013",
         null,
         null,
         null,
         null,
         null,
         null,
         null,
         null,
         null,
         null,
         null,
         null,
         null,
         null,
         null,
         null,
         null,
         null,
         null,
         null
        ],
        [
         "37",
         "Fachsemester",
         "Anzahl",
         "88.0",
         "96.0",
         null,
         "144.0",
         "78.0",
         "68.0",
         "31.0",
         "10.0",
         "8.0",
         "12.0",
         "9.0",
         "21.0",
         "49.0",
         "5.0",
         "2013",
         null,
         null,
         null,
         null,
         null,
         null,
         null,
         null,
         null,
         null,
         null,
         null,
         null,
         null,
         null,
         null,
         null,
         null,
         null,
         null
        ],
        [
         "91",
         "Fachsemester",
         "1 (%)",
         "42.0",
         "33.0",
         null,
         "41.0",
         "42.0",
         "26.0",
         "23.0",
         "11.0",
         "20.0",
         "50.0",
         "42.0",
         null,
         "27.0",
         null,
         "2014",
         "38.0",
         null,
         null,
         null,
         null,
         null,
         null,
         null,
         null,
         null,
         null,
         null,
         null,
         null,
         null,
         null,
         null,
         null,
         null,
         null
        ],
        [
         "92",
         "Fachsemester",
         "2 (%)",
         null,
         "1.0",
         null,
         null,
         null,
         "6.0",
         "20.0",
         "11.0",
         "20.0",
         "10.0",
         null,
         null,
         "13.0",
         null,
         "2014",
         null,
         null,
         null,
         null,
         null,
         null,
         null,
         null,
         null,
         null,
         null,
         null,
         null,
         null,
         null,
         null,
         null,
         null,
         null,
         null
        ],
        [
         "93",
         "Fachsemester",
         "3 (%)",
         "23.0",
         "36.0",
         null,
         "27.0",
         "20.0",
         "21.0",
         "11.0",
         "33.0",
         "60.0",
         "20.0",
         "25.0",
         "17.0",
         "23.0",
         null,
         "2014",
         "50.0",
         null,
         null,
         null,
         null,
         null,
         null,
         null,
         null,
         null,
         null,
         null,
         null,
         null,
         null,
         null,
         null,
         null,
         null,
         null
        ],
        [
         "94",
         "Fachsemester",
         "4 (%)",
         null,
         "1.0",
         null,
         "1.0",
         "1.0",
         "14.0",
         "16.0",
         "22.0",
         null,
         "10.0",
         "17.0",
         "42.0",
         "6.0",
         null,
         "2014",
         null,
         null,
         null,
         null,
         null,
         null,
         null,
         null,
         null,
         null,
         null,
         null,
         null,
         null,
         null,
         null,
         null,
         null,
         null,
         null
        ],
        [
         "95",
         "Fachsemester",
         "5 (%)",
         "27.0",
         "25.0",
         null,
         "20.0",
         "25.0",
         "24.0",
         "20.0",
         "22.0",
         null,
         "10.0",
         "17.0",
         "33.0",
         "27.0",
         null,
         "2014",
         "13.0",
         null,
         null,
         null,
         null,
         null,
         null,
         null,
         null,
         null,
         null,
         null,
         null,
         null,
         null,
         null,
         null,
         null,
         null,
         null
        ],
        [
         "96",
         "Fachsemester",
         "6 (%)",
         null,
         null,
         null,
         "1.0",
         "1.0",
         "4.0",
         "5.0",
         null,
         null,
         null,
         null,
         null,
         "2.0",
         null,
         "2014",
         null,
         null,
         null,
         null,
         null,
         null,
         null,
         null,
         null,
         null,
         null,
         null,
         null,
         null,
         null,
         null,
         null,
         null,
         null,
         null
        ],
        [
         "97",
         "Fachsemester",
         "7 (%)",
         "7.0",
         "2.0",
         null,
         "10.0",
         "11.0",
         "1.0",
         "2.0",
         null,
         null,
         null,
         null,
         "8.0",
         null,
         null,
         "2014",
         null,
         null,
         null,
         null,
         null,
         null,
         null,
         null,
         null,
         null,
         null,
         null,
         null,
         null,
         null,
         null,
         null,
         null,
         null,
         null
        ],
        [
         "98",
         "Fachsemester",
         "8 (%)",
         null,
         null,
         null,
         null,
         null,
         null,
         "2.0",
         null,
         null,
         null,
         null,
         null,
         "2.0",
         null,
         "2014",
         null,
         null,
         null,
         null,
         null,
         null,
         null,
         null,
         null,
         null,
         null,
         null,
         null,
         null,
         null,
         null,
         null,
         null,
         null,
         null
        ],
        [
         "99",
         "Fachsemester",
         "9 (%)",
         "1.0",
         "1.0",
         null,
         "1.0",
         null,
         "1.0",
         null,
         null,
         null,
         null,
         null,
         null,
         null,
         null,
         "2014",
         null,
         null,
         null,
         null,
         null,
         null,
         null,
         null,
         null,
         null,
         null,
         null,
         null,
         null,
         null,
         null,
         null,
         null,
         null,
         null
        ],
        [
         "100",
         "Fachsemester",
         "10 (%)",
         null,
         null,
         null,
         null,
         null,
         null,
         null,
         null,
         null,
         null,
         null,
         null,
         null,
         null,
         "2014",
         null,
         null,
         null,
         null,
         null,
         null,
         null,
         null,
         null,
         null,
         null,
         null,
         null,
         null,
         null,
         null,
         null,
         null,
         null,
         null
        ],
        [
         "101",
         "Fachsemester",
         "11 (%)",
         null,
         null,
         null,
         null,
         null,
         "1.0",
         null,
         null,
         null,
         null,
         null,
         null,
         null,
         null,
         "2014",
         null,
         null,
         null,
         null,
         null,
         null,
         null,
         null,
         null,
         null,
         null,
         null,
         null,
         null,
         null,
         null,
         null,
         null,
         null,
         null
        ],
        [
         "102",
         "Fachsemester",
         "12 (%)",
         null,
         null,
         null,
         null,
         null,
         null,
         null,
         null,
         null,
         null,
         null,
         null,
         null,
         null,
         "2014",
         null,
         null,
         null,
         null,
         null,
         null,
         null,
         null,
         null,
         null,
         null,
         null,
         null,
         null,
         null,
         null,
         null,
         null,
         null,
         null
        ],
        [
         "103",
         "Fachsemester",
         "13 (%)",
         null,
         null,
         null,
         null,
         null,
         null,
         null,
         null,
         null,
         null,
         null,
         null,
         null,
         null,
         "2014",
         null,
         null,
         null,
         null,
         null,
         null,
         null,
         null,
         null,
         null,
         null,
         null,
         null,
         null,
         null,
         null,
         null,
         null,
         null,
         null
        ],
        [
         "104",
         "Fachsemester",
         "14 und mehr (%)",
         null,
         null,
         null,
         null,
         null,
         null,
         null,
         null,
         null,
         null,
         null,
         null,
         null,
         null,
         "2014",
         null,
         null,
         null,
         null,
         null,
         null,
         null,
         null,
         null,
         null,
         null,
         null,
         null,
         null,
         null,
         null,
         null,
         null,
         null,
         null
        ],
        [
         "105",
         "Fachsemester",
         "Gesamt (%)",
         "100.0",
         "100.0",
         null,
         "100.0",
         "100.0",
         "100.0",
         "100.0",
         "100.0",
         "100.0",
         "100.0",
         "100.0",
         "100.0",
         "100.0",
         null,
         "2014",
         "100.0",
         null,
         null,
         null,
         null,
         null,
         null,
         null,
         null,
         null,
         null,
         null,
         null,
         null,
         null,
         null,
         null,
         null,
         null,
         null
        ],
        [
         "106",
         "Fachsemester",
         "Anzahl",
         "90.0",
         "88.0",
         null,
         "167.0",
         "106.0",
         "70.0",
         "44.0",
         "9.0",
         "5.0",
         "10.0",
         "12.0",
         "12.0",
         "52.0",
         null,
         "2014",
         "8.0",
         null,
         null,
         null,
         null,
         null,
         null,
         null,
         null,
         null,
         null,
         null,
         null,
         null,
         null,
         null,
         null,
         null,
         null,
         null
        ],
        [
         "160",
         "Fachsemester",
         "1 (%)",
         "44.0",
         "42.0",
         null,
         "33.0",
         "42.0",
         "28.0",
         "11.0",
         null,
         "62.0",
         "43.0",
         "50.0",
         null,
         null,
         null,
         "2015",
         "71.0",
         null,
         null,
         null,
         null,
         null,
         null,
         null,
         null,
         null,
         null,
         null,
         null,
         null,
         null,
         null,
         null,
         null,
         null,
         null
        ],
        [
         "161",
         "Fachsemester",
         "2 (%)",
         null,
         "1.0",
         null,
         null,
         null,
         "10.0",
         "30.0",
         null,
         null,
         null,
         "14.0",
         null,
         null,
         null,
         "2015",
         null,
         null,
         null,
         null,
         null,
         null,
         null,
         null,
         null,
         null,
         null,
         null,
         null,
         null,
         null,
         null,
         null,
         null,
         null,
         null
        ],
        [
         "162",
         "Fachsemester",
         "3 (%)",
         "23.0",
         "23.0",
         null,
         "31.0",
         "27.0",
         "32.0",
         "16.0",
         null,
         "15.0",
         "29.0",
         "29.0",
         null,
         null,
         null,
         "2015",
         null,
         null,
         null,
         null,
         null,
         null,
         null,
         null,
         null,
         null,
         null,
         null,
         null,
         null,
         null,
         null,
         null,
         null,
         null,
         null
        ],
        [
         "163",
         "Fachsemester",
         "4 (%)",
         "3.0",
         "1.0",
         null,
         "1.0",
         null,
         "7.0",
         "22.0",
         null,
         "15.0",
         null,
         null,
         null,
         null,
         null,
         "2015",
         "14.0",
         null,
         null,
         null,
         null,
         null,
         null,
         null,
         null,
         null,
         null,
         null,
         null,
         null,
         null,
         null,
         null,
         null,
         null,
         null
        ],
        [
         "164",
         "Fachsemester",
         "5 (%)",
         "21.0",
         "24.0",
         null,
         "23.0",
         "16.0",
         "14.0",
         "14.0",
         null,
         "8.0",
         "14.0",
         "7.0",
         null,
         null,
         null,
         "2015",
         "14.0",
         null,
         null,
         null,
         null,
         null,
         null,
         null,
         null,
         null,
         null,
         null,
         null,
         null,
         null,
         null,
         null,
         null,
         null,
         null
        ],
        [
         "165",
         "Fachsemester",
         "6 (%)",
         "4.0",
         null,
         null,
         "1.0",
         "1.0",
         "6.0",
         "5.0",
         null,
         null,
         "14.0",
         null,
         null,
         null,
         null,
         "2015",
         null,
         null,
         null,
         null,
         null,
         null,
         null,
         null,
         null,
         null,
         null,
         null,
         null,
         null,
         null,
         null,
         null,
         null,
         null,
         null
        ],
        [
         "166",
         "Fachsemester",
         "7 (%)",
         "5.0",
         "9.0",
         null,
         "9.0",
         "12.0",
         "3.0",
         "0.0",
         null,
         null,
         null,
         null,
         null,
         null,
         null,
         "2015",
         null,
         null,
         null,
         null,
         null,
         null,
         null,
         null,
         null,
         null,
         null,
         null,
         null,
         null,
         null,
         null,
         null,
         null,
         null,
         null
        ],
        [
         "167",
         "Fachsemester",
         "8 (%)",
         null,
         null,
         null,
         "1.0",
         "1.0",
         null,
         "3.0",
         null,
         null,
         null,
         null,
         null,
         null,
         null,
         "2015",
         null,
         null,
         null,
         null,
         null,
         null,
         null,
         null,
         null,
         null,
         null,
         null,
         null,
         null,
         null,
         null,
         null,
         null,
         null,
         null
        ],
        [
         "168",
         "Fachsemester",
         "9 (%)",
         null,
         null,
         null,
         "1.0",
         "1.0",
         null,
         null,
         null,
         null,
         null,
         null,
         null,
         null,
         null,
         "2015",
         null,
         null,
         null,
         null,
         null,
         null,
         null,
         null,
         null,
         null,
         null,
         null,
         null,
         null,
         null,
         null,
         null,
         null,
         null,
         null
        ],
        [
         "169",
         "Fachsemester",
         "10 (%)",
         null,
         null,
         null,
         "1.0",
         null,
         null,
         null,
         null,
         null,
         null,
         null,
         null,
         null,
         null,
         "2015",
         null,
         null,
         null,
         null,
         null,
         null,
         null,
         null,
         null,
         null,
         null,
         null,
         null,
         null,
         null,
         null,
         null,
         null,
         null,
         null
        ],
        [
         "170",
         "Fachsemester",
         "11 (%)",
         null,
         null,
         null,
         null,
         null,
         null,
         null,
         null,
         null,
         null,
         null,
         null,
         null,
         null,
         "2015",
         null,
         null,
         null,
         null,
         null,
         null,
         null,
         null,
         null,
         null,
         null,
         null,
         null,
         null,
         null,
         null,
         null,
         null,
         null,
         null
        ],
        [
         "171",
         "Fachsemester",
         "12 (%)",
         null,
         null,
         null,
         "1.0",
         null,
         null,
         null,
         null,
         null,
         null,
         null,
         null,
         null,
         null,
         "2015",
         null,
         null,
         null,
         null,
         null,
         null,
         null,
         null,
         null,
         null,
         null,
         null,
         null,
         null,
         null,
         null,
         null,
         null,
         null,
         null
        ],
        [
         "172",
         "Fachsemester",
         "13 (%)",
         "1.0",
         null,
         null,
         null,
         null,
         null,
         null,
         null,
         null,
         null,
         null,
         null,
         null,
         null,
         "2015",
         null,
         null,
         null,
         null,
         null,
         null,
         null,
         null,
         null,
         null,
         null,
         null,
         null,
         null,
         null,
         null,
         null,
         null,
         null,
         null
        ],
        [
         "173",
         "Fachsemester",
         "14 und mehr (%)",
         null,
         null,
         null,
         null,
         null,
         null,
         null,
         null,
         null,
         null,
         null,
         null,
         null,
         null,
         "2015",
         null,
         null,
         null,
         null,
         null,
         null,
         null,
         null,
         null,
         null,
         null,
         null,
         null,
         null,
         null,
         null,
         null,
         null,
         null,
         null
        ],
        [
         "174",
         "Fachsemester",
         "Gesamt (%)",
         "100.0",
         "100.0",
         null,
         "100.0",
         "100.0",
         "100.0",
         "100.0",
         null,
         "100.0",
         "100.0",
         "100.0",
         null,
         null,
         null,
         "2015",
         "100.0",
         null,
         null,
         null,
         null,
         null,
         null,
         null,
         null,
         null,
         null,
         null,
         null,
         null,
         null,
         null,
         null,
         null,
         null,
         null
        ],
        [
         "175",
         "Fachsemester",
         "Anzahl",
         "78.0",
         "96.0",
         null,
         "160.0",
         "93.0",
         "69.0",
         "37.0",
         null,
         "13.0",
         "7.0",
         "14.0",
         null,
         null,
         null,
         "2015",
         "7.0",
         null,
         null,
         null,
         null,
         null,
         null,
         null,
         null,
         null,
         null,
         null,
         null,
         null,
         null,
         null,
         null,
         null,
         null,
         null
        ],
        [
         "229",
         "Fachsemester",
         "1 (%)",
         "40.0",
         "31.0",
         null,
         "34.0",
         "32.0",
         "42.0",
         "30.0",
         null,
         "25.0",
         "38.0",
         "60.0",
         null,
         null,
         null,
         "2016",
         "56.0",
         "40.0",
         "22.0",
         "40.0",
         null,
         null,
         null,
         null,
         null,
         null,
         null,
         null,
         null,
         null,
         null,
         null,
         null,
         null,
         null,
         null
        ],
        [
         "230",
         "Fachsemester",
         "2 (%)",
         "1.0",
         null,
         null,
         "1.0",
         null,
         "17.0",
         "4.0",
         null,
         "8.0",
         "15.0",
         "20.0",
         null,
         null,
         null,
         "2016",
         "11.0",
         "20.0",
         "26.0",
         "20.0",
         null,
         null,
         null,
         null,
         null,
         null,
         null,
         null,
         null,
         null,
         null,
         null,
         null,
         null,
         null,
         null
        ]
       ],
       "shape": {
        "columns": 37,
        "rows": 192
       }
      },
      "text/html": [
       "<div>\n",
       "<style scoped>\n",
       "    .dataframe tbody tr th:only-of-type {\n",
       "        vertical-align: middle;\n",
       "    }\n",
       "\n",
       "    .dataframe tbody tr th {\n",
       "        vertical-align: top;\n",
       "    }\n",
       "\n",
       "    .dataframe thead th {\n",
       "        text-align: right;\n",
       "    }\n",
       "</style>\n",
       "<table border=\"1\" class=\"dataframe\">\n",
       "  <thead>\n",
       "    <tr style=\"text-align: right;\">\n",
       "      <th></th>\n",
       "      <th>Variable</th>\n",
       "      <th>Category</th>\n",
       "      <th>Bachelor Agrarwissenschaften</th>\n",
       "      <th>Bachelor Ernährungswissenschaften</th>\n",
       "      <th>Bachelor Nachwachsende Rohstoffe und Bioressourcen</th>\n",
       "      <th>Bachelor Ökotrophologie</th>\n",
       "      <th>Bachelor Umwelt und globaler Wandel</th>\n",
       "      <th>Master Ernährungswissenschaften</th>\n",
       "      <th>Master  Ernährungsökonomie*</th>\n",
       "      <th>Master  Agrarökonomie und Betriebsmanagement</th>\n",
       "      <th>...</th>\n",
       "      <th>Master Nutzpflanzenwissenschaften</th>\n",
       "      <th>Master Oenologie/Weinwirtschaft</th>\n",
       "      <th>Master Transition Management</th>\n",
       "      <th>Master Sustainable Transition*</th>\n",
       "      <th>Master Agrar- und Ressourcenökonomie*</th>\n",
       "      <th>Master Getränketechnologie*</th>\n",
       "      <th>Master Informationstechnologie in den Agrar- und Umweltwissenschaften*</th>\n",
       "      <th>Master Nachhaltige Ernährungswirtschaft</th>\n",
       "      <th>Master Sustainable Transition</th>\n",
       "      <th>Master Nutztierwissenschaften*</th>\n",
       "    </tr>\n",
       "  </thead>\n",
       "  <tbody>\n",
       "    <tr>\n",
       "      <th>22</th>\n",
       "      <td>Fachsemester</td>\n",
       "      <td>1 (%)</td>\n",
       "      <td>36.0</td>\n",
       "      <td>36.0</td>\n",
       "      <td>NaN</td>\n",
       "      <td>31.0</td>\n",
       "      <td>32.0</td>\n",
       "      <td>21.0</td>\n",
       "      <td>19.0</td>\n",
       "      <td>40.0</td>\n",
       "      <td>...</td>\n",
       "      <td>NaN</td>\n",
       "      <td>NaN</td>\n",
       "      <td>NaN</td>\n",
       "      <td>NaN</td>\n",
       "      <td>NaN</td>\n",
       "      <td>NaN</td>\n",
       "      <td>NaN</td>\n",
       "      <td>NaN</td>\n",
       "      <td>NaN</td>\n",
       "      <td>NaN</td>\n",
       "    </tr>\n",
       "    <tr>\n",
       "      <th>23</th>\n",
       "      <td>Fachsemester</td>\n",
       "      <td>2 (%)</td>\n",
       "      <td>2.0</td>\n",
       "      <td>NaN</td>\n",
       "      <td>NaN</td>\n",
       "      <td>NaN</td>\n",
       "      <td>NaN</td>\n",
       "      <td>9.0</td>\n",
       "      <td>19.0</td>\n",
       "      <td>20.0</td>\n",
       "      <td>...</td>\n",
       "      <td>NaN</td>\n",
       "      <td>NaN</td>\n",
       "      <td>NaN</td>\n",
       "      <td>NaN</td>\n",
       "      <td>NaN</td>\n",
       "      <td>NaN</td>\n",
       "      <td>NaN</td>\n",
       "      <td>NaN</td>\n",
       "      <td>NaN</td>\n",
       "      <td>NaN</td>\n",
       "    </tr>\n",
       "    <tr>\n",
       "      <th>24</th>\n",
       "      <td>Fachsemester</td>\n",
       "      <td>3 (%)</td>\n",
       "      <td>33.0</td>\n",
       "      <td>28.0</td>\n",
       "      <td>NaN</td>\n",
       "      <td>30.0</td>\n",
       "      <td>35.0</td>\n",
       "      <td>34.0</td>\n",
       "      <td>26.0</td>\n",
       "      <td>20.0</td>\n",
       "      <td>...</td>\n",
       "      <td>NaN</td>\n",
       "      <td>NaN</td>\n",
       "      <td>NaN</td>\n",
       "      <td>NaN</td>\n",
       "      <td>NaN</td>\n",
       "      <td>NaN</td>\n",
       "      <td>NaN</td>\n",
       "      <td>NaN</td>\n",
       "      <td>NaN</td>\n",
       "      <td>NaN</td>\n",
       "    </tr>\n",
       "    <tr>\n",
       "      <th>25</th>\n",
       "      <td>Fachsemester</td>\n",
       "      <td>4 (%)</td>\n",
       "      <td>NaN</td>\n",
       "      <td>1.0</td>\n",
       "      <td>NaN</td>\n",
       "      <td>1.0</td>\n",
       "      <td>NaN</td>\n",
       "      <td>13.0</td>\n",
       "      <td>10.0</td>\n",
       "      <td>10.0</td>\n",
       "      <td>...</td>\n",
       "      <td>NaN</td>\n",
       "      <td>NaN</td>\n",
       "      <td>NaN</td>\n",
       "      <td>NaN</td>\n",
       "      <td>NaN</td>\n",
       "      <td>NaN</td>\n",
       "      <td>NaN</td>\n",
       "      <td>NaN</td>\n",
       "      <td>NaN</td>\n",
       "      <td>NaN</td>\n",
       "    </tr>\n",
       "    <tr>\n",
       "      <th>26</th>\n",
       "      <td>Fachsemester</td>\n",
       "      <td>5 (%)</td>\n",
       "      <td>20.0</td>\n",
       "      <td>24.0</td>\n",
       "      <td>NaN</td>\n",
       "      <td>25.0</td>\n",
       "      <td>26.0</td>\n",
       "      <td>16.0</td>\n",
       "      <td>16.0</td>\n",
       "      <td>10.0</td>\n",
       "      <td>...</td>\n",
       "      <td>NaN</td>\n",
       "      <td>NaN</td>\n",
       "      <td>NaN</td>\n",
       "      <td>NaN</td>\n",
       "      <td>NaN</td>\n",
       "      <td>NaN</td>\n",
       "      <td>NaN</td>\n",
       "      <td>NaN</td>\n",
       "      <td>NaN</td>\n",
       "      <td>NaN</td>\n",
       "    </tr>\n",
       "    <tr>\n",
       "      <th>...</th>\n",
       "      <td>...</td>\n",
       "      <td>...</td>\n",
       "      <td>...</td>\n",
       "      <td>...</td>\n",
       "      <td>...</td>\n",
       "      <td>...</td>\n",
       "      <td>...</td>\n",
       "      <td>...</td>\n",
       "      <td>...</td>\n",
       "      <td>...</td>\n",
       "      <td>...</td>\n",
       "      <td>...</td>\n",
       "      <td>...</td>\n",
       "      <td>...</td>\n",
       "      <td>...</td>\n",
       "      <td>...</td>\n",
       "      <td>...</td>\n",
       "      <td>...</td>\n",
       "      <td>...</td>\n",
       "      <td>...</td>\n",
       "      <td>...</td>\n",
       "    </tr>\n",
       "    <tr>\n",
       "      <th>792</th>\n",
       "      <td>Fachsemester</td>\n",
       "      <td>12 (%)</td>\n",
       "      <td>NaN</td>\n",
       "      <td>NaN</td>\n",
       "      <td>NaN</td>\n",
       "      <td>NaN</td>\n",
       "      <td>NaN</td>\n",
       "      <td>NaN</td>\n",
       "      <td>NaN</td>\n",
       "      <td>NaN</td>\n",
       "      <td>...</td>\n",
       "      <td>NaN</td>\n",
       "      <td>NaN</td>\n",
       "      <td>NaN</td>\n",
       "      <td>NaN</td>\n",
       "      <td>NaN</td>\n",
       "      <td>NaN</td>\n",
       "      <td>NaN</td>\n",
       "      <td>NaN</td>\n",
       "      <td>NaN</td>\n",
       "      <td>NaN</td>\n",
       "    </tr>\n",
       "    <tr>\n",
       "      <th>793</th>\n",
       "      <td>Fachsemester</td>\n",
       "      <td>13 (%)</td>\n",
       "      <td>3</td>\n",
       "      <td>NaN</td>\n",
       "      <td>NaN</td>\n",
       "      <td>NaN</td>\n",
       "      <td>NaN</td>\n",
       "      <td>NaN</td>\n",
       "      <td>NaN</td>\n",
       "      <td>NaN</td>\n",
       "      <td>...</td>\n",
       "      <td>NaN</td>\n",
       "      <td>NaN</td>\n",
       "      <td>NaN</td>\n",
       "      <td>NaN</td>\n",
       "      <td>NaN</td>\n",
       "      <td>NaN</td>\n",
       "      <td>NaN</td>\n",
       "      <td>NaN</td>\n",
       "      <td>NaN</td>\n",
       "      <td>NaN</td>\n",
       "    </tr>\n",
       "    <tr>\n",
       "      <th>794</th>\n",
       "      <td>Fachsemester</td>\n",
       "      <td>14 und mehr (%)</td>\n",
       "      <td>NaN</td>\n",
       "      <td>NaN</td>\n",
       "      <td>NaN</td>\n",
       "      <td>NaN</td>\n",
       "      <td>NaN</td>\n",
       "      <td>NaN</td>\n",
       "      <td>NaN</td>\n",
       "      <td>NaN</td>\n",
       "      <td>...</td>\n",
       "      <td>NaN</td>\n",
       "      <td>NaN</td>\n",
       "      <td>NaN</td>\n",
       "      <td>NaN</td>\n",
       "      <td>NaN</td>\n",
       "      <td>NaN</td>\n",
       "      <td>NaN</td>\n",
       "      <td>NaN</td>\n",
       "      <td>NaN</td>\n",
       "      <td>NaN</td>\n",
       "    </tr>\n",
       "    <tr>\n",
       "      <th>795</th>\n",
       "      <td>Fachsemester</td>\n",
       "      <td>Gesamt (%)</td>\n",
       "      <td>100</td>\n",
       "      <td>100.0</td>\n",
       "      <td>100.0</td>\n",
       "      <td>100.0</td>\n",
       "      <td>100.0</td>\n",
       "      <td>100.0</td>\n",
       "      <td>NaN</td>\n",
       "      <td>NaN</td>\n",
       "      <td>...</td>\n",
       "      <td>100.0</td>\n",
       "      <td>NaN</td>\n",
       "      <td>100.0</td>\n",
       "      <td>NaN</td>\n",
       "      <td>NaN</td>\n",
       "      <td>NaN</td>\n",
       "      <td>NaN</td>\n",
       "      <td>100.0</td>\n",
       "      <td>100.0</td>\n",
       "      <td>NaN</td>\n",
       "    </tr>\n",
       "    <tr>\n",
       "      <th>796</th>\n",
       "      <td>Fachsemester</td>\n",
       "      <td>Anzahl</td>\n",
       "      <td>34</td>\n",
       "      <td>101.0</td>\n",
       "      <td>18.0</td>\n",
       "      <td>57.0</td>\n",
       "      <td>63.0</td>\n",
       "      <td>32.0</td>\n",
       "      <td>NaN</td>\n",
       "      <td>NaN</td>\n",
       "      <td>...</td>\n",
       "      <td>5.0</td>\n",
       "      <td>NaN</td>\n",
       "      <td>13.0</td>\n",
       "      <td>NaN</td>\n",
       "      <td>NaN</td>\n",
       "      <td>NaN</td>\n",
       "      <td>NaN</td>\n",
       "      <td>12.0</td>\n",
       "      <td>5.0</td>\n",
       "      <td>NaN</td>\n",
       "    </tr>\n",
       "  </tbody>\n",
       "</table>\n",
       "<p>192 rows × 37 columns</p>\n",
       "</div>"
      ],
      "text/plain": [
       "         Variable         Category Bachelor Agrarwissenschaften  \\\n",
       "22   Fachsemester            1 (%)                         36.0   \n",
       "23   Fachsemester            2 (%)                          2.0   \n",
       "24   Fachsemester            3 (%)                         33.0   \n",
       "25   Fachsemester            4 (%)                          NaN   \n",
       "26   Fachsemester            5 (%)                         20.0   \n",
       "..            ...              ...                          ...   \n",
       "792  Fachsemester           12 (%)                          NaN   \n",
       "793  Fachsemester           13 (%)                            3   \n",
       "794  Fachsemester  14 und mehr (%)                          NaN   \n",
       "795  Fachsemester       Gesamt (%)                          100   \n",
       "796  Fachsemester           Anzahl                           34   \n",
       "\n",
       "     Bachelor Ernährungswissenschaften  \\\n",
       "22                                36.0   \n",
       "23                                 NaN   \n",
       "24                                28.0   \n",
       "25                                 1.0   \n",
       "26                                24.0   \n",
       "..                                 ...   \n",
       "792                                NaN   \n",
       "793                                NaN   \n",
       "794                                NaN   \n",
       "795                              100.0   \n",
       "796                              101.0   \n",
       "\n",
       "     Bachelor Nachwachsende Rohstoffe und Bioressourcen  \\\n",
       "22                                                 NaN    \n",
       "23                                                 NaN    \n",
       "24                                                 NaN    \n",
       "25                                                 NaN    \n",
       "26                                                 NaN    \n",
       "..                                                 ...    \n",
       "792                                                NaN    \n",
       "793                                                NaN    \n",
       "794                                                NaN    \n",
       "795                                              100.0    \n",
       "796                                               18.0    \n",
       "\n",
       "    Bachelor Ökotrophologie  Bachelor Umwelt und globaler Wandel  \\\n",
       "22                     31.0                                 32.0   \n",
       "23                      NaN                                  NaN   \n",
       "24                     30.0                                 35.0   \n",
       "25                      1.0                                  NaN   \n",
       "26                     25.0                                 26.0   \n",
       "..                      ...                                  ...   \n",
       "792                     NaN                                  NaN   \n",
       "793                     NaN                                  NaN   \n",
       "794                     NaN                                  NaN   \n",
       "795                   100.0                                100.0   \n",
       "796                    57.0                                 63.0   \n",
       "\n",
       "     Master Ernährungswissenschaften   Master  Ernährungsökonomie*  \\\n",
       "22                               21.0                         19.0   \n",
       "23                                9.0                         19.0   \n",
       "24                               34.0                         26.0   \n",
       "25                               13.0                         10.0   \n",
       "26                               16.0                         16.0   \n",
       "..                                ...                          ...   \n",
       "792                               NaN                          NaN   \n",
       "793                               NaN                          NaN   \n",
       "794                               NaN                          NaN   \n",
       "795                             100.0                          NaN   \n",
       "796                              32.0                          NaN   \n",
       "\n",
       "     Master  Agrarökonomie und Betriebsmanagement  ...  \\\n",
       "22                                           40.0  ...   \n",
       "23                                           20.0  ...   \n",
       "24                                           20.0  ...   \n",
       "25                                           10.0  ...   \n",
       "26                                           10.0  ...   \n",
       "..                                            ...  ...   \n",
       "792                                           NaN  ...   \n",
       "793                                           NaN  ...   \n",
       "794                                           NaN  ...   \n",
       "795                                           NaN  ...   \n",
       "796                                           NaN  ...   \n",
       "\n",
       "     Master Nutzpflanzenwissenschaften  Master Oenologie/Weinwirtschaft  \\\n",
       "22                                 NaN                              NaN   \n",
       "23                                 NaN                              NaN   \n",
       "24                                 NaN                              NaN   \n",
       "25                                 NaN                              NaN   \n",
       "26                                 NaN                              NaN   \n",
       "..                                 ...                              ...   \n",
       "792                                NaN                              NaN   \n",
       "793                                NaN                              NaN   \n",
       "794                                NaN                              NaN   \n",
       "795                              100.0                              NaN   \n",
       "796                                5.0                              NaN   \n",
       "\n",
       "     Master Transition Management  Master Sustainable Transition*  \\\n",
       "22                            NaN                             NaN   \n",
       "23                            NaN                             NaN   \n",
       "24                            NaN                             NaN   \n",
       "25                            NaN                             NaN   \n",
       "26                            NaN                             NaN   \n",
       "..                            ...                             ...   \n",
       "792                           NaN                             NaN   \n",
       "793                           NaN                             NaN   \n",
       "794                           NaN                             NaN   \n",
       "795                         100.0                             NaN   \n",
       "796                          13.0                             NaN   \n",
       "\n",
       "     Master Agrar- und Ressourcenökonomie*  Master Getränketechnologie*  \\\n",
       "22                                     NaN                          NaN   \n",
       "23                                     NaN                          NaN   \n",
       "24                                     NaN                          NaN   \n",
       "25                                     NaN                          NaN   \n",
       "26                                     NaN                          NaN   \n",
       "..                                     ...                          ...   \n",
       "792                                    NaN                          NaN   \n",
       "793                                    NaN                          NaN   \n",
       "794                                    NaN                          NaN   \n",
       "795                                    NaN                          NaN   \n",
       "796                                    NaN                          NaN   \n",
       "\n",
       "    Master Informationstechnologie in den Agrar- und Umweltwissenschaften*  \\\n",
       "22                                                 NaN                       \n",
       "23                                                 NaN                       \n",
       "24                                                 NaN                       \n",
       "25                                                 NaN                       \n",
       "26                                                 NaN                       \n",
       "..                                                 ...                       \n",
       "792                                                NaN                       \n",
       "793                                                NaN                       \n",
       "794                                                NaN                       \n",
       "795                                                NaN                       \n",
       "796                                                NaN                       \n",
       "\n",
       "     Master Nachhaltige Ernährungswirtschaft  Master Sustainable Transition  \\\n",
       "22                                       NaN                            NaN   \n",
       "23                                       NaN                            NaN   \n",
       "24                                       NaN                            NaN   \n",
       "25                                       NaN                            NaN   \n",
       "26                                       NaN                            NaN   \n",
       "..                                       ...                            ...   \n",
       "792                                      NaN                            NaN   \n",
       "793                                      NaN                            NaN   \n",
       "794                                      NaN                            NaN   \n",
       "795                                    100.0                          100.0   \n",
       "796                                     12.0                            5.0   \n",
       "\n",
       "     Master Nutztierwissenschaften*  \n",
       "22                              NaN  \n",
       "23                              NaN  \n",
       "24                              NaN  \n",
       "25                              NaN  \n",
       "26                              NaN  \n",
       "..                              ...  \n",
       "792                             NaN  \n",
       "793                             NaN  \n",
       "794                             NaN  \n",
       "795                             NaN  \n",
       "796                             NaN  \n",
       "\n",
       "[192 rows x 37 columns]"
      ]
     },
     "execution_count": 134,
     "metadata": {},
     "output_type": "execute_result"
    }
   ],
   "source": [
    "final_df[final_df['Variable'] == 'Fachsemester'] "
   ]
  },
  {
   "cell_type": "code",
   "execution_count": 135,
   "metadata": {},
   "outputs": [],
   "source": [
    "df = final_df[final_df.columns[~final_df.columns.str.contains(r'\\*')]] # drop * in the data\n",
    "df.columns = df.columns.str.replace('*', '', regex=False)# just to be sure\n",
    "df = df.rename(columns={'Master Getränketechnologi':'Master Getränketechnologie'})# fix a typo\n",
    "clean_columns = {}\n",
    "for col in df.columns:\n",
    "    clean_name = col.strip()  # get rid of other human typos\n",
    "    if clean_name in clean_columns:\n",
    "        clean_columns[clean_name].append(col)\n",
    "    else:\n",
    "        clean_columns[clean_name] = [col]\n",
    "\n",
    "# smack together the similar col names \n",
    "merged_df = df[['Jahr']].copy()\n",
    "for clean_name, original_cols in clean_columns.items():\n",
    "    if len(original_cols) > 1:\n",
    "        merged_df[clean_name] = df[original_cols].sum(axis=1)\n",
    "    else:\n",
    "        merged_df[clean_name] = df[original_cols[0]]\n",
    "df = merged_df.fillna(value=0) # use if needed for plotting"
   ]
  },
  {
   "cell_type": "code",
   "execution_count": 136,
   "metadata": {},
   "outputs": [],
   "source": [
    "df = df[df['Variable'].isin(['Fachsemester'])]\n",
    "df = df[df['Variable'] == 'Fachsemester'].drop(columns='Variable')\n",
    "df = df.groupby(['Jahr', 'Category']).sum().reset_index()\n",
    "df = df[df['Category'] != 'Gesamt (%)']"
   ]
  },
  {
   "cell_type": "code",
   "execution_count": 137,
   "metadata": {},
   "outputs": [
    {
     "name": "stderr",
     "output_type": "stream",
     "text": [
      "/var/folders/gf/ldtpmxs55h916v2hnlzdv8zw0000gn/T/ipykernel_18435/2881836687.py:2: FutureWarning: Downcasting behavior in `replace` is deprecated and will be removed in a future version. To retain the old behavior, explicitly call `result.infer_objects(copy=False)`. To opt-in to the future behavior, set `pd.set_option('future.no_silent_downcasting', True)`\n",
      "  df['Bachelor Agrarwissenschaften'] = df['Bachelor Agrarwissenschaften'].replace(' ',0)\n"
     ]
    }
   ],
   "source": [
    "df['Bachelor Ökotrophologie'] = df['Bachelor Ökotrophologie'].astype(float)\n",
    "df['Bachelor Agrarwissenschaften'] = df['Bachelor Agrarwissenschaften'].replace(' ',0)\n",
    "df['Bachelor Agrarwissenschaften'] = df['Bachelor Agrarwissenschaften'].astype(float)"
   ]
  },
  {
   "cell_type": "code",
   "execution_count": 138,
   "metadata": {},
   "outputs": [
    {
     "data": {
      "application/vnd.microsoft.datawrangler.viewer.v0+json": {
       "columns": [
        {
         "name": "index",
         "rawType": "int64",
         "type": "integer"
        },
        {
         "name": "Jahr",
         "rawType": "object",
         "type": "string"
        },
        {
         "name": "Category",
         "rawType": "object",
         "type": "string"
        },
        {
         "name": "Bachelor Agrarwissenschaften",
         "rawType": "float64",
         "type": "float"
        },
        {
         "name": "Bachelor Ernährungswissenschaften",
         "rawType": "float64",
         "type": "float"
        },
        {
         "name": "Bachelor Nachwachsende Rohstoffe und Bioressourcen",
         "rawType": "float64",
         "type": "float"
        },
        {
         "name": "Bachelor Ökotrophologie",
         "rawType": "float64",
         "type": "float"
        },
        {
         "name": "Bachelor Umwelt und globaler Wandel",
         "rawType": "float64",
         "type": "float"
        },
        {
         "name": "Master Ernährungswissenschaften",
         "rawType": "float64",
         "type": "float"
        },
        {
         "name": "Master  Agrarökonomie und Betriebsmanagement",
         "rawType": "float64",
         "type": "float"
        },
        {
         "name": "Master Nutztierwissenschaften",
         "rawType": "float64",
         "type": "float"
        },
        {
         "name": "Master Pflanzenproduktion",
         "rawType": "float64",
         "type": "float"
        },
        {
         "name": "Master Haushalts- und Dienstleistungswissenschaften",
         "rawType": "float64",
         "type": "float"
        },
        {
         "name": "Master Umwelt- und Ressourcenmanagement",
         "rawType": "float64",
         "type": "float"
        },
        {
         "name": "Master Getränketechnologie",
         "rawType": "float64",
         "type": "float"
        },
        {
         "name": "Master Agrar- und Ressourcenökonomie",
         "rawType": "float64",
         "type": "float"
        },
        {
         "name": "Master Umweltwissenschaften",
         "rawType": "float64",
         "type": "float"
        },
        {
         "name": "Master Transition Management",
         "rawType": "float64",
         "type": "float"
        },
        {
         "name": "Master Ökotrophologie",
         "rawType": "float64",
         "type": "float"
        },
        {
         "name": "Master Agrobiotechnologie",
         "rawType": "float64",
         "type": "float"
        },
        {
         "name": "Master Insect Biotechnology and Bioresources",
         "rawType": "float64",
         "type": "float"
        },
        {
         "name": "Bachelor Umweltmanagement",
         "rawType": "float64",
         "type": "float"
        },
        {
         "name": "Master Ernährungsökonomie",
         "rawType": "float64",
         "type": "float"
        },
        {
         "name": "Master Nutzpflanzenwissenschaften",
         "rawType": "float64",
         "type": "float"
        },
        {
         "name": "Master Oenologie/Weinwirtschaft",
         "rawType": "float64",
         "type": "float"
        },
        {
         "name": "Master Nachhaltige Ernährungswirtschaft",
         "rawType": "float64",
         "type": "float"
        },
        {
         "name": "Master Sustainable Transition",
         "rawType": "float64",
         "type": "float"
        }
       ],
       "conversionMethod": "pd.DataFrame",
       "ref": "94e74a44-3d3b-4319-adc5-708851b7b5ae",
       "rows": [
        [
         "0",
         "2013",
         "1 (%)",
         "36.0",
         "36.0",
         "0.0",
         "31.0",
         "32.0",
         "21.0",
         "40.0",
         "25.0",
         "42.0",
         "19.0",
         "33.0",
         "200.0",
         "0.0",
         "0.0",
         "0.0",
         "0.0",
         "0.0",
         "0.0",
         "0.0",
         "0.0",
         "0.0",
         "0.0",
         "0.0",
         "0.0"
        ],
        [
         "1",
         "2013",
         "10 (%)",
         "0.0",
         "0.0",
         "0.0",
         "0.0",
         "0.0",
         "0.0",
         "0.0",
         "0.0",
         "0.0",
         "0.0",
         "0.0",
         "0.0",
         "0.0",
         "0.0",
         "0.0",
         "0.0",
         "0.0",
         "0.0",
         "0.0",
         "0.0",
         "0.0",
         "0.0",
         "0.0",
         "0.0"
        ],
        [
         "2",
         "2013",
         "11 (%)",
         "1.0",
         "0.0",
         "0.0",
         "0.0",
         "0.0",
         "0.0",
         "0.0",
         "0.0",
         "0.0",
         "0.0",
         "0.0",
         "0.0",
         "0.0",
         "0.0",
         "0.0",
         "0.0",
         "0.0",
         "0.0",
         "0.0",
         "0.0",
         "0.0",
         "0.0",
         "0.0",
         "0.0"
        ],
        [
         "3",
         "2013",
         "12 (%)",
         "0.0",
         "0.0",
         "0.0",
         "0.0",
         "0.0",
         "0.0",
         "0.0",
         "0.0",
         "0.0",
         "0.0",
         "0.0",
         "0.0",
         "0.0",
         "0.0",
         "0.0",
         "0.0",
         "0.0",
         "0.0",
         "0.0",
         "0.0",
         "0.0",
         "0.0",
         "0.0",
         "0.0"
        ],
        [
         "4",
         "2013",
         "13 (%)",
         "0.0",
         "0.0",
         "0.0",
         "0.0",
         "0.0",
         "0.0",
         "0.0",
         "0.0",
         "0.0",
         "0.0",
         "0.0",
         "0.0",
         "0.0",
         "0.0",
         "0.0",
         "0.0",
         "0.0",
         "0.0",
         "0.0",
         "0.0",
         "0.0",
         "0.0",
         "0.0",
         "0.0"
        ],
        [
         "5",
         "2013",
         "14 und mehr (%)",
         "0.0",
         "0.0",
         "0.0",
         "0.0",
         "0.0",
         "0.0",
         "0.0",
         "0.0",
         "0.0",
         "0.0",
         "0.0",
         "0.0",
         "0.0",
         "0.0",
         "0.0",
         "0.0",
         "0.0",
         "0.0",
         "0.0",
         "0.0",
         "0.0",
         "0.0",
         "0.0",
         "0.0"
        ],
        [
         "6",
         "2013",
         "2 (%)",
         "2.0",
         "0.0",
         "0.0",
         "0.0",
         "0.0",
         "9.0",
         "20.0",
         "25.0",
         "0.0",
         "14.0",
         "10.0",
         "0.0",
         "0.0",
         "0.0",
         "0.0",
         "0.0",
         "0.0",
         "0.0",
         "0.0",
         "0.0",
         "0.0",
         "0.0",
         "0.0",
         "0.0"
        ],
        [
         "7",
         "2013",
         "3 (%)",
         "33.0",
         "28.0",
         "0.0",
         "30.0",
         "35.0",
         "34.0",
         "20.0",
         "38.0",
         "33.0",
         "29.0",
         "37.0",
         "0.0",
         "0.0",
         "0.0",
         "0.0",
         "0.0",
         "0.0",
         "0.0",
         "0.0",
         "0.0",
         "0.0",
         "0.0",
         "0.0",
         "0.0"
        ],
        [
         "8",
         "2013",
         "4 (%)",
         "0.0",
         "1.0",
         "0.0",
         "1.0",
         "0.0",
         "13.0",
         "10.0",
         "13.0",
         "8.0",
         "24.0",
         "4.0",
         "0.0",
         "0.0",
         "0.0",
         "0.0",
         "0.0",
         "0.0",
         "0.0",
         "0.0",
         "0.0",
         "0.0",
         "0.0",
         "0.0",
         "0.0"
        ],
        [
         "9",
         "2013",
         "5 (%)",
         "20.0",
         "24.0",
         "0.0",
         "25.0",
         "26.0",
         "16.0",
         "10.0",
         "0.0",
         "17.0",
         "5.0",
         "14.0",
         "0.0",
         "0.0",
         "0.0",
         "0.0",
         "0.0",
         "0.0",
         "0.0",
         "0.0",
         "0.0",
         "0.0",
         "0.0",
         "0.0",
         "0.0"
        ],
        [
         "10",
         "2013",
         "6 (%)",
         "2.0",
         "2.0",
         "0.0",
         "1.0",
         "3.0",
         "6.0",
         "0.0",
         "0.0",
         "0.0",
         "5.0",
         "0.0",
         "0.0",
         "0.0",
         "0.0",
         "0.0",
         "0.0",
         "0.0",
         "0.0",
         "0.0",
         "0.0",
         "0.0",
         "0.0",
         "0.0",
         "0.0"
        ],
        [
         "11",
         "2013",
         "7 (%)",
         "3.0",
         "8.0",
         "0.0",
         "11.0",
         "5.0",
         "0.0",
         "0.0",
         "0.0",
         "0.0",
         "5.0",
         "0.0",
         "0.0",
         "0.0",
         "0.0",
         "0.0",
         "0.0",
         "0.0",
         "0.0",
         "0.0",
         "0.0",
         "0.0",
         "0.0",
         "0.0",
         "0.0"
        ],
        [
         "12",
         "2013",
         "8 (%)",
         "1.0",
         "0.0",
         "0.0",
         "0.0",
         "0.0",
         "1.0",
         "0.0",
         "0.0",
         "0.0",
         "0.0",
         "0.0",
         "0.0",
         "0.0",
         "0.0",
         "0.0",
         "0.0",
         "0.0",
         "0.0",
         "0.0",
         "0.0",
         "0.0",
         "0.0",
         "0.0",
         "0.0"
        ],
        [
         "13",
         "2013",
         "9 (%)",
         "0.0",
         "0.0",
         "0.0",
         "2.0",
         "0.0",
         "0.0",
         "0.0",
         "0.0",
         "0.0",
         "0.0",
         "0.0",
         "0.0",
         "0.0",
         "0.0",
         "0.0",
         "0.0",
         "0.0",
         "0.0",
         "0.0",
         "0.0",
         "0.0",
         "0.0",
         "0.0",
         "0.0"
        ],
        [
         "14",
         "2013",
         "Anzahl",
         "88.0",
         "96.0",
         "0.0",
         "144.0",
         "78.0",
         "68.0",
         "10.0",
         "8.0",
         "12.0",
         "21.0",
         "49.0",
         "10.0",
         "0.0",
         "0.0",
         "0.0",
         "0.0",
         "0.0",
         "0.0",
         "0.0",
         "0.0",
         "0.0",
         "0.0",
         "0.0",
         "0.0"
        ],
        [
         "16",
         "2014",
         "1 (%)",
         "42.0",
         "33.0",
         "0.0",
         "41.0",
         "42.0",
         "26.0",
         "11.0",
         "20.0",
         "50.0",
         "0.0",
         "27.0",
         "76.0",
         "0.0",
         "0.0",
         "0.0",
         "0.0",
         "0.0",
         "0.0",
         "0.0",
         "0.0",
         "0.0",
         "0.0",
         "0.0",
         "0.0"
        ],
        [
         "17",
         "2014",
         "10 (%)",
         "0.0",
         "0.0",
         "0.0",
         "0.0",
         "0.0",
         "0.0",
         "0.0",
         "0.0",
         "0.0",
         "0.0",
         "0.0",
         "0.0",
         "0.0",
         "0.0",
         "0.0",
         "0.0",
         "0.0",
         "0.0",
         "0.0",
         "0.0",
         "0.0",
         "0.0",
         "0.0",
         "0.0"
        ],
        [
         "18",
         "2014",
         "11 (%)",
         "0.0",
         "0.0",
         "0.0",
         "0.0",
         "0.0",
         "1.0",
         "0.0",
         "0.0",
         "0.0",
         "0.0",
         "0.0",
         "0.0",
         "0.0",
         "0.0",
         "0.0",
         "0.0",
         "0.0",
         "0.0",
         "0.0",
         "0.0",
         "0.0",
         "0.0",
         "0.0",
         "0.0"
        ],
        [
         "19",
         "2014",
         "12 (%)",
         "0.0",
         "0.0",
         "0.0",
         "0.0",
         "0.0",
         "0.0",
         "0.0",
         "0.0",
         "0.0",
         "0.0",
         "0.0",
         "0.0",
         "0.0",
         "0.0",
         "0.0",
         "0.0",
         "0.0",
         "0.0",
         "0.0",
         "0.0",
         "0.0",
         "0.0",
         "0.0",
         "0.0"
        ],
        [
         "20",
         "2014",
         "13 (%)",
         "0.0",
         "0.0",
         "0.0",
         "0.0",
         "0.0",
         "0.0",
         "0.0",
         "0.0",
         "0.0",
         "0.0",
         "0.0",
         "0.0",
         "0.0",
         "0.0",
         "0.0",
         "0.0",
         "0.0",
         "0.0",
         "0.0",
         "0.0",
         "0.0",
         "0.0",
         "0.0",
         "0.0"
        ],
        [
         "21",
         "2014",
         "14 und mehr (%)",
         "0.0",
         "0.0",
         "0.0",
         "0.0",
         "0.0",
         "0.0",
         "0.0",
         "0.0",
         "0.0",
         "0.0",
         "0.0",
         "0.0",
         "0.0",
         "0.0",
         "0.0",
         "0.0",
         "0.0",
         "0.0",
         "0.0",
         "0.0",
         "0.0",
         "0.0",
         "0.0",
         "0.0"
        ],
        [
         "22",
         "2014",
         "2 (%)",
         "0.0",
         "1.0",
         "0.0",
         "0.0",
         "0.0",
         "6.0",
         "11.0",
         "20.0",
         "10.0",
         "0.0",
         "13.0",
         "0.0",
         "0.0",
         "0.0",
         "0.0",
         "0.0",
         "0.0",
         "0.0",
         "0.0",
         "0.0",
         "0.0",
         "0.0",
         "0.0",
         "0.0"
        ],
        [
         "23",
         "2014",
         "3 (%)",
         "23.0",
         "36.0",
         "0.0",
         "27.0",
         "20.0",
         "21.0",
         "33.0",
         "60.0",
         "20.0",
         "17.0",
         "23.0",
         "100.0",
         "0.0",
         "0.0",
         "0.0",
         "0.0",
         "0.0",
         "0.0",
         "0.0",
         "0.0",
         "0.0",
         "0.0",
         "0.0",
         "0.0"
        ],
        [
         "24",
         "2014",
         "4 (%)",
         "0.0",
         "1.0",
         "0.0",
         "1.0",
         "1.0",
         "14.0",
         "22.0",
         "0.0",
         "10.0",
         "42.0",
         "6.0",
         "0.0",
         "0.0",
         "0.0",
         "0.0",
         "0.0",
         "0.0",
         "0.0",
         "0.0",
         "0.0",
         "0.0",
         "0.0",
         "0.0",
         "0.0"
        ],
        [
         "25",
         "2014",
         "5 (%)",
         "27.0",
         "25.0",
         "0.0",
         "20.0",
         "25.0",
         "24.0",
         "22.0",
         "0.0",
         "10.0",
         "33.0",
         "27.0",
         "26.0",
         "0.0",
         "0.0",
         "0.0",
         "0.0",
         "0.0",
         "0.0",
         "0.0",
         "0.0",
         "0.0",
         "0.0",
         "0.0",
         "0.0"
        ],
        [
         "26",
         "2014",
         "6 (%)",
         "0.0",
         "0.0",
         "0.0",
         "1.0",
         "1.0",
         "4.0",
         "0.0",
         "0.0",
         "0.0",
         "0.0",
         "2.0",
         "0.0",
         "0.0",
         "0.0",
         "0.0",
         "0.0",
         "0.0",
         "0.0",
         "0.0",
         "0.0",
         "0.0",
         "0.0",
         "0.0",
         "0.0"
        ],
        [
         "27",
         "2014",
         "7 (%)",
         "7.0",
         "2.0",
         "0.0",
         "10.0",
         "11.0",
         "1.0",
         "0.0",
         "0.0",
         "0.0",
         "8.0",
         "0.0",
         "0.0",
         "0.0",
         "0.0",
         "0.0",
         "0.0",
         "0.0",
         "0.0",
         "0.0",
         "0.0",
         "0.0",
         "0.0",
         "0.0",
         "0.0"
        ],
        [
         "28",
         "2014",
         "8 (%)",
         "0.0",
         "0.0",
         "0.0",
         "0.0",
         "0.0",
         "0.0",
         "0.0",
         "0.0",
         "0.0",
         "0.0",
         "2.0",
         "0.0",
         "0.0",
         "0.0",
         "0.0",
         "0.0",
         "0.0",
         "0.0",
         "0.0",
         "0.0",
         "0.0",
         "0.0",
         "0.0",
         "0.0"
        ],
        [
         "29",
         "2014",
         "9 (%)",
         "1.0",
         "1.0",
         "0.0",
         "1.0",
         "0.0",
         "1.0",
         "0.0",
         "0.0",
         "0.0",
         "0.0",
         "0.0",
         "0.0",
         "0.0",
         "0.0",
         "0.0",
         "0.0",
         "0.0",
         "0.0",
         "0.0",
         "0.0",
         "0.0",
         "0.0",
         "0.0",
         "0.0"
        ],
        [
         "30",
         "2014",
         "Anzahl",
         "90.0",
         "88.0",
         "0.0",
         "167.0",
         "106.0",
         "70.0",
         "9.0",
         "5.0",
         "10.0",
         "12.0",
         "52.0",
         "16.0",
         "0.0",
         "0.0",
         "0.0",
         "0.0",
         "0.0",
         "0.0",
         "0.0",
         "0.0",
         "0.0",
         "0.0",
         "0.0",
         "0.0"
        ],
        [
         "32",
         "2015",
         "1 (%)",
         "44.0",
         "42.0",
         "0.0",
         "33.0",
         "42.0",
         "28.0",
         "0.0",
         "62.0",
         "43.0",
         "0.0",
         "0.0",
         "142.0",
         "0.0",
         "0.0",
         "0.0",
         "0.0",
         "0.0",
         "0.0",
         "0.0",
         "0.0",
         "0.0",
         "0.0",
         "0.0",
         "0.0"
        ],
        [
         "33",
         "2015",
         "10 (%)",
         "0.0",
         "0.0",
         "0.0",
         "1.0",
         "0.0",
         "0.0",
         "0.0",
         "0.0",
         "0.0",
         "0.0",
         "0.0",
         "0.0",
         "0.0",
         "0.0",
         "0.0",
         "0.0",
         "0.0",
         "0.0",
         "0.0",
         "0.0",
         "0.0",
         "0.0",
         "0.0",
         "0.0"
        ],
        [
         "34",
         "2015",
         "11 (%)",
         "0.0",
         "0.0",
         "0.0",
         "0.0",
         "0.0",
         "0.0",
         "0.0",
         "0.0",
         "0.0",
         "0.0",
         "0.0",
         "0.0",
         "0.0",
         "0.0",
         "0.0",
         "0.0",
         "0.0",
         "0.0",
         "0.0",
         "0.0",
         "0.0",
         "0.0",
         "0.0",
         "0.0"
        ],
        [
         "35",
         "2015",
         "12 (%)",
         "0.0",
         "0.0",
         "0.0",
         "1.0",
         "0.0",
         "0.0",
         "0.0",
         "0.0",
         "0.0",
         "0.0",
         "0.0",
         "0.0",
         "0.0",
         "0.0",
         "0.0",
         "0.0",
         "0.0",
         "0.0",
         "0.0",
         "0.0",
         "0.0",
         "0.0",
         "0.0",
         "0.0"
        ],
        [
         "36",
         "2015",
         "13 (%)",
         "1.0",
         "0.0",
         "0.0",
         "0.0",
         "0.0",
         "0.0",
         "0.0",
         "0.0",
         "0.0",
         "0.0",
         "0.0",
         "0.0",
         "0.0",
         "0.0",
         "0.0",
         "0.0",
         "0.0",
         "0.0",
         "0.0",
         "0.0",
         "0.0",
         "0.0",
         "0.0",
         "0.0"
        ],
        [
         "37",
         "2015",
         "14 und mehr (%)",
         "0.0",
         "0.0",
         "0.0",
         "0.0",
         "0.0",
         "0.0",
         "0.0",
         "0.0",
         "0.0",
         "0.0",
         "0.0",
         "0.0",
         "0.0",
         "0.0",
         "0.0",
         "0.0",
         "0.0",
         "0.0",
         "0.0",
         "0.0",
         "0.0",
         "0.0",
         "0.0",
         "0.0"
        ],
        [
         "38",
         "2015",
         "2 (%)",
         "0.0",
         "1.0",
         "0.0",
         "0.0",
         "0.0",
         "10.0",
         "0.0",
         "0.0",
         "0.0",
         "0.0",
         "0.0",
         "0.0",
         "0.0",
         "0.0",
         "0.0",
         "0.0",
         "0.0",
         "0.0",
         "0.0",
         "0.0",
         "0.0",
         "0.0",
         "0.0",
         "0.0"
        ],
        [
         "39",
         "2015",
         "3 (%)",
         "23.0",
         "23.0",
         "0.0",
         "31.0",
         "27.0",
         "32.0",
         "0.0",
         "15.0",
         "29.0",
         "0.0",
         "0.0",
         "0.0",
         "0.0",
         "0.0",
         "0.0",
         "0.0",
         "0.0",
         "0.0",
         "0.0",
         "0.0",
         "0.0",
         "0.0",
         "0.0",
         "0.0"
        ],
        [
         "40",
         "2015",
         "4 (%)",
         "3.0",
         "1.0",
         "0.0",
         "1.0",
         "0.0",
         "7.0",
         "0.0",
         "15.0",
         "0.0",
         "0.0",
         "0.0",
         "28.0",
         "0.0",
         "0.0",
         "0.0",
         "0.0",
         "0.0",
         "0.0",
         "0.0",
         "0.0",
         "0.0",
         "0.0",
         "0.0",
         "0.0"
        ],
        [
         "41",
         "2015",
         "5 (%)",
         "21.0",
         "24.0",
         "0.0",
         "23.0",
         "16.0",
         "14.0",
         "0.0",
         "8.0",
         "14.0",
         "0.0",
         "0.0",
         "28.0",
         "0.0",
         "0.0",
         "0.0",
         "0.0",
         "0.0",
         "0.0",
         "0.0",
         "0.0",
         "0.0",
         "0.0",
         "0.0",
         "0.0"
        ],
        [
         "42",
         "2015",
         "6 (%)",
         "4.0",
         "0.0",
         "0.0",
         "1.0",
         "1.0",
         "6.0",
         "0.0",
         "0.0",
         "14.0",
         "0.0",
         "0.0",
         "0.0",
         "0.0",
         "0.0",
         "0.0",
         "0.0",
         "0.0",
         "0.0",
         "0.0",
         "0.0",
         "0.0",
         "0.0",
         "0.0",
         "0.0"
        ],
        [
         "43",
         "2015",
         "7 (%)",
         "5.0",
         "9.0",
         "0.0",
         "9.0",
         "12.0",
         "3.0",
         "0.0",
         "0.0",
         "0.0",
         "0.0",
         "0.0",
         "0.0",
         "0.0",
         "0.0",
         "0.0",
         "0.0",
         "0.0",
         "0.0",
         "0.0",
         "0.0",
         "0.0",
         "0.0",
         "0.0",
         "0.0"
        ],
        [
         "44",
         "2015",
         "8 (%)",
         "0.0",
         "0.0",
         "0.0",
         "1.0",
         "1.0",
         "0.0",
         "0.0",
         "0.0",
         "0.0",
         "0.0",
         "0.0",
         "0.0",
         "0.0",
         "0.0",
         "0.0",
         "0.0",
         "0.0",
         "0.0",
         "0.0",
         "0.0",
         "0.0",
         "0.0",
         "0.0",
         "0.0"
        ],
        [
         "45",
         "2015",
         "9 (%)",
         "0.0",
         "0.0",
         "0.0",
         "1.0",
         "1.0",
         "0.0",
         "0.0",
         "0.0",
         "0.0",
         "0.0",
         "0.0",
         "0.0",
         "0.0",
         "0.0",
         "0.0",
         "0.0",
         "0.0",
         "0.0",
         "0.0",
         "0.0",
         "0.0",
         "0.0",
         "0.0",
         "0.0"
        ],
        [
         "46",
         "2015",
         "Anzahl",
         "78.0",
         "96.0",
         "0.0",
         "160.0",
         "93.0",
         "69.0",
         "0.0",
         "13.0",
         "7.0",
         "0.0",
         "0.0",
         "14.0",
         "0.0",
         "0.0",
         "0.0",
         "0.0",
         "0.0",
         "0.0",
         "0.0",
         "0.0",
         "0.0",
         "0.0",
         "0.0",
         "0.0"
        ],
        [
         "48",
         "2016",
         "1 (%)",
         "40.0",
         "31.0",
         "0.0",
         "34.0",
         "32.0",
         "42.0",
         "0.0",
         "25.0",
         "38.0",
         "0.0",
         "0.0",
         "112.0",
         "40.0",
         "22.0",
         "40.0",
         "0.0",
         "0.0",
         "0.0",
         "0.0",
         "0.0",
         "0.0",
         "0.0",
         "0.0",
         "0.0"
        ],
        [
         "49",
         "2016",
         "10 (%)",
         "0.0",
         "0.0",
         "0.0",
         "0.0",
         "0.0",
         "2.0",
         "0.0",
         "0.0",
         "0.0",
         "0.0",
         "0.0",
         "0.0",
         "0.0",
         "0.0",
         "0.0",
         "0.0",
         "0.0",
         "0.0",
         "0.0",
         "0.0",
         "0.0",
         "0.0",
         "0.0",
         "0.0"
        ],
        [
         "50",
         "2016",
         "11 (%)",
         "0.0",
         "0.0",
         "0.0",
         "0.0",
         "0.0",
         "0.0",
         "0.0",
         "0.0",
         "8.0",
         "0.0",
         "0.0",
         "0.0",
         "0.0",
         "0.0",
         "0.0",
         "0.0",
         "0.0",
         "0.0",
         "0.0",
         "0.0",
         "0.0",
         "0.0",
         "0.0",
         "0.0"
        ],
        [
         "51",
         "2016",
         "12 (%)",
         "0.0",
         "0.0",
         "0.0",
         "0.0",
         "0.0",
         "0.0",
         "0.0",
         "0.0",
         "0.0",
         "0.0",
         "0.0",
         "0.0",
         "0.0",
         "0.0",
         "0.0",
         "0.0",
         "0.0",
         "0.0",
         "0.0",
         "0.0",
         "0.0",
         "0.0",
         "0.0",
         "0.0"
        ],
        [
         "52",
         "2016",
         "13 (%)",
         "0.0",
         "0.0",
         "0.0",
         "0.0",
         "0.0",
         "0.0",
         "0.0",
         "0.0",
         "0.0",
         "0.0",
         "0.0",
         "0.0",
         "0.0",
         "0.0",
         "0.0",
         "0.0",
         "0.0",
         "0.0",
         "0.0",
         "0.0",
         "0.0",
         "0.0",
         "0.0",
         "0.0"
        ]
       ],
       "shape": {
        "columns": 26,
        "rows": 180
       }
      },
      "text/html": [
       "<div>\n",
       "<style scoped>\n",
       "    .dataframe tbody tr th:only-of-type {\n",
       "        vertical-align: middle;\n",
       "    }\n",
       "\n",
       "    .dataframe tbody tr th {\n",
       "        vertical-align: top;\n",
       "    }\n",
       "\n",
       "    .dataframe thead th {\n",
       "        text-align: right;\n",
       "    }\n",
       "</style>\n",
       "<table border=\"1\" class=\"dataframe\">\n",
       "  <thead>\n",
       "    <tr style=\"text-align: right;\">\n",
       "      <th></th>\n",
       "      <th>Jahr</th>\n",
       "      <th>Category</th>\n",
       "      <th>Bachelor Agrarwissenschaften</th>\n",
       "      <th>Bachelor Ernährungswissenschaften</th>\n",
       "      <th>Bachelor Nachwachsende Rohstoffe und Bioressourcen</th>\n",
       "      <th>Bachelor Ökotrophologie</th>\n",
       "      <th>Bachelor Umwelt und globaler Wandel</th>\n",
       "      <th>Master Ernährungswissenschaften</th>\n",
       "      <th>Master  Agrarökonomie und Betriebsmanagement</th>\n",
       "      <th>Master Nutztierwissenschaften</th>\n",
       "      <th>...</th>\n",
       "      <th>Master Transition Management</th>\n",
       "      <th>Master Ökotrophologie</th>\n",
       "      <th>Master Agrobiotechnologie</th>\n",
       "      <th>Master Insect Biotechnology and Bioresources</th>\n",
       "      <th>Bachelor Umweltmanagement</th>\n",
       "      <th>Master Ernährungsökonomie</th>\n",
       "      <th>Master Nutzpflanzenwissenschaften</th>\n",
       "      <th>Master Oenologie/Weinwirtschaft</th>\n",
       "      <th>Master Nachhaltige Ernährungswirtschaft</th>\n",
       "      <th>Master Sustainable Transition</th>\n",
       "    </tr>\n",
       "  </thead>\n",
       "  <tbody>\n",
       "    <tr>\n",
       "      <th>0</th>\n",
       "      <td>2013</td>\n",
       "      <td>1 (%)</td>\n",
       "      <td>36.0</td>\n",
       "      <td>36.0</td>\n",
       "      <td>0.0</td>\n",
       "      <td>31.0</td>\n",
       "      <td>32.0</td>\n",
       "      <td>21.0</td>\n",
       "      <td>40.0</td>\n",
       "      <td>25.0</td>\n",
       "      <td>...</td>\n",
       "      <td>0.0</td>\n",
       "      <td>0.0</td>\n",
       "      <td>0.0</td>\n",
       "      <td>0.0</td>\n",
       "      <td>0.0</td>\n",
       "      <td>0.0</td>\n",
       "      <td>0.0</td>\n",
       "      <td>0.0</td>\n",
       "      <td>0.0</td>\n",
       "      <td>0.0</td>\n",
       "    </tr>\n",
       "    <tr>\n",
       "      <th>1</th>\n",
       "      <td>2013</td>\n",
       "      <td>10 (%)</td>\n",
       "      <td>0.0</td>\n",
       "      <td>0.0</td>\n",
       "      <td>0.0</td>\n",
       "      <td>0.0</td>\n",
       "      <td>0.0</td>\n",
       "      <td>0.0</td>\n",
       "      <td>0.0</td>\n",
       "      <td>0.0</td>\n",
       "      <td>...</td>\n",
       "      <td>0.0</td>\n",
       "      <td>0.0</td>\n",
       "      <td>0.0</td>\n",
       "      <td>0.0</td>\n",
       "      <td>0.0</td>\n",
       "      <td>0.0</td>\n",
       "      <td>0.0</td>\n",
       "      <td>0.0</td>\n",
       "      <td>0.0</td>\n",
       "      <td>0.0</td>\n",
       "    </tr>\n",
       "    <tr>\n",
       "      <th>2</th>\n",
       "      <td>2013</td>\n",
       "      <td>11 (%)</td>\n",
       "      <td>1.0</td>\n",
       "      <td>0.0</td>\n",
       "      <td>0.0</td>\n",
       "      <td>0.0</td>\n",
       "      <td>0.0</td>\n",
       "      <td>0.0</td>\n",
       "      <td>0.0</td>\n",
       "      <td>0.0</td>\n",
       "      <td>...</td>\n",
       "      <td>0.0</td>\n",
       "      <td>0.0</td>\n",
       "      <td>0.0</td>\n",
       "      <td>0.0</td>\n",
       "      <td>0.0</td>\n",
       "      <td>0.0</td>\n",
       "      <td>0.0</td>\n",
       "      <td>0.0</td>\n",
       "      <td>0.0</td>\n",
       "      <td>0.0</td>\n",
       "    </tr>\n",
       "    <tr>\n",
       "      <th>3</th>\n",
       "      <td>2013</td>\n",
       "      <td>12 (%)</td>\n",
       "      <td>0.0</td>\n",
       "      <td>0.0</td>\n",
       "      <td>0.0</td>\n",
       "      <td>0.0</td>\n",
       "      <td>0.0</td>\n",
       "      <td>0.0</td>\n",
       "      <td>0.0</td>\n",
       "      <td>0.0</td>\n",
       "      <td>...</td>\n",
       "      <td>0.0</td>\n",
       "      <td>0.0</td>\n",
       "      <td>0.0</td>\n",
       "      <td>0.0</td>\n",
       "      <td>0.0</td>\n",
       "      <td>0.0</td>\n",
       "      <td>0.0</td>\n",
       "      <td>0.0</td>\n",
       "      <td>0.0</td>\n",
       "      <td>0.0</td>\n",
       "    </tr>\n",
       "    <tr>\n",
       "      <th>4</th>\n",
       "      <td>2013</td>\n",
       "      <td>13 (%)</td>\n",
       "      <td>0.0</td>\n",
       "      <td>0.0</td>\n",
       "      <td>0.0</td>\n",
       "      <td>0.0</td>\n",
       "      <td>0.0</td>\n",
       "      <td>0.0</td>\n",
       "      <td>0.0</td>\n",
       "      <td>0.0</td>\n",
       "      <td>...</td>\n",
       "      <td>0.0</td>\n",
       "      <td>0.0</td>\n",
       "      <td>0.0</td>\n",
       "      <td>0.0</td>\n",
       "      <td>0.0</td>\n",
       "      <td>0.0</td>\n",
       "      <td>0.0</td>\n",
       "      <td>0.0</td>\n",
       "      <td>0.0</td>\n",
       "      <td>0.0</td>\n",
       "    </tr>\n",
       "    <tr>\n",
       "      <th>...</th>\n",
       "      <td>...</td>\n",
       "      <td>...</td>\n",
       "      <td>...</td>\n",
       "      <td>...</td>\n",
       "      <td>...</td>\n",
       "      <td>...</td>\n",
       "      <td>...</td>\n",
       "      <td>...</td>\n",
       "      <td>...</td>\n",
       "      <td>...</td>\n",
       "      <td>...</td>\n",
       "      <td>...</td>\n",
       "      <td>...</td>\n",
       "      <td>...</td>\n",
       "      <td>...</td>\n",
       "      <td>...</td>\n",
       "      <td>...</td>\n",
       "      <td>...</td>\n",
       "      <td>...</td>\n",
       "      <td>...</td>\n",
       "      <td>...</td>\n",
       "    </tr>\n",
       "    <tr>\n",
       "      <th>186</th>\n",
       "      <td>2024</td>\n",
       "      <td>6 (%)</td>\n",
       "      <td>15.0</td>\n",
       "      <td>7.0</td>\n",
       "      <td>6.0</td>\n",
       "      <td>2.0</td>\n",
       "      <td>6.0</td>\n",
       "      <td>3.0</td>\n",
       "      <td>0.0</td>\n",
       "      <td>0.0</td>\n",
       "      <td>...</td>\n",
       "      <td>0.0</td>\n",
       "      <td>17.0</td>\n",
       "      <td>7.0</td>\n",
       "      <td>10.0</td>\n",
       "      <td>0.0</td>\n",
       "      <td>0.0</td>\n",
       "      <td>0.0</td>\n",
       "      <td>0.0</td>\n",
       "      <td>17.0</td>\n",
       "      <td>0.0</td>\n",
       "    </tr>\n",
       "    <tr>\n",
       "      <th>187</th>\n",
       "      <td>2024</td>\n",
       "      <td>7 (%)</td>\n",
       "      <td>12.0</td>\n",
       "      <td>9.0</td>\n",
       "      <td>17.0</td>\n",
       "      <td>11.0</td>\n",
       "      <td>29.0</td>\n",
       "      <td>0.0</td>\n",
       "      <td>0.0</td>\n",
       "      <td>0.0</td>\n",
       "      <td>...</td>\n",
       "      <td>0.0</td>\n",
       "      <td>4.0</td>\n",
       "      <td>0.0</td>\n",
       "      <td>0.0</td>\n",
       "      <td>0.0</td>\n",
       "      <td>0.0</td>\n",
       "      <td>0.0</td>\n",
       "      <td>0.0</td>\n",
       "      <td>8.0</td>\n",
       "      <td>0.0</td>\n",
       "    </tr>\n",
       "    <tr>\n",
       "      <th>188</th>\n",
       "      <td>2024</td>\n",
       "      <td>8 (%)</td>\n",
       "      <td>3.0</td>\n",
       "      <td>1.0</td>\n",
       "      <td>6.0</td>\n",
       "      <td>4.0</td>\n",
       "      <td>6.0</td>\n",
       "      <td>0.0</td>\n",
       "      <td>0.0</td>\n",
       "      <td>0.0</td>\n",
       "      <td>...</td>\n",
       "      <td>0.0</td>\n",
       "      <td>0.0</td>\n",
       "      <td>7.0</td>\n",
       "      <td>10.0</td>\n",
       "      <td>0.0</td>\n",
       "      <td>0.0</td>\n",
       "      <td>0.0</td>\n",
       "      <td>0.0</td>\n",
       "      <td>0.0</td>\n",
       "      <td>0.0</td>\n",
       "    </tr>\n",
       "    <tr>\n",
       "      <th>189</th>\n",
       "      <td>2024</td>\n",
       "      <td>9 (%)</td>\n",
       "      <td>6.0</td>\n",
       "      <td>0.0</td>\n",
       "      <td>0.0</td>\n",
       "      <td>4.0</td>\n",
       "      <td>0.0</td>\n",
       "      <td>0.0</td>\n",
       "      <td>0.0</td>\n",
       "      <td>0.0</td>\n",
       "      <td>...</td>\n",
       "      <td>0.0</td>\n",
       "      <td>0.0</td>\n",
       "      <td>0.0</td>\n",
       "      <td>20.0</td>\n",
       "      <td>0.0</td>\n",
       "      <td>0.0</td>\n",
       "      <td>0.0</td>\n",
       "      <td>0.0</td>\n",
       "      <td>0.0</td>\n",
       "      <td>0.0</td>\n",
       "    </tr>\n",
       "    <tr>\n",
       "      <th>190</th>\n",
       "      <td>2024</td>\n",
       "      <td>Anzahl</td>\n",
       "      <td>34.0</td>\n",
       "      <td>101.0</td>\n",
       "      <td>18.0</td>\n",
       "      <td>57.0</td>\n",
       "      <td>63.0</td>\n",
       "      <td>32.0</td>\n",
       "      <td>0.0</td>\n",
       "      <td>0.0</td>\n",
       "      <td>...</td>\n",
       "      <td>13.0</td>\n",
       "      <td>23.0</td>\n",
       "      <td>14.0</td>\n",
       "      <td>10.0</td>\n",
       "      <td>0.0</td>\n",
       "      <td>0.0</td>\n",
       "      <td>5.0</td>\n",
       "      <td>0.0</td>\n",
       "      <td>12.0</td>\n",
       "      <td>5.0</td>\n",
       "    </tr>\n",
       "  </tbody>\n",
       "</table>\n",
       "<p>180 rows × 26 columns</p>\n",
       "</div>"
      ],
      "text/plain": [
       "     Jahr Category  Bachelor Agrarwissenschaften  \\\n",
       "0    2013    1 (%)                          36.0   \n",
       "1    2013   10 (%)                           0.0   \n",
       "2    2013   11 (%)                           1.0   \n",
       "3    2013   12 (%)                           0.0   \n",
       "4    2013   13 (%)                           0.0   \n",
       "..    ...      ...                           ...   \n",
       "186  2024    6 (%)                          15.0   \n",
       "187  2024    7 (%)                          12.0   \n",
       "188  2024    8 (%)                           3.0   \n",
       "189  2024    9 (%)                           6.0   \n",
       "190  2024   Anzahl                          34.0   \n",
       "\n",
       "     Bachelor Ernährungswissenschaften  \\\n",
       "0                                 36.0   \n",
       "1                                  0.0   \n",
       "2                                  0.0   \n",
       "3                                  0.0   \n",
       "4                                  0.0   \n",
       "..                                 ...   \n",
       "186                                7.0   \n",
       "187                                9.0   \n",
       "188                                1.0   \n",
       "189                                0.0   \n",
       "190                              101.0   \n",
       "\n",
       "     Bachelor Nachwachsende Rohstoffe und Bioressourcen  \\\n",
       "0                                                  0.0    \n",
       "1                                                  0.0    \n",
       "2                                                  0.0    \n",
       "3                                                  0.0    \n",
       "4                                                  0.0    \n",
       "..                                                 ...    \n",
       "186                                                6.0    \n",
       "187                                               17.0    \n",
       "188                                                6.0    \n",
       "189                                                0.0    \n",
       "190                                               18.0    \n",
       "\n",
       "     Bachelor Ökotrophologie  Bachelor Umwelt und globaler Wandel  \\\n",
       "0                       31.0                                 32.0   \n",
       "1                        0.0                                  0.0   \n",
       "2                        0.0                                  0.0   \n",
       "3                        0.0                                  0.0   \n",
       "4                        0.0                                  0.0   \n",
       "..                       ...                                  ...   \n",
       "186                      2.0                                  6.0   \n",
       "187                     11.0                                 29.0   \n",
       "188                      4.0                                  6.0   \n",
       "189                      4.0                                  0.0   \n",
       "190                     57.0                                 63.0   \n",
       "\n",
       "     Master Ernährungswissenschaften  \\\n",
       "0                               21.0   \n",
       "1                                0.0   \n",
       "2                                0.0   \n",
       "3                                0.0   \n",
       "4                                0.0   \n",
       "..                               ...   \n",
       "186                              3.0   \n",
       "187                              0.0   \n",
       "188                              0.0   \n",
       "189                              0.0   \n",
       "190                             32.0   \n",
       "\n",
       "     Master  Agrarökonomie und Betriebsmanagement  \\\n",
       "0                                            40.0   \n",
       "1                                             0.0   \n",
       "2                                             0.0   \n",
       "3                                             0.0   \n",
       "4                                             0.0   \n",
       "..                                            ...   \n",
       "186                                           0.0   \n",
       "187                                           0.0   \n",
       "188                                           0.0   \n",
       "189                                           0.0   \n",
       "190                                           0.0   \n",
       "\n",
       "     Master Nutztierwissenschaften  ...  Master Transition Management  \\\n",
       "0                             25.0  ...                           0.0   \n",
       "1                              0.0  ...                           0.0   \n",
       "2                              0.0  ...                           0.0   \n",
       "3                              0.0  ...                           0.0   \n",
       "4                              0.0  ...                           0.0   \n",
       "..                             ...  ...                           ...   \n",
       "186                            0.0  ...                           0.0   \n",
       "187                            0.0  ...                           0.0   \n",
       "188                            0.0  ...                           0.0   \n",
       "189                            0.0  ...                           0.0   \n",
       "190                            0.0  ...                          13.0   \n",
       "\n",
       "     Master Ökotrophologie  Master Agrobiotechnologie  \\\n",
       "0                      0.0                        0.0   \n",
       "1                      0.0                        0.0   \n",
       "2                      0.0                        0.0   \n",
       "3                      0.0                        0.0   \n",
       "4                      0.0                        0.0   \n",
       "..                     ...                        ...   \n",
       "186                   17.0                        7.0   \n",
       "187                    4.0                        0.0   \n",
       "188                    0.0                        7.0   \n",
       "189                    0.0                        0.0   \n",
       "190                   23.0                       14.0   \n",
       "\n",
       "     Master Insect Biotechnology and Bioresources  Bachelor Umweltmanagement  \\\n",
       "0                                             0.0                        0.0   \n",
       "1                                             0.0                        0.0   \n",
       "2                                             0.0                        0.0   \n",
       "3                                             0.0                        0.0   \n",
       "4                                             0.0                        0.0   \n",
       "..                                            ...                        ...   \n",
       "186                                          10.0                        0.0   \n",
       "187                                           0.0                        0.0   \n",
       "188                                          10.0                        0.0   \n",
       "189                                          20.0                        0.0   \n",
       "190                                          10.0                        0.0   \n",
       "\n",
       "     Master Ernährungsökonomie  Master Nutzpflanzenwissenschaften  \\\n",
       "0                          0.0                                0.0   \n",
       "1                          0.0                                0.0   \n",
       "2                          0.0                                0.0   \n",
       "3                          0.0                                0.0   \n",
       "4                          0.0                                0.0   \n",
       "..                         ...                                ...   \n",
       "186                        0.0                                0.0   \n",
       "187                        0.0                                0.0   \n",
       "188                        0.0                                0.0   \n",
       "189                        0.0                                0.0   \n",
       "190                        0.0                                5.0   \n",
       "\n",
       "     Master Oenologie/Weinwirtschaft  Master Nachhaltige Ernährungswirtschaft  \\\n",
       "0                                0.0                                      0.0   \n",
       "1                                0.0                                      0.0   \n",
       "2                                0.0                                      0.0   \n",
       "3                                0.0                                      0.0   \n",
       "4                                0.0                                      0.0   \n",
       "..                               ...                                      ...   \n",
       "186                              0.0                                     17.0   \n",
       "187                              0.0                                      8.0   \n",
       "188                              0.0                                      0.0   \n",
       "189                              0.0                                      0.0   \n",
       "190                              0.0                                     12.0   \n",
       "\n",
       "     Master Sustainable Transition  \n",
       "0                              0.0  \n",
       "1                              0.0  \n",
       "2                              0.0  \n",
       "3                              0.0  \n",
       "4                              0.0  \n",
       "..                             ...  \n",
       "186                            0.0  \n",
       "187                            0.0  \n",
       "188                            0.0  \n",
       "189                            0.0  \n",
       "190                            5.0  \n",
       "\n",
       "[180 rows x 26 columns]"
      ]
     },
     "execution_count": 138,
     "metadata": {},
     "output_type": "execute_result"
    }
   ],
   "source": [
    "df"
   ]
  },
  {
   "cell_type": "code",
   "execution_count": 139,
   "metadata": {},
   "outputs": [],
   "source": [
    "# Spalten für Bachelor und Master extrahieren\n",
    "bachelor_columns = [col for col in df.columns if 'Bachelor' in col]\n",
    "master_columns = [col for col in df.columns if 'Master' in col]\n",
    "\n",
    "# Melde Bachelor und Master in separaten DataFrames an\n",
    "df_bachelor = pd.melt(df, id_vars=['Jahr', 'Category'], value_vars=bachelor_columns,\n",
    "                      var_name='Studiengang', value_name='Bachelorg Wert')\n",
    "df_bachelor['Typ'] = 'Bachelor'\n",
    "\n",
    "df_master = pd.melt(df, id_vars=['Jahr', 'Category'], value_vars=master_columns,\n",
    "                    var_name='Studiengang', value_name='Master Wert')\n",
    "df_master['Typ'] = 'Master'\n",
    "\n",
    "# Kombinieren der DataFrames für Bachelor und Master\n",
    "df_combined = pd.concat([df_bachelor, df_master])\n",
    "\n",
    "# Sortieren nach Jahr und Category\n",
    "df_combined = df_combined.sort_values(by=['Jahr', 'Category', 'Typ'])\n"
   ]
  },
  {
   "cell_type": "code",
   "execution_count": 140,
   "metadata": {},
   "outputs": [
    {
     "data": {
      "application/vnd.microsoft.datawrangler.viewer.v0+json": {
       "columns": [
        {
         "name": "index",
         "rawType": "int64",
         "type": "integer"
        },
        {
         "name": "Jahr",
         "rawType": "object",
         "type": "string"
        },
        {
         "name": "Category",
         "rawType": "object",
         "type": "string"
        },
        {
         "name": "Bachelorg Wert",
         "rawType": "float64",
         "type": "float"
        },
        {
         "name": "Master Wert",
         "rawType": "float64",
         "type": "float"
        }
       ],
       "conversionMethod": "pd.DataFrame",
       "ref": "86764d3d-3f09-4931-8ed8-675a4bc84ae9",
       "rows": [
        [
         "0",
         "2013",
         "1 (%)",
         "135.0",
         "380.0"
        ],
        [
         "1",
         "2013",
         "10 (%)",
         "0.0",
         "0.0"
        ],
        [
         "2",
         "2013",
         "11 (%)",
         "1.0",
         "0.0"
        ],
        [
         "3",
         "2013",
         "12 (%)",
         "0.0",
         "0.0"
        ],
        [
         "4",
         "2013",
         "13 (%)",
         "0.0",
         "0.0"
        ],
        [
         "5",
         "2013",
         "14 und mehr (%)",
         "0.0",
         "0.0"
        ],
        [
         "6",
         "2013",
         "2 (%)",
         "2.0",
         "78.0"
        ],
        [
         "7",
         "2013",
         "3 (%)",
         "126.0",
         "191.0"
        ],
        [
         "8",
         "2013",
         "4 (%)",
         "2.0",
         "72.0"
        ],
        [
         "9",
         "2013",
         "5 (%)",
         "95.0",
         "62.0"
        ],
        [
         "10",
         "2013",
         "6 (%)",
         "8.0",
         "11.0"
        ],
        [
         "11",
         "2013",
         "7 (%)",
         "27.0",
         "5.0"
        ],
        [
         "12",
         "2013",
         "8 (%)",
         "1.0",
         "1.0"
        ],
        [
         "13",
         "2013",
         "9 (%)",
         "2.0",
         "0.0"
        ],
        [
         "15",
         "2014",
         "1 (%)",
         "158.0",
         "210.0"
        ],
        [
         "16",
         "2014",
         "10 (%)",
         "0.0",
         "0.0"
        ],
        [
         "17",
         "2014",
         "11 (%)",
         "0.0",
         "1.0"
        ],
        [
         "18",
         "2014",
         "12 (%)",
         "0.0",
         "0.0"
        ],
        [
         "19",
         "2014",
         "13 (%)",
         "0.0",
         "0.0"
        ],
        [
         "20",
         "2014",
         "14 und mehr (%)",
         "0.0",
         "0.0"
        ],
        [
         "21",
         "2014",
         "2 (%)",
         "1.0",
         "60.0"
        ],
        [
         "22",
         "2014",
         "3 (%)",
         "106.0",
         "274.0"
        ],
        [
         "23",
         "2014",
         "4 (%)",
         "3.0",
         "94.0"
        ],
        [
         "24",
         "2014",
         "5 (%)",
         "97.0",
         "142.0"
        ],
        [
         "25",
         "2014",
         "6 (%)",
         "2.0",
         "6.0"
        ],
        [
         "26",
         "2014",
         "7 (%)",
         "30.0",
         "9.0"
        ],
        [
         "27",
         "2014",
         "8 (%)",
         "0.0",
         "2.0"
        ],
        [
         "28",
         "2014",
         "9 (%)",
         "3.0",
         "1.0"
        ],
        [
         "30",
         "2015",
         "1 (%)",
         "161.0",
         "275.0"
        ],
        [
         "31",
         "2015",
         "10 (%)",
         "1.0",
         "0.0"
        ],
        [
         "32",
         "2015",
         "11 (%)",
         "0.0",
         "0.0"
        ],
        [
         "33",
         "2015",
         "12 (%)",
         "1.0",
         "0.0"
        ],
        [
         "34",
         "2015",
         "13 (%)",
         "1.0",
         "0.0"
        ],
        [
         "35",
         "2015",
         "14 und mehr (%)",
         "0.0",
         "0.0"
        ],
        [
         "36",
         "2015",
         "2 (%)",
         "1.0",
         "10.0"
        ],
        [
         "37",
         "2015",
         "3 (%)",
         "104.0",
         "76.0"
        ],
        [
         "38",
         "2015",
         "4 (%)",
         "5.0",
         "50.0"
        ],
        [
         "39",
         "2015",
         "5 (%)",
         "84.0",
         "64.0"
        ],
        [
         "40",
         "2015",
         "6 (%)",
         "6.0",
         "20.0"
        ],
        [
         "41",
         "2015",
         "7 (%)",
         "35.0",
         "3.0"
        ],
        [
         "42",
         "2015",
         "8 (%)",
         "2.0",
         "0.0"
        ],
        [
         "43",
         "2015",
         "9 (%)",
         "2.0",
         "0.0"
        ],
        [
         "45",
         "2016",
         "1 (%)",
         "137.0",
         "319.0"
        ],
        [
         "46",
         "2016",
         "10 (%)",
         "0.0",
         "2.0"
        ],
        [
         "47",
         "2016",
         "11 (%)",
         "0.0",
         "8.0"
        ],
        [
         "48",
         "2016",
         "12 (%)",
         "0.0",
         "0.0"
        ],
        [
         "49",
         "2016",
         "13 (%)",
         "0.0",
         "0.0"
        ],
        [
         "50",
         "2016",
         "14 und mehr (%)",
         "0.0",
         "0.0"
        ],
        [
         "51",
         "2016",
         "2 (%)",
         "2.0",
         "128.0"
        ],
        [
         "52",
         "2016",
         "3 (%)",
         "106.0",
         "216.0"
        ]
       ],
       "shape": {
        "columns": 4,
        "rows": 168
       }
      },
      "text/html": [
       "<div>\n",
       "<style scoped>\n",
       "    .dataframe tbody tr th:only-of-type {\n",
       "        vertical-align: middle;\n",
       "    }\n",
       "\n",
       "    .dataframe tbody tr th {\n",
       "        vertical-align: top;\n",
       "    }\n",
       "\n",
       "    .dataframe thead th {\n",
       "        text-align: right;\n",
       "    }\n",
       "</style>\n",
       "<table border=\"1\" class=\"dataframe\">\n",
       "  <thead>\n",
       "    <tr style=\"text-align: right;\">\n",
       "      <th></th>\n",
       "      <th>Jahr</th>\n",
       "      <th>Category</th>\n",
       "      <th>Bachelorg Wert</th>\n",
       "      <th>Master Wert</th>\n",
       "    </tr>\n",
       "  </thead>\n",
       "  <tbody>\n",
       "    <tr>\n",
       "      <th>0</th>\n",
       "      <td>2013</td>\n",
       "      <td>1 (%)</td>\n",
       "      <td>135.0</td>\n",
       "      <td>380.0</td>\n",
       "    </tr>\n",
       "    <tr>\n",
       "      <th>1</th>\n",
       "      <td>2013</td>\n",
       "      <td>10 (%)</td>\n",
       "      <td>0.0</td>\n",
       "      <td>0.0</td>\n",
       "    </tr>\n",
       "    <tr>\n",
       "      <th>2</th>\n",
       "      <td>2013</td>\n",
       "      <td>11 (%)</td>\n",
       "      <td>1.0</td>\n",
       "      <td>0.0</td>\n",
       "    </tr>\n",
       "    <tr>\n",
       "      <th>3</th>\n",
       "      <td>2013</td>\n",
       "      <td>12 (%)</td>\n",
       "      <td>0.0</td>\n",
       "      <td>0.0</td>\n",
       "    </tr>\n",
       "    <tr>\n",
       "      <th>4</th>\n",
       "      <td>2013</td>\n",
       "      <td>13 (%)</td>\n",
       "      <td>0.0</td>\n",
       "      <td>0.0</td>\n",
       "    </tr>\n",
       "    <tr>\n",
       "      <th>...</th>\n",
       "      <td>...</td>\n",
       "      <td>...</td>\n",
       "      <td>...</td>\n",
       "      <td>...</td>\n",
       "    </tr>\n",
       "    <tr>\n",
       "      <th>174</th>\n",
       "      <td>2024</td>\n",
       "      <td>5 (%)</td>\n",
       "      <td>118.0</td>\n",
       "      <td>180.0</td>\n",
       "    </tr>\n",
       "    <tr>\n",
       "      <th>175</th>\n",
       "      <td>2024</td>\n",
       "      <td>6 (%)</td>\n",
       "      <td>36.0</td>\n",
       "      <td>59.0</td>\n",
       "    </tr>\n",
       "    <tr>\n",
       "      <th>176</th>\n",
       "      <td>2024</td>\n",
       "      <td>7 (%)</td>\n",
       "      <td>78.0</td>\n",
       "      <td>17.0</td>\n",
       "    </tr>\n",
       "    <tr>\n",
       "      <th>177</th>\n",
       "      <td>2024</td>\n",
       "      <td>8 (%)</td>\n",
       "      <td>20.0</td>\n",
       "      <td>17.0</td>\n",
       "    </tr>\n",
       "    <tr>\n",
       "      <th>178</th>\n",
       "      <td>2024</td>\n",
       "      <td>9 (%)</td>\n",
       "      <td>10.0</td>\n",
       "      <td>20.0</td>\n",
       "    </tr>\n",
       "  </tbody>\n",
       "</table>\n",
       "<p>168 rows × 4 columns</p>\n",
       "</div>"
      ],
      "text/plain": [
       "     Jahr Category  Bachelorg Wert  Master Wert\n",
       "0    2013    1 (%)           135.0        380.0\n",
       "1    2013   10 (%)             0.0          0.0\n",
       "2    2013   11 (%)             1.0          0.0\n",
       "3    2013   12 (%)             0.0          0.0\n",
       "4    2013   13 (%)             0.0          0.0\n",
       "..    ...      ...             ...          ...\n",
       "174  2024    5 (%)           118.0        180.0\n",
       "175  2024    6 (%)            36.0         59.0\n",
       "176  2024    7 (%)            78.0         17.0\n",
       "177  2024    8 (%)            20.0         17.0\n",
       "178  2024    9 (%)            10.0         20.0\n",
       "\n",
       "[168 rows x 4 columns]"
      ]
     },
     "execution_count": 140,
     "metadata": {},
     "output_type": "execute_result"
    }
   ],
   "source": [
    "df_combined = df_combined.groupby(['Jahr', 'Category']).sum().reset_index().drop(columns=['Studiengang', 'Typ'])\n",
    "df = df_combined[df_combined['Category'] != 'Anzahl']\n",
    "df"
   ]
  },
  {
   "cell_type": "code",
   "execution_count": 141,
   "metadata": {},
   "outputs": [
    {
     "name": "stderr",
     "output_type": "stream",
     "text": [
      "/var/folders/gf/ldtpmxs55h916v2hnlzdv8zw0000gn/T/ipykernel_18435/3515750794.py:2: SettingWithCopyWarning: \n",
      "A value is trying to be set on a copy of a slice from a DataFrame.\n",
      "Try using .loc[row_indexer,col_indexer] = value instead\n",
      "\n",
      "See the caveats in the documentation: https://pandas.pydata.org/pandas-docs/stable/user_guide/indexing.html#returning-a-view-versus-a-copy\n",
      "  df['Category_num'] = df['Category'].str.extract('(\\d+)').astype(int)\n"
     ]
    }
   ],
   "source": [
    "\n",
    "\n",
    "# Umwandeln der Kategorie von '1 (%)', '2 (%)', etc. in numerische Werte (Entfernen von \" (%)\")\n",
    "df['Category_num'] = df['Category'].str.extract('(\\d+)').astype(int)\n",
    "\n",
    "# Sortieren nach Jahr und numerischer Kategorie\n",
    "df_sorted = df.sort_values(by=['Jahr', 'Category_num'])\n",
    "\n",
    "# Entfernen der Hilfsspalte 'Category_num'\n",
    "df_sorted = df_sorted.drop(columns=['Category_num'])\n",
    "\n"
   ]
  },
  {
   "cell_type": "code",
   "execution_count": 142,
   "metadata": {},
   "outputs": [
    {
     "data": {
      "application/vnd.microsoft.datawrangler.viewer.v0+json": {
       "columns": [
        {
         "name": "index",
         "rawType": "int64",
         "type": "integer"
        },
        {
         "name": "Jahr",
         "rawType": "object",
         "type": "string"
        },
        {
         "name": "Category",
         "rawType": "object",
         "type": "string"
        },
        {
         "name": "Bachelorg Wert",
         "rawType": "float64",
         "type": "float"
        },
        {
         "name": "Master Wert",
         "rawType": "float64",
         "type": "float"
        }
       ],
       "conversionMethod": "pd.DataFrame",
       "ref": "8945e0e6-a9cb-4627-bde4-372fdd0151ff",
       "rows": [
        [
         "0",
         "2013",
         "1 (%)",
         "135.0",
         "380.0"
        ],
        [
         "6",
         "2013",
         "2 (%)",
         "2.0",
         "78.0"
        ],
        [
         "7",
         "2013",
         "3 (%)",
         "126.0",
         "191.0"
        ],
        [
         "8",
         "2013",
         "4 (%)",
         "2.0",
         "72.0"
        ],
        [
         "9",
         "2013",
         "5 (%)",
         "95.0",
         "62.0"
        ],
        [
         "10",
         "2013",
         "6 (%)",
         "8.0",
         "11.0"
        ],
        [
         "11",
         "2013",
         "7 (%)",
         "27.0",
         "5.0"
        ],
        [
         "12",
         "2013",
         "8 (%)",
         "1.0",
         "1.0"
        ],
        [
         "13",
         "2013",
         "9 (%)",
         "2.0",
         "0.0"
        ],
        [
         "1",
         "2013",
         "10 (%)",
         "0.0",
         "0.0"
        ],
        [
         "2",
         "2013",
         "11 (%)",
         "1.0",
         "0.0"
        ],
        [
         "3",
         "2013",
         "12 (%)",
         "0.0",
         "0.0"
        ],
        [
         "4",
         "2013",
         "13 (%)",
         "0.0",
         "0.0"
        ],
        [
         "5",
         "2013",
         "14 und mehr (%)",
         "0.0",
         "0.0"
        ],
        [
         "15",
         "2014",
         "1 (%)",
         "158.0",
         "210.0"
        ],
        [
         "21",
         "2014",
         "2 (%)",
         "1.0",
         "60.0"
        ],
        [
         "22",
         "2014",
         "3 (%)",
         "106.0",
         "274.0"
        ],
        [
         "23",
         "2014",
         "4 (%)",
         "3.0",
         "94.0"
        ],
        [
         "24",
         "2014",
         "5 (%)",
         "97.0",
         "142.0"
        ],
        [
         "25",
         "2014",
         "6 (%)",
         "2.0",
         "6.0"
        ],
        [
         "26",
         "2014",
         "7 (%)",
         "30.0",
         "9.0"
        ],
        [
         "27",
         "2014",
         "8 (%)",
         "0.0",
         "2.0"
        ],
        [
         "28",
         "2014",
         "9 (%)",
         "3.0",
         "1.0"
        ],
        [
         "16",
         "2014",
         "10 (%)",
         "0.0",
         "0.0"
        ],
        [
         "17",
         "2014",
         "11 (%)",
         "0.0",
         "1.0"
        ],
        [
         "18",
         "2014",
         "12 (%)",
         "0.0",
         "0.0"
        ],
        [
         "19",
         "2014",
         "13 (%)",
         "0.0",
         "0.0"
        ],
        [
         "20",
         "2014",
         "14 und mehr (%)",
         "0.0",
         "0.0"
        ],
        [
         "30",
         "2015",
         "1 (%)",
         "161.0",
         "275.0"
        ],
        [
         "36",
         "2015",
         "2 (%)",
         "1.0",
         "10.0"
        ],
        [
         "37",
         "2015",
         "3 (%)",
         "104.0",
         "76.0"
        ],
        [
         "38",
         "2015",
         "4 (%)",
         "5.0",
         "50.0"
        ],
        [
         "39",
         "2015",
         "5 (%)",
         "84.0",
         "64.0"
        ],
        [
         "40",
         "2015",
         "6 (%)",
         "6.0",
         "20.0"
        ],
        [
         "41",
         "2015",
         "7 (%)",
         "35.0",
         "3.0"
        ],
        [
         "42",
         "2015",
         "8 (%)",
         "2.0",
         "0.0"
        ],
        [
         "43",
         "2015",
         "9 (%)",
         "2.0",
         "0.0"
        ],
        [
         "31",
         "2015",
         "10 (%)",
         "1.0",
         "0.0"
        ],
        [
         "32",
         "2015",
         "11 (%)",
         "0.0",
         "0.0"
        ],
        [
         "33",
         "2015",
         "12 (%)",
         "1.0",
         "0.0"
        ],
        [
         "34",
         "2015",
         "13 (%)",
         "1.0",
         "0.0"
        ],
        [
         "35",
         "2015",
         "14 und mehr (%)",
         "0.0",
         "0.0"
        ],
        [
         "45",
         "2016",
         "1 (%)",
         "137.0",
         "319.0"
        ],
        [
         "51",
         "2016",
         "2 (%)",
         "2.0",
         "128.0"
        ],
        [
         "52",
         "2016",
         "3 (%)",
         "106.0",
         "216.0"
        ],
        [
         "53",
         "2016",
         "4 (%)",
         "2.0",
         "52.0"
        ],
        [
         "54",
         "2016",
         "5 (%)",
         "101.0",
         "46.0"
        ],
        [
         "55",
         "2016",
         "6 (%)",
         "10.0",
         "10.0"
        ],
        [
         "56",
         "2016",
         "7 (%)",
         "35.0",
         "2.0"
        ],
        [
         "57",
         "2016",
         "8 (%)",
         "2.0",
         "12.0"
        ]
       ],
       "shape": {
        "columns": 4,
        "rows": 168
       }
      },
      "text/html": [
       "<div>\n",
       "<style scoped>\n",
       "    .dataframe tbody tr th:only-of-type {\n",
       "        vertical-align: middle;\n",
       "    }\n",
       "\n",
       "    .dataframe tbody tr th {\n",
       "        vertical-align: top;\n",
       "    }\n",
       "\n",
       "    .dataframe thead th {\n",
       "        text-align: right;\n",
       "    }\n",
       "</style>\n",
       "<table border=\"1\" class=\"dataframe\">\n",
       "  <thead>\n",
       "    <tr style=\"text-align: right;\">\n",
       "      <th></th>\n",
       "      <th>Jahr</th>\n",
       "      <th>Category</th>\n",
       "      <th>Bachelorg Wert</th>\n",
       "      <th>Master Wert</th>\n",
       "    </tr>\n",
       "  </thead>\n",
       "  <tbody>\n",
       "    <tr>\n",
       "      <th>0</th>\n",
       "      <td>2013</td>\n",
       "      <td>1 (%)</td>\n",
       "      <td>135.0</td>\n",
       "      <td>380.0</td>\n",
       "    </tr>\n",
       "    <tr>\n",
       "      <th>6</th>\n",
       "      <td>2013</td>\n",
       "      <td>2 (%)</td>\n",
       "      <td>2.0</td>\n",
       "      <td>78.0</td>\n",
       "    </tr>\n",
       "    <tr>\n",
       "      <th>7</th>\n",
       "      <td>2013</td>\n",
       "      <td>3 (%)</td>\n",
       "      <td>126.0</td>\n",
       "      <td>191.0</td>\n",
       "    </tr>\n",
       "    <tr>\n",
       "      <th>8</th>\n",
       "      <td>2013</td>\n",
       "      <td>4 (%)</td>\n",
       "      <td>2.0</td>\n",
       "      <td>72.0</td>\n",
       "    </tr>\n",
       "    <tr>\n",
       "      <th>9</th>\n",
       "      <td>2013</td>\n",
       "      <td>5 (%)</td>\n",
       "      <td>95.0</td>\n",
       "      <td>62.0</td>\n",
       "    </tr>\n",
       "    <tr>\n",
       "      <th>...</th>\n",
       "      <td>...</td>\n",
       "      <td>...</td>\n",
       "      <td>...</td>\n",
       "      <td>...</td>\n",
       "    </tr>\n",
       "    <tr>\n",
       "      <th>166</th>\n",
       "      <td>2024</td>\n",
       "      <td>10 (%)</td>\n",
       "      <td>7.0</td>\n",
       "      <td>0.0</td>\n",
       "    </tr>\n",
       "    <tr>\n",
       "      <th>167</th>\n",
       "      <td>2024</td>\n",
       "      <td>11 (%)</td>\n",
       "      <td>9.0</td>\n",
       "      <td>15.0</td>\n",
       "    </tr>\n",
       "    <tr>\n",
       "      <th>168</th>\n",
       "      <td>2024</td>\n",
       "      <td>12 (%)</td>\n",
       "      <td>0.0</td>\n",
       "      <td>0.0</td>\n",
       "    </tr>\n",
       "    <tr>\n",
       "      <th>169</th>\n",
       "      <td>2024</td>\n",
       "      <td>13 (%)</td>\n",
       "      <td>3.0</td>\n",
       "      <td>0.0</td>\n",
       "    </tr>\n",
       "    <tr>\n",
       "      <th>170</th>\n",
       "      <td>2024</td>\n",
       "      <td>14 und mehr (%)</td>\n",
       "      <td>0.0</td>\n",
       "      <td>0.0</td>\n",
       "    </tr>\n",
       "  </tbody>\n",
       "</table>\n",
       "<p>168 rows × 4 columns</p>\n",
       "</div>"
      ],
      "text/plain": [
       "     Jahr         Category  Bachelorg Wert  Master Wert\n",
       "0    2013            1 (%)           135.0        380.0\n",
       "6    2013            2 (%)             2.0         78.0\n",
       "7    2013            3 (%)           126.0        191.0\n",
       "8    2013            4 (%)             2.0         72.0\n",
       "9    2013            5 (%)            95.0         62.0\n",
       "..    ...              ...             ...          ...\n",
       "166  2024           10 (%)             7.0          0.0\n",
       "167  2024           11 (%)             9.0         15.0\n",
       "168  2024           12 (%)             0.0          0.0\n",
       "169  2024           13 (%)             3.0          0.0\n",
       "170  2024  14 und mehr (%)             0.0          0.0\n",
       "\n",
       "[168 rows x 4 columns]"
      ]
     },
     "execution_count": 142,
     "metadata": {},
     "output_type": "execute_result"
    }
   ],
   "source": [
    "df_sorted"
   ]
  },
  {
   "cell_type": "code",
   "execution_count": null,
   "metadata": {},
   "outputs": [],
   "source": []
  },
  {
   "cell_type": "code",
   "execution_count": 147,
   "metadata": {},
   "outputs": [
    {
     "data": {
      "application/vnd.plotly.v1+json": {
       "config": {
        "plotlyServerURL": "https://plot.ly"
       },
       "data": [
        {
         "hoverinfo": "x+text",
         "marker": {
          "color": "green"
         },
         "name": "Bachelor Wert",
         "orientation": "h",
         "text": [
          135,
          2,
          126,
          2,
          95,
          7,
          9,
          0,
          3,
          0
         ],
         "type": "bar",
         "x": [
          135,
          2,
          126,
          2,
          95,
          7,
          9,
          0,
          3,
          0
         ],
         "y": [
          "1 (%)",
          "2 (%)",
          "3 (%)",
          "4 (%)",
          "5 (%)",
          "10 (%)",
          "11 (%)",
          "12 (%)",
          "13 (%)",
          "14 und mehr (%)"
         ]
        },
        {
         "hoverinfo": "x+text",
         "marker": {
          "color": "orange"
         },
         "name": "Master Wert",
         "orientation": "h",
         "text": [
          380,
          78,
          191,
          72,
          62,
          0,
          15,
          0,
          0,
          0
         ],
         "type": "bar",
         "x": [
          380,
          78,
          191,
          72,
          62,
          0,
          15,
          0,
          0,
          0
         ],
         "y": [
          "1 (%)",
          "2 (%)",
          "3 (%)",
          "4 (%)",
          "5 (%)",
          "10 (%)",
          "11 (%)",
          "12 (%)",
          "13 (%)",
          "14 und mehr (%)"
         ]
        }
       ],
       "layout": {
        "barmode": "stack",
        "showlegend": true,
        "template": {
         "data": {
          "bar": [
           {
            "error_x": {
             "color": "#2a3f5f"
            },
            "error_y": {
             "color": "#2a3f5f"
            },
            "marker": {
             "line": {
              "color": "#E5ECF6",
              "width": 0.5
             },
             "pattern": {
              "fillmode": "overlay",
              "size": 10,
              "solidity": 0.2
             }
            },
            "type": "bar"
           }
          ],
          "barpolar": [
           {
            "marker": {
             "line": {
              "color": "#E5ECF6",
              "width": 0.5
             },
             "pattern": {
              "fillmode": "overlay",
              "size": 10,
              "solidity": 0.2
             }
            },
            "type": "barpolar"
           }
          ],
          "carpet": [
           {
            "aaxis": {
             "endlinecolor": "#2a3f5f",
             "gridcolor": "white",
             "linecolor": "white",
             "minorgridcolor": "white",
             "startlinecolor": "#2a3f5f"
            },
            "baxis": {
             "endlinecolor": "#2a3f5f",
             "gridcolor": "white",
             "linecolor": "white",
             "minorgridcolor": "white",
             "startlinecolor": "#2a3f5f"
            },
            "type": "carpet"
           }
          ],
          "choropleth": [
           {
            "colorbar": {
             "outlinewidth": 0,
             "ticks": ""
            },
            "type": "choropleth"
           }
          ],
          "contour": [
           {
            "colorbar": {
             "outlinewidth": 0,
             "ticks": ""
            },
            "colorscale": [
             [
              0,
              "#0d0887"
             ],
             [
              0.1111111111111111,
              "#46039f"
             ],
             [
              0.2222222222222222,
              "#7201a8"
             ],
             [
              0.3333333333333333,
              "#9c179e"
             ],
             [
              0.4444444444444444,
              "#bd3786"
             ],
             [
              0.5555555555555556,
              "#d8576b"
             ],
             [
              0.6666666666666666,
              "#ed7953"
             ],
             [
              0.7777777777777778,
              "#fb9f3a"
             ],
             [
              0.8888888888888888,
              "#fdca26"
             ],
             [
              1,
              "#f0f921"
             ]
            ],
            "type": "contour"
           }
          ],
          "contourcarpet": [
           {
            "colorbar": {
             "outlinewidth": 0,
             "ticks": ""
            },
            "type": "contourcarpet"
           }
          ],
          "heatmap": [
           {
            "colorbar": {
             "outlinewidth": 0,
             "ticks": ""
            },
            "colorscale": [
             [
              0,
              "#0d0887"
             ],
             [
              0.1111111111111111,
              "#46039f"
             ],
             [
              0.2222222222222222,
              "#7201a8"
             ],
             [
              0.3333333333333333,
              "#9c179e"
             ],
             [
              0.4444444444444444,
              "#bd3786"
             ],
             [
              0.5555555555555556,
              "#d8576b"
             ],
             [
              0.6666666666666666,
              "#ed7953"
             ],
             [
              0.7777777777777778,
              "#fb9f3a"
             ],
             [
              0.8888888888888888,
              "#fdca26"
             ],
             [
              1,
              "#f0f921"
             ]
            ],
            "type": "heatmap"
           }
          ],
          "heatmapgl": [
           {
            "colorbar": {
             "outlinewidth": 0,
             "ticks": ""
            },
            "colorscale": [
             [
              0,
              "#0d0887"
             ],
             [
              0.1111111111111111,
              "#46039f"
             ],
             [
              0.2222222222222222,
              "#7201a8"
             ],
             [
              0.3333333333333333,
              "#9c179e"
             ],
             [
              0.4444444444444444,
              "#bd3786"
             ],
             [
              0.5555555555555556,
              "#d8576b"
             ],
             [
              0.6666666666666666,
              "#ed7953"
             ],
             [
              0.7777777777777778,
              "#fb9f3a"
             ],
             [
              0.8888888888888888,
              "#fdca26"
             ],
             [
              1,
              "#f0f921"
             ]
            ],
            "type": "heatmapgl"
           }
          ],
          "histogram": [
           {
            "marker": {
             "pattern": {
              "fillmode": "overlay",
              "size": 10,
              "solidity": 0.2
             }
            },
            "type": "histogram"
           }
          ],
          "histogram2d": [
           {
            "colorbar": {
             "outlinewidth": 0,
             "ticks": ""
            },
            "colorscale": [
             [
              0,
              "#0d0887"
             ],
             [
              0.1111111111111111,
              "#46039f"
             ],
             [
              0.2222222222222222,
              "#7201a8"
             ],
             [
              0.3333333333333333,
              "#9c179e"
             ],
             [
              0.4444444444444444,
              "#bd3786"
             ],
             [
              0.5555555555555556,
              "#d8576b"
             ],
             [
              0.6666666666666666,
              "#ed7953"
             ],
             [
              0.7777777777777778,
              "#fb9f3a"
             ],
             [
              0.8888888888888888,
              "#fdca26"
             ],
             [
              1,
              "#f0f921"
             ]
            ],
            "type": "histogram2d"
           }
          ],
          "histogram2dcontour": [
           {
            "colorbar": {
             "outlinewidth": 0,
             "ticks": ""
            },
            "colorscale": [
             [
              0,
              "#0d0887"
             ],
             [
              0.1111111111111111,
              "#46039f"
             ],
             [
              0.2222222222222222,
              "#7201a8"
             ],
             [
              0.3333333333333333,
              "#9c179e"
             ],
             [
              0.4444444444444444,
              "#bd3786"
             ],
             [
              0.5555555555555556,
              "#d8576b"
             ],
             [
              0.6666666666666666,
              "#ed7953"
             ],
             [
              0.7777777777777778,
              "#fb9f3a"
             ],
             [
              0.8888888888888888,
              "#fdca26"
             ],
             [
              1,
              "#f0f921"
             ]
            ],
            "type": "histogram2dcontour"
           }
          ],
          "mesh3d": [
           {
            "colorbar": {
             "outlinewidth": 0,
             "ticks": ""
            },
            "type": "mesh3d"
           }
          ],
          "parcoords": [
           {
            "line": {
             "colorbar": {
              "outlinewidth": 0,
              "ticks": ""
             }
            },
            "type": "parcoords"
           }
          ],
          "pie": [
           {
            "automargin": true,
            "type": "pie"
           }
          ],
          "scatter": [
           {
            "fillpattern": {
             "fillmode": "overlay",
             "size": 10,
             "solidity": 0.2
            },
            "type": "scatter"
           }
          ],
          "scatter3d": [
           {
            "line": {
             "colorbar": {
              "outlinewidth": 0,
              "ticks": ""
             }
            },
            "marker": {
             "colorbar": {
              "outlinewidth": 0,
              "ticks": ""
             }
            },
            "type": "scatter3d"
           }
          ],
          "scattercarpet": [
           {
            "marker": {
             "colorbar": {
              "outlinewidth": 0,
              "ticks": ""
             }
            },
            "type": "scattercarpet"
           }
          ],
          "scattergeo": [
           {
            "marker": {
             "colorbar": {
              "outlinewidth": 0,
              "ticks": ""
             }
            },
            "type": "scattergeo"
           }
          ],
          "scattergl": [
           {
            "marker": {
             "colorbar": {
              "outlinewidth": 0,
              "ticks": ""
             }
            },
            "type": "scattergl"
           }
          ],
          "scattermapbox": [
           {
            "marker": {
             "colorbar": {
              "outlinewidth": 0,
              "ticks": ""
             }
            },
            "type": "scattermapbox"
           }
          ],
          "scatterpolar": [
           {
            "marker": {
             "colorbar": {
              "outlinewidth": 0,
              "ticks": ""
             }
            },
            "type": "scatterpolar"
           }
          ],
          "scatterpolargl": [
           {
            "marker": {
             "colorbar": {
              "outlinewidth": 0,
              "ticks": ""
             }
            },
            "type": "scatterpolargl"
           }
          ],
          "scatterternary": [
           {
            "marker": {
             "colorbar": {
              "outlinewidth": 0,
              "ticks": ""
             }
            },
            "type": "scatterternary"
           }
          ],
          "surface": [
           {
            "colorbar": {
             "outlinewidth": 0,
             "ticks": ""
            },
            "colorscale": [
             [
              0,
              "#0d0887"
             ],
             [
              0.1111111111111111,
              "#46039f"
             ],
             [
              0.2222222222222222,
              "#7201a8"
             ],
             [
              0.3333333333333333,
              "#9c179e"
             ],
             [
              0.4444444444444444,
              "#bd3786"
             ],
             [
              0.5555555555555556,
              "#d8576b"
             ],
             [
              0.6666666666666666,
              "#ed7953"
             ],
             [
              0.7777777777777778,
              "#fb9f3a"
             ],
             [
              0.8888888888888888,
              "#fdca26"
             ],
             [
              1,
              "#f0f921"
             ]
            ],
            "type": "surface"
           }
          ],
          "table": [
           {
            "cells": {
             "fill": {
              "color": "#EBF0F8"
             },
             "line": {
              "color": "white"
             }
            },
            "header": {
             "fill": {
              "color": "#C8D4E3"
             },
             "line": {
              "color": "white"
             }
            },
            "type": "table"
           }
          ]
         },
         "layout": {
          "annotationdefaults": {
           "arrowcolor": "#2a3f5f",
           "arrowhead": 0,
           "arrowwidth": 1
          },
          "autotypenumbers": "strict",
          "coloraxis": {
           "colorbar": {
            "outlinewidth": 0,
            "ticks": ""
           }
          },
          "colorscale": {
           "diverging": [
            [
             0,
             "#8e0152"
            ],
            [
             0.1,
             "#c51b7d"
            ],
            [
             0.2,
             "#de77ae"
            ],
            [
             0.3,
             "#f1b6da"
            ],
            [
             0.4,
             "#fde0ef"
            ],
            [
             0.5,
             "#f7f7f7"
            ],
            [
             0.6,
             "#e6f5d0"
            ],
            [
             0.7,
             "#b8e186"
            ],
            [
             0.8,
             "#7fbc41"
            ],
            [
             0.9,
             "#4d9221"
            ],
            [
             1,
             "#276419"
            ]
           ],
           "sequential": [
            [
             0,
             "#0d0887"
            ],
            [
             0.1111111111111111,
             "#46039f"
            ],
            [
             0.2222222222222222,
             "#7201a8"
            ],
            [
             0.3333333333333333,
             "#9c179e"
            ],
            [
             0.4444444444444444,
             "#bd3786"
            ],
            [
             0.5555555555555556,
             "#d8576b"
            ],
            [
             0.6666666666666666,
             "#ed7953"
            ],
            [
             0.7777777777777778,
             "#fb9f3a"
            ],
            [
             0.8888888888888888,
             "#fdca26"
            ],
            [
             1,
             "#f0f921"
            ]
           ],
           "sequentialminus": [
            [
             0,
             "#0d0887"
            ],
            [
             0.1111111111111111,
             "#46039f"
            ],
            [
             0.2222222222222222,
             "#7201a8"
            ],
            [
             0.3333333333333333,
             "#9c179e"
            ],
            [
             0.4444444444444444,
             "#bd3786"
            ],
            [
             0.5555555555555556,
             "#d8576b"
            ],
            [
             0.6666666666666666,
             "#ed7953"
            ],
            [
             0.7777777777777778,
             "#fb9f3a"
            ],
            [
             0.8888888888888888,
             "#fdca26"
            ],
            [
             1,
             "#f0f921"
            ]
           ]
          },
          "colorway": [
           "#636efa",
           "#EF553B",
           "#00cc96",
           "#ab63fa",
           "#FFA15A",
           "#19d3f3",
           "#FF6692",
           "#B6E880",
           "#FF97FF",
           "#FECB52"
          ],
          "font": {
           "color": "#2a3f5f"
          },
          "geo": {
           "bgcolor": "white",
           "lakecolor": "white",
           "landcolor": "#E5ECF6",
           "showlakes": true,
           "showland": true,
           "subunitcolor": "white"
          },
          "hoverlabel": {
           "align": "left"
          },
          "hovermode": "closest",
          "mapbox": {
           "style": "light"
          },
          "paper_bgcolor": "white",
          "plot_bgcolor": "#E5ECF6",
          "polar": {
           "angularaxis": {
            "gridcolor": "white",
            "linecolor": "white",
            "ticks": ""
           },
           "bgcolor": "#E5ECF6",
           "radialaxis": {
            "gridcolor": "white",
            "linecolor": "white",
            "ticks": ""
           }
          },
          "scene": {
           "xaxis": {
            "backgroundcolor": "#E5ECF6",
            "gridcolor": "white",
            "gridwidth": 2,
            "linecolor": "white",
            "showbackground": true,
            "ticks": "",
            "zerolinecolor": "white"
           },
           "yaxis": {
            "backgroundcolor": "#E5ECF6",
            "gridcolor": "white",
            "gridwidth": 2,
            "linecolor": "white",
            "showbackground": true,
            "ticks": "",
            "zerolinecolor": "white"
           },
           "zaxis": {
            "backgroundcolor": "#E5ECF6",
            "gridcolor": "white",
            "gridwidth": 2,
            "linecolor": "white",
            "showbackground": true,
            "ticks": "",
            "zerolinecolor": "white"
           }
          },
          "shapedefaults": {
           "line": {
            "color": "#2a3f5f"
           }
          },
          "ternary": {
           "aaxis": {
            "gridcolor": "white",
            "linecolor": "white",
            "ticks": ""
           },
           "baxis": {
            "gridcolor": "white",
            "linecolor": "white",
            "ticks": ""
           },
           "bgcolor": "#E5ECF6",
           "caxis": {
            "gridcolor": "white",
            "linecolor": "white",
            "ticks": ""
           }
          },
          "title": {
           "x": 0.05
          },
          "xaxis": {
           "automargin": true,
           "gridcolor": "white",
           "linecolor": "white",
           "ticks": "",
           "title": {
            "standoff": 15
           },
           "zerolinecolor": "white",
           "zerolinewidth": 2
          },
          "yaxis": {
           "automargin": true,
           "gridcolor": "white",
           "linecolor": "white",
           "ticks": "",
           "title": {
            "standoff": 15
           },
           "zerolinecolor": "white",
           "zerolinewidth": 2
          }
         }
        },
        "title": {
         "text": "Bachelor und Master Werte pro Kategorie"
        },
        "xaxis": {
         "title": {
          "text": "Summe der Werte"
         }
        },
        "yaxis": {
         "title": {
          "text": "Category"
         }
        }
       }
      }
     },
     "metadata": {},
     "output_type": "display_data"
    }
   ],
   "source": [
    "import plotly.graph_objects as go\n",
    "import pandas as pd\n",
    "\n",
    "# Beispiel-Daten (ersetze dies mit deinem DataFrame)\n",
    "data = {\n",
    "    'Jahr': [2013, 2013, 2013, 2013, 2013, 2024, 2024, 2024, 2024, 2024],\n",
    "    'Category': ['1 (%)', '2 (%)', '3 (%)', '4 (%)', '5 (%)', '10 (%)', '11 (%)', '12 (%)', '13 (%)', '14 und mehr (%)'],\n",
    "    'Bachelorg Wert': [135.0, 2.0, 126.0, 2.0, 95.0, 7.0, 9.0, 0.0, 3.0, 0.0],\n",
    "    'Master Wert': [380.0, 78.0, 191.0, 72.0, 62.0, 0.0, 15.0, 0.0, 0.0, 0.0],\n",
    "}\n",
    "\n",
    "# Erstelle den DataFrame\n",
    "df = pd.DataFrame(data)\n",
    "\n",
    "# Definiere Kategorien und Jahre für die Y-Achse und X-Achse\n",
    "categories = df['Category'].unique()\n",
    "years = df['Jahr'].unique()\n",
    "\n",
    "# Daten für das gestapelte Balkendiagramm\n",
    "bachelor_bin = df['Bachelorg Wert']  # Bachelor-Werte\n",
    "master_bin = df['Master Wert']  # Master-Werte\n",
    "\n",
    "# Erstelle die Daten für den gestapelten Balkenplot\n",
    "trace_bachelor = go.Bar(\n",
    "    y=categories,\n",
    "    x=bachelor_bin,\n",
    "    name='Bachelor Wert',\n",
    "    orientation='h',\n",
    "    marker=dict(color='green'),\n",
    "    text=bachelor_bin,  # Anzeige des Textes (Wert)\n",
    "    hoverinfo='x+text'\n",
    ")\n",
    "\n",
    "trace_master = go.Bar(\n",
    "    y=categories,\n",
    "    x=master_bin,\n",
    "    name='Master Wert',\n",
    "    orientation='h',\n",
    "    marker=dict(color='orange'),\n",
    "    text=master_bin,  # Anzeige des Textes (Wert)\n",
    "    hoverinfo='x+text'\n",
    ")\n",
    "\n",
    "# Layout des Diagramms\n",
    "layout = go.Layout(\n",
    "    title='Bachelor und Master Werte pro Kategorie',\n",
    "    barmode='stack',  # Balken übereinander stapeln\n",
    "    yaxis=dict(title='Category'),\n",
    "    xaxis=dict(title='Summe der Werte'),\n",
    "    showlegend=True\n",
    ")\n",
    "\n",
    "# Erstelle das Diagramm und zeige es an\n",
    "fig = go.Figure(data=[trace_bachelor, trace_master], layout=layout)\n",
    "fig.show()\n"
   ]
  },
  {
   "cell_type": "code",
   "execution_count": 148,
   "metadata": {},
   "outputs": [
    {
     "data": {
      "application/vnd.plotly.v1+json": {
       "config": {
        "plotlyServerURL": "https://plot.ly"
       },
       "data": [
        {
         "hoverinfo": "x+name",
         "marker": {
          "color": "green"
         },
         "name": "Bachelor - 1 (%)",
         "orientation": "h",
         "type": "bar",
         "x": [
          135,
          0
         ],
         "y": [
          2013,
          2024
         ]
        },
        {
         "hoverinfo": "x+name",
         "marker": {
          "color": "green"
         },
         "name": "Master - 1 (%)",
         "orientation": "h",
         "type": "bar",
         "x": [
          380,
          0
         ],
         "y": [
          2013,
          2024
         ]
        },
        {
         "hoverinfo": "x+name",
         "marker": {
          "color": "blue"
         },
         "name": "Bachelor - 2 (%)",
         "orientation": "h",
         "type": "bar",
         "x": [
          2,
          0
         ],
         "y": [
          2013,
          2024
         ]
        },
        {
         "hoverinfo": "x+name",
         "marker": {
          "color": "blue"
         },
         "name": "Master - 2 (%)",
         "orientation": "h",
         "type": "bar",
         "x": [
          78,
          0
         ],
         "y": [
          2013,
          2024
         ]
        },
        {
         "hoverinfo": "x+name",
         "marker": {
          "color": "red"
         },
         "name": "Bachelor - 3 (%)",
         "orientation": "h",
         "type": "bar",
         "x": [
          126,
          0
         ],
         "y": [
          2013,
          2024
         ]
        },
        {
         "hoverinfo": "x+name",
         "marker": {
          "color": "red"
         },
         "name": "Master - 3 (%)",
         "orientation": "h",
         "type": "bar",
         "x": [
          191,
          0
         ],
         "y": [
          2013,
          2024
         ]
        },
        {
         "hoverinfo": "x+name",
         "marker": {
          "color": "purple"
         },
         "name": "Bachelor - 4 (%)",
         "orientation": "h",
         "type": "bar",
         "x": [
          2,
          0
         ],
         "y": [
          2013,
          2024
         ]
        },
        {
         "hoverinfo": "x+name",
         "marker": {
          "color": "purple"
         },
         "name": "Master - 4 (%)",
         "orientation": "h",
         "type": "bar",
         "x": [
          72,
          0
         ],
         "y": [
          2013,
          2024
         ]
        },
        {
         "hoverinfo": "x+name",
         "marker": {
          "color": "orange"
         },
         "name": "Bachelor - 5 (%)",
         "orientation": "h",
         "type": "bar",
         "x": [
          95,
          0
         ],
         "y": [
          2013,
          2024
         ]
        },
        {
         "hoverinfo": "x+name",
         "marker": {
          "color": "orange"
         },
         "name": "Master - 5 (%)",
         "orientation": "h",
         "type": "bar",
         "x": [
          62,
          0
         ],
         "y": [
          2013,
          2024
         ]
        },
        {
         "hoverinfo": "x+name",
         "marker": {
          "color": "pink"
         },
         "name": "Bachelor - 10 (%)",
         "orientation": "h",
         "type": "bar",
         "x": [
          0,
          7
         ],
         "y": [
          2013,
          2024
         ]
        },
        {
         "hoverinfo": "x+name",
         "marker": {
          "color": "pink"
         },
         "name": "Master - 10 (%)",
         "orientation": "h",
         "type": "bar",
         "x": [
          0,
          0
         ],
         "y": [
          2013,
          2024
         ]
        },
        {
         "hoverinfo": "x+name",
         "marker": {
          "color": "brown"
         },
         "name": "Bachelor - 11 (%)",
         "orientation": "h",
         "type": "bar",
         "x": [
          0,
          9
         ],
         "y": [
          2013,
          2024
         ]
        },
        {
         "hoverinfo": "x+name",
         "marker": {
          "color": "brown"
         },
         "name": "Master - 11 (%)",
         "orientation": "h",
         "type": "bar",
         "x": [
          0,
          15
         ],
         "y": [
          2013,
          2024
         ]
        },
        {
         "hoverinfo": "x+name",
         "marker": {
          "color": "cyan"
         },
         "name": "Bachelor - 12 (%)",
         "orientation": "h",
         "type": "bar",
         "x": [
          0,
          0
         ],
         "y": [
          2013,
          2024
         ]
        },
        {
         "hoverinfo": "x+name",
         "marker": {
          "color": "cyan"
         },
         "name": "Master - 12 (%)",
         "orientation": "h",
         "type": "bar",
         "x": [
          0,
          0
         ],
         "y": [
          2013,
          2024
         ]
        },
        {
         "hoverinfo": "x+name",
         "marker": {
          "color": "magenta"
         },
         "name": "Bachelor - 13 (%)",
         "orientation": "h",
         "type": "bar",
         "x": [
          0,
          3
         ],
         "y": [
          2013,
          2024
         ]
        },
        {
         "hoverinfo": "x+name",
         "marker": {
          "color": "magenta"
         },
         "name": "Master - 13 (%)",
         "orientation": "h",
         "type": "bar",
         "x": [
          0,
          0
         ],
         "y": [
          2013,
          2024
         ]
        },
        {
         "hoverinfo": "x+name",
         "marker": {
          "color": "yellow"
         },
         "name": "Bachelor - 14 und mehr (%)",
         "orientation": "h",
         "type": "bar",
         "x": [
          0,
          0
         ],
         "y": [
          2013,
          2024
         ]
        },
        {
         "hoverinfo": "x+name",
         "marker": {
          "color": "yellow"
         },
         "name": "Master - 14 und mehr (%)",
         "orientation": "h",
         "type": "bar",
         "x": [
          0,
          0
         ],
         "y": [
          2013,
          2024
         ]
        }
       ],
       "layout": {
        "barmode": "stack",
        "showlegend": true,
        "template": {
         "data": {
          "bar": [
           {
            "error_x": {
             "color": "#2a3f5f"
            },
            "error_y": {
             "color": "#2a3f5f"
            },
            "marker": {
             "line": {
              "color": "#E5ECF6",
              "width": 0.5
             },
             "pattern": {
              "fillmode": "overlay",
              "size": 10,
              "solidity": 0.2
             }
            },
            "type": "bar"
           }
          ],
          "barpolar": [
           {
            "marker": {
             "line": {
              "color": "#E5ECF6",
              "width": 0.5
             },
             "pattern": {
              "fillmode": "overlay",
              "size": 10,
              "solidity": 0.2
             }
            },
            "type": "barpolar"
           }
          ],
          "carpet": [
           {
            "aaxis": {
             "endlinecolor": "#2a3f5f",
             "gridcolor": "white",
             "linecolor": "white",
             "minorgridcolor": "white",
             "startlinecolor": "#2a3f5f"
            },
            "baxis": {
             "endlinecolor": "#2a3f5f",
             "gridcolor": "white",
             "linecolor": "white",
             "minorgridcolor": "white",
             "startlinecolor": "#2a3f5f"
            },
            "type": "carpet"
           }
          ],
          "choropleth": [
           {
            "colorbar": {
             "outlinewidth": 0,
             "ticks": ""
            },
            "type": "choropleth"
           }
          ],
          "contour": [
           {
            "colorbar": {
             "outlinewidth": 0,
             "ticks": ""
            },
            "colorscale": [
             [
              0,
              "#0d0887"
             ],
             [
              0.1111111111111111,
              "#46039f"
             ],
             [
              0.2222222222222222,
              "#7201a8"
             ],
             [
              0.3333333333333333,
              "#9c179e"
             ],
             [
              0.4444444444444444,
              "#bd3786"
             ],
             [
              0.5555555555555556,
              "#d8576b"
             ],
             [
              0.6666666666666666,
              "#ed7953"
             ],
             [
              0.7777777777777778,
              "#fb9f3a"
             ],
             [
              0.8888888888888888,
              "#fdca26"
             ],
             [
              1,
              "#f0f921"
             ]
            ],
            "type": "contour"
           }
          ],
          "contourcarpet": [
           {
            "colorbar": {
             "outlinewidth": 0,
             "ticks": ""
            },
            "type": "contourcarpet"
           }
          ],
          "heatmap": [
           {
            "colorbar": {
             "outlinewidth": 0,
             "ticks": ""
            },
            "colorscale": [
             [
              0,
              "#0d0887"
             ],
             [
              0.1111111111111111,
              "#46039f"
             ],
             [
              0.2222222222222222,
              "#7201a8"
             ],
             [
              0.3333333333333333,
              "#9c179e"
             ],
             [
              0.4444444444444444,
              "#bd3786"
             ],
             [
              0.5555555555555556,
              "#d8576b"
             ],
             [
              0.6666666666666666,
              "#ed7953"
             ],
             [
              0.7777777777777778,
              "#fb9f3a"
             ],
             [
              0.8888888888888888,
              "#fdca26"
             ],
             [
              1,
              "#f0f921"
             ]
            ],
            "type": "heatmap"
           }
          ],
          "heatmapgl": [
           {
            "colorbar": {
             "outlinewidth": 0,
             "ticks": ""
            },
            "colorscale": [
             [
              0,
              "#0d0887"
             ],
             [
              0.1111111111111111,
              "#46039f"
             ],
             [
              0.2222222222222222,
              "#7201a8"
             ],
             [
              0.3333333333333333,
              "#9c179e"
             ],
             [
              0.4444444444444444,
              "#bd3786"
             ],
             [
              0.5555555555555556,
              "#d8576b"
             ],
             [
              0.6666666666666666,
              "#ed7953"
             ],
             [
              0.7777777777777778,
              "#fb9f3a"
             ],
             [
              0.8888888888888888,
              "#fdca26"
             ],
             [
              1,
              "#f0f921"
             ]
            ],
            "type": "heatmapgl"
           }
          ],
          "histogram": [
           {
            "marker": {
             "pattern": {
              "fillmode": "overlay",
              "size": 10,
              "solidity": 0.2
             }
            },
            "type": "histogram"
           }
          ],
          "histogram2d": [
           {
            "colorbar": {
             "outlinewidth": 0,
             "ticks": ""
            },
            "colorscale": [
             [
              0,
              "#0d0887"
             ],
             [
              0.1111111111111111,
              "#46039f"
             ],
             [
              0.2222222222222222,
              "#7201a8"
             ],
             [
              0.3333333333333333,
              "#9c179e"
             ],
             [
              0.4444444444444444,
              "#bd3786"
             ],
             [
              0.5555555555555556,
              "#d8576b"
             ],
             [
              0.6666666666666666,
              "#ed7953"
             ],
             [
              0.7777777777777778,
              "#fb9f3a"
             ],
             [
              0.8888888888888888,
              "#fdca26"
             ],
             [
              1,
              "#f0f921"
             ]
            ],
            "type": "histogram2d"
           }
          ],
          "histogram2dcontour": [
           {
            "colorbar": {
             "outlinewidth": 0,
             "ticks": ""
            },
            "colorscale": [
             [
              0,
              "#0d0887"
             ],
             [
              0.1111111111111111,
              "#46039f"
             ],
             [
              0.2222222222222222,
              "#7201a8"
             ],
             [
              0.3333333333333333,
              "#9c179e"
             ],
             [
              0.4444444444444444,
              "#bd3786"
             ],
             [
              0.5555555555555556,
              "#d8576b"
             ],
             [
              0.6666666666666666,
              "#ed7953"
             ],
             [
              0.7777777777777778,
              "#fb9f3a"
             ],
             [
              0.8888888888888888,
              "#fdca26"
             ],
             [
              1,
              "#f0f921"
             ]
            ],
            "type": "histogram2dcontour"
           }
          ],
          "mesh3d": [
           {
            "colorbar": {
             "outlinewidth": 0,
             "ticks": ""
            },
            "type": "mesh3d"
           }
          ],
          "parcoords": [
           {
            "line": {
             "colorbar": {
              "outlinewidth": 0,
              "ticks": ""
             }
            },
            "type": "parcoords"
           }
          ],
          "pie": [
           {
            "automargin": true,
            "type": "pie"
           }
          ],
          "scatter": [
           {
            "fillpattern": {
             "fillmode": "overlay",
             "size": 10,
             "solidity": 0.2
            },
            "type": "scatter"
           }
          ],
          "scatter3d": [
           {
            "line": {
             "colorbar": {
              "outlinewidth": 0,
              "ticks": ""
             }
            },
            "marker": {
             "colorbar": {
              "outlinewidth": 0,
              "ticks": ""
             }
            },
            "type": "scatter3d"
           }
          ],
          "scattercarpet": [
           {
            "marker": {
             "colorbar": {
              "outlinewidth": 0,
              "ticks": ""
             }
            },
            "type": "scattercarpet"
           }
          ],
          "scattergeo": [
           {
            "marker": {
             "colorbar": {
              "outlinewidth": 0,
              "ticks": ""
             }
            },
            "type": "scattergeo"
           }
          ],
          "scattergl": [
           {
            "marker": {
             "colorbar": {
              "outlinewidth": 0,
              "ticks": ""
             }
            },
            "type": "scattergl"
           }
          ],
          "scattermapbox": [
           {
            "marker": {
             "colorbar": {
              "outlinewidth": 0,
              "ticks": ""
             }
            },
            "type": "scattermapbox"
           }
          ],
          "scatterpolar": [
           {
            "marker": {
             "colorbar": {
              "outlinewidth": 0,
              "ticks": ""
             }
            },
            "type": "scatterpolar"
           }
          ],
          "scatterpolargl": [
           {
            "marker": {
             "colorbar": {
              "outlinewidth": 0,
              "ticks": ""
             }
            },
            "type": "scatterpolargl"
           }
          ],
          "scatterternary": [
           {
            "marker": {
             "colorbar": {
              "outlinewidth": 0,
              "ticks": ""
             }
            },
            "type": "scatterternary"
           }
          ],
          "surface": [
           {
            "colorbar": {
             "outlinewidth": 0,
             "ticks": ""
            },
            "colorscale": [
             [
              0,
              "#0d0887"
             ],
             [
              0.1111111111111111,
              "#46039f"
             ],
             [
              0.2222222222222222,
              "#7201a8"
             ],
             [
              0.3333333333333333,
              "#9c179e"
             ],
             [
              0.4444444444444444,
              "#bd3786"
             ],
             [
              0.5555555555555556,
              "#d8576b"
             ],
             [
              0.6666666666666666,
              "#ed7953"
             ],
             [
              0.7777777777777778,
              "#fb9f3a"
             ],
             [
              0.8888888888888888,
              "#fdca26"
             ],
             [
              1,
              "#f0f921"
             ]
            ],
            "type": "surface"
           }
          ],
          "table": [
           {
            "cells": {
             "fill": {
              "color": "#EBF0F8"
             },
             "line": {
              "color": "white"
             }
            },
            "header": {
             "fill": {
              "color": "#C8D4E3"
             },
             "line": {
              "color": "white"
             }
            },
            "type": "table"
           }
          ]
         },
         "layout": {
          "annotationdefaults": {
           "arrowcolor": "#2a3f5f",
           "arrowhead": 0,
           "arrowwidth": 1
          },
          "autotypenumbers": "strict",
          "coloraxis": {
           "colorbar": {
            "outlinewidth": 0,
            "ticks": ""
           }
          },
          "colorscale": {
           "diverging": [
            [
             0,
             "#8e0152"
            ],
            [
             0.1,
             "#c51b7d"
            ],
            [
             0.2,
             "#de77ae"
            ],
            [
             0.3,
             "#f1b6da"
            ],
            [
             0.4,
             "#fde0ef"
            ],
            [
             0.5,
             "#f7f7f7"
            ],
            [
             0.6,
             "#e6f5d0"
            ],
            [
             0.7,
             "#b8e186"
            ],
            [
             0.8,
             "#7fbc41"
            ],
            [
             0.9,
             "#4d9221"
            ],
            [
             1,
             "#276419"
            ]
           ],
           "sequential": [
            [
             0,
             "#0d0887"
            ],
            [
             0.1111111111111111,
             "#46039f"
            ],
            [
             0.2222222222222222,
             "#7201a8"
            ],
            [
             0.3333333333333333,
             "#9c179e"
            ],
            [
             0.4444444444444444,
             "#bd3786"
            ],
            [
             0.5555555555555556,
             "#d8576b"
            ],
            [
             0.6666666666666666,
             "#ed7953"
            ],
            [
             0.7777777777777778,
             "#fb9f3a"
            ],
            [
             0.8888888888888888,
             "#fdca26"
            ],
            [
             1,
             "#f0f921"
            ]
           ],
           "sequentialminus": [
            [
             0,
             "#0d0887"
            ],
            [
             0.1111111111111111,
             "#46039f"
            ],
            [
             0.2222222222222222,
             "#7201a8"
            ],
            [
             0.3333333333333333,
             "#9c179e"
            ],
            [
             0.4444444444444444,
             "#bd3786"
            ],
            [
             0.5555555555555556,
             "#d8576b"
            ],
            [
             0.6666666666666666,
             "#ed7953"
            ],
            [
             0.7777777777777778,
             "#fb9f3a"
            ],
            [
             0.8888888888888888,
             "#fdca26"
            ],
            [
             1,
             "#f0f921"
            ]
           ]
          },
          "colorway": [
           "#636efa",
           "#EF553B",
           "#00cc96",
           "#ab63fa",
           "#FFA15A",
           "#19d3f3",
           "#FF6692",
           "#B6E880",
           "#FF97FF",
           "#FECB52"
          ],
          "font": {
           "color": "#2a3f5f"
          },
          "geo": {
           "bgcolor": "white",
           "lakecolor": "white",
           "landcolor": "#E5ECF6",
           "showlakes": true,
           "showland": true,
           "subunitcolor": "white"
          },
          "hoverlabel": {
           "align": "left"
          },
          "hovermode": "closest",
          "mapbox": {
           "style": "light"
          },
          "paper_bgcolor": "white",
          "plot_bgcolor": "#E5ECF6",
          "polar": {
           "angularaxis": {
            "gridcolor": "white",
            "linecolor": "white",
            "ticks": ""
           },
           "bgcolor": "#E5ECF6",
           "radialaxis": {
            "gridcolor": "white",
            "linecolor": "white",
            "ticks": ""
           }
          },
          "scene": {
           "xaxis": {
            "backgroundcolor": "#E5ECF6",
            "gridcolor": "white",
            "gridwidth": 2,
            "linecolor": "white",
            "showbackground": true,
            "ticks": "",
            "zerolinecolor": "white"
           },
           "yaxis": {
            "backgroundcolor": "#E5ECF6",
            "gridcolor": "white",
            "gridwidth": 2,
            "linecolor": "white",
            "showbackground": true,
            "ticks": "",
            "zerolinecolor": "white"
           },
           "zaxis": {
            "backgroundcolor": "#E5ECF6",
            "gridcolor": "white",
            "gridwidth": 2,
            "linecolor": "white",
            "showbackground": true,
            "ticks": "",
            "zerolinecolor": "white"
           }
          },
          "shapedefaults": {
           "line": {
            "color": "#2a3f5f"
           }
          },
          "ternary": {
           "aaxis": {
            "gridcolor": "white",
            "linecolor": "white",
            "ticks": ""
           },
           "baxis": {
            "gridcolor": "white",
            "linecolor": "white",
            "ticks": ""
           },
           "bgcolor": "#E5ECF6",
           "caxis": {
            "gridcolor": "white",
            "linecolor": "white",
            "ticks": ""
           }
          },
          "title": {
           "x": 0.05
          },
          "xaxis": {
           "automargin": true,
           "gridcolor": "white",
           "linecolor": "white",
           "ticks": "",
           "title": {
            "standoff": 15
           },
           "zerolinecolor": "white",
           "zerolinewidth": 2
          },
          "yaxis": {
           "automargin": true,
           "gridcolor": "white",
           "linecolor": "white",
           "ticks": "",
           "title": {
            "standoff": 15
           },
           "zerolinecolor": "white",
           "zerolinewidth": 2
          }
         }
        },
        "title": {
         "text": "Bachelor und Master Werte pro Jahr und Kategorie"
        },
        "xaxis": {
         "title": {
          "text": "Werte"
         }
        },
        "yaxis": {
         "title": {
          "text": "Jahr"
         }
        }
       }
      }
     },
     "metadata": {},
     "output_type": "display_data"
    }
   ],
   "source": [
    "import plotly.graph_objects as go\n",
    "import pandas as pd\n",
    "\n",
    "# Beispiel-Daten (ersetze dies mit deinem DataFrame)\n",
    "data = {\n",
    "    'Jahr': [2013, 2013, 2013, 2013, 2013, 2024, 2024, 2024, 2024, 2024],\n",
    "    'Category': ['1 (%)', '2 (%)', '3 (%)', '4 (%)', '5 (%)', '10 (%)', '11 (%)', '12 (%)', '13 (%)', '14 und mehr (%)'],\n",
    "    'Bachelorg Wert': [135.0, 2.0, 126.0, 2.0, 95.0, 7.0, 9.0, 0.0, 3.0, 0.0],\n",
    "    'Master Wert': [380.0, 78.0, 191.0, 72.0, 62.0, 0.0, 15.0, 0.0, 0.0, 0.0],\n",
    "}\n",
    "\n",
    "# Erstelle den DataFrame\n",
    "df = pd.DataFrame(data)\n",
    "\n",
    "# Alle Kategorien (wir setzen die Reihenfolge manuell auf Category)\n",
    "categories = sorted(df['Category'].unique(), key=lambda x: int(x.split()[0]))\n",
    "\n",
    "# Data Preparation for Stacked Bars\n",
    "bachelor_bin = df.pivot(index='Jahr', columns='Category', values='Bachelorg Wert').fillna(0)\n",
    "master_bin = df.pivot(index='Jahr', columns='Category', values='Master Wert').fillna(0)\n",
    "\n",
    "# Farben für jede Kategorie definieren (optional)\n",
    "category_colors = {\n",
    "    '1 (%)': 'green', '2 (%)': 'blue', '3 (%)': 'red', '4 (%)': 'purple', \n",
    "    '5 (%)': 'orange', '10 (%)': 'pink', '11 (%)': 'brown', '12 (%)': 'cyan', \n",
    "    '13 (%)': 'magenta', '14 und mehr (%)': 'yellow'\n",
    "}\n",
    "\n",
    "# Layout des Diagramms\n",
    "layout = go.Layout(\n",
    "    title='Bachelor und Master Werte pro Jahr und Kategorie',\n",
    "    barmode='stack',  # Balken übereinander stapeln\n",
    "    yaxis=dict(title='Jahr'),\n",
    "    xaxis=dict(title='Werte'),\n",
    "    showlegend=True\n",
    ")\n",
    "\n",
    "# Erstelle die Daten für das gestapelte Balkendiagramm\n",
    "data = []\n",
    "for category in categories:\n",
    "    data.append(\n",
    "        go.Bar(\n",
    "            y=bachelor_bin.index,\n",
    "            x=bachelor_bin[category],\n",
    "            name=f'Bachelor - {category}',\n",
    "            orientation='h',\n",
    "            marker=dict(color=category_colors.get(category, 'gray')),\n",
    "            hoverinfo='x+name'\n",
    "        )\n",
    "    )\n",
    "    data.append(\n",
    "        go.Bar(\n",
    "            y=master_bin.index,\n",
    "            x=master_bin[category],\n",
    "            name=f'Master - {category}',\n",
    "            orientation='h',\n",
    "            marker=dict(color=category_colors.get(category, 'gray')),\n",
    "            hoverinfo='x+name'\n",
    "        )\n",
    "    )\n",
    "\n",
    "# Erstelle das Diagramm und zeige es an\n",
    "fig = go.Figure(data=data, layout=layout)\n",
    "fig.show()\n"
   ]
  },
  {
   "cell_type": "code",
   "execution_count": null,
   "metadata": {},
   "outputs": [
    {
     "ename": "ModuleNotFoundError",
     "evalue": "No module named 'matplotlib'",
     "output_type": "error",
     "traceback": [
      "\u001b[0;31m---------------------------------------------------------------------------\u001b[0m",
      "\u001b[0;31mModuleNotFoundError\u001b[0m                       Traceback (most recent call last)",
      "Cell \u001b[0;32mIn[149], line 2\u001b[0m\n\u001b[1;32m      1\u001b[0m \u001b[38;5;28;01mimport\u001b[39;00m\u001b[38;5;250m \u001b[39m\u001b[38;5;21;01mpandas\u001b[39;00m\u001b[38;5;250m \u001b[39m\u001b[38;5;28;01mas\u001b[39;00m\u001b[38;5;250m \u001b[39m\u001b[38;5;21;01mpd\u001b[39;00m\n\u001b[0;32m----> 2\u001b[0m \u001b[38;5;28;01mimport\u001b[39;00m\u001b[38;5;250m \u001b[39m\u001b[38;5;21;01mmatplotlib\u001b[39;00m\u001b[38;5;21;01m.\u001b[39;00m\u001b[38;5;21;01mpyplot\u001b[39;00m\u001b[38;5;250m \u001b[39m\u001b[38;5;28;01mas\u001b[39;00m\u001b[38;5;250m \u001b[39m\u001b[38;5;21;01mplt\u001b[39;00m\n\u001b[1;32m      3\u001b[0m \u001b[38;5;28;01mimport\u001b[39;00m\u001b[38;5;250m \u001b[39m\u001b[38;5;21;01mnumpy\u001b[39;00m\u001b[38;5;250m \u001b[39m\u001b[38;5;28;01mas\u001b[39;00m\u001b[38;5;250m \u001b[39m\u001b[38;5;21;01mnp\u001b[39;00m\n\u001b[1;32m      5\u001b[0m \u001b[38;5;66;03m# Beispiel-Daten erstellen\u001b[39;00m\n",
      "\u001b[0;31mModuleNotFoundError\u001b[0m: No module named 'matplotlib'"
     ]
    }
   ],
   "source": []
  },
  {
   "cell_type": "code",
   "execution_count": 150,
   "metadata": {},
   "outputs": [
    {
     "ename": "ModuleNotFoundError",
     "evalue": "No module named 'matplotlib'",
     "output_type": "error",
     "traceback": [
      "\u001b[0;31m---------------------------------------------------------------------------\u001b[0m",
      "\u001b[0;31mModuleNotFoundError\u001b[0m                       Traceback (most recent call last)",
      "Cell \u001b[0;32mIn[150], line 2\u001b[0m\n\u001b[1;32m      1\u001b[0m \u001b[38;5;28;01mimport\u001b[39;00m\u001b[38;5;250m \u001b[39m\u001b[38;5;21;01mnumpy\u001b[39;00m\u001b[38;5;250m \u001b[39m\u001b[38;5;28;01mas\u001b[39;00m\u001b[38;5;250m \u001b[39m\u001b[38;5;21;01mnp\u001b[39;00m\n\u001b[0;32m----> 2\u001b[0m \u001b[38;5;28;01mimport\u001b[39;00m\u001b[38;5;250m \u001b[39m\u001b[38;5;21;01mmatplotlib\u001b[39;00m\u001b[38;5;21;01m.\u001b[39;00m\u001b[38;5;21;01mpyplot\u001b[39;00m\u001b[38;5;250m \u001b[39m\u001b[38;5;28;01mas\u001b[39;00m\u001b[38;5;250m \u001b[39m\u001b[38;5;21;01mplt\u001b[39;00m\n\u001b[1;32m      4\u001b[0m \u001b[38;5;66;03m# Beispiel-Daten als numpy Arrays\u001b[39;00m\n\u001b[1;32m      5\u001b[0m jahre \u001b[38;5;241m=\u001b[39m np\u001b[38;5;241m.\u001b[39marray([\u001b[38;5;241m2021\u001b[39m, \u001b[38;5;241m2022\u001b[39m, \u001b[38;5;241m2023\u001b[39m])\n",
      "\u001b[0;31mModuleNotFoundError\u001b[0m: No module named 'matplotlib'"
     ]
    }
   ],
   "source": [
    "import numpy as np\n",
    "import matplotlib.pyplot as plt\n",
    "\n",
    "# Beispiel-Daten als numpy Arrays\n",
    "jahre = np.array([2021, 2022, 2023])\n",
    "bachelor = np.array([150, 180, 200])\n",
    "master = np.array([100, 120, 130])\n",
    "\n",
    "# Gesamtzahl der Teilnehmer pro Jahr berechnen\n",
    "gesamt = bachelor + master\n",
    "\n",
    "# Erstellen des Diagramms\n",
    "fig, ax = plt.subplots(figsize=(10, 6))\n",
    "\n",
    "# Balken für Bachelor und Master (mit negativen Werten für Bachelor)\n",
    "ax.barh(jahre, -bachelor, height=0.8, label=\"Bachelor\", color='skyblue')\n",
    "ax.barh(jahre, master, height=0.8, label=\"Master\", color='salmon')\n",
    "\n",
    "# Achsenanpassungen\n",
    "ax.set_xlabel('Anzahl der Teilnehmer')\n",
    "ax.set_ylabel('Jahr')\n",
    "ax.set_title('Teilnehmer nach Studiengang und Jahr')\n",
    "\n",
    "# Null in der Mitte der X-Achse\n",
    "ax.axvline(x=0, color='black', linewidth=1)\n",
    "\n",
    "# Legende\n",
    "ax.legend()\n",
    "\n",
    "# Anzeige\n",
    "plt.tight_layout()\n",
    "plt.show()\n"
   ]
  },
  {
   "cell_type": "code",
   "execution_count": null,
   "metadata": {},
   "outputs": [],
   "source": []
  }
 ],
 "metadata": {
  "kernelspec": {
   "display_name": "mein_env",
   "language": "python",
   "name": "python3"
  },
  "language_info": {
   "codemirror_mode": {
    "name": "ipython",
    "version": 3
   },
   "file_extension": ".py",
   "mimetype": "text/x-python",
   "name": "python",
   "nbconvert_exporter": "python",
   "pygments_lexer": "ipython3",
   "version": "3.10.16"
  }
 },
 "nbformat": 4,
 "nbformat_minor": 2
}
