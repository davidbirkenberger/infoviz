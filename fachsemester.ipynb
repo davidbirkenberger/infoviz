{
 "cells": [
  {
   "cell_type": "markdown",
   "metadata": {},
   "source": [
    "## Import"
   ]
  },
  {
   "cell_type": "code",
   "execution_count": null,
   "metadata": {},
   "outputs": [],
   "source": [
    "import pandas as pd\n",
    "import plotly.io as pio\n",
    "import plotly.express as px"
   ]
  },
  {
   "cell_type": "code",
   "execution_count": null,
   "metadata": {},
   "outputs": [],
   "source": [
    "infoviz_template = dict(\n",
    "    layout=dict(\n",
    "        template=\"plotly_white\",\n",
    "        title=dict(\n",
    "            font=dict(size=20, family=\"Arial\", weight=\"bold\", color=\"black\"),\n",
    "            y=0.91, \n",
    "            x=0.05, \n",
    "            xanchor=\"left\", \n",
    "        ),\n",
    "        xaxis=dict(\n",
    "            showgrid=False,\n",
    "            zerolinecolor=\"lightgrey\",\n",
    "            tickfont=dict(color=\"grey\", size=12),\n",
    "            title_font=dict(color=\"grey\", weight=\"bold\", size=13),\n",
    "            title_standoff=15,\n",
    "            ticklabelposition=\"outside bottom\"\n",
    "        ),\n",
    "        yaxis=dict(\n",
    "            showgrid=True, gridcolor=\"lightgrey\",\n",
    "            zerolinecolor=\"lightgrey\",\n",
    "            tickfont=dict(color=\"grey\", size=12),\n",
    "            title_font=dict(color=\"grey\", weight=\"bold\", size=13),\n",
    "            title_standoff=15,\n",
    "            ticklabelposition=\"outside left\"\n",
    "        ),\n",
    "    )\n",
    ")\n",
    "pio.templates[\"infoviz\"] = infoviz_template"
   ]
  },
  {
   "cell_type": "code",
   "execution_count": null,
   "metadata": {},
   "outputs": [],
   "source": [
    "years = [str(year) for year in range(2013, 2025)]\n",
    "\n",
    "df = pd.read_excel(\"data.xlsx\", sheet_name=years)\n",
    "\n",
    "data_list = []\n",
    "\n",
    "for year, df in df.items():\n",
    "\n",
    "    df['Jahr'] = year\n",
    "    data_list.append(df)\n",
    "\n",
    "final_df = pd.concat(data_list, ignore_index=True)\n"
   ]
  },
  {
   "cell_type": "code",
   "execution_count": null,
   "metadata": {},
   "outputs": [],
   "source": [
    "final_df[final_df['Variable'] == 'Fachsemester'] "
   ]
  },
  {
   "cell_type": "code",
   "execution_count": 313,
   "metadata": {},
   "outputs": [],
   "source": [
    "df = final_df[final_df.columns[~final_df.columns.str.contains(r'\\*')]] # drop * in the data\n",
    "df.columns = df.columns.str.replace('*', '', regex=False)# just to be sure\n",
    "df = df.rename(columns={'Master Getränketechnologi':'Master Getränketechnologie'})# fix a typo\n",
    "clean_columns = {}\n",
    "for col in df.columns:\n",
    "    clean_name = col.strip()  # get rid of other human typos\n",
    "    if clean_name in clean_columns:\n",
    "        clean_columns[clean_name].append(col)\n",
    "    else:\n",
    "        clean_columns[clean_name] = [col]\n",
    "\n",
    "# smack together the similar col names \n",
    "merged_df = df[['Jahr']].copy()\n",
    "for clean_name, original_cols in clean_columns.items():\n",
    "    if len(original_cols) > 1:\n",
    "        merged_df[clean_name] = df[original_cols].sum(axis=1)\n",
    "    else:\n",
    "        merged_df[clean_name] = df[original_cols[0]]\n",
    "df = merged_df.fillna(value=0) # use if needed for plotting"
   ]
  },
  {
   "cell_type": "code",
   "execution_count": 314,
   "metadata": {},
   "outputs": [],
   "source": [
    "df = df[df['Variable'].isin(['Fachsemester'])]\n",
    "df = df[df['Variable'] == 'Fachsemester'].drop(columns='Variable')\n",
    "df = df.groupby(['Jahr', 'Category']).sum().reset_index()\n",
    "df = df[df['Category'] != 'Gesamt (%)']"
   ]
  },
  {
   "cell_type": "code",
   "execution_count": null,
   "metadata": {},
   "outputs": [],
   "source": [
    "df['Bachelor Ökotrophologie'] = df['Bachelor Ökotrophologie'].astype(float)\n",
    "df['Bachelor Agrarwissenschaften'] = df['Bachelor Agrarwissenschaften'].replace(' ',0)\n",
    "df['Bachelor Agrarwissenschaften'] = df['Bachelor Agrarwissenschaften'].astype(float)"
   ]
  },
  {
   "cell_type": "code",
   "execution_count": null,
   "metadata": {},
   "outputs": [],
   "source": [
    "bachelor_columns = [col for col in df.columns if 'Bachelor' in col]\n",
    "master_columns = [col for col in df.columns if 'Master' in col]\n",
    "\n",
    "df_bachelor = pd.melt(df, id_vars=['Jahr', 'Category'], value_vars=bachelor_columns,\n",
    "                      var_name='Studiengang', value_name='Bachelorg Wert')\n",
    "df_bachelor['Typ'] = 'Bachelor'\n",
    "\n",
    "df_master = pd.melt(df, id_vars=['Jahr', 'Category'], value_vars=master_columns,\n",
    "                    var_name='Studiengang', value_name='Master Wert')\n",
    "df_master['Typ'] = 'Master'\n",
    "\n",
    "df_combined = pd.concat([df_bachelor, df_master])\n",
    "\n",
    "\n",
    "df_combined = df_combined.sort_values(by=['Jahr', 'Category', 'Typ'])\n"
   ]
  },
  {
   "cell_type": "code",
   "execution_count": null,
   "metadata": {},
   "outputs": [],
   "source": [
    "df_combined = df_combined.groupby(['Jahr', 'Category']).sum().reset_index().drop(columns=['Studiengang', 'Typ'])\n",
    "df = df_combined[df_combined['Category'] != 'Anzahl']"
   ]
  },
  {
   "cell_type": "code",
   "execution_count": null,
   "metadata": {},
   "outputs": [],
   "source": [
    "# Umwandeln der Kategorie von '1 (%)', '2 (%)', etc. in numerische Werte (Entfernen von \" (%)\")\n",
    "df['Category_num'] = df['Category'].str.extract('(\\d+)').astype(int)\n",
    "\n",
    "df_sorted = df.sort_values(by=['Jahr', 'Category_num'])\n",
    "df_sorted = df_sorted.drop(columns=['Category_num'])"
   ]
  },
  {
   "cell_type": "code",
   "execution_count": null,
   "metadata": {},
   "outputs": [],
   "source": [
    "bachelor_df = df_sorted[[\"Jahr\", \"Category\", \"Bachelorg Wert\"]].rename(columns={\"Bachelorg Wert\": \"Wert\"})\n",
    "bachelor_df[\"Studiengang\"] = \"Bachelor\"\n",
    "\n",
    "master_df = df_sorted[[\"Jahr\", \"Category\", \"Master Wert\"]].rename(columns={\"Master Wert\": \"Wert\"})\n",
    "master_df[\"Studiengang\"] = \"Master\"\n",
    "\n",
    "result = pd.concat([bachelor_df, master_df])\n",
    "\n",
    "result = result[[\"Jahr\", \"Category\", \"Studiengang\", \"Wert\"]]\n",
    "\n",
    "df_sorted = result.sort_values(by=[\"Jahr\", \"Category\"]).reset_index(drop=True)\n"
   ]
  },
  {
   "cell_type": "code",
   "execution_count": null,
   "metadata": {},
   "outputs": [],
   "source": [
    "category_order = [\"1 (%)\", \"2 (%)\", \"3 (%)\", \"4 (%)\", \"5 (%)\", \"6 (%)\", \"7 (%)\", \"8 (%)\", \"9 (%)\", \"10 (%)\", \"11 (%)\", \"12 (%)\", \"13 (%)\", \"14 und mehr (%)\"]"
   ]
  },
  {
   "cell_type": "code",
   "execution_count": null,
   "metadata": {},
   "outputs": [
    {
     "data": {
      "application/vnd.plotly.v1+json": {
       "config": {
        "plotlyServerURL": "https://plot.ly"
       },
       "data": [
        {
         "hovertemplate": "<b>%{hovertext}</b><br><br>Studiengang=Bachelor<br>Jahr=%{x}<br>Fachsemester=%{y}<br>Wert=%{marker.size}<extra></extra>",
         "hovertext": [
          "Bachelor",
          "Bachelor",
          "Bachelor",
          "Bachelor",
          "Bachelor",
          "Bachelor",
          "Bachelor",
          "Bachelor",
          "Bachelor",
          "Bachelor",
          "Bachelor",
          "Bachelor",
          "Bachelor",
          "Bachelor",
          "Bachelor",
          "Bachelor",
          "Bachelor",
          "Bachelor",
          "Bachelor",
          "Bachelor",
          "Bachelor",
          "Bachelor",
          "Bachelor",
          "Bachelor",
          "Bachelor",
          "Bachelor",
          "Bachelor",
          "Bachelor",
          "Bachelor",
          "Bachelor",
          "Bachelor",
          "Bachelor",
          "Bachelor",
          "Bachelor",
          "Bachelor",
          "Bachelor",
          "Bachelor",
          "Bachelor",
          "Bachelor",
          "Bachelor",
          "Bachelor",
          "Bachelor",
          "Bachelor",
          "Bachelor",
          "Bachelor",
          "Bachelor",
          "Bachelor",
          "Bachelor",
          "Bachelor",
          "Bachelor",
          "Bachelor",
          "Bachelor",
          "Bachelor",
          "Bachelor",
          "Bachelor",
          "Bachelor",
          "Bachelor",
          "Bachelor",
          "Bachelor",
          "Bachelor",
          "Bachelor",
          "Bachelor",
          "Bachelor",
          "Bachelor",
          "Bachelor",
          "Bachelor",
          "Bachelor",
          "Bachelor",
          "Bachelor",
          "Bachelor",
          "Bachelor",
          "Bachelor",
          "Bachelor",
          "Bachelor",
          "Bachelor",
          "Bachelor",
          "Bachelor",
          "Bachelor",
          "Bachelor",
          "Bachelor",
          "Bachelor",
          "Bachelor",
          "Bachelor",
          "Bachelor",
          "Bachelor",
          "Bachelor",
          "Bachelor",
          "Bachelor",
          "Bachelor",
          "Bachelor",
          "Bachelor",
          "Bachelor",
          "Bachelor",
          "Bachelor",
          "Bachelor",
          "Bachelor",
          "Bachelor",
          "Bachelor",
          "Bachelor",
          "Bachelor",
          "Bachelor",
          "Bachelor",
          "Bachelor",
          "Bachelor",
          "Bachelor",
          "Bachelor",
          "Bachelor",
          "Bachelor",
          "Bachelor",
          "Bachelor",
          "Bachelor",
          "Bachelor",
          "Bachelor",
          "Bachelor",
          "Bachelor",
          "Bachelor",
          "Bachelor",
          "Bachelor",
          "Bachelor",
          "Bachelor",
          "Bachelor",
          "Bachelor",
          "Bachelor",
          "Bachelor",
          "Bachelor",
          "Bachelor",
          "Bachelor",
          "Bachelor",
          "Bachelor",
          "Bachelor",
          "Bachelor",
          "Bachelor",
          "Bachelor",
          "Bachelor",
          "Bachelor",
          "Bachelor",
          "Bachelor",
          "Bachelor",
          "Bachelor",
          "Bachelor",
          "Bachelor",
          "Bachelor",
          "Bachelor",
          "Bachelor",
          "Bachelor",
          "Bachelor",
          "Bachelor",
          "Bachelor",
          "Bachelor",
          "Bachelor",
          "Bachelor",
          "Bachelor",
          "Bachelor",
          "Bachelor",
          "Bachelor",
          "Bachelor",
          "Bachelor",
          "Bachelor",
          "Bachelor",
          "Bachelor",
          "Bachelor",
          "Bachelor",
          "Bachelor",
          "Bachelor",
          "Bachelor",
          "Bachelor",
          "Bachelor",
          "Bachelor"
         ],
         "legendgroup": "Bachelor",
         "marker": {
          "color": "#636efa",
          "size": [
           135,
           0,
           1,
           0,
           0,
           0,
           2,
           126,
           2,
           95,
           8,
           27,
           1,
           2,
           158,
           0,
           0,
           0,
           0,
           0,
           1,
           106,
           3,
           97,
           2,
           30,
           0,
           3,
           161,
           1,
           0,
           1,
           1,
           0,
           1,
           104,
           5,
           84,
           6,
           35,
           2,
           2,
           137,
           0,
           0,
           0,
           0,
           0,
           2,
           106,
           2,
           101,
           10,
           35,
           2,
           5,
           119,
           1,
           1,
           0,
           0,
           2,
           7,
           113,
           3,
           107,
           12,
           32,
           2,
           1,
           130,
           0,
           1,
           0,
           0,
           1,
           2,
           106,
           2,
           105,
           9,
           35,
           6,
           5,
           143,
           1,
           3,
           0,
           0,
           0,
           5,
           108,
           2,
           80,
           13,
           36,
           2,
           8,
           138,
           0,
           3,
           0,
           2,
           0,
           11,
           91,
           8,
           89,
           18,
           33,
           2,
           5,
           215,
           2,
           3,
           1,
           2,
           2,
           19,
           103,
           5,
           72,
           26,
           48,
           0,
           3,
           181,
           1,
           0,
           1,
           0,
           0,
           3,
           130,
           19,
           88,
           21,
           40,
           4,
           10,
           114,
           0,
           4,
           0,
           2,
           13,
           1,
           145,
           7,
           107,
           26,
           60,
           9,
           9,
           122,
           7,
           9,
           0,
           3,
           0,
           8,
           90,
           7,
           118,
           36,
           78,
           20,
           10
          ],
          "sizemode": "area",
          "sizeref": 0.1322222222222222,
          "symbol": "circle"
         },
         "mode": "markers",
         "name": "Bachelor",
         "orientation": "v",
         "showlegend": true,
         "type": "scatter",
         "x": [
          "2013",
          "2013",
          "2013",
          "2013",
          "2013",
          "2013",
          "2013",
          "2013",
          "2013",
          "2013",
          "2013",
          "2013",
          "2013",
          "2013",
          "2014",
          "2014",
          "2014",
          "2014",
          "2014",
          "2014",
          "2014",
          "2014",
          "2014",
          "2014",
          "2014",
          "2014",
          "2014",
          "2014",
          "2015",
          "2015",
          "2015",
          "2015",
          "2015",
          "2015",
          "2015",
          "2015",
          "2015",
          "2015",
          "2015",
          "2015",
          "2015",
          "2015",
          "2016",
          "2016",
          "2016",
          "2016",
          "2016",
          "2016",
          "2016",
          "2016",
          "2016",
          "2016",
          "2016",
          "2016",
          "2016",
          "2016",
          "2017",
          "2017",
          "2017",
          "2017",
          "2017",
          "2017",
          "2017",
          "2017",
          "2017",
          "2017",
          "2017",
          "2017",
          "2017",
          "2017",
          "2018",
          "2018",
          "2018",
          "2018",
          "2018",
          "2018",
          "2018",
          "2018",
          "2018",
          "2018",
          "2018",
          "2018",
          "2018",
          "2018",
          "2019",
          "2019",
          "2019",
          "2019",
          "2019",
          "2019",
          "2019",
          "2019",
          "2019",
          "2019",
          "2019",
          "2019",
          "2019",
          "2019",
          "2020",
          "2020",
          "2020",
          "2020",
          "2020",
          "2020",
          "2020",
          "2020",
          "2020",
          "2020",
          "2020",
          "2020",
          "2020",
          "2020",
          "2021",
          "2021",
          "2021",
          "2021",
          "2021",
          "2021",
          "2021",
          "2021",
          "2021",
          "2021",
          "2021",
          "2021",
          "2021",
          "2021",
          "2022",
          "2022",
          "2022",
          "2022",
          "2022",
          "2022",
          "2022",
          "2022",
          "2022",
          "2022",
          "2022",
          "2022",
          "2022",
          "2022",
          "2023",
          "2023",
          "2023",
          "2023",
          "2023",
          "2023",
          "2023",
          "2023",
          "2023",
          "2023",
          "2023",
          "2023",
          "2023",
          "2023",
          "2024",
          "2024",
          "2024",
          "2024",
          "2024",
          "2024",
          "2024",
          "2024",
          "2024",
          "2024",
          "2024",
          "2024",
          "2024",
          "2024"
         ],
         "xaxis": "x",
         "y": [
          "1",
          "10",
          "11",
          "12",
          "13",
          "14 und mehr",
          "2",
          "3",
          "4",
          "5",
          "6",
          "7",
          "8",
          "9",
          "1",
          "10",
          "11",
          "12",
          "13",
          "14 und mehr",
          "2",
          "3",
          "4",
          "5",
          "6",
          "7",
          "8",
          "9",
          "1",
          "10",
          "11",
          "12",
          "13",
          "14 und mehr",
          "2",
          "3",
          "4",
          "5",
          "6",
          "7",
          "8",
          "9",
          "1",
          "10",
          "11",
          "12",
          "13",
          "14 und mehr",
          "2",
          "3",
          "4",
          "5",
          "6",
          "7",
          "8",
          "9",
          "1",
          "10",
          "11",
          "12",
          "13",
          "14 und mehr",
          "2",
          "3",
          "4",
          "5",
          "6",
          "7",
          "8",
          "9",
          "1",
          "10",
          "11",
          "12",
          "13",
          "14 und mehr",
          "2",
          "3",
          "4",
          "5",
          "6",
          "7",
          "8",
          "9",
          "1",
          "10",
          "11",
          "12",
          "13",
          "14 und mehr",
          "2",
          "3",
          "4",
          "5",
          "6",
          "7",
          "8",
          "9",
          "1",
          "10",
          "11",
          "12",
          "13",
          "14 und mehr",
          "2",
          "3",
          "4",
          "5",
          "6",
          "7",
          "8",
          "9",
          "1",
          "10",
          "11",
          "12",
          "13",
          "14 und mehr",
          "2",
          "3",
          "4",
          "5",
          "6",
          "7",
          "8",
          "9",
          "1",
          "10",
          "11",
          "12",
          "13",
          "14 und mehr",
          "2",
          "3",
          "4",
          "5",
          "6",
          "7",
          "8",
          "9",
          "1",
          "10",
          "11",
          "12",
          "13",
          "14 und mehr",
          "2",
          "3",
          "4",
          "5",
          "6",
          "7",
          "8",
          "9",
          "1",
          "10",
          "11",
          "12",
          "13",
          "14 und mehr",
          "2",
          "3",
          "4",
          "5",
          "6",
          "7",
          "8",
          "9"
         ],
         "yaxis": "y"
        },
        {
         "hovertemplate": "<b>%{hovertext}</b><br><br>Studiengang=Master<br>Jahr=%{x}<br>Fachsemester=%{y}<br>Wert=%{marker.size}<extra></extra>",
         "hovertext": [
          "Master",
          "Master",
          "Master",
          "Master",
          "Master",
          "Master",
          "Master",
          "Master",
          "Master",
          "Master",
          "Master",
          "Master",
          "Master",
          "Master",
          "Master",
          "Master",
          "Master",
          "Master",
          "Master",
          "Master",
          "Master",
          "Master",
          "Master",
          "Master",
          "Master",
          "Master",
          "Master",
          "Master",
          "Master",
          "Master",
          "Master",
          "Master",
          "Master",
          "Master",
          "Master",
          "Master",
          "Master",
          "Master",
          "Master",
          "Master",
          "Master",
          "Master",
          "Master",
          "Master",
          "Master",
          "Master",
          "Master",
          "Master",
          "Master",
          "Master",
          "Master",
          "Master",
          "Master",
          "Master",
          "Master",
          "Master",
          "Master",
          "Master",
          "Master",
          "Master",
          "Master",
          "Master",
          "Master",
          "Master",
          "Master",
          "Master",
          "Master",
          "Master",
          "Master",
          "Master",
          "Master",
          "Master",
          "Master",
          "Master",
          "Master",
          "Master",
          "Master",
          "Master",
          "Master",
          "Master",
          "Master",
          "Master",
          "Master",
          "Master",
          "Master",
          "Master",
          "Master",
          "Master",
          "Master",
          "Master",
          "Master",
          "Master",
          "Master",
          "Master",
          "Master",
          "Master",
          "Master",
          "Master",
          "Master",
          "Master",
          "Master",
          "Master",
          "Master",
          "Master",
          "Master",
          "Master",
          "Master",
          "Master",
          "Master",
          "Master",
          "Master",
          "Master",
          "Master",
          "Master",
          "Master",
          "Master",
          "Master",
          "Master",
          "Master",
          "Master",
          "Master",
          "Master",
          "Master",
          "Master",
          "Master",
          "Master",
          "Master",
          "Master",
          "Master",
          "Master",
          "Master",
          "Master",
          "Master",
          "Master",
          "Master",
          "Master",
          "Master",
          "Master",
          "Master",
          "Master",
          "Master",
          "Master",
          "Master",
          "Master",
          "Master",
          "Master",
          "Master",
          "Master",
          "Master",
          "Master",
          "Master",
          "Master",
          "Master",
          "Master",
          "Master",
          "Master",
          "Master",
          "Master",
          "Master",
          "Master",
          "Master",
          "Master",
          "Master",
          "Master",
          "Master",
          "Master",
          "Master",
          "Master"
         ],
         "legendgroup": "Master",
         "marker": {
          "color": "#EF553B",
          "size": [
           380,
           0,
           0,
           0,
           0,
           0,
           78,
           191,
           72,
           62,
           11,
           5,
           1,
           0,
           210,
           0,
           1,
           0,
           0,
           0,
           60,
           274,
           94,
           142,
           6,
           9,
           2,
           1,
           275,
           0,
           0,
           0,
           0,
           0,
           10,
           76,
           50,
           64,
           20,
           3,
           0,
           0,
           319,
           2,
           8,
           0,
           0,
           0,
           128,
           216,
           52,
           46,
           10,
           2,
           12,
           0,
           363,
           0,
           0,
           0,
           0,
           7,
           105,
           264,
           83,
           155,
           8,
           15,
           3,
           0,
           332,
           0,
           0,
           0,
           0,
           0,
           109,
           206,
           163,
           123,
           11,
           4,
           2,
           8,
           473,
           0,
           1,
           2,
           0,
           0,
           78,
           323,
           200,
           136,
           57,
           20,
           3,
           3,
           450,
           0,
           1,
           0,
           1,
           0,
           135,
           285,
           133,
           112,
           58,
           19,
           5,
           0,
           476,
           6,
           3,
           0,
           0,
           0,
           77,
           304,
           96,
           87,
           23,
           26,
           3,
           0,
           353,
           0,
           0,
           2,
           0,
           0,
           171,
           362,
           94,
           180,
           9,
           20,
           5,
           2,
           323,
           0,
           0,
           0,
           0,
           0,
           67,
           270,
           130,
           153,
           34,
           21,
           0,
           0,
           229,
           0,
           15,
           0,
           0,
           0,
           65,
           289,
           107,
           180,
           59,
           17,
           17,
           20
          ],
          "sizemode": "area",
          "sizeref": 0.1322222222222222,
          "symbol": "circle"
         },
         "mode": "markers",
         "name": "Master",
         "orientation": "v",
         "showlegend": true,
         "type": "scatter",
         "x": [
          "2013",
          "2013",
          "2013",
          "2013",
          "2013",
          "2013",
          "2013",
          "2013",
          "2013",
          "2013",
          "2013",
          "2013",
          "2013",
          "2013",
          "2014",
          "2014",
          "2014",
          "2014",
          "2014",
          "2014",
          "2014",
          "2014",
          "2014",
          "2014",
          "2014",
          "2014",
          "2014",
          "2014",
          "2015",
          "2015",
          "2015",
          "2015",
          "2015",
          "2015",
          "2015",
          "2015",
          "2015",
          "2015",
          "2015",
          "2015",
          "2015",
          "2015",
          "2016",
          "2016",
          "2016",
          "2016",
          "2016",
          "2016",
          "2016",
          "2016",
          "2016",
          "2016",
          "2016",
          "2016",
          "2016",
          "2016",
          "2017",
          "2017",
          "2017",
          "2017",
          "2017",
          "2017",
          "2017",
          "2017",
          "2017",
          "2017",
          "2017",
          "2017",
          "2017",
          "2017",
          "2018",
          "2018",
          "2018",
          "2018",
          "2018",
          "2018",
          "2018",
          "2018",
          "2018",
          "2018",
          "2018",
          "2018",
          "2018",
          "2018",
          "2019",
          "2019",
          "2019",
          "2019",
          "2019",
          "2019",
          "2019",
          "2019",
          "2019",
          "2019",
          "2019",
          "2019",
          "2019",
          "2019",
          "2020",
          "2020",
          "2020",
          "2020",
          "2020",
          "2020",
          "2020",
          "2020",
          "2020",
          "2020",
          "2020",
          "2020",
          "2020",
          "2020",
          "2021",
          "2021",
          "2021",
          "2021",
          "2021",
          "2021",
          "2021",
          "2021",
          "2021",
          "2021",
          "2021",
          "2021",
          "2021",
          "2021",
          "2022",
          "2022",
          "2022",
          "2022",
          "2022",
          "2022",
          "2022",
          "2022",
          "2022",
          "2022",
          "2022",
          "2022",
          "2022",
          "2022",
          "2023",
          "2023",
          "2023",
          "2023",
          "2023",
          "2023",
          "2023",
          "2023",
          "2023",
          "2023",
          "2023",
          "2023",
          "2023",
          "2023",
          "2024",
          "2024",
          "2024",
          "2024",
          "2024",
          "2024",
          "2024",
          "2024",
          "2024",
          "2024",
          "2024",
          "2024",
          "2024",
          "2024"
         ],
         "xaxis": "x",
         "y": [
          "1",
          "10",
          "11",
          "12",
          "13",
          "14 und mehr",
          "2",
          "3",
          "4",
          "5",
          "6",
          "7",
          "8",
          "9",
          "1",
          "10",
          "11",
          "12",
          "13",
          "14 und mehr",
          "2",
          "3",
          "4",
          "5",
          "6",
          "7",
          "8",
          "9",
          "1",
          "10",
          "11",
          "12",
          "13",
          "14 und mehr",
          "2",
          "3",
          "4",
          "5",
          "6",
          "7",
          "8",
          "9",
          "1",
          "10",
          "11",
          "12",
          "13",
          "14 und mehr",
          "2",
          "3",
          "4",
          "5",
          "6",
          "7",
          "8",
          "9",
          "1",
          "10",
          "11",
          "12",
          "13",
          "14 und mehr",
          "2",
          "3",
          "4",
          "5",
          "6",
          "7",
          "8",
          "9",
          "1",
          "10",
          "11",
          "12",
          "13",
          "14 und mehr",
          "2",
          "3",
          "4",
          "5",
          "6",
          "7",
          "8",
          "9",
          "1",
          "10",
          "11",
          "12",
          "13",
          "14 und mehr",
          "2",
          "3",
          "4",
          "5",
          "6",
          "7",
          "8",
          "9",
          "1",
          "10",
          "11",
          "12",
          "13",
          "14 und mehr",
          "2",
          "3",
          "4",
          "5",
          "6",
          "7",
          "8",
          "9",
          "1",
          "10",
          "11",
          "12",
          "13",
          "14 und mehr",
          "2",
          "3",
          "4",
          "5",
          "6",
          "7",
          "8",
          "9",
          "1",
          "10",
          "11",
          "12",
          "13",
          "14 und mehr",
          "2",
          "3",
          "4",
          "5",
          "6",
          "7",
          "8",
          "9",
          "1",
          "10",
          "11",
          "12",
          "13",
          "14 und mehr",
          "2",
          "3",
          "4",
          "5",
          "6",
          "7",
          "8",
          "9",
          "1",
          "10",
          "11",
          "12",
          "13",
          "14 und mehr",
          "2",
          "3",
          "4",
          "5",
          "6",
          "7",
          "8",
          "9"
         ],
         "yaxis": "y"
        }
       ],
       "layout": {
        "height": 1200,
        "legend": {
         "itemsizing": "constant",
         "title": {
          "text": "Studiengang"
         },
         "tracegroupgap": 0
        },
        "showlegend": false,
        "template": {
         "layout": {
          "template": {
           "data": {
            "bar": [
             {
              "error_x": {
               "color": "#2a3f5f"
              },
              "error_y": {
               "color": "#2a3f5f"
              },
              "marker": {
               "line": {
                "color": "white",
                "width": 0.5
               },
               "pattern": {
                "fillmode": "overlay",
                "size": 10,
                "solidity": 0.2
               }
              },
              "type": "bar"
             }
            ],
            "barpolar": [
             {
              "marker": {
               "line": {
                "color": "white",
                "width": 0.5
               },
               "pattern": {
                "fillmode": "overlay",
                "size": 10,
                "solidity": 0.2
               }
              },
              "type": "barpolar"
             }
            ],
            "carpet": [
             {
              "aaxis": {
               "endlinecolor": "#2a3f5f",
               "gridcolor": "#C8D4E3",
               "linecolor": "#C8D4E3",
               "minorgridcolor": "#C8D4E3",
               "startlinecolor": "#2a3f5f"
              },
              "baxis": {
               "endlinecolor": "#2a3f5f",
               "gridcolor": "#C8D4E3",
               "linecolor": "#C8D4E3",
               "minorgridcolor": "#C8D4E3",
               "startlinecolor": "#2a3f5f"
              },
              "type": "carpet"
             }
            ],
            "choropleth": [
             {
              "colorbar": {
               "outlinewidth": 0,
               "ticks": ""
              },
              "type": "choropleth"
             }
            ],
            "contour": [
             {
              "colorbar": {
               "outlinewidth": 0,
               "ticks": ""
              },
              "colorscale": [
               [
                0,
                "#0d0887"
               ],
               [
                0.1111111111111111,
                "#46039f"
               ],
               [
                0.2222222222222222,
                "#7201a8"
               ],
               [
                0.3333333333333333,
                "#9c179e"
               ],
               [
                0.4444444444444444,
                "#bd3786"
               ],
               [
                0.5555555555555556,
                "#d8576b"
               ],
               [
                0.6666666666666666,
                "#ed7953"
               ],
               [
                0.7777777777777778,
                "#fb9f3a"
               ],
               [
                0.8888888888888888,
                "#fdca26"
               ],
               [
                1,
                "#f0f921"
               ]
              ],
              "type": "contour"
             }
            ],
            "contourcarpet": [
             {
              "colorbar": {
               "outlinewidth": 0,
               "ticks": ""
              },
              "type": "contourcarpet"
             }
            ],
            "heatmap": [
             {
              "colorbar": {
               "outlinewidth": 0,
               "ticks": ""
              },
              "colorscale": [
               [
                0,
                "#0d0887"
               ],
               [
                0.1111111111111111,
                "#46039f"
               ],
               [
                0.2222222222222222,
                "#7201a8"
               ],
               [
                0.3333333333333333,
                "#9c179e"
               ],
               [
                0.4444444444444444,
                "#bd3786"
               ],
               [
                0.5555555555555556,
                "#d8576b"
               ],
               [
                0.6666666666666666,
                "#ed7953"
               ],
               [
                0.7777777777777778,
                "#fb9f3a"
               ],
               [
                0.8888888888888888,
                "#fdca26"
               ],
               [
                1,
                "#f0f921"
               ]
              ],
              "type": "heatmap"
             }
            ],
            "heatmapgl": [
             {
              "colorbar": {
               "outlinewidth": 0,
               "ticks": ""
              },
              "colorscale": [
               [
                0,
                "#0d0887"
               ],
               [
                0.1111111111111111,
                "#46039f"
               ],
               [
                0.2222222222222222,
                "#7201a8"
               ],
               [
                0.3333333333333333,
                "#9c179e"
               ],
               [
                0.4444444444444444,
                "#bd3786"
               ],
               [
                0.5555555555555556,
                "#d8576b"
               ],
               [
                0.6666666666666666,
                "#ed7953"
               ],
               [
                0.7777777777777778,
                "#fb9f3a"
               ],
               [
                0.8888888888888888,
                "#fdca26"
               ],
               [
                1,
                "#f0f921"
               ]
              ],
              "type": "heatmapgl"
             }
            ],
            "histogram": [
             {
              "marker": {
               "pattern": {
                "fillmode": "overlay",
                "size": 10,
                "solidity": 0.2
               }
              },
              "type": "histogram"
             }
            ],
            "histogram2d": [
             {
              "colorbar": {
               "outlinewidth": 0,
               "ticks": ""
              },
              "colorscale": [
               [
                0,
                "#0d0887"
               ],
               [
                0.1111111111111111,
                "#46039f"
               ],
               [
                0.2222222222222222,
                "#7201a8"
               ],
               [
                0.3333333333333333,
                "#9c179e"
               ],
               [
                0.4444444444444444,
                "#bd3786"
               ],
               [
                0.5555555555555556,
                "#d8576b"
               ],
               [
                0.6666666666666666,
                "#ed7953"
               ],
               [
                0.7777777777777778,
                "#fb9f3a"
               ],
               [
                0.8888888888888888,
                "#fdca26"
               ],
               [
                1,
                "#f0f921"
               ]
              ],
              "type": "histogram2d"
             }
            ],
            "histogram2dcontour": [
             {
              "colorbar": {
               "outlinewidth": 0,
               "ticks": ""
              },
              "colorscale": [
               [
                0,
                "#0d0887"
               ],
               [
                0.1111111111111111,
                "#46039f"
               ],
               [
                0.2222222222222222,
                "#7201a8"
               ],
               [
                0.3333333333333333,
                "#9c179e"
               ],
               [
                0.4444444444444444,
                "#bd3786"
               ],
               [
                0.5555555555555556,
                "#d8576b"
               ],
               [
                0.6666666666666666,
                "#ed7953"
               ],
               [
                0.7777777777777778,
                "#fb9f3a"
               ],
               [
                0.8888888888888888,
                "#fdca26"
               ],
               [
                1,
                "#f0f921"
               ]
              ],
              "type": "histogram2dcontour"
             }
            ],
            "mesh3d": [
             {
              "colorbar": {
               "outlinewidth": 0,
               "ticks": ""
              },
              "type": "mesh3d"
             }
            ],
            "parcoords": [
             {
              "line": {
               "colorbar": {
                "outlinewidth": 0,
                "ticks": ""
               }
              },
              "type": "parcoords"
             }
            ],
            "pie": [
             {
              "automargin": true,
              "type": "pie"
             }
            ],
            "scatter": [
             {
              "fillpattern": {
               "fillmode": "overlay",
               "size": 10,
               "solidity": 0.2
              },
              "type": "scatter"
             }
            ],
            "scatter3d": [
             {
              "line": {
               "colorbar": {
                "outlinewidth": 0,
                "ticks": ""
               }
              },
              "marker": {
               "colorbar": {
                "outlinewidth": 0,
                "ticks": ""
               }
              },
              "type": "scatter3d"
             }
            ],
            "scattercarpet": [
             {
              "marker": {
               "colorbar": {
                "outlinewidth": 0,
                "ticks": ""
               }
              },
              "type": "scattercarpet"
             }
            ],
            "scattergeo": [
             {
              "marker": {
               "colorbar": {
                "outlinewidth": 0,
                "ticks": ""
               }
              },
              "type": "scattergeo"
             }
            ],
            "scattergl": [
             {
              "marker": {
               "colorbar": {
                "outlinewidth": 0,
                "ticks": ""
               }
              },
              "type": "scattergl"
             }
            ],
            "scattermapbox": [
             {
              "marker": {
               "colorbar": {
                "outlinewidth": 0,
                "ticks": ""
               }
              },
              "type": "scattermapbox"
             }
            ],
            "scatterpolar": [
             {
              "marker": {
               "colorbar": {
                "outlinewidth": 0,
                "ticks": ""
               }
              },
              "type": "scatterpolar"
             }
            ],
            "scatterpolargl": [
             {
              "marker": {
               "colorbar": {
                "outlinewidth": 0,
                "ticks": ""
               }
              },
              "type": "scatterpolargl"
             }
            ],
            "scatterternary": [
             {
              "marker": {
               "colorbar": {
                "outlinewidth": 0,
                "ticks": ""
               }
              },
              "type": "scatterternary"
             }
            ],
            "surface": [
             {
              "colorbar": {
               "outlinewidth": 0,
               "ticks": ""
              },
              "colorscale": [
               [
                0,
                "#0d0887"
               ],
               [
                0.1111111111111111,
                "#46039f"
               ],
               [
                0.2222222222222222,
                "#7201a8"
               ],
               [
                0.3333333333333333,
                "#9c179e"
               ],
               [
                0.4444444444444444,
                "#bd3786"
               ],
               [
                0.5555555555555556,
                "#d8576b"
               ],
               [
                0.6666666666666666,
                "#ed7953"
               ],
               [
                0.7777777777777778,
                "#fb9f3a"
               ],
               [
                0.8888888888888888,
                "#fdca26"
               ],
               [
                1,
                "#f0f921"
               ]
              ],
              "type": "surface"
             }
            ],
            "table": [
             {
              "cells": {
               "fill": {
                "color": "#EBF0F8"
               },
               "line": {
                "color": "white"
               }
              },
              "header": {
               "fill": {
                "color": "#C8D4E3"
               },
               "line": {
                "color": "white"
               }
              },
              "type": "table"
             }
            ]
           },
           "layout": {
            "annotationdefaults": {
             "arrowcolor": "#2a3f5f",
             "arrowhead": 0,
             "arrowwidth": 1
            },
            "autotypenumbers": "strict",
            "coloraxis": {
             "colorbar": {
              "outlinewidth": 0,
              "ticks": ""
             }
            },
            "colorscale": {
             "diverging": [
              [
               0,
               "#8e0152"
              ],
              [
               0.1,
               "#c51b7d"
              ],
              [
               0.2,
               "#de77ae"
              ],
              [
               0.3,
               "#f1b6da"
              ],
              [
               0.4,
               "#fde0ef"
              ],
              [
               0.5,
               "#f7f7f7"
              ],
              [
               0.6,
               "#e6f5d0"
              ],
              [
               0.7,
               "#b8e186"
              ],
              [
               0.8,
               "#7fbc41"
              ],
              [
               0.9,
               "#4d9221"
              ],
              [
               1,
               "#276419"
              ]
             ],
             "sequential": [
              [
               0,
               "#0d0887"
              ],
              [
               0.1111111111111111,
               "#46039f"
              ],
              [
               0.2222222222222222,
               "#7201a8"
              ],
              [
               0.3333333333333333,
               "#9c179e"
              ],
              [
               0.4444444444444444,
               "#bd3786"
              ],
              [
               0.5555555555555556,
               "#d8576b"
              ],
              [
               0.6666666666666666,
               "#ed7953"
              ],
              [
               0.7777777777777778,
               "#fb9f3a"
              ],
              [
               0.8888888888888888,
               "#fdca26"
              ],
              [
               1,
               "#f0f921"
              ]
             ],
             "sequentialminus": [
              [
               0,
               "#0d0887"
              ],
              [
               0.1111111111111111,
               "#46039f"
              ],
              [
               0.2222222222222222,
               "#7201a8"
              ],
              [
               0.3333333333333333,
               "#9c179e"
              ],
              [
               0.4444444444444444,
               "#bd3786"
              ],
              [
               0.5555555555555556,
               "#d8576b"
              ],
              [
               0.6666666666666666,
               "#ed7953"
              ],
              [
               0.7777777777777778,
               "#fb9f3a"
              ],
              [
               0.8888888888888888,
               "#fdca26"
              ],
              [
               1,
               "#f0f921"
              ]
             ]
            },
            "colorway": [
             "#636efa",
             "#EF553B",
             "#00cc96",
             "#ab63fa",
             "#FFA15A",
             "#19d3f3",
             "#FF6692",
             "#B6E880",
             "#FF97FF",
             "#FECB52"
            ],
            "font": {
             "color": "#2a3f5f"
            },
            "geo": {
             "bgcolor": "white",
             "lakecolor": "white",
             "landcolor": "white",
             "showlakes": true,
             "showland": true,
             "subunitcolor": "#C8D4E3"
            },
            "hoverlabel": {
             "align": "left"
            },
            "hovermode": "closest",
            "mapbox": {
             "style": "light"
            },
            "paper_bgcolor": "white",
            "plot_bgcolor": "white",
            "polar": {
             "angularaxis": {
              "gridcolor": "#EBF0F8",
              "linecolor": "#EBF0F8",
              "ticks": ""
             },
             "bgcolor": "white",
             "radialaxis": {
              "gridcolor": "#EBF0F8",
              "linecolor": "#EBF0F8",
              "ticks": ""
             }
            },
            "scene": {
             "xaxis": {
              "backgroundcolor": "white",
              "gridcolor": "#DFE8F3",
              "gridwidth": 2,
              "linecolor": "#EBF0F8",
              "showbackground": true,
              "ticks": "",
              "zerolinecolor": "#EBF0F8"
             },
             "yaxis": {
              "backgroundcolor": "white",
              "gridcolor": "#DFE8F3",
              "gridwidth": 2,
              "linecolor": "#EBF0F8",
              "showbackground": true,
              "ticks": "",
              "zerolinecolor": "#EBF0F8"
             },
             "zaxis": {
              "backgroundcolor": "white",
              "gridcolor": "#DFE8F3",
              "gridwidth": 2,
              "linecolor": "#EBF0F8",
              "showbackground": true,
              "ticks": "",
              "zerolinecolor": "#EBF0F8"
             }
            },
            "shapedefaults": {
             "line": {
              "color": "#2a3f5f"
             }
            },
            "ternary": {
             "aaxis": {
              "gridcolor": "#DFE8F3",
              "linecolor": "#A2B1C6",
              "ticks": ""
             },
             "baxis": {
              "gridcolor": "#DFE8F3",
              "linecolor": "#A2B1C6",
              "ticks": ""
             },
             "bgcolor": "white",
             "caxis": {
              "gridcolor": "#DFE8F3",
              "linecolor": "#A2B1C6",
              "ticks": ""
             }
            },
            "title": {
             "x": 0.05
            },
            "xaxis": {
             "automargin": true,
             "gridcolor": "#EBF0F8",
             "linecolor": "#EBF0F8",
             "ticks": "",
             "title": {
              "standoff": 15
             },
             "zerolinecolor": "#EBF0F8",
             "zerolinewidth": 2
            },
            "yaxis": {
             "automargin": true,
             "gridcolor": "#EBF0F8",
             "linecolor": "#EBF0F8",
             "ticks": "",
             "title": {
              "standoff": 15
             },
             "zerolinecolor": "#EBF0F8",
             "zerolinewidth": 2
            }
           }
          },
          "title": {
           "font": {
            "color": "black",
            "family": "Arial",
            "size": 20,
            "weight": "bold"
           },
           "x": 0.05,
           "xanchor": "left",
           "y": 0.91
          },
          "xaxis": {
           "showgrid": false,
           "tickfont": {
            "color": "grey",
            "size": 12
           },
           "ticklabelposition": "outside bottom",
           "title": {
            "font": {
             "color": "grey",
             "size": 13,
             "weight": "bold"
            },
            "standoff": 15
           },
           "zerolinecolor": "lightgrey"
          },
          "yaxis": {
           "gridcolor": "lightgrey",
           "showgrid": true,
           "tickfont": {
            "color": "grey",
            "size": 12
           },
           "ticklabelposition": "outside left",
           "title": {
            "font": {
             "color": "grey",
             "size": 13,
             "weight": "bold"
            },
            "standoff": 15
           },
           "zerolinecolor": "lightgrey"
          }
         }
        },
        "title": {
         "text": "Verteilung von </b><span style='color:#73c6e9;'>Bachelor</span> <b> und </b><span style='color:#cc5b6e;'>Master</span> <b> über die Jahre"
        },
        "width": 1400,
        "xaxis": {
         "anchor": "y",
         "domain": [
          0,
          1
         ],
         "title": {
          "text": "Jahr"
         }
        },
        "yaxis": {
         "anchor": "x",
         "categoryarray": [
          "1 (%)",
          "2 (%)",
          "3 (%)",
          "4 (%)",
          "5 (%)",
          "6 (%)",
          "7 (%)",
          "8 (%)",
          "9 (%)",
          "10 (%)",
          "11 (%)",
          "12 (%)",
          "13 (%)",
          "14 und mehr (%)"
         ],
         "categoryorder": "array",
         "domain": [
          0,
          1
         ],
         "title": {
          "text": "Fachsemester"
         }
        }
       }
      }
     },
     "metadata": {},
     "output_type": "display_data"
    }
   ],
   "source": [
    "pio.templates[\"infoviz\"] = infoviz_template\n",
    "\n",
    "df = pd.DataFrame(df_sorted)\n",
    "\n",
    "category_order = [\"14 und mehr (%)\", \"13 (%)\", \"12 (%)\", \"11 (%)\", \"10 (%)\", \"9 (%)\", \"8 (%)\", \"7 (%)\", \"6 (%)\", \"5 (%)\", \"4 (%)\", \"3 (%)\", \"2 (%)\", \"1 (%)\"]\n",
    "\n",
    "df['Category'] = df['Category'].str.replace(' (%)', '', regex=False)\n",
    "\n",
    "fig = px.scatter(df,\n",
    "                 x=\"Jahr\", \n",
    "                 y=\"Category\", \n",
    "                 color=\"Studiengang\", \n",
    "                 size=\"Wert\", \n",
    "                 hover_name=\"Studiengang\",\n",
    "                 title=\"Verteilung von </b><span style='color:#73c6e9;'>Bachelor</span> <b> und </b><span style='color:#cc5b6e;'>Master</span> <b> über die Jahre\",\n",
    "                 labels={\"Jahr\": \"Jahr\", \"Category\": \"Fachsemester\", \"Wert\": \"Wert\"},\n",
    "                 size_max=60,\n",
    "                 category_orders={\"Category\": category_order})\n",
    "\n",
    "fig.update_layout(\n",
    "    template=\"infoviz\",\n",
    "    height=1200,  \n",
    "    width=1400,\n",
    "     showlegend=False,\n",
    ")\n",
    "# Eigentlich sollten die M.A und B.A als hablkreise angezeigt werden, dabei kam jedoch PLotly an seine Grenzen \n",
    "fig.show()"
   ]
  },
  {
   "cell_type": "code",
   "execution_count": null,
   "metadata": {},
   "outputs": [],
   "source": [
    "df_sorted = df_sorted[df_sorted['Jahr'] == '2024']"
   ]
  },
  {
   "cell_type": "code",
   "execution_count": null,
   "metadata": {},
   "outputs": [
    {
     "data": {
      "application/vnd.plotly.v1+json": {
       "config": {
        "plotlyServerURL": "https://plot.ly"
       },
       "data": [
        {
         "hovertemplate": "<b>%{hovertext}</b><br><br>Studiengang=Bachelor<br>Kategorie=%{x}<br>Y-Wert=%{y}<br>Wert=%{marker.size}<extra></extra>",
         "hovertext": [
          "Bachelor",
          "Bachelor",
          "Bachelor",
          "Bachelor",
          "Bachelor",
          "Bachelor",
          "Bachelor",
          "Bachelor",
          "Bachelor",
          "Bachelor",
          "Bachelor",
          "Bachelor",
          "Bachelor",
          "Bachelor"
         ],
         "legendgroup": "Bachelor",
         "marker": {
          "color": "#73c6e9",
          "opacity": 1,
          "size": [
           122,
           7,
           9,
           0,
           3,
           0,
           8,
           90,
           7,
           118,
           36,
           78,
           20,
           10
          ],
          "sizemode": "area",
          "sizeref": 0.08027777777777778,
          "symbol": "circle"
         },
         "mode": "markers",
         "name": "Bachelor",
         "orientation": "v",
         "showlegend": true,
         "type": "scatter",
         "x": [
          "1",
          "10",
          "11",
          "12",
          "13",
          "14 und mehr",
          "2",
          "3",
          "4",
          "5",
          "6",
          "7",
          "8",
          "9"
         ],
         "xaxis": "x",
         "y": [
          1,
          1,
          1,
          1,
          1,
          1,
          1,
          1,
          1,
          1,
          1,
          1,
          1,
          1
         ],
         "yaxis": "y"
        },
        {
         "hovertemplate": "<b>%{hovertext}</b><br><br>Studiengang=Master<br>Kategorie=%{x}<br>Y-Wert=%{y}<br>Wert=%{marker.size}<extra></extra>",
         "hovertext": [
          "Master",
          "Master",
          "Master",
          "Master",
          "Master",
          "Master",
          "Master",
          "Master",
          "Master",
          "Master",
          "Master",
          "Master",
          "Master",
          "Master"
         ],
         "legendgroup": "Master",
         "marker": {
          "color": "#cc5b6e",
          "opacity": 1,
          "size": [
           229,
           0,
           15,
           0,
           0,
           0,
           65,
           289,
           107,
           180,
           59,
           17,
           17,
           20
          ],
          "sizemode": "area",
          "sizeref": 0.08027777777777778,
          "symbol": "circle"
         },
         "mode": "markers",
         "name": "Master",
         "orientation": "v",
         "showlegend": true,
         "type": "scatter",
         "x": [
          "1",
          "10",
          "11",
          "12",
          "13",
          "14 und mehr",
          "2",
          "3",
          "4",
          "5",
          "6",
          "7",
          "8",
          "9"
         ],
         "xaxis": "x",
         "y": [
          -1,
          -1,
          -1,
          -1,
          -1,
          -1,
          -1,
          -1,
          -1,
          -1,
          -1,
          -1,
          -1,
          -1
         ],
         "yaxis": "y"
        }
       ],
       "layout": {
        "height": 400,
        "legend": {
         "itemsizing": "constant",
         "title": {
          "text": "Studiengang"
         },
         "tracegroupgap": 0
        },
        "showlegend": false,
        "template": {
         "layout": {
          "template": {
           "data": {
            "bar": [
             {
              "error_x": {
               "color": "#2a3f5f"
              },
              "error_y": {
               "color": "#2a3f5f"
              },
              "marker": {
               "line": {
                "color": "white",
                "width": 0.5
               },
               "pattern": {
                "fillmode": "overlay",
                "size": 10,
                "solidity": 0.2
               }
              },
              "type": "bar"
             }
            ],
            "barpolar": [
             {
              "marker": {
               "line": {
                "color": "white",
                "width": 0.5
               },
               "pattern": {
                "fillmode": "overlay",
                "size": 10,
                "solidity": 0.2
               }
              },
              "type": "barpolar"
             }
            ],
            "carpet": [
             {
              "aaxis": {
               "endlinecolor": "#2a3f5f",
               "gridcolor": "#C8D4E3",
               "linecolor": "#C8D4E3",
               "minorgridcolor": "#C8D4E3",
               "startlinecolor": "#2a3f5f"
              },
              "baxis": {
               "endlinecolor": "#2a3f5f",
               "gridcolor": "#C8D4E3",
               "linecolor": "#C8D4E3",
               "minorgridcolor": "#C8D4E3",
               "startlinecolor": "#2a3f5f"
              },
              "type": "carpet"
             }
            ],
            "choropleth": [
             {
              "colorbar": {
               "outlinewidth": 0,
               "ticks": ""
              },
              "type": "choropleth"
             }
            ],
            "contour": [
             {
              "colorbar": {
               "outlinewidth": 0,
               "ticks": ""
              },
              "colorscale": [
               [
                0,
                "#0d0887"
               ],
               [
                0.1111111111111111,
                "#46039f"
               ],
               [
                0.2222222222222222,
                "#7201a8"
               ],
               [
                0.3333333333333333,
                "#9c179e"
               ],
               [
                0.4444444444444444,
                "#bd3786"
               ],
               [
                0.5555555555555556,
                "#d8576b"
               ],
               [
                0.6666666666666666,
                "#ed7953"
               ],
               [
                0.7777777777777778,
                "#fb9f3a"
               ],
               [
                0.8888888888888888,
                "#fdca26"
               ],
               [
                1,
                "#f0f921"
               ]
              ],
              "type": "contour"
             }
            ],
            "contourcarpet": [
             {
              "colorbar": {
               "outlinewidth": 0,
               "ticks": ""
              },
              "type": "contourcarpet"
             }
            ],
            "heatmap": [
             {
              "colorbar": {
               "outlinewidth": 0,
               "ticks": ""
              },
              "colorscale": [
               [
                0,
                "#0d0887"
               ],
               [
                0.1111111111111111,
                "#46039f"
               ],
               [
                0.2222222222222222,
                "#7201a8"
               ],
               [
                0.3333333333333333,
                "#9c179e"
               ],
               [
                0.4444444444444444,
                "#bd3786"
               ],
               [
                0.5555555555555556,
                "#d8576b"
               ],
               [
                0.6666666666666666,
                "#ed7953"
               ],
               [
                0.7777777777777778,
                "#fb9f3a"
               ],
               [
                0.8888888888888888,
                "#fdca26"
               ],
               [
                1,
                "#f0f921"
               ]
              ],
              "type": "heatmap"
             }
            ],
            "heatmapgl": [
             {
              "colorbar": {
               "outlinewidth": 0,
               "ticks": ""
              },
              "colorscale": [
               [
                0,
                "#0d0887"
               ],
               [
                0.1111111111111111,
                "#46039f"
               ],
               [
                0.2222222222222222,
                "#7201a8"
               ],
               [
                0.3333333333333333,
                "#9c179e"
               ],
               [
                0.4444444444444444,
                "#bd3786"
               ],
               [
                0.5555555555555556,
                "#d8576b"
               ],
               [
                0.6666666666666666,
                "#ed7953"
               ],
               [
                0.7777777777777778,
                "#fb9f3a"
               ],
               [
                0.8888888888888888,
                "#fdca26"
               ],
               [
                1,
                "#f0f921"
               ]
              ],
              "type": "heatmapgl"
             }
            ],
            "histogram": [
             {
              "marker": {
               "pattern": {
                "fillmode": "overlay",
                "size": 10,
                "solidity": 0.2
               }
              },
              "type": "histogram"
             }
            ],
            "histogram2d": [
             {
              "colorbar": {
               "outlinewidth": 0,
               "ticks": ""
              },
              "colorscale": [
               [
                0,
                "#0d0887"
               ],
               [
                0.1111111111111111,
                "#46039f"
               ],
               [
                0.2222222222222222,
                "#7201a8"
               ],
               [
                0.3333333333333333,
                "#9c179e"
               ],
               [
                0.4444444444444444,
                "#bd3786"
               ],
               [
                0.5555555555555556,
                "#d8576b"
               ],
               [
                0.6666666666666666,
                "#ed7953"
               ],
               [
                0.7777777777777778,
                "#fb9f3a"
               ],
               [
                0.8888888888888888,
                "#fdca26"
               ],
               [
                1,
                "#f0f921"
               ]
              ],
              "type": "histogram2d"
             }
            ],
            "histogram2dcontour": [
             {
              "colorbar": {
               "outlinewidth": 0,
               "ticks": ""
              },
              "colorscale": [
               [
                0,
                "#0d0887"
               ],
               [
                0.1111111111111111,
                "#46039f"
               ],
               [
                0.2222222222222222,
                "#7201a8"
               ],
               [
                0.3333333333333333,
                "#9c179e"
               ],
               [
                0.4444444444444444,
                "#bd3786"
               ],
               [
                0.5555555555555556,
                "#d8576b"
               ],
               [
                0.6666666666666666,
                "#ed7953"
               ],
               [
                0.7777777777777778,
                "#fb9f3a"
               ],
               [
                0.8888888888888888,
                "#fdca26"
               ],
               [
                1,
                "#f0f921"
               ]
              ],
              "type": "histogram2dcontour"
             }
            ],
            "mesh3d": [
             {
              "colorbar": {
               "outlinewidth": 0,
               "ticks": ""
              },
              "type": "mesh3d"
             }
            ],
            "parcoords": [
             {
              "line": {
               "colorbar": {
                "outlinewidth": 0,
                "ticks": ""
               }
              },
              "type": "parcoords"
             }
            ],
            "pie": [
             {
              "automargin": true,
              "type": "pie"
             }
            ],
            "scatter": [
             {
              "fillpattern": {
               "fillmode": "overlay",
               "size": 10,
               "solidity": 0.2
              },
              "type": "scatter"
             }
            ],
            "scatter3d": [
             {
              "line": {
               "colorbar": {
                "outlinewidth": 0,
                "ticks": ""
               }
              },
              "marker": {
               "colorbar": {
                "outlinewidth": 0,
                "ticks": ""
               }
              },
              "type": "scatter3d"
             }
            ],
            "scattercarpet": [
             {
              "marker": {
               "colorbar": {
                "outlinewidth": 0,
                "ticks": ""
               }
              },
              "type": "scattercarpet"
             }
            ],
            "scattergeo": [
             {
              "marker": {
               "colorbar": {
                "outlinewidth": 0,
                "ticks": ""
               }
              },
              "type": "scattergeo"
             }
            ],
            "scattergl": [
             {
              "marker": {
               "colorbar": {
                "outlinewidth": 0,
                "ticks": ""
               }
              },
              "type": "scattergl"
             }
            ],
            "scattermapbox": [
             {
              "marker": {
               "colorbar": {
                "outlinewidth": 0,
                "ticks": ""
               }
              },
              "type": "scattermapbox"
             }
            ],
            "scatterpolar": [
             {
              "marker": {
               "colorbar": {
                "outlinewidth": 0,
                "ticks": ""
               }
              },
              "type": "scatterpolar"
             }
            ],
            "scatterpolargl": [
             {
              "marker": {
               "colorbar": {
                "outlinewidth": 0,
                "ticks": ""
               }
              },
              "type": "scatterpolargl"
             }
            ],
            "scatterternary": [
             {
              "marker": {
               "colorbar": {
                "outlinewidth": 0,
                "ticks": ""
               }
              },
              "type": "scatterternary"
             }
            ],
            "surface": [
             {
              "colorbar": {
               "outlinewidth": 0,
               "ticks": ""
              },
              "colorscale": [
               [
                0,
                "#0d0887"
               ],
               [
                0.1111111111111111,
                "#46039f"
               ],
               [
                0.2222222222222222,
                "#7201a8"
               ],
               [
                0.3333333333333333,
                "#9c179e"
               ],
               [
                0.4444444444444444,
                "#bd3786"
               ],
               [
                0.5555555555555556,
                "#d8576b"
               ],
               [
                0.6666666666666666,
                "#ed7953"
               ],
               [
                0.7777777777777778,
                "#fb9f3a"
               ],
               [
                0.8888888888888888,
                "#fdca26"
               ],
               [
                1,
                "#f0f921"
               ]
              ],
              "type": "surface"
             }
            ],
            "table": [
             {
              "cells": {
               "fill": {
                "color": "#EBF0F8"
               },
               "line": {
                "color": "white"
               }
              },
              "header": {
               "fill": {
                "color": "#C8D4E3"
               },
               "line": {
                "color": "white"
               }
              },
              "type": "table"
             }
            ]
           },
           "layout": {
            "annotationdefaults": {
             "arrowcolor": "#2a3f5f",
             "arrowhead": 0,
             "arrowwidth": 1
            },
            "autotypenumbers": "strict",
            "coloraxis": {
             "colorbar": {
              "outlinewidth": 0,
              "ticks": ""
             }
            },
            "colorscale": {
             "diverging": [
              [
               0,
               "#8e0152"
              ],
              [
               0.1,
               "#c51b7d"
              ],
              [
               0.2,
               "#de77ae"
              ],
              [
               0.3,
               "#f1b6da"
              ],
              [
               0.4,
               "#fde0ef"
              ],
              [
               0.5,
               "#f7f7f7"
              ],
              [
               0.6,
               "#e6f5d0"
              ],
              [
               0.7,
               "#b8e186"
              ],
              [
               0.8,
               "#7fbc41"
              ],
              [
               0.9,
               "#4d9221"
              ],
              [
               1,
               "#276419"
              ]
             ],
             "sequential": [
              [
               0,
               "#0d0887"
              ],
              [
               0.1111111111111111,
               "#46039f"
              ],
              [
               0.2222222222222222,
               "#7201a8"
              ],
              [
               0.3333333333333333,
               "#9c179e"
              ],
              [
               0.4444444444444444,
               "#bd3786"
              ],
              [
               0.5555555555555556,
               "#d8576b"
              ],
              [
               0.6666666666666666,
               "#ed7953"
              ],
              [
               0.7777777777777778,
               "#fb9f3a"
              ],
              [
               0.8888888888888888,
               "#fdca26"
              ],
              [
               1,
               "#f0f921"
              ]
             ],
             "sequentialminus": [
              [
               0,
               "#0d0887"
              ],
              [
               0.1111111111111111,
               "#46039f"
              ],
              [
               0.2222222222222222,
               "#7201a8"
              ],
              [
               0.3333333333333333,
               "#9c179e"
              ],
              [
               0.4444444444444444,
               "#bd3786"
              ],
              [
               0.5555555555555556,
               "#d8576b"
              ],
              [
               0.6666666666666666,
               "#ed7953"
              ],
              [
               0.7777777777777778,
               "#fb9f3a"
              ],
              [
               0.8888888888888888,
               "#fdca26"
              ],
              [
               1,
               "#f0f921"
              ]
             ]
            },
            "colorway": [
             "#636efa",
             "#EF553B",
             "#00cc96",
             "#ab63fa",
             "#FFA15A",
             "#19d3f3",
             "#FF6692",
             "#B6E880",
             "#FF97FF",
             "#FECB52"
            ],
            "font": {
             "color": "#2a3f5f"
            },
            "geo": {
             "bgcolor": "white",
             "lakecolor": "white",
             "landcolor": "white",
             "showlakes": true,
             "showland": true,
             "subunitcolor": "#C8D4E3"
            },
            "hoverlabel": {
             "align": "left"
            },
            "hovermode": "closest",
            "mapbox": {
             "style": "light"
            },
            "paper_bgcolor": "white",
            "plot_bgcolor": "white",
            "polar": {
             "angularaxis": {
              "gridcolor": "#EBF0F8",
              "linecolor": "#EBF0F8",
              "ticks": ""
             },
             "bgcolor": "white",
             "radialaxis": {
              "gridcolor": "#EBF0F8",
              "linecolor": "#EBF0F8",
              "ticks": ""
             }
            },
            "scene": {
             "xaxis": {
              "backgroundcolor": "white",
              "gridcolor": "#DFE8F3",
              "gridwidth": 2,
              "linecolor": "#EBF0F8",
              "showbackground": true,
              "ticks": "",
              "zerolinecolor": "#EBF0F8"
             },
             "yaxis": {
              "backgroundcolor": "white",
              "gridcolor": "#DFE8F3",
              "gridwidth": 2,
              "linecolor": "#EBF0F8",
              "showbackground": true,
              "ticks": "",
              "zerolinecolor": "#EBF0F8"
             },
             "zaxis": {
              "backgroundcolor": "white",
              "gridcolor": "#DFE8F3",
              "gridwidth": 2,
              "linecolor": "#EBF0F8",
              "showbackground": true,
              "ticks": "",
              "zerolinecolor": "#EBF0F8"
             }
            },
            "shapedefaults": {
             "line": {
              "color": "#2a3f5f"
             }
            },
            "ternary": {
             "aaxis": {
              "gridcolor": "#DFE8F3",
              "linecolor": "#A2B1C6",
              "ticks": ""
             },
             "baxis": {
              "gridcolor": "#DFE8F3",
              "linecolor": "#A2B1C6",
              "ticks": ""
             },
             "bgcolor": "white",
             "caxis": {
              "gridcolor": "#DFE8F3",
              "linecolor": "#A2B1C6",
              "ticks": ""
             }
            },
            "title": {
             "x": 0.05
            },
            "xaxis": {
             "automargin": true,
             "gridcolor": "#EBF0F8",
             "linecolor": "#EBF0F8",
             "ticks": "",
             "title": {
              "standoff": 15
             },
             "zerolinecolor": "#EBF0F8",
             "zerolinewidth": 2
            },
            "yaxis": {
             "automargin": true,
             "gridcolor": "#EBF0F8",
             "linecolor": "#EBF0F8",
             "ticks": "",
             "title": {
              "standoff": 15
             },
             "zerolinecolor": "#EBF0F8",
             "zerolinewidth": 2
            }
           }
          },
          "title": {
           "font": {
            "color": "black",
            "family": "Arial",
            "size": 20,
            "weight": "bold"
           },
           "subtitle": {
            "font": {
             "color": "gray",
             "size": 13
            },
            "text": "Vergleich der Absoluten Anzahl der Personen nach Abschluss"
           },
           "x": 0,
           "xanchor": "left",
           "xref": "paper"
          },
          "xaxis": {
           "showgrid": false,
           "tickfont": {
            "color": "grey",
            "size": 12
           },
           "ticklabelposition": "outside bottom",
           "ticklabelstandoff": 10,
           "title": {
            "font": {
             "color": "grey",
             "size": 13,
             "weight": "bold"
            },
            "standoff": 15
           },
           "zerolinecolor": "lightgrey"
          },
          "yaxis": {
           "gridcolor": "lightgrey",
           "showgrid": true,
           "tickfont": {
            "color": "grey",
            "size": 12
           },
           "ticklabelposition": "outside left",
           "ticklabelstandoff": 10,
           "title": {
            "font": {
             "color": "grey",
             "size": 13,
             "weight": "bold"
            },
            "standoff": 15
           },
           "zerolinecolor": "lightgrey"
          }
         }
        },
        "title": {
         "text": "Verhältnis der Fachsemester in </b><span style='color:#73c6e9;'>Bachelor</span> <b> und </b><span style='color:#cc5b6e;'>Master</span> <b> für das Jahr 2024"
        },
        "width": 1400,
        "xaxis": {
         "anchor": "y",
         "categoryarray": [
          "1",
          "2",
          "3",
          "4",
          "5",
          "6",
          "7",
          "8",
          "9",
          "10",
          "11",
          "12",
          "13",
          "14 und mehr"
         ],
         "categoryorder": "array",
         "domain": [
          0,
          1
         ],
         "title": {
          "text": "Fachsemester"
         }
        },
        "yaxis": {
         "anchor": "x",
         "domain": [
          0,
          1
         ],
         "showgrid": true,
         "ticktext": [
          "Bachelor",
          "Master"
         ],
         "tickvals": [
          1,
          -1
         ],
         "title": {
          "text": "Abschluss"
         },
         "zerolinecolor": "lightgrey"
        }
       }
      }
     },
     "metadata": {},
     "output_type": "display_data"
    }
   ],
   "source": [
    "infoviz_template = dict(\n",
    "    layout=dict(\n",
    "        template=\"plotly_white\",\n",
    "        title=dict(\n",
    "            font=dict(size=20, family=\"Arial\", weight=\"bold\", color=\"black\"),\n",
    "            xanchor=\"left\",  \n",
    "            xref=\"paper\",\n",
    "            x=0,\n",
    "            subtitle=dict(\n",
    "                text=\"Vergleich der Absoluten Anzahl der Personen nach Abschluss\",\n",
    "                font=dict(color=\"gray\", size=13),\n",
    "            ),\n",
    "        ),\n",
    "        xaxis=dict(\n",
    "            showgrid=False,\n",
    "            zerolinecolor=\"lightgrey\",\n",
    "            tickfont=dict(color=\"grey\", size=12),\n",
    "            title_font=dict(color=\"grey\", weight=\"bold\", size=13),\n",
    "            title_standoff=15,\n",
    "            ticklabelstandoff=10,\n",
    "            ticklabelposition=\"outside bottom\"\n",
    "        ),\n",
    "        yaxis=dict(\n",
    "            showgrid=True, gridcolor=\"lightgrey\",\n",
    "            zerolinecolor=\"lightgrey\",\n",
    "            tickfont=dict(color=\"grey\", size=12),\n",
    "            title_font=dict(color=\"grey\", weight=\"bold\", size=13),\n",
    "            title_standoff=15,\n",
    "            ticklabelstandoff=10,\n",
    "            ticklabelposition=\"outside left\"\n",
    "        ),\n",
    "    )\n",
    ")\n",
    "pio.templates[\"infoviz\"] = infoviz_template\n",
    "\n",
    "df = pd.DataFrame(df_sorted)\n",
    "\n",
    "df['Category'] = df['Category'].str.replace(' (%)', '', regex=False)\n",
    "\n",
    "category_order = [\"1\", \"2\", \"3\", \"4\", \"5\", \"6\", \"7\", \"8\", \"9\", \"10\", \"11\", \"12\", \"13\", \"14 und mehr\"]\n",
    "\n",
    "df['Y-Wert'] = df['Studiengang'].map({'Bachelor': 1, 'Master': -1})\n",
    "\n",
    "\n",
    "fig = px.scatter(df,\n",
    "                 x=\"Category\",\n",
    "                 y=\"Y-Wert\",\n",
    "                 color=\"Studiengang\", \n",
    "                 size=\"Wert\", \n",
    "                 hover_name=\"Studiengang\",\n",
    "                 title=\"Verhältnis der Fachsemester in </b><span style='color:#73c6e9;'>Bachelor</span> <b> und </b><span style='color:#cc5b6e;'>Master</span> <b> für das Jahr 2024\",\n",
    "                 labels={\"Jahr\": \"Jahr\", \"Category\": \"Kategorie\", \"Wert\": \"Wert\"},\n",
    "                 size_max=60,\n",
    "                 category_orders={\"Category\": category_order},\n",
    "                 color_discrete_map={\"Bachelor\": \"#73c6e9\", \"Master\": \"#cc5b6e\"})  \n",
    "\n",
    "\n",
    "\n",
    "fig.update_layout(\n",
    "    template=\"infoviz\", \n",
    "    height=400,\n",
    "    width=1400,\n",
    "    yaxis_title=\"Abschluss\",\n",
    "    xaxis_title=\"Fachsemester\",\n",
    "    yaxis=dict(\n",
    "        tickvals=[1, -1],\n",
    "        ticktext=[\"Bachelor\", \"Master\"],\n",
    "        showgrid=True,\n",
    "        zerolinecolor=\"lightgrey\",\n",
    "       \n",
    "    ),\n",
    "    showlegend=False\n",
    ")\n",
    "fig.update_traces(marker=dict(opacity=1))\n",
    "\n",
    "fig.show()\n"
   ]
  },
  {
   "cell_type": "code",
   "execution_count": null,
   "metadata": {},
   "outputs": [
    {
     "data": {
      "application/vnd.plotly.v1+json": {
       "config": {
        "plotlyServerURL": "https://plot.ly"
       },
       "data": [
        {
         "alignmentgroup": "True",
         "hovertemplate": "Studiengang=Bachelor<br>Fachsemester=%{x}<br>Anzahl der Personen=%{y}<extra></extra>",
         "legendgroup": "Bachelor",
         "marker": {
          "color": "#73c6e9",
          "pattern": {
           "shape": ""
          }
         },
         "name": "Bachelor",
         "offsetgroup": "Bachelor",
         "orientation": "v",
         "showlegend": true,
         "textposition": "auto",
         "type": "bar",
         "x": [
          "1",
          "10",
          "11",
          "12",
          "13",
          "14 und mehr",
          "2",
          "3",
          "4",
          "5",
          "6",
          "7",
          "8",
          "9"
         ],
         "xaxis": "x",
         "y": [
          122,
          7,
          9,
          0,
          3,
          0,
          8,
          90,
          7,
          118,
          36,
          78,
          20,
          10
         ],
         "yaxis": "y"
        },
        {
         "alignmentgroup": "True",
         "hovertemplate": "Studiengang=Master<br>Fachsemester=%{x}<br>Anzahl der Personen=%{y}<extra></extra>",
         "legendgroup": "Master",
         "marker": {
          "color": "#cc5b6e",
          "pattern": {
           "shape": ""
          }
         },
         "name": "Master",
         "offsetgroup": "Master",
         "orientation": "v",
         "showlegend": true,
         "textposition": "auto",
         "type": "bar",
         "x": [
          "1",
          "10",
          "11",
          "12",
          "13",
          "14 und mehr",
          "2",
          "3",
          "4",
          "5",
          "6",
          "7",
          "8",
          "9"
         ],
         "xaxis": "x",
         "y": [
          229,
          0,
          15,
          0,
          0,
          0,
          65,
          289,
          107,
          180,
          59,
          17,
          17,
          20
         ],
         "yaxis": "y"
        }
       ],
       "layout": {
        "barmode": "group",
        "height": 500,
        "legend": {
         "title": {
          "text": "Studiengang"
         },
         "tracegroupgap": 0
        },
        "showlegend": false,
        "template": {
         "layout": {
          "template": {
           "data": {
            "bar": [
             {
              "error_x": {
               "color": "#2a3f5f"
              },
              "error_y": {
               "color": "#2a3f5f"
              },
              "marker": {
               "line": {
                "color": "white",
                "width": 0.5
               },
               "pattern": {
                "fillmode": "overlay",
                "size": 10,
                "solidity": 0.2
               }
              },
              "type": "bar"
             }
            ],
            "barpolar": [
             {
              "marker": {
               "line": {
                "color": "white",
                "width": 0.5
               },
               "pattern": {
                "fillmode": "overlay",
                "size": 10,
                "solidity": 0.2
               }
              },
              "type": "barpolar"
             }
            ],
            "carpet": [
             {
              "aaxis": {
               "endlinecolor": "#2a3f5f",
               "gridcolor": "#C8D4E3",
               "linecolor": "#C8D4E3",
               "minorgridcolor": "#C8D4E3",
               "startlinecolor": "#2a3f5f"
              },
              "baxis": {
               "endlinecolor": "#2a3f5f",
               "gridcolor": "#C8D4E3",
               "linecolor": "#C8D4E3",
               "minorgridcolor": "#C8D4E3",
               "startlinecolor": "#2a3f5f"
              },
              "type": "carpet"
             }
            ],
            "choropleth": [
             {
              "colorbar": {
               "outlinewidth": 0,
               "ticks": ""
              },
              "type": "choropleth"
             }
            ],
            "contour": [
             {
              "colorbar": {
               "outlinewidth": 0,
               "ticks": ""
              },
              "colorscale": [
               [
                0,
                "#0d0887"
               ],
               [
                0.1111111111111111,
                "#46039f"
               ],
               [
                0.2222222222222222,
                "#7201a8"
               ],
               [
                0.3333333333333333,
                "#9c179e"
               ],
               [
                0.4444444444444444,
                "#bd3786"
               ],
               [
                0.5555555555555556,
                "#d8576b"
               ],
               [
                0.6666666666666666,
                "#ed7953"
               ],
               [
                0.7777777777777778,
                "#fb9f3a"
               ],
               [
                0.8888888888888888,
                "#fdca26"
               ],
               [
                1,
                "#f0f921"
               ]
              ],
              "type": "contour"
             }
            ],
            "contourcarpet": [
             {
              "colorbar": {
               "outlinewidth": 0,
               "ticks": ""
              },
              "type": "contourcarpet"
             }
            ],
            "heatmap": [
             {
              "colorbar": {
               "outlinewidth": 0,
               "ticks": ""
              },
              "colorscale": [
               [
                0,
                "#0d0887"
               ],
               [
                0.1111111111111111,
                "#46039f"
               ],
               [
                0.2222222222222222,
                "#7201a8"
               ],
               [
                0.3333333333333333,
                "#9c179e"
               ],
               [
                0.4444444444444444,
                "#bd3786"
               ],
               [
                0.5555555555555556,
                "#d8576b"
               ],
               [
                0.6666666666666666,
                "#ed7953"
               ],
               [
                0.7777777777777778,
                "#fb9f3a"
               ],
               [
                0.8888888888888888,
                "#fdca26"
               ],
               [
                1,
                "#f0f921"
               ]
              ],
              "type": "heatmap"
             }
            ],
            "heatmapgl": [
             {
              "colorbar": {
               "outlinewidth": 0,
               "ticks": ""
              },
              "colorscale": [
               [
                0,
                "#0d0887"
               ],
               [
                0.1111111111111111,
                "#46039f"
               ],
               [
                0.2222222222222222,
                "#7201a8"
               ],
               [
                0.3333333333333333,
                "#9c179e"
               ],
               [
                0.4444444444444444,
                "#bd3786"
               ],
               [
                0.5555555555555556,
                "#d8576b"
               ],
               [
                0.6666666666666666,
                "#ed7953"
               ],
               [
                0.7777777777777778,
                "#fb9f3a"
               ],
               [
                0.8888888888888888,
                "#fdca26"
               ],
               [
                1,
                "#f0f921"
               ]
              ],
              "type": "heatmapgl"
             }
            ],
            "histogram": [
             {
              "marker": {
               "pattern": {
                "fillmode": "overlay",
                "size": 10,
                "solidity": 0.2
               }
              },
              "type": "histogram"
             }
            ],
            "histogram2d": [
             {
              "colorbar": {
               "outlinewidth": 0,
               "ticks": ""
              },
              "colorscale": [
               [
                0,
                "#0d0887"
               ],
               [
                0.1111111111111111,
                "#46039f"
               ],
               [
                0.2222222222222222,
                "#7201a8"
               ],
               [
                0.3333333333333333,
                "#9c179e"
               ],
               [
                0.4444444444444444,
                "#bd3786"
               ],
               [
                0.5555555555555556,
                "#d8576b"
               ],
               [
                0.6666666666666666,
                "#ed7953"
               ],
               [
                0.7777777777777778,
                "#fb9f3a"
               ],
               [
                0.8888888888888888,
                "#fdca26"
               ],
               [
                1,
                "#f0f921"
               ]
              ],
              "type": "histogram2d"
             }
            ],
            "histogram2dcontour": [
             {
              "colorbar": {
               "outlinewidth": 0,
               "ticks": ""
              },
              "colorscale": [
               [
                0,
                "#0d0887"
               ],
               [
                0.1111111111111111,
                "#46039f"
               ],
               [
                0.2222222222222222,
                "#7201a8"
               ],
               [
                0.3333333333333333,
                "#9c179e"
               ],
               [
                0.4444444444444444,
                "#bd3786"
               ],
               [
                0.5555555555555556,
                "#d8576b"
               ],
               [
                0.6666666666666666,
                "#ed7953"
               ],
               [
                0.7777777777777778,
                "#fb9f3a"
               ],
               [
                0.8888888888888888,
                "#fdca26"
               ],
               [
                1,
                "#f0f921"
               ]
              ],
              "type": "histogram2dcontour"
             }
            ],
            "mesh3d": [
             {
              "colorbar": {
               "outlinewidth": 0,
               "ticks": ""
              },
              "type": "mesh3d"
             }
            ],
            "parcoords": [
             {
              "line": {
               "colorbar": {
                "outlinewidth": 0,
                "ticks": ""
               }
              },
              "type": "parcoords"
             }
            ],
            "pie": [
             {
              "automargin": true,
              "type": "pie"
             }
            ],
            "scatter": [
             {
              "fillpattern": {
               "fillmode": "overlay",
               "size": 10,
               "solidity": 0.2
              },
              "type": "scatter"
             }
            ],
            "scatter3d": [
             {
              "line": {
               "colorbar": {
                "outlinewidth": 0,
                "ticks": ""
               }
              },
              "marker": {
               "colorbar": {
                "outlinewidth": 0,
                "ticks": ""
               }
              },
              "type": "scatter3d"
             }
            ],
            "scattercarpet": [
             {
              "marker": {
               "colorbar": {
                "outlinewidth": 0,
                "ticks": ""
               }
              },
              "type": "scattercarpet"
             }
            ],
            "scattergeo": [
             {
              "marker": {
               "colorbar": {
                "outlinewidth": 0,
                "ticks": ""
               }
              },
              "type": "scattergeo"
             }
            ],
            "scattergl": [
             {
              "marker": {
               "colorbar": {
                "outlinewidth": 0,
                "ticks": ""
               }
              },
              "type": "scattergl"
             }
            ],
            "scattermapbox": [
             {
              "marker": {
               "colorbar": {
                "outlinewidth": 0,
                "ticks": ""
               }
              },
              "type": "scattermapbox"
             }
            ],
            "scatterpolar": [
             {
              "marker": {
               "colorbar": {
                "outlinewidth": 0,
                "ticks": ""
               }
              },
              "type": "scatterpolar"
             }
            ],
            "scatterpolargl": [
             {
              "marker": {
               "colorbar": {
                "outlinewidth": 0,
                "ticks": ""
               }
              },
              "type": "scatterpolargl"
             }
            ],
            "scatterternary": [
             {
              "marker": {
               "colorbar": {
                "outlinewidth": 0,
                "ticks": ""
               }
              },
              "type": "scatterternary"
             }
            ],
            "surface": [
             {
              "colorbar": {
               "outlinewidth": 0,
               "ticks": ""
              },
              "colorscale": [
               [
                0,
                "#0d0887"
               ],
               [
                0.1111111111111111,
                "#46039f"
               ],
               [
                0.2222222222222222,
                "#7201a8"
               ],
               [
                0.3333333333333333,
                "#9c179e"
               ],
               [
                0.4444444444444444,
                "#bd3786"
               ],
               [
                0.5555555555555556,
                "#d8576b"
               ],
               [
                0.6666666666666666,
                "#ed7953"
               ],
               [
                0.7777777777777778,
                "#fb9f3a"
               ],
               [
                0.8888888888888888,
                "#fdca26"
               ],
               [
                1,
                "#f0f921"
               ]
              ],
              "type": "surface"
             }
            ],
            "table": [
             {
              "cells": {
               "fill": {
                "color": "#EBF0F8"
               },
               "line": {
                "color": "white"
               }
              },
              "header": {
               "fill": {
                "color": "#C8D4E3"
               },
               "line": {
                "color": "white"
               }
              },
              "type": "table"
             }
            ]
           },
           "layout": {
            "annotationdefaults": {
             "arrowcolor": "#2a3f5f",
             "arrowhead": 0,
             "arrowwidth": 1
            },
            "autotypenumbers": "strict",
            "coloraxis": {
             "colorbar": {
              "outlinewidth": 0,
              "ticks": ""
             }
            },
            "colorscale": {
             "diverging": [
              [
               0,
               "#8e0152"
              ],
              [
               0.1,
               "#c51b7d"
              ],
              [
               0.2,
               "#de77ae"
              ],
              [
               0.3,
               "#f1b6da"
              ],
              [
               0.4,
               "#fde0ef"
              ],
              [
               0.5,
               "#f7f7f7"
              ],
              [
               0.6,
               "#e6f5d0"
              ],
              [
               0.7,
               "#b8e186"
              ],
              [
               0.8,
               "#7fbc41"
              ],
              [
               0.9,
               "#4d9221"
              ],
              [
               1,
               "#276419"
              ]
             ],
             "sequential": [
              [
               0,
               "#0d0887"
              ],
              [
               0.1111111111111111,
               "#46039f"
              ],
              [
               0.2222222222222222,
               "#7201a8"
              ],
              [
               0.3333333333333333,
               "#9c179e"
              ],
              [
               0.4444444444444444,
               "#bd3786"
              ],
              [
               0.5555555555555556,
               "#d8576b"
              ],
              [
               0.6666666666666666,
               "#ed7953"
              ],
              [
               0.7777777777777778,
               "#fb9f3a"
              ],
              [
               0.8888888888888888,
               "#fdca26"
              ],
              [
               1,
               "#f0f921"
              ]
             ],
             "sequentialminus": [
              [
               0,
               "#0d0887"
              ],
              [
               0.1111111111111111,
               "#46039f"
              ],
              [
               0.2222222222222222,
               "#7201a8"
              ],
              [
               0.3333333333333333,
               "#9c179e"
              ],
              [
               0.4444444444444444,
               "#bd3786"
              ],
              [
               0.5555555555555556,
               "#d8576b"
              ],
              [
               0.6666666666666666,
               "#ed7953"
              ],
              [
               0.7777777777777778,
               "#fb9f3a"
              ],
              [
               0.8888888888888888,
               "#fdca26"
              ],
              [
               1,
               "#f0f921"
              ]
             ]
            },
            "colorway": [
             "#636efa",
             "#EF553B",
             "#00cc96",
             "#ab63fa",
             "#FFA15A",
             "#19d3f3",
             "#FF6692",
             "#B6E880",
             "#FF97FF",
             "#FECB52"
            ],
            "font": {
             "color": "#2a3f5f"
            },
            "geo": {
             "bgcolor": "white",
             "lakecolor": "white",
             "landcolor": "white",
             "showlakes": true,
             "showland": true,
             "subunitcolor": "#C8D4E3"
            },
            "hoverlabel": {
             "align": "left"
            },
            "hovermode": "closest",
            "mapbox": {
             "style": "light"
            },
            "paper_bgcolor": "white",
            "plot_bgcolor": "white",
            "polar": {
             "angularaxis": {
              "gridcolor": "#EBF0F8",
              "linecolor": "#EBF0F8",
              "ticks": ""
             },
             "bgcolor": "white",
             "radialaxis": {
              "gridcolor": "#EBF0F8",
              "linecolor": "#EBF0F8",
              "ticks": ""
             }
            },
            "scene": {
             "xaxis": {
              "backgroundcolor": "white",
              "gridcolor": "#DFE8F3",
              "gridwidth": 2,
              "linecolor": "#EBF0F8",
              "showbackground": true,
              "ticks": "",
              "zerolinecolor": "#EBF0F8"
             },
             "yaxis": {
              "backgroundcolor": "white",
              "gridcolor": "#DFE8F3",
              "gridwidth": 2,
              "linecolor": "#EBF0F8",
              "showbackground": true,
              "ticks": "",
              "zerolinecolor": "#EBF0F8"
             },
             "zaxis": {
              "backgroundcolor": "white",
              "gridcolor": "#DFE8F3",
              "gridwidth": 2,
              "linecolor": "#EBF0F8",
              "showbackground": true,
              "ticks": "",
              "zerolinecolor": "#EBF0F8"
             }
            },
            "shapedefaults": {
             "line": {
              "color": "#2a3f5f"
             }
            },
            "ternary": {
             "aaxis": {
              "gridcolor": "#DFE8F3",
              "linecolor": "#A2B1C6",
              "ticks": ""
             },
             "baxis": {
              "gridcolor": "#DFE8F3",
              "linecolor": "#A2B1C6",
              "ticks": ""
             },
             "bgcolor": "white",
             "caxis": {
              "gridcolor": "#DFE8F3",
              "linecolor": "#A2B1C6",
              "ticks": ""
             }
            },
            "title": {
             "x": 0.05
            },
            "xaxis": {
             "automargin": true,
             "gridcolor": "#EBF0F8",
             "linecolor": "#EBF0F8",
             "ticks": "",
             "title": {
              "standoff": 15
             },
             "zerolinecolor": "#EBF0F8",
             "zerolinewidth": 2
            },
            "yaxis": {
             "automargin": true,
             "gridcolor": "#EBF0F8",
             "linecolor": "#EBF0F8",
             "ticks": "",
             "title": {
              "standoff": 15
             },
             "zerolinecolor": "#EBF0F8",
             "zerolinewidth": 2
            }
           }
          },
          "title": {
           "font": {
            "color": "black",
            "family": "Arial",
            "size": 20,
            "weight": "bold"
           },
           "subtitle": {
            "font": {
             "color": "gray",
             "size": 13
            },
            "text": "Vergleich der Absoluten Anzahl der Personen nach Abschluss"
           },
           "x": 0,
           "xanchor": "left",
           "xref": "paper"
          },
          "xaxis": {
           "showgrid": false,
           "tickfont": {
            "color": "grey",
            "size": 12
           },
           "ticklabelposition": "outside bottom",
           "ticklabelstandoff": 10,
           "title": {
            "font": {
             "color": "grey",
             "size": 13,
             "weight": "bold"
            },
            "standoff": 15
           },
           "zerolinecolor": "lightgrey"
          },
          "yaxis": {
           "gridcolor": "lightgrey",
           "showgrid": true,
           "tickfont": {
            "color": "grey",
            "size": 12
           },
           "ticklabelposition": "outside left",
           "ticklabelstandoff": 10,
           "title": {
            "font": {
             "color": "grey",
             "size": 13,
             "weight": "bold"
            },
            "standoff": 15
           },
           "zerolinecolor": "lightgrey"
          }
         }
        },
        "title": {
         "text": "Verhältnis der Fachsemester in </b><span style='color:#73c6e9;'>Bachelor</span> <b> und </b><span style='color:#cc5b6e;'>Master</span> <b> für das Jahr 2024"
        },
        "width": 1200,
        "xaxis": {
         "anchor": "y",
         "categoryarray": [
          "1",
          "2",
          "3",
          "4",
          "5",
          "6",
          "7",
          "8",
          "9",
          "10",
          "11",
          "12",
          "13",
          "14 und mehr"
         ],
         "categoryorder": "array",
         "domain": [
          0,
          1
         ],
         "ticklabelposition": "outside bottom",
         "ticklabelstandoff": 10,
         "title": {
          "text": "Fachsemester"
         }
        },
        "yaxis": {
         "anchor": "x",
         "domain": [
          0,
          1
         ],
         "title": {
          "text": "Anzahl der Personen"
         }
        }
       }
      }
     },
     "metadata": {},
     "output_type": "display_data"
    }
   ],
   "source": [
    "df = pd.DataFrame(df_sorted)\n",
    "\n",
    "df['Category'] = df['Category'].str.replace(' (%)', '', regex=False)\n",
    "\n",
    "category_order = [\"1\", \"2\", \"3\", \"4\", \"5\", \"6\", \"7\", \"8\", \"9\", \"10\", \"11\", \"12\", \"13\", \"14 und mehr\"]\n",
    "\n",
    "df['Y-Wert'] = df['Studiengang'].map({'Bachelor': 1, 'Master': -1})\n",
    "\n",
    "fig = px.bar(df,\n",
    "             x=\"Category\",\n",
    "             y=\"Wert\",\n",
    "             color=\"Studiengang\",\n",
    "             barmode=\"group\",\n",
    "             title=\"Verhältnis der Fachsemester in </b><span style='color:#73c6e9;'>Bachelor</span> <b> und </b><span style='color:#cc5b6e;'>Master</span> <b> für das Jahr 2024\",\n",
    "             labels={\"Category\": \"Fachsemester\", \"Wert\": \"Anzahl der Personen\"},\n",
    "             category_orders={\"Category\": category_order},\n",
    "             color_discrete_map={\"Bachelor\": \"#73c6e9\", \"Master\": \"#cc5b6e\"})\n",
    "\n",
    "fig.update_layout(\n",
    "    template=\"infoviz\",\n",
    "    height=500, \n",
    "    width=1200,\n",
    "    yaxis_title=\"Anzahl der Personen\",\n",
    "    xaxis_title=\"Fachsemester\",\n",
    "    xaxis=dict(\n",
    "        ticklabelstandoff=10,\n",
    "        ticklabelposition=\"outside bottom\",\n",
    "    ),\n",
    "    showlegend=False,\n",
    ")\n",
    "\n",
    "fig.show()"
   ]
  },
  {
   "cell_type": "code",
   "execution_count": null,
   "metadata": {},
   "outputs": [],
   "source": []
  },
  {
   "cell_type": "code",
   "execution_count": null,
   "metadata": {},
   "outputs": [],
   "source": []
  }
 ],
 "metadata": {
  "kernelspec": {
   "display_name": "mein_env",
   "language": "python",
   "name": "python3"
  },
  "language_info": {
   "codemirror_mode": {
    "name": "ipython",
    "version": 3
   },
   "file_extension": ".py",
   "mimetype": "text/x-python",
   "name": "python",
   "nbconvert_exporter": "python",
   "pygments_lexer": "ipython3",
   "version": "3.10.16"
  }
 },
 "nbformat": 4,
 "nbformat_minor": 2
}
