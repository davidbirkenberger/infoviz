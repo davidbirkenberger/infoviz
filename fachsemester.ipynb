{
 "cells": [
  {
   "cell_type": "code",
   "execution_count": 310,
   "metadata": {},
   "outputs": [],
   "source": [
    "import pandas as pd\n",
    "import plotly.io as pio\n",
    "import plotly.express as px\n",
    "\n",
    "# Benutzerdefiniertes Template definieren\n",
    "infoviz_template = dict(\n",
    "    layout=dict(\n",
    "        template=\"plotly_white\",\n",
    "        title=dict(\n",
    "            font=dict(size=20, family=\"Arial\", weight=\"bold\", color=\"black\"),\n",
    "            y=0.91,  # Titel weiter nach oben\n",
    "            x=0.05,  # Links ausgerichtet\n",
    "            xanchor=\"left\",  # Linksbündig\n",
    "        ),\n",
    "        xaxis=dict(\n",
    "            showgrid=False,\n",
    "            zerolinecolor=\"lightgrey\",\n",
    "            tickfont=dict(color=\"grey\", size=12),\n",
    "            title_font=dict(color=\"grey\", weight=\"bold\", size=13),\n",
    "            title_standoff=15,\n",
    "            ticklabelposition=\"outside bottom\"\n",
    "        ),\n",
    "        yaxis=dict(\n",
    "            showgrid=True, gridcolor=\"lightgrey\",\n",
    "            zerolinecolor=\"lightgrey\",\n",
    "            tickfont=dict(color=\"grey\", size=12),\n",
    "            title_font=dict(color=\"grey\", weight=\"bold\", size=13),\n",
    "            title_standoff=15,\n",
    "            ticklabelposition=\"outside left\"\n",
    "        ),\n",
    "    )\n",
    ")\n",
    "pio.templates[\"infoviz\"] = infoviz_template"
   ]
  },
  {
   "cell_type": "code",
   "execution_count": 311,
   "metadata": {},
   "outputs": [],
   "source": [
    "years = [str(year) for year in range(2013, 2025)]\n",
    "\n",
    "df = pd.read_excel(\"data.xlsx\", sheet_name=years)\n",
    "\n",
    "data_list = []\n",
    "\n",
    "for year, df in df.items():\n",
    "    # Füge das Jahr als neue Spalte hinzu\n",
    "    df['Jahr'] = year\n",
    "    \n",
    "    # Füge den DataFrame der Liste hinzu\n",
    "    data_list.append(df)\n",
    "\n",
    "# Alle DataFrames in der Liste zu einem einzigen DataFrame zusammenführen\n",
    "final_df = pd.concat(data_list, ignore_index=True)\n"
   ]
  },
  {
   "cell_type": "code",
   "execution_count": 312,
   "metadata": {},
   "outputs": [
    {
     "data": {
      "application/vnd.microsoft.datawrangler.viewer.v0+json": {
       "columns": [
        {
         "name": "index",
         "rawType": "int64",
         "type": "integer"
        },
        {
         "name": "Variable",
         "rawType": "object",
         "type": "string"
        },
        {
         "name": "Category",
         "rawType": "object",
         "type": "string"
        },
        {
         "name": "Bachelor Agrarwissenschaften",
         "rawType": "object",
         "type": "unknown"
        },
        {
         "name": "Bachelor Ernährungswissenschaften",
         "rawType": "float64",
         "type": "float"
        },
        {
         "name": "Bachelor Nachwachsende Rohstoffe und Bioressourcen",
         "rawType": "float64",
         "type": "float"
        },
        {
         "name": "Bachelor Ökotrophologie",
         "rawType": "object",
         "type": "unknown"
        },
        {
         "name": "Bachelor Umwelt und globaler Wandel",
         "rawType": "float64",
         "type": "float"
        },
        {
         "name": "Master Ernährungswissenschaften ",
         "rawType": "float64",
         "type": "float"
        },
        {
         "name": "Master  Ernährungsökonomie*",
         "rawType": "float64",
         "type": "float"
        },
        {
         "name": "Master  Agrarökonomie und Betriebsmanagement",
         "rawType": "float64",
         "type": "float"
        },
        {
         "name": "Master Nutztierwissenschaften",
         "rawType": "float64",
         "type": "float"
        },
        {
         "name": "Master Pflanzenproduktion",
         "rawType": "float64",
         "type": "float"
        },
        {
         "name": "Master Oenologie/Weinwirtschaft*",
         "rawType": "float64",
         "type": "float"
        },
        {
         "name": "Master Haushalts- und Dienstleistungswissenschaften\n",
         "rawType": "float64",
         "type": "float"
        },
        {
         "name": "Master Umwelt- und Ressourcenmanagement",
         "rawType": "float64",
         "type": "float"
        },
        {
         "name": "Master Getränketechnologie",
         "rawType": "float64",
         "type": "float"
        },
        {
         "name": "Jahr",
         "rawType": "object",
         "type": "string"
        },
        {
         "name": "Master Getränketechnologi",
         "rawType": "float64",
         "type": "float"
        },
        {
         "name": "Master Agrar- und Ressourcenökonomie",
         "rawType": "float64",
         "type": "float"
        },
        {
         "name": "Master Umweltwissenschaften",
         "rawType": "float64",
         "type": "float"
        },
        {
         "name": "Master Transition Management\n",
         "rawType": "float64",
         "type": "float"
        },
        {
         "name": "Master Ökotrophologie",
         "rawType": "float64",
         "type": "float"
        },
        {
         "name": "Master Agrobiotechnologie\n",
         "rawType": "float64",
         "type": "float"
        },
        {
         "name": "Master Insect Biotechnology and Bioresources",
         "rawType": "float64",
         "type": "float"
        },
        {
         "name": "Bachelor Umweltmanagement",
         "rawType": "float64",
         "type": "float"
        },
        {
         "name": "Master Agrobiotechnologie",
         "rawType": "float64",
         "type": "float"
        },
        {
         "name": "Master Ernährungsökonomie",
         "rawType": "float64",
         "type": "float"
        },
        {
         "name": "Master Nutzpflanzenwissenschaften",
         "rawType": "float64",
         "type": "float"
        },
        {
         "name": "Master Oenologie/Weinwirtschaft",
         "rawType": "float64",
         "type": "float"
        },
        {
         "name": "Master Transition Management",
         "rawType": "float64",
         "type": "float"
        },
        {
         "name": "Master Sustainable Transition*",
         "rawType": "float64",
         "type": "float"
        },
        {
         "name": "Master Agrar- und Ressourcenökonomie*",
         "rawType": "float64",
         "type": "float"
        },
        {
         "name": "Master Getränketechnologie*",
         "rawType": "float64",
         "type": "float"
        },
        {
         "name": "Master Informationstechnologie in den Agrar- und Umweltwissenschaften*",
         "rawType": "float64",
         "type": "float"
        },
        {
         "name": "Master Nachhaltige Ernährungswirtschaft",
         "rawType": "float64",
         "type": "float"
        },
        {
         "name": "Master Sustainable Transition",
         "rawType": "float64",
         "type": "float"
        },
        {
         "name": "Master Nutztierwissenschaften*",
         "rawType": "float64",
         "type": "float"
        }
       ],
       "conversionMethod": "pd.DataFrame",
       "ref": "bd1dcc0d-0dd0-4758-a888-c0aa5acdf740",
       "rows": [
        [
         "22",
         "Fachsemester",
         "1 (%)",
         "36.0",
         "36.0",
         null,
         "31.0",
         "32.0",
         "21.0",
         "19.0",
         "40.0",
         "25.0",
         "42.0",
         "56.0",
         "19.0",
         "33.0",
         "100.0",
         "2013",
         null,
         null,
         null,
         null,
         null,
         null,
         null,
         null,
         null,
         null,
         null,
         null,
         null,
         null,
         null,
         null,
         null,
         null,
         null,
         null
        ],
        [
         "23",
         "Fachsemester",
         "2 (%)",
         "2.0",
         null,
         null,
         null,
         null,
         "9.0",
         "19.0",
         "20.0",
         "25.0",
         null,
         "11.0",
         "14.0",
         "10.0",
         null,
         "2013",
         null,
         null,
         null,
         null,
         null,
         null,
         null,
         null,
         null,
         null,
         null,
         null,
         null,
         null,
         null,
         null,
         null,
         null,
         null,
         null
        ],
        [
         "24",
         "Fachsemester",
         "3 (%)",
         "33.0",
         "28.0",
         null,
         "30.0",
         "35.0",
         "34.0",
         "26.0",
         "20.0",
         "38.0",
         "33.0",
         "22.0",
         "29.0",
         "37.0",
         null,
         "2013",
         null,
         null,
         null,
         null,
         null,
         null,
         null,
         null,
         null,
         null,
         null,
         null,
         null,
         null,
         null,
         null,
         null,
         null,
         null,
         null
        ],
        [
         "25",
         "Fachsemester",
         "4 (%)",
         null,
         "1.0",
         null,
         "1.0",
         null,
         "13.0",
         "10.0",
         "10.0",
         "13.0",
         "8.0",
         null,
         "24.0",
         "4.0",
         null,
         "2013",
         null,
         null,
         null,
         null,
         null,
         null,
         null,
         null,
         null,
         null,
         null,
         null,
         null,
         null,
         null,
         null,
         null,
         null,
         null,
         null
        ],
        [
         "26",
         "Fachsemester",
         "5 (%)",
         "20.0",
         "24.0",
         null,
         "25.0",
         "26.0",
         "16.0",
         "16.0",
         "10.0",
         null,
         "17.0",
         null,
         "5.0",
         "14.0",
         null,
         "2013",
         null,
         null,
         null,
         null,
         null,
         null,
         null,
         null,
         null,
         null,
         null,
         null,
         null,
         null,
         null,
         null,
         null,
         null,
         null,
         null
        ],
        [
         "27",
         "Fachsemester",
         "6 (%)",
         "2.0",
         "2.0",
         null,
         "1.0",
         "3.0",
         "6.0",
         "6.0",
         null,
         null,
         null,
         null,
         "5.0",
         null,
         null,
         "2013",
         null,
         null,
         null,
         null,
         null,
         null,
         null,
         null,
         null,
         null,
         null,
         null,
         null,
         null,
         null,
         null,
         null,
         null,
         null,
         null
        ],
        [
         "28",
         "Fachsemester",
         "7 (%)",
         "3.0",
         "8.0",
         null,
         "11.0",
         "5.0",
         null,
         "3.0",
         null,
         null,
         null,
         null,
         "5.0",
         null,
         null,
         "2013",
         null,
         null,
         null,
         null,
         null,
         null,
         null,
         null,
         null,
         null,
         null,
         null,
         null,
         null,
         null,
         null,
         null,
         null,
         null,
         null
        ],
        [
         "29",
         "Fachsemester",
         "8 (%)",
         "1.0",
         null,
         null,
         null,
         null,
         "1.0",
         null,
         null,
         null,
         null,
         null,
         null,
         null,
         null,
         "2013",
         null,
         null,
         null,
         null,
         null,
         null,
         null,
         null,
         null,
         null,
         null,
         null,
         null,
         null,
         null,
         null,
         null,
         null,
         null,
         null
        ],
        [
         "30",
         "Fachsemester",
         "9 (%)",
         null,
         null,
         null,
         "2.0",
         null,
         null,
         null,
         null,
         null,
         null,
         null,
         null,
         null,
         null,
         "2013",
         null,
         null,
         null,
         null,
         null,
         null,
         null,
         null,
         null,
         null,
         null,
         null,
         null,
         null,
         null,
         null,
         null,
         null,
         null,
         null
        ],
        [
         "31",
         "Fachsemester",
         "10 (%)",
         null,
         null,
         null,
         null,
         null,
         null,
         null,
         null,
         null,
         null,
         "11.0",
         null,
         null,
         null,
         "2013",
         null,
         null,
         null,
         null,
         null,
         null,
         null,
         null,
         null,
         null,
         null,
         null,
         null,
         null,
         null,
         null,
         null,
         null,
         null,
         null
        ],
        [
         "32",
         "Fachsemester",
         "11 (%)",
         "1.0",
         null,
         null,
         null,
         null,
         null,
         null,
         null,
         null,
         null,
         null,
         null,
         null,
         null,
         "2013",
         null,
         null,
         null,
         null,
         null,
         null,
         null,
         null,
         null,
         null,
         null,
         null,
         null,
         null,
         null,
         null,
         null,
         null,
         null,
         null
        ],
        [
         "33",
         "Fachsemester",
         "12 (%)",
         null,
         null,
         null,
         null,
         null,
         null,
         null,
         null,
         null,
         null,
         null,
         null,
         null,
         null,
         "2013",
         null,
         null,
         null,
         null,
         null,
         null,
         null,
         null,
         null,
         null,
         null,
         null,
         null,
         null,
         null,
         null,
         null,
         null,
         null,
         null
        ],
        [
         "34",
         "Fachsemester",
         "13 (%)",
         null,
         null,
         null,
         null,
         null,
         null,
         null,
         null,
         null,
         null,
         null,
         null,
         null,
         null,
         "2013",
         null,
         null,
         null,
         null,
         null,
         null,
         null,
         null,
         null,
         null,
         null,
         null,
         null,
         null,
         null,
         null,
         null,
         null,
         null,
         null
        ],
        [
         "35",
         "Fachsemester",
         "14 und mehr (%)",
         null,
         null,
         null,
         null,
         null,
         null,
         null,
         null,
         null,
         null,
         null,
         null,
         null,
         null,
         "2013",
         null,
         null,
         null,
         null,
         null,
         null,
         null,
         null,
         null,
         null,
         null,
         null,
         null,
         null,
         null,
         null,
         null,
         null,
         null,
         null
        ],
        [
         "36",
         "Fachsemester",
         "Gesamt (%)",
         "100.0",
         "100.0",
         null,
         "100.0",
         "100.0",
         "100.0",
         "100.0",
         "100.0",
         "100.0",
         "100.0",
         "100.0",
         "100.0",
         "100.0",
         "100.0",
         "2013",
         null,
         null,
         null,
         null,
         null,
         null,
         null,
         null,
         null,
         null,
         null,
         null,
         null,
         null,
         null,
         null,
         null,
         null,
         null,
         null
        ],
        [
         "37",
         "Fachsemester",
         "Anzahl",
         "88.0",
         "96.0",
         null,
         "144.0",
         "78.0",
         "68.0",
         "31.0",
         "10.0",
         "8.0",
         "12.0",
         "9.0",
         "21.0",
         "49.0",
         "5.0",
         "2013",
         null,
         null,
         null,
         null,
         null,
         null,
         null,
         null,
         null,
         null,
         null,
         null,
         null,
         null,
         null,
         null,
         null,
         null,
         null,
         null
        ],
        [
         "91",
         "Fachsemester",
         "1 (%)",
         "42.0",
         "33.0",
         null,
         "41.0",
         "42.0",
         "26.0",
         "23.0",
         "11.0",
         "20.0",
         "50.0",
         "42.0",
         null,
         "27.0",
         null,
         "2014",
         "38.0",
         null,
         null,
         null,
         null,
         null,
         null,
         null,
         null,
         null,
         null,
         null,
         null,
         null,
         null,
         null,
         null,
         null,
         null,
         null
        ],
        [
         "92",
         "Fachsemester",
         "2 (%)",
         null,
         "1.0",
         null,
         null,
         null,
         "6.0",
         "20.0",
         "11.0",
         "20.0",
         "10.0",
         null,
         null,
         "13.0",
         null,
         "2014",
         null,
         null,
         null,
         null,
         null,
         null,
         null,
         null,
         null,
         null,
         null,
         null,
         null,
         null,
         null,
         null,
         null,
         null,
         null,
         null
        ],
        [
         "93",
         "Fachsemester",
         "3 (%)",
         "23.0",
         "36.0",
         null,
         "27.0",
         "20.0",
         "21.0",
         "11.0",
         "33.0",
         "60.0",
         "20.0",
         "25.0",
         "17.0",
         "23.0",
         null,
         "2014",
         "50.0",
         null,
         null,
         null,
         null,
         null,
         null,
         null,
         null,
         null,
         null,
         null,
         null,
         null,
         null,
         null,
         null,
         null,
         null,
         null
        ],
        [
         "94",
         "Fachsemester",
         "4 (%)",
         null,
         "1.0",
         null,
         "1.0",
         "1.0",
         "14.0",
         "16.0",
         "22.0",
         null,
         "10.0",
         "17.0",
         "42.0",
         "6.0",
         null,
         "2014",
         null,
         null,
         null,
         null,
         null,
         null,
         null,
         null,
         null,
         null,
         null,
         null,
         null,
         null,
         null,
         null,
         null,
         null,
         null,
         null
        ],
        [
         "95",
         "Fachsemester",
         "5 (%)",
         "27.0",
         "25.0",
         null,
         "20.0",
         "25.0",
         "24.0",
         "20.0",
         "22.0",
         null,
         "10.0",
         "17.0",
         "33.0",
         "27.0",
         null,
         "2014",
         "13.0",
         null,
         null,
         null,
         null,
         null,
         null,
         null,
         null,
         null,
         null,
         null,
         null,
         null,
         null,
         null,
         null,
         null,
         null,
         null
        ],
        [
         "96",
         "Fachsemester",
         "6 (%)",
         null,
         null,
         null,
         "1.0",
         "1.0",
         "4.0",
         "5.0",
         null,
         null,
         null,
         null,
         null,
         "2.0",
         null,
         "2014",
         null,
         null,
         null,
         null,
         null,
         null,
         null,
         null,
         null,
         null,
         null,
         null,
         null,
         null,
         null,
         null,
         null,
         null,
         null,
         null
        ],
        [
         "97",
         "Fachsemester",
         "7 (%)",
         "7.0",
         "2.0",
         null,
         "10.0",
         "11.0",
         "1.0",
         "2.0",
         null,
         null,
         null,
         null,
         "8.0",
         null,
         null,
         "2014",
         null,
         null,
         null,
         null,
         null,
         null,
         null,
         null,
         null,
         null,
         null,
         null,
         null,
         null,
         null,
         null,
         null,
         null,
         null,
         null
        ],
        [
         "98",
         "Fachsemester",
         "8 (%)",
         null,
         null,
         null,
         null,
         null,
         null,
         "2.0",
         null,
         null,
         null,
         null,
         null,
         "2.0",
         null,
         "2014",
         null,
         null,
         null,
         null,
         null,
         null,
         null,
         null,
         null,
         null,
         null,
         null,
         null,
         null,
         null,
         null,
         null,
         null,
         null,
         null
        ],
        [
         "99",
         "Fachsemester",
         "9 (%)",
         "1.0",
         "1.0",
         null,
         "1.0",
         null,
         "1.0",
         null,
         null,
         null,
         null,
         null,
         null,
         null,
         null,
         "2014",
         null,
         null,
         null,
         null,
         null,
         null,
         null,
         null,
         null,
         null,
         null,
         null,
         null,
         null,
         null,
         null,
         null,
         null,
         null,
         null
        ],
        [
         "100",
         "Fachsemester",
         "10 (%)",
         null,
         null,
         null,
         null,
         null,
         null,
         null,
         null,
         null,
         null,
         null,
         null,
         null,
         null,
         "2014",
         null,
         null,
         null,
         null,
         null,
         null,
         null,
         null,
         null,
         null,
         null,
         null,
         null,
         null,
         null,
         null,
         null,
         null,
         null,
         null
        ],
        [
         "101",
         "Fachsemester",
         "11 (%)",
         null,
         null,
         null,
         null,
         null,
         "1.0",
         null,
         null,
         null,
         null,
         null,
         null,
         null,
         null,
         "2014",
         null,
         null,
         null,
         null,
         null,
         null,
         null,
         null,
         null,
         null,
         null,
         null,
         null,
         null,
         null,
         null,
         null,
         null,
         null,
         null
        ],
        [
         "102",
         "Fachsemester",
         "12 (%)",
         null,
         null,
         null,
         null,
         null,
         null,
         null,
         null,
         null,
         null,
         null,
         null,
         null,
         null,
         "2014",
         null,
         null,
         null,
         null,
         null,
         null,
         null,
         null,
         null,
         null,
         null,
         null,
         null,
         null,
         null,
         null,
         null,
         null,
         null,
         null
        ],
        [
         "103",
         "Fachsemester",
         "13 (%)",
         null,
         null,
         null,
         null,
         null,
         null,
         null,
         null,
         null,
         null,
         null,
         null,
         null,
         null,
         "2014",
         null,
         null,
         null,
         null,
         null,
         null,
         null,
         null,
         null,
         null,
         null,
         null,
         null,
         null,
         null,
         null,
         null,
         null,
         null,
         null
        ],
        [
         "104",
         "Fachsemester",
         "14 und mehr (%)",
         null,
         null,
         null,
         null,
         null,
         null,
         null,
         null,
         null,
         null,
         null,
         null,
         null,
         null,
         "2014",
         null,
         null,
         null,
         null,
         null,
         null,
         null,
         null,
         null,
         null,
         null,
         null,
         null,
         null,
         null,
         null,
         null,
         null,
         null,
         null
        ],
        [
         "105",
         "Fachsemester",
         "Gesamt (%)",
         "100.0",
         "100.0",
         null,
         "100.0",
         "100.0",
         "100.0",
         "100.0",
         "100.0",
         "100.0",
         "100.0",
         "100.0",
         "100.0",
         "100.0",
         null,
         "2014",
         "100.0",
         null,
         null,
         null,
         null,
         null,
         null,
         null,
         null,
         null,
         null,
         null,
         null,
         null,
         null,
         null,
         null,
         null,
         null,
         null
        ],
        [
         "106",
         "Fachsemester",
         "Anzahl",
         "90.0",
         "88.0",
         null,
         "167.0",
         "106.0",
         "70.0",
         "44.0",
         "9.0",
         "5.0",
         "10.0",
         "12.0",
         "12.0",
         "52.0",
         null,
         "2014",
         "8.0",
         null,
         null,
         null,
         null,
         null,
         null,
         null,
         null,
         null,
         null,
         null,
         null,
         null,
         null,
         null,
         null,
         null,
         null,
         null
        ],
        [
         "160",
         "Fachsemester",
         "1 (%)",
         "44.0",
         "42.0",
         null,
         "33.0",
         "42.0",
         "28.0",
         "11.0",
         null,
         "62.0",
         "43.0",
         "50.0",
         null,
         null,
         null,
         "2015",
         "71.0",
         null,
         null,
         null,
         null,
         null,
         null,
         null,
         null,
         null,
         null,
         null,
         null,
         null,
         null,
         null,
         null,
         null,
         null,
         null
        ],
        [
         "161",
         "Fachsemester",
         "2 (%)",
         null,
         "1.0",
         null,
         null,
         null,
         "10.0",
         "30.0",
         null,
         null,
         null,
         "14.0",
         null,
         null,
         null,
         "2015",
         null,
         null,
         null,
         null,
         null,
         null,
         null,
         null,
         null,
         null,
         null,
         null,
         null,
         null,
         null,
         null,
         null,
         null,
         null,
         null
        ],
        [
         "162",
         "Fachsemester",
         "3 (%)",
         "23.0",
         "23.0",
         null,
         "31.0",
         "27.0",
         "32.0",
         "16.0",
         null,
         "15.0",
         "29.0",
         "29.0",
         null,
         null,
         null,
         "2015",
         null,
         null,
         null,
         null,
         null,
         null,
         null,
         null,
         null,
         null,
         null,
         null,
         null,
         null,
         null,
         null,
         null,
         null,
         null,
         null
        ],
        [
         "163",
         "Fachsemester",
         "4 (%)",
         "3.0",
         "1.0",
         null,
         "1.0",
         null,
         "7.0",
         "22.0",
         null,
         "15.0",
         null,
         null,
         null,
         null,
         null,
         "2015",
         "14.0",
         null,
         null,
         null,
         null,
         null,
         null,
         null,
         null,
         null,
         null,
         null,
         null,
         null,
         null,
         null,
         null,
         null,
         null,
         null
        ],
        [
         "164",
         "Fachsemester",
         "5 (%)",
         "21.0",
         "24.0",
         null,
         "23.0",
         "16.0",
         "14.0",
         "14.0",
         null,
         "8.0",
         "14.0",
         "7.0",
         null,
         null,
         null,
         "2015",
         "14.0",
         null,
         null,
         null,
         null,
         null,
         null,
         null,
         null,
         null,
         null,
         null,
         null,
         null,
         null,
         null,
         null,
         null,
         null,
         null
        ],
        [
         "165",
         "Fachsemester",
         "6 (%)",
         "4.0",
         null,
         null,
         "1.0",
         "1.0",
         "6.0",
         "5.0",
         null,
         null,
         "14.0",
         null,
         null,
         null,
         null,
         "2015",
         null,
         null,
         null,
         null,
         null,
         null,
         null,
         null,
         null,
         null,
         null,
         null,
         null,
         null,
         null,
         null,
         null,
         null,
         null,
         null
        ],
        [
         "166",
         "Fachsemester",
         "7 (%)",
         "5.0",
         "9.0",
         null,
         "9.0",
         "12.0",
         "3.0",
         "0.0",
         null,
         null,
         null,
         null,
         null,
         null,
         null,
         "2015",
         null,
         null,
         null,
         null,
         null,
         null,
         null,
         null,
         null,
         null,
         null,
         null,
         null,
         null,
         null,
         null,
         null,
         null,
         null,
         null
        ],
        [
         "167",
         "Fachsemester",
         "8 (%)",
         null,
         null,
         null,
         "1.0",
         "1.0",
         null,
         "3.0",
         null,
         null,
         null,
         null,
         null,
         null,
         null,
         "2015",
         null,
         null,
         null,
         null,
         null,
         null,
         null,
         null,
         null,
         null,
         null,
         null,
         null,
         null,
         null,
         null,
         null,
         null,
         null,
         null
        ],
        [
         "168",
         "Fachsemester",
         "9 (%)",
         null,
         null,
         null,
         "1.0",
         "1.0",
         null,
         null,
         null,
         null,
         null,
         null,
         null,
         null,
         null,
         "2015",
         null,
         null,
         null,
         null,
         null,
         null,
         null,
         null,
         null,
         null,
         null,
         null,
         null,
         null,
         null,
         null,
         null,
         null,
         null,
         null
        ],
        [
         "169",
         "Fachsemester",
         "10 (%)",
         null,
         null,
         null,
         "1.0",
         null,
         null,
         null,
         null,
         null,
         null,
         null,
         null,
         null,
         null,
         "2015",
         null,
         null,
         null,
         null,
         null,
         null,
         null,
         null,
         null,
         null,
         null,
         null,
         null,
         null,
         null,
         null,
         null,
         null,
         null,
         null
        ],
        [
         "170",
         "Fachsemester",
         "11 (%)",
         null,
         null,
         null,
         null,
         null,
         null,
         null,
         null,
         null,
         null,
         null,
         null,
         null,
         null,
         "2015",
         null,
         null,
         null,
         null,
         null,
         null,
         null,
         null,
         null,
         null,
         null,
         null,
         null,
         null,
         null,
         null,
         null,
         null,
         null,
         null
        ],
        [
         "171",
         "Fachsemester",
         "12 (%)",
         null,
         null,
         null,
         "1.0",
         null,
         null,
         null,
         null,
         null,
         null,
         null,
         null,
         null,
         null,
         "2015",
         null,
         null,
         null,
         null,
         null,
         null,
         null,
         null,
         null,
         null,
         null,
         null,
         null,
         null,
         null,
         null,
         null,
         null,
         null,
         null
        ],
        [
         "172",
         "Fachsemester",
         "13 (%)",
         "1.0",
         null,
         null,
         null,
         null,
         null,
         null,
         null,
         null,
         null,
         null,
         null,
         null,
         null,
         "2015",
         null,
         null,
         null,
         null,
         null,
         null,
         null,
         null,
         null,
         null,
         null,
         null,
         null,
         null,
         null,
         null,
         null,
         null,
         null,
         null
        ],
        [
         "173",
         "Fachsemester",
         "14 und mehr (%)",
         null,
         null,
         null,
         null,
         null,
         null,
         null,
         null,
         null,
         null,
         null,
         null,
         null,
         null,
         "2015",
         null,
         null,
         null,
         null,
         null,
         null,
         null,
         null,
         null,
         null,
         null,
         null,
         null,
         null,
         null,
         null,
         null,
         null,
         null,
         null
        ],
        [
         "174",
         "Fachsemester",
         "Gesamt (%)",
         "100.0",
         "100.0",
         null,
         "100.0",
         "100.0",
         "100.0",
         "100.0",
         null,
         "100.0",
         "100.0",
         "100.0",
         null,
         null,
         null,
         "2015",
         "100.0",
         null,
         null,
         null,
         null,
         null,
         null,
         null,
         null,
         null,
         null,
         null,
         null,
         null,
         null,
         null,
         null,
         null,
         null,
         null
        ],
        [
         "175",
         "Fachsemester",
         "Anzahl",
         "78.0",
         "96.0",
         null,
         "160.0",
         "93.0",
         "69.0",
         "37.0",
         null,
         "13.0",
         "7.0",
         "14.0",
         null,
         null,
         null,
         "2015",
         "7.0",
         null,
         null,
         null,
         null,
         null,
         null,
         null,
         null,
         null,
         null,
         null,
         null,
         null,
         null,
         null,
         null,
         null,
         null,
         null
        ],
        [
         "229",
         "Fachsemester",
         "1 (%)",
         "40.0",
         "31.0",
         null,
         "34.0",
         "32.0",
         "42.0",
         "30.0",
         null,
         "25.0",
         "38.0",
         "60.0",
         null,
         null,
         null,
         "2016",
         "56.0",
         "40.0",
         "22.0",
         "40.0",
         null,
         null,
         null,
         null,
         null,
         null,
         null,
         null,
         null,
         null,
         null,
         null,
         null,
         null,
         null,
         null
        ],
        [
         "230",
         "Fachsemester",
         "2 (%)",
         "1.0",
         null,
         null,
         "1.0",
         null,
         "17.0",
         "4.0",
         null,
         "8.0",
         "15.0",
         "20.0",
         null,
         null,
         null,
         "2016",
         "11.0",
         "20.0",
         "26.0",
         "20.0",
         null,
         null,
         null,
         null,
         null,
         null,
         null,
         null,
         null,
         null,
         null,
         null,
         null,
         null,
         null,
         null
        ]
       ],
       "shape": {
        "columns": 37,
        "rows": 192
       }
      },
      "text/html": [
       "<div>\n",
       "<style scoped>\n",
       "    .dataframe tbody tr th:only-of-type {\n",
       "        vertical-align: middle;\n",
       "    }\n",
       "\n",
       "    .dataframe tbody tr th {\n",
       "        vertical-align: top;\n",
       "    }\n",
       "\n",
       "    .dataframe thead th {\n",
       "        text-align: right;\n",
       "    }\n",
       "</style>\n",
       "<table border=\"1\" class=\"dataframe\">\n",
       "  <thead>\n",
       "    <tr style=\"text-align: right;\">\n",
       "      <th></th>\n",
       "      <th>Variable</th>\n",
       "      <th>Category</th>\n",
       "      <th>Bachelor Agrarwissenschaften</th>\n",
       "      <th>Bachelor Ernährungswissenschaften</th>\n",
       "      <th>Bachelor Nachwachsende Rohstoffe und Bioressourcen</th>\n",
       "      <th>Bachelor Ökotrophologie</th>\n",
       "      <th>Bachelor Umwelt und globaler Wandel</th>\n",
       "      <th>Master Ernährungswissenschaften</th>\n",
       "      <th>Master  Ernährungsökonomie*</th>\n",
       "      <th>Master  Agrarökonomie und Betriebsmanagement</th>\n",
       "      <th>...</th>\n",
       "      <th>Master Nutzpflanzenwissenschaften</th>\n",
       "      <th>Master Oenologie/Weinwirtschaft</th>\n",
       "      <th>Master Transition Management</th>\n",
       "      <th>Master Sustainable Transition*</th>\n",
       "      <th>Master Agrar- und Ressourcenökonomie*</th>\n",
       "      <th>Master Getränketechnologie*</th>\n",
       "      <th>Master Informationstechnologie in den Agrar- und Umweltwissenschaften*</th>\n",
       "      <th>Master Nachhaltige Ernährungswirtschaft</th>\n",
       "      <th>Master Sustainable Transition</th>\n",
       "      <th>Master Nutztierwissenschaften*</th>\n",
       "    </tr>\n",
       "  </thead>\n",
       "  <tbody>\n",
       "    <tr>\n",
       "      <th>22</th>\n",
       "      <td>Fachsemester</td>\n",
       "      <td>1 (%)</td>\n",
       "      <td>36.0</td>\n",
       "      <td>36.0</td>\n",
       "      <td>NaN</td>\n",
       "      <td>31.0</td>\n",
       "      <td>32.0</td>\n",
       "      <td>21.0</td>\n",
       "      <td>19.0</td>\n",
       "      <td>40.0</td>\n",
       "      <td>...</td>\n",
       "      <td>NaN</td>\n",
       "      <td>NaN</td>\n",
       "      <td>NaN</td>\n",
       "      <td>NaN</td>\n",
       "      <td>NaN</td>\n",
       "      <td>NaN</td>\n",
       "      <td>NaN</td>\n",
       "      <td>NaN</td>\n",
       "      <td>NaN</td>\n",
       "      <td>NaN</td>\n",
       "    </tr>\n",
       "    <tr>\n",
       "      <th>23</th>\n",
       "      <td>Fachsemester</td>\n",
       "      <td>2 (%)</td>\n",
       "      <td>2.0</td>\n",
       "      <td>NaN</td>\n",
       "      <td>NaN</td>\n",
       "      <td>NaN</td>\n",
       "      <td>NaN</td>\n",
       "      <td>9.0</td>\n",
       "      <td>19.0</td>\n",
       "      <td>20.0</td>\n",
       "      <td>...</td>\n",
       "      <td>NaN</td>\n",
       "      <td>NaN</td>\n",
       "      <td>NaN</td>\n",
       "      <td>NaN</td>\n",
       "      <td>NaN</td>\n",
       "      <td>NaN</td>\n",
       "      <td>NaN</td>\n",
       "      <td>NaN</td>\n",
       "      <td>NaN</td>\n",
       "      <td>NaN</td>\n",
       "    </tr>\n",
       "    <tr>\n",
       "      <th>24</th>\n",
       "      <td>Fachsemester</td>\n",
       "      <td>3 (%)</td>\n",
       "      <td>33.0</td>\n",
       "      <td>28.0</td>\n",
       "      <td>NaN</td>\n",
       "      <td>30.0</td>\n",
       "      <td>35.0</td>\n",
       "      <td>34.0</td>\n",
       "      <td>26.0</td>\n",
       "      <td>20.0</td>\n",
       "      <td>...</td>\n",
       "      <td>NaN</td>\n",
       "      <td>NaN</td>\n",
       "      <td>NaN</td>\n",
       "      <td>NaN</td>\n",
       "      <td>NaN</td>\n",
       "      <td>NaN</td>\n",
       "      <td>NaN</td>\n",
       "      <td>NaN</td>\n",
       "      <td>NaN</td>\n",
       "      <td>NaN</td>\n",
       "    </tr>\n",
       "    <tr>\n",
       "      <th>25</th>\n",
       "      <td>Fachsemester</td>\n",
       "      <td>4 (%)</td>\n",
       "      <td>NaN</td>\n",
       "      <td>1.0</td>\n",
       "      <td>NaN</td>\n",
       "      <td>1.0</td>\n",
       "      <td>NaN</td>\n",
       "      <td>13.0</td>\n",
       "      <td>10.0</td>\n",
       "      <td>10.0</td>\n",
       "      <td>...</td>\n",
       "      <td>NaN</td>\n",
       "      <td>NaN</td>\n",
       "      <td>NaN</td>\n",
       "      <td>NaN</td>\n",
       "      <td>NaN</td>\n",
       "      <td>NaN</td>\n",
       "      <td>NaN</td>\n",
       "      <td>NaN</td>\n",
       "      <td>NaN</td>\n",
       "      <td>NaN</td>\n",
       "    </tr>\n",
       "    <tr>\n",
       "      <th>26</th>\n",
       "      <td>Fachsemester</td>\n",
       "      <td>5 (%)</td>\n",
       "      <td>20.0</td>\n",
       "      <td>24.0</td>\n",
       "      <td>NaN</td>\n",
       "      <td>25.0</td>\n",
       "      <td>26.0</td>\n",
       "      <td>16.0</td>\n",
       "      <td>16.0</td>\n",
       "      <td>10.0</td>\n",
       "      <td>...</td>\n",
       "      <td>NaN</td>\n",
       "      <td>NaN</td>\n",
       "      <td>NaN</td>\n",
       "      <td>NaN</td>\n",
       "      <td>NaN</td>\n",
       "      <td>NaN</td>\n",
       "      <td>NaN</td>\n",
       "      <td>NaN</td>\n",
       "      <td>NaN</td>\n",
       "      <td>NaN</td>\n",
       "    </tr>\n",
       "    <tr>\n",
       "      <th>...</th>\n",
       "      <td>...</td>\n",
       "      <td>...</td>\n",
       "      <td>...</td>\n",
       "      <td>...</td>\n",
       "      <td>...</td>\n",
       "      <td>...</td>\n",
       "      <td>...</td>\n",
       "      <td>...</td>\n",
       "      <td>...</td>\n",
       "      <td>...</td>\n",
       "      <td>...</td>\n",
       "      <td>...</td>\n",
       "      <td>...</td>\n",
       "      <td>...</td>\n",
       "      <td>...</td>\n",
       "      <td>...</td>\n",
       "      <td>...</td>\n",
       "      <td>...</td>\n",
       "      <td>...</td>\n",
       "      <td>...</td>\n",
       "      <td>...</td>\n",
       "    </tr>\n",
       "    <tr>\n",
       "      <th>792</th>\n",
       "      <td>Fachsemester</td>\n",
       "      <td>12 (%)</td>\n",
       "      <td>NaN</td>\n",
       "      <td>NaN</td>\n",
       "      <td>NaN</td>\n",
       "      <td>NaN</td>\n",
       "      <td>NaN</td>\n",
       "      <td>NaN</td>\n",
       "      <td>NaN</td>\n",
       "      <td>NaN</td>\n",
       "      <td>...</td>\n",
       "      <td>NaN</td>\n",
       "      <td>NaN</td>\n",
       "      <td>NaN</td>\n",
       "      <td>NaN</td>\n",
       "      <td>NaN</td>\n",
       "      <td>NaN</td>\n",
       "      <td>NaN</td>\n",
       "      <td>NaN</td>\n",
       "      <td>NaN</td>\n",
       "      <td>NaN</td>\n",
       "    </tr>\n",
       "    <tr>\n",
       "      <th>793</th>\n",
       "      <td>Fachsemester</td>\n",
       "      <td>13 (%)</td>\n",
       "      <td>3</td>\n",
       "      <td>NaN</td>\n",
       "      <td>NaN</td>\n",
       "      <td>NaN</td>\n",
       "      <td>NaN</td>\n",
       "      <td>NaN</td>\n",
       "      <td>NaN</td>\n",
       "      <td>NaN</td>\n",
       "      <td>...</td>\n",
       "      <td>NaN</td>\n",
       "      <td>NaN</td>\n",
       "      <td>NaN</td>\n",
       "      <td>NaN</td>\n",
       "      <td>NaN</td>\n",
       "      <td>NaN</td>\n",
       "      <td>NaN</td>\n",
       "      <td>NaN</td>\n",
       "      <td>NaN</td>\n",
       "      <td>NaN</td>\n",
       "    </tr>\n",
       "    <tr>\n",
       "      <th>794</th>\n",
       "      <td>Fachsemester</td>\n",
       "      <td>14 und mehr (%)</td>\n",
       "      <td>NaN</td>\n",
       "      <td>NaN</td>\n",
       "      <td>NaN</td>\n",
       "      <td>NaN</td>\n",
       "      <td>NaN</td>\n",
       "      <td>NaN</td>\n",
       "      <td>NaN</td>\n",
       "      <td>NaN</td>\n",
       "      <td>...</td>\n",
       "      <td>NaN</td>\n",
       "      <td>NaN</td>\n",
       "      <td>NaN</td>\n",
       "      <td>NaN</td>\n",
       "      <td>NaN</td>\n",
       "      <td>NaN</td>\n",
       "      <td>NaN</td>\n",
       "      <td>NaN</td>\n",
       "      <td>NaN</td>\n",
       "      <td>NaN</td>\n",
       "    </tr>\n",
       "    <tr>\n",
       "      <th>795</th>\n",
       "      <td>Fachsemester</td>\n",
       "      <td>Gesamt (%)</td>\n",
       "      <td>100</td>\n",
       "      <td>100.0</td>\n",
       "      <td>100.0</td>\n",
       "      <td>100.0</td>\n",
       "      <td>100.0</td>\n",
       "      <td>100.0</td>\n",
       "      <td>NaN</td>\n",
       "      <td>NaN</td>\n",
       "      <td>...</td>\n",
       "      <td>100.0</td>\n",
       "      <td>NaN</td>\n",
       "      <td>100.0</td>\n",
       "      <td>NaN</td>\n",
       "      <td>NaN</td>\n",
       "      <td>NaN</td>\n",
       "      <td>NaN</td>\n",
       "      <td>100.0</td>\n",
       "      <td>100.0</td>\n",
       "      <td>NaN</td>\n",
       "    </tr>\n",
       "    <tr>\n",
       "      <th>796</th>\n",
       "      <td>Fachsemester</td>\n",
       "      <td>Anzahl</td>\n",
       "      <td>34</td>\n",
       "      <td>101.0</td>\n",
       "      <td>18.0</td>\n",
       "      <td>57.0</td>\n",
       "      <td>63.0</td>\n",
       "      <td>32.0</td>\n",
       "      <td>NaN</td>\n",
       "      <td>NaN</td>\n",
       "      <td>...</td>\n",
       "      <td>5.0</td>\n",
       "      <td>NaN</td>\n",
       "      <td>13.0</td>\n",
       "      <td>NaN</td>\n",
       "      <td>NaN</td>\n",
       "      <td>NaN</td>\n",
       "      <td>NaN</td>\n",
       "      <td>12.0</td>\n",
       "      <td>5.0</td>\n",
       "      <td>NaN</td>\n",
       "    </tr>\n",
       "  </tbody>\n",
       "</table>\n",
       "<p>192 rows × 37 columns</p>\n",
       "</div>"
      ],
      "text/plain": [
       "         Variable         Category Bachelor Agrarwissenschaften  \\\n",
       "22   Fachsemester            1 (%)                         36.0   \n",
       "23   Fachsemester            2 (%)                          2.0   \n",
       "24   Fachsemester            3 (%)                         33.0   \n",
       "25   Fachsemester            4 (%)                          NaN   \n",
       "26   Fachsemester            5 (%)                         20.0   \n",
       "..            ...              ...                          ...   \n",
       "792  Fachsemester           12 (%)                          NaN   \n",
       "793  Fachsemester           13 (%)                            3   \n",
       "794  Fachsemester  14 und mehr (%)                          NaN   \n",
       "795  Fachsemester       Gesamt (%)                          100   \n",
       "796  Fachsemester           Anzahl                           34   \n",
       "\n",
       "     Bachelor Ernährungswissenschaften  \\\n",
       "22                                36.0   \n",
       "23                                 NaN   \n",
       "24                                28.0   \n",
       "25                                 1.0   \n",
       "26                                24.0   \n",
       "..                                 ...   \n",
       "792                                NaN   \n",
       "793                                NaN   \n",
       "794                                NaN   \n",
       "795                              100.0   \n",
       "796                              101.0   \n",
       "\n",
       "     Bachelor Nachwachsende Rohstoffe und Bioressourcen  \\\n",
       "22                                                 NaN    \n",
       "23                                                 NaN    \n",
       "24                                                 NaN    \n",
       "25                                                 NaN    \n",
       "26                                                 NaN    \n",
       "..                                                 ...    \n",
       "792                                                NaN    \n",
       "793                                                NaN    \n",
       "794                                                NaN    \n",
       "795                                              100.0    \n",
       "796                                               18.0    \n",
       "\n",
       "    Bachelor Ökotrophologie  Bachelor Umwelt und globaler Wandel  \\\n",
       "22                     31.0                                 32.0   \n",
       "23                      NaN                                  NaN   \n",
       "24                     30.0                                 35.0   \n",
       "25                      1.0                                  NaN   \n",
       "26                     25.0                                 26.0   \n",
       "..                      ...                                  ...   \n",
       "792                     NaN                                  NaN   \n",
       "793                     NaN                                  NaN   \n",
       "794                     NaN                                  NaN   \n",
       "795                   100.0                                100.0   \n",
       "796                    57.0                                 63.0   \n",
       "\n",
       "     Master Ernährungswissenschaften   Master  Ernährungsökonomie*  \\\n",
       "22                               21.0                         19.0   \n",
       "23                                9.0                         19.0   \n",
       "24                               34.0                         26.0   \n",
       "25                               13.0                         10.0   \n",
       "26                               16.0                         16.0   \n",
       "..                                ...                          ...   \n",
       "792                               NaN                          NaN   \n",
       "793                               NaN                          NaN   \n",
       "794                               NaN                          NaN   \n",
       "795                             100.0                          NaN   \n",
       "796                              32.0                          NaN   \n",
       "\n",
       "     Master  Agrarökonomie und Betriebsmanagement  ...  \\\n",
       "22                                           40.0  ...   \n",
       "23                                           20.0  ...   \n",
       "24                                           20.0  ...   \n",
       "25                                           10.0  ...   \n",
       "26                                           10.0  ...   \n",
       "..                                            ...  ...   \n",
       "792                                           NaN  ...   \n",
       "793                                           NaN  ...   \n",
       "794                                           NaN  ...   \n",
       "795                                           NaN  ...   \n",
       "796                                           NaN  ...   \n",
       "\n",
       "     Master Nutzpflanzenwissenschaften  Master Oenologie/Weinwirtschaft  \\\n",
       "22                                 NaN                              NaN   \n",
       "23                                 NaN                              NaN   \n",
       "24                                 NaN                              NaN   \n",
       "25                                 NaN                              NaN   \n",
       "26                                 NaN                              NaN   \n",
       "..                                 ...                              ...   \n",
       "792                                NaN                              NaN   \n",
       "793                                NaN                              NaN   \n",
       "794                                NaN                              NaN   \n",
       "795                              100.0                              NaN   \n",
       "796                                5.0                              NaN   \n",
       "\n",
       "     Master Transition Management  Master Sustainable Transition*  \\\n",
       "22                            NaN                             NaN   \n",
       "23                            NaN                             NaN   \n",
       "24                            NaN                             NaN   \n",
       "25                            NaN                             NaN   \n",
       "26                            NaN                             NaN   \n",
       "..                            ...                             ...   \n",
       "792                           NaN                             NaN   \n",
       "793                           NaN                             NaN   \n",
       "794                           NaN                             NaN   \n",
       "795                         100.0                             NaN   \n",
       "796                          13.0                             NaN   \n",
       "\n",
       "     Master Agrar- und Ressourcenökonomie*  Master Getränketechnologie*  \\\n",
       "22                                     NaN                          NaN   \n",
       "23                                     NaN                          NaN   \n",
       "24                                     NaN                          NaN   \n",
       "25                                     NaN                          NaN   \n",
       "26                                     NaN                          NaN   \n",
       "..                                     ...                          ...   \n",
       "792                                    NaN                          NaN   \n",
       "793                                    NaN                          NaN   \n",
       "794                                    NaN                          NaN   \n",
       "795                                    NaN                          NaN   \n",
       "796                                    NaN                          NaN   \n",
       "\n",
       "    Master Informationstechnologie in den Agrar- und Umweltwissenschaften*  \\\n",
       "22                                                 NaN                       \n",
       "23                                                 NaN                       \n",
       "24                                                 NaN                       \n",
       "25                                                 NaN                       \n",
       "26                                                 NaN                       \n",
       "..                                                 ...                       \n",
       "792                                                NaN                       \n",
       "793                                                NaN                       \n",
       "794                                                NaN                       \n",
       "795                                                NaN                       \n",
       "796                                                NaN                       \n",
       "\n",
       "     Master Nachhaltige Ernährungswirtschaft  Master Sustainable Transition  \\\n",
       "22                                       NaN                            NaN   \n",
       "23                                       NaN                            NaN   \n",
       "24                                       NaN                            NaN   \n",
       "25                                       NaN                            NaN   \n",
       "26                                       NaN                            NaN   \n",
       "..                                       ...                            ...   \n",
       "792                                      NaN                            NaN   \n",
       "793                                      NaN                            NaN   \n",
       "794                                      NaN                            NaN   \n",
       "795                                    100.0                          100.0   \n",
       "796                                     12.0                            5.0   \n",
       "\n",
       "     Master Nutztierwissenschaften*  \n",
       "22                              NaN  \n",
       "23                              NaN  \n",
       "24                              NaN  \n",
       "25                              NaN  \n",
       "26                              NaN  \n",
       "..                              ...  \n",
       "792                             NaN  \n",
       "793                             NaN  \n",
       "794                             NaN  \n",
       "795                             NaN  \n",
       "796                             NaN  \n",
       "\n",
       "[192 rows x 37 columns]"
      ]
     },
     "execution_count": 312,
     "metadata": {},
     "output_type": "execute_result"
    }
   ],
   "source": [
    "final_df[final_df['Variable'] == 'Fachsemester'] "
   ]
  },
  {
   "cell_type": "code",
   "execution_count": 313,
   "metadata": {},
   "outputs": [],
   "source": [
    "df = final_df[final_df.columns[~final_df.columns.str.contains(r'\\*')]] # drop * in the data\n",
    "df.columns = df.columns.str.replace('*', '', regex=False)# just to be sure\n",
    "df = df.rename(columns={'Master Getränketechnologi':'Master Getränketechnologie'})# fix a typo\n",
    "clean_columns = {}\n",
    "for col in df.columns:\n",
    "    clean_name = col.strip()  # get rid of other human typos\n",
    "    if clean_name in clean_columns:\n",
    "        clean_columns[clean_name].append(col)\n",
    "    else:\n",
    "        clean_columns[clean_name] = [col]\n",
    "\n",
    "# smack together the similar col names \n",
    "merged_df = df[['Jahr']].copy()\n",
    "for clean_name, original_cols in clean_columns.items():\n",
    "    if len(original_cols) > 1:\n",
    "        merged_df[clean_name] = df[original_cols].sum(axis=1)\n",
    "    else:\n",
    "        merged_df[clean_name] = df[original_cols[0]]\n",
    "df = merged_df.fillna(value=0) # use if needed for plotting"
   ]
  },
  {
   "cell_type": "code",
   "execution_count": 314,
   "metadata": {},
   "outputs": [],
   "source": [
    "df = df[df['Variable'].isin(['Fachsemester'])]\n",
    "df = df[df['Variable'] == 'Fachsemester'].drop(columns='Variable')\n",
    "df = df.groupby(['Jahr', 'Category']).sum().reset_index()\n",
    "df = df[df['Category'] != 'Gesamt (%)']"
   ]
  },
  {
   "cell_type": "code",
   "execution_count": 315,
   "metadata": {},
   "outputs": [
    {
     "name": "stderr",
     "output_type": "stream",
     "text": [
      "/var/folders/gf/ldtpmxs55h916v2hnlzdv8zw0000gn/T/ipykernel_92372/2881836687.py:2: FutureWarning:\n",
      "\n",
      "Downcasting behavior in `replace` is deprecated and will be removed in a future version. To retain the old behavior, explicitly call `result.infer_objects(copy=False)`. To opt-in to the future behavior, set `pd.set_option('future.no_silent_downcasting', True)`\n",
      "\n"
     ]
    }
   ],
   "source": [
    "df['Bachelor Ökotrophologie'] = df['Bachelor Ökotrophologie'].astype(float)\n",
    "df['Bachelor Agrarwissenschaften'] = df['Bachelor Agrarwissenschaften'].replace(' ',0)\n",
    "df['Bachelor Agrarwissenschaften'] = df['Bachelor Agrarwissenschaften'].astype(float)"
   ]
  },
  {
   "cell_type": "code",
   "execution_count": 316,
   "metadata": {},
   "outputs": [
    {
     "data": {
      "application/vnd.microsoft.datawrangler.viewer.v0+json": {
       "columns": [
        {
         "name": "index",
         "rawType": "int64",
         "type": "integer"
        },
        {
         "name": "Jahr",
         "rawType": "object",
         "type": "string"
        },
        {
         "name": "Category",
         "rawType": "object",
         "type": "string"
        },
        {
         "name": "Bachelor Agrarwissenschaften",
         "rawType": "float64",
         "type": "float"
        },
        {
         "name": "Bachelor Ernährungswissenschaften",
         "rawType": "float64",
         "type": "float"
        },
        {
         "name": "Bachelor Nachwachsende Rohstoffe und Bioressourcen",
         "rawType": "float64",
         "type": "float"
        },
        {
         "name": "Bachelor Ökotrophologie",
         "rawType": "float64",
         "type": "float"
        },
        {
         "name": "Bachelor Umwelt und globaler Wandel",
         "rawType": "float64",
         "type": "float"
        },
        {
         "name": "Master Ernährungswissenschaften",
         "rawType": "float64",
         "type": "float"
        },
        {
         "name": "Master  Agrarökonomie und Betriebsmanagement",
         "rawType": "float64",
         "type": "float"
        },
        {
         "name": "Master Nutztierwissenschaften",
         "rawType": "float64",
         "type": "float"
        },
        {
         "name": "Master Pflanzenproduktion",
         "rawType": "float64",
         "type": "float"
        },
        {
         "name": "Master Haushalts- und Dienstleistungswissenschaften",
         "rawType": "float64",
         "type": "float"
        },
        {
         "name": "Master Umwelt- und Ressourcenmanagement",
         "rawType": "float64",
         "type": "float"
        },
        {
         "name": "Master Getränketechnologie",
         "rawType": "float64",
         "type": "float"
        },
        {
         "name": "Master Agrar- und Ressourcenökonomie",
         "rawType": "float64",
         "type": "float"
        },
        {
         "name": "Master Umweltwissenschaften",
         "rawType": "float64",
         "type": "float"
        },
        {
         "name": "Master Transition Management",
         "rawType": "float64",
         "type": "float"
        },
        {
         "name": "Master Ökotrophologie",
         "rawType": "float64",
         "type": "float"
        },
        {
         "name": "Master Agrobiotechnologie",
         "rawType": "float64",
         "type": "float"
        },
        {
         "name": "Master Insect Biotechnology and Bioresources",
         "rawType": "float64",
         "type": "float"
        },
        {
         "name": "Bachelor Umweltmanagement",
         "rawType": "float64",
         "type": "float"
        },
        {
         "name": "Master Ernährungsökonomie",
         "rawType": "float64",
         "type": "float"
        },
        {
         "name": "Master Nutzpflanzenwissenschaften",
         "rawType": "float64",
         "type": "float"
        },
        {
         "name": "Master Oenologie/Weinwirtschaft",
         "rawType": "float64",
         "type": "float"
        },
        {
         "name": "Master Nachhaltige Ernährungswirtschaft",
         "rawType": "float64",
         "type": "float"
        },
        {
         "name": "Master Sustainable Transition",
         "rawType": "float64",
         "type": "float"
        }
       ],
       "conversionMethod": "pd.DataFrame",
       "ref": "ebcafac1-9803-4b41-b0f4-a7eab6f5510a",
       "rows": [
        [
         "0",
         "2013",
         "1 (%)",
         "36.0",
         "36.0",
         "0.0",
         "31.0",
         "32.0",
         "21.0",
         "40.0",
         "25.0",
         "42.0",
         "19.0",
         "33.0",
         "200.0",
         "0.0",
         "0.0",
         "0.0",
         "0.0",
         "0.0",
         "0.0",
         "0.0",
         "0.0",
         "0.0",
         "0.0",
         "0.0",
         "0.0"
        ],
        [
         "1",
         "2013",
         "10 (%)",
         "0.0",
         "0.0",
         "0.0",
         "0.0",
         "0.0",
         "0.0",
         "0.0",
         "0.0",
         "0.0",
         "0.0",
         "0.0",
         "0.0",
         "0.0",
         "0.0",
         "0.0",
         "0.0",
         "0.0",
         "0.0",
         "0.0",
         "0.0",
         "0.0",
         "0.0",
         "0.0",
         "0.0"
        ],
        [
         "2",
         "2013",
         "11 (%)",
         "1.0",
         "0.0",
         "0.0",
         "0.0",
         "0.0",
         "0.0",
         "0.0",
         "0.0",
         "0.0",
         "0.0",
         "0.0",
         "0.0",
         "0.0",
         "0.0",
         "0.0",
         "0.0",
         "0.0",
         "0.0",
         "0.0",
         "0.0",
         "0.0",
         "0.0",
         "0.0",
         "0.0"
        ],
        [
         "3",
         "2013",
         "12 (%)",
         "0.0",
         "0.0",
         "0.0",
         "0.0",
         "0.0",
         "0.0",
         "0.0",
         "0.0",
         "0.0",
         "0.0",
         "0.0",
         "0.0",
         "0.0",
         "0.0",
         "0.0",
         "0.0",
         "0.0",
         "0.0",
         "0.0",
         "0.0",
         "0.0",
         "0.0",
         "0.0",
         "0.0"
        ],
        [
         "4",
         "2013",
         "13 (%)",
         "0.0",
         "0.0",
         "0.0",
         "0.0",
         "0.0",
         "0.0",
         "0.0",
         "0.0",
         "0.0",
         "0.0",
         "0.0",
         "0.0",
         "0.0",
         "0.0",
         "0.0",
         "0.0",
         "0.0",
         "0.0",
         "0.0",
         "0.0",
         "0.0",
         "0.0",
         "0.0",
         "0.0"
        ],
        [
         "5",
         "2013",
         "14 und mehr (%)",
         "0.0",
         "0.0",
         "0.0",
         "0.0",
         "0.0",
         "0.0",
         "0.0",
         "0.0",
         "0.0",
         "0.0",
         "0.0",
         "0.0",
         "0.0",
         "0.0",
         "0.0",
         "0.0",
         "0.0",
         "0.0",
         "0.0",
         "0.0",
         "0.0",
         "0.0",
         "0.0",
         "0.0"
        ],
        [
         "6",
         "2013",
         "2 (%)",
         "2.0",
         "0.0",
         "0.0",
         "0.0",
         "0.0",
         "9.0",
         "20.0",
         "25.0",
         "0.0",
         "14.0",
         "10.0",
         "0.0",
         "0.0",
         "0.0",
         "0.0",
         "0.0",
         "0.0",
         "0.0",
         "0.0",
         "0.0",
         "0.0",
         "0.0",
         "0.0",
         "0.0"
        ],
        [
         "7",
         "2013",
         "3 (%)",
         "33.0",
         "28.0",
         "0.0",
         "30.0",
         "35.0",
         "34.0",
         "20.0",
         "38.0",
         "33.0",
         "29.0",
         "37.0",
         "0.0",
         "0.0",
         "0.0",
         "0.0",
         "0.0",
         "0.0",
         "0.0",
         "0.0",
         "0.0",
         "0.0",
         "0.0",
         "0.0",
         "0.0"
        ],
        [
         "8",
         "2013",
         "4 (%)",
         "0.0",
         "1.0",
         "0.0",
         "1.0",
         "0.0",
         "13.0",
         "10.0",
         "13.0",
         "8.0",
         "24.0",
         "4.0",
         "0.0",
         "0.0",
         "0.0",
         "0.0",
         "0.0",
         "0.0",
         "0.0",
         "0.0",
         "0.0",
         "0.0",
         "0.0",
         "0.0",
         "0.0"
        ],
        [
         "9",
         "2013",
         "5 (%)",
         "20.0",
         "24.0",
         "0.0",
         "25.0",
         "26.0",
         "16.0",
         "10.0",
         "0.0",
         "17.0",
         "5.0",
         "14.0",
         "0.0",
         "0.0",
         "0.0",
         "0.0",
         "0.0",
         "0.0",
         "0.0",
         "0.0",
         "0.0",
         "0.0",
         "0.0",
         "0.0",
         "0.0"
        ],
        [
         "10",
         "2013",
         "6 (%)",
         "2.0",
         "2.0",
         "0.0",
         "1.0",
         "3.0",
         "6.0",
         "0.0",
         "0.0",
         "0.0",
         "5.0",
         "0.0",
         "0.0",
         "0.0",
         "0.0",
         "0.0",
         "0.0",
         "0.0",
         "0.0",
         "0.0",
         "0.0",
         "0.0",
         "0.0",
         "0.0",
         "0.0"
        ],
        [
         "11",
         "2013",
         "7 (%)",
         "3.0",
         "8.0",
         "0.0",
         "11.0",
         "5.0",
         "0.0",
         "0.0",
         "0.0",
         "0.0",
         "5.0",
         "0.0",
         "0.0",
         "0.0",
         "0.0",
         "0.0",
         "0.0",
         "0.0",
         "0.0",
         "0.0",
         "0.0",
         "0.0",
         "0.0",
         "0.0",
         "0.0"
        ],
        [
         "12",
         "2013",
         "8 (%)",
         "1.0",
         "0.0",
         "0.0",
         "0.0",
         "0.0",
         "1.0",
         "0.0",
         "0.0",
         "0.0",
         "0.0",
         "0.0",
         "0.0",
         "0.0",
         "0.0",
         "0.0",
         "0.0",
         "0.0",
         "0.0",
         "0.0",
         "0.0",
         "0.0",
         "0.0",
         "0.0",
         "0.0"
        ],
        [
         "13",
         "2013",
         "9 (%)",
         "0.0",
         "0.0",
         "0.0",
         "2.0",
         "0.0",
         "0.0",
         "0.0",
         "0.0",
         "0.0",
         "0.0",
         "0.0",
         "0.0",
         "0.0",
         "0.0",
         "0.0",
         "0.0",
         "0.0",
         "0.0",
         "0.0",
         "0.0",
         "0.0",
         "0.0",
         "0.0",
         "0.0"
        ],
        [
         "14",
         "2013",
         "Anzahl",
         "88.0",
         "96.0",
         "0.0",
         "144.0",
         "78.0",
         "68.0",
         "10.0",
         "8.0",
         "12.0",
         "21.0",
         "49.0",
         "10.0",
         "0.0",
         "0.0",
         "0.0",
         "0.0",
         "0.0",
         "0.0",
         "0.0",
         "0.0",
         "0.0",
         "0.0",
         "0.0",
         "0.0"
        ],
        [
         "16",
         "2014",
         "1 (%)",
         "42.0",
         "33.0",
         "0.0",
         "41.0",
         "42.0",
         "26.0",
         "11.0",
         "20.0",
         "50.0",
         "0.0",
         "27.0",
         "76.0",
         "0.0",
         "0.0",
         "0.0",
         "0.0",
         "0.0",
         "0.0",
         "0.0",
         "0.0",
         "0.0",
         "0.0",
         "0.0",
         "0.0"
        ],
        [
         "17",
         "2014",
         "10 (%)",
         "0.0",
         "0.0",
         "0.0",
         "0.0",
         "0.0",
         "0.0",
         "0.0",
         "0.0",
         "0.0",
         "0.0",
         "0.0",
         "0.0",
         "0.0",
         "0.0",
         "0.0",
         "0.0",
         "0.0",
         "0.0",
         "0.0",
         "0.0",
         "0.0",
         "0.0",
         "0.0",
         "0.0"
        ],
        [
         "18",
         "2014",
         "11 (%)",
         "0.0",
         "0.0",
         "0.0",
         "0.0",
         "0.0",
         "1.0",
         "0.0",
         "0.0",
         "0.0",
         "0.0",
         "0.0",
         "0.0",
         "0.0",
         "0.0",
         "0.0",
         "0.0",
         "0.0",
         "0.0",
         "0.0",
         "0.0",
         "0.0",
         "0.0",
         "0.0",
         "0.0"
        ],
        [
         "19",
         "2014",
         "12 (%)",
         "0.0",
         "0.0",
         "0.0",
         "0.0",
         "0.0",
         "0.0",
         "0.0",
         "0.0",
         "0.0",
         "0.0",
         "0.0",
         "0.0",
         "0.0",
         "0.0",
         "0.0",
         "0.0",
         "0.0",
         "0.0",
         "0.0",
         "0.0",
         "0.0",
         "0.0",
         "0.0",
         "0.0"
        ],
        [
         "20",
         "2014",
         "13 (%)",
         "0.0",
         "0.0",
         "0.0",
         "0.0",
         "0.0",
         "0.0",
         "0.0",
         "0.0",
         "0.0",
         "0.0",
         "0.0",
         "0.0",
         "0.0",
         "0.0",
         "0.0",
         "0.0",
         "0.0",
         "0.0",
         "0.0",
         "0.0",
         "0.0",
         "0.0",
         "0.0",
         "0.0"
        ],
        [
         "21",
         "2014",
         "14 und mehr (%)",
         "0.0",
         "0.0",
         "0.0",
         "0.0",
         "0.0",
         "0.0",
         "0.0",
         "0.0",
         "0.0",
         "0.0",
         "0.0",
         "0.0",
         "0.0",
         "0.0",
         "0.0",
         "0.0",
         "0.0",
         "0.0",
         "0.0",
         "0.0",
         "0.0",
         "0.0",
         "0.0",
         "0.0"
        ],
        [
         "22",
         "2014",
         "2 (%)",
         "0.0",
         "1.0",
         "0.0",
         "0.0",
         "0.0",
         "6.0",
         "11.0",
         "20.0",
         "10.0",
         "0.0",
         "13.0",
         "0.0",
         "0.0",
         "0.0",
         "0.0",
         "0.0",
         "0.0",
         "0.0",
         "0.0",
         "0.0",
         "0.0",
         "0.0",
         "0.0",
         "0.0"
        ],
        [
         "23",
         "2014",
         "3 (%)",
         "23.0",
         "36.0",
         "0.0",
         "27.0",
         "20.0",
         "21.0",
         "33.0",
         "60.0",
         "20.0",
         "17.0",
         "23.0",
         "100.0",
         "0.0",
         "0.0",
         "0.0",
         "0.0",
         "0.0",
         "0.0",
         "0.0",
         "0.0",
         "0.0",
         "0.0",
         "0.0",
         "0.0"
        ],
        [
         "24",
         "2014",
         "4 (%)",
         "0.0",
         "1.0",
         "0.0",
         "1.0",
         "1.0",
         "14.0",
         "22.0",
         "0.0",
         "10.0",
         "42.0",
         "6.0",
         "0.0",
         "0.0",
         "0.0",
         "0.0",
         "0.0",
         "0.0",
         "0.0",
         "0.0",
         "0.0",
         "0.0",
         "0.0",
         "0.0",
         "0.0"
        ],
        [
         "25",
         "2014",
         "5 (%)",
         "27.0",
         "25.0",
         "0.0",
         "20.0",
         "25.0",
         "24.0",
         "22.0",
         "0.0",
         "10.0",
         "33.0",
         "27.0",
         "26.0",
         "0.0",
         "0.0",
         "0.0",
         "0.0",
         "0.0",
         "0.0",
         "0.0",
         "0.0",
         "0.0",
         "0.0",
         "0.0",
         "0.0"
        ],
        [
         "26",
         "2014",
         "6 (%)",
         "0.0",
         "0.0",
         "0.0",
         "1.0",
         "1.0",
         "4.0",
         "0.0",
         "0.0",
         "0.0",
         "0.0",
         "2.0",
         "0.0",
         "0.0",
         "0.0",
         "0.0",
         "0.0",
         "0.0",
         "0.0",
         "0.0",
         "0.0",
         "0.0",
         "0.0",
         "0.0",
         "0.0"
        ],
        [
         "27",
         "2014",
         "7 (%)",
         "7.0",
         "2.0",
         "0.0",
         "10.0",
         "11.0",
         "1.0",
         "0.0",
         "0.0",
         "0.0",
         "8.0",
         "0.0",
         "0.0",
         "0.0",
         "0.0",
         "0.0",
         "0.0",
         "0.0",
         "0.0",
         "0.0",
         "0.0",
         "0.0",
         "0.0",
         "0.0",
         "0.0"
        ],
        [
         "28",
         "2014",
         "8 (%)",
         "0.0",
         "0.0",
         "0.0",
         "0.0",
         "0.0",
         "0.0",
         "0.0",
         "0.0",
         "0.0",
         "0.0",
         "2.0",
         "0.0",
         "0.0",
         "0.0",
         "0.0",
         "0.0",
         "0.0",
         "0.0",
         "0.0",
         "0.0",
         "0.0",
         "0.0",
         "0.0",
         "0.0"
        ],
        [
         "29",
         "2014",
         "9 (%)",
         "1.0",
         "1.0",
         "0.0",
         "1.0",
         "0.0",
         "1.0",
         "0.0",
         "0.0",
         "0.0",
         "0.0",
         "0.0",
         "0.0",
         "0.0",
         "0.0",
         "0.0",
         "0.0",
         "0.0",
         "0.0",
         "0.0",
         "0.0",
         "0.0",
         "0.0",
         "0.0",
         "0.0"
        ],
        [
         "30",
         "2014",
         "Anzahl",
         "90.0",
         "88.0",
         "0.0",
         "167.0",
         "106.0",
         "70.0",
         "9.0",
         "5.0",
         "10.0",
         "12.0",
         "52.0",
         "16.0",
         "0.0",
         "0.0",
         "0.0",
         "0.0",
         "0.0",
         "0.0",
         "0.0",
         "0.0",
         "0.0",
         "0.0",
         "0.0",
         "0.0"
        ],
        [
         "32",
         "2015",
         "1 (%)",
         "44.0",
         "42.0",
         "0.0",
         "33.0",
         "42.0",
         "28.0",
         "0.0",
         "62.0",
         "43.0",
         "0.0",
         "0.0",
         "142.0",
         "0.0",
         "0.0",
         "0.0",
         "0.0",
         "0.0",
         "0.0",
         "0.0",
         "0.0",
         "0.0",
         "0.0",
         "0.0",
         "0.0"
        ],
        [
         "33",
         "2015",
         "10 (%)",
         "0.0",
         "0.0",
         "0.0",
         "1.0",
         "0.0",
         "0.0",
         "0.0",
         "0.0",
         "0.0",
         "0.0",
         "0.0",
         "0.0",
         "0.0",
         "0.0",
         "0.0",
         "0.0",
         "0.0",
         "0.0",
         "0.0",
         "0.0",
         "0.0",
         "0.0",
         "0.0",
         "0.0"
        ],
        [
         "34",
         "2015",
         "11 (%)",
         "0.0",
         "0.0",
         "0.0",
         "0.0",
         "0.0",
         "0.0",
         "0.0",
         "0.0",
         "0.0",
         "0.0",
         "0.0",
         "0.0",
         "0.0",
         "0.0",
         "0.0",
         "0.0",
         "0.0",
         "0.0",
         "0.0",
         "0.0",
         "0.0",
         "0.0",
         "0.0",
         "0.0"
        ],
        [
         "35",
         "2015",
         "12 (%)",
         "0.0",
         "0.0",
         "0.0",
         "1.0",
         "0.0",
         "0.0",
         "0.0",
         "0.0",
         "0.0",
         "0.0",
         "0.0",
         "0.0",
         "0.0",
         "0.0",
         "0.0",
         "0.0",
         "0.0",
         "0.0",
         "0.0",
         "0.0",
         "0.0",
         "0.0",
         "0.0",
         "0.0"
        ],
        [
         "36",
         "2015",
         "13 (%)",
         "1.0",
         "0.0",
         "0.0",
         "0.0",
         "0.0",
         "0.0",
         "0.0",
         "0.0",
         "0.0",
         "0.0",
         "0.0",
         "0.0",
         "0.0",
         "0.0",
         "0.0",
         "0.0",
         "0.0",
         "0.0",
         "0.0",
         "0.0",
         "0.0",
         "0.0",
         "0.0",
         "0.0"
        ],
        [
         "37",
         "2015",
         "14 und mehr (%)",
         "0.0",
         "0.0",
         "0.0",
         "0.0",
         "0.0",
         "0.0",
         "0.0",
         "0.0",
         "0.0",
         "0.0",
         "0.0",
         "0.0",
         "0.0",
         "0.0",
         "0.0",
         "0.0",
         "0.0",
         "0.0",
         "0.0",
         "0.0",
         "0.0",
         "0.0",
         "0.0",
         "0.0"
        ],
        [
         "38",
         "2015",
         "2 (%)",
         "0.0",
         "1.0",
         "0.0",
         "0.0",
         "0.0",
         "10.0",
         "0.0",
         "0.0",
         "0.0",
         "0.0",
         "0.0",
         "0.0",
         "0.0",
         "0.0",
         "0.0",
         "0.0",
         "0.0",
         "0.0",
         "0.0",
         "0.0",
         "0.0",
         "0.0",
         "0.0",
         "0.0"
        ],
        [
         "39",
         "2015",
         "3 (%)",
         "23.0",
         "23.0",
         "0.0",
         "31.0",
         "27.0",
         "32.0",
         "0.0",
         "15.0",
         "29.0",
         "0.0",
         "0.0",
         "0.0",
         "0.0",
         "0.0",
         "0.0",
         "0.0",
         "0.0",
         "0.0",
         "0.0",
         "0.0",
         "0.0",
         "0.0",
         "0.0",
         "0.0"
        ],
        [
         "40",
         "2015",
         "4 (%)",
         "3.0",
         "1.0",
         "0.0",
         "1.0",
         "0.0",
         "7.0",
         "0.0",
         "15.0",
         "0.0",
         "0.0",
         "0.0",
         "28.0",
         "0.0",
         "0.0",
         "0.0",
         "0.0",
         "0.0",
         "0.0",
         "0.0",
         "0.0",
         "0.0",
         "0.0",
         "0.0",
         "0.0"
        ],
        [
         "41",
         "2015",
         "5 (%)",
         "21.0",
         "24.0",
         "0.0",
         "23.0",
         "16.0",
         "14.0",
         "0.0",
         "8.0",
         "14.0",
         "0.0",
         "0.0",
         "28.0",
         "0.0",
         "0.0",
         "0.0",
         "0.0",
         "0.0",
         "0.0",
         "0.0",
         "0.0",
         "0.0",
         "0.0",
         "0.0",
         "0.0"
        ],
        [
         "42",
         "2015",
         "6 (%)",
         "4.0",
         "0.0",
         "0.0",
         "1.0",
         "1.0",
         "6.0",
         "0.0",
         "0.0",
         "14.0",
         "0.0",
         "0.0",
         "0.0",
         "0.0",
         "0.0",
         "0.0",
         "0.0",
         "0.0",
         "0.0",
         "0.0",
         "0.0",
         "0.0",
         "0.0",
         "0.0",
         "0.0"
        ],
        [
         "43",
         "2015",
         "7 (%)",
         "5.0",
         "9.0",
         "0.0",
         "9.0",
         "12.0",
         "3.0",
         "0.0",
         "0.0",
         "0.0",
         "0.0",
         "0.0",
         "0.0",
         "0.0",
         "0.0",
         "0.0",
         "0.0",
         "0.0",
         "0.0",
         "0.0",
         "0.0",
         "0.0",
         "0.0",
         "0.0",
         "0.0"
        ],
        [
         "44",
         "2015",
         "8 (%)",
         "0.0",
         "0.0",
         "0.0",
         "1.0",
         "1.0",
         "0.0",
         "0.0",
         "0.0",
         "0.0",
         "0.0",
         "0.0",
         "0.0",
         "0.0",
         "0.0",
         "0.0",
         "0.0",
         "0.0",
         "0.0",
         "0.0",
         "0.0",
         "0.0",
         "0.0",
         "0.0",
         "0.0"
        ],
        [
         "45",
         "2015",
         "9 (%)",
         "0.0",
         "0.0",
         "0.0",
         "1.0",
         "1.0",
         "0.0",
         "0.0",
         "0.0",
         "0.0",
         "0.0",
         "0.0",
         "0.0",
         "0.0",
         "0.0",
         "0.0",
         "0.0",
         "0.0",
         "0.0",
         "0.0",
         "0.0",
         "0.0",
         "0.0",
         "0.0",
         "0.0"
        ],
        [
         "46",
         "2015",
         "Anzahl",
         "78.0",
         "96.0",
         "0.0",
         "160.0",
         "93.0",
         "69.0",
         "0.0",
         "13.0",
         "7.0",
         "0.0",
         "0.0",
         "14.0",
         "0.0",
         "0.0",
         "0.0",
         "0.0",
         "0.0",
         "0.0",
         "0.0",
         "0.0",
         "0.0",
         "0.0",
         "0.0",
         "0.0"
        ],
        [
         "48",
         "2016",
         "1 (%)",
         "40.0",
         "31.0",
         "0.0",
         "34.0",
         "32.0",
         "42.0",
         "0.0",
         "25.0",
         "38.0",
         "0.0",
         "0.0",
         "112.0",
         "40.0",
         "22.0",
         "40.0",
         "0.0",
         "0.0",
         "0.0",
         "0.0",
         "0.0",
         "0.0",
         "0.0",
         "0.0",
         "0.0"
        ],
        [
         "49",
         "2016",
         "10 (%)",
         "0.0",
         "0.0",
         "0.0",
         "0.0",
         "0.0",
         "2.0",
         "0.0",
         "0.0",
         "0.0",
         "0.0",
         "0.0",
         "0.0",
         "0.0",
         "0.0",
         "0.0",
         "0.0",
         "0.0",
         "0.0",
         "0.0",
         "0.0",
         "0.0",
         "0.0",
         "0.0",
         "0.0"
        ],
        [
         "50",
         "2016",
         "11 (%)",
         "0.0",
         "0.0",
         "0.0",
         "0.0",
         "0.0",
         "0.0",
         "0.0",
         "0.0",
         "8.0",
         "0.0",
         "0.0",
         "0.0",
         "0.0",
         "0.0",
         "0.0",
         "0.0",
         "0.0",
         "0.0",
         "0.0",
         "0.0",
         "0.0",
         "0.0",
         "0.0",
         "0.0"
        ],
        [
         "51",
         "2016",
         "12 (%)",
         "0.0",
         "0.0",
         "0.0",
         "0.0",
         "0.0",
         "0.0",
         "0.0",
         "0.0",
         "0.0",
         "0.0",
         "0.0",
         "0.0",
         "0.0",
         "0.0",
         "0.0",
         "0.0",
         "0.0",
         "0.0",
         "0.0",
         "0.0",
         "0.0",
         "0.0",
         "0.0",
         "0.0"
        ],
        [
         "52",
         "2016",
         "13 (%)",
         "0.0",
         "0.0",
         "0.0",
         "0.0",
         "0.0",
         "0.0",
         "0.0",
         "0.0",
         "0.0",
         "0.0",
         "0.0",
         "0.0",
         "0.0",
         "0.0",
         "0.0",
         "0.0",
         "0.0",
         "0.0",
         "0.0",
         "0.0",
         "0.0",
         "0.0",
         "0.0",
         "0.0"
        ]
       ],
       "shape": {
        "columns": 26,
        "rows": 180
       }
      },
      "text/html": [
       "<div>\n",
       "<style scoped>\n",
       "    .dataframe tbody tr th:only-of-type {\n",
       "        vertical-align: middle;\n",
       "    }\n",
       "\n",
       "    .dataframe tbody tr th {\n",
       "        vertical-align: top;\n",
       "    }\n",
       "\n",
       "    .dataframe thead th {\n",
       "        text-align: right;\n",
       "    }\n",
       "</style>\n",
       "<table border=\"1\" class=\"dataframe\">\n",
       "  <thead>\n",
       "    <tr style=\"text-align: right;\">\n",
       "      <th></th>\n",
       "      <th>Jahr</th>\n",
       "      <th>Category</th>\n",
       "      <th>Bachelor Agrarwissenschaften</th>\n",
       "      <th>Bachelor Ernährungswissenschaften</th>\n",
       "      <th>Bachelor Nachwachsende Rohstoffe und Bioressourcen</th>\n",
       "      <th>Bachelor Ökotrophologie</th>\n",
       "      <th>Bachelor Umwelt und globaler Wandel</th>\n",
       "      <th>Master Ernährungswissenschaften</th>\n",
       "      <th>Master  Agrarökonomie und Betriebsmanagement</th>\n",
       "      <th>Master Nutztierwissenschaften</th>\n",
       "      <th>...</th>\n",
       "      <th>Master Transition Management</th>\n",
       "      <th>Master Ökotrophologie</th>\n",
       "      <th>Master Agrobiotechnologie</th>\n",
       "      <th>Master Insect Biotechnology and Bioresources</th>\n",
       "      <th>Bachelor Umweltmanagement</th>\n",
       "      <th>Master Ernährungsökonomie</th>\n",
       "      <th>Master Nutzpflanzenwissenschaften</th>\n",
       "      <th>Master Oenologie/Weinwirtschaft</th>\n",
       "      <th>Master Nachhaltige Ernährungswirtschaft</th>\n",
       "      <th>Master Sustainable Transition</th>\n",
       "    </tr>\n",
       "  </thead>\n",
       "  <tbody>\n",
       "    <tr>\n",
       "      <th>0</th>\n",
       "      <td>2013</td>\n",
       "      <td>1 (%)</td>\n",
       "      <td>36.0</td>\n",
       "      <td>36.0</td>\n",
       "      <td>0.0</td>\n",
       "      <td>31.0</td>\n",
       "      <td>32.0</td>\n",
       "      <td>21.0</td>\n",
       "      <td>40.0</td>\n",
       "      <td>25.0</td>\n",
       "      <td>...</td>\n",
       "      <td>0.0</td>\n",
       "      <td>0.0</td>\n",
       "      <td>0.0</td>\n",
       "      <td>0.0</td>\n",
       "      <td>0.0</td>\n",
       "      <td>0.0</td>\n",
       "      <td>0.0</td>\n",
       "      <td>0.0</td>\n",
       "      <td>0.0</td>\n",
       "      <td>0.0</td>\n",
       "    </tr>\n",
       "    <tr>\n",
       "      <th>1</th>\n",
       "      <td>2013</td>\n",
       "      <td>10 (%)</td>\n",
       "      <td>0.0</td>\n",
       "      <td>0.0</td>\n",
       "      <td>0.0</td>\n",
       "      <td>0.0</td>\n",
       "      <td>0.0</td>\n",
       "      <td>0.0</td>\n",
       "      <td>0.0</td>\n",
       "      <td>0.0</td>\n",
       "      <td>...</td>\n",
       "      <td>0.0</td>\n",
       "      <td>0.0</td>\n",
       "      <td>0.0</td>\n",
       "      <td>0.0</td>\n",
       "      <td>0.0</td>\n",
       "      <td>0.0</td>\n",
       "      <td>0.0</td>\n",
       "      <td>0.0</td>\n",
       "      <td>0.0</td>\n",
       "      <td>0.0</td>\n",
       "    </tr>\n",
       "    <tr>\n",
       "      <th>2</th>\n",
       "      <td>2013</td>\n",
       "      <td>11 (%)</td>\n",
       "      <td>1.0</td>\n",
       "      <td>0.0</td>\n",
       "      <td>0.0</td>\n",
       "      <td>0.0</td>\n",
       "      <td>0.0</td>\n",
       "      <td>0.0</td>\n",
       "      <td>0.0</td>\n",
       "      <td>0.0</td>\n",
       "      <td>...</td>\n",
       "      <td>0.0</td>\n",
       "      <td>0.0</td>\n",
       "      <td>0.0</td>\n",
       "      <td>0.0</td>\n",
       "      <td>0.0</td>\n",
       "      <td>0.0</td>\n",
       "      <td>0.0</td>\n",
       "      <td>0.0</td>\n",
       "      <td>0.0</td>\n",
       "      <td>0.0</td>\n",
       "    </tr>\n",
       "    <tr>\n",
       "      <th>3</th>\n",
       "      <td>2013</td>\n",
       "      <td>12 (%)</td>\n",
       "      <td>0.0</td>\n",
       "      <td>0.0</td>\n",
       "      <td>0.0</td>\n",
       "      <td>0.0</td>\n",
       "      <td>0.0</td>\n",
       "      <td>0.0</td>\n",
       "      <td>0.0</td>\n",
       "      <td>0.0</td>\n",
       "      <td>...</td>\n",
       "      <td>0.0</td>\n",
       "      <td>0.0</td>\n",
       "      <td>0.0</td>\n",
       "      <td>0.0</td>\n",
       "      <td>0.0</td>\n",
       "      <td>0.0</td>\n",
       "      <td>0.0</td>\n",
       "      <td>0.0</td>\n",
       "      <td>0.0</td>\n",
       "      <td>0.0</td>\n",
       "    </tr>\n",
       "    <tr>\n",
       "      <th>4</th>\n",
       "      <td>2013</td>\n",
       "      <td>13 (%)</td>\n",
       "      <td>0.0</td>\n",
       "      <td>0.0</td>\n",
       "      <td>0.0</td>\n",
       "      <td>0.0</td>\n",
       "      <td>0.0</td>\n",
       "      <td>0.0</td>\n",
       "      <td>0.0</td>\n",
       "      <td>0.0</td>\n",
       "      <td>...</td>\n",
       "      <td>0.0</td>\n",
       "      <td>0.0</td>\n",
       "      <td>0.0</td>\n",
       "      <td>0.0</td>\n",
       "      <td>0.0</td>\n",
       "      <td>0.0</td>\n",
       "      <td>0.0</td>\n",
       "      <td>0.0</td>\n",
       "      <td>0.0</td>\n",
       "      <td>0.0</td>\n",
       "    </tr>\n",
       "    <tr>\n",
       "      <th>...</th>\n",
       "      <td>...</td>\n",
       "      <td>...</td>\n",
       "      <td>...</td>\n",
       "      <td>...</td>\n",
       "      <td>...</td>\n",
       "      <td>...</td>\n",
       "      <td>...</td>\n",
       "      <td>...</td>\n",
       "      <td>...</td>\n",
       "      <td>...</td>\n",
       "      <td>...</td>\n",
       "      <td>...</td>\n",
       "      <td>...</td>\n",
       "      <td>...</td>\n",
       "      <td>...</td>\n",
       "      <td>...</td>\n",
       "      <td>...</td>\n",
       "      <td>...</td>\n",
       "      <td>...</td>\n",
       "      <td>...</td>\n",
       "      <td>...</td>\n",
       "    </tr>\n",
       "    <tr>\n",
       "      <th>186</th>\n",
       "      <td>2024</td>\n",
       "      <td>6 (%)</td>\n",
       "      <td>15.0</td>\n",
       "      <td>7.0</td>\n",
       "      <td>6.0</td>\n",
       "      <td>2.0</td>\n",
       "      <td>6.0</td>\n",
       "      <td>3.0</td>\n",
       "      <td>0.0</td>\n",
       "      <td>0.0</td>\n",
       "      <td>...</td>\n",
       "      <td>0.0</td>\n",
       "      <td>17.0</td>\n",
       "      <td>7.0</td>\n",
       "      <td>10.0</td>\n",
       "      <td>0.0</td>\n",
       "      <td>0.0</td>\n",
       "      <td>0.0</td>\n",
       "      <td>0.0</td>\n",
       "      <td>17.0</td>\n",
       "      <td>0.0</td>\n",
       "    </tr>\n",
       "    <tr>\n",
       "      <th>187</th>\n",
       "      <td>2024</td>\n",
       "      <td>7 (%)</td>\n",
       "      <td>12.0</td>\n",
       "      <td>9.0</td>\n",
       "      <td>17.0</td>\n",
       "      <td>11.0</td>\n",
       "      <td>29.0</td>\n",
       "      <td>0.0</td>\n",
       "      <td>0.0</td>\n",
       "      <td>0.0</td>\n",
       "      <td>...</td>\n",
       "      <td>0.0</td>\n",
       "      <td>4.0</td>\n",
       "      <td>0.0</td>\n",
       "      <td>0.0</td>\n",
       "      <td>0.0</td>\n",
       "      <td>0.0</td>\n",
       "      <td>0.0</td>\n",
       "      <td>0.0</td>\n",
       "      <td>8.0</td>\n",
       "      <td>0.0</td>\n",
       "    </tr>\n",
       "    <tr>\n",
       "      <th>188</th>\n",
       "      <td>2024</td>\n",
       "      <td>8 (%)</td>\n",
       "      <td>3.0</td>\n",
       "      <td>1.0</td>\n",
       "      <td>6.0</td>\n",
       "      <td>4.0</td>\n",
       "      <td>6.0</td>\n",
       "      <td>0.0</td>\n",
       "      <td>0.0</td>\n",
       "      <td>0.0</td>\n",
       "      <td>...</td>\n",
       "      <td>0.0</td>\n",
       "      <td>0.0</td>\n",
       "      <td>7.0</td>\n",
       "      <td>10.0</td>\n",
       "      <td>0.0</td>\n",
       "      <td>0.0</td>\n",
       "      <td>0.0</td>\n",
       "      <td>0.0</td>\n",
       "      <td>0.0</td>\n",
       "      <td>0.0</td>\n",
       "    </tr>\n",
       "    <tr>\n",
       "      <th>189</th>\n",
       "      <td>2024</td>\n",
       "      <td>9 (%)</td>\n",
       "      <td>6.0</td>\n",
       "      <td>0.0</td>\n",
       "      <td>0.0</td>\n",
       "      <td>4.0</td>\n",
       "      <td>0.0</td>\n",
       "      <td>0.0</td>\n",
       "      <td>0.0</td>\n",
       "      <td>0.0</td>\n",
       "      <td>...</td>\n",
       "      <td>0.0</td>\n",
       "      <td>0.0</td>\n",
       "      <td>0.0</td>\n",
       "      <td>20.0</td>\n",
       "      <td>0.0</td>\n",
       "      <td>0.0</td>\n",
       "      <td>0.0</td>\n",
       "      <td>0.0</td>\n",
       "      <td>0.0</td>\n",
       "      <td>0.0</td>\n",
       "    </tr>\n",
       "    <tr>\n",
       "      <th>190</th>\n",
       "      <td>2024</td>\n",
       "      <td>Anzahl</td>\n",
       "      <td>34.0</td>\n",
       "      <td>101.0</td>\n",
       "      <td>18.0</td>\n",
       "      <td>57.0</td>\n",
       "      <td>63.0</td>\n",
       "      <td>32.0</td>\n",
       "      <td>0.0</td>\n",
       "      <td>0.0</td>\n",
       "      <td>...</td>\n",
       "      <td>13.0</td>\n",
       "      <td>23.0</td>\n",
       "      <td>14.0</td>\n",
       "      <td>10.0</td>\n",
       "      <td>0.0</td>\n",
       "      <td>0.0</td>\n",
       "      <td>5.0</td>\n",
       "      <td>0.0</td>\n",
       "      <td>12.0</td>\n",
       "      <td>5.0</td>\n",
       "    </tr>\n",
       "  </tbody>\n",
       "</table>\n",
       "<p>180 rows × 26 columns</p>\n",
       "</div>"
      ],
      "text/plain": [
       "     Jahr Category  Bachelor Agrarwissenschaften  \\\n",
       "0    2013    1 (%)                          36.0   \n",
       "1    2013   10 (%)                           0.0   \n",
       "2    2013   11 (%)                           1.0   \n",
       "3    2013   12 (%)                           0.0   \n",
       "4    2013   13 (%)                           0.0   \n",
       "..    ...      ...                           ...   \n",
       "186  2024    6 (%)                          15.0   \n",
       "187  2024    7 (%)                          12.0   \n",
       "188  2024    8 (%)                           3.0   \n",
       "189  2024    9 (%)                           6.0   \n",
       "190  2024   Anzahl                          34.0   \n",
       "\n",
       "     Bachelor Ernährungswissenschaften  \\\n",
       "0                                 36.0   \n",
       "1                                  0.0   \n",
       "2                                  0.0   \n",
       "3                                  0.0   \n",
       "4                                  0.0   \n",
       "..                                 ...   \n",
       "186                                7.0   \n",
       "187                                9.0   \n",
       "188                                1.0   \n",
       "189                                0.0   \n",
       "190                              101.0   \n",
       "\n",
       "     Bachelor Nachwachsende Rohstoffe und Bioressourcen  \\\n",
       "0                                                  0.0    \n",
       "1                                                  0.0    \n",
       "2                                                  0.0    \n",
       "3                                                  0.0    \n",
       "4                                                  0.0    \n",
       "..                                                 ...    \n",
       "186                                                6.0    \n",
       "187                                               17.0    \n",
       "188                                                6.0    \n",
       "189                                                0.0    \n",
       "190                                               18.0    \n",
       "\n",
       "     Bachelor Ökotrophologie  Bachelor Umwelt und globaler Wandel  \\\n",
       "0                       31.0                                 32.0   \n",
       "1                        0.0                                  0.0   \n",
       "2                        0.0                                  0.0   \n",
       "3                        0.0                                  0.0   \n",
       "4                        0.0                                  0.0   \n",
       "..                       ...                                  ...   \n",
       "186                      2.0                                  6.0   \n",
       "187                     11.0                                 29.0   \n",
       "188                      4.0                                  6.0   \n",
       "189                      4.0                                  0.0   \n",
       "190                     57.0                                 63.0   \n",
       "\n",
       "     Master Ernährungswissenschaften  \\\n",
       "0                               21.0   \n",
       "1                                0.0   \n",
       "2                                0.0   \n",
       "3                                0.0   \n",
       "4                                0.0   \n",
       "..                               ...   \n",
       "186                              3.0   \n",
       "187                              0.0   \n",
       "188                              0.0   \n",
       "189                              0.0   \n",
       "190                             32.0   \n",
       "\n",
       "     Master  Agrarökonomie und Betriebsmanagement  \\\n",
       "0                                            40.0   \n",
       "1                                             0.0   \n",
       "2                                             0.0   \n",
       "3                                             0.0   \n",
       "4                                             0.0   \n",
       "..                                            ...   \n",
       "186                                           0.0   \n",
       "187                                           0.0   \n",
       "188                                           0.0   \n",
       "189                                           0.0   \n",
       "190                                           0.0   \n",
       "\n",
       "     Master Nutztierwissenschaften  ...  Master Transition Management  \\\n",
       "0                             25.0  ...                           0.0   \n",
       "1                              0.0  ...                           0.0   \n",
       "2                              0.0  ...                           0.0   \n",
       "3                              0.0  ...                           0.0   \n",
       "4                              0.0  ...                           0.0   \n",
       "..                             ...  ...                           ...   \n",
       "186                            0.0  ...                           0.0   \n",
       "187                            0.0  ...                           0.0   \n",
       "188                            0.0  ...                           0.0   \n",
       "189                            0.0  ...                           0.0   \n",
       "190                            0.0  ...                          13.0   \n",
       "\n",
       "     Master Ökotrophologie  Master Agrobiotechnologie  \\\n",
       "0                      0.0                        0.0   \n",
       "1                      0.0                        0.0   \n",
       "2                      0.0                        0.0   \n",
       "3                      0.0                        0.0   \n",
       "4                      0.0                        0.0   \n",
       "..                     ...                        ...   \n",
       "186                   17.0                        7.0   \n",
       "187                    4.0                        0.0   \n",
       "188                    0.0                        7.0   \n",
       "189                    0.0                        0.0   \n",
       "190                   23.0                       14.0   \n",
       "\n",
       "     Master Insect Biotechnology and Bioresources  Bachelor Umweltmanagement  \\\n",
       "0                                             0.0                        0.0   \n",
       "1                                             0.0                        0.0   \n",
       "2                                             0.0                        0.0   \n",
       "3                                             0.0                        0.0   \n",
       "4                                             0.0                        0.0   \n",
       "..                                            ...                        ...   \n",
       "186                                          10.0                        0.0   \n",
       "187                                           0.0                        0.0   \n",
       "188                                          10.0                        0.0   \n",
       "189                                          20.0                        0.0   \n",
       "190                                          10.0                        0.0   \n",
       "\n",
       "     Master Ernährungsökonomie  Master Nutzpflanzenwissenschaften  \\\n",
       "0                          0.0                                0.0   \n",
       "1                          0.0                                0.0   \n",
       "2                          0.0                                0.0   \n",
       "3                          0.0                                0.0   \n",
       "4                          0.0                                0.0   \n",
       "..                         ...                                ...   \n",
       "186                        0.0                                0.0   \n",
       "187                        0.0                                0.0   \n",
       "188                        0.0                                0.0   \n",
       "189                        0.0                                0.0   \n",
       "190                        0.0                                5.0   \n",
       "\n",
       "     Master Oenologie/Weinwirtschaft  Master Nachhaltige Ernährungswirtschaft  \\\n",
       "0                                0.0                                      0.0   \n",
       "1                                0.0                                      0.0   \n",
       "2                                0.0                                      0.0   \n",
       "3                                0.0                                      0.0   \n",
       "4                                0.0                                      0.0   \n",
       "..                               ...                                      ...   \n",
       "186                              0.0                                     17.0   \n",
       "187                              0.0                                      8.0   \n",
       "188                              0.0                                      0.0   \n",
       "189                              0.0                                      0.0   \n",
       "190                              0.0                                     12.0   \n",
       "\n",
       "     Master Sustainable Transition  \n",
       "0                              0.0  \n",
       "1                              0.0  \n",
       "2                              0.0  \n",
       "3                              0.0  \n",
       "4                              0.0  \n",
       "..                             ...  \n",
       "186                            0.0  \n",
       "187                            0.0  \n",
       "188                            0.0  \n",
       "189                            0.0  \n",
       "190                            5.0  \n",
       "\n",
       "[180 rows x 26 columns]"
      ]
     },
     "execution_count": 316,
     "metadata": {},
     "output_type": "execute_result"
    }
   ],
   "source": [
    "df"
   ]
  },
  {
   "cell_type": "code",
   "execution_count": 317,
   "metadata": {},
   "outputs": [],
   "source": [
    "# Spalten für Bachelor und Master extrahieren\n",
    "bachelor_columns = [col for col in df.columns if 'Bachelor' in col]\n",
    "master_columns = [col for col in df.columns if 'Master' in col]\n",
    "\n",
    "# Melde Bachelor und Master in separaten DataFrames an\n",
    "df_bachelor = pd.melt(df, id_vars=['Jahr', 'Category'], value_vars=bachelor_columns,\n",
    "                      var_name='Studiengang', value_name='Bachelorg Wert')\n",
    "df_bachelor['Typ'] = 'Bachelor'\n",
    "\n",
    "df_master = pd.melt(df, id_vars=['Jahr', 'Category'], value_vars=master_columns,\n",
    "                    var_name='Studiengang', value_name='Master Wert')\n",
    "df_master['Typ'] = 'Master'\n",
    "\n",
    "# Kombinieren der DataFrames für Bachelor und Master\n",
    "df_combined = pd.concat([df_bachelor, df_master])\n",
    "\n",
    "# Sortieren nach Jahr und Category\n",
    "df_combined = df_combined.sort_values(by=['Jahr', 'Category', 'Typ'])\n"
   ]
  },
  {
   "cell_type": "code",
   "execution_count": 318,
   "metadata": {},
   "outputs": [
    {
     "data": {
      "application/vnd.microsoft.datawrangler.viewer.v0+json": {
       "columns": [
        {
         "name": "index",
         "rawType": "int64",
         "type": "integer"
        },
        {
         "name": "Jahr",
         "rawType": "object",
         "type": "string"
        },
        {
         "name": "Category",
         "rawType": "object",
         "type": "string"
        },
        {
         "name": "Bachelorg Wert",
         "rawType": "float64",
         "type": "float"
        },
        {
         "name": "Master Wert",
         "rawType": "float64",
         "type": "float"
        }
       ],
       "conversionMethod": "pd.DataFrame",
       "ref": "e2d398fd-3633-4195-9669-0b36ce0ebb36",
       "rows": [
        [
         "0",
         "2013",
         "1 (%)",
         "135.0",
         "380.0"
        ],
        [
         "1",
         "2013",
         "10 (%)",
         "0.0",
         "0.0"
        ],
        [
         "2",
         "2013",
         "11 (%)",
         "1.0",
         "0.0"
        ],
        [
         "3",
         "2013",
         "12 (%)",
         "0.0",
         "0.0"
        ],
        [
         "4",
         "2013",
         "13 (%)",
         "0.0",
         "0.0"
        ],
        [
         "5",
         "2013",
         "14 und mehr (%)",
         "0.0",
         "0.0"
        ],
        [
         "6",
         "2013",
         "2 (%)",
         "2.0",
         "78.0"
        ],
        [
         "7",
         "2013",
         "3 (%)",
         "126.0",
         "191.0"
        ],
        [
         "8",
         "2013",
         "4 (%)",
         "2.0",
         "72.0"
        ],
        [
         "9",
         "2013",
         "5 (%)",
         "95.0",
         "62.0"
        ],
        [
         "10",
         "2013",
         "6 (%)",
         "8.0",
         "11.0"
        ],
        [
         "11",
         "2013",
         "7 (%)",
         "27.0",
         "5.0"
        ],
        [
         "12",
         "2013",
         "8 (%)",
         "1.0",
         "1.0"
        ],
        [
         "13",
         "2013",
         "9 (%)",
         "2.0",
         "0.0"
        ],
        [
         "15",
         "2014",
         "1 (%)",
         "158.0",
         "210.0"
        ],
        [
         "16",
         "2014",
         "10 (%)",
         "0.0",
         "0.0"
        ],
        [
         "17",
         "2014",
         "11 (%)",
         "0.0",
         "1.0"
        ],
        [
         "18",
         "2014",
         "12 (%)",
         "0.0",
         "0.0"
        ],
        [
         "19",
         "2014",
         "13 (%)",
         "0.0",
         "0.0"
        ],
        [
         "20",
         "2014",
         "14 und mehr (%)",
         "0.0",
         "0.0"
        ],
        [
         "21",
         "2014",
         "2 (%)",
         "1.0",
         "60.0"
        ],
        [
         "22",
         "2014",
         "3 (%)",
         "106.0",
         "274.0"
        ],
        [
         "23",
         "2014",
         "4 (%)",
         "3.0",
         "94.0"
        ],
        [
         "24",
         "2014",
         "5 (%)",
         "97.0",
         "142.0"
        ],
        [
         "25",
         "2014",
         "6 (%)",
         "2.0",
         "6.0"
        ],
        [
         "26",
         "2014",
         "7 (%)",
         "30.0",
         "9.0"
        ],
        [
         "27",
         "2014",
         "8 (%)",
         "0.0",
         "2.0"
        ],
        [
         "28",
         "2014",
         "9 (%)",
         "3.0",
         "1.0"
        ],
        [
         "30",
         "2015",
         "1 (%)",
         "161.0",
         "275.0"
        ],
        [
         "31",
         "2015",
         "10 (%)",
         "1.0",
         "0.0"
        ],
        [
         "32",
         "2015",
         "11 (%)",
         "0.0",
         "0.0"
        ],
        [
         "33",
         "2015",
         "12 (%)",
         "1.0",
         "0.0"
        ],
        [
         "34",
         "2015",
         "13 (%)",
         "1.0",
         "0.0"
        ],
        [
         "35",
         "2015",
         "14 und mehr (%)",
         "0.0",
         "0.0"
        ],
        [
         "36",
         "2015",
         "2 (%)",
         "1.0",
         "10.0"
        ],
        [
         "37",
         "2015",
         "3 (%)",
         "104.0",
         "76.0"
        ],
        [
         "38",
         "2015",
         "4 (%)",
         "5.0",
         "50.0"
        ],
        [
         "39",
         "2015",
         "5 (%)",
         "84.0",
         "64.0"
        ],
        [
         "40",
         "2015",
         "6 (%)",
         "6.0",
         "20.0"
        ],
        [
         "41",
         "2015",
         "7 (%)",
         "35.0",
         "3.0"
        ],
        [
         "42",
         "2015",
         "8 (%)",
         "2.0",
         "0.0"
        ],
        [
         "43",
         "2015",
         "9 (%)",
         "2.0",
         "0.0"
        ],
        [
         "45",
         "2016",
         "1 (%)",
         "137.0",
         "319.0"
        ],
        [
         "46",
         "2016",
         "10 (%)",
         "0.0",
         "2.0"
        ],
        [
         "47",
         "2016",
         "11 (%)",
         "0.0",
         "8.0"
        ],
        [
         "48",
         "2016",
         "12 (%)",
         "0.0",
         "0.0"
        ],
        [
         "49",
         "2016",
         "13 (%)",
         "0.0",
         "0.0"
        ],
        [
         "50",
         "2016",
         "14 und mehr (%)",
         "0.0",
         "0.0"
        ],
        [
         "51",
         "2016",
         "2 (%)",
         "2.0",
         "128.0"
        ],
        [
         "52",
         "2016",
         "3 (%)",
         "106.0",
         "216.0"
        ]
       ],
       "shape": {
        "columns": 4,
        "rows": 168
       }
      },
      "text/html": [
       "<div>\n",
       "<style scoped>\n",
       "    .dataframe tbody tr th:only-of-type {\n",
       "        vertical-align: middle;\n",
       "    }\n",
       "\n",
       "    .dataframe tbody tr th {\n",
       "        vertical-align: top;\n",
       "    }\n",
       "\n",
       "    .dataframe thead th {\n",
       "        text-align: right;\n",
       "    }\n",
       "</style>\n",
       "<table border=\"1\" class=\"dataframe\">\n",
       "  <thead>\n",
       "    <tr style=\"text-align: right;\">\n",
       "      <th></th>\n",
       "      <th>Jahr</th>\n",
       "      <th>Category</th>\n",
       "      <th>Bachelorg Wert</th>\n",
       "      <th>Master Wert</th>\n",
       "    </tr>\n",
       "  </thead>\n",
       "  <tbody>\n",
       "    <tr>\n",
       "      <th>0</th>\n",
       "      <td>2013</td>\n",
       "      <td>1 (%)</td>\n",
       "      <td>135.0</td>\n",
       "      <td>380.0</td>\n",
       "    </tr>\n",
       "    <tr>\n",
       "      <th>1</th>\n",
       "      <td>2013</td>\n",
       "      <td>10 (%)</td>\n",
       "      <td>0.0</td>\n",
       "      <td>0.0</td>\n",
       "    </tr>\n",
       "    <tr>\n",
       "      <th>2</th>\n",
       "      <td>2013</td>\n",
       "      <td>11 (%)</td>\n",
       "      <td>1.0</td>\n",
       "      <td>0.0</td>\n",
       "    </tr>\n",
       "    <tr>\n",
       "      <th>3</th>\n",
       "      <td>2013</td>\n",
       "      <td>12 (%)</td>\n",
       "      <td>0.0</td>\n",
       "      <td>0.0</td>\n",
       "    </tr>\n",
       "    <tr>\n",
       "      <th>4</th>\n",
       "      <td>2013</td>\n",
       "      <td>13 (%)</td>\n",
       "      <td>0.0</td>\n",
       "      <td>0.0</td>\n",
       "    </tr>\n",
       "    <tr>\n",
       "      <th>...</th>\n",
       "      <td>...</td>\n",
       "      <td>...</td>\n",
       "      <td>...</td>\n",
       "      <td>...</td>\n",
       "    </tr>\n",
       "    <tr>\n",
       "      <th>174</th>\n",
       "      <td>2024</td>\n",
       "      <td>5 (%)</td>\n",
       "      <td>118.0</td>\n",
       "      <td>180.0</td>\n",
       "    </tr>\n",
       "    <tr>\n",
       "      <th>175</th>\n",
       "      <td>2024</td>\n",
       "      <td>6 (%)</td>\n",
       "      <td>36.0</td>\n",
       "      <td>59.0</td>\n",
       "    </tr>\n",
       "    <tr>\n",
       "      <th>176</th>\n",
       "      <td>2024</td>\n",
       "      <td>7 (%)</td>\n",
       "      <td>78.0</td>\n",
       "      <td>17.0</td>\n",
       "    </tr>\n",
       "    <tr>\n",
       "      <th>177</th>\n",
       "      <td>2024</td>\n",
       "      <td>8 (%)</td>\n",
       "      <td>20.0</td>\n",
       "      <td>17.0</td>\n",
       "    </tr>\n",
       "    <tr>\n",
       "      <th>178</th>\n",
       "      <td>2024</td>\n",
       "      <td>9 (%)</td>\n",
       "      <td>10.0</td>\n",
       "      <td>20.0</td>\n",
       "    </tr>\n",
       "  </tbody>\n",
       "</table>\n",
       "<p>168 rows × 4 columns</p>\n",
       "</div>"
      ],
      "text/plain": [
       "     Jahr Category  Bachelorg Wert  Master Wert\n",
       "0    2013    1 (%)           135.0        380.0\n",
       "1    2013   10 (%)             0.0          0.0\n",
       "2    2013   11 (%)             1.0          0.0\n",
       "3    2013   12 (%)             0.0          0.0\n",
       "4    2013   13 (%)             0.0          0.0\n",
       "..    ...      ...             ...          ...\n",
       "174  2024    5 (%)           118.0        180.0\n",
       "175  2024    6 (%)            36.0         59.0\n",
       "176  2024    7 (%)            78.0         17.0\n",
       "177  2024    8 (%)            20.0         17.0\n",
       "178  2024    9 (%)            10.0         20.0\n",
       "\n",
       "[168 rows x 4 columns]"
      ]
     },
     "execution_count": 318,
     "metadata": {},
     "output_type": "execute_result"
    }
   ],
   "source": [
    "df_combined = df_combined.groupby(['Jahr', 'Category']).sum().reset_index().drop(columns=['Studiengang', 'Typ'])\n",
    "df = df_combined[df_combined['Category'] != 'Anzahl']\n",
    "df"
   ]
  },
  {
   "cell_type": "code",
   "execution_count": 319,
   "metadata": {},
   "outputs": [
    {
     "name": "stderr",
     "output_type": "stream",
     "text": [
      "/var/folders/gf/ldtpmxs55h916v2hnlzdv8zw0000gn/T/ipykernel_92372/3515750794.py:2: SettingWithCopyWarning:\n",
      "\n",
      "\n",
      "A value is trying to be set on a copy of a slice from a DataFrame.\n",
      "Try using .loc[row_indexer,col_indexer] = value instead\n",
      "\n",
      "See the caveats in the documentation: https://pandas.pydata.org/pandas-docs/stable/user_guide/indexing.html#returning-a-view-versus-a-copy\n",
      "\n"
     ]
    }
   ],
   "source": [
    "\n",
    "\n",
    "# Umwandeln der Kategorie von '1 (%)', '2 (%)', etc. in numerische Werte (Entfernen von \" (%)\")\n",
    "df['Category_num'] = df['Category'].str.extract('(\\d+)').astype(int)\n",
    "\n",
    "# Sortieren nach Jahr und numerischer Kategorie\n",
    "df_sorted = df.sort_values(by=['Jahr', 'Category_num'])\n",
    "\n",
    "# Entfernen der Hilfsspalte 'Category_num'\n",
    "df_sorted = df_sorted.drop(columns=['Category_num'])\n",
    "\n"
   ]
  },
  {
   "cell_type": "code",
   "execution_count": 320,
   "metadata": {},
   "outputs": [],
   "source": [
    "bachelor_df = df_sorted[[\"Jahr\", \"Category\", \"Bachelorg Wert\"]].rename(columns={\"Bachelorg Wert\": \"Wert\"})\n",
    "bachelor_df[\"Studiengang\"] = \"Bachelor\"\n",
    "\n",
    "master_df = df_sorted[[\"Jahr\", \"Category\", \"Master Wert\"]].rename(columns={\"Master Wert\": \"Wert\"})\n",
    "master_df[\"Studiengang\"] = \"Master\"\n",
    "\n",
    "# Beide DataFrames zusammenführen\n",
    "result = pd.concat([bachelor_df, master_df])\n",
    "\n",
    "# Neu anordnen der Spalten\n",
    "result = result[[\"Jahr\", \"Category\", \"Studiengang\", \"Wert\"]]\n",
    "\n",
    "# Sortieren nach Jahr und Category, falls gewünscht\n",
    "df_sorted = result.sort_values(by=[\"Jahr\", \"Category\"]).reset_index(drop=True)\n"
   ]
  },
  {
   "cell_type": "code",
   "execution_count": 321,
   "metadata": {},
   "outputs": [
    {
     "data": {
      "application/vnd.microsoft.datawrangler.viewer.v0+json": {
       "columns": [
        {
         "name": "index",
         "rawType": "int64",
         "type": "integer"
        },
        {
         "name": "Jahr",
         "rawType": "object",
         "type": "string"
        },
        {
         "name": "Category",
         "rawType": "object",
         "type": "string"
        },
        {
         "name": "Studiengang",
         "rawType": "object",
         "type": "string"
        },
        {
         "name": "Wert",
         "rawType": "float64",
         "type": "float"
        }
       ],
       "conversionMethod": "pd.DataFrame",
       "ref": "a9f034f1-d6d3-4389-bd30-eff412b1d73c",
       "rows": [
        [
         "0",
         "2013",
         "1 (%)",
         "Bachelor",
         "135.0"
        ],
        [
         "1",
         "2013",
         "1 (%)",
         "Master",
         "380.0"
        ],
        [
         "2",
         "2013",
         "10 (%)",
         "Bachelor",
         "0.0"
        ],
        [
         "3",
         "2013",
         "10 (%)",
         "Master",
         "0.0"
        ],
        [
         "4",
         "2013",
         "11 (%)",
         "Bachelor",
         "1.0"
        ],
        [
         "5",
         "2013",
         "11 (%)",
         "Master",
         "0.0"
        ],
        [
         "6",
         "2013",
         "12 (%)",
         "Bachelor",
         "0.0"
        ],
        [
         "7",
         "2013",
         "12 (%)",
         "Master",
         "0.0"
        ],
        [
         "8",
         "2013",
         "13 (%)",
         "Bachelor",
         "0.0"
        ],
        [
         "9",
         "2013",
         "13 (%)",
         "Master",
         "0.0"
        ],
        [
         "10",
         "2013",
         "14 und mehr (%)",
         "Bachelor",
         "0.0"
        ],
        [
         "11",
         "2013",
         "14 und mehr (%)",
         "Master",
         "0.0"
        ],
        [
         "12",
         "2013",
         "2 (%)",
         "Bachelor",
         "2.0"
        ],
        [
         "13",
         "2013",
         "2 (%)",
         "Master",
         "78.0"
        ],
        [
         "14",
         "2013",
         "3 (%)",
         "Bachelor",
         "126.0"
        ],
        [
         "15",
         "2013",
         "3 (%)",
         "Master",
         "191.0"
        ],
        [
         "16",
         "2013",
         "4 (%)",
         "Bachelor",
         "2.0"
        ],
        [
         "17",
         "2013",
         "4 (%)",
         "Master",
         "72.0"
        ],
        [
         "18",
         "2013",
         "5 (%)",
         "Bachelor",
         "95.0"
        ],
        [
         "19",
         "2013",
         "5 (%)",
         "Master",
         "62.0"
        ],
        [
         "20",
         "2013",
         "6 (%)",
         "Bachelor",
         "8.0"
        ],
        [
         "21",
         "2013",
         "6 (%)",
         "Master",
         "11.0"
        ],
        [
         "22",
         "2013",
         "7 (%)",
         "Bachelor",
         "27.0"
        ],
        [
         "23",
         "2013",
         "7 (%)",
         "Master",
         "5.0"
        ],
        [
         "24",
         "2013",
         "8 (%)",
         "Bachelor",
         "1.0"
        ],
        [
         "25",
         "2013",
         "8 (%)",
         "Master",
         "1.0"
        ],
        [
         "26",
         "2013",
         "9 (%)",
         "Bachelor",
         "2.0"
        ],
        [
         "27",
         "2013",
         "9 (%)",
         "Master",
         "0.0"
        ],
        [
         "28",
         "2014",
         "1 (%)",
         "Bachelor",
         "158.0"
        ],
        [
         "29",
         "2014",
         "1 (%)",
         "Master",
         "210.0"
        ],
        [
         "30",
         "2014",
         "10 (%)",
         "Bachelor",
         "0.0"
        ],
        [
         "31",
         "2014",
         "10 (%)",
         "Master",
         "0.0"
        ],
        [
         "32",
         "2014",
         "11 (%)",
         "Bachelor",
         "0.0"
        ],
        [
         "33",
         "2014",
         "11 (%)",
         "Master",
         "1.0"
        ],
        [
         "34",
         "2014",
         "12 (%)",
         "Bachelor",
         "0.0"
        ],
        [
         "35",
         "2014",
         "12 (%)",
         "Master",
         "0.0"
        ],
        [
         "36",
         "2014",
         "13 (%)",
         "Bachelor",
         "0.0"
        ],
        [
         "37",
         "2014",
         "13 (%)",
         "Master",
         "0.0"
        ],
        [
         "38",
         "2014",
         "14 und mehr (%)",
         "Bachelor",
         "0.0"
        ],
        [
         "39",
         "2014",
         "14 und mehr (%)",
         "Master",
         "0.0"
        ],
        [
         "40",
         "2014",
         "2 (%)",
         "Bachelor",
         "1.0"
        ],
        [
         "41",
         "2014",
         "2 (%)",
         "Master",
         "60.0"
        ],
        [
         "42",
         "2014",
         "3 (%)",
         "Bachelor",
         "106.0"
        ],
        [
         "43",
         "2014",
         "3 (%)",
         "Master",
         "274.0"
        ],
        [
         "44",
         "2014",
         "4 (%)",
         "Bachelor",
         "3.0"
        ],
        [
         "45",
         "2014",
         "4 (%)",
         "Master",
         "94.0"
        ],
        [
         "46",
         "2014",
         "5 (%)",
         "Bachelor",
         "97.0"
        ],
        [
         "47",
         "2014",
         "5 (%)",
         "Master",
         "142.0"
        ],
        [
         "48",
         "2014",
         "6 (%)",
         "Bachelor",
         "2.0"
        ],
        [
         "49",
         "2014",
         "6 (%)",
         "Master",
         "6.0"
        ]
       ],
       "shape": {
        "columns": 4,
        "rows": 336
       }
      },
      "text/html": [
       "<div>\n",
       "<style scoped>\n",
       "    .dataframe tbody tr th:only-of-type {\n",
       "        vertical-align: middle;\n",
       "    }\n",
       "\n",
       "    .dataframe tbody tr th {\n",
       "        vertical-align: top;\n",
       "    }\n",
       "\n",
       "    .dataframe thead th {\n",
       "        text-align: right;\n",
       "    }\n",
       "</style>\n",
       "<table border=\"1\" class=\"dataframe\">\n",
       "  <thead>\n",
       "    <tr style=\"text-align: right;\">\n",
       "      <th></th>\n",
       "      <th>Jahr</th>\n",
       "      <th>Category</th>\n",
       "      <th>Studiengang</th>\n",
       "      <th>Wert</th>\n",
       "    </tr>\n",
       "  </thead>\n",
       "  <tbody>\n",
       "    <tr>\n",
       "      <th>0</th>\n",
       "      <td>2013</td>\n",
       "      <td>1 (%)</td>\n",
       "      <td>Bachelor</td>\n",
       "      <td>135.0</td>\n",
       "    </tr>\n",
       "    <tr>\n",
       "      <th>1</th>\n",
       "      <td>2013</td>\n",
       "      <td>1 (%)</td>\n",
       "      <td>Master</td>\n",
       "      <td>380.0</td>\n",
       "    </tr>\n",
       "    <tr>\n",
       "      <th>2</th>\n",
       "      <td>2013</td>\n",
       "      <td>10 (%)</td>\n",
       "      <td>Bachelor</td>\n",
       "      <td>0.0</td>\n",
       "    </tr>\n",
       "    <tr>\n",
       "      <th>3</th>\n",
       "      <td>2013</td>\n",
       "      <td>10 (%)</td>\n",
       "      <td>Master</td>\n",
       "      <td>0.0</td>\n",
       "    </tr>\n",
       "    <tr>\n",
       "      <th>4</th>\n",
       "      <td>2013</td>\n",
       "      <td>11 (%)</td>\n",
       "      <td>Bachelor</td>\n",
       "      <td>1.0</td>\n",
       "    </tr>\n",
       "    <tr>\n",
       "      <th>...</th>\n",
       "      <td>...</td>\n",
       "      <td>...</td>\n",
       "      <td>...</td>\n",
       "      <td>...</td>\n",
       "    </tr>\n",
       "    <tr>\n",
       "      <th>331</th>\n",
       "      <td>2024</td>\n",
       "      <td>7 (%)</td>\n",
       "      <td>Master</td>\n",
       "      <td>17.0</td>\n",
       "    </tr>\n",
       "    <tr>\n",
       "      <th>332</th>\n",
       "      <td>2024</td>\n",
       "      <td>8 (%)</td>\n",
       "      <td>Bachelor</td>\n",
       "      <td>20.0</td>\n",
       "    </tr>\n",
       "    <tr>\n",
       "      <th>333</th>\n",
       "      <td>2024</td>\n",
       "      <td>8 (%)</td>\n",
       "      <td>Master</td>\n",
       "      <td>17.0</td>\n",
       "    </tr>\n",
       "    <tr>\n",
       "      <th>334</th>\n",
       "      <td>2024</td>\n",
       "      <td>9 (%)</td>\n",
       "      <td>Bachelor</td>\n",
       "      <td>10.0</td>\n",
       "    </tr>\n",
       "    <tr>\n",
       "      <th>335</th>\n",
       "      <td>2024</td>\n",
       "      <td>9 (%)</td>\n",
       "      <td>Master</td>\n",
       "      <td>20.0</td>\n",
       "    </tr>\n",
       "  </tbody>\n",
       "</table>\n",
       "<p>336 rows × 4 columns</p>\n",
       "</div>"
      ],
      "text/plain": [
       "     Jahr Category Studiengang   Wert\n",
       "0    2013    1 (%)    Bachelor  135.0\n",
       "1    2013    1 (%)      Master  380.0\n",
       "2    2013   10 (%)    Bachelor    0.0\n",
       "3    2013   10 (%)      Master    0.0\n",
       "4    2013   11 (%)    Bachelor    1.0\n",
       "..    ...      ...         ...    ...\n",
       "331  2024    7 (%)      Master   17.0\n",
       "332  2024    8 (%)    Bachelor   20.0\n",
       "333  2024    8 (%)      Master   17.0\n",
       "334  2024    9 (%)    Bachelor   10.0\n",
       "335  2024    9 (%)      Master   20.0\n",
       "\n",
       "[336 rows x 4 columns]"
      ]
     },
     "execution_count": 321,
     "metadata": {},
     "output_type": "execute_result"
    }
   ],
   "source": [
    "df_sorted"
   ]
  },
  {
   "cell_type": "code",
   "execution_count": 322,
   "metadata": {},
   "outputs": [],
   "source": [
    "# Die Kategorien in aufsteigender Reihenfolge festlegen\n",
    "category_order = [\"1 (%)\", \"2 (%)\", \"3 (%)\", \"4 (%)\", \"5 (%)\", \"6 (%)\", \"7 (%)\", \"8 (%)\", \"9 (%)\", \"10 (%)\", \"11 (%)\", \"12 (%)\", \"13 (%)\", \"14 und mehr (%)\"]\n"
   ]
  },
  {
   "cell_type": "code",
   "execution_count": 324,
   "metadata": {},
   "outputs": [
    {
     "data": {
      "application/vnd.plotly.v1+json": {
       "config": {
        "plotlyServerURL": "https://plot.ly"
       },
       "data": [
        {
         "hovertemplate": "<b>%{hovertext}</b><br><br>Studiengang=Bachelor<br>Jahr=%{x}<br>Fachsemester=%{y}<br>Wert=%{marker.size}<extra></extra>",
         "hovertext": [
          "Bachelor",
          "Bachelor",
          "Bachelor",
          "Bachelor",
          "Bachelor",
          "Bachelor",
          "Bachelor",
          "Bachelor",
          "Bachelor",
          "Bachelor",
          "Bachelor",
          "Bachelor",
          "Bachelor",
          "Bachelor",
          "Bachelor",
          "Bachelor",
          "Bachelor",
          "Bachelor",
          "Bachelor",
          "Bachelor",
          "Bachelor",
          "Bachelor",
          "Bachelor",
          "Bachelor",
          "Bachelor",
          "Bachelor",
          "Bachelor",
          "Bachelor",
          "Bachelor",
          "Bachelor",
          "Bachelor",
          "Bachelor",
          "Bachelor",
          "Bachelor",
          "Bachelor",
          "Bachelor",
          "Bachelor",
          "Bachelor",
          "Bachelor",
          "Bachelor",
          "Bachelor",
          "Bachelor",
          "Bachelor",
          "Bachelor",
          "Bachelor",
          "Bachelor",
          "Bachelor",
          "Bachelor",
          "Bachelor",
          "Bachelor",
          "Bachelor",
          "Bachelor",
          "Bachelor",
          "Bachelor",
          "Bachelor",
          "Bachelor",
          "Bachelor",
          "Bachelor",
          "Bachelor",
          "Bachelor",
          "Bachelor",
          "Bachelor",
          "Bachelor",
          "Bachelor",
          "Bachelor",
          "Bachelor",
          "Bachelor",
          "Bachelor",
          "Bachelor",
          "Bachelor",
          "Bachelor",
          "Bachelor",
          "Bachelor",
          "Bachelor",
          "Bachelor",
          "Bachelor",
          "Bachelor",
          "Bachelor",
          "Bachelor",
          "Bachelor",
          "Bachelor",
          "Bachelor",
          "Bachelor",
          "Bachelor",
          "Bachelor",
          "Bachelor",
          "Bachelor",
          "Bachelor",
          "Bachelor",
          "Bachelor",
          "Bachelor",
          "Bachelor",
          "Bachelor",
          "Bachelor",
          "Bachelor",
          "Bachelor",
          "Bachelor",
          "Bachelor",
          "Bachelor",
          "Bachelor",
          "Bachelor",
          "Bachelor",
          "Bachelor",
          "Bachelor",
          "Bachelor",
          "Bachelor",
          "Bachelor",
          "Bachelor",
          "Bachelor",
          "Bachelor",
          "Bachelor",
          "Bachelor",
          "Bachelor",
          "Bachelor",
          "Bachelor",
          "Bachelor",
          "Bachelor",
          "Bachelor",
          "Bachelor",
          "Bachelor",
          "Bachelor",
          "Bachelor",
          "Bachelor",
          "Bachelor",
          "Bachelor",
          "Bachelor",
          "Bachelor",
          "Bachelor",
          "Bachelor",
          "Bachelor",
          "Bachelor",
          "Bachelor",
          "Bachelor",
          "Bachelor",
          "Bachelor",
          "Bachelor",
          "Bachelor",
          "Bachelor",
          "Bachelor",
          "Bachelor",
          "Bachelor",
          "Bachelor",
          "Bachelor",
          "Bachelor",
          "Bachelor",
          "Bachelor",
          "Bachelor",
          "Bachelor",
          "Bachelor",
          "Bachelor",
          "Bachelor",
          "Bachelor",
          "Bachelor",
          "Bachelor",
          "Bachelor",
          "Bachelor",
          "Bachelor",
          "Bachelor",
          "Bachelor",
          "Bachelor",
          "Bachelor",
          "Bachelor",
          "Bachelor",
          "Bachelor",
          "Bachelor",
          "Bachelor",
          "Bachelor",
          "Bachelor"
         ],
         "legendgroup": "Bachelor",
         "marker": {
          "color": "#636efa",
          "size": [
           135,
           0,
           1,
           0,
           0,
           0,
           2,
           126,
           2,
           95,
           8,
           27,
           1,
           2,
           158,
           0,
           0,
           0,
           0,
           0,
           1,
           106,
           3,
           97,
           2,
           30,
           0,
           3,
           161,
           1,
           0,
           1,
           1,
           0,
           1,
           104,
           5,
           84,
           6,
           35,
           2,
           2,
           137,
           0,
           0,
           0,
           0,
           0,
           2,
           106,
           2,
           101,
           10,
           35,
           2,
           5,
           119,
           1,
           1,
           0,
           0,
           2,
           7,
           113,
           3,
           107,
           12,
           32,
           2,
           1,
           130,
           0,
           1,
           0,
           0,
           1,
           2,
           106,
           2,
           105,
           9,
           35,
           6,
           5,
           143,
           1,
           3,
           0,
           0,
           0,
           5,
           108,
           2,
           80,
           13,
           36,
           2,
           8,
           138,
           0,
           3,
           0,
           2,
           0,
           11,
           91,
           8,
           89,
           18,
           33,
           2,
           5,
           215,
           2,
           3,
           1,
           2,
           2,
           19,
           103,
           5,
           72,
           26,
           48,
           0,
           3,
           181,
           1,
           0,
           1,
           0,
           0,
           3,
           130,
           19,
           88,
           21,
           40,
           4,
           10,
           114,
           0,
           4,
           0,
           2,
           13,
           1,
           145,
           7,
           107,
           26,
           60,
           9,
           9,
           122,
           7,
           9,
           0,
           3,
           0,
           8,
           90,
           7,
           118,
           36,
           78,
           20,
           10
          ],
          "sizemode": "area",
          "sizeref": 0.1322222222222222,
          "symbol": "circle"
         },
         "mode": "markers",
         "name": "Bachelor",
         "orientation": "v",
         "showlegend": true,
         "type": "scatter",
         "x": [
          "2013",
          "2013",
          "2013",
          "2013",
          "2013",
          "2013",
          "2013",
          "2013",
          "2013",
          "2013",
          "2013",
          "2013",
          "2013",
          "2013",
          "2014",
          "2014",
          "2014",
          "2014",
          "2014",
          "2014",
          "2014",
          "2014",
          "2014",
          "2014",
          "2014",
          "2014",
          "2014",
          "2014",
          "2015",
          "2015",
          "2015",
          "2015",
          "2015",
          "2015",
          "2015",
          "2015",
          "2015",
          "2015",
          "2015",
          "2015",
          "2015",
          "2015",
          "2016",
          "2016",
          "2016",
          "2016",
          "2016",
          "2016",
          "2016",
          "2016",
          "2016",
          "2016",
          "2016",
          "2016",
          "2016",
          "2016",
          "2017",
          "2017",
          "2017",
          "2017",
          "2017",
          "2017",
          "2017",
          "2017",
          "2017",
          "2017",
          "2017",
          "2017",
          "2017",
          "2017",
          "2018",
          "2018",
          "2018",
          "2018",
          "2018",
          "2018",
          "2018",
          "2018",
          "2018",
          "2018",
          "2018",
          "2018",
          "2018",
          "2018",
          "2019",
          "2019",
          "2019",
          "2019",
          "2019",
          "2019",
          "2019",
          "2019",
          "2019",
          "2019",
          "2019",
          "2019",
          "2019",
          "2019",
          "2020",
          "2020",
          "2020",
          "2020",
          "2020",
          "2020",
          "2020",
          "2020",
          "2020",
          "2020",
          "2020",
          "2020",
          "2020",
          "2020",
          "2021",
          "2021",
          "2021",
          "2021",
          "2021",
          "2021",
          "2021",
          "2021",
          "2021",
          "2021",
          "2021",
          "2021",
          "2021",
          "2021",
          "2022",
          "2022",
          "2022",
          "2022",
          "2022",
          "2022",
          "2022",
          "2022",
          "2022",
          "2022",
          "2022",
          "2022",
          "2022",
          "2022",
          "2023",
          "2023",
          "2023",
          "2023",
          "2023",
          "2023",
          "2023",
          "2023",
          "2023",
          "2023",
          "2023",
          "2023",
          "2023",
          "2023",
          "2024",
          "2024",
          "2024",
          "2024",
          "2024",
          "2024",
          "2024",
          "2024",
          "2024",
          "2024",
          "2024",
          "2024",
          "2024",
          "2024"
         ],
         "xaxis": "x",
         "y": [
          "1",
          "10",
          "11",
          "12",
          "13",
          "14 und mehr",
          "2",
          "3",
          "4",
          "5",
          "6",
          "7",
          "8",
          "9",
          "1",
          "10",
          "11",
          "12",
          "13",
          "14 und mehr",
          "2",
          "3",
          "4",
          "5",
          "6",
          "7",
          "8",
          "9",
          "1",
          "10",
          "11",
          "12",
          "13",
          "14 und mehr",
          "2",
          "3",
          "4",
          "5",
          "6",
          "7",
          "8",
          "9",
          "1",
          "10",
          "11",
          "12",
          "13",
          "14 und mehr",
          "2",
          "3",
          "4",
          "5",
          "6",
          "7",
          "8",
          "9",
          "1",
          "10",
          "11",
          "12",
          "13",
          "14 und mehr",
          "2",
          "3",
          "4",
          "5",
          "6",
          "7",
          "8",
          "9",
          "1",
          "10",
          "11",
          "12",
          "13",
          "14 und mehr",
          "2",
          "3",
          "4",
          "5",
          "6",
          "7",
          "8",
          "9",
          "1",
          "10",
          "11",
          "12",
          "13",
          "14 und mehr",
          "2",
          "3",
          "4",
          "5",
          "6",
          "7",
          "8",
          "9",
          "1",
          "10",
          "11",
          "12",
          "13",
          "14 und mehr",
          "2",
          "3",
          "4",
          "5",
          "6",
          "7",
          "8",
          "9",
          "1",
          "10",
          "11",
          "12",
          "13",
          "14 und mehr",
          "2",
          "3",
          "4",
          "5",
          "6",
          "7",
          "8",
          "9",
          "1",
          "10",
          "11",
          "12",
          "13",
          "14 und mehr",
          "2",
          "3",
          "4",
          "5",
          "6",
          "7",
          "8",
          "9",
          "1",
          "10",
          "11",
          "12",
          "13",
          "14 und mehr",
          "2",
          "3",
          "4",
          "5",
          "6",
          "7",
          "8",
          "9",
          "1",
          "10",
          "11",
          "12",
          "13",
          "14 und mehr",
          "2",
          "3",
          "4",
          "5",
          "6",
          "7",
          "8",
          "9"
         ],
         "yaxis": "y"
        },
        {
         "hovertemplate": "<b>%{hovertext}</b><br><br>Studiengang=Master<br>Jahr=%{x}<br>Fachsemester=%{y}<br>Wert=%{marker.size}<extra></extra>",
         "hovertext": [
          "Master",
          "Master",
          "Master",
          "Master",
          "Master",
          "Master",
          "Master",
          "Master",
          "Master",
          "Master",
          "Master",
          "Master",
          "Master",
          "Master",
          "Master",
          "Master",
          "Master",
          "Master",
          "Master",
          "Master",
          "Master",
          "Master",
          "Master",
          "Master",
          "Master",
          "Master",
          "Master",
          "Master",
          "Master",
          "Master",
          "Master",
          "Master",
          "Master",
          "Master",
          "Master",
          "Master",
          "Master",
          "Master",
          "Master",
          "Master",
          "Master",
          "Master",
          "Master",
          "Master",
          "Master",
          "Master",
          "Master",
          "Master",
          "Master",
          "Master",
          "Master",
          "Master",
          "Master",
          "Master",
          "Master",
          "Master",
          "Master",
          "Master",
          "Master",
          "Master",
          "Master",
          "Master",
          "Master",
          "Master",
          "Master",
          "Master",
          "Master",
          "Master",
          "Master",
          "Master",
          "Master",
          "Master",
          "Master",
          "Master",
          "Master",
          "Master",
          "Master",
          "Master",
          "Master",
          "Master",
          "Master",
          "Master",
          "Master",
          "Master",
          "Master",
          "Master",
          "Master",
          "Master",
          "Master",
          "Master",
          "Master",
          "Master",
          "Master",
          "Master",
          "Master",
          "Master",
          "Master",
          "Master",
          "Master",
          "Master",
          "Master",
          "Master",
          "Master",
          "Master",
          "Master",
          "Master",
          "Master",
          "Master",
          "Master",
          "Master",
          "Master",
          "Master",
          "Master",
          "Master",
          "Master",
          "Master",
          "Master",
          "Master",
          "Master",
          "Master",
          "Master",
          "Master",
          "Master",
          "Master",
          "Master",
          "Master",
          "Master",
          "Master",
          "Master",
          "Master",
          "Master",
          "Master",
          "Master",
          "Master",
          "Master",
          "Master",
          "Master",
          "Master",
          "Master",
          "Master",
          "Master",
          "Master",
          "Master",
          "Master",
          "Master",
          "Master",
          "Master",
          "Master",
          "Master",
          "Master",
          "Master",
          "Master",
          "Master",
          "Master",
          "Master",
          "Master",
          "Master",
          "Master",
          "Master",
          "Master",
          "Master",
          "Master",
          "Master",
          "Master",
          "Master",
          "Master",
          "Master",
          "Master"
         ],
         "legendgroup": "Master",
         "marker": {
          "color": "#EF553B",
          "size": [
           380,
           0,
           0,
           0,
           0,
           0,
           78,
           191,
           72,
           62,
           11,
           5,
           1,
           0,
           210,
           0,
           1,
           0,
           0,
           0,
           60,
           274,
           94,
           142,
           6,
           9,
           2,
           1,
           275,
           0,
           0,
           0,
           0,
           0,
           10,
           76,
           50,
           64,
           20,
           3,
           0,
           0,
           319,
           2,
           8,
           0,
           0,
           0,
           128,
           216,
           52,
           46,
           10,
           2,
           12,
           0,
           363,
           0,
           0,
           0,
           0,
           7,
           105,
           264,
           83,
           155,
           8,
           15,
           3,
           0,
           332,
           0,
           0,
           0,
           0,
           0,
           109,
           206,
           163,
           123,
           11,
           4,
           2,
           8,
           473,
           0,
           1,
           2,
           0,
           0,
           78,
           323,
           200,
           136,
           57,
           20,
           3,
           3,
           450,
           0,
           1,
           0,
           1,
           0,
           135,
           285,
           133,
           112,
           58,
           19,
           5,
           0,
           476,
           6,
           3,
           0,
           0,
           0,
           77,
           304,
           96,
           87,
           23,
           26,
           3,
           0,
           353,
           0,
           0,
           2,
           0,
           0,
           171,
           362,
           94,
           180,
           9,
           20,
           5,
           2,
           323,
           0,
           0,
           0,
           0,
           0,
           67,
           270,
           130,
           153,
           34,
           21,
           0,
           0,
           229,
           0,
           15,
           0,
           0,
           0,
           65,
           289,
           107,
           180,
           59,
           17,
           17,
           20
          ],
          "sizemode": "area",
          "sizeref": 0.1322222222222222,
          "symbol": "circle"
         },
         "mode": "markers",
         "name": "Master",
         "orientation": "v",
         "showlegend": true,
         "type": "scatter",
         "x": [
          "2013",
          "2013",
          "2013",
          "2013",
          "2013",
          "2013",
          "2013",
          "2013",
          "2013",
          "2013",
          "2013",
          "2013",
          "2013",
          "2013",
          "2014",
          "2014",
          "2014",
          "2014",
          "2014",
          "2014",
          "2014",
          "2014",
          "2014",
          "2014",
          "2014",
          "2014",
          "2014",
          "2014",
          "2015",
          "2015",
          "2015",
          "2015",
          "2015",
          "2015",
          "2015",
          "2015",
          "2015",
          "2015",
          "2015",
          "2015",
          "2015",
          "2015",
          "2016",
          "2016",
          "2016",
          "2016",
          "2016",
          "2016",
          "2016",
          "2016",
          "2016",
          "2016",
          "2016",
          "2016",
          "2016",
          "2016",
          "2017",
          "2017",
          "2017",
          "2017",
          "2017",
          "2017",
          "2017",
          "2017",
          "2017",
          "2017",
          "2017",
          "2017",
          "2017",
          "2017",
          "2018",
          "2018",
          "2018",
          "2018",
          "2018",
          "2018",
          "2018",
          "2018",
          "2018",
          "2018",
          "2018",
          "2018",
          "2018",
          "2018",
          "2019",
          "2019",
          "2019",
          "2019",
          "2019",
          "2019",
          "2019",
          "2019",
          "2019",
          "2019",
          "2019",
          "2019",
          "2019",
          "2019",
          "2020",
          "2020",
          "2020",
          "2020",
          "2020",
          "2020",
          "2020",
          "2020",
          "2020",
          "2020",
          "2020",
          "2020",
          "2020",
          "2020",
          "2021",
          "2021",
          "2021",
          "2021",
          "2021",
          "2021",
          "2021",
          "2021",
          "2021",
          "2021",
          "2021",
          "2021",
          "2021",
          "2021",
          "2022",
          "2022",
          "2022",
          "2022",
          "2022",
          "2022",
          "2022",
          "2022",
          "2022",
          "2022",
          "2022",
          "2022",
          "2022",
          "2022",
          "2023",
          "2023",
          "2023",
          "2023",
          "2023",
          "2023",
          "2023",
          "2023",
          "2023",
          "2023",
          "2023",
          "2023",
          "2023",
          "2023",
          "2024",
          "2024",
          "2024",
          "2024",
          "2024",
          "2024",
          "2024",
          "2024",
          "2024",
          "2024",
          "2024",
          "2024",
          "2024",
          "2024"
         ],
         "xaxis": "x",
         "y": [
          "1",
          "10",
          "11",
          "12",
          "13",
          "14 und mehr",
          "2",
          "3",
          "4",
          "5",
          "6",
          "7",
          "8",
          "9",
          "1",
          "10",
          "11",
          "12",
          "13",
          "14 und mehr",
          "2",
          "3",
          "4",
          "5",
          "6",
          "7",
          "8",
          "9",
          "1",
          "10",
          "11",
          "12",
          "13",
          "14 und mehr",
          "2",
          "3",
          "4",
          "5",
          "6",
          "7",
          "8",
          "9",
          "1",
          "10",
          "11",
          "12",
          "13",
          "14 und mehr",
          "2",
          "3",
          "4",
          "5",
          "6",
          "7",
          "8",
          "9",
          "1",
          "10",
          "11",
          "12",
          "13",
          "14 und mehr",
          "2",
          "3",
          "4",
          "5",
          "6",
          "7",
          "8",
          "9",
          "1",
          "10",
          "11",
          "12",
          "13",
          "14 und mehr",
          "2",
          "3",
          "4",
          "5",
          "6",
          "7",
          "8",
          "9",
          "1",
          "10",
          "11",
          "12",
          "13",
          "14 und mehr",
          "2",
          "3",
          "4",
          "5",
          "6",
          "7",
          "8",
          "9",
          "1",
          "10",
          "11",
          "12",
          "13",
          "14 und mehr",
          "2",
          "3",
          "4",
          "5",
          "6",
          "7",
          "8",
          "9",
          "1",
          "10",
          "11",
          "12",
          "13",
          "14 und mehr",
          "2",
          "3",
          "4",
          "5",
          "6",
          "7",
          "8",
          "9",
          "1",
          "10",
          "11",
          "12",
          "13",
          "14 und mehr",
          "2",
          "3",
          "4",
          "5",
          "6",
          "7",
          "8",
          "9",
          "1",
          "10",
          "11",
          "12",
          "13",
          "14 und mehr",
          "2",
          "3",
          "4",
          "5",
          "6",
          "7",
          "8",
          "9",
          "1",
          "10",
          "11",
          "12",
          "13",
          "14 und mehr",
          "2",
          "3",
          "4",
          "5",
          "6",
          "7",
          "8",
          "9"
         ],
         "yaxis": "y"
        }
       ],
       "layout": {
        "height": 1200,
        "legend": {
         "itemsizing": "constant",
         "title": {
          "text": "Studiengang"
         },
         "tracegroupgap": 0
        },
        "showlegend": false,
        "template": {
         "layout": {
          "template": {
           "data": {
            "bar": [
             {
              "error_x": {
               "color": "#2a3f5f"
              },
              "error_y": {
               "color": "#2a3f5f"
              },
              "marker": {
               "line": {
                "color": "white",
                "width": 0.5
               },
               "pattern": {
                "fillmode": "overlay",
                "size": 10,
                "solidity": 0.2
               }
              },
              "type": "bar"
             }
            ],
            "barpolar": [
             {
              "marker": {
               "line": {
                "color": "white",
                "width": 0.5
               },
               "pattern": {
                "fillmode": "overlay",
                "size": 10,
                "solidity": 0.2
               }
              },
              "type": "barpolar"
             }
            ],
            "carpet": [
             {
              "aaxis": {
               "endlinecolor": "#2a3f5f",
               "gridcolor": "#C8D4E3",
               "linecolor": "#C8D4E3",
               "minorgridcolor": "#C8D4E3",
               "startlinecolor": "#2a3f5f"
              },
              "baxis": {
               "endlinecolor": "#2a3f5f",
               "gridcolor": "#C8D4E3",
               "linecolor": "#C8D4E3",
               "minorgridcolor": "#C8D4E3",
               "startlinecolor": "#2a3f5f"
              },
              "type": "carpet"
             }
            ],
            "choropleth": [
             {
              "colorbar": {
               "outlinewidth": 0,
               "ticks": ""
              },
              "type": "choropleth"
             }
            ],
            "contour": [
             {
              "colorbar": {
               "outlinewidth": 0,
               "ticks": ""
              },
              "colorscale": [
               [
                0,
                "#0d0887"
               ],
               [
                0.1111111111111111,
                "#46039f"
               ],
               [
                0.2222222222222222,
                "#7201a8"
               ],
               [
                0.3333333333333333,
                "#9c179e"
               ],
               [
                0.4444444444444444,
                "#bd3786"
               ],
               [
                0.5555555555555556,
                "#d8576b"
               ],
               [
                0.6666666666666666,
                "#ed7953"
               ],
               [
                0.7777777777777778,
                "#fb9f3a"
               ],
               [
                0.8888888888888888,
                "#fdca26"
               ],
               [
                1,
                "#f0f921"
               ]
              ],
              "type": "contour"
             }
            ],
            "contourcarpet": [
             {
              "colorbar": {
               "outlinewidth": 0,
               "ticks": ""
              },
              "type": "contourcarpet"
             }
            ],
            "heatmap": [
             {
              "colorbar": {
               "outlinewidth": 0,
               "ticks": ""
              },
              "colorscale": [
               [
                0,
                "#0d0887"
               ],
               [
                0.1111111111111111,
                "#46039f"
               ],
               [
                0.2222222222222222,
                "#7201a8"
               ],
               [
                0.3333333333333333,
                "#9c179e"
               ],
               [
                0.4444444444444444,
                "#bd3786"
               ],
               [
                0.5555555555555556,
                "#d8576b"
               ],
               [
                0.6666666666666666,
                "#ed7953"
               ],
               [
                0.7777777777777778,
                "#fb9f3a"
               ],
               [
                0.8888888888888888,
                "#fdca26"
               ],
               [
                1,
                "#f0f921"
               ]
              ],
              "type": "heatmap"
             }
            ],
            "heatmapgl": [
             {
              "colorbar": {
               "outlinewidth": 0,
               "ticks": ""
              },
              "colorscale": [
               [
                0,
                "#0d0887"
               ],
               [
                0.1111111111111111,
                "#46039f"
               ],
               [
                0.2222222222222222,
                "#7201a8"
               ],
               [
                0.3333333333333333,
                "#9c179e"
               ],
               [
                0.4444444444444444,
                "#bd3786"
               ],
               [
                0.5555555555555556,
                "#d8576b"
               ],
               [
                0.6666666666666666,
                "#ed7953"
               ],
               [
                0.7777777777777778,
                "#fb9f3a"
               ],
               [
                0.8888888888888888,
                "#fdca26"
               ],
               [
                1,
                "#f0f921"
               ]
              ],
              "type": "heatmapgl"
             }
            ],
            "histogram": [
             {
              "marker": {
               "pattern": {
                "fillmode": "overlay",
                "size": 10,
                "solidity": 0.2
               }
              },
              "type": "histogram"
             }
            ],
            "histogram2d": [
             {
              "colorbar": {
               "outlinewidth": 0,
               "ticks": ""
              },
              "colorscale": [
               [
                0,
                "#0d0887"
               ],
               [
                0.1111111111111111,
                "#46039f"
               ],
               [
                0.2222222222222222,
                "#7201a8"
               ],
               [
                0.3333333333333333,
                "#9c179e"
               ],
               [
                0.4444444444444444,
                "#bd3786"
               ],
               [
                0.5555555555555556,
                "#d8576b"
               ],
               [
                0.6666666666666666,
                "#ed7953"
               ],
               [
                0.7777777777777778,
                "#fb9f3a"
               ],
               [
                0.8888888888888888,
                "#fdca26"
               ],
               [
                1,
                "#f0f921"
               ]
              ],
              "type": "histogram2d"
             }
            ],
            "histogram2dcontour": [
             {
              "colorbar": {
               "outlinewidth": 0,
               "ticks": ""
              },
              "colorscale": [
               [
                0,
                "#0d0887"
               ],
               [
                0.1111111111111111,
                "#46039f"
               ],
               [
                0.2222222222222222,
                "#7201a8"
               ],
               [
                0.3333333333333333,
                "#9c179e"
               ],
               [
                0.4444444444444444,
                "#bd3786"
               ],
               [
                0.5555555555555556,
                "#d8576b"
               ],
               [
                0.6666666666666666,
                "#ed7953"
               ],
               [
                0.7777777777777778,
                "#fb9f3a"
               ],
               [
                0.8888888888888888,
                "#fdca26"
               ],
               [
                1,
                "#f0f921"
               ]
              ],
              "type": "histogram2dcontour"
             }
            ],
            "mesh3d": [
             {
              "colorbar": {
               "outlinewidth": 0,
               "ticks": ""
              },
              "type": "mesh3d"
             }
            ],
            "parcoords": [
             {
              "line": {
               "colorbar": {
                "outlinewidth": 0,
                "ticks": ""
               }
              },
              "type": "parcoords"
             }
            ],
            "pie": [
             {
              "automargin": true,
              "type": "pie"
             }
            ],
            "scatter": [
             {
              "fillpattern": {
               "fillmode": "overlay",
               "size": 10,
               "solidity": 0.2
              },
              "type": "scatter"
             }
            ],
            "scatter3d": [
             {
              "line": {
               "colorbar": {
                "outlinewidth": 0,
                "ticks": ""
               }
              },
              "marker": {
               "colorbar": {
                "outlinewidth": 0,
                "ticks": ""
               }
              },
              "type": "scatter3d"
             }
            ],
            "scattercarpet": [
             {
              "marker": {
               "colorbar": {
                "outlinewidth": 0,
                "ticks": ""
               }
              },
              "type": "scattercarpet"
             }
            ],
            "scattergeo": [
             {
              "marker": {
               "colorbar": {
                "outlinewidth": 0,
                "ticks": ""
               }
              },
              "type": "scattergeo"
             }
            ],
            "scattergl": [
             {
              "marker": {
               "colorbar": {
                "outlinewidth": 0,
                "ticks": ""
               }
              },
              "type": "scattergl"
             }
            ],
            "scattermapbox": [
             {
              "marker": {
               "colorbar": {
                "outlinewidth": 0,
                "ticks": ""
               }
              },
              "type": "scattermapbox"
             }
            ],
            "scatterpolar": [
             {
              "marker": {
               "colorbar": {
                "outlinewidth": 0,
                "ticks": ""
               }
              },
              "type": "scatterpolar"
             }
            ],
            "scatterpolargl": [
             {
              "marker": {
               "colorbar": {
                "outlinewidth": 0,
                "ticks": ""
               }
              },
              "type": "scatterpolargl"
             }
            ],
            "scatterternary": [
             {
              "marker": {
               "colorbar": {
                "outlinewidth": 0,
                "ticks": ""
               }
              },
              "type": "scatterternary"
             }
            ],
            "surface": [
             {
              "colorbar": {
               "outlinewidth": 0,
               "ticks": ""
              },
              "colorscale": [
               [
                0,
                "#0d0887"
               ],
               [
                0.1111111111111111,
                "#46039f"
               ],
               [
                0.2222222222222222,
                "#7201a8"
               ],
               [
                0.3333333333333333,
                "#9c179e"
               ],
               [
                0.4444444444444444,
                "#bd3786"
               ],
               [
                0.5555555555555556,
                "#d8576b"
               ],
               [
                0.6666666666666666,
                "#ed7953"
               ],
               [
                0.7777777777777778,
                "#fb9f3a"
               ],
               [
                0.8888888888888888,
                "#fdca26"
               ],
               [
                1,
                "#f0f921"
               ]
              ],
              "type": "surface"
             }
            ],
            "table": [
             {
              "cells": {
               "fill": {
                "color": "#EBF0F8"
               },
               "line": {
                "color": "white"
               }
              },
              "header": {
               "fill": {
                "color": "#C8D4E3"
               },
               "line": {
                "color": "white"
               }
              },
              "type": "table"
             }
            ]
           },
           "layout": {
            "annotationdefaults": {
             "arrowcolor": "#2a3f5f",
             "arrowhead": 0,
             "arrowwidth": 1
            },
            "autotypenumbers": "strict",
            "coloraxis": {
             "colorbar": {
              "outlinewidth": 0,
              "ticks": ""
             }
            },
            "colorscale": {
             "diverging": [
              [
               0,
               "#8e0152"
              ],
              [
               0.1,
               "#c51b7d"
              ],
              [
               0.2,
               "#de77ae"
              ],
              [
               0.3,
               "#f1b6da"
              ],
              [
               0.4,
               "#fde0ef"
              ],
              [
               0.5,
               "#f7f7f7"
              ],
              [
               0.6,
               "#e6f5d0"
              ],
              [
               0.7,
               "#b8e186"
              ],
              [
               0.8,
               "#7fbc41"
              ],
              [
               0.9,
               "#4d9221"
              ],
              [
               1,
               "#276419"
              ]
             ],
             "sequential": [
              [
               0,
               "#0d0887"
              ],
              [
               0.1111111111111111,
               "#46039f"
              ],
              [
               0.2222222222222222,
               "#7201a8"
              ],
              [
               0.3333333333333333,
               "#9c179e"
              ],
              [
               0.4444444444444444,
               "#bd3786"
              ],
              [
               0.5555555555555556,
               "#d8576b"
              ],
              [
               0.6666666666666666,
               "#ed7953"
              ],
              [
               0.7777777777777778,
               "#fb9f3a"
              ],
              [
               0.8888888888888888,
               "#fdca26"
              ],
              [
               1,
               "#f0f921"
              ]
             ],
             "sequentialminus": [
              [
               0,
               "#0d0887"
              ],
              [
               0.1111111111111111,
               "#46039f"
              ],
              [
               0.2222222222222222,
               "#7201a8"
              ],
              [
               0.3333333333333333,
               "#9c179e"
              ],
              [
               0.4444444444444444,
               "#bd3786"
              ],
              [
               0.5555555555555556,
               "#d8576b"
              ],
              [
               0.6666666666666666,
               "#ed7953"
              ],
              [
               0.7777777777777778,
               "#fb9f3a"
              ],
              [
               0.8888888888888888,
               "#fdca26"
              ],
              [
               1,
               "#f0f921"
              ]
             ]
            },
            "colorway": [
             "#636efa",
             "#EF553B",
             "#00cc96",
             "#ab63fa",
             "#FFA15A",
             "#19d3f3",
             "#FF6692",
             "#B6E880",
             "#FF97FF",
             "#FECB52"
            ],
            "font": {
             "color": "#2a3f5f"
            },
            "geo": {
             "bgcolor": "white",
             "lakecolor": "white",
             "landcolor": "white",
             "showlakes": true,
             "showland": true,
             "subunitcolor": "#C8D4E3"
            },
            "hoverlabel": {
             "align": "left"
            },
            "hovermode": "closest",
            "mapbox": {
             "style": "light"
            },
            "paper_bgcolor": "white",
            "plot_bgcolor": "white",
            "polar": {
             "angularaxis": {
              "gridcolor": "#EBF0F8",
              "linecolor": "#EBF0F8",
              "ticks": ""
             },
             "bgcolor": "white",
             "radialaxis": {
              "gridcolor": "#EBF0F8",
              "linecolor": "#EBF0F8",
              "ticks": ""
             }
            },
            "scene": {
             "xaxis": {
              "backgroundcolor": "white",
              "gridcolor": "#DFE8F3",
              "gridwidth": 2,
              "linecolor": "#EBF0F8",
              "showbackground": true,
              "ticks": "",
              "zerolinecolor": "#EBF0F8"
             },
             "yaxis": {
              "backgroundcolor": "white",
              "gridcolor": "#DFE8F3",
              "gridwidth": 2,
              "linecolor": "#EBF0F8",
              "showbackground": true,
              "ticks": "",
              "zerolinecolor": "#EBF0F8"
             },
             "zaxis": {
              "backgroundcolor": "white",
              "gridcolor": "#DFE8F3",
              "gridwidth": 2,
              "linecolor": "#EBF0F8",
              "showbackground": true,
              "ticks": "",
              "zerolinecolor": "#EBF0F8"
             }
            },
            "shapedefaults": {
             "line": {
              "color": "#2a3f5f"
             }
            },
            "ternary": {
             "aaxis": {
              "gridcolor": "#DFE8F3",
              "linecolor": "#A2B1C6",
              "ticks": ""
             },
             "baxis": {
              "gridcolor": "#DFE8F3",
              "linecolor": "#A2B1C6",
              "ticks": ""
             },
             "bgcolor": "white",
             "caxis": {
              "gridcolor": "#DFE8F3",
              "linecolor": "#A2B1C6",
              "ticks": ""
             }
            },
            "title": {
             "x": 0.05
            },
            "xaxis": {
             "automargin": true,
             "gridcolor": "#EBF0F8",
             "linecolor": "#EBF0F8",
             "ticks": "",
             "title": {
              "standoff": 15
             },
             "zerolinecolor": "#EBF0F8",
             "zerolinewidth": 2
            },
            "yaxis": {
             "automargin": true,
             "gridcolor": "#EBF0F8",
             "linecolor": "#EBF0F8",
             "ticks": "",
             "title": {
              "standoff": 15
             },
             "zerolinecolor": "#EBF0F8",
             "zerolinewidth": 2
            }
           }
          },
          "title": {
           "font": {
            "color": "black",
            "family": "Arial",
            "size": 20,
            "weight": "bold"
           },
           "x": 0.05,
           "xanchor": "left",
           "y": 0.91
          },
          "xaxis": {
           "showgrid": false,
           "tickfont": {
            "color": "grey",
            "size": 12
           },
           "ticklabelposition": "outside bottom",
           "title": {
            "font": {
             "color": "grey",
             "size": 13,
             "weight": "bold"
            },
            "standoff": 15
           },
           "zerolinecolor": "lightgrey"
          },
          "yaxis": {
           "gridcolor": "lightgrey",
           "showgrid": true,
           "tickfont": {
            "color": "grey",
            "size": 12
           },
           "ticklabelposition": "outside left",
           "title": {
            "font": {
             "color": "grey",
             "size": 13,
             "weight": "bold"
            },
            "standoff": 15
           },
           "zerolinecolor": "lightgrey"
          }
         }
        },
        "title": {
         "text": "Verteilung von </b><span style='color:#73c6e9;'>Bachelor</span> <b> und </b><span style='color:#cc5b6e;'>Master</span> <b> über die Jahre"
        },
        "width": 1400,
        "xaxis": {
         "anchor": "y",
         "domain": [
          0,
          1
         ],
         "title": {
          "text": "Jahr"
         }
        },
        "yaxis": {
         "anchor": "x",
         "categoryarray": [
          "1 (%)",
          "2 (%)",
          "3 (%)",
          "4 (%)",
          "5 (%)",
          "6 (%)",
          "7 (%)",
          "8 (%)",
          "9 (%)",
          "10 (%)",
          "11 (%)",
          "12 (%)",
          "13 (%)",
          "14 und mehr (%)"
         ],
         "categoryorder": "array",
         "domain": [
          0,
          1
         ],
         "title": {
          "text": "Fachsemester"
         }
        }
       }
      }
     },
     "metadata": {},
     "output_type": "display_data"
    }
   ],
   "source": [
    "import pandas as pd\n",
    "import plotly.express as px\n",
    "\n",
    "\n",
    "# Template ins Plotly laden\n",
    "pio.templates[\"infoviz\"] = infoviz_template\n",
    "\n",
    "# DataFrame erstellen (diese Zeile geht davon aus, dass df_sorted existiert)\n",
    "df = pd.DataFrame(df_sorted)\n",
    "\n",
    "# Die Kategorien in absteigender Reihenfolge festlegen\n",
    "category_order = [\"14 und mehr (%)\", \"13 (%)\", \"12 (%)\", \"11 (%)\", \"10 (%)\", \"9 (%)\", \"8 (%)\", \"7 (%)\", \"6 (%)\", \"5 (%)\", \"4 (%)\", \"3 (%)\", \"2 (%)\", \"1 (%)\"]\n",
    "\n",
    "df['Category'] = df['Category'].str.replace(' (%)', '', regex=False)\n",
    "\n",
    "# Bubble-Plot erstellen und die Reihenfolge der Kategorien explizit umkehren\n",
    "fig = px.scatter(df,\n",
    "                 x=\"Jahr\", \n",
    "                 y=\"Category\", \n",
    "                 color=\"Studiengang\", \n",
    "                 size=\"Wert\", \n",
    "                 hover_name=\"Studiengang\",  # Hover-Information\n",
    "                 title=\"Verteilung von </b><span style='color:#73c6e9;'>Bachelor</span> <b> und </b><span style='color:#cc5b6e;'>Master</span> <b> über die Jahre\",\n",
    "                 labels={\"Jahr\": \"Jahr\", \"Category\": \"Fachsemester\", \"Wert\": \"Wert\"},\n",
    "                 size_max=60,  # Maximale Blasengröße\n",
    "                 category_orders={\"Category\": category_order})  # Reihenfolge der Kategorien umkehren\n",
    "\n",
    "# Größe des Plots anpassen (Höhe und Breite)\n",
    "fig.update_layout(\n",
    "    template=\"infoviz\",  # Dein Template anwenden\n",
    "    height=1200,  # Höhe des Plots\n",
    "    width=1400,   # Breite des Plots\n",
    "     showlegend=False,\n",
    ")\n",
    "\n",
    "# Plot anzeigen\n",
    "fig.show()"
   ]
  },
  {
   "cell_type": "code",
   "execution_count": 299,
   "metadata": {},
   "outputs": [
    {
     "data": {
      "application/vnd.microsoft.datawrangler.viewer.v0+json": {
       "columns": [
        {
         "name": "index",
         "rawType": "int64",
         "type": "integer"
        },
        {
         "name": "Jahr",
         "rawType": "object",
         "type": "string"
        },
        {
         "name": "Category",
         "rawType": "object",
         "type": "string"
        },
        {
         "name": "Studiengang",
         "rawType": "object",
         "type": "string"
        },
        {
         "name": "Wert",
         "rawType": "float64",
         "type": "float"
        }
       ],
       "conversionMethod": "pd.DataFrame",
       "ref": "8f976972-1161-4e87-8039-56352dc3aebe",
       "rows": [
        [
         "308",
         "2024",
         "1 (%)",
         "Bachelor",
         "122.0"
        ],
        [
         "309",
         "2024",
         "1 (%)",
         "Master",
         "229.0"
        ],
        [
         "310",
         "2024",
         "10 (%)",
         "Bachelor",
         "7.0"
        ],
        [
         "311",
         "2024",
         "10 (%)",
         "Master",
         "0.0"
        ],
        [
         "312",
         "2024",
         "11 (%)",
         "Bachelor",
         "9.0"
        ],
        [
         "313",
         "2024",
         "11 (%)",
         "Master",
         "15.0"
        ],
        [
         "314",
         "2024",
         "12 (%)",
         "Bachelor",
         "0.0"
        ],
        [
         "315",
         "2024",
         "12 (%)",
         "Master",
         "0.0"
        ],
        [
         "316",
         "2024",
         "13 (%)",
         "Bachelor",
         "3.0"
        ],
        [
         "317",
         "2024",
         "13 (%)",
         "Master",
         "0.0"
        ],
        [
         "318",
         "2024",
         "14 und mehr (%)",
         "Bachelor",
         "0.0"
        ],
        [
         "319",
         "2024",
         "14 und mehr (%)",
         "Master",
         "0.0"
        ],
        [
         "320",
         "2024",
         "2 (%)",
         "Bachelor",
         "8.0"
        ],
        [
         "321",
         "2024",
         "2 (%)",
         "Master",
         "65.0"
        ],
        [
         "322",
         "2024",
         "3 (%)",
         "Bachelor",
         "90.0"
        ],
        [
         "323",
         "2024",
         "3 (%)",
         "Master",
         "289.0"
        ],
        [
         "324",
         "2024",
         "4 (%)",
         "Bachelor",
         "7.0"
        ],
        [
         "325",
         "2024",
         "4 (%)",
         "Master",
         "107.0"
        ],
        [
         "326",
         "2024",
         "5 (%)",
         "Bachelor",
         "118.0"
        ],
        [
         "327",
         "2024",
         "5 (%)",
         "Master",
         "180.0"
        ],
        [
         "328",
         "2024",
         "6 (%)",
         "Bachelor",
         "36.0"
        ],
        [
         "329",
         "2024",
         "6 (%)",
         "Master",
         "59.0"
        ],
        [
         "330",
         "2024",
         "7 (%)",
         "Bachelor",
         "78.0"
        ],
        [
         "331",
         "2024",
         "7 (%)",
         "Master",
         "17.0"
        ],
        [
         "332",
         "2024",
         "8 (%)",
         "Bachelor",
         "20.0"
        ],
        [
         "333",
         "2024",
         "8 (%)",
         "Master",
         "17.0"
        ],
        [
         "334",
         "2024",
         "9 (%)",
         "Bachelor",
         "10.0"
        ],
        [
         "335",
         "2024",
         "9 (%)",
         "Master",
         "20.0"
        ]
       ],
       "shape": {
        "columns": 4,
        "rows": 28
       }
      },
      "text/html": [
       "<div>\n",
       "<style scoped>\n",
       "    .dataframe tbody tr th:only-of-type {\n",
       "        vertical-align: middle;\n",
       "    }\n",
       "\n",
       "    .dataframe tbody tr th {\n",
       "        vertical-align: top;\n",
       "    }\n",
       "\n",
       "    .dataframe thead th {\n",
       "        text-align: right;\n",
       "    }\n",
       "</style>\n",
       "<table border=\"1\" class=\"dataframe\">\n",
       "  <thead>\n",
       "    <tr style=\"text-align: right;\">\n",
       "      <th></th>\n",
       "      <th>Jahr</th>\n",
       "      <th>Category</th>\n",
       "      <th>Studiengang</th>\n",
       "      <th>Wert</th>\n",
       "    </tr>\n",
       "  </thead>\n",
       "  <tbody>\n",
       "    <tr>\n",
       "      <th>308</th>\n",
       "      <td>2024</td>\n",
       "      <td>1 (%)</td>\n",
       "      <td>Bachelor</td>\n",
       "      <td>122.0</td>\n",
       "    </tr>\n",
       "    <tr>\n",
       "      <th>309</th>\n",
       "      <td>2024</td>\n",
       "      <td>1 (%)</td>\n",
       "      <td>Master</td>\n",
       "      <td>229.0</td>\n",
       "    </tr>\n",
       "    <tr>\n",
       "      <th>310</th>\n",
       "      <td>2024</td>\n",
       "      <td>10 (%)</td>\n",
       "      <td>Bachelor</td>\n",
       "      <td>7.0</td>\n",
       "    </tr>\n",
       "    <tr>\n",
       "      <th>311</th>\n",
       "      <td>2024</td>\n",
       "      <td>10 (%)</td>\n",
       "      <td>Master</td>\n",
       "      <td>0.0</td>\n",
       "    </tr>\n",
       "    <tr>\n",
       "      <th>312</th>\n",
       "      <td>2024</td>\n",
       "      <td>11 (%)</td>\n",
       "      <td>Bachelor</td>\n",
       "      <td>9.0</td>\n",
       "    </tr>\n",
       "    <tr>\n",
       "      <th>313</th>\n",
       "      <td>2024</td>\n",
       "      <td>11 (%)</td>\n",
       "      <td>Master</td>\n",
       "      <td>15.0</td>\n",
       "    </tr>\n",
       "    <tr>\n",
       "      <th>314</th>\n",
       "      <td>2024</td>\n",
       "      <td>12 (%)</td>\n",
       "      <td>Bachelor</td>\n",
       "      <td>0.0</td>\n",
       "    </tr>\n",
       "    <tr>\n",
       "      <th>315</th>\n",
       "      <td>2024</td>\n",
       "      <td>12 (%)</td>\n",
       "      <td>Master</td>\n",
       "      <td>0.0</td>\n",
       "    </tr>\n",
       "    <tr>\n",
       "      <th>316</th>\n",
       "      <td>2024</td>\n",
       "      <td>13 (%)</td>\n",
       "      <td>Bachelor</td>\n",
       "      <td>3.0</td>\n",
       "    </tr>\n",
       "    <tr>\n",
       "      <th>317</th>\n",
       "      <td>2024</td>\n",
       "      <td>13 (%)</td>\n",
       "      <td>Master</td>\n",
       "      <td>0.0</td>\n",
       "    </tr>\n",
       "    <tr>\n",
       "      <th>318</th>\n",
       "      <td>2024</td>\n",
       "      <td>14 und mehr (%)</td>\n",
       "      <td>Bachelor</td>\n",
       "      <td>0.0</td>\n",
       "    </tr>\n",
       "    <tr>\n",
       "      <th>319</th>\n",
       "      <td>2024</td>\n",
       "      <td>14 und mehr (%)</td>\n",
       "      <td>Master</td>\n",
       "      <td>0.0</td>\n",
       "    </tr>\n",
       "    <tr>\n",
       "      <th>320</th>\n",
       "      <td>2024</td>\n",
       "      <td>2 (%)</td>\n",
       "      <td>Bachelor</td>\n",
       "      <td>8.0</td>\n",
       "    </tr>\n",
       "    <tr>\n",
       "      <th>321</th>\n",
       "      <td>2024</td>\n",
       "      <td>2 (%)</td>\n",
       "      <td>Master</td>\n",
       "      <td>65.0</td>\n",
       "    </tr>\n",
       "    <tr>\n",
       "      <th>322</th>\n",
       "      <td>2024</td>\n",
       "      <td>3 (%)</td>\n",
       "      <td>Bachelor</td>\n",
       "      <td>90.0</td>\n",
       "    </tr>\n",
       "    <tr>\n",
       "      <th>323</th>\n",
       "      <td>2024</td>\n",
       "      <td>3 (%)</td>\n",
       "      <td>Master</td>\n",
       "      <td>289.0</td>\n",
       "    </tr>\n",
       "    <tr>\n",
       "      <th>324</th>\n",
       "      <td>2024</td>\n",
       "      <td>4 (%)</td>\n",
       "      <td>Bachelor</td>\n",
       "      <td>7.0</td>\n",
       "    </tr>\n",
       "    <tr>\n",
       "      <th>325</th>\n",
       "      <td>2024</td>\n",
       "      <td>4 (%)</td>\n",
       "      <td>Master</td>\n",
       "      <td>107.0</td>\n",
       "    </tr>\n",
       "    <tr>\n",
       "      <th>326</th>\n",
       "      <td>2024</td>\n",
       "      <td>5 (%)</td>\n",
       "      <td>Bachelor</td>\n",
       "      <td>118.0</td>\n",
       "    </tr>\n",
       "    <tr>\n",
       "      <th>327</th>\n",
       "      <td>2024</td>\n",
       "      <td>5 (%)</td>\n",
       "      <td>Master</td>\n",
       "      <td>180.0</td>\n",
       "    </tr>\n",
       "    <tr>\n",
       "      <th>328</th>\n",
       "      <td>2024</td>\n",
       "      <td>6 (%)</td>\n",
       "      <td>Bachelor</td>\n",
       "      <td>36.0</td>\n",
       "    </tr>\n",
       "    <tr>\n",
       "      <th>329</th>\n",
       "      <td>2024</td>\n",
       "      <td>6 (%)</td>\n",
       "      <td>Master</td>\n",
       "      <td>59.0</td>\n",
       "    </tr>\n",
       "    <tr>\n",
       "      <th>330</th>\n",
       "      <td>2024</td>\n",
       "      <td>7 (%)</td>\n",
       "      <td>Bachelor</td>\n",
       "      <td>78.0</td>\n",
       "    </tr>\n",
       "    <tr>\n",
       "      <th>331</th>\n",
       "      <td>2024</td>\n",
       "      <td>7 (%)</td>\n",
       "      <td>Master</td>\n",
       "      <td>17.0</td>\n",
       "    </tr>\n",
       "    <tr>\n",
       "      <th>332</th>\n",
       "      <td>2024</td>\n",
       "      <td>8 (%)</td>\n",
       "      <td>Bachelor</td>\n",
       "      <td>20.0</td>\n",
       "    </tr>\n",
       "    <tr>\n",
       "      <th>333</th>\n",
       "      <td>2024</td>\n",
       "      <td>8 (%)</td>\n",
       "      <td>Master</td>\n",
       "      <td>17.0</td>\n",
       "    </tr>\n",
       "    <tr>\n",
       "      <th>334</th>\n",
       "      <td>2024</td>\n",
       "      <td>9 (%)</td>\n",
       "      <td>Bachelor</td>\n",
       "      <td>10.0</td>\n",
       "    </tr>\n",
       "    <tr>\n",
       "      <th>335</th>\n",
       "      <td>2024</td>\n",
       "      <td>9 (%)</td>\n",
       "      <td>Master</td>\n",
       "      <td>20.0</td>\n",
       "    </tr>\n",
       "  </tbody>\n",
       "</table>\n",
       "</div>"
      ],
      "text/plain": [
       "     Jahr         Category Studiengang   Wert\n",
       "308  2024            1 (%)    Bachelor  122.0\n",
       "309  2024            1 (%)      Master  229.0\n",
       "310  2024           10 (%)    Bachelor    7.0\n",
       "311  2024           10 (%)      Master    0.0\n",
       "312  2024           11 (%)    Bachelor    9.0\n",
       "313  2024           11 (%)      Master   15.0\n",
       "314  2024           12 (%)    Bachelor    0.0\n",
       "315  2024           12 (%)      Master    0.0\n",
       "316  2024           13 (%)    Bachelor    3.0\n",
       "317  2024           13 (%)      Master    0.0\n",
       "318  2024  14 und mehr (%)    Bachelor    0.0\n",
       "319  2024  14 und mehr (%)      Master    0.0\n",
       "320  2024            2 (%)    Bachelor    8.0\n",
       "321  2024            2 (%)      Master   65.0\n",
       "322  2024            3 (%)    Bachelor   90.0\n",
       "323  2024            3 (%)      Master  289.0\n",
       "324  2024            4 (%)    Bachelor    7.0\n",
       "325  2024            4 (%)      Master  107.0\n",
       "326  2024            5 (%)    Bachelor  118.0\n",
       "327  2024            5 (%)      Master  180.0\n",
       "328  2024            6 (%)    Bachelor   36.0\n",
       "329  2024            6 (%)      Master   59.0\n",
       "330  2024            7 (%)    Bachelor   78.0\n",
       "331  2024            7 (%)      Master   17.0\n",
       "332  2024            8 (%)    Bachelor   20.0\n",
       "333  2024            8 (%)      Master   17.0\n",
       "334  2024            9 (%)    Bachelor   10.0\n",
       "335  2024            9 (%)      Master   20.0"
      ]
     },
     "execution_count": 299,
     "metadata": {},
     "output_type": "execute_result"
    }
   ],
   "source": [
    "df_sorted = df_sorted[df_sorted['Jahr'] == '2024']\n",
    "df_sorted"
   ]
  },
  {
   "cell_type": "code",
   "execution_count": 308,
   "metadata": {},
   "outputs": [
    {
     "data": {
      "application/vnd.plotly.v1+json": {
       "config": {
        "plotlyServerURL": "https://plot.ly"
       },
       "data": [
        {
         "hovertemplate": "<b>%{hovertext}</b><br><br>Studiengang=Bachelor<br>Kategorie=%{x}<br>Y-Wert=%{y}<br>Wert=%{marker.size}<extra></extra>",
         "hovertext": [
          "Bachelor",
          "Bachelor",
          "Bachelor",
          "Bachelor",
          "Bachelor",
          "Bachelor",
          "Bachelor",
          "Bachelor",
          "Bachelor",
          "Bachelor",
          "Bachelor",
          "Bachelor",
          "Bachelor",
          "Bachelor"
         ],
         "legendgroup": "Bachelor",
         "marker": {
          "color": "#73c6e9",
          "opacity": 1,
          "size": [
           122,
           7,
           9,
           0,
           3,
           0,
           8,
           90,
           7,
           118,
           36,
           78,
           20,
           10
          ],
          "sizemode": "area",
          "sizeref": 0.08027777777777778,
          "symbol": "circle"
         },
         "mode": "markers",
         "name": "Bachelor",
         "orientation": "v",
         "showlegend": true,
         "type": "scatter",
         "x": [
          "1",
          "10",
          "11",
          "12",
          "13",
          "14 und mehr",
          "2",
          "3",
          "4",
          "5",
          "6",
          "7",
          "8",
          "9"
         ],
         "xaxis": "x",
         "y": [
          1,
          1,
          1,
          1,
          1,
          1,
          1,
          1,
          1,
          1,
          1,
          1,
          1,
          1
         ],
         "yaxis": "y"
        },
        {
         "hovertemplate": "<b>%{hovertext}</b><br><br>Studiengang=Master<br>Kategorie=%{x}<br>Y-Wert=%{y}<br>Wert=%{marker.size}<extra></extra>",
         "hovertext": [
          "Master",
          "Master",
          "Master",
          "Master",
          "Master",
          "Master",
          "Master",
          "Master",
          "Master",
          "Master",
          "Master",
          "Master",
          "Master",
          "Master"
         ],
         "legendgroup": "Master",
         "marker": {
          "color": "#cc5b6e",
          "opacity": 1,
          "size": [
           229,
           0,
           15,
           0,
           0,
           0,
           65,
           289,
           107,
           180,
           59,
           17,
           17,
           20
          ],
          "sizemode": "area",
          "sizeref": 0.08027777777777778,
          "symbol": "circle"
         },
         "mode": "markers",
         "name": "Master",
         "orientation": "v",
         "showlegend": true,
         "type": "scatter",
         "x": [
          "1",
          "10",
          "11",
          "12",
          "13",
          "14 und mehr",
          "2",
          "3",
          "4",
          "5",
          "6",
          "7",
          "8",
          "9"
         ],
         "xaxis": "x",
         "y": [
          -1,
          -1,
          -1,
          -1,
          -1,
          -1,
          -1,
          -1,
          -1,
          -1,
          -1,
          -1,
          -1,
          -1
         ],
         "yaxis": "y"
        }
       ],
       "layout": {
        "height": 400,
        "legend": {
         "itemsizing": "constant",
         "title": {
          "text": "Studiengang"
         },
         "tracegroupgap": 0
        },
        "showlegend": false,
        "template": {
         "layout": {
          "template": {
           "data": {
            "bar": [
             {
              "error_x": {
               "color": "#2a3f5f"
              },
              "error_y": {
               "color": "#2a3f5f"
              },
              "marker": {
               "line": {
                "color": "white",
                "width": 0.5
               },
               "pattern": {
                "fillmode": "overlay",
                "size": 10,
                "solidity": 0.2
               }
              },
              "type": "bar"
             }
            ],
            "barpolar": [
             {
              "marker": {
               "line": {
                "color": "white",
                "width": 0.5
               },
               "pattern": {
                "fillmode": "overlay",
                "size": 10,
                "solidity": 0.2
               }
              },
              "type": "barpolar"
             }
            ],
            "carpet": [
             {
              "aaxis": {
               "endlinecolor": "#2a3f5f",
               "gridcolor": "#C8D4E3",
               "linecolor": "#C8D4E3",
               "minorgridcolor": "#C8D4E3",
               "startlinecolor": "#2a3f5f"
              },
              "baxis": {
               "endlinecolor": "#2a3f5f",
               "gridcolor": "#C8D4E3",
               "linecolor": "#C8D4E3",
               "minorgridcolor": "#C8D4E3",
               "startlinecolor": "#2a3f5f"
              },
              "type": "carpet"
             }
            ],
            "choropleth": [
             {
              "colorbar": {
               "outlinewidth": 0,
               "ticks": ""
              },
              "type": "choropleth"
             }
            ],
            "contour": [
             {
              "colorbar": {
               "outlinewidth": 0,
               "ticks": ""
              },
              "colorscale": [
               [
                0,
                "#0d0887"
               ],
               [
                0.1111111111111111,
                "#46039f"
               ],
               [
                0.2222222222222222,
                "#7201a8"
               ],
               [
                0.3333333333333333,
                "#9c179e"
               ],
               [
                0.4444444444444444,
                "#bd3786"
               ],
               [
                0.5555555555555556,
                "#d8576b"
               ],
               [
                0.6666666666666666,
                "#ed7953"
               ],
               [
                0.7777777777777778,
                "#fb9f3a"
               ],
               [
                0.8888888888888888,
                "#fdca26"
               ],
               [
                1,
                "#f0f921"
               ]
              ],
              "type": "contour"
             }
            ],
            "contourcarpet": [
             {
              "colorbar": {
               "outlinewidth": 0,
               "ticks": ""
              },
              "type": "contourcarpet"
             }
            ],
            "heatmap": [
             {
              "colorbar": {
               "outlinewidth": 0,
               "ticks": ""
              },
              "colorscale": [
               [
                0,
                "#0d0887"
               ],
               [
                0.1111111111111111,
                "#46039f"
               ],
               [
                0.2222222222222222,
                "#7201a8"
               ],
               [
                0.3333333333333333,
                "#9c179e"
               ],
               [
                0.4444444444444444,
                "#bd3786"
               ],
               [
                0.5555555555555556,
                "#d8576b"
               ],
               [
                0.6666666666666666,
                "#ed7953"
               ],
               [
                0.7777777777777778,
                "#fb9f3a"
               ],
               [
                0.8888888888888888,
                "#fdca26"
               ],
               [
                1,
                "#f0f921"
               ]
              ],
              "type": "heatmap"
             }
            ],
            "heatmapgl": [
             {
              "colorbar": {
               "outlinewidth": 0,
               "ticks": ""
              },
              "colorscale": [
               [
                0,
                "#0d0887"
               ],
               [
                0.1111111111111111,
                "#46039f"
               ],
               [
                0.2222222222222222,
                "#7201a8"
               ],
               [
                0.3333333333333333,
                "#9c179e"
               ],
               [
                0.4444444444444444,
                "#bd3786"
               ],
               [
                0.5555555555555556,
                "#d8576b"
               ],
               [
                0.6666666666666666,
                "#ed7953"
               ],
               [
                0.7777777777777778,
                "#fb9f3a"
               ],
               [
                0.8888888888888888,
                "#fdca26"
               ],
               [
                1,
                "#f0f921"
               ]
              ],
              "type": "heatmapgl"
             }
            ],
            "histogram": [
             {
              "marker": {
               "pattern": {
                "fillmode": "overlay",
                "size": 10,
                "solidity": 0.2
               }
              },
              "type": "histogram"
             }
            ],
            "histogram2d": [
             {
              "colorbar": {
               "outlinewidth": 0,
               "ticks": ""
              },
              "colorscale": [
               [
                0,
                "#0d0887"
               ],
               [
                0.1111111111111111,
                "#46039f"
               ],
               [
                0.2222222222222222,
                "#7201a8"
               ],
               [
                0.3333333333333333,
                "#9c179e"
               ],
               [
                0.4444444444444444,
                "#bd3786"
               ],
               [
                0.5555555555555556,
                "#d8576b"
               ],
               [
                0.6666666666666666,
                "#ed7953"
               ],
               [
                0.7777777777777778,
                "#fb9f3a"
               ],
               [
                0.8888888888888888,
                "#fdca26"
               ],
               [
                1,
                "#f0f921"
               ]
              ],
              "type": "histogram2d"
             }
            ],
            "histogram2dcontour": [
             {
              "colorbar": {
               "outlinewidth": 0,
               "ticks": ""
              },
              "colorscale": [
               [
                0,
                "#0d0887"
               ],
               [
                0.1111111111111111,
                "#46039f"
               ],
               [
                0.2222222222222222,
                "#7201a8"
               ],
               [
                0.3333333333333333,
                "#9c179e"
               ],
               [
                0.4444444444444444,
                "#bd3786"
               ],
               [
                0.5555555555555556,
                "#d8576b"
               ],
               [
                0.6666666666666666,
                "#ed7953"
               ],
               [
                0.7777777777777778,
                "#fb9f3a"
               ],
               [
                0.8888888888888888,
                "#fdca26"
               ],
               [
                1,
                "#f0f921"
               ]
              ],
              "type": "histogram2dcontour"
             }
            ],
            "mesh3d": [
             {
              "colorbar": {
               "outlinewidth": 0,
               "ticks": ""
              },
              "type": "mesh3d"
             }
            ],
            "parcoords": [
             {
              "line": {
               "colorbar": {
                "outlinewidth": 0,
                "ticks": ""
               }
              },
              "type": "parcoords"
             }
            ],
            "pie": [
             {
              "automargin": true,
              "type": "pie"
             }
            ],
            "scatter": [
             {
              "fillpattern": {
               "fillmode": "overlay",
               "size": 10,
               "solidity": 0.2
              },
              "type": "scatter"
             }
            ],
            "scatter3d": [
             {
              "line": {
               "colorbar": {
                "outlinewidth": 0,
                "ticks": ""
               }
              },
              "marker": {
               "colorbar": {
                "outlinewidth": 0,
                "ticks": ""
               }
              },
              "type": "scatter3d"
             }
            ],
            "scattercarpet": [
             {
              "marker": {
               "colorbar": {
                "outlinewidth": 0,
                "ticks": ""
               }
              },
              "type": "scattercarpet"
             }
            ],
            "scattergeo": [
             {
              "marker": {
               "colorbar": {
                "outlinewidth": 0,
                "ticks": ""
               }
              },
              "type": "scattergeo"
             }
            ],
            "scattergl": [
             {
              "marker": {
               "colorbar": {
                "outlinewidth": 0,
                "ticks": ""
               }
              },
              "type": "scattergl"
             }
            ],
            "scattermapbox": [
             {
              "marker": {
               "colorbar": {
                "outlinewidth": 0,
                "ticks": ""
               }
              },
              "type": "scattermapbox"
             }
            ],
            "scatterpolar": [
             {
              "marker": {
               "colorbar": {
                "outlinewidth": 0,
                "ticks": ""
               }
              },
              "type": "scatterpolar"
             }
            ],
            "scatterpolargl": [
             {
              "marker": {
               "colorbar": {
                "outlinewidth": 0,
                "ticks": ""
               }
              },
              "type": "scatterpolargl"
             }
            ],
            "scatterternary": [
             {
              "marker": {
               "colorbar": {
                "outlinewidth": 0,
                "ticks": ""
               }
              },
              "type": "scatterternary"
             }
            ],
            "surface": [
             {
              "colorbar": {
               "outlinewidth": 0,
               "ticks": ""
              },
              "colorscale": [
               [
                0,
                "#0d0887"
               ],
               [
                0.1111111111111111,
                "#46039f"
               ],
               [
                0.2222222222222222,
                "#7201a8"
               ],
               [
                0.3333333333333333,
                "#9c179e"
               ],
               [
                0.4444444444444444,
                "#bd3786"
               ],
               [
                0.5555555555555556,
                "#d8576b"
               ],
               [
                0.6666666666666666,
                "#ed7953"
               ],
               [
                0.7777777777777778,
                "#fb9f3a"
               ],
               [
                0.8888888888888888,
                "#fdca26"
               ],
               [
                1,
                "#f0f921"
               ]
              ],
              "type": "surface"
             }
            ],
            "table": [
             {
              "cells": {
               "fill": {
                "color": "#EBF0F8"
               },
               "line": {
                "color": "white"
               }
              },
              "header": {
               "fill": {
                "color": "#C8D4E3"
               },
               "line": {
                "color": "white"
               }
              },
              "type": "table"
             }
            ]
           },
           "layout": {
            "annotationdefaults": {
             "arrowcolor": "#2a3f5f",
             "arrowhead": 0,
             "arrowwidth": 1
            },
            "autotypenumbers": "strict",
            "coloraxis": {
             "colorbar": {
              "outlinewidth": 0,
              "ticks": ""
             }
            },
            "colorscale": {
             "diverging": [
              [
               0,
               "#8e0152"
              ],
              [
               0.1,
               "#c51b7d"
              ],
              [
               0.2,
               "#de77ae"
              ],
              [
               0.3,
               "#f1b6da"
              ],
              [
               0.4,
               "#fde0ef"
              ],
              [
               0.5,
               "#f7f7f7"
              ],
              [
               0.6,
               "#e6f5d0"
              ],
              [
               0.7,
               "#b8e186"
              ],
              [
               0.8,
               "#7fbc41"
              ],
              [
               0.9,
               "#4d9221"
              ],
              [
               1,
               "#276419"
              ]
             ],
             "sequential": [
              [
               0,
               "#0d0887"
              ],
              [
               0.1111111111111111,
               "#46039f"
              ],
              [
               0.2222222222222222,
               "#7201a8"
              ],
              [
               0.3333333333333333,
               "#9c179e"
              ],
              [
               0.4444444444444444,
               "#bd3786"
              ],
              [
               0.5555555555555556,
               "#d8576b"
              ],
              [
               0.6666666666666666,
               "#ed7953"
              ],
              [
               0.7777777777777778,
               "#fb9f3a"
              ],
              [
               0.8888888888888888,
               "#fdca26"
              ],
              [
               1,
               "#f0f921"
              ]
             ],
             "sequentialminus": [
              [
               0,
               "#0d0887"
              ],
              [
               0.1111111111111111,
               "#46039f"
              ],
              [
               0.2222222222222222,
               "#7201a8"
              ],
              [
               0.3333333333333333,
               "#9c179e"
              ],
              [
               0.4444444444444444,
               "#bd3786"
              ],
              [
               0.5555555555555556,
               "#d8576b"
              ],
              [
               0.6666666666666666,
               "#ed7953"
              ],
              [
               0.7777777777777778,
               "#fb9f3a"
              ],
              [
               0.8888888888888888,
               "#fdca26"
              ],
              [
               1,
               "#f0f921"
              ]
             ]
            },
            "colorway": [
             "#636efa",
             "#EF553B",
             "#00cc96",
             "#ab63fa",
             "#FFA15A",
             "#19d3f3",
             "#FF6692",
             "#B6E880",
             "#FF97FF",
             "#FECB52"
            ],
            "font": {
             "color": "#2a3f5f"
            },
            "geo": {
             "bgcolor": "white",
             "lakecolor": "white",
             "landcolor": "white",
             "showlakes": true,
             "showland": true,
             "subunitcolor": "#C8D4E3"
            },
            "hoverlabel": {
             "align": "left"
            },
            "hovermode": "closest",
            "mapbox": {
             "style": "light"
            },
            "paper_bgcolor": "white",
            "plot_bgcolor": "white",
            "polar": {
             "angularaxis": {
              "gridcolor": "#EBF0F8",
              "linecolor": "#EBF0F8",
              "ticks": ""
             },
             "bgcolor": "white",
             "radialaxis": {
              "gridcolor": "#EBF0F8",
              "linecolor": "#EBF0F8",
              "ticks": ""
             }
            },
            "scene": {
             "xaxis": {
              "backgroundcolor": "white",
              "gridcolor": "#DFE8F3",
              "gridwidth": 2,
              "linecolor": "#EBF0F8",
              "showbackground": true,
              "ticks": "",
              "zerolinecolor": "#EBF0F8"
             },
             "yaxis": {
              "backgroundcolor": "white",
              "gridcolor": "#DFE8F3",
              "gridwidth": 2,
              "linecolor": "#EBF0F8",
              "showbackground": true,
              "ticks": "",
              "zerolinecolor": "#EBF0F8"
             },
             "zaxis": {
              "backgroundcolor": "white",
              "gridcolor": "#DFE8F3",
              "gridwidth": 2,
              "linecolor": "#EBF0F8",
              "showbackground": true,
              "ticks": "",
              "zerolinecolor": "#EBF0F8"
             }
            },
            "shapedefaults": {
             "line": {
              "color": "#2a3f5f"
             }
            },
            "ternary": {
             "aaxis": {
              "gridcolor": "#DFE8F3",
              "linecolor": "#A2B1C6",
              "ticks": ""
             },
             "baxis": {
              "gridcolor": "#DFE8F3",
              "linecolor": "#A2B1C6",
              "ticks": ""
             },
             "bgcolor": "white",
             "caxis": {
              "gridcolor": "#DFE8F3",
              "linecolor": "#A2B1C6",
              "ticks": ""
             }
            },
            "title": {
             "x": 0.05
            },
            "xaxis": {
             "automargin": true,
             "gridcolor": "#EBF0F8",
             "linecolor": "#EBF0F8",
             "ticks": "",
             "title": {
              "standoff": 15
             },
             "zerolinecolor": "#EBF0F8",
             "zerolinewidth": 2
            },
            "yaxis": {
             "automargin": true,
             "gridcolor": "#EBF0F8",
             "linecolor": "#EBF0F8",
             "ticks": "",
             "title": {
              "standoff": 15
             },
             "zerolinecolor": "#EBF0F8",
             "zerolinewidth": 2
            }
           }
          },
          "title": {
           "font": {
            "color": "black",
            "family": "Arial",
            "size": 20,
            "weight": "bold"
           },
           "subtitle": {
            "font": {
             "color": "gray",
             "size": 13
            },
            "text": "Vergleich der Absoluten Anzahl der Personen nach Abschluss"
           },
           "x": 0,
           "xanchor": "left",
           "xref": "paper"
          },
          "xaxis": {
           "showgrid": false,
           "tickfont": {
            "color": "grey",
            "size": 12
           },
           "ticklabelposition": "outside bottom",
           "ticklabelstandoff": 10,
           "title": {
            "font": {
             "color": "grey",
             "size": 13,
             "weight": "bold"
            },
            "standoff": 15
           },
           "zerolinecolor": "lightgrey"
          },
          "yaxis": {
           "gridcolor": "lightgrey",
           "showgrid": true,
           "tickfont": {
            "color": "grey",
            "size": 12
           },
           "ticklabelposition": "outside left",
           "ticklabelstandoff": 10,
           "title": {
            "font": {
             "color": "grey",
             "size": 13,
             "weight": "bold"
            },
            "standoff": 15
           },
           "zerolinecolor": "lightgrey"
          }
         }
        },
        "title": {
         "text": "Verhältnis der Fachsemester in </b><span style='color:#73c6e9;'>Bachelor</span> <b> und </b><span style='color:#cc5b6e;'>Master</span> <b> für das Jahr 2024"
        },
        "width": 1400,
        "xaxis": {
         "anchor": "y",
         "categoryarray": [
          "1",
          "2",
          "3",
          "4",
          "5",
          "6",
          "7",
          "8",
          "9",
          "10",
          "11",
          "12",
          "13",
          "14 und mehr"
         ],
         "categoryorder": "array",
         "domain": [
          0,
          1
         ],
         "title": {
          "text": "Fachsemester"
         }
        },
        "yaxis": {
         "anchor": "x",
         "domain": [
          0,
          1
         ],
         "showgrid": true,
         "ticktext": [
          "Bachelor",
          "Master"
         ],
         "tickvals": [
          1,
          -1
         ],
         "title": {
          "text": "Abschluss"
         },
         "zerolinecolor": "lightgrey"
        }
       }
      }
     },
     "metadata": {},
     "output_type": "display_data"
    }
   ],
   "source": [
    "infoviz_template = dict(\n",
    "    layout=dict(\n",
    "        template=\"plotly_white\",\n",
    "        title=dict(\n",
    "            font=dict(size=20, family=\"Arial\", weight=\"bold\", color=\"black\"),\n",
    "            xanchor=\"left\",  \n",
    "            xref=\"paper\",\n",
    "            x=0,\n",
    "            subtitle=dict(\n",
    "                text=\"Vergleich der Absoluten Anzahl der Personen nach Abschluss\",\n",
    "                font=dict(color=\"gray\", size=13),\n",
    "            ),\n",
    "        ),\n",
    "        xaxis=dict(\n",
    "            showgrid=False,\n",
    "            zerolinecolor=\"lightgrey\",\n",
    "            tickfont=dict(color=\"grey\", size=12),\n",
    "            title_font=dict(color=\"grey\", weight=\"bold\", size=13),\n",
    "            title_standoff=15,\n",
    "            ticklabelstandoff=10,\n",
    "            ticklabelposition=\"outside bottom\"\n",
    "        ),\n",
    "        yaxis=dict(\n",
    "            showgrid=True, gridcolor=\"lightgrey\",\n",
    "            zerolinecolor=\"lightgrey\",\n",
    "            tickfont=dict(color=\"grey\", size=12),\n",
    "            title_font=dict(color=\"grey\", weight=\"bold\", size=13),\n",
    "            title_standoff=15,\n",
    "            ticklabelstandoff=10,\n",
    "            ticklabelposition=\"outside left\"\n",
    "        ),\n",
    "    )\n",
    ")\n",
    "pio.templates[\"infoviz\"] = infoviz_template\n",
    "# DataFrame erstellen (diese Zeile geht davon aus, dass df_sorted existiert)\n",
    "df = pd.DataFrame(df_sorted)\n",
    "\n",
    "# Entferne das \"%\" aus der 'Category' Spalte\n",
    "df['Category'] = df['Category'].str.replace(' (%)', '', regex=False)\n",
    "\n",
    "# Die Kategorien in absteigender Reihenfolge festlegen\n",
    "category_order = [\"1\", \"2\", \"3\", \"4\", \"5\", \"6\", \"7\", \"8\", \"9\", \"10\", \"11\", \"12\", \"13\", \"14 und mehr\"]\n",
    "\n",
    "# Bachelor und Master auf der Y-Achse trennen (mit Bachelor oben und Master unten)\n",
    "df['Y-Wert'] = df['Studiengang'].map({'Bachelor': 1, 'Master': -1})  # Bachelor auf 1 (oben) und Master auf -1 (unten) setzen\n",
    "\n",
    "# Bubble-Plot erstellen und die Reihenfolge der Kategorien explizit umkehren\n",
    "fig = px.scatter(df,\n",
    "                 x=\"Category\",  # Category auf die X-Achse setzen\n",
    "                 y=\"Y-Wert\",  # Y-Wert für die Platzierung von Bachelor und Master\n",
    "                 color=\"Studiengang\", \n",
    "                 size=\"Wert\", \n",
    "                 hover_name=\"Studiengang\",  # Hover-Information\n",
    "                 title=\"Verhältnis der Fachsemester in </b><span style='color:#73c6e9;'>Bachelor</span> <b> und </b><span style='color:#cc5b6e;'>Master</span> <b> für das Jahr 2024\",\n",
    "                 labels={\"Jahr\": \"Jahr\", \"Category\": \"Kategorie\", \"Wert\": \"Wert\"},\n",
    "                 size_max=60,  # Maximale Blasengröße\n",
    "                 category_orders={\"Category\": category_order},# Reihenfolge der Kategorien umkehren\n",
    "                 color_discrete_map={\"Bachelor\": \"#73c6e9\", \"Master\": \"#cc5b6e\"})  \n",
    "\n",
    "\n",
    "# Layout anpassen und Template anwenden\n",
    "fig.update_layout(\n",
    "    template=\"infoviz\",  # Template anwenden\n",
    "    height=400,  # Höhe des Plots (jetzt horizontal)\n",
    "    width=1400,  # Breite des Plots\n",
    "    yaxis_title=\"Abschluss\",\n",
    "    xaxis_title=\"Fachsemester\",\n",
    "    yaxis=dict(\n",
    "        tickvals=[1, -1],\n",
    "        ticktext=[\"Bachelor\", \"Master\"],  # Anzeige bleibt gleich\n",
    "        showgrid=True,  # Rasterlinien\n",
    "        zerolinecolor=\"lightgrey\",\n",
    "       \n",
    "    ),\n",
    "    showlegend=False\n",
    ")\n",
    "fig.update_traces(marker=dict(opacity=1))\n",
    "# Plot anzeigen\n",
    "fig.show()\n"
   ]
  },
  {
   "cell_type": "code",
   "execution_count": 306,
   "metadata": {},
   "outputs": [
    {
     "data": {
      "application/vnd.plotly.v1+json": {
       "config": {
        "plotlyServerURL": "https://plot.ly"
       },
       "data": [
        {
         "alignmentgroup": "True",
         "hovertemplate": "Studiengang=Bachelor<br>Fachsemester=%{x}<br>Anzahl der Personen=%{y}<extra></extra>",
         "legendgroup": "Bachelor",
         "marker": {
          "color": "#73c6e9",
          "pattern": {
           "shape": ""
          }
         },
         "name": "Bachelor",
         "offsetgroup": "Bachelor",
         "orientation": "v",
         "showlegend": true,
         "textposition": "auto",
         "type": "bar",
         "x": [
          "1",
          "10",
          "11",
          "12",
          "13",
          "14 und mehr",
          "2",
          "3",
          "4",
          "5",
          "6",
          "7",
          "8",
          "9"
         ],
         "xaxis": "x",
         "y": [
          122,
          7,
          9,
          0,
          3,
          0,
          8,
          90,
          7,
          118,
          36,
          78,
          20,
          10
         ],
         "yaxis": "y"
        },
        {
         "alignmentgroup": "True",
         "hovertemplate": "Studiengang=Master<br>Fachsemester=%{x}<br>Anzahl der Personen=%{y}<extra></extra>",
         "legendgroup": "Master",
         "marker": {
          "color": "#cc5b6e",
          "pattern": {
           "shape": ""
          }
         },
         "name": "Master",
         "offsetgroup": "Master",
         "orientation": "v",
         "showlegend": true,
         "textposition": "auto",
         "type": "bar",
         "x": [
          "1",
          "10",
          "11",
          "12",
          "13",
          "14 und mehr",
          "2",
          "3",
          "4",
          "5",
          "6",
          "7",
          "8",
          "9"
         ],
         "xaxis": "x",
         "y": [
          229,
          0,
          15,
          0,
          0,
          0,
          65,
          289,
          107,
          180,
          59,
          17,
          17,
          20
         ],
         "yaxis": "y"
        }
       ],
       "layout": {
        "barmode": "group",
        "height": 500,
        "legend": {
         "title": {
          "text": "Studiengang"
         },
         "tracegroupgap": 0
        },
        "showlegend": false,
        "template": {
         "layout": {
          "template": {
           "data": {
            "bar": [
             {
              "error_x": {
               "color": "#2a3f5f"
              },
              "error_y": {
               "color": "#2a3f5f"
              },
              "marker": {
               "line": {
                "color": "white",
                "width": 0.5
               },
               "pattern": {
                "fillmode": "overlay",
                "size": 10,
                "solidity": 0.2
               }
              },
              "type": "bar"
             }
            ],
            "barpolar": [
             {
              "marker": {
               "line": {
                "color": "white",
                "width": 0.5
               },
               "pattern": {
                "fillmode": "overlay",
                "size": 10,
                "solidity": 0.2
               }
              },
              "type": "barpolar"
             }
            ],
            "carpet": [
             {
              "aaxis": {
               "endlinecolor": "#2a3f5f",
               "gridcolor": "#C8D4E3",
               "linecolor": "#C8D4E3",
               "minorgridcolor": "#C8D4E3",
               "startlinecolor": "#2a3f5f"
              },
              "baxis": {
               "endlinecolor": "#2a3f5f",
               "gridcolor": "#C8D4E3",
               "linecolor": "#C8D4E3",
               "minorgridcolor": "#C8D4E3",
               "startlinecolor": "#2a3f5f"
              },
              "type": "carpet"
             }
            ],
            "choropleth": [
             {
              "colorbar": {
               "outlinewidth": 0,
               "ticks": ""
              },
              "type": "choropleth"
             }
            ],
            "contour": [
             {
              "colorbar": {
               "outlinewidth": 0,
               "ticks": ""
              },
              "colorscale": [
               [
                0,
                "#0d0887"
               ],
               [
                0.1111111111111111,
                "#46039f"
               ],
               [
                0.2222222222222222,
                "#7201a8"
               ],
               [
                0.3333333333333333,
                "#9c179e"
               ],
               [
                0.4444444444444444,
                "#bd3786"
               ],
               [
                0.5555555555555556,
                "#d8576b"
               ],
               [
                0.6666666666666666,
                "#ed7953"
               ],
               [
                0.7777777777777778,
                "#fb9f3a"
               ],
               [
                0.8888888888888888,
                "#fdca26"
               ],
               [
                1,
                "#f0f921"
               ]
              ],
              "type": "contour"
             }
            ],
            "contourcarpet": [
             {
              "colorbar": {
               "outlinewidth": 0,
               "ticks": ""
              },
              "type": "contourcarpet"
             }
            ],
            "heatmap": [
             {
              "colorbar": {
               "outlinewidth": 0,
               "ticks": ""
              },
              "colorscale": [
               [
                0,
                "#0d0887"
               ],
               [
                0.1111111111111111,
                "#46039f"
               ],
               [
                0.2222222222222222,
                "#7201a8"
               ],
               [
                0.3333333333333333,
                "#9c179e"
               ],
               [
                0.4444444444444444,
                "#bd3786"
               ],
               [
                0.5555555555555556,
                "#d8576b"
               ],
               [
                0.6666666666666666,
                "#ed7953"
               ],
               [
                0.7777777777777778,
                "#fb9f3a"
               ],
               [
                0.8888888888888888,
                "#fdca26"
               ],
               [
                1,
                "#f0f921"
               ]
              ],
              "type": "heatmap"
             }
            ],
            "heatmapgl": [
             {
              "colorbar": {
               "outlinewidth": 0,
               "ticks": ""
              },
              "colorscale": [
               [
                0,
                "#0d0887"
               ],
               [
                0.1111111111111111,
                "#46039f"
               ],
               [
                0.2222222222222222,
                "#7201a8"
               ],
               [
                0.3333333333333333,
                "#9c179e"
               ],
               [
                0.4444444444444444,
                "#bd3786"
               ],
               [
                0.5555555555555556,
                "#d8576b"
               ],
               [
                0.6666666666666666,
                "#ed7953"
               ],
               [
                0.7777777777777778,
                "#fb9f3a"
               ],
               [
                0.8888888888888888,
                "#fdca26"
               ],
               [
                1,
                "#f0f921"
               ]
              ],
              "type": "heatmapgl"
             }
            ],
            "histogram": [
             {
              "marker": {
               "pattern": {
                "fillmode": "overlay",
                "size": 10,
                "solidity": 0.2
               }
              },
              "type": "histogram"
             }
            ],
            "histogram2d": [
             {
              "colorbar": {
               "outlinewidth": 0,
               "ticks": ""
              },
              "colorscale": [
               [
                0,
                "#0d0887"
               ],
               [
                0.1111111111111111,
                "#46039f"
               ],
               [
                0.2222222222222222,
                "#7201a8"
               ],
               [
                0.3333333333333333,
                "#9c179e"
               ],
               [
                0.4444444444444444,
                "#bd3786"
               ],
               [
                0.5555555555555556,
                "#d8576b"
               ],
               [
                0.6666666666666666,
                "#ed7953"
               ],
               [
                0.7777777777777778,
                "#fb9f3a"
               ],
               [
                0.8888888888888888,
                "#fdca26"
               ],
               [
                1,
                "#f0f921"
               ]
              ],
              "type": "histogram2d"
             }
            ],
            "histogram2dcontour": [
             {
              "colorbar": {
               "outlinewidth": 0,
               "ticks": ""
              },
              "colorscale": [
               [
                0,
                "#0d0887"
               ],
               [
                0.1111111111111111,
                "#46039f"
               ],
               [
                0.2222222222222222,
                "#7201a8"
               ],
               [
                0.3333333333333333,
                "#9c179e"
               ],
               [
                0.4444444444444444,
                "#bd3786"
               ],
               [
                0.5555555555555556,
                "#d8576b"
               ],
               [
                0.6666666666666666,
                "#ed7953"
               ],
               [
                0.7777777777777778,
                "#fb9f3a"
               ],
               [
                0.8888888888888888,
                "#fdca26"
               ],
               [
                1,
                "#f0f921"
               ]
              ],
              "type": "histogram2dcontour"
             }
            ],
            "mesh3d": [
             {
              "colorbar": {
               "outlinewidth": 0,
               "ticks": ""
              },
              "type": "mesh3d"
             }
            ],
            "parcoords": [
             {
              "line": {
               "colorbar": {
                "outlinewidth": 0,
                "ticks": ""
               }
              },
              "type": "parcoords"
             }
            ],
            "pie": [
             {
              "automargin": true,
              "type": "pie"
             }
            ],
            "scatter": [
             {
              "fillpattern": {
               "fillmode": "overlay",
               "size": 10,
               "solidity": 0.2
              },
              "type": "scatter"
             }
            ],
            "scatter3d": [
             {
              "line": {
               "colorbar": {
                "outlinewidth": 0,
                "ticks": ""
               }
              },
              "marker": {
               "colorbar": {
                "outlinewidth": 0,
                "ticks": ""
               }
              },
              "type": "scatter3d"
             }
            ],
            "scattercarpet": [
             {
              "marker": {
               "colorbar": {
                "outlinewidth": 0,
                "ticks": ""
               }
              },
              "type": "scattercarpet"
             }
            ],
            "scattergeo": [
             {
              "marker": {
               "colorbar": {
                "outlinewidth": 0,
                "ticks": ""
               }
              },
              "type": "scattergeo"
             }
            ],
            "scattergl": [
             {
              "marker": {
               "colorbar": {
                "outlinewidth": 0,
                "ticks": ""
               }
              },
              "type": "scattergl"
             }
            ],
            "scattermapbox": [
             {
              "marker": {
               "colorbar": {
                "outlinewidth": 0,
                "ticks": ""
               }
              },
              "type": "scattermapbox"
             }
            ],
            "scatterpolar": [
             {
              "marker": {
               "colorbar": {
                "outlinewidth": 0,
                "ticks": ""
               }
              },
              "type": "scatterpolar"
             }
            ],
            "scatterpolargl": [
             {
              "marker": {
               "colorbar": {
                "outlinewidth": 0,
                "ticks": ""
               }
              },
              "type": "scatterpolargl"
             }
            ],
            "scatterternary": [
             {
              "marker": {
               "colorbar": {
                "outlinewidth": 0,
                "ticks": ""
               }
              },
              "type": "scatterternary"
             }
            ],
            "surface": [
             {
              "colorbar": {
               "outlinewidth": 0,
               "ticks": ""
              },
              "colorscale": [
               [
                0,
                "#0d0887"
               ],
               [
                0.1111111111111111,
                "#46039f"
               ],
               [
                0.2222222222222222,
                "#7201a8"
               ],
               [
                0.3333333333333333,
                "#9c179e"
               ],
               [
                0.4444444444444444,
                "#bd3786"
               ],
               [
                0.5555555555555556,
                "#d8576b"
               ],
               [
                0.6666666666666666,
                "#ed7953"
               ],
               [
                0.7777777777777778,
                "#fb9f3a"
               ],
               [
                0.8888888888888888,
                "#fdca26"
               ],
               [
                1,
                "#f0f921"
               ]
              ],
              "type": "surface"
             }
            ],
            "table": [
             {
              "cells": {
               "fill": {
                "color": "#EBF0F8"
               },
               "line": {
                "color": "white"
               }
              },
              "header": {
               "fill": {
                "color": "#C8D4E3"
               },
               "line": {
                "color": "white"
               }
              },
              "type": "table"
             }
            ]
           },
           "layout": {
            "annotationdefaults": {
             "arrowcolor": "#2a3f5f",
             "arrowhead": 0,
             "arrowwidth": 1
            },
            "autotypenumbers": "strict",
            "coloraxis": {
             "colorbar": {
              "outlinewidth": 0,
              "ticks": ""
             }
            },
            "colorscale": {
             "diverging": [
              [
               0,
               "#8e0152"
              ],
              [
               0.1,
               "#c51b7d"
              ],
              [
               0.2,
               "#de77ae"
              ],
              [
               0.3,
               "#f1b6da"
              ],
              [
               0.4,
               "#fde0ef"
              ],
              [
               0.5,
               "#f7f7f7"
              ],
              [
               0.6,
               "#e6f5d0"
              ],
              [
               0.7,
               "#b8e186"
              ],
              [
               0.8,
               "#7fbc41"
              ],
              [
               0.9,
               "#4d9221"
              ],
              [
               1,
               "#276419"
              ]
             ],
             "sequential": [
              [
               0,
               "#0d0887"
              ],
              [
               0.1111111111111111,
               "#46039f"
              ],
              [
               0.2222222222222222,
               "#7201a8"
              ],
              [
               0.3333333333333333,
               "#9c179e"
              ],
              [
               0.4444444444444444,
               "#bd3786"
              ],
              [
               0.5555555555555556,
               "#d8576b"
              ],
              [
               0.6666666666666666,
               "#ed7953"
              ],
              [
               0.7777777777777778,
               "#fb9f3a"
              ],
              [
               0.8888888888888888,
               "#fdca26"
              ],
              [
               1,
               "#f0f921"
              ]
             ],
             "sequentialminus": [
              [
               0,
               "#0d0887"
              ],
              [
               0.1111111111111111,
               "#46039f"
              ],
              [
               0.2222222222222222,
               "#7201a8"
              ],
              [
               0.3333333333333333,
               "#9c179e"
              ],
              [
               0.4444444444444444,
               "#bd3786"
              ],
              [
               0.5555555555555556,
               "#d8576b"
              ],
              [
               0.6666666666666666,
               "#ed7953"
              ],
              [
               0.7777777777777778,
               "#fb9f3a"
              ],
              [
               0.8888888888888888,
               "#fdca26"
              ],
              [
               1,
               "#f0f921"
              ]
             ]
            },
            "colorway": [
             "#636efa",
             "#EF553B",
             "#00cc96",
             "#ab63fa",
             "#FFA15A",
             "#19d3f3",
             "#FF6692",
             "#B6E880",
             "#FF97FF",
             "#FECB52"
            ],
            "font": {
             "color": "#2a3f5f"
            },
            "geo": {
             "bgcolor": "white",
             "lakecolor": "white",
             "landcolor": "white",
             "showlakes": true,
             "showland": true,
             "subunitcolor": "#C8D4E3"
            },
            "hoverlabel": {
             "align": "left"
            },
            "hovermode": "closest",
            "mapbox": {
             "style": "light"
            },
            "paper_bgcolor": "white",
            "plot_bgcolor": "white",
            "polar": {
             "angularaxis": {
              "gridcolor": "#EBF0F8",
              "linecolor": "#EBF0F8",
              "ticks": ""
             },
             "bgcolor": "white",
             "radialaxis": {
              "gridcolor": "#EBF0F8",
              "linecolor": "#EBF0F8",
              "ticks": ""
             }
            },
            "scene": {
             "xaxis": {
              "backgroundcolor": "white",
              "gridcolor": "#DFE8F3",
              "gridwidth": 2,
              "linecolor": "#EBF0F8",
              "showbackground": true,
              "ticks": "",
              "zerolinecolor": "#EBF0F8"
             },
             "yaxis": {
              "backgroundcolor": "white",
              "gridcolor": "#DFE8F3",
              "gridwidth": 2,
              "linecolor": "#EBF0F8",
              "showbackground": true,
              "ticks": "",
              "zerolinecolor": "#EBF0F8"
             },
             "zaxis": {
              "backgroundcolor": "white",
              "gridcolor": "#DFE8F3",
              "gridwidth": 2,
              "linecolor": "#EBF0F8",
              "showbackground": true,
              "ticks": "",
              "zerolinecolor": "#EBF0F8"
             }
            },
            "shapedefaults": {
             "line": {
              "color": "#2a3f5f"
             }
            },
            "ternary": {
             "aaxis": {
              "gridcolor": "#DFE8F3",
              "linecolor": "#A2B1C6",
              "ticks": ""
             },
             "baxis": {
              "gridcolor": "#DFE8F3",
              "linecolor": "#A2B1C6",
              "ticks": ""
             },
             "bgcolor": "white",
             "caxis": {
              "gridcolor": "#DFE8F3",
              "linecolor": "#A2B1C6",
              "ticks": ""
             }
            },
            "title": {
             "x": 0.05
            },
            "xaxis": {
             "automargin": true,
             "gridcolor": "#EBF0F8",
             "linecolor": "#EBF0F8",
             "ticks": "",
             "title": {
              "standoff": 15
             },
             "zerolinecolor": "#EBF0F8",
             "zerolinewidth": 2
            },
            "yaxis": {
             "automargin": true,
             "gridcolor": "#EBF0F8",
             "linecolor": "#EBF0F8",
             "ticks": "",
             "title": {
              "standoff": 15
             },
             "zerolinecolor": "#EBF0F8",
             "zerolinewidth": 2
            }
           }
          },
          "title": {
           "font": {
            "color": "black",
            "family": "Arial",
            "size": 20,
            "weight": "bold"
           },
           "subtitle": {
            "font": {
             "color": "gray",
             "size": 13
            },
            "text": "Vergleich der Absoluten Anzahl der Personen nach Abschluss"
           },
           "x": 0,
           "xanchor": "left",
           "xref": "paper"
          },
          "xaxis": {
           "showgrid": false,
           "tickfont": {
            "color": "grey",
            "size": 12
           },
           "ticklabelposition": "outside bottom",
           "ticklabelstandoff": 10,
           "title": {
            "font": {
             "color": "grey",
             "size": 13,
             "weight": "bold"
            },
            "standoff": 15
           },
           "zerolinecolor": "lightgrey"
          },
          "yaxis": {
           "gridcolor": "lightgrey",
           "showgrid": true,
           "tickfont": {
            "color": "grey",
            "size": 12
           },
           "ticklabelposition": "outside left",
           "ticklabelstandoff": 10,
           "title": {
            "font": {
             "color": "grey",
             "size": 13,
             "weight": "bold"
            },
            "standoff": 15
           },
           "zerolinecolor": "lightgrey"
          }
         }
        },
        "title": {
         "text": "Verhältnis der Fachsemester in </b><span style='color:#73c6e9;'>Bachelor</span> <b> und </b><span style='color:#cc5b6e;'>Master</span> <b> für das Jahr 2024"
        },
        "width": 1200,
        "xaxis": {
         "anchor": "y",
         "categoryarray": [
          "1",
          "2",
          "3",
          "4",
          "5",
          "6",
          "7",
          "8",
          "9",
          "10",
          "11",
          "12",
          "13",
          "14 und mehr"
         ],
         "categoryorder": "array",
         "domain": [
          0,
          1
         ],
         "ticklabelposition": "outside bottom",
         "ticklabelstandoff": 10,
         "title": {
          "text": "Fachsemester"
         }
        },
        "yaxis": {
         "anchor": "x",
         "domain": [
          0,
          1
         ],
         "title": {
          "text": "Anzahl der Personen"
         }
        }
       }
      }
     },
     "metadata": {},
     "output_type": "display_data"
    }
   ],
   "source": [
    "import plotly.express as px\n",
    "import pandas as pd\n",
    "\n",
    "# DataFrame erstellen (diese Zeile geht davon aus, dass df_sorted existiert)\n",
    "df = pd.DataFrame(df_sorted)\n",
    "\n",
    "# Entferne das \"%\" aus der 'Category' Spalte\n",
    "df['Category'] = df['Category'].str.replace(' (%)', '', regex=False)\n",
    "\n",
    "# Die Kategorien in absteigender Reihenfolge festlegen\n",
    "category_order = [\"1\", \"2\", \"3\", \"4\", \"5\", \"6\", \"7\", \"8\", \"9\", \"10\", \"11\", \"12\", \"13\", \"14 und mehr\"]\n",
    "\n",
    "# Bachelor und Master als separate Spalten behandeln\n",
    "df['Y-Wert'] = df['Studiengang'].map({'Bachelor': 1, 'Master': -1})  # Bachelor oben, Master unten\n",
    "\n",
    "# Gruppiertes Balkendiagramm erstellen\n",
    "fig = px.bar(df,\n",
    "             x=\"Category\",  # Kategorie auf der X-Achse\n",
    "             y=\"Wert\",  # Wert auf der Y-Achse\n",
    "             color=\"Studiengang\",  # Unterscheidung zwischen Bachelor und Master\n",
    "             barmode=\"group\",  # Gruppiertes Balkendiagramm\n",
    "             title=\"Verhältnis der Fachsemester in </b><span style='color:#73c6e9;'>Bachelor</span> <b> und </b><span style='color:#cc5b6e;'>Master</span> <b> für das Jahr 2024\",\n",
    "             labels={\"Category\": \"Fachsemester\", \"Wert\": \"Anzahl der Personen\"},\n",
    "             category_orders={\"Category\": category_order},  # Reihenfolge der Kategorien\n",
    "             color_discrete_map={\"Bachelor\": \"#73c6e9\", \"Master\": \"#cc5b6e\"})  # Farben für Bachelor und Master\n",
    "\n",
    "# Layout anpassen\n",
    "fig.update_layout(\n",
    "    template=\"infoviz\",  # Dein benutzerdefiniertes Template\n",
    "    height=500,  # Höhe des Plots\n",
    "    width=1200,  # Breite des Plots\n",
    "    yaxis_title=\"Anzahl der Personen\",\n",
    "    xaxis_title=\"Fachsemester\",\n",
    "    xaxis=dict(\n",
    "        ticklabelstandoff=10,\n",
    "        ticklabelposition=\"outside bottom\",\n",
    "    ),\n",
    "    showlegend=False,  # Legende einblenden\n",
    ")\n",
    "\n",
    "# Plot anzeigen\n",
    "fig.show()\n"
   ]
  },
  {
   "cell_type": "code",
   "execution_count": null,
   "metadata": {},
   "outputs": [],
   "source": []
  },
  {
   "cell_type": "code",
   "execution_count": null,
   "metadata": {},
   "outputs": [],
   "source": []
  }
 ],
 "metadata": {
  "kernelspec": {
   "display_name": "mein_env",
   "language": "python",
   "name": "python3"
  },
  "language_info": {
   "codemirror_mode": {
    "name": "ipython",
    "version": 3
   },
   "file_extension": ".py",
   "mimetype": "text/x-python",
   "name": "python",
   "nbconvert_exporter": "python",
   "pygments_lexer": "ipython3",
   "version": "3.10.16"
  }
 },
 "nbformat": 4,
 "nbformat_minor": 2
}
