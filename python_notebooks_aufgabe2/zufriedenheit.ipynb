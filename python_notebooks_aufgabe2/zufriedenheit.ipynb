{
 "cells": [
  {
   "cell_type": "markdown",
   "metadata": {},
   "source": [
    "# Zufriedenheit"
   ]
  },
  {
   "cell_type": "markdown",
   "metadata": {},
   "source": [
    "## Importe"
   ]
  },
  {
   "cell_type": "code",
   "execution_count": 49,
   "metadata": {},
   "outputs": [],
   "source": [
    "import pandas as pd\n",
    "import plotly.io as pio\n",
    "import plotly.express as px"
   ]
  },
  {
   "cell_type": "markdown",
   "metadata": {},
   "source": [
    "## Template"
   ]
  },
  {
   "cell_type": "code",
   "execution_count": 50,
   "metadata": {},
   "outputs": [],
   "source": [
    "infoviz_template = dict(\n",
    "    layout=dict(\n",
    "        template=\"plotly_white\",\n",
    "        title=dict(\n",
    "            font=dict(size=20, family=\"Arial\", weight=\"bold\", color=\"black\"),\n",
    "            xanchor=\"left\",  \n",
    "            xref=\"paper\",\n",
    "            x=0,\n",
    "            subtitle=dict(\n",
    "                text=\"Title\",\n",
    "                font=dict(color=\"gray\", size=13),\n",
    "            ),\n",
    "        ),\n",
    "        xaxis=dict(\n",
    "            showgrid=False,\n",
    "            zerolinecolor=\"lightgrey\",\n",
    "            tickfont=dict(color=\"grey\", size=12),\n",
    "            title_font=dict(color=\"grey\", weight=\"bold\", size=13),\n",
    "            title_standoff=15,\n",
    "            ticklabelstandoff=10,\n",
    "            ticklabelposition=\"outside bottom\"\n",
    "        ),\n",
    "        yaxis=dict(\n",
    "            showgrid=True, gridcolor=\"lightgrey\",\n",
    "            zerolinecolor=\"lightgrey\",\n",
    "            tickfont=dict(color=\"grey\", size=12),\n",
    "            title_font=dict(color=\"grey\", weight=\"bold\", size=13),\n",
    "            title_standoff=15,\n",
    "            ticklabelstandoff=10,\n",
    "            ticklabelposition=\"outside left\"\n",
    "        ),\n",
    "    )\n",
    ")\n",
    "pio.templates[\"infoviz\"] = infoviz_template"
   ]
  },
  {
   "cell_type": "markdown",
   "metadata": {},
   "source": [
    "### load the data summed up"
   ]
  },
  {
   "cell_type": "code",
   "execution_count": 51,
   "metadata": {},
   "outputs": [],
   "source": [
    "years = [str(year) for year in range(2013, 2025)]\n",
    "\n",
    "df = pd.read_excel(\"data.xlsx\", sheet_name=years)\n",
    "\n",
    "data_list = []\n",
    "\n",
    "for year, df in df.items():\n",
    "    df['Jahr'] = year\n",
    "\n",
    "    data_list.append(df)\n",
    "\n",
    "final_df = pd.concat(data_list, ignore_index=True)\n",
    "\n"
   ]
  },
  {
   "cell_type": "markdown",
   "metadata": {},
   "source": [
    "### clean the data"
   ]
  },
  {
   "cell_type": "code",
   "execution_count": 52,
   "metadata": {},
   "outputs": [],
   "source": [
    "df = final_df[final_df.columns[~final_df.columns.str.contains(r'\\*')]] # drop * in the data\n",
    "df.columns = df.columns.str.replace('*', '', regex=False)# just to be sure\n",
    "df = df.rename(columns={'Master Getränketechnologi':'Master Getränketechnologie'})# fix a typo\n",
    "clean_columns = {}\n",
    "for col in df.columns:\n",
    "    clean_name = col.strip()  # get rid of other human typos\n",
    "    if clean_name in clean_columns:\n",
    "        clean_columns[clean_name].append(col)\n",
    "    else:\n",
    "        clean_columns[clean_name] = [col]\n",
    "\n",
    "# smack together the similar col names \n",
    "merged_df = df[['Jahr']].copy()\n",
    "for clean_name, original_cols in clean_columns.items():\n",
    "    if len(original_cols) > 1:\n",
    "        merged_df[clean_name] = df[original_cols].sum(axis=1)\n",
    "    else:\n",
    "        merged_df[clean_name] = df[original_cols[0]]\n",
    "df = merged_df.fillna(value=0) # use if needed for plotting"
   ]
  },
  {
   "cell_type": "markdown",
   "metadata": {},
   "source": [
    "### transform"
   ]
  },
  {
   "cell_type": "code",
   "execution_count": 53,
   "metadata": {},
   "outputs": [],
   "source": [
    "df = df[df['Variable'].isin(['Zufriedenheit'])]\n",
    "df = df[df['Variable'] == 'Zufriedenheit'].drop(columns='Variable')\n",
    "df = df[df[\"Category\"] != \"Gesamt (%)\"]\n",
    "df = df.groupby(['Jahr', 'Category']).sum().reset_index()\n"
   ]
  },
  {
   "cell_type": "code",
   "execution_count": 54,
   "metadata": {},
   "outputs": [],
   "source": [
    "anzahl_row = df[df['Category'] == 'Anzahl']\n",
    "for year in df['Jahr'].unique():\n",
    "    gesamtzahlen = anzahl_row[anzahl_row['Jahr'] == year].drop(columns=['Jahr', 'Category']).values.flatten()\n",
    "\n",
    "    for col in df.columns[2:]:\n",
    "        df[col] = pd.to_numeric(df[col], errors='coerce')  # Umwandlung in numerisch, fehlerhafte Werte werden zu NaN\n",
    "\n",
    "    for idx, row in df[df['Jahr'] == year].iterrows():\n",
    "        if row['Category'] != 'Anzahl':\n",
    "            relative_prozent = row.drop(['Jahr', 'Category']).values\n",
    "            absolute_werte = (relative_prozent / 100) * gesamtzahlen\n",
    "            df.loc[idx, df.columns[2:]] = absolute_werte\n",
    "            df.round(0)\n",
    "df = df[df['Category'] != 'Anzahl']\n",
    "df['sum']= df.sum(axis=1, numeric_only=True).round(0)\n",
    "df = df.get(key=['Jahr', 'Category', 'sum'])"
   ]
  },
  {
   "cell_type": "code",
   "execution_count": 55,
   "metadata": {},
   "outputs": [],
   "source": [
    "category_order = [\n",
    "    'gar nicht zufrieden (%)', \n",
    "    'weniger zufrieden (%)', \n",
    "    'mittelmäßig zufrieden (%)', \n",
    "    'eher zufrieden (%)', \n",
    "    'sehr zufrieden (%)'\n",
    "]\n",
    "df['Category'] = pd.Categorical(df['Category'], categories=category_order, ordered=True)"
   ]
  },
  {
   "cell_type": "code",
   "execution_count": 56,
   "metadata": {},
   "outputs": [],
   "source": [
    "df_rel = df.pivot(index=\"Jahr\", columns=\"Category\")\n",
    "df_rel.columns = df_rel.columns.droplevel()\n",
    "df_rel = df_rel.apply(pd.to_numeric, errors='coerce')\n"
   ]
  },
  {
   "cell_type": "code",
   "execution_count": 57,
   "metadata": {},
   "outputs": [],
   "source": [
    "df_rel = (\n",
    "    df_rel.div(df_rel.sum(axis=1), axis=0).mul(100)\n",
    ")"
   ]
  },
  {
   "cell_type": "markdown",
   "metadata": {},
   "source": [
    "### plot"
   ]
  },
  {
   "cell_type": "code",
   "execution_count": 58,
   "metadata": {},
   "outputs": [
    {
     "data": {
      "application/vnd.plotly.v1+json": {
       "config": {
        "plotlyServerURL": "https://plot.ly"
       },
       "data": [
        {
         "hovertemplate": "Kategorien=gar nicht zufrieden (%)<br>Jahr=%{x}<br>Relativer Anteil der Antworten=%{y}<extra></extra>",
         "legendgroup": "gar nicht zufrieden (%)",
         "marker": {
          "color": "rgb(136, 204, 238)",
          "pattern": {
           "shape": ""
          }
         },
         "name": "gar nicht zufrieden (%)",
         "orientation": "v",
         "showlegend": true,
         "textposition": "auto",
         "type": "bar",
         "x": [
          "2013",
          "2014",
          "2015",
          "2016",
          "2017",
          "2018",
          "2019",
          "2020",
          "2021",
          "2022",
          "2023",
          "2024"
         ],
         "xaxis": "x",
         "y": {
          "bdata": "Ha5lDuB+1j8BQgxan5LnPwAAAAAAAAAAxDf3S5X01T+g8mPjXOb0PwAAAAAAAAAAH+EzOBIp1z8AAAAAAAAAAAn1khsogNc/oBvz9NFqwj9Ch0+vYgbdPwAAAAAAAAAA",
          "dtype": "f8"
         },
         "yaxis": "y"
        },
        {
         "hovertemplate": "Kategorien=weniger zufrieden (%)<br>Jahr=%{x}<br>Relativer Anteil der Antworten=%{y}<extra></extra>",
         "legendgroup": "weniger zufrieden (%)",
         "marker": {
          "color": "rgb(204, 102, 119)",
          "pattern": {
           "shape": ""
          }
         },
         "name": "weniger zufrieden (%)",
         "orientation": "v",
         "showlegend": true,
         "textposition": "auto",
         "type": "bar",
         "x": [
          "2013",
          "2014",
          "2015",
          "2016",
          "2017",
          "2018",
          "2019",
          "2020",
          "2021",
          "2022",
          "2023",
          "2024"
         ],
         "xaxis": "x",
         "y": {
          "bdata": "QAsfk4HgLUBMA+cquy01QLZt27ZtWy5AruxzSE0wLkBl8EkJF2IoQJswBBJn7iVA1+gmqs1eIUB00UUXXXQZQIchpcF2lSNAH60mIYq/GEAVvJyCl1MQQGmFzYFEKwxA",
          "dtype": "f8"
         },
         "yaxis": "y"
        },
        {
         "hovertemplate": "Kategorien=mittelmäßig zufrieden (%)<br>Jahr=%{x}<br>Relativer Anteil der Antworten=%{y}<extra></extra>",
         "legendgroup": "mittelmäßig zufrieden (%)",
         "marker": {
          "color": "rgb(221, 204, 119)",
          "pattern": {
           "shape": ""
          }
         },
         "name": "mittelmäßig zufrieden (%)",
         "orientation": "v",
         "showlegend": true,
         "textposition": "auto",
         "type": "bar",
         "x": [
          "2013",
          "2014",
          "2015",
          "2016",
          "2017",
          "2018",
          "2019",
          "2020",
          "2021",
          "2022",
          "2023",
          "2024"
         ],
         "xaxis": "x",
         "y": {
          "bdata": "R3ISj9KMJ0Bxz7iIYvEgQG7btm3bNidAkSNZoxQnIUBI7zwc9B8aQO15vx0zQhZApIY87D8FG0D6CXFWfkIUQLjF2ZklCBZAJkTxFznDKkD9rIbYY/QjQI5i9ufDaShA",
          "dtype": "f8"
         },
         "yaxis": "y"
        },
        {
         "hovertemplate": "Kategorien=eher zufrieden (%)<br>Jahr=%{x}<br>Relativer Anteil der Antworten=%{y}<extra></extra>",
         "legendgroup": "eher zufrieden (%)",
         "marker": {
          "color": "rgb(17, 119, 51)",
          "pattern": {
           "shape": ""
          }
         },
         "name": "eher zufrieden (%)",
         "orientation": "v",
         "showlegend": true,
         "textposition": "auto",
         "type": "bar",
         "x": [
          "2013",
          "2014",
          "2015",
          "2016",
          "2017",
          "2018",
          "2019",
          "2020",
          "2021",
          "2022",
          "2023",
          "2024"
         ],
         "xaxis": "x",
         "y": {
          "bdata": "JgwN+2JEUUAGjEkcvG9QQG7btm3bvlFA1ATjrexzUUCflHAhhsdRQBGTK4jJFVJAdqq48oYnUkDlJ8RZ+YlSQCrJ3onIgFFA5umj1SREUUCm8k44F5hSQI/lvdoi11FA",
          "dtype": "f8"
         },
         "yaxis": "y"
        },
        {
         "hovertemplate": "Kategorien=sehr zufrieden (%)<br>Jahr=%{x}<br>Relativer Anteil der Antworten=%{y}<extra></extra>",
         "legendgroup": "sehr zufrieden (%)",
         "marker": {
          "color": "rgb(51, 34, 136)",
          "pattern": {
           "shape": ""
          }
         },
         "name": "sehr zufrieden (%)",
         "orientation": "v",
         "showlegend": true,
         "textposition": "auto",
         "type": "bar",
         "x": [
          "2013",
          "2014",
          "2015",
          "2016",
          "2017",
          "2018",
          "2019",
          "2020",
          "2021",
          "2022",
          "2023",
          "2024"
         ],
         "xaxis": "x",
         "y": {
          "bdata": "aM/LE3TuDkChFjAmcfAOQLdt27Zt2wFAvR529SezGECrdKZA8rQhQO15vx0zQiZAH+EzOBIpJ0AeUwN7x9QsQKMam+EwpCxAq0mI4i9yJkCO4ziO4zgmQKAPpyFU0ilA",
          "dtype": "f8"
         },
         "yaxis": "y"
        }
       ],
       "layout": {
        "barmode": "stack",
        "height": 500,
        "legend": {
         "title": {
          "text": "Kategorien"
         },
         "tracegroupgap": 0
        },
        "template": {
         "layout": {
          "template": {
           "data": {
            "bar": [
             {
              "error_x": {
               "color": "#2a3f5f"
              },
              "error_y": {
               "color": "#2a3f5f"
              },
              "marker": {
               "line": {
                "color": "white",
                "width": 0.5
               },
               "pattern": {
                "fillmode": "overlay",
                "size": 10,
                "solidity": 0.2
               }
              },
              "type": "bar"
             }
            ],
            "barpolar": [
             {
              "marker": {
               "line": {
                "color": "white",
                "width": 0.5
               },
               "pattern": {
                "fillmode": "overlay",
                "size": 10,
                "solidity": 0.2
               }
              },
              "type": "barpolar"
             }
            ],
            "carpet": [
             {
              "aaxis": {
               "endlinecolor": "#2a3f5f",
               "gridcolor": "#C8D4E3",
               "linecolor": "#C8D4E3",
               "minorgridcolor": "#C8D4E3",
               "startlinecolor": "#2a3f5f"
              },
              "baxis": {
               "endlinecolor": "#2a3f5f",
               "gridcolor": "#C8D4E3",
               "linecolor": "#C8D4E3",
               "minorgridcolor": "#C8D4E3",
               "startlinecolor": "#2a3f5f"
              },
              "type": "carpet"
             }
            ],
            "choropleth": [
             {
              "colorbar": {
               "outlinewidth": 0,
               "ticks": ""
              },
              "type": "choropleth"
             }
            ],
            "contour": [
             {
              "colorbar": {
               "outlinewidth": 0,
               "ticks": ""
              },
              "colorscale": [
               [
                0,
                "#0d0887"
               ],
               [
                0.1111111111111111,
                "#46039f"
               ],
               [
                0.2222222222222222,
                "#7201a8"
               ],
               [
                0.3333333333333333,
                "#9c179e"
               ],
               [
                0.4444444444444444,
                "#bd3786"
               ],
               [
                0.5555555555555556,
                "#d8576b"
               ],
               [
                0.6666666666666666,
                "#ed7953"
               ],
               [
                0.7777777777777778,
                "#fb9f3a"
               ],
               [
                0.8888888888888888,
                "#fdca26"
               ],
               [
                1,
                "#f0f921"
               ]
              ],
              "type": "contour"
             }
            ],
            "contourcarpet": [
             {
              "colorbar": {
               "outlinewidth": 0,
               "ticks": ""
              },
              "type": "contourcarpet"
             }
            ],
            "heatmap": [
             {
              "colorbar": {
               "outlinewidth": 0,
               "ticks": ""
              },
              "colorscale": [
               [
                0,
                "#0d0887"
               ],
               [
                0.1111111111111111,
                "#46039f"
               ],
               [
                0.2222222222222222,
                "#7201a8"
               ],
               [
                0.3333333333333333,
                "#9c179e"
               ],
               [
                0.4444444444444444,
                "#bd3786"
               ],
               [
                0.5555555555555556,
                "#d8576b"
               ],
               [
                0.6666666666666666,
                "#ed7953"
               ],
               [
                0.7777777777777778,
                "#fb9f3a"
               ],
               [
                0.8888888888888888,
                "#fdca26"
               ],
               [
                1,
                "#f0f921"
               ]
              ],
              "type": "heatmap"
             }
            ],
            "histogram": [
             {
              "marker": {
               "pattern": {
                "fillmode": "overlay",
                "size": 10,
                "solidity": 0.2
               }
              },
              "type": "histogram"
             }
            ],
            "histogram2d": [
             {
              "colorbar": {
               "outlinewidth": 0,
               "ticks": ""
              },
              "colorscale": [
               [
                0,
                "#0d0887"
               ],
               [
                0.1111111111111111,
                "#46039f"
               ],
               [
                0.2222222222222222,
                "#7201a8"
               ],
               [
                0.3333333333333333,
                "#9c179e"
               ],
               [
                0.4444444444444444,
                "#bd3786"
               ],
               [
                0.5555555555555556,
                "#d8576b"
               ],
               [
                0.6666666666666666,
                "#ed7953"
               ],
               [
                0.7777777777777778,
                "#fb9f3a"
               ],
               [
                0.8888888888888888,
                "#fdca26"
               ],
               [
                1,
                "#f0f921"
               ]
              ],
              "type": "histogram2d"
             }
            ],
            "histogram2dcontour": [
             {
              "colorbar": {
               "outlinewidth": 0,
               "ticks": ""
              },
              "colorscale": [
               [
                0,
                "#0d0887"
               ],
               [
                0.1111111111111111,
                "#46039f"
               ],
               [
                0.2222222222222222,
                "#7201a8"
               ],
               [
                0.3333333333333333,
                "#9c179e"
               ],
               [
                0.4444444444444444,
                "#bd3786"
               ],
               [
                0.5555555555555556,
                "#d8576b"
               ],
               [
                0.6666666666666666,
                "#ed7953"
               ],
               [
                0.7777777777777778,
                "#fb9f3a"
               ],
               [
                0.8888888888888888,
                "#fdca26"
               ],
               [
                1,
                "#f0f921"
               ]
              ],
              "type": "histogram2dcontour"
             }
            ],
            "mesh3d": [
             {
              "colorbar": {
               "outlinewidth": 0,
               "ticks": ""
              },
              "type": "mesh3d"
             }
            ],
            "parcoords": [
             {
              "line": {
               "colorbar": {
                "outlinewidth": 0,
                "ticks": ""
               }
              },
              "type": "parcoords"
             }
            ],
            "pie": [
             {
              "automargin": true,
              "type": "pie"
             }
            ],
            "scatter": [
             {
              "fillpattern": {
               "fillmode": "overlay",
               "size": 10,
               "solidity": 0.2
              },
              "type": "scatter"
             }
            ],
            "scatter3d": [
             {
              "line": {
               "colorbar": {
                "outlinewidth": 0,
                "ticks": ""
               }
              },
              "marker": {
               "colorbar": {
                "outlinewidth": 0,
                "ticks": ""
               }
              },
              "type": "scatter3d"
             }
            ],
            "scattercarpet": [
             {
              "marker": {
               "colorbar": {
                "outlinewidth": 0,
                "ticks": ""
               }
              },
              "type": "scattercarpet"
             }
            ],
            "scattergeo": [
             {
              "marker": {
               "colorbar": {
                "outlinewidth": 0,
                "ticks": ""
               }
              },
              "type": "scattergeo"
             }
            ],
            "scattergl": [
             {
              "marker": {
               "colorbar": {
                "outlinewidth": 0,
                "ticks": ""
               }
              },
              "type": "scattergl"
             }
            ],
            "scattermap": [
             {
              "marker": {
               "colorbar": {
                "outlinewidth": 0,
                "ticks": ""
               }
              },
              "type": "scattermap"
             }
            ],
            "scattermapbox": [
             {
              "marker": {
               "colorbar": {
                "outlinewidth": 0,
                "ticks": ""
               }
              },
              "type": "scattermapbox"
             }
            ],
            "scatterpolar": [
             {
              "marker": {
               "colorbar": {
                "outlinewidth": 0,
                "ticks": ""
               }
              },
              "type": "scatterpolar"
             }
            ],
            "scatterpolargl": [
             {
              "marker": {
               "colorbar": {
                "outlinewidth": 0,
                "ticks": ""
               }
              },
              "type": "scatterpolargl"
             }
            ],
            "scatterternary": [
             {
              "marker": {
               "colorbar": {
                "outlinewidth": 0,
                "ticks": ""
               }
              },
              "type": "scatterternary"
             }
            ],
            "surface": [
             {
              "colorbar": {
               "outlinewidth": 0,
               "ticks": ""
              },
              "colorscale": [
               [
                0,
                "#0d0887"
               ],
               [
                0.1111111111111111,
                "#46039f"
               ],
               [
                0.2222222222222222,
                "#7201a8"
               ],
               [
                0.3333333333333333,
                "#9c179e"
               ],
               [
                0.4444444444444444,
                "#bd3786"
               ],
               [
                0.5555555555555556,
                "#d8576b"
               ],
               [
                0.6666666666666666,
                "#ed7953"
               ],
               [
                0.7777777777777778,
                "#fb9f3a"
               ],
               [
                0.8888888888888888,
                "#fdca26"
               ],
               [
                1,
                "#f0f921"
               ]
              ],
              "type": "surface"
             }
            ],
            "table": [
             {
              "cells": {
               "fill": {
                "color": "#EBF0F8"
               },
               "line": {
                "color": "white"
               }
              },
              "header": {
               "fill": {
                "color": "#C8D4E3"
               },
               "line": {
                "color": "white"
               }
              },
              "type": "table"
             }
            ]
           },
           "layout": {
            "annotationdefaults": {
             "arrowcolor": "#2a3f5f",
             "arrowhead": 0,
             "arrowwidth": 1
            },
            "autotypenumbers": "strict",
            "coloraxis": {
             "colorbar": {
              "outlinewidth": 0,
              "ticks": ""
             }
            },
            "colorscale": {
             "diverging": [
              [
               0,
               "#8e0152"
              ],
              [
               0.1,
               "#c51b7d"
              ],
              [
               0.2,
               "#de77ae"
              ],
              [
               0.3,
               "#f1b6da"
              ],
              [
               0.4,
               "#fde0ef"
              ],
              [
               0.5,
               "#f7f7f7"
              ],
              [
               0.6,
               "#e6f5d0"
              ],
              [
               0.7,
               "#b8e186"
              ],
              [
               0.8,
               "#7fbc41"
              ],
              [
               0.9,
               "#4d9221"
              ],
              [
               1,
               "#276419"
              ]
             ],
             "sequential": [
              [
               0,
               "#0d0887"
              ],
              [
               0.1111111111111111,
               "#46039f"
              ],
              [
               0.2222222222222222,
               "#7201a8"
              ],
              [
               0.3333333333333333,
               "#9c179e"
              ],
              [
               0.4444444444444444,
               "#bd3786"
              ],
              [
               0.5555555555555556,
               "#d8576b"
              ],
              [
               0.6666666666666666,
               "#ed7953"
              ],
              [
               0.7777777777777778,
               "#fb9f3a"
              ],
              [
               0.8888888888888888,
               "#fdca26"
              ],
              [
               1,
               "#f0f921"
              ]
             ],
             "sequentialminus": [
              [
               0,
               "#0d0887"
              ],
              [
               0.1111111111111111,
               "#46039f"
              ],
              [
               0.2222222222222222,
               "#7201a8"
              ],
              [
               0.3333333333333333,
               "#9c179e"
              ],
              [
               0.4444444444444444,
               "#bd3786"
              ],
              [
               0.5555555555555556,
               "#d8576b"
              ],
              [
               0.6666666666666666,
               "#ed7953"
              ],
              [
               0.7777777777777778,
               "#fb9f3a"
              ],
              [
               0.8888888888888888,
               "#fdca26"
              ],
              [
               1,
               "#f0f921"
              ]
             ]
            },
            "colorway": [
             "#636efa",
             "#EF553B",
             "#00cc96",
             "#ab63fa",
             "#FFA15A",
             "#19d3f3",
             "#FF6692",
             "#B6E880",
             "#FF97FF",
             "#FECB52"
            ],
            "font": {
             "color": "#2a3f5f"
            },
            "geo": {
             "bgcolor": "white",
             "lakecolor": "white",
             "landcolor": "white",
             "showlakes": true,
             "showland": true,
             "subunitcolor": "#C8D4E3"
            },
            "hoverlabel": {
             "align": "left"
            },
            "hovermode": "closest",
            "mapbox": {
             "style": "light"
            },
            "paper_bgcolor": "white",
            "plot_bgcolor": "white",
            "polar": {
             "angularaxis": {
              "gridcolor": "#EBF0F8",
              "linecolor": "#EBF0F8",
              "ticks": ""
             },
             "bgcolor": "white",
             "radialaxis": {
              "gridcolor": "#EBF0F8",
              "linecolor": "#EBF0F8",
              "ticks": ""
             }
            },
            "scene": {
             "xaxis": {
              "backgroundcolor": "white",
              "gridcolor": "#DFE8F3",
              "gridwidth": 2,
              "linecolor": "#EBF0F8",
              "showbackground": true,
              "ticks": "",
              "zerolinecolor": "#EBF0F8"
             },
             "yaxis": {
              "backgroundcolor": "white",
              "gridcolor": "#DFE8F3",
              "gridwidth": 2,
              "linecolor": "#EBF0F8",
              "showbackground": true,
              "ticks": "",
              "zerolinecolor": "#EBF0F8"
             },
             "zaxis": {
              "backgroundcolor": "white",
              "gridcolor": "#DFE8F3",
              "gridwidth": 2,
              "linecolor": "#EBF0F8",
              "showbackground": true,
              "ticks": "",
              "zerolinecolor": "#EBF0F8"
             }
            },
            "shapedefaults": {
             "line": {
              "color": "#2a3f5f"
             }
            },
            "ternary": {
             "aaxis": {
              "gridcolor": "#DFE8F3",
              "linecolor": "#A2B1C6",
              "ticks": ""
             },
             "baxis": {
              "gridcolor": "#DFE8F3",
              "linecolor": "#A2B1C6",
              "ticks": ""
             },
             "bgcolor": "white",
             "caxis": {
              "gridcolor": "#DFE8F3",
              "linecolor": "#A2B1C6",
              "ticks": ""
             }
            },
            "title": {
             "x": 0.05
            },
            "xaxis": {
             "automargin": true,
             "gridcolor": "#EBF0F8",
             "linecolor": "#EBF0F8",
             "ticks": "",
             "title": {
              "standoff": 15
             },
             "zerolinecolor": "#EBF0F8",
             "zerolinewidth": 2
            },
            "yaxis": {
             "automargin": true,
             "gridcolor": "#EBF0F8",
             "linecolor": "#EBF0F8",
             "ticks": "",
             "title": {
              "standoff": 15
             },
             "zerolinecolor": "#EBF0F8",
             "zerolinewidth": 2
            }
           }
          },
          "title": {
           "font": {
            "color": "black",
            "family": "Arial",
            "size": 20,
            "weight": "bold"
           },
           "subtitle": {
            "font": {
             "color": "gray",
             "size": 13
            },
            "text": "Relative Verteilung der Antworten zu Zufriedenheit in verschiedenen Kategorien von 2013 bis 2024"
           },
           "x": 0,
           "xanchor": "left",
           "xref": "paper"
          },
          "xaxis": {
           "showgrid": false,
           "tickfont": {
            "color": "grey",
            "size": 12
           },
           "ticklabelposition": "outside bottom",
           "ticklabelstandoff": 10,
           "title": {
            "font": {
             "color": "grey",
             "size": 13,
             "weight": "bold"
            },
            "standoff": 15
           },
           "zerolinecolor": "lightgrey"
          },
          "yaxis": {
           "gridcolor": "lightgrey",
           "showgrid": true,
           "tickfont": {
            "color": "grey",
            "size": 12
           },
           "ticklabelposition": "outside left",
           "ticklabelstandoff": 10,
           "title": {
            "font": {
             "color": "grey",
             "size": 13,
             "weight": "bold"
            },
            "standoff": 15
           },
           "zerolinecolor": "lightgrey"
          }
         }
        },
        "title": {
         "text": "Entwicklung der Zufriedenheit im Fachbereich 09"
        },
        "width": 1400,
        "xaxis": {
         "anchor": "y",
         "domain": [
          0,
          1
         ],
         "title": {
          "text": "Jahr"
         }
        },
        "yaxis": {
         "anchor": "x",
         "domain": [
          0,
          1
         ],
         "title": {
          "text": "Relativer Anteil der Antworten"
         }
        }
       }
      }
     },
     "metadata": {},
     "output_type": "display_data"
    }
   ],
   "source": [
    "infoviz_template = dict(\n",
    "    layout=dict(\n",
    "        template=\"plotly_white\",\n",
    "        title=dict(\n",
    "            font=dict(size=20, family=\"Arial\", weight=\"bold\", color=\"black\"),\n",
    "            xanchor=\"left\",  \n",
    "            xref=\"paper\",\n",
    "            x=0,\n",
    "            subtitle=dict(\n",
    "                text=\"Relative Verteilung der Antworten zu Zufriedenheit in verschiedenen Kategorien von 2013 bis 2024\",\n",
    "                font=dict(color=\"gray\", size=13),\n",
    "            ),\n",
    "        ),\n",
    "        xaxis=dict(\n",
    "            showgrid=False,\n",
    "            zerolinecolor=\"lightgrey\",\n",
    "            tickfont=dict(color=\"grey\", size=12),\n",
    "            title_font=dict(color=\"grey\", weight=\"bold\", size=13),\n",
    "            title_standoff=15,\n",
    "            ticklabelstandoff=10,\n",
    "            ticklabelposition=\"outside bottom\"\n",
    "        ),\n",
    "        yaxis=dict(\n",
    "            showgrid=True, gridcolor=\"lightgrey\",\n",
    "            zerolinecolor=\"lightgrey\",\n",
    "            tickfont=dict(color=\"grey\", size=12),\n",
    "            title_font=dict(color=\"grey\", weight=\"bold\", size=13),\n",
    "            title_standoff=15,\n",
    "            ticklabelstandoff=10,\n",
    "            ticklabelposition=\"outside left\"\n",
    "        ),\n",
    "    )\n",
    ")\n",
    "\n",
    "pio.templates[\"infoviz\"] = infoviz_template\n",
    "\n",
    "category_order = [\n",
    "    'gar nicht zufrieden (%)', \n",
    "    'weniger zufrieden (%)', \n",
    "    'mittelmäßig zufrieden (%)', \n",
    "    'eher zufrieden (%)', \n",
    "    'sehr zufrieden (%)'\n",
    "]\n",
    "\n",
    "df_melted = df_rel.reset_index().melt(id_vars=\"Jahr\", var_name=\"Category\", value_name=\"sum\")\n",
    "df_melted.rename(columns={\"index\": \"Jahr\"}, inplace=True)\n",
    "\n",
    "df_melted['Category'] = pd.Categorical(df_melted['Category'], categories=category_order, ordered=True)\n",
    "\n",
    "df_melted = df_melted.sort_values(by=['Jahr', 'Category'])\n",
    "\n",
    "fig = px.bar(df_melted, x=\"Jahr\", \n",
    "             y=\"sum\", \n",
    "             color=\"Category\", \n",
    "             title=\"Entwicklung der Zufriedenheit im Fachbereich 09\", \n",
    "             color_discrete_sequence=px.colors.qualitative.Safe, \n",
    "             template=\"infoviz\",\n",
    "             barmode=\"stack\",\n",
    "             labels={\n",
    "                 'Jahr': 'Jahr', \n",
    "                 'sum': 'Relativer Anteil der Antworten',\n",
    "                 'Category': 'Kategorien'\n",
    "             })\n",
    "\n",
    "\n",
    "fig.update_layout(\n",
    "    width=1400,\n",
    "    height=500,\n",
    ")\n",
    "fig.show()\n",
    "fig.write_image(\"Plots/pdf/zufriedenheit1.pdf\")\n"
   ]
  },
  {
   "cell_type": "code",
   "execution_count": 59,
   "metadata": {},
   "outputs": [
    {
     "data": {
      "application/vnd.plotly.v1+json": {
       "config": {
        "plotlyServerURL": "https://plot.ly"
       },
       "data": [
        {
         "alignmentgroup": "True",
         "hovertemplate": "Kategorien=gar nicht zufrieden (%)<br>Jahr=%{x}<br>Relativer Anteil der Antworten=%{y}<extra></extra>",
         "legendgroup": "gar nicht zufrieden (%)",
         "marker": {
          "color": "rgb(136, 204, 238)",
          "pattern": {
           "shape": ""
          }
         },
         "name": "gar nicht zufrieden (%)",
         "offsetgroup": "gar nicht zufrieden (%)",
         "orientation": "v",
         "showlegend": true,
         "textposition": "auto",
         "type": "bar",
         "x": [
          "2013",
          "2014",
          "2015",
          "2016",
          "2017",
          "2018",
          "2019",
          "2020",
          "2021",
          "2022",
          "2023",
          "2024"
         ],
         "xaxis": "x",
         "y": {
          "bdata": "Ha5lDuB+1j8BQgxan5LnPwAAAAAAAAAAxDf3S5X01T+g8mPjXOb0PwAAAAAAAAAAH+EzOBIp1z8AAAAAAAAAAAn1khsogNc/oBvz9NFqwj9Ch0+vYgbdPwAAAAAAAAAA",
          "dtype": "f8"
         },
         "yaxis": "y"
        },
        {
         "alignmentgroup": "True",
         "hovertemplate": "Kategorien=weniger zufrieden (%)<br>Jahr=%{x}<br>Relativer Anteil der Antworten=%{y}<extra></extra>",
         "legendgroup": "weniger zufrieden (%)",
         "marker": {
          "color": "rgb(204, 102, 119)",
          "pattern": {
           "shape": ""
          }
         },
         "name": "weniger zufrieden (%)",
         "offsetgroup": "weniger zufrieden (%)",
         "orientation": "v",
         "showlegend": true,
         "textposition": "auto",
         "type": "bar",
         "x": [
          "2013",
          "2014",
          "2015",
          "2016",
          "2017",
          "2018",
          "2019",
          "2020",
          "2021",
          "2022",
          "2023",
          "2024"
         ],
         "xaxis": "x",
         "y": {
          "bdata": "QAsfk4HgLUBMA+cquy01QLZt27ZtWy5AruxzSE0wLkBl8EkJF2IoQJswBBJn7iVA1+gmqs1eIUB00UUXXXQZQIchpcF2lSNAH60mIYq/GEAVvJyCl1MQQGmFzYFEKwxA",
          "dtype": "f8"
         },
         "yaxis": "y"
        },
        {
         "alignmentgroup": "True",
         "hovertemplate": "Kategorien=mittelmäßig zufrieden (%)<br>Jahr=%{x}<br>Relativer Anteil der Antworten=%{y}<extra></extra>",
         "legendgroup": "mittelmäßig zufrieden (%)",
         "marker": {
          "color": "rgb(221, 204, 119)",
          "pattern": {
           "shape": ""
          }
         },
         "name": "mittelmäßig zufrieden (%)",
         "offsetgroup": "mittelmäßig zufrieden (%)",
         "orientation": "v",
         "showlegend": true,
         "textposition": "auto",
         "type": "bar",
         "x": [
          "2013",
          "2014",
          "2015",
          "2016",
          "2017",
          "2018",
          "2019",
          "2020",
          "2021",
          "2022",
          "2023",
          "2024"
         ],
         "xaxis": "x",
         "y": {
          "bdata": "R3ISj9KMJ0Bxz7iIYvEgQG7btm3bNidAkSNZoxQnIUBI7zwc9B8aQO15vx0zQhZApIY87D8FG0D6CXFWfkIUQLjF2ZklCBZAJkTxFznDKkD9rIbYY/QjQI5i9ufDaShA",
          "dtype": "f8"
         },
         "yaxis": "y"
        },
        {
         "alignmentgroup": "True",
         "hovertemplate": "Kategorien=eher zufrieden (%)<br>Jahr=%{x}<br>Relativer Anteil der Antworten=%{y}<extra></extra>",
         "legendgroup": "eher zufrieden (%)",
         "marker": {
          "color": "rgb(17, 119, 51)",
          "pattern": {
           "shape": ""
          }
         },
         "name": "eher zufrieden (%)",
         "offsetgroup": "eher zufrieden (%)",
         "orientation": "v",
         "showlegend": true,
         "textposition": "auto",
         "type": "bar",
         "x": [
          "2013",
          "2014",
          "2015",
          "2016",
          "2017",
          "2018",
          "2019",
          "2020",
          "2021",
          "2022",
          "2023",
          "2024"
         ],
         "xaxis": "x",
         "y": {
          "bdata": "JgwN+2JEUUAGjEkcvG9QQG7btm3bvlFA1ATjrexzUUCflHAhhsdRQBGTK4jJFVJAdqq48oYnUkDlJ8RZ+YlSQCrJ3onIgFFA5umj1SREUUCm8k44F5hSQI/lvdoi11FA",
          "dtype": "f8"
         },
         "yaxis": "y"
        },
        {
         "alignmentgroup": "True",
         "hovertemplate": "Kategorien=sehr zufrieden (%)<br>Jahr=%{x}<br>Relativer Anteil der Antworten=%{y}<extra></extra>",
         "legendgroup": "sehr zufrieden (%)",
         "marker": {
          "color": "rgb(51, 34, 136)",
          "pattern": {
           "shape": ""
          }
         },
         "name": "sehr zufrieden (%)",
         "offsetgroup": "sehr zufrieden (%)",
         "orientation": "v",
         "showlegend": true,
         "textposition": "auto",
         "type": "bar",
         "x": [
          "2013",
          "2014",
          "2015",
          "2016",
          "2017",
          "2018",
          "2019",
          "2020",
          "2021",
          "2022",
          "2023",
          "2024"
         ],
         "xaxis": "x",
         "y": {
          "bdata": "aM/LE3TuDkChFjAmcfAOQLdt27Zt2wFAvR529SezGECrdKZA8rQhQO15vx0zQiZAH+EzOBIpJ0AeUwN7x9QsQKMam+EwpCxAq0mI4i9yJkCO4ziO4zgmQKAPpyFU0ilA",
          "dtype": "f8"
         },
         "yaxis": "y"
        }
       ],
       "layout": {
        "barmode": "group",
        "height": 700,
        "legend": {
         "title": {
          "text": "Kategorien"
         },
         "tracegroupgap": 0
        },
        "template": {
         "layout": {
          "template": {
           "data": {
            "bar": [
             {
              "error_x": {
               "color": "#2a3f5f"
              },
              "error_y": {
               "color": "#2a3f5f"
              },
              "marker": {
               "line": {
                "color": "white",
                "width": 0.5
               },
               "pattern": {
                "fillmode": "overlay",
                "size": 10,
                "solidity": 0.2
               }
              },
              "type": "bar"
             }
            ],
            "barpolar": [
             {
              "marker": {
               "line": {
                "color": "white",
                "width": 0.5
               },
               "pattern": {
                "fillmode": "overlay",
                "size": 10,
                "solidity": 0.2
               }
              },
              "type": "barpolar"
             }
            ],
            "carpet": [
             {
              "aaxis": {
               "endlinecolor": "#2a3f5f",
               "gridcolor": "#C8D4E3",
               "linecolor": "#C8D4E3",
               "minorgridcolor": "#C8D4E3",
               "startlinecolor": "#2a3f5f"
              },
              "baxis": {
               "endlinecolor": "#2a3f5f",
               "gridcolor": "#C8D4E3",
               "linecolor": "#C8D4E3",
               "minorgridcolor": "#C8D4E3",
               "startlinecolor": "#2a3f5f"
              },
              "type": "carpet"
             }
            ],
            "choropleth": [
             {
              "colorbar": {
               "outlinewidth": 0,
               "ticks": ""
              },
              "type": "choropleth"
             }
            ],
            "contour": [
             {
              "colorbar": {
               "outlinewidth": 0,
               "ticks": ""
              },
              "colorscale": [
               [
                0,
                "#0d0887"
               ],
               [
                0.1111111111111111,
                "#46039f"
               ],
               [
                0.2222222222222222,
                "#7201a8"
               ],
               [
                0.3333333333333333,
                "#9c179e"
               ],
               [
                0.4444444444444444,
                "#bd3786"
               ],
               [
                0.5555555555555556,
                "#d8576b"
               ],
               [
                0.6666666666666666,
                "#ed7953"
               ],
               [
                0.7777777777777778,
                "#fb9f3a"
               ],
               [
                0.8888888888888888,
                "#fdca26"
               ],
               [
                1,
                "#f0f921"
               ]
              ],
              "type": "contour"
             }
            ],
            "contourcarpet": [
             {
              "colorbar": {
               "outlinewidth": 0,
               "ticks": ""
              },
              "type": "contourcarpet"
             }
            ],
            "heatmap": [
             {
              "colorbar": {
               "outlinewidth": 0,
               "ticks": ""
              },
              "colorscale": [
               [
                0,
                "#0d0887"
               ],
               [
                0.1111111111111111,
                "#46039f"
               ],
               [
                0.2222222222222222,
                "#7201a8"
               ],
               [
                0.3333333333333333,
                "#9c179e"
               ],
               [
                0.4444444444444444,
                "#bd3786"
               ],
               [
                0.5555555555555556,
                "#d8576b"
               ],
               [
                0.6666666666666666,
                "#ed7953"
               ],
               [
                0.7777777777777778,
                "#fb9f3a"
               ],
               [
                0.8888888888888888,
                "#fdca26"
               ],
               [
                1,
                "#f0f921"
               ]
              ],
              "type": "heatmap"
             }
            ],
            "histogram": [
             {
              "marker": {
               "pattern": {
                "fillmode": "overlay",
                "size": 10,
                "solidity": 0.2
               }
              },
              "type": "histogram"
             }
            ],
            "histogram2d": [
             {
              "colorbar": {
               "outlinewidth": 0,
               "ticks": ""
              },
              "colorscale": [
               [
                0,
                "#0d0887"
               ],
               [
                0.1111111111111111,
                "#46039f"
               ],
               [
                0.2222222222222222,
                "#7201a8"
               ],
               [
                0.3333333333333333,
                "#9c179e"
               ],
               [
                0.4444444444444444,
                "#bd3786"
               ],
               [
                0.5555555555555556,
                "#d8576b"
               ],
               [
                0.6666666666666666,
                "#ed7953"
               ],
               [
                0.7777777777777778,
                "#fb9f3a"
               ],
               [
                0.8888888888888888,
                "#fdca26"
               ],
               [
                1,
                "#f0f921"
               ]
              ],
              "type": "histogram2d"
             }
            ],
            "histogram2dcontour": [
             {
              "colorbar": {
               "outlinewidth": 0,
               "ticks": ""
              },
              "colorscale": [
               [
                0,
                "#0d0887"
               ],
               [
                0.1111111111111111,
                "#46039f"
               ],
               [
                0.2222222222222222,
                "#7201a8"
               ],
               [
                0.3333333333333333,
                "#9c179e"
               ],
               [
                0.4444444444444444,
                "#bd3786"
               ],
               [
                0.5555555555555556,
                "#d8576b"
               ],
               [
                0.6666666666666666,
                "#ed7953"
               ],
               [
                0.7777777777777778,
                "#fb9f3a"
               ],
               [
                0.8888888888888888,
                "#fdca26"
               ],
               [
                1,
                "#f0f921"
               ]
              ],
              "type": "histogram2dcontour"
             }
            ],
            "mesh3d": [
             {
              "colorbar": {
               "outlinewidth": 0,
               "ticks": ""
              },
              "type": "mesh3d"
             }
            ],
            "parcoords": [
             {
              "line": {
               "colorbar": {
                "outlinewidth": 0,
                "ticks": ""
               }
              },
              "type": "parcoords"
             }
            ],
            "pie": [
             {
              "automargin": true,
              "type": "pie"
             }
            ],
            "scatter": [
             {
              "fillpattern": {
               "fillmode": "overlay",
               "size": 10,
               "solidity": 0.2
              },
              "type": "scatter"
             }
            ],
            "scatter3d": [
             {
              "line": {
               "colorbar": {
                "outlinewidth": 0,
                "ticks": ""
               }
              },
              "marker": {
               "colorbar": {
                "outlinewidth": 0,
                "ticks": ""
               }
              },
              "type": "scatter3d"
             }
            ],
            "scattercarpet": [
             {
              "marker": {
               "colorbar": {
                "outlinewidth": 0,
                "ticks": ""
               }
              },
              "type": "scattercarpet"
             }
            ],
            "scattergeo": [
             {
              "marker": {
               "colorbar": {
                "outlinewidth": 0,
                "ticks": ""
               }
              },
              "type": "scattergeo"
             }
            ],
            "scattergl": [
             {
              "marker": {
               "colorbar": {
                "outlinewidth": 0,
                "ticks": ""
               }
              },
              "type": "scattergl"
             }
            ],
            "scattermap": [
             {
              "marker": {
               "colorbar": {
                "outlinewidth": 0,
                "ticks": ""
               }
              },
              "type": "scattermap"
             }
            ],
            "scattermapbox": [
             {
              "marker": {
               "colorbar": {
                "outlinewidth": 0,
                "ticks": ""
               }
              },
              "type": "scattermapbox"
             }
            ],
            "scatterpolar": [
             {
              "marker": {
               "colorbar": {
                "outlinewidth": 0,
                "ticks": ""
               }
              },
              "type": "scatterpolar"
             }
            ],
            "scatterpolargl": [
             {
              "marker": {
               "colorbar": {
                "outlinewidth": 0,
                "ticks": ""
               }
              },
              "type": "scatterpolargl"
             }
            ],
            "scatterternary": [
             {
              "marker": {
               "colorbar": {
                "outlinewidth": 0,
                "ticks": ""
               }
              },
              "type": "scatterternary"
             }
            ],
            "surface": [
             {
              "colorbar": {
               "outlinewidth": 0,
               "ticks": ""
              },
              "colorscale": [
               [
                0,
                "#0d0887"
               ],
               [
                0.1111111111111111,
                "#46039f"
               ],
               [
                0.2222222222222222,
                "#7201a8"
               ],
               [
                0.3333333333333333,
                "#9c179e"
               ],
               [
                0.4444444444444444,
                "#bd3786"
               ],
               [
                0.5555555555555556,
                "#d8576b"
               ],
               [
                0.6666666666666666,
                "#ed7953"
               ],
               [
                0.7777777777777778,
                "#fb9f3a"
               ],
               [
                0.8888888888888888,
                "#fdca26"
               ],
               [
                1,
                "#f0f921"
               ]
              ],
              "type": "surface"
             }
            ],
            "table": [
             {
              "cells": {
               "fill": {
                "color": "#EBF0F8"
               },
               "line": {
                "color": "white"
               }
              },
              "header": {
               "fill": {
                "color": "#C8D4E3"
               },
               "line": {
                "color": "white"
               }
              },
              "type": "table"
             }
            ]
           },
           "layout": {
            "annotationdefaults": {
             "arrowcolor": "#2a3f5f",
             "arrowhead": 0,
             "arrowwidth": 1
            },
            "autotypenumbers": "strict",
            "coloraxis": {
             "colorbar": {
              "outlinewidth": 0,
              "ticks": ""
             }
            },
            "colorscale": {
             "diverging": [
              [
               0,
               "#8e0152"
              ],
              [
               0.1,
               "#c51b7d"
              ],
              [
               0.2,
               "#de77ae"
              ],
              [
               0.3,
               "#f1b6da"
              ],
              [
               0.4,
               "#fde0ef"
              ],
              [
               0.5,
               "#f7f7f7"
              ],
              [
               0.6,
               "#e6f5d0"
              ],
              [
               0.7,
               "#b8e186"
              ],
              [
               0.8,
               "#7fbc41"
              ],
              [
               0.9,
               "#4d9221"
              ],
              [
               1,
               "#276419"
              ]
             ],
             "sequential": [
              [
               0,
               "#0d0887"
              ],
              [
               0.1111111111111111,
               "#46039f"
              ],
              [
               0.2222222222222222,
               "#7201a8"
              ],
              [
               0.3333333333333333,
               "#9c179e"
              ],
              [
               0.4444444444444444,
               "#bd3786"
              ],
              [
               0.5555555555555556,
               "#d8576b"
              ],
              [
               0.6666666666666666,
               "#ed7953"
              ],
              [
               0.7777777777777778,
               "#fb9f3a"
              ],
              [
               0.8888888888888888,
               "#fdca26"
              ],
              [
               1,
               "#f0f921"
              ]
             ],
             "sequentialminus": [
              [
               0,
               "#0d0887"
              ],
              [
               0.1111111111111111,
               "#46039f"
              ],
              [
               0.2222222222222222,
               "#7201a8"
              ],
              [
               0.3333333333333333,
               "#9c179e"
              ],
              [
               0.4444444444444444,
               "#bd3786"
              ],
              [
               0.5555555555555556,
               "#d8576b"
              ],
              [
               0.6666666666666666,
               "#ed7953"
              ],
              [
               0.7777777777777778,
               "#fb9f3a"
              ],
              [
               0.8888888888888888,
               "#fdca26"
              ],
              [
               1,
               "#f0f921"
              ]
             ]
            },
            "colorway": [
             "#636efa",
             "#EF553B",
             "#00cc96",
             "#ab63fa",
             "#FFA15A",
             "#19d3f3",
             "#FF6692",
             "#B6E880",
             "#FF97FF",
             "#FECB52"
            ],
            "font": {
             "color": "#2a3f5f"
            },
            "geo": {
             "bgcolor": "white",
             "lakecolor": "white",
             "landcolor": "white",
             "showlakes": true,
             "showland": true,
             "subunitcolor": "#C8D4E3"
            },
            "hoverlabel": {
             "align": "left"
            },
            "hovermode": "closest",
            "mapbox": {
             "style": "light"
            },
            "paper_bgcolor": "white",
            "plot_bgcolor": "white",
            "polar": {
             "angularaxis": {
              "gridcolor": "#EBF0F8",
              "linecolor": "#EBF0F8",
              "ticks": ""
             },
             "bgcolor": "white",
             "radialaxis": {
              "gridcolor": "#EBF0F8",
              "linecolor": "#EBF0F8",
              "ticks": ""
             }
            },
            "scene": {
             "xaxis": {
              "backgroundcolor": "white",
              "gridcolor": "#DFE8F3",
              "gridwidth": 2,
              "linecolor": "#EBF0F8",
              "showbackground": true,
              "ticks": "",
              "zerolinecolor": "#EBF0F8"
             },
             "yaxis": {
              "backgroundcolor": "white",
              "gridcolor": "#DFE8F3",
              "gridwidth": 2,
              "linecolor": "#EBF0F8",
              "showbackground": true,
              "ticks": "",
              "zerolinecolor": "#EBF0F8"
             },
             "zaxis": {
              "backgroundcolor": "white",
              "gridcolor": "#DFE8F3",
              "gridwidth": 2,
              "linecolor": "#EBF0F8",
              "showbackground": true,
              "ticks": "",
              "zerolinecolor": "#EBF0F8"
             }
            },
            "shapedefaults": {
             "line": {
              "color": "#2a3f5f"
             }
            },
            "ternary": {
             "aaxis": {
              "gridcolor": "#DFE8F3",
              "linecolor": "#A2B1C6",
              "ticks": ""
             },
             "baxis": {
              "gridcolor": "#DFE8F3",
              "linecolor": "#A2B1C6",
              "ticks": ""
             },
             "bgcolor": "white",
             "caxis": {
              "gridcolor": "#DFE8F3",
              "linecolor": "#A2B1C6",
              "ticks": ""
             }
            },
            "title": {
             "x": 0.05
            },
            "xaxis": {
             "automargin": true,
             "gridcolor": "#EBF0F8",
             "linecolor": "#EBF0F8",
             "ticks": "",
             "title": {
              "standoff": 15
             },
             "zerolinecolor": "#EBF0F8",
             "zerolinewidth": 2
            },
            "yaxis": {
             "automargin": true,
             "gridcolor": "#EBF0F8",
             "linecolor": "#EBF0F8",
             "ticks": "",
             "title": {
              "standoff": 15
             },
             "zerolinecolor": "#EBF0F8",
             "zerolinewidth": 2
            }
           }
          },
          "title": {
           "font": {
            "color": "black",
            "family": "Arial",
            "size": 20,
            "weight": "bold"
           },
           "subtitle": {
            "font": {
             "color": "gray",
             "size": 13
            },
            "text": "Relative Verteilung der Antworten zu Zufriedenheit in verschiedenen Kategorien von 2013 bis 2024"
           },
           "x": 0,
           "xanchor": "left",
           "xref": "paper"
          },
          "xaxis": {
           "showgrid": false,
           "tickfont": {
            "color": "grey",
            "size": 12
           },
           "ticklabelposition": "outside bottom",
           "ticklabelstandoff": 10,
           "title": {
            "font": {
             "color": "grey",
             "size": 13,
             "weight": "bold"
            },
            "standoff": 15
           },
           "zerolinecolor": "lightgrey"
          },
          "yaxis": {
           "gridcolor": "lightgrey",
           "showgrid": true,
           "tickfont": {
            "color": "grey",
            "size": 12
           },
           "ticklabelposition": "outside left",
           "ticklabelstandoff": 10,
           "title": {
            "font": {
             "color": "grey",
             "size": 13,
             "weight": "bold"
            },
            "standoff": 15
           },
           "zerolinecolor": "lightgrey"
          }
         }
        },
        "title": {
         "text": "Zufriedenheit der Studierenden im Fachbereich 09"
        },
        "width": 1400,
        "xaxis": {
         "anchor": "y",
         "domain": [
          0,
          1
         ],
         "title": {
          "text": "Jahr"
         }
        },
        "yaxis": {
         "anchor": "x",
         "domain": [
          0,
          1
         ],
         "title": {
          "text": "Relativer Anteil der Antworten"
         }
        }
       }
      }
     },
     "metadata": {},
     "output_type": "display_data"
    }
   ],
   "source": [
    "category_order = [\n",
    "    'gar nicht zufrieden (%)', \n",
    "    'weniger zufrieden (%)', \n",
    "    'mittelmäßig zufrieden (%)', \n",
    "    'eher zufrieden (%)', \n",
    "    'sehr zufrieden (%)'\n",
    "]\n",
    "\n",
    "df_melted = df_rel.reset_index().melt(id_vars=\"Jahr\", var_name=\"Category\", value_name=\"sum\")\n",
    "df_melted.rename(columns={\"index\": \"Jahr\"}, inplace=True)\n",
    "\n",
    "df_melted['Category'] = pd.Categorical(df_melted['Category'], categories=category_order, ordered=True)\n",
    "\n",
    "df_melted = df_melted.sort_values(by=['Jahr', 'Category'])\n",
    "\n",
    "fig = px.bar(df_melted, x=\"Jahr\", \n",
    "             y=\"sum\", \n",
    "             color=\"Category\", \n",
    "             title=\"Zufriedenheit der Studierenden im Fachbereich 09\", \n",
    "             subtitle=\"\",\n",
    "             color_discrete_sequence=px.colors.qualitative.Safe, \n",
    "             template=\"infoviz\",  \n",
    "             barmode=\"group\",  \n",
    "             labels={\n",
    "                 'Jahr': 'Jahr', \n",
    "                 'sum': 'Relativer Anteil der Antworten',\n",
    "                 'Category': 'Kategorien'\n",
    "             })\n",
    "fig.update_layout(\n",
    "    width=1400,\n",
    "    height=700,\n",
    ")\n",
    "fig.show()\n",
    "fig.write_image(\"Plots/pdf/zufriedenheit2.pdf\")"
   ]
  },
  {
   "cell_type": "code",
   "execution_count": 60,
   "metadata": {},
   "outputs": [
    {
     "data": {
      "application/vnd.plotly.v1+json": {
       "config": {
        "plotlyServerURL": "https://plot.ly"
       },
       "data": [
        {
         "hovertemplate": "Kategorien=gar nicht zufrieden (%)<br>Jahr=%{x}<br>Anzahl der Studierenden=%{y}<extra></extra>",
         "legendgroup": "gar nicht zufrieden (%)",
         "marker": {
          "color": "rgb(136, 204, 238)",
          "pattern": {
           "shape": ""
          }
         },
         "name": "gar nicht zufrieden",
         "orientation": "v",
         "showlegend": true,
         "textposition": "auto",
         "type": "bar",
         "x": [
          "2013",
          "2014",
          "2015",
          "2016",
          "2017",
          "2018",
          "2019",
          "2020",
          "2021",
          "2022",
          "2023",
          "2024"
         ],
         "xaxis": "x",
         "y": {
          "bdata": "AAAAAAAAAEAAAAAAAAAQQAAAAAAAAAAAAAAAAAAAAEAAAAAAAAAiQAAAAAAAAAAAAAAAAAAACEAAAAAAAAAAAAAAAAAAAAhAAAAAAAAA8D8AAAAAAAAAQAAAAAAAAAAA",
          "dtype": "f8"
         },
         "yaxis": "y"
        },
        {
         "hovertemplate": "Kategorien=weniger zufrieden (%)<br>Jahr=%{x}<br>Anzahl der Studierenden=%{y}<extra></extra>",
         "legendgroup": "weniger zufrieden (%)",
         "marker": {
          "color": "rgb(204, 102, 119)",
          "pattern": {
           "shape": ""
          }
         },
         "name": "weniger zufrieden",
         "orientation": "v",
         "showlegend": true,
         "textposition": "auto",
         "type": "bar",
         "x": [
          "2013",
          "2014",
          "2015",
          "2016",
          "2017",
          "2018",
          "2019",
          "2020",
          "2021",
          "2022",
          "2023",
          "2024"
         ],
         "xaxis": "x",
         "y": {
          "bdata": "AAAAAABAVUAAAAAAAMBcQAAAAAAAAFFAAAAAAAAAVkAAAAAAAABVQAAAAAAAwFBAAAAAAAAAUkAAAAAAAIBIQAAAAAAAAFRAAAAAAACARUAAAAAAAAAyQAAAAAAAAC5A",
          "dtype": "f8"
         },
         "yaxis": "y"
        },
        {
         "hovertemplate": "Kategorien=mittelmäßig zufrieden (%)<br>Jahr=%{x}<br>Anzahl der Studierenden=%{y}<extra></extra>",
         "legendgroup": "mittelmäßig zufrieden (%)",
         "marker": {
          "color": "rgb(221, 204, 119)",
          "pattern": {
           "shape": ""
          }
         },
         "name": "mittelmäßig zufrieden",
         "orientation": "v",
         "showlegend": true,
         "textposition": "auto",
         "type": "bar",
         "x": [
          "2013",
          "2014",
          "2015",
          "2016",
          "2017",
          "2018",
          "2019",
          "2020",
          "2021",
          "2022",
          "2023",
          "2024"
         ],
         "xaxis": "x",
         "y": {
          "bdata": "AAAAAADAUEAAAAAAAABHQAAAAAAAAEpAAAAAAAAASUAAAAAAAIBGQAAAAAAAAEFAAAAAAAAATEAAAAAAAIBDQAAAAAAAgEZAAAAAAABAV0AAAAAAAABGQAAAAAAAAEpA",
          "dtype": "f8"
         },
         "yaxis": "y"
        },
        {
         "hovertemplate": "Kategorien=eher zufrieden (%)<br>Jahr=%{x}<br>Anzahl der Studierenden=%{y}<extra></extra>",
         "legendgroup": "eher zufrieden (%)",
         "marker": {
          "color": "rgb(17, 119, 51)",
          "pattern": {
           "shape": ""
          }
         },
         "name": "eher zufrieden",
         "orientation": "v",
         "showlegend": true,
         "textposition": "auto",
         "type": "bar",
         "x": [
          "2013",
          "2014",
          "2015",
          "2016",
          "2017",
          "2018",
          "2019",
          "2020",
          "2021",
          "2022",
          "2023",
          "2024"
         ],
         "xaxis": "x",
         "y": {
          "bdata": "AAAAAACQeEAAAAAAAFB2QAAAAAAA4HNAAAAAAABweUAAAAAAAKB+QAAAAAAAoHtAAAAAAADQgkAAAAAAANiBQAAAAAAA4IFAAAAAAAAAfkAAAAAAAIB0QAAAAAAAAHNA",
          "dtype": "f8"
         },
         "yaxis": "y"
        },
        {
         "hovertemplate": "Kategorien=sehr zufrieden (%)<br>Jahr=%{x}<br>Anzahl der Studierenden=%{y}<extra></extra>",
         "legendgroup": "sehr zufrieden (%)",
         "marker": {
          "color": "rgb(51, 34, 136)",
          "pattern": {
           "shape": ""
          }
         },
         "name": "sehr zufrieden",
         "orientation": "v",
         "showlegend": true,
         "textposition": "auto",
         "type": "bar",
         "x": [
          "2013",
          "2014",
          "2015",
          "2016",
          "2017",
          "2018",
          "2019",
          "2020",
          "2021",
          "2022",
          "2023",
          "2024"
         ],
         "xaxis": "x",
         "y": {
          "bdata": "AAAAAAAANkAAAAAAAAA1QAAAAAAAACRAAAAAAAAAQkAAAAAAAIBOQAAAAAAAAFFAAAAAAAAAWEAAAAAAAMBbQAAAAAAAQF1AAAAAAACAU0AAAAAAAIBIQAAAAAAAgEtA",
          "dtype": "f8"
         },
         "yaxis": "y"
        }
       ],
       "layout": {
        "barmode": "relative",
        "height": 500,
        "legend": {
         "title": {
          "text": "Kategorien"
         },
         "tracegroupgap": 0
        },
        "template": {
         "layout": {
          "template": {
           "data": {
            "bar": [
             {
              "error_x": {
               "color": "#2a3f5f"
              },
              "error_y": {
               "color": "#2a3f5f"
              },
              "marker": {
               "line": {
                "color": "white",
                "width": 0.5
               },
               "pattern": {
                "fillmode": "overlay",
                "size": 10,
                "solidity": 0.2
               }
              },
              "type": "bar"
             }
            ],
            "barpolar": [
             {
              "marker": {
               "line": {
                "color": "white",
                "width": 0.5
               },
               "pattern": {
                "fillmode": "overlay",
                "size": 10,
                "solidity": 0.2
               }
              },
              "type": "barpolar"
             }
            ],
            "carpet": [
             {
              "aaxis": {
               "endlinecolor": "#2a3f5f",
               "gridcolor": "#C8D4E3",
               "linecolor": "#C8D4E3",
               "minorgridcolor": "#C8D4E3",
               "startlinecolor": "#2a3f5f"
              },
              "baxis": {
               "endlinecolor": "#2a3f5f",
               "gridcolor": "#C8D4E3",
               "linecolor": "#C8D4E3",
               "minorgridcolor": "#C8D4E3",
               "startlinecolor": "#2a3f5f"
              },
              "type": "carpet"
             }
            ],
            "choropleth": [
             {
              "colorbar": {
               "outlinewidth": 0,
               "ticks": ""
              },
              "type": "choropleth"
             }
            ],
            "contour": [
             {
              "colorbar": {
               "outlinewidth": 0,
               "ticks": ""
              },
              "colorscale": [
               [
                0,
                "#0d0887"
               ],
               [
                0.1111111111111111,
                "#46039f"
               ],
               [
                0.2222222222222222,
                "#7201a8"
               ],
               [
                0.3333333333333333,
                "#9c179e"
               ],
               [
                0.4444444444444444,
                "#bd3786"
               ],
               [
                0.5555555555555556,
                "#d8576b"
               ],
               [
                0.6666666666666666,
                "#ed7953"
               ],
               [
                0.7777777777777778,
                "#fb9f3a"
               ],
               [
                0.8888888888888888,
                "#fdca26"
               ],
               [
                1,
                "#f0f921"
               ]
              ],
              "type": "contour"
             }
            ],
            "contourcarpet": [
             {
              "colorbar": {
               "outlinewidth": 0,
               "ticks": ""
              },
              "type": "contourcarpet"
             }
            ],
            "heatmap": [
             {
              "colorbar": {
               "outlinewidth": 0,
               "ticks": ""
              },
              "colorscale": [
               [
                0,
                "#0d0887"
               ],
               [
                0.1111111111111111,
                "#46039f"
               ],
               [
                0.2222222222222222,
                "#7201a8"
               ],
               [
                0.3333333333333333,
                "#9c179e"
               ],
               [
                0.4444444444444444,
                "#bd3786"
               ],
               [
                0.5555555555555556,
                "#d8576b"
               ],
               [
                0.6666666666666666,
                "#ed7953"
               ],
               [
                0.7777777777777778,
                "#fb9f3a"
               ],
               [
                0.8888888888888888,
                "#fdca26"
               ],
               [
                1,
                "#f0f921"
               ]
              ],
              "type": "heatmap"
             }
            ],
            "histogram": [
             {
              "marker": {
               "pattern": {
                "fillmode": "overlay",
                "size": 10,
                "solidity": 0.2
               }
              },
              "type": "histogram"
             }
            ],
            "histogram2d": [
             {
              "colorbar": {
               "outlinewidth": 0,
               "ticks": ""
              },
              "colorscale": [
               [
                0,
                "#0d0887"
               ],
               [
                0.1111111111111111,
                "#46039f"
               ],
               [
                0.2222222222222222,
                "#7201a8"
               ],
               [
                0.3333333333333333,
                "#9c179e"
               ],
               [
                0.4444444444444444,
                "#bd3786"
               ],
               [
                0.5555555555555556,
                "#d8576b"
               ],
               [
                0.6666666666666666,
                "#ed7953"
               ],
               [
                0.7777777777777778,
                "#fb9f3a"
               ],
               [
                0.8888888888888888,
                "#fdca26"
               ],
               [
                1,
                "#f0f921"
               ]
              ],
              "type": "histogram2d"
             }
            ],
            "histogram2dcontour": [
             {
              "colorbar": {
               "outlinewidth": 0,
               "ticks": ""
              },
              "colorscale": [
               [
                0,
                "#0d0887"
               ],
               [
                0.1111111111111111,
                "#46039f"
               ],
               [
                0.2222222222222222,
                "#7201a8"
               ],
               [
                0.3333333333333333,
                "#9c179e"
               ],
               [
                0.4444444444444444,
                "#bd3786"
               ],
               [
                0.5555555555555556,
                "#d8576b"
               ],
               [
                0.6666666666666666,
                "#ed7953"
               ],
               [
                0.7777777777777778,
                "#fb9f3a"
               ],
               [
                0.8888888888888888,
                "#fdca26"
               ],
               [
                1,
                "#f0f921"
               ]
              ],
              "type": "histogram2dcontour"
             }
            ],
            "mesh3d": [
             {
              "colorbar": {
               "outlinewidth": 0,
               "ticks": ""
              },
              "type": "mesh3d"
             }
            ],
            "parcoords": [
             {
              "line": {
               "colorbar": {
                "outlinewidth": 0,
                "ticks": ""
               }
              },
              "type": "parcoords"
             }
            ],
            "pie": [
             {
              "automargin": true,
              "type": "pie"
             }
            ],
            "scatter": [
             {
              "fillpattern": {
               "fillmode": "overlay",
               "size": 10,
               "solidity": 0.2
              },
              "type": "scatter"
             }
            ],
            "scatter3d": [
             {
              "line": {
               "colorbar": {
                "outlinewidth": 0,
                "ticks": ""
               }
              },
              "marker": {
               "colorbar": {
                "outlinewidth": 0,
                "ticks": ""
               }
              },
              "type": "scatter3d"
             }
            ],
            "scattercarpet": [
             {
              "marker": {
               "colorbar": {
                "outlinewidth": 0,
                "ticks": ""
               }
              },
              "type": "scattercarpet"
             }
            ],
            "scattergeo": [
             {
              "marker": {
               "colorbar": {
                "outlinewidth": 0,
                "ticks": ""
               }
              },
              "type": "scattergeo"
             }
            ],
            "scattergl": [
             {
              "marker": {
               "colorbar": {
                "outlinewidth": 0,
                "ticks": ""
               }
              },
              "type": "scattergl"
             }
            ],
            "scattermap": [
             {
              "marker": {
               "colorbar": {
                "outlinewidth": 0,
                "ticks": ""
               }
              },
              "type": "scattermap"
             }
            ],
            "scattermapbox": [
             {
              "marker": {
               "colorbar": {
                "outlinewidth": 0,
                "ticks": ""
               }
              },
              "type": "scattermapbox"
             }
            ],
            "scatterpolar": [
             {
              "marker": {
               "colorbar": {
                "outlinewidth": 0,
                "ticks": ""
               }
              },
              "type": "scatterpolar"
             }
            ],
            "scatterpolargl": [
             {
              "marker": {
               "colorbar": {
                "outlinewidth": 0,
                "ticks": ""
               }
              },
              "type": "scatterpolargl"
             }
            ],
            "scatterternary": [
             {
              "marker": {
               "colorbar": {
                "outlinewidth": 0,
                "ticks": ""
               }
              },
              "type": "scatterternary"
             }
            ],
            "surface": [
             {
              "colorbar": {
               "outlinewidth": 0,
               "ticks": ""
              },
              "colorscale": [
               [
                0,
                "#0d0887"
               ],
               [
                0.1111111111111111,
                "#46039f"
               ],
               [
                0.2222222222222222,
                "#7201a8"
               ],
               [
                0.3333333333333333,
                "#9c179e"
               ],
               [
                0.4444444444444444,
                "#bd3786"
               ],
               [
                0.5555555555555556,
                "#d8576b"
               ],
               [
                0.6666666666666666,
                "#ed7953"
               ],
               [
                0.7777777777777778,
                "#fb9f3a"
               ],
               [
                0.8888888888888888,
                "#fdca26"
               ],
               [
                1,
                "#f0f921"
               ]
              ],
              "type": "surface"
             }
            ],
            "table": [
             {
              "cells": {
               "fill": {
                "color": "#EBF0F8"
               },
               "line": {
                "color": "white"
               }
              },
              "header": {
               "fill": {
                "color": "#C8D4E3"
               },
               "line": {
                "color": "white"
               }
              },
              "type": "table"
             }
            ]
           },
           "layout": {
            "annotationdefaults": {
             "arrowcolor": "#2a3f5f",
             "arrowhead": 0,
             "arrowwidth": 1
            },
            "autotypenumbers": "strict",
            "coloraxis": {
             "colorbar": {
              "outlinewidth": 0,
              "ticks": ""
             }
            },
            "colorscale": {
             "diverging": [
              [
               0,
               "#8e0152"
              ],
              [
               0.1,
               "#c51b7d"
              ],
              [
               0.2,
               "#de77ae"
              ],
              [
               0.3,
               "#f1b6da"
              ],
              [
               0.4,
               "#fde0ef"
              ],
              [
               0.5,
               "#f7f7f7"
              ],
              [
               0.6,
               "#e6f5d0"
              ],
              [
               0.7,
               "#b8e186"
              ],
              [
               0.8,
               "#7fbc41"
              ],
              [
               0.9,
               "#4d9221"
              ],
              [
               1,
               "#276419"
              ]
             ],
             "sequential": [
              [
               0,
               "#0d0887"
              ],
              [
               0.1111111111111111,
               "#46039f"
              ],
              [
               0.2222222222222222,
               "#7201a8"
              ],
              [
               0.3333333333333333,
               "#9c179e"
              ],
              [
               0.4444444444444444,
               "#bd3786"
              ],
              [
               0.5555555555555556,
               "#d8576b"
              ],
              [
               0.6666666666666666,
               "#ed7953"
              ],
              [
               0.7777777777777778,
               "#fb9f3a"
              ],
              [
               0.8888888888888888,
               "#fdca26"
              ],
              [
               1,
               "#f0f921"
              ]
             ],
             "sequentialminus": [
              [
               0,
               "#0d0887"
              ],
              [
               0.1111111111111111,
               "#46039f"
              ],
              [
               0.2222222222222222,
               "#7201a8"
              ],
              [
               0.3333333333333333,
               "#9c179e"
              ],
              [
               0.4444444444444444,
               "#bd3786"
              ],
              [
               0.5555555555555556,
               "#d8576b"
              ],
              [
               0.6666666666666666,
               "#ed7953"
              ],
              [
               0.7777777777777778,
               "#fb9f3a"
              ],
              [
               0.8888888888888888,
               "#fdca26"
              ],
              [
               1,
               "#f0f921"
              ]
             ]
            },
            "colorway": [
             "#636efa",
             "#EF553B",
             "#00cc96",
             "#ab63fa",
             "#FFA15A",
             "#19d3f3",
             "#FF6692",
             "#B6E880",
             "#FF97FF",
             "#FECB52"
            ],
            "font": {
             "color": "#2a3f5f"
            },
            "geo": {
             "bgcolor": "white",
             "lakecolor": "white",
             "landcolor": "white",
             "showlakes": true,
             "showland": true,
             "subunitcolor": "#C8D4E3"
            },
            "hoverlabel": {
             "align": "left"
            },
            "hovermode": "closest",
            "mapbox": {
             "style": "light"
            },
            "paper_bgcolor": "white",
            "plot_bgcolor": "white",
            "polar": {
             "angularaxis": {
              "gridcolor": "#EBF0F8",
              "linecolor": "#EBF0F8",
              "ticks": ""
             },
             "bgcolor": "white",
             "radialaxis": {
              "gridcolor": "#EBF0F8",
              "linecolor": "#EBF0F8",
              "ticks": ""
             }
            },
            "scene": {
             "xaxis": {
              "backgroundcolor": "white",
              "gridcolor": "#DFE8F3",
              "gridwidth": 2,
              "linecolor": "#EBF0F8",
              "showbackground": true,
              "ticks": "",
              "zerolinecolor": "#EBF0F8"
             },
             "yaxis": {
              "backgroundcolor": "white",
              "gridcolor": "#DFE8F3",
              "gridwidth": 2,
              "linecolor": "#EBF0F8",
              "showbackground": true,
              "ticks": "",
              "zerolinecolor": "#EBF0F8"
             },
             "zaxis": {
              "backgroundcolor": "white",
              "gridcolor": "#DFE8F3",
              "gridwidth": 2,
              "linecolor": "#EBF0F8",
              "showbackground": true,
              "ticks": "",
              "zerolinecolor": "#EBF0F8"
             }
            },
            "shapedefaults": {
             "line": {
              "color": "#2a3f5f"
             }
            },
            "ternary": {
             "aaxis": {
              "gridcolor": "#DFE8F3",
              "linecolor": "#A2B1C6",
              "ticks": ""
             },
             "baxis": {
              "gridcolor": "#DFE8F3",
              "linecolor": "#A2B1C6",
              "ticks": ""
             },
             "bgcolor": "white",
             "caxis": {
              "gridcolor": "#DFE8F3",
              "linecolor": "#A2B1C6",
              "ticks": ""
             }
            },
            "title": {
             "x": 0.05
            },
            "xaxis": {
             "automargin": true,
             "gridcolor": "#EBF0F8",
             "linecolor": "#EBF0F8",
             "ticks": "",
             "title": {
              "standoff": 15
             },
             "zerolinecolor": "#EBF0F8",
             "zerolinewidth": 2
            },
            "yaxis": {
             "automargin": true,
             "gridcolor": "#EBF0F8",
             "linecolor": "#EBF0F8",
             "ticks": "",
             "title": {
              "standoff": 15
             },
             "zerolinecolor": "#EBF0F8",
             "zerolinewidth": 2
            }
           }
          },
          "title": {
           "font": {
            "color": "black",
            "family": "Arial",
            "size": 20,
            "weight": "bold"
           },
           "subtitle": {
            "font": {
             "color": "gray",
             "size": 13
            },
            "text": "Absolute Verteilung der Antworten zu Zufriedenheit in verschiedenen Kategorien von 2013 bis 2024"
           },
           "x": 0,
           "xanchor": "left",
           "xref": "paper"
          },
          "xaxis": {
           "showgrid": false,
           "tickfont": {
            "color": "grey",
            "size": 12
           },
           "ticklabelposition": "outside bottom",
           "ticklabelstandoff": 10,
           "title": {
            "font": {
             "color": "grey",
             "size": 13,
             "weight": "bold"
            },
            "standoff": 15
           },
           "zerolinecolor": "lightgrey"
          },
          "yaxis": {
           "gridcolor": "lightgrey",
           "showgrid": true,
           "tickfont": {
            "color": "grey",
            "size": 12
           },
           "ticklabelposition": "outside left",
           "ticklabelstandoff": 10,
           "title": {
            "font": {
             "color": "grey",
             "size": 13,
             "weight": "bold"
            },
            "standoff": 15
           },
           "zerolinecolor": "lightgrey"
          }
         }
        },
        "title": {
         "text": "Zufriedenheit mit dem Studium im Fachbereich"
        },
        "width": 1400,
        "xaxis": {
         "anchor": "y",
         "domain": [
          0,
          1
         ],
         "title": {
          "text": "Jahr"
         }
        },
        "yaxis": {
         "anchor": "x",
         "domain": [
          0,
          1
         ],
         "title": {
          "text": "Anzahl der Studierenden"
         }
        }
       }
      }
     },
     "metadata": {},
     "output_type": "display_data"
    }
   ],
   "source": [
    "infoviz_template = dict(\n",
    "    layout=dict(\n",
    "        template=\"plotly_white\",\n",
    "        title=dict(\n",
    "            font=dict(size=20, family=\"Arial\", weight=\"bold\", color=\"black\"),\n",
    "            xanchor=\"left\",  \n",
    "            xref=\"paper\",\n",
    "            x=0,\n",
    "            subtitle=dict(\n",
    "                text=\"Absolute Verteilung der Antworten zu Zufriedenheit in verschiedenen Kategorien von 2013 bis 2024\",\n",
    "                font=dict(color=\"gray\", size=13),\n",
    "            ),\n",
    "        ),\n",
    "        xaxis=dict(\n",
    "            showgrid=False,\n",
    "            zerolinecolor=\"lightgrey\",\n",
    "            tickfont=dict(color=\"grey\", size=12),\n",
    "            title_font=dict(color=\"grey\", weight=\"bold\", size=13),\n",
    "            title_standoff=15,\n",
    "            ticklabelstandoff=10,\n",
    "            ticklabelposition=\"outside bottom\"\n",
    "        ),\n",
    "        yaxis=dict(\n",
    "            showgrid=True, gridcolor=\"lightgrey\",\n",
    "            zerolinecolor=\"lightgrey\",\n",
    "            tickfont=dict(color=\"grey\", size=12),\n",
    "            title_font=dict(color=\"grey\", weight=\"bold\", size=13),\n",
    "            title_standoff=15,\n",
    "            ticklabelstandoff=10,\n",
    "            ticklabelposition=\"outside left\"\n",
    "        ),\n",
    "    )\n",
    ")\n",
    "\n",
    "pio.templates[\"infoviz\"] = infoviz_template\n",
    "\n",
    "category_order = [\n",
    "    'gar nicht zufrieden (%)', \n",
    "    'weniger zufrieden (%)', \n",
    "    'mittelmäßig zufrieden (%)', \n",
    "    'eher zufrieden (%)', \n",
    "    'sehr zufrieden (%)'\n",
    "]\n",
    "\n",
    "df['Category'] = pd.Categorical(df['Category'], categories=category_order, ordered=True)\n",
    "\n",
    "df = df.sort_values(by=['Jahr', 'Category'])\n",
    "\n",
    "fig = px.bar(df, x=\"Jahr\", \n",
    "             y=\"sum\", \n",
    "             color=\"Category\", \n",
    "             title=\"Zufriedenheit mit dem Studium im Fachbereich\", \n",
    "             color_discrete_sequence=px.colors.qualitative.Safe, \n",
    "             template=\"infoviz\",\n",
    "             \n",
    "             labels={\n",
    "                 'Jahr': 'Jahr', \n",
    "                 'sum': 'Anzahl der Studierenden',\n",
    "                 'Category': 'Kategorien'\n",
    "             })\n",
    "\n",
    "fig.update_traces(\n",
    "    name=\"gar nicht zufrieden\", \n",
    "    selector=dict(name='gar nicht zufrieden (%)') \n",
    ")\n",
    "fig.update_traces(\n",
    "    name=\"weniger zufrieden\",\n",
    "    selector=dict(name='weniger zufrieden (%)')\n",
    ")\n",
    "fig.update_traces(\n",
    "    name=\"mittelmäßig zufrieden\",\n",
    "    selector=dict(name='mittelmäßig zufrieden (%)')\n",
    ")\n",
    "fig.update_traces(\n",
    "    name=\"eher zufrieden\",\n",
    "    selector=dict(name='eher zufrieden (%)')\n",
    ")\n",
    "fig.update_traces(\n",
    "    name=\"sehr zufrieden\",\n",
    "    selector=dict(name='sehr zufrieden (%)')\n",
    ")\n",
    "\n",
    "fig.update_layout(\n",
    "    width=1400,\n",
    "    height=500,\n",
    ")\n",
    "fig.show()\n",
    "fig.write_image(\"Plots/pdf/zufriedenheit3.pdf\")"
   ]
  },
  {
   "cell_type": "code",
   "execution_count": 61,
   "metadata": {},
   "outputs": [
    {
     "data": {
      "application/vnd.plotly.v1+json": {
       "config": {
        "plotlyServerURL": "https://plot.ly"
       },
       "data": [
        {
         "alignmentgroup": "True",
         "hovertemplate": "Kategorien=gar nicht zufrieden (%)<br>Jahr=%{x}<br>Anzahl der Studierenden=%{y}<extra></extra>",
         "legendgroup": "gar nicht zufrieden (%)",
         "marker": {
          "color": "rgb(136, 204, 238)",
          "pattern": {
           "shape": ""
          }
         },
         "name": "gar nicht zufrieden",
         "offsetgroup": "gar nicht zufrieden (%)",
         "orientation": "v",
         "showlegend": true,
         "textposition": "auto",
         "type": "bar",
         "x": [
          "2013",
          "2014",
          "2015",
          "2016",
          "2017",
          "2018",
          "2019",
          "2020",
          "2021",
          "2022",
          "2023",
          "2024"
         ],
         "xaxis": "x",
         "y": {
          "bdata": "AAAAAAAAAEAAAAAAAAAQQAAAAAAAAAAAAAAAAAAAAEAAAAAAAAAiQAAAAAAAAAAAAAAAAAAACEAAAAAAAAAAAAAAAAAAAAhAAAAAAAAA8D8AAAAAAAAAQAAAAAAAAAAA",
          "dtype": "f8"
         },
         "yaxis": "y"
        },
        {
         "alignmentgroup": "True",
         "hovertemplate": "Kategorien=weniger zufrieden (%)<br>Jahr=%{x}<br>Anzahl der Studierenden=%{y}<extra></extra>",
         "legendgroup": "weniger zufrieden (%)",
         "marker": {
          "color": "rgb(204, 102, 119)",
          "pattern": {
           "shape": ""
          }
         },
         "name": "weniger zufrieden",
         "offsetgroup": "weniger zufrieden (%)",
         "orientation": "v",
         "showlegend": true,
         "textposition": "auto",
         "type": "bar",
         "x": [
          "2013",
          "2014",
          "2015",
          "2016",
          "2017",
          "2018",
          "2019",
          "2020",
          "2021",
          "2022",
          "2023",
          "2024"
         ],
         "xaxis": "x",
         "y": {
          "bdata": "AAAAAABAVUAAAAAAAMBcQAAAAAAAAFFAAAAAAAAAVkAAAAAAAABVQAAAAAAAwFBAAAAAAAAAUkAAAAAAAIBIQAAAAAAAAFRAAAAAAACARUAAAAAAAAAyQAAAAAAAAC5A",
          "dtype": "f8"
         },
         "yaxis": "y"
        },
        {
         "alignmentgroup": "True",
         "hovertemplate": "Kategorien=mittelmäßig zufrieden (%)<br>Jahr=%{x}<br>Anzahl der Studierenden=%{y}<extra></extra>",
         "legendgroup": "mittelmäßig zufrieden (%)",
         "marker": {
          "color": "rgb(221, 204, 119)",
          "pattern": {
           "shape": ""
          }
         },
         "name": "mittelmäßig zufrieden",
         "offsetgroup": "mittelmäßig zufrieden (%)",
         "orientation": "v",
         "showlegend": true,
         "textposition": "auto",
         "type": "bar",
         "x": [
          "2013",
          "2014",
          "2015",
          "2016",
          "2017",
          "2018",
          "2019",
          "2020",
          "2021",
          "2022",
          "2023",
          "2024"
         ],
         "xaxis": "x",
         "y": {
          "bdata": "AAAAAADAUEAAAAAAAABHQAAAAAAAAEpAAAAAAAAASUAAAAAAAIBGQAAAAAAAAEFAAAAAAAAATEAAAAAAAIBDQAAAAAAAgEZAAAAAAABAV0AAAAAAAABGQAAAAAAAAEpA",
          "dtype": "f8"
         },
         "yaxis": "y"
        },
        {
         "alignmentgroup": "True",
         "hovertemplate": "Kategorien=eher zufrieden (%)<br>Jahr=%{x}<br>Anzahl der Studierenden=%{y}<extra></extra>",
         "legendgroup": "eher zufrieden (%)",
         "marker": {
          "color": "rgb(17, 119, 51)",
          "pattern": {
           "shape": ""
          }
         },
         "name": "eher zufrieden",
         "offsetgroup": "eher zufrieden (%)",
         "orientation": "v",
         "showlegend": true,
         "textposition": "auto",
         "type": "bar",
         "x": [
          "2013",
          "2014",
          "2015",
          "2016",
          "2017",
          "2018",
          "2019",
          "2020",
          "2021",
          "2022",
          "2023",
          "2024"
         ],
         "xaxis": "x",
         "y": {
          "bdata": "AAAAAACQeEAAAAAAAFB2QAAAAAAA4HNAAAAAAABweUAAAAAAAKB+QAAAAAAAoHtAAAAAAADQgkAAAAAAANiBQAAAAAAA4IFAAAAAAAAAfkAAAAAAAIB0QAAAAAAAAHNA",
          "dtype": "f8"
         },
         "yaxis": "y"
        },
        {
         "alignmentgroup": "True",
         "hovertemplate": "Kategorien=sehr zufrieden (%)<br>Jahr=%{x}<br>Anzahl der Studierenden=%{y}<extra></extra>",
         "legendgroup": "sehr zufrieden (%)",
         "marker": {
          "color": "rgb(51, 34, 136)",
          "pattern": {
           "shape": ""
          }
         },
         "name": "sehr zufrieden",
         "offsetgroup": "sehr zufrieden (%)",
         "orientation": "v",
         "showlegend": true,
         "textposition": "auto",
         "type": "bar",
         "x": [
          "2013",
          "2014",
          "2015",
          "2016",
          "2017",
          "2018",
          "2019",
          "2020",
          "2021",
          "2022",
          "2023",
          "2024"
         ],
         "xaxis": "x",
         "y": {
          "bdata": "AAAAAAAANkAAAAAAAAA1QAAAAAAAACRAAAAAAAAAQkAAAAAAAIBOQAAAAAAAAFFAAAAAAAAAWEAAAAAAAMBbQAAAAAAAQF1AAAAAAACAU0AAAAAAAIBIQAAAAAAAgEtA",
          "dtype": "f8"
         },
         "yaxis": "y"
        }
       ],
       "layout": {
        "barmode": "group",
        "height": 700,
        "legend": {
         "title": {
          "text": "Kategorien"
         },
         "tracegroupgap": 0
        },
        "template": {
         "layout": {
          "template": {
           "data": {
            "bar": [
             {
              "error_x": {
               "color": "#2a3f5f"
              },
              "error_y": {
               "color": "#2a3f5f"
              },
              "marker": {
               "line": {
                "color": "white",
                "width": 0.5
               },
               "pattern": {
                "fillmode": "overlay",
                "size": 10,
                "solidity": 0.2
               }
              },
              "type": "bar"
             }
            ],
            "barpolar": [
             {
              "marker": {
               "line": {
                "color": "white",
                "width": 0.5
               },
               "pattern": {
                "fillmode": "overlay",
                "size": 10,
                "solidity": 0.2
               }
              },
              "type": "barpolar"
             }
            ],
            "carpet": [
             {
              "aaxis": {
               "endlinecolor": "#2a3f5f",
               "gridcolor": "#C8D4E3",
               "linecolor": "#C8D4E3",
               "minorgridcolor": "#C8D4E3",
               "startlinecolor": "#2a3f5f"
              },
              "baxis": {
               "endlinecolor": "#2a3f5f",
               "gridcolor": "#C8D4E3",
               "linecolor": "#C8D4E3",
               "minorgridcolor": "#C8D4E3",
               "startlinecolor": "#2a3f5f"
              },
              "type": "carpet"
             }
            ],
            "choropleth": [
             {
              "colorbar": {
               "outlinewidth": 0,
               "ticks": ""
              },
              "type": "choropleth"
             }
            ],
            "contour": [
             {
              "colorbar": {
               "outlinewidth": 0,
               "ticks": ""
              },
              "colorscale": [
               [
                0,
                "#0d0887"
               ],
               [
                0.1111111111111111,
                "#46039f"
               ],
               [
                0.2222222222222222,
                "#7201a8"
               ],
               [
                0.3333333333333333,
                "#9c179e"
               ],
               [
                0.4444444444444444,
                "#bd3786"
               ],
               [
                0.5555555555555556,
                "#d8576b"
               ],
               [
                0.6666666666666666,
                "#ed7953"
               ],
               [
                0.7777777777777778,
                "#fb9f3a"
               ],
               [
                0.8888888888888888,
                "#fdca26"
               ],
               [
                1,
                "#f0f921"
               ]
              ],
              "type": "contour"
             }
            ],
            "contourcarpet": [
             {
              "colorbar": {
               "outlinewidth": 0,
               "ticks": ""
              },
              "type": "contourcarpet"
             }
            ],
            "heatmap": [
             {
              "colorbar": {
               "outlinewidth": 0,
               "ticks": ""
              },
              "colorscale": [
               [
                0,
                "#0d0887"
               ],
               [
                0.1111111111111111,
                "#46039f"
               ],
               [
                0.2222222222222222,
                "#7201a8"
               ],
               [
                0.3333333333333333,
                "#9c179e"
               ],
               [
                0.4444444444444444,
                "#bd3786"
               ],
               [
                0.5555555555555556,
                "#d8576b"
               ],
               [
                0.6666666666666666,
                "#ed7953"
               ],
               [
                0.7777777777777778,
                "#fb9f3a"
               ],
               [
                0.8888888888888888,
                "#fdca26"
               ],
               [
                1,
                "#f0f921"
               ]
              ],
              "type": "heatmap"
             }
            ],
            "histogram": [
             {
              "marker": {
               "pattern": {
                "fillmode": "overlay",
                "size": 10,
                "solidity": 0.2
               }
              },
              "type": "histogram"
             }
            ],
            "histogram2d": [
             {
              "colorbar": {
               "outlinewidth": 0,
               "ticks": ""
              },
              "colorscale": [
               [
                0,
                "#0d0887"
               ],
               [
                0.1111111111111111,
                "#46039f"
               ],
               [
                0.2222222222222222,
                "#7201a8"
               ],
               [
                0.3333333333333333,
                "#9c179e"
               ],
               [
                0.4444444444444444,
                "#bd3786"
               ],
               [
                0.5555555555555556,
                "#d8576b"
               ],
               [
                0.6666666666666666,
                "#ed7953"
               ],
               [
                0.7777777777777778,
                "#fb9f3a"
               ],
               [
                0.8888888888888888,
                "#fdca26"
               ],
               [
                1,
                "#f0f921"
               ]
              ],
              "type": "histogram2d"
             }
            ],
            "histogram2dcontour": [
             {
              "colorbar": {
               "outlinewidth": 0,
               "ticks": ""
              },
              "colorscale": [
               [
                0,
                "#0d0887"
               ],
               [
                0.1111111111111111,
                "#46039f"
               ],
               [
                0.2222222222222222,
                "#7201a8"
               ],
               [
                0.3333333333333333,
                "#9c179e"
               ],
               [
                0.4444444444444444,
                "#bd3786"
               ],
               [
                0.5555555555555556,
                "#d8576b"
               ],
               [
                0.6666666666666666,
                "#ed7953"
               ],
               [
                0.7777777777777778,
                "#fb9f3a"
               ],
               [
                0.8888888888888888,
                "#fdca26"
               ],
               [
                1,
                "#f0f921"
               ]
              ],
              "type": "histogram2dcontour"
             }
            ],
            "mesh3d": [
             {
              "colorbar": {
               "outlinewidth": 0,
               "ticks": ""
              },
              "type": "mesh3d"
             }
            ],
            "parcoords": [
             {
              "line": {
               "colorbar": {
                "outlinewidth": 0,
                "ticks": ""
               }
              },
              "type": "parcoords"
             }
            ],
            "pie": [
             {
              "automargin": true,
              "type": "pie"
             }
            ],
            "scatter": [
             {
              "fillpattern": {
               "fillmode": "overlay",
               "size": 10,
               "solidity": 0.2
              },
              "type": "scatter"
             }
            ],
            "scatter3d": [
             {
              "line": {
               "colorbar": {
                "outlinewidth": 0,
                "ticks": ""
               }
              },
              "marker": {
               "colorbar": {
                "outlinewidth": 0,
                "ticks": ""
               }
              },
              "type": "scatter3d"
             }
            ],
            "scattercarpet": [
             {
              "marker": {
               "colorbar": {
                "outlinewidth": 0,
                "ticks": ""
               }
              },
              "type": "scattercarpet"
             }
            ],
            "scattergeo": [
             {
              "marker": {
               "colorbar": {
                "outlinewidth": 0,
                "ticks": ""
               }
              },
              "type": "scattergeo"
             }
            ],
            "scattergl": [
             {
              "marker": {
               "colorbar": {
                "outlinewidth": 0,
                "ticks": ""
               }
              },
              "type": "scattergl"
             }
            ],
            "scattermap": [
             {
              "marker": {
               "colorbar": {
                "outlinewidth": 0,
                "ticks": ""
               }
              },
              "type": "scattermap"
             }
            ],
            "scattermapbox": [
             {
              "marker": {
               "colorbar": {
                "outlinewidth": 0,
                "ticks": ""
               }
              },
              "type": "scattermapbox"
             }
            ],
            "scatterpolar": [
             {
              "marker": {
               "colorbar": {
                "outlinewidth": 0,
                "ticks": ""
               }
              },
              "type": "scatterpolar"
             }
            ],
            "scatterpolargl": [
             {
              "marker": {
               "colorbar": {
                "outlinewidth": 0,
                "ticks": ""
               }
              },
              "type": "scatterpolargl"
             }
            ],
            "scatterternary": [
             {
              "marker": {
               "colorbar": {
                "outlinewidth": 0,
                "ticks": ""
               }
              },
              "type": "scatterternary"
             }
            ],
            "surface": [
             {
              "colorbar": {
               "outlinewidth": 0,
               "ticks": ""
              },
              "colorscale": [
               [
                0,
                "#0d0887"
               ],
               [
                0.1111111111111111,
                "#46039f"
               ],
               [
                0.2222222222222222,
                "#7201a8"
               ],
               [
                0.3333333333333333,
                "#9c179e"
               ],
               [
                0.4444444444444444,
                "#bd3786"
               ],
               [
                0.5555555555555556,
                "#d8576b"
               ],
               [
                0.6666666666666666,
                "#ed7953"
               ],
               [
                0.7777777777777778,
                "#fb9f3a"
               ],
               [
                0.8888888888888888,
                "#fdca26"
               ],
               [
                1,
                "#f0f921"
               ]
              ],
              "type": "surface"
             }
            ],
            "table": [
             {
              "cells": {
               "fill": {
                "color": "#EBF0F8"
               },
               "line": {
                "color": "white"
               }
              },
              "header": {
               "fill": {
                "color": "#C8D4E3"
               },
               "line": {
                "color": "white"
               }
              },
              "type": "table"
             }
            ]
           },
           "layout": {
            "annotationdefaults": {
             "arrowcolor": "#2a3f5f",
             "arrowhead": 0,
             "arrowwidth": 1
            },
            "autotypenumbers": "strict",
            "coloraxis": {
             "colorbar": {
              "outlinewidth": 0,
              "ticks": ""
             }
            },
            "colorscale": {
             "diverging": [
              [
               0,
               "#8e0152"
              ],
              [
               0.1,
               "#c51b7d"
              ],
              [
               0.2,
               "#de77ae"
              ],
              [
               0.3,
               "#f1b6da"
              ],
              [
               0.4,
               "#fde0ef"
              ],
              [
               0.5,
               "#f7f7f7"
              ],
              [
               0.6,
               "#e6f5d0"
              ],
              [
               0.7,
               "#b8e186"
              ],
              [
               0.8,
               "#7fbc41"
              ],
              [
               0.9,
               "#4d9221"
              ],
              [
               1,
               "#276419"
              ]
             ],
             "sequential": [
              [
               0,
               "#0d0887"
              ],
              [
               0.1111111111111111,
               "#46039f"
              ],
              [
               0.2222222222222222,
               "#7201a8"
              ],
              [
               0.3333333333333333,
               "#9c179e"
              ],
              [
               0.4444444444444444,
               "#bd3786"
              ],
              [
               0.5555555555555556,
               "#d8576b"
              ],
              [
               0.6666666666666666,
               "#ed7953"
              ],
              [
               0.7777777777777778,
               "#fb9f3a"
              ],
              [
               0.8888888888888888,
               "#fdca26"
              ],
              [
               1,
               "#f0f921"
              ]
             ],
             "sequentialminus": [
              [
               0,
               "#0d0887"
              ],
              [
               0.1111111111111111,
               "#46039f"
              ],
              [
               0.2222222222222222,
               "#7201a8"
              ],
              [
               0.3333333333333333,
               "#9c179e"
              ],
              [
               0.4444444444444444,
               "#bd3786"
              ],
              [
               0.5555555555555556,
               "#d8576b"
              ],
              [
               0.6666666666666666,
               "#ed7953"
              ],
              [
               0.7777777777777778,
               "#fb9f3a"
              ],
              [
               0.8888888888888888,
               "#fdca26"
              ],
              [
               1,
               "#f0f921"
              ]
             ]
            },
            "colorway": [
             "#636efa",
             "#EF553B",
             "#00cc96",
             "#ab63fa",
             "#FFA15A",
             "#19d3f3",
             "#FF6692",
             "#B6E880",
             "#FF97FF",
             "#FECB52"
            ],
            "font": {
             "color": "#2a3f5f"
            },
            "geo": {
             "bgcolor": "white",
             "lakecolor": "white",
             "landcolor": "white",
             "showlakes": true,
             "showland": true,
             "subunitcolor": "#C8D4E3"
            },
            "hoverlabel": {
             "align": "left"
            },
            "hovermode": "closest",
            "mapbox": {
             "style": "light"
            },
            "paper_bgcolor": "white",
            "plot_bgcolor": "white",
            "polar": {
             "angularaxis": {
              "gridcolor": "#EBF0F8",
              "linecolor": "#EBF0F8",
              "ticks": ""
             },
             "bgcolor": "white",
             "radialaxis": {
              "gridcolor": "#EBF0F8",
              "linecolor": "#EBF0F8",
              "ticks": ""
             }
            },
            "scene": {
             "xaxis": {
              "backgroundcolor": "white",
              "gridcolor": "#DFE8F3",
              "gridwidth": 2,
              "linecolor": "#EBF0F8",
              "showbackground": true,
              "ticks": "",
              "zerolinecolor": "#EBF0F8"
             },
             "yaxis": {
              "backgroundcolor": "white",
              "gridcolor": "#DFE8F3",
              "gridwidth": 2,
              "linecolor": "#EBF0F8",
              "showbackground": true,
              "ticks": "",
              "zerolinecolor": "#EBF0F8"
             },
             "zaxis": {
              "backgroundcolor": "white",
              "gridcolor": "#DFE8F3",
              "gridwidth": 2,
              "linecolor": "#EBF0F8",
              "showbackground": true,
              "ticks": "",
              "zerolinecolor": "#EBF0F8"
             }
            },
            "shapedefaults": {
             "line": {
              "color": "#2a3f5f"
             }
            },
            "ternary": {
             "aaxis": {
              "gridcolor": "#DFE8F3",
              "linecolor": "#A2B1C6",
              "ticks": ""
             },
             "baxis": {
              "gridcolor": "#DFE8F3",
              "linecolor": "#A2B1C6",
              "ticks": ""
             },
             "bgcolor": "white",
             "caxis": {
              "gridcolor": "#DFE8F3",
              "linecolor": "#A2B1C6",
              "ticks": ""
             }
            },
            "title": {
             "x": 0.05
            },
            "xaxis": {
             "automargin": true,
             "gridcolor": "#EBF0F8",
             "linecolor": "#EBF0F8",
             "ticks": "",
             "title": {
              "standoff": 15
             },
             "zerolinecolor": "#EBF0F8",
             "zerolinewidth": 2
            },
            "yaxis": {
             "automargin": true,
             "gridcolor": "#EBF0F8",
             "linecolor": "#EBF0F8",
             "ticks": "",
             "title": {
              "standoff": 15
             },
             "zerolinecolor": "#EBF0F8",
             "zerolinewidth": 2
            }
           }
          },
          "title": {
           "font": {
            "color": "black",
            "family": "Arial",
            "size": 20,
            "weight": "bold"
           },
           "subtitle": {
            "font": {
             "color": "gray",
             "size": 13
            },
            "text": "Absolute Verteilung der Antworten zu Zufriedenheit in verschiedenen Kategorien von 2013 bis 2024"
           },
           "x": 0,
           "xanchor": "left",
           "xref": "paper"
          },
          "xaxis": {
           "showgrid": false,
           "tickfont": {
            "color": "grey",
            "size": 12
           },
           "ticklabelposition": "outside bottom",
           "ticklabelstandoff": 10,
           "title": {
            "font": {
             "color": "grey",
             "size": 13,
             "weight": "bold"
            },
            "standoff": 15
           },
           "zerolinecolor": "lightgrey"
          },
          "yaxis": {
           "gridcolor": "lightgrey",
           "showgrid": true,
           "tickfont": {
            "color": "grey",
            "size": 12
           },
           "ticklabelposition": "outside left",
           "ticklabelstandoff": 10,
           "title": {
            "font": {
             "color": "grey",
             "size": 13,
             "weight": "bold"
            },
            "standoff": 15
           },
           "zerolinecolor": "lightgrey"
          }
         }
        },
        "title": {
         "text": "Zufriedenheit mit dem Studium im Fachbereich"
        },
        "width": 1400,
        "xaxis": {
         "anchor": "y",
         "domain": [
          0,
          1
         ],
         "title": {
          "text": "Jahr"
         }
        },
        "yaxis": {
         "anchor": "x",
         "domain": [
          0,
          1
         ],
         "title": {
          "text": "Anzahl der Studierenden"
         }
        }
       }
      }
     },
     "metadata": {},
     "output_type": "display_data"
    }
   ],
   "source": [
    "\n",
    "\n",
    "category_order = [\n",
    "    'gar nicht zufrieden (%)', \n",
    "    'weniger zufrieden (%)', \n",
    "    'mittelmäßig zufrieden (%)', \n",
    "    'eher zufrieden (%)', \n",
    "    'sehr zufrieden (%)'\n",
    "]\n",
    "\n",
    "df['Category'] = pd.Categorical(df['Category'], categories=category_order, ordered=True)\n",
    "\n",
    "df = df.sort_values(by=['Jahr', 'Category'])\n",
    "\n",
    "fig = px.bar(df, x=\"Jahr\", \n",
    "             y=\"sum\", \n",
    "             color=\"Category\", \n",
    "             title=\"Zufriedenheit mit dem Studium im Fachbereich\", \n",
    "             subtitle=\"\",\n",
    "             color_discrete_sequence=px.colors.qualitative.Safe, \n",
    "             template=\"infoviz\",  \n",
    "             barmode=\"group\", \n",
    "             labels={\n",
    "                 'Jahr': 'Jahr', \n",
    "                 'sum': 'Anzahl der Studierenden',\n",
    "                 'Category': 'Kategorien'\n",
    "             })\n",
    "\n",
    "fig.update_layout(height=700)\n",
    "\n",
    "fig.update_traces(\n",
    "    name=\"gar nicht zufrieden\", \n",
    "    selector=dict(name='gar nicht zufrieden (%)') \n",
    ")\n",
    "fig.update_traces(\n",
    "    name=\"weniger zufrieden\",\n",
    "    selector=dict(name='weniger zufrieden (%)')\n",
    ")\n",
    "fig.update_traces(\n",
    "    name=\"mittelmäßig zufrieden\",\n",
    "    selector=dict(name='mittelmäßig zufrieden (%)')\n",
    ")\n",
    "fig.update_traces(\n",
    "    name=\"eher zufrieden\",\n",
    "    selector=dict(name='eher zufrieden (%)')\n",
    ")\n",
    "fig.update_traces(\n",
    "    name=\"sehr zufrieden\",\n",
    "    selector=dict(name='sehr zufrieden (%)')\n",
    ")\n",
    "\n",
    "fig.update_layout(\n",
    "    width=1400,\n",
    "    height=700,\n",
    ")\n",
    "fig.show()\n",
    "fig.write_image(\"Plots/pdf/zufriedenheit4.pdf\")"
   ]
  }
 ],
 "metadata": {
  "kernelspec": {
   "display_name": ".venv",
   "language": "python",
   "name": "python3"
  },
  "language_info": {
   "codemirror_mode": {
    "name": "ipython",
    "version": 3
   },
   "file_extension": ".py",
   "mimetype": "text/x-python",
   "name": "python",
   "nbconvert_exporter": "python",
   "pygments_lexer": "ipython3",
   "version": "3.12.4"
  }
 },
 "nbformat": 4,
 "nbformat_minor": 2
}
