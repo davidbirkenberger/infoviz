{
 "cells": [
  {
   "cell_type": "markdown",
   "metadata": {},
   "source": [
    "## Import"
   ]
  },
  {
   "cell_type": "code",
   "execution_count": null,
   "metadata": {},
   "outputs": [],
   "source": [
    "import pandas as pd\n",
    "import plotly.io as pio\n",
    "import plotly.graph_objects as go\n",
    "import plotly.express as px"
   ]
  },
  {
   "cell_type": "code",
   "execution_count": null,
   "metadata": {},
   "outputs": [],
   "source": [
    "infoviz_template = dict(\n",
    "    layout=dict(\n",
    "        template=\"plotly_white\",\n",
    "        title=dict(\n",
    "            font=dict(size=20, family=\"Arial\", weight=\"bold\", color=\"black\"),\n",
    "            xanchor=\"left\",  \n",
    "            xref=\"paper\",\n",
    "            x=0,\n",
    "            subtitle=dict(\n",
    "                text=\"Absolute Geschlechterverteilung von 2013 bis 2024\",\n",
    "                font=dict(color=\"gray\", size=13),\n",
    "            ),\n",
    "        ),\n",
    "        xaxis=dict(\n",
    "            showgrid=False,\n",
    "            zerolinecolor=\"lightgrey\",\n",
    "            tickfont=dict(color=\"grey\", size=12),\n",
    "            title_font=dict(color=\"grey\", weight=\"bold\", size=13),\n",
    "            title_standoff=15,\n",
    "            ticklabelstandoff=10,\n",
    "            ticklabelposition=\"outside bottom\"\n",
    "        ),\n",
    "        yaxis=dict(\n",
    "            showgrid=True, gridcolor=\"lightgrey\",\n",
    "            zerolinecolor=\"lightgrey\",\n",
    "            tickfont=dict(color=\"grey\", size=12),\n",
    "            title_font=dict(color=\"grey\", weight=\"bold\", size=13),\n",
    "            title_standoff=15,\n",
    "            ticklabelstandoff=10,\n",
    "            ticklabelposition=\"outside left\"\n",
    "        ),\n",
    "    )\n",
    ")\n",
    "pio.templates[\"infoviz\"] = infoviz_template"
   ]
  },
  {
   "cell_type": "code",
   "execution_count": null,
   "metadata": {},
   "outputs": [],
   "source": [
    "years = [str(year) for year in range(2013, 2025)]\n",
    "\n",
    "df = pd.read_excel(\"data.xlsx\", sheet_name=years)\n",
    "\n",
    "data_list = []\n",
    "\n",
    "for year, df in df.items():\n",
    "    df['Jahr'] = year\n",
    "    \n",
    "    data_list.append(df)\n",
    "\n",
    "final_df = pd.concat(data_list, ignore_index=True)\n"
   ]
  },
  {
   "cell_type": "code",
   "execution_count": null,
   "metadata": {},
   "outputs": [],
   "source": [
    "df = final_df[final_df.columns[~final_df.columns.str.contains(r'\\*')]]\n",
    "df = df[df['Category'].isin(['Männlich (%)', 'Weiblich (%)', 'Anzahl Teilnahmen an Studierendenbefragung'])].fillna(value=0)\n",
    "df = df.groupby(by=['Jahr', 'Category']).sum().reset_index()\n",
    "df.columns = df.columns.str.replace('*', '', regex=False)\n"
   ]
  },
  {
   "cell_type": "code",
   "execution_count": null,
   "metadata": {},
   "outputs": [],
   "source": [
    "absolute_zahlen = []\n",
    "studiengaenge = df.columns[3:]\n",
    "\n",
    "for jahr in df[\"Jahr\"].unique():\n",
    "    df_jahr = df[df[\"Jahr\"] == jahr]\n",
    "    \n",
    "    anzahl_teilnahmen = df_jahr[df_jahr[\"Category\"] == \"Anzahl Teilnahmen an Studierendenbefragung\"]\n",
    " \n",
    "    prozent_maenner = df_jahr[df_jahr[\"Category\"] == \"Männlich (%)\"]\n",
    "    prozent_frauen = df_jahr[df_jahr[\"Category\"] == \"Weiblich (%)\"]\n",
    "    \n",
    "    if not anzahl_teilnahmen.empty and not prozent_maenner.empty and not prozent_frauen.empty:\n",
    "        for studiengang in studiengaenge:\n",
    "            anzahl = anzahl_teilnahmen[studiengang].values[0]\n",
    "            \n",
    "            maenner_abs = (anzahl * prozent_maenner[studiengang].iloc[0] / 100) if not pd.isna(prozent_maenner[studiengang].iloc[0]) else 0\n",
    "            frauen_abs = (anzahl * prozent_frauen[studiengang].iloc[0] / 100) if not pd.isna(prozent_frauen[studiengang].iloc[0]) else 0\n",
    "            \n",
    "            absolute_zahlen.append([jahr, studiengang, int(maenner_abs), int(frauen_abs)])\n",
    "\n",
    "df_absolute = pd.DataFrame(absolute_zahlen, columns=[\"Jahr\", \"Studiengang\", \"Männer\", \"Frauen\"])\n"
   ]
  },
  {
   "cell_type": "code",
   "execution_count": 6,
   "metadata": {},
   "outputs": [],
   "source": [
    "df = df_absolute.groupby('Jahr').sum().drop(columns='Studiengang')"
   ]
  },
  {
   "cell_type": "code",
   "execution_count": null,
   "metadata": {},
   "outputs": [
    {
     "data": {
      "application/vnd.plotly.v1+json": {
       "config": {
        "plotlyServerURL": "https://plot.ly"
       },
       "data": [
        {
         "hoverinfo": "text",
         "marker": {
          "color": "rgb(221, 204, 119)"
         },
         "name": "Frauen",
         "orientation": "h",
         "text": {
          "bdata": "AAAAAACQfUAAAAAAAGB+QAAAAAAAUHtAAAAAAABAfkAAAAAAAHB/QAAAAAAAAHVAAAAAAADohEAAAAAAAAiEQAAAAAAAkIRAAAAAAACYgUAAAAAAAPB2QAAAAAAAAHZA",
          "dtype": "f8"
         },
         "type": "bar",
         "x": {
          "bdata": "J/4a/kv+HP4J/rD+Y/1//W79zf2R/qD+",
          "dtype": "i2"
         },
         "y": [
          2013,
          2014,
          2015,
          2016,
          2017,
          2018,
          2019,
          2020,
          2021,
          2022,
          2023,
          2024
         ]
        },
        {
         "hoverinfo": "x",
         "marker": {
          "color": "rgb(136, 34, 85)"
         },
         "name": "Männer",
         "orientation": "h",
         "text": {
          "bdata": "AAAAAABAXUAAAAAAAIBhQAAAAAAAwFhAAAAAAABAY0AAAAAAAEBiQAAAAAAA4H5AAAAAAABAaEAAAAAAAOBlQAAAAAAAYGdAAAAAAAAAZEAAAAAAAIBaQAAAAAAAwFVA",
          "dtype": "f8"
         },
         "type": "bar",
         "x": {
          "bdata": "dQCMAGMAmgCSAO4BwgCvALsAoABqAFcA",
          "dtype": "i2"
         },
         "y": [
          2013,
          2014,
          2015,
          2016,
          2017,
          2018,
          2019,
          2020,
          2021,
          2022,
          2023,
          2024
         ]
        }
       ],
       "layout": {
        "bargap": 0.1,
        "barmode": "overlay",
        "showlegend": false,
        "template": {
         "layout": {
          "template": {
           "data": {
            "bar": [
             {
              "error_x": {
               "color": "#2a3f5f"
              },
              "error_y": {
               "color": "#2a3f5f"
              },
              "marker": {
               "line": {
                "color": "white",
                "width": 0.5
               },
               "pattern": {
                "fillmode": "overlay",
                "size": 10,
                "solidity": 0.2
               }
              },
              "type": "bar"
             }
            ],
            "barpolar": [
             {
              "marker": {
               "line": {
                "color": "white",
                "width": 0.5
               },
               "pattern": {
                "fillmode": "overlay",
                "size": 10,
                "solidity": 0.2
               }
              },
              "type": "barpolar"
             }
            ],
            "carpet": [
             {
              "aaxis": {
               "endlinecolor": "#2a3f5f",
               "gridcolor": "#C8D4E3",
               "linecolor": "#C8D4E3",
               "minorgridcolor": "#C8D4E3",
               "startlinecolor": "#2a3f5f"
              },
              "baxis": {
               "endlinecolor": "#2a3f5f",
               "gridcolor": "#C8D4E3",
               "linecolor": "#C8D4E3",
               "minorgridcolor": "#C8D4E3",
               "startlinecolor": "#2a3f5f"
              },
              "type": "carpet"
             }
            ],
            "choropleth": [
             {
              "colorbar": {
               "outlinewidth": 0,
               "ticks": ""
              },
              "type": "choropleth"
             }
            ],
            "contour": [
             {
              "colorbar": {
               "outlinewidth": 0,
               "ticks": ""
              },
              "colorscale": [
               [
                0,
                "#0d0887"
               ],
               [
                0.1111111111111111,
                "#46039f"
               ],
               [
                0.2222222222222222,
                "#7201a8"
               ],
               [
                0.3333333333333333,
                "#9c179e"
               ],
               [
                0.4444444444444444,
                "#bd3786"
               ],
               [
                0.5555555555555556,
                "#d8576b"
               ],
               [
                0.6666666666666666,
                "#ed7953"
               ],
               [
                0.7777777777777778,
                "#fb9f3a"
               ],
               [
                0.8888888888888888,
                "#fdca26"
               ],
               [
                1,
                "#f0f921"
               ]
              ],
              "type": "contour"
             }
            ],
            "contourcarpet": [
             {
              "colorbar": {
               "outlinewidth": 0,
               "ticks": ""
              },
              "type": "contourcarpet"
             }
            ],
            "heatmap": [
             {
              "colorbar": {
               "outlinewidth": 0,
               "ticks": ""
              },
              "colorscale": [
               [
                0,
                "#0d0887"
               ],
               [
                0.1111111111111111,
                "#46039f"
               ],
               [
                0.2222222222222222,
                "#7201a8"
               ],
               [
                0.3333333333333333,
                "#9c179e"
               ],
               [
                0.4444444444444444,
                "#bd3786"
               ],
               [
                0.5555555555555556,
                "#d8576b"
               ],
               [
                0.6666666666666666,
                "#ed7953"
               ],
               [
                0.7777777777777778,
                "#fb9f3a"
               ],
               [
                0.8888888888888888,
                "#fdca26"
               ],
               [
                1,
                "#f0f921"
               ]
              ],
              "type": "heatmap"
             }
            ],
            "histogram": [
             {
              "marker": {
               "pattern": {
                "fillmode": "overlay",
                "size": 10,
                "solidity": 0.2
               }
              },
              "type": "histogram"
             }
            ],
            "histogram2d": [
             {
              "colorbar": {
               "outlinewidth": 0,
               "ticks": ""
              },
              "colorscale": [
               [
                0,
                "#0d0887"
               ],
               [
                0.1111111111111111,
                "#46039f"
               ],
               [
                0.2222222222222222,
                "#7201a8"
               ],
               [
                0.3333333333333333,
                "#9c179e"
               ],
               [
                0.4444444444444444,
                "#bd3786"
               ],
               [
                0.5555555555555556,
                "#d8576b"
               ],
               [
                0.6666666666666666,
                "#ed7953"
               ],
               [
                0.7777777777777778,
                "#fb9f3a"
               ],
               [
                0.8888888888888888,
                "#fdca26"
               ],
               [
                1,
                "#f0f921"
               ]
              ],
              "type": "histogram2d"
             }
            ],
            "histogram2dcontour": [
             {
              "colorbar": {
               "outlinewidth": 0,
               "ticks": ""
              },
              "colorscale": [
               [
                0,
                "#0d0887"
               ],
               [
                0.1111111111111111,
                "#46039f"
               ],
               [
                0.2222222222222222,
                "#7201a8"
               ],
               [
                0.3333333333333333,
                "#9c179e"
               ],
               [
                0.4444444444444444,
                "#bd3786"
               ],
               [
                0.5555555555555556,
                "#d8576b"
               ],
               [
                0.6666666666666666,
                "#ed7953"
               ],
               [
                0.7777777777777778,
                "#fb9f3a"
               ],
               [
                0.8888888888888888,
                "#fdca26"
               ],
               [
                1,
                "#f0f921"
               ]
              ],
              "type": "histogram2dcontour"
             }
            ],
            "mesh3d": [
             {
              "colorbar": {
               "outlinewidth": 0,
               "ticks": ""
              },
              "type": "mesh3d"
             }
            ],
            "parcoords": [
             {
              "line": {
               "colorbar": {
                "outlinewidth": 0,
                "ticks": ""
               }
              },
              "type": "parcoords"
             }
            ],
            "pie": [
             {
              "automargin": true,
              "type": "pie"
             }
            ],
            "scatter": [
             {
              "fillpattern": {
               "fillmode": "overlay",
               "size": 10,
               "solidity": 0.2
              },
              "type": "scatter"
             }
            ],
            "scatter3d": [
             {
              "line": {
               "colorbar": {
                "outlinewidth": 0,
                "ticks": ""
               }
              },
              "marker": {
               "colorbar": {
                "outlinewidth": 0,
                "ticks": ""
               }
              },
              "type": "scatter3d"
             }
            ],
            "scattercarpet": [
             {
              "marker": {
               "colorbar": {
                "outlinewidth": 0,
                "ticks": ""
               }
              },
              "type": "scattercarpet"
             }
            ],
            "scattergeo": [
             {
              "marker": {
               "colorbar": {
                "outlinewidth": 0,
                "ticks": ""
               }
              },
              "type": "scattergeo"
             }
            ],
            "scattergl": [
             {
              "marker": {
               "colorbar": {
                "outlinewidth": 0,
                "ticks": ""
               }
              },
              "type": "scattergl"
             }
            ],
            "scattermap": [
             {
              "marker": {
               "colorbar": {
                "outlinewidth": 0,
                "ticks": ""
               }
              },
              "type": "scattermap"
             }
            ],
            "scattermapbox": [
             {
              "marker": {
               "colorbar": {
                "outlinewidth": 0,
                "ticks": ""
               }
              },
              "type": "scattermapbox"
             }
            ],
            "scatterpolar": [
             {
              "marker": {
               "colorbar": {
                "outlinewidth": 0,
                "ticks": ""
               }
              },
              "type": "scatterpolar"
             }
            ],
            "scatterpolargl": [
             {
              "marker": {
               "colorbar": {
                "outlinewidth": 0,
                "ticks": ""
               }
              },
              "type": "scatterpolargl"
             }
            ],
            "scatterternary": [
             {
              "marker": {
               "colorbar": {
                "outlinewidth": 0,
                "ticks": ""
               }
              },
              "type": "scatterternary"
             }
            ],
            "surface": [
             {
              "colorbar": {
               "outlinewidth": 0,
               "ticks": ""
              },
              "colorscale": [
               [
                0,
                "#0d0887"
               ],
               [
                0.1111111111111111,
                "#46039f"
               ],
               [
                0.2222222222222222,
                "#7201a8"
               ],
               [
                0.3333333333333333,
                "#9c179e"
               ],
               [
                0.4444444444444444,
                "#bd3786"
               ],
               [
                0.5555555555555556,
                "#d8576b"
               ],
               [
                0.6666666666666666,
                "#ed7953"
               ],
               [
                0.7777777777777778,
                "#fb9f3a"
               ],
               [
                0.8888888888888888,
                "#fdca26"
               ],
               [
                1,
                "#f0f921"
               ]
              ],
              "type": "surface"
             }
            ],
            "table": [
             {
              "cells": {
               "fill": {
                "color": "#EBF0F8"
               },
               "line": {
                "color": "white"
               }
              },
              "header": {
               "fill": {
                "color": "#C8D4E3"
               },
               "line": {
                "color": "white"
               }
              },
              "type": "table"
             }
            ]
           },
           "layout": {
            "annotationdefaults": {
             "arrowcolor": "#2a3f5f",
             "arrowhead": 0,
             "arrowwidth": 1
            },
            "autotypenumbers": "strict",
            "coloraxis": {
             "colorbar": {
              "outlinewidth": 0,
              "ticks": ""
             }
            },
            "colorscale": {
             "diverging": [
              [
               0,
               "#8e0152"
              ],
              [
               0.1,
               "#c51b7d"
              ],
              [
               0.2,
               "#de77ae"
              ],
              [
               0.3,
               "#f1b6da"
              ],
              [
               0.4,
               "#fde0ef"
              ],
              [
               0.5,
               "#f7f7f7"
              ],
              [
               0.6,
               "#e6f5d0"
              ],
              [
               0.7,
               "#b8e186"
              ],
              [
               0.8,
               "#7fbc41"
              ],
              [
               0.9,
               "#4d9221"
              ],
              [
               1,
               "#276419"
              ]
             ],
             "sequential": [
              [
               0,
               "#0d0887"
              ],
              [
               0.1111111111111111,
               "#46039f"
              ],
              [
               0.2222222222222222,
               "#7201a8"
              ],
              [
               0.3333333333333333,
               "#9c179e"
              ],
              [
               0.4444444444444444,
               "#bd3786"
              ],
              [
               0.5555555555555556,
               "#d8576b"
              ],
              [
               0.6666666666666666,
               "#ed7953"
              ],
              [
               0.7777777777777778,
               "#fb9f3a"
              ],
              [
               0.8888888888888888,
               "#fdca26"
              ],
              [
               1,
               "#f0f921"
              ]
             ],
             "sequentialminus": [
              [
               0,
               "#0d0887"
              ],
              [
               0.1111111111111111,
               "#46039f"
              ],
              [
               0.2222222222222222,
               "#7201a8"
              ],
              [
               0.3333333333333333,
               "#9c179e"
              ],
              [
               0.4444444444444444,
               "#bd3786"
              ],
              [
               0.5555555555555556,
               "#d8576b"
              ],
              [
               0.6666666666666666,
               "#ed7953"
              ],
              [
               0.7777777777777778,
               "#fb9f3a"
              ],
              [
               0.8888888888888888,
               "#fdca26"
              ],
              [
               1,
               "#f0f921"
              ]
             ]
            },
            "colorway": [
             "#636efa",
             "#EF553B",
             "#00cc96",
             "#ab63fa",
             "#FFA15A",
             "#19d3f3",
             "#FF6692",
             "#B6E880",
             "#FF97FF",
             "#FECB52"
            ],
            "font": {
             "color": "#2a3f5f"
            },
            "geo": {
             "bgcolor": "white",
             "lakecolor": "white",
             "landcolor": "white",
             "showlakes": true,
             "showland": true,
             "subunitcolor": "#C8D4E3"
            },
            "hoverlabel": {
             "align": "left"
            },
            "hovermode": "closest",
            "mapbox": {
             "style": "light"
            },
            "paper_bgcolor": "white",
            "plot_bgcolor": "white",
            "polar": {
             "angularaxis": {
              "gridcolor": "#EBF0F8",
              "linecolor": "#EBF0F8",
              "ticks": ""
             },
             "bgcolor": "white",
             "radialaxis": {
              "gridcolor": "#EBF0F8",
              "linecolor": "#EBF0F8",
              "ticks": ""
             }
            },
            "scene": {
             "xaxis": {
              "backgroundcolor": "white",
              "gridcolor": "#DFE8F3",
              "gridwidth": 2,
              "linecolor": "#EBF0F8",
              "showbackground": true,
              "ticks": "",
              "zerolinecolor": "#EBF0F8"
             },
             "yaxis": {
              "backgroundcolor": "white",
              "gridcolor": "#DFE8F3",
              "gridwidth": 2,
              "linecolor": "#EBF0F8",
              "showbackground": true,
              "ticks": "",
              "zerolinecolor": "#EBF0F8"
             },
             "zaxis": {
              "backgroundcolor": "white",
              "gridcolor": "#DFE8F3",
              "gridwidth": 2,
              "linecolor": "#EBF0F8",
              "showbackground": true,
              "ticks": "",
              "zerolinecolor": "#EBF0F8"
             }
            },
            "shapedefaults": {
             "line": {
              "color": "#2a3f5f"
             }
            },
            "ternary": {
             "aaxis": {
              "gridcolor": "#DFE8F3",
              "linecolor": "#A2B1C6",
              "ticks": ""
             },
             "baxis": {
              "gridcolor": "#DFE8F3",
              "linecolor": "#A2B1C6",
              "ticks": ""
             },
             "bgcolor": "white",
             "caxis": {
              "gridcolor": "#DFE8F3",
              "linecolor": "#A2B1C6",
              "ticks": ""
             }
            },
            "title": {
             "x": 0.05
            },
            "xaxis": {
             "automargin": true,
             "gridcolor": "#EBF0F8",
             "linecolor": "#EBF0F8",
             "ticks": "",
             "title": {
              "standoff": 15
             },
             "zerolinecolor": "#EBF0F8",
             "zerolinewidth": 2
            },
            "yaxis": {
             "automargin": true,
             "gridcolor": "#EBF0F8",
             "linecolor": "#EBF0F8",
             "ticks": "",
             "title": {
              "standoff": 15
             },
             "zerolinecolor": "#EBF0F8",
             "zerolinewidth": 2
            }
           }
          },
          "title": {
           "font": {
            "color": "black",
            "family": "Arial",
            "size": 20,
            "weight": "bold"
           },
           "subtitle": {
            "font": {
             "color": "gray",
             "size": 13
            },
            "text": "Absolute Geschlechterverteilung von 2013 bis 2024"
           },
           "x": 0,
           "xanchor": "left",
           "xref": "paper"
          },
          "xaxis": {
           "showgrid": false,
           "tickfont": {
            "color": "grey",
            "size": 12
           },
           "ticklabelposition": "outside bottom",
           "ticklabelstandoff": 10,
           "title": {
            "font": {
             "color": "grey",
             "size": 13,
             "weight": "bold"
            },
            "standoff": 15
           },
           "zerolinecolor": "lightgrey"
          },
          "yaxis": {
           "gridcolor": "lightgrey",
           "showgrid": true,
           "tickfont": {
            "color": "grey",
            "size": 12
           },
           "ticklabelposition": "outside left",
           "ticklabelstandoff": 10,
           "title": {
            "font": {
             "color": "grey",
             "size": 13,
             "weight": "bold"
            },
            "standoff": 15
           },
           "zerolinecolor": "lightgrey"
          }
         }
        },
        "title": {
         "text": "Verteilung von </b><span style='color:rgb(221, 204, 119);'>weiblichen</span> <b> und </b><span style='color:rgb(136, 34, 85);'>männlichen</span> <b> Studierenden im FB09"
        },
        "xaxis": {
         "range": [
          -700,
          700
         ],
         "ticktext": [
          700,
          525,
          350,
          175,
          0,
          175,
          350,
          525,
          700
         ],
         "tickvals": [
          -700,
          -525,
          -350,
          -175,
          0,
          175,
          350,
          525,
          700
         ],
         "title": {
          "text": "Anzahl Studierenden"
         }
        },
        "yaxis": {
         "title": {
          "text": "Jahr"
         }
        }
       }
      }
     },
     "metadata": {},
     "output_type": "display_data"
    }
   ],
   "source": [
    "women_bins = df['Frauen'] * -1\n",
    "men_bins = df['Männer'] \n",
    "\n",
    "y = list(range(2013, 2025, 1))\n",
    "\n",
    "color1, color2 = px.colors.qualitative.Safe[8], px.colors.qualitative.Safe[2]\n",
    "\n",
    "\n",
    "layout = go.Layout(\n",
    "    title=rf\"Verteilung von </b><span style='color:{color2};'>weiblichen</span> <b> und </b><span style='color:{color1};'>männlichen</span> <b> Studierenden im FB09\",\n",
    "    yaxis=go.layout.YAxis(title='Jahr'),\n",
    "    xaxis=go.layout.XAxis(\n",
    "        range=[-700, 700],\n",
    "        tickvals=[-700, -525, -350, -175, 0, 175, 350, 525, 700],\n",
    "        ticktext=[700, 525, 350, 175, 0, 175, 350, 525, 700],\n",
    "        title='Anzahl Studierenden',\n",
    "    ),\n",
    "    \n",
    "    barmode='overlay',\n",
    "    bargap=0.1\n",
    ")\n",
    "\n",
    "data = [\n",
    "    go.Bar(\n",
    "        y=y,\n",
    "        x=women_bins,\n",
    "        orientation='h',\n",
    "        name='Frauen',\n",
    "        text=-1 * women_bins.astype('int'),\n",
    "        hoverinfo='text',\n",
    "        marker=dict(color=color2),\n",
    "    ),\n",
    "    go.Bar(\n",
    "        y=y,\n",
    "        x=men_bins,\n",
    "        orientation='h',\n",
    "        name='Männer',\n",
    "        text= men_bins.astype('int'),\n",
    "        hoverinfo='x',\n",
    "        marker=dict(color=color1),\n",
    "        \n",
    "    ),\n",
    "\n",
    "]\n",
    "fig = go.Figure(data=data, layout=layout)\n",
    "fig.update_layout(template='plotly_white')\n",
    "\n",
    "\n",
    "fig = go.Figure(data=data, layout=layout)\n",
    "fig.update_layout(template='infoviz',showlegend=False)\n",
    "fig.show()\n"
   ]
  },
  {
   "cell_type": "code",
   "execution_count": null,
   "metadata": {},
   "outputs": [
    {
     "data": {
      "application/vnd.plotly.v1+json": {
       "config": {
        "plotlyServerURL": "https://plot.ly"
       },
       "data": [
        {
         "marker": {
          "color": "rgb(136, 204, 238)"
         },
         "name": "Männer",
         "type": "bar",
         "x": [
          2013,
          2014,
          2015,
          2016,
          2017,
          2018,
          2019,
          2020,
          2021,
          2022,
          2023,
          2024
         ],
         "y": {
          "bdata": "dQCMAGMAmgCSAO4BwgCvALsAoABqAFcA",
          "dtype": "i2"
         }
        },
        {
         "marker": {
          "color": "rgb(204, 102, 119)"
         },
         "name": "Frauen",
         "type": "bar",
         "x": [
          2013,
          2014,
          2015,
          2016,
          2017,
          2018,
          2019,
          2020,
          2021,
          2022,
          2023,
          2024
         ],
         "y": {
          "bdata": "2QHmAbUB5AH3AVABnQKBApICMwJvAWAB",
          "dtype": "i2"
         }
        }
       ],
       "layout": {
        "barmode": "group",
        "showlegend": false,
        "template": {
         "layout": {
          "template": {
           "data": {
            "bar": [
             {
              "error_x": {
               "color": "#2a3f5f"
              },
              "error_y": {
               "color": "#2a3f5f"
              },
              "marker": {
               "line": {
                "color": "white",
                "width": 0.5
               },
               "pattern": {
                "fillmode": "overlay",
                "size": 10,
                "solidity": 0.2
               }
              },
              "type": "bar"
             }
            ],
            "barpolar": [
             {
              "marker": {
               "line": {
                "color": "white",
                "width": 0.5
               },
               "pattern": {
                "fillmode": "overlay",
                "size": 10,
                "solidity": 0.2
               }
              },
              "type": "barpolar"
             }
            ],
            "carpet": [
             {
              "aaxis": {
               "endlinecolor": "#2a3f5f",
               "gridcolor": "#C8D4E3",
               "linecolor": "#C8D4E3",
               "minorgridcolor": "#C8D4E3",
               "startlinecolor": "#2a3f5f"
              },
              "baxis": {
               "endlinecolor": "#2a3f5f",
               "gridcolor": "#C8D4E3",
               "linecolor": "#C8D4E3",
               "minorgridcolor": "#C8D4E3",
               "startlinecolor": "#2a3f5f"
              },
              "type": "carpet"
             }
            ],
            "choropleth": [
             {
              "colorbar": {
               "outlinewidth": 0,
               "ticks": ""
              },
              "type": "choropleth"
             }
            ],
            "contour": [
             {
              "colorbar": {
               "outlinewidth": 0,
               "ticks": ""
              },
              "colorscale": [
               [
                0,
                "#0d0887"
               ],
               [
                0.1111111111111111,
                "#46039f"
               ],
               [
                0.2222222222222222,
                "#7201a8"
               ],
               [
                0.3333333333333333,
                "#9c179e"
               ],
               [
                0.4444444444444444,
                "#bd3786"
               ],
               [
                0.5555555555555556,
                "#d8576b"
               ],
               [
                0.6666666666666666,
                "#ed7953"
               ],
               [
                0.7777777777777778,
                "#fb9f3a"
               ],
               [
                0.8888888888888888,
                "#fdca26"
               ],
               [
                1,
                "#f0f921"
               ]
              ],
              "type": "contour"
             }
            ],
            "contourcarpet": [
             {
              "colorbar": {
               "outlinewidth": 0,
               "ticks": ""
              },
              "type": "contourcarpet"
             }
            ],
            "heatmap": [
             {
              "colorbar": {
               "outlinewidth": 0,
               "ticks": ""
              },
              "colorscale": [
               [
                0,
                "#0d0887"
               ],
               [
                0.1111111111111111,
                "#46039f"
               ],
               [
                0.2222222222222222,
                "#7201a8"
               ],
               [
                0.3333333333333333,
                "#9c179e"
               ],
               [
                0.4444444444444444,
                "#bd3786"
               ],
               [
                0.5555555555555556,
                "#d8576b"
               ],
               [
                0.6666666666666666,
                "#ed7953"
               ],
               [
                0.7777777777777778,
                "#fb9f3a"
               ],
               [
                0.8888888888888888,
                "#fdca26"
               ],
               [
                1,
                "#f0f921"
               ]
              ],
              "type": "heatmap"
             }
            ],
            "histogram": [
             {
              "marker": {
               "pattern": {
                "fillmode": "overlay",
                "size": 10,
                "solidity": 0.2
               }
              },
              "type": "histogram"
             }
            ],
            "histogram2d": [
             {
              "colorbar": {
               "outlinewidth": 0,
               "ticks": ""
              },
              "colorscale": [
               [
                0,
                "#0d0887"
               ],
               [
                0.1111111111111111,
                "#46039f"
               ],
               [
                0.2222222222222222,
                "#7201a8"
               ],
               [
                0.3333333333333333,
                "#9c179e"
               ],
               [
                0.4444444444444444,
                "#bd3786"
               ],
               [
                0.5555555555555556,
                "#d8576b"
               ],
               [
                0.6666666666666666,
                "#ed7953"
               ],
               [
                0.7777777777777778,
                "#fb9f3a"
               ],
               [
                0.8888888888888888,
                "#fdca26"
               ],
               [
                1,
                "#f0f921"
               ]
              ],
              "type": "histogram2d"
             }
            ],
            "histogram2dcontour": [
             {
              "colorbar": {
               "outlinewidth": 0,
               "ticks": ""
              },
              "colorscale": [
               [
                0,
                "#0d0887"
               ],
               [
                0.1111111111111111,
                "#46039f"
               ],
               [
                0.2222222222222222,
                "#7201a8"
               ],
               [
                0.3333333333333333,
                "#9c179e"
               ],
               [
                0.4444444444444444,
                "#bd3786"
               ],
               [
                0.5555555555555556,
                "#d8576b"
               ],
               [
                0.6666666666666666,
                "#ed7953"
               ],
               [
                0.7777777777777778,
                "#fb9f3a"
               ],
               [
                0.8888888888888888,
                "#fdca26"
               ],
               [
                1,
                "#f0f921"
               ]
              ],
              "type": "histogram2dcontour"
             }
            ],
            "mesh3d": [
             {
              "colorbar": {
               "outlinewidth": 0,
               "ticks": ""
              },
              "type": "mesh3d"
             }
            ],
            "parcoords": [
             {
              "line": {
               "colorbar": {
                "outlinewidth": 0,
                "ticks": ""
               }
              },
              "type": "parcoords"
             }
            ],
            "pie": [
             {
              "automargin": true,
              "type": "pie"
             }
            ],
            "scatter": [
             {
              "fillpattern": {
               "fillmode": "overlay",
               "size": 10,
               "solidity": 0.2
              },
              "type": "scatter"
             }
            ],
            "scatter3d": [
             {
              "line": {
               "colorbar": {
                "outlinewidth": 0,
                "ticks": ""
               }
              },
              "marker": {
               "colorbar": {
                "outlinewidth": 0,
                "ticks": ""
               }
              },
              "type": "scatter3d"
             }
            ],
            "scattercarpet": [
             {
              "marker": {
               "colorbar": {
                "outlinewidth": 0,
                "ticks": ""
               }
              },
              "type": "scattercarpet"
             }
            ],
            "scattergeo": [
             {
              "marker": {
               "colorbar": {
                "outlinewidth": 0,
                "ticks": ""
               }
              },
              "type": "scattergeo"
             }
            ],
            "scattergl": [
             {
              "marker": {
               "colorbar": {
                "outlinewidth": 0,
                "ticks": ""
               }
              },
              "type": "scattergl"
             }
            ],
            "scattermap": [
             {
              "marker": {
               "colorbar": {
                "outlinewidth": 0,
                "ticks": ""
               }
              },
              "type": "scattermap"
             }
            ],
            "scattermapbox": [
             {
              "marker": {
               "colorbar": {
                "outlinewidth": 0,
                "ticks": ""
               }
              },
              "type": "scattermapbox"
             }
            ],
            "scatterpolar": [
             {
              "marker": {
               "colorbar": {
                "outlinewidth": 0,
                "ticks": ""
               }
              },
              "type": "scatterpolar"
             }
            ],
            "scatterpolargl": [
             {
              "marker": {
               "colorbar": {
                "outlinewidth": 0,
                "ticks": ""
               }
              },
              "type": "scatterpolargl"
             }
            ],
            "scatterternary": [
             {
              "marker": {
               "colorbar": {
                "outlinewidth": 0,
                "ticks": ""
               }
              },
              "type": "scatterternary"
             }
            ],
            "surface": [
             {
              "colorbar": {
               "outlinewidth": 0,
               "ticks": ""
              },
              "colorscale": [
               [
                0,
                "#0d0887"
               ],
               [
                0.1111111111111111,
                "#46039f"
               ],
               [
                0.2222222222222222,
                "#7201a8"
               ],
               [
                0.3333333333333333,
                "#9c179e"
               ],
               [
                0.4444444444444444,
                "#bd3786"
               ],
               [
                0.5555555555555556,
                "#d8576b"
               ],
               [
                0.6666666666666666,
                "#ed7953"
               ],
               [
                0.7777777777777778,
                "#fb9f3a"
               ],
               [
                0.8888888888888888,
                "#fdca26"
               ],
               [
                1,
                "#f0f921"
               ]
              ],
              "type": "surface"
             }
            ],
            "table": [
             {
              "cells": {
               "fill": {
                "color": "#EBF0F8"
               },
               "line": {
                "color": "white"
               }
              },
              "header": {
               "fill": {
                "color": "#C8D4E3"
               },
               "line": {
                "color": "white"
               }
              },
              "type": "table"
             }
            ]
           },
           "layout": {
            "annotationdefaults": {
             "arrowcolor": "#2a3f5f",
             "arrowhead": 0,
             "arrowwidth": 1
            },
            "autotypenumbers": "strict",
            "coloraxis": {
             "colorbar": {
              "outlinewidth": 0,
              "ticks": ""
             }
            },
            "colorscale": {
             "diverging": [
              [
               0,
               "#8e0152"
              ],
              [
               0.1,
               "#c51b7d"
              ],
              [
               0.2,
               "#de77ae"
              ],
              [
               0.3,
               "#f1b6da"
              ],
              [
               0.4,
               "#fde0ef"
              ],
              [
               0.5,
               "#f7f7f7"
              ],
              [
               0.6,
               "#e6f5d0"
              ],
              [
               0.7,
               "#b8e186"
              ],
              [
               0.8,
               "#7fbc41"
              ],
              [
               0.9,
               "#4d9221"
              ],
              [
               1,
               "#276419"
              ]
             ],
             "sequential": [
              [
               0,
               "#0d0887"
              ],
              [
               0.1111111111111111,
               "#46039f"
              ],
              [
               0.2222222222222222,
               "#7201a8"
              ],
              [
               0.3333333333333333,
               "#9c179e"
              ],
              [
               0.4444444444444444,
               "#bd3786"
              ],
              [
               0.5555555555555556,
               "#d8576b"
              ],
              [
               0.6666666666666666,
               "#ed7953"
              ],
              [
               0.7777777777777778,
               "#fb9f3a"
              ],
              [
               0.8888888888888888,
               "#fdca26"
              ],
              [
               1,
               "#f0f921"
              ]
             ],
             "sequentialminus": [
              [
               0,
               "#0d0887"
              ],
              [
               0.1111111111111111,
               "#46039f"
              ],
              [
               0.2222222222222222,
               "#7201a8"
              ],
              [
               0.3333333333333333,
               "#9c179e"
              ],
              [
               0.4444444444444444,
               "#bd3786"
              ],
              [
               0.5555555555555556,
               "#d8576b"
              ],
              [
               0.6666666666666666,
               "#ed7953"
              ],
              [
               0.7777777777777778,
               "#fb9f3a"
              ],
              [
               0.8888888888888888,
               "#fdca26"
              ],
              [
               1,
               "#f0f921"
              ]
             ]
            },
            "colorway": [
             "#636efa",
             "#EF553B",
             "#00cc96",
             "#ab63fa",
             "#FFA15A",
             "#19d3f3",
             "#FF6692",
             "#B6E880",
             "#FF97FF",
             "#FECB52"
            ],
            "font": {
             "color": "#2a3f5f"
            },
            "geo": {
             "bgcolor": "white",
             "lakecolor": "white",
             "landcolor": "white",
             "showlakes": true,
             "showland": true,
             "subunitcolor": "#C8D4E3"
            },
            "hoverlabel": {
             "align": "left"
            },
            "hovermode": "closest",
            "mapbox": {
             "style": "light"
            },
            "paper_bgcolor": "white",
            "plot_bgcolor": "white",
            "polar": {
             "angularaxis": {
              "gridcolor": "#EBF0F8",
              "linecolor": "#EBF0F8",
              "ticks": ""
             },
             "bgcolor": "white",
             "radialaxis": {
              "gridcolor": "#EBF0F8",
              "linecolor": "#EBF0F8",
              "ticks": ""
             }
            },
            "scene": {
             "xaxis": {
              "backgroundcolor": "white",
              "gridcolor": "#DFE8F3",
              "gridwidth": 2,
              "linecolor": "#EBF0F8",
              "showbackground": true,
              "ticks": "",
              "zerolinecolor": "#EBF0F8"
             },
             "yaxis": {
              "backgroundcolor": "white",
              "gridcolor": "#DFE8F3",
              "gridwidth": 2,
              "linecolor": "#EBF0F8",
              "showbackground": true,
              "ticks": "",
              "zerolinecolor": "#EBF0F8"
             },
             "zaxis": {
              "backgroundcolor": "white",
              "gridcolor": "#DFE8F3",
              "gridwidth": 2,
              "linecolor": "#EBF0F8",
              "showbackground": true,
              "ticks": "",
              "zerolinecolor": "#EBF0F8"
             }
            },
            "shapedefaults": {
             "line": {
              "color": "#2a3f5f"
             }
            },
            "ternary": {
             "aaxis": {
              "gridcolor": "#DFE8F3",
              "linecolor": "#A2B1C6",
              "ticks": ""
             },
             "baxis": {
              "gridcolor": "#DFE8F3",
              "linecolor": "#A2B1C6",
              "ticks": ""
             },
             "bgcolor": "white",
             "caxis": {
              "gridcolor": "#DFE8F3",
              "linecolor": "#A2B1C6",
              "ticks": ""
             }
            },
            "title": {
             "x": 0.05
            },
            "xaxis": {
             "automargin": true,
             "gridcolor": "#EBF0F8",
             "linecolor": "#EBF0F8",
             "ticks": "",
             "title": {
              "standoff": 15
             },
             "zerolinecolor": "#EBF0F8",
             "zerolinewidth": 2
            },
            "yaxis": {
             "automargin": true,
             "gridcolor": "#EBF0F8",
             "linecolor": "#EBF0F8",
             "ticks": "",
             "title": {
              "standoff": 15
             },
             "zerolinecolor": "#EBF0F8",
             "zerolinewidth": 2
            }
           }
          },
          "title": {
           "font": {
            "color": "black",
            "family": "Arial",
            "size": 20,
            "weight": "bold"
           },
           "subtitle": {
            "font": {
             "color": "gray",
             "size": 13
            },
            "text": "Absolute Geschlechterverteilung von 2013 bis 2024"
           },
           "x": 0,
           "xanchor": "left",
           "xref": "paper"
          },
          "xaxis": {
           "showgrid": false,
           "tickfont": {
            "color": "grey",
            "size": 12
           },
           "ticklabelposition": "outside bottom",
           "ticklabelstandoff": 10,
           "title": {
            "font": {
             "color": "grey",
             "size": 13,
             "weight": "bold"
            },
            "standoff": 15
           },
           "zerolinecolor": "lightgrey"
          },
          "yaxis": {
           "gridcolor": "lightgrey",
           "showgrid": true,
           "tickfont": {
            "color": "grey",
            "size": 12
           },
           "ticklabelposition": "outside left",
           "ticklabelstandoff": 10,
           "title": {
            "font": {
             "color": "grey",
             "size": 13,
             "weight": "bold"
            },
            "standoff": 15
           },
           "zerolinecolor": "lightgrey"
          }
         }
        },
        "title": {
         "text": "<b>Verteilung von </b><span style='color:#73c6e9;'>männlichen</span> <b> und </b><span style='color:#cc5b6e;'>weiblichen</span> <b> Studierenden im FB09"
        },
        "xaxis": {
         "title": {
          "text": "Jahr"
         }
        },
        "yaxis": {
         "title": {
          "text": "Anzahl Studierende"
         }
        }
       }
      }
     },
     "metadata": {},
     "output_type": "display_data"
    }
   ],
   "source": [
    "years = list(range(2013, 2025, 1))\n",
    "men_counts = df['Männer'] \n",
    "women_counts = df['Frauen']\n",
    "\n",
    "colors = px.colors.qualitative.Safe\n",
    "\n",
    "layout = go.Layout(\n",
    "    xaxis=dict(title='Jahr'),\n",
    "    yaxis=dict(title='Anzahl Studierende'),\n",
    "    barmode='group',\n",
    "    template='infoviz',\n",
    "    title=\"<b>Verteilung von </b><span style='color:#73c6e9;'>männlichen</span> <b> und </b><span style='color:#cc5b6e;'>weiblichen</span> <b> Studierenden im FB09\",\n",
    "    showlegend=False\n",
    ")\n",
    "\n",
    "data = [\n",
    "    go.Bar(\n",
    "        x=years,\n",
    "        y=men_counts,\n",
    "        name='Männer',\n",
    "        marker=dict(color=colors[0]),  \n",
    "    ),\n",
    "    go.Bar(\n",
    "        x=years,\n",
    "        y=women_counts,\n",
    "        name='Frauen',\n",
    "        marker=dict(color=colors[1]),\n",
    "    )\n",
    "]\n",
    "\n",
    "\n",
    "fig = go.Figure(data=data, layout=layout)\n",
    "\n",
    "fig.show()\n"
   ]
  }
 ],
 "metadata": {
  "kernelspec": {
   "display_name": "mein_env",
   "language": "python",
   "name": "python3"
  },
  "language_info": {
   "codemirror_mode": {
    "name": "ipython",
    "version": 3
   },
   "file_extension": ".py",
   "mimetype": "text/x-python",
   "name": "python",
   "nbconvert_exporter": "python",
   "pygments_lexer": "ipython3",
   "version": "3.10.16"
  }
 },
 "nbformat": 4,
 "nbformat_minor": 2
}
